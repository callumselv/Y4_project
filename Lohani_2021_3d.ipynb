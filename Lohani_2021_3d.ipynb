{
  "nbformat": 4,
  "nbformat_minor": 0,
  "metadata": {
    "colab": {
      "provenance": [],
      "gpuType": "T4",
      "authorship_tag": "ABX9TyN63UJq2jDQQBW6PKZ/0RDM",
      "include_colab_link": true
    },
    "kernelspec": {
      "name": "python3",
      "display_name": "Python 3"
    },
    "language_info": {
      "name": "python"
    },
    "accelerator": "GPU"
  },
  "cells": [
    {
      "cell_type": "markdown",
      "metadata": {
        "id": "view-in-github",
        "colab_type": "text"
      },
      "source": [
        "<a href=\"https://colab.research.google.com/github/callumselv/Y4_project/blob/main/Lohani_2021_3d.ipynb\" target=\"_parent\"><img src=\"https://colab.research.google.com/assets/colab-badge.svg\" alt=\"Open In Colab\"/></a>"
      ]
    },
    {
      "cell_type": "code",
      "execution_count": 1,
      "metadata": {
        "colab": {
          "base_uri": "https://localhost:8080/"
        },
        "id": "auA_a6z_3c8h",
        "outputId": "cfc3882a-ee2a-464b-aae9-7fba4b2643b6"
      },
      "outputs": [
        {
          "output_type": "stream",
          "name": "stdout",
          "text": [
            "Collecting qutip\n",
            "  Downloading qutip-5.0.4-cp310-cp310-manylinux_2_17_x86_64.manylinux2014_x86_64.whl.metadata (9.2 kB)\n",
            "Requirement already satisfied: numpy>=1.22 in /usr/local/lib/python3.10/dist-packages (from qutip) (1.26.4)\n",
            "Requirement already satisfied: scipy>=1.9 in /usr/local/lib/python3.10/dist-packages (from qutip) (1.13.1)\n",
            "Requirement already satisfied: packaging in /usr/local/lib/python3.10/dist-packages (from qutip) (24.2)\n",
            "Downloading qutip-5.0.4-cp310-cp310-manylinux_2_17_x86_64.manylinux2014_x86_64.whl (28.0 MB)\n",
            "\u001b[2K   \u001b[90m━━━━━━━━━━━━━━━━━━━━━━━━━━━━━━━━━━━━━━━━\u001b[0m \u001b[32m28.0/28.0 MB\u001b[0m \u001b[31m38.4 MB/s\u001b[0m eta \u001b[36m0:00:00\u001b[0m\n",
            "\u001b[?25hInstalling collected packages: qutip\n",
            "Successfully installed qutip-5.0.4\n"
          ]
        }
      ],
      "source": [
        "!pip install qutip"
      ]
    },
    {
      "cell_type": "code",
      "source": [
        "import numpy as np\n",
        "from qutip import *\n",
        "import tensorflow as tf\n",
        "from tensorflow.keras.models import Sequential\n",
        "from tensorflow.keras.layers import Conv2D, MaxPooling2D, Flatten, Dense, Dropout\n",
        "import matplotlib.pyplot as plt\n",
        "from scipy.stats import unitary_group"
      ],
      "metadata": {
        "id": "hwyCpc1z3yiO"
      },
      "execution_count": 2,
      "outputs": []
    },
    {
      "cell_type": "code",
      "source": [
        "no_data = 30000\n",
        "d = 3\n",
        "dimension = 2**d"
      ],
      "metadata": {
        "id": "ye_v83js4iaH"
      },
      "execution_count": 3,
      "outputs": []
    },
    {
      "cell_type": "code",
      "source": [
        "# Generate rho matrices\n",
        "\n",
        "rhos = np.zeros((no_data,dimension,dimension),dtype=complex)\n",
        "eta = 1e-7\n",
        "\n",
        "for i in range(no_data):\n",
        "    random_unitary = unitary_group.rvs(dimension)\n",
        "    coeffs = random_unitary[:,0]\n",
        "    rho = np.outer(coeffs,coeffs.conj())\n",
        "    rhos[i] = (1-eta)*rho + (eta/4)*np.eye(dimension)"
      ],
      "metadata": {
        "id": "ZPjpperK4Ky4"
      },
      "execution_count": null,
      "outputs": []
    },
    {
      "cell_type": "code",
      "source": [
        "# Generate rho matrices\n",
        "\n",
        "rhos = np.zeros((no_data,dimension,dimension),dtype=complex)\n",
        "eta = 1e-7\n",
        "\n",
        "for i in range(no_data):\n",
        "    random_unitary = unitary_group.rvs(dimension)\n",
        "    coeffs = random_unitary[:,0]\n",
        "    rho = np.outer(coeffs,coeffs.conj())\n",
        "    rhos[i] = (1-eta)*rho + (eta/4)*np.eye(dimension)\n",
        "\n",
        "cholesky_decompositions = np.array([np.linalg.cholesky(rho) for rho in rhos])"
      ],
      "metadata": {
        "id": "DUJ_hdgcnydy"
      },
      "execution_count": null,
      "outputs": []
    },
    {
      "cell_type": "code",
      "source": [
        "cholesky_decompositions = np.array([np.linalg.cholesky(rho) for rho in rhos])"
      ],
      "metadata": {
        "id": "Nid0Qfqy4qyO"
      },
      "execution_count": null,
      "outputs": []
    },
    {
      "cell_type": "code",
      "source": [
        "def gen_rhos_chos(no_data, d):\n",
        "    dimension = 2**d\n",
        "    rhos = np.zeros((no_data,dimension,dimension),dtype=complex)\n",
        "\n",
        "    eta = 1e-7\n",
        "\n",
        "    # Generate random density matrices with eta adjustment to avoid issues in Cholesky decomposition\n",
        "    for i in range(no_data):\n",
        "        random_unitary = unitary_group.rvs(dimension)\n",
        "        coeffs = random_unitary[:,0]\n",
        "        rho = np.outer(coeffs,coeffs.conj())\n",
        "        rhos[i] = (1-eta)*rho + (eta/4)*np.eye(dimension)\n",
        "\n",
        "    # Calculate Cholesky decomposition of density matrices\n",
        "    cholesky_decompositions = np.array([np.linalg.cholesky(rho) for rho in rhos])\n",
        "\n",
        "    return rhos,cholesky_decompositions"
      ],
      "metadata": {
        "id": "5e7saUyXPYKs"
      },
      "execution_count": 4,
      "outputs": []
    },
    {
      "cell_type": "code",
      "source": [
        "for i in cholesky_decompositions[11000]:\n",
        "    print(i)"
      ],
      "metadata": {
        "colab": {
          "base_uri": "https://localhost:8080/"
        },
        "id": "cA6iR7MGJfiM",
        "outputId": "44606294-b652-44f9-f32c-c9d13a90dd84"
      },
      "execution_count": null,
      "outputs": [
        {
          "output_type": "stream",
          "name": "stdout",
          "text": [
            "[0.7367341+0.j 0.       +0.j 0.       +0.j 0.       +0.j]\n",
            "[3.22038541e-01+0.36353001j 1.89377159e-04+0.j\n",
            " 0.00000000e+00+0.j         0.00000000e+00+0.j        ]\n",
            "[2.73129519e-01-1.21787911e-01j 1.06247803e-05-3.36880370e-05j\n",
            " 1.66947350e-04+0.00000000e+00j 0.00000000e+00+0.00000000e+00j]\n",
            "[ 1.19477978e-01-3.43005622e-01j -2.09691287e-05-3.74295840e-05j\n",
            "  1.43099125e-05-1.52190244e-05j  1.69704006e-04+0.00000000e+00j]\n"
          ]
        }
      ]
    },
    {
      "cell_type": "code",
      "source": [
        "all_taus = np.zeros((no_data, dimension**2))\n",
        "for no in range(no_data):\n",
        "    for cholesky in cholesky_decompositions:\n",
        "        extracted_values = []\n",
        "        for i in range(cholesky.shape[0]):\n",
        "            extracted_values.append(cholesky[i, i].real)\n",
        "\n",
        "        primary_indices = [(1, 0), (2, 1), (3, 2)]\n",
        "        for i, j in primary_indices:\n",
        "            extracted_values.append(cholesky[i, j].real)\n",
        "            extracted_values.append(cholesky[i, j].imag)\n",
        "\n",
        "        secondary_indices = [(2, 0), (3, 1), (3, 0)]\n",
        "        for i, j in secondary_indices:\n",
        "            extracted_values.append(cholesky[i, j].real)\n",
        "            extracted_values.append(cholesky[i, j].imag)\n",
        "    all_taus[no] = np.array(extracted_values)\n"
      ],
      "metadata": {
        "colab": {
          "base_uri": "https://localhost:8080/",
          "height": 216
        },
        "id": "zL9DQnZX4yAQ",
        "outputId": "3811cc67-626d-4632-8976-b3a188b23a95"
      },
      "execution_count": null,
      "outputs": [
        {
          "output_type": "error",
          "ename": "KeyboardInterrupt",
          "evalue": "",
          "traceback": [
            "\u001b[0;31m---------------------------------------------------------------------------\u001b[0m",
            "\u001b[0;31mKeyboardInterrupt\u001b[0m                         Traceback (most recent call last)",
            "\u001b[0;32m<ipython-input-9-08f98fcbe752>\u001b[0m in \u001b[0;36m<cell line: 2>\u001b[0;34m()\u001b[0m\n\u001b[1;32m      9\u001b[0m         \u001b[0;32mfor\u001b[0m \u001b[0mi\u001b[0m\u001b[0;34m,\u001b[0m \u001b[0mj\u001b[0m \u001b[0;32min\u001b[0m \u001b[0mprimary_indices\u001b[0m\u001b[0;34m:\u001b[0m\u001b[0;34m\u001b[0m\u001b[0;34m\u001b[0m\u001b[0m\n\u001b[1;32m     10\u001b[0m             \u001b[0mextracted_values\u001b[0m\u001b[0;34m.\u001b[0m\u001b[0mappend\u001b[0m\u001b[0;34m(\u001b[0m\u001b[0mcholesky\u001b[0m\u001b[0;34m[\u001b[0m\u001b[0mi\u001b[0m\u001b[0;34m,\u001b[0m \u001b[0mj\u001b[0m\u001b[0;34m]\u001b[0m\u001b[0;34m.\u001b[0m\u001b[0mreal\u001b[0m\u001b[0;34m)\u001b[0m\u001b[0;34m\u001b[0m\u001b[0;34m\u001b[0m\u001b[0m\n\u001b[0;32m---> 11\u001b[0;31m             \u001b[0mextracted_values\u001b[0m\u001b[0;34m.\u001b[0m\u001b[0mappend\u001b[0m\u001b[0;34m(\u001b[0m\u001b[0mcholesky\u001b[0m\u001b[0;34m[\u001b[0m\u001b[0mi\u001b[0m\u001b[0;34m,\u001b[0m \u001b[0mj\u001b[0m\u001b[0;34m]\u001b[0m\u001b[0;34m.\u001b[0m\u001b[0mimag\u001b[0m\u001b[0;34m)\u001b[0m\u001b[0;34m\u001b[0m\u001b[0;34m\u001b[0m\u001b[0m\n\u001b[0m\u001b[1;32m     12\u001b[0m \u001b[0;34m\u001b[0m\u001b[0m\n\u001b[1;32m     13\u001b[0m         \u001b[0msecondary_indices\u001b[0m \u001b[0;34m=\u001b[0m \u001b[0;34m[\u001b[0m\u001b[0;34m(\u001b[0m\u001b[0;36m2\u001b[0m\u001b[0;34m,\u001b[0m \u001b[0;36m0\u001b[0m\u001b[0;34m)\u001b[0m\u001b[0;34m,\u001b[0m \u001b[0;34m(\u001b[0m\u001b[0;36m3\u001b[0m\u001b[0;34m,\u001b[0m \u001b[0;36m1\u001b[0m\u001b[0;34m)\u001b[0m\u001b[0;34m,\u001b[0m \u001b[0;34m(\u001b[0m\u001b[0;36m3\u001b[0m\u001b[0;34m,\u001b[0m \u001b[0;36m0\u001b[0m\u001b[0;34m)\u001b[0m\u001b[0;34m]\u001b[0m\u001b[0;34m\u001b[0m\u001b[0;34m\u001b[0m\u001b[0m\n",
            "\u001b[0;31mKeyboardInterrupt\u001b[0m: "
          ]
        }
      ]
    },
    {
      "cell_type": "code",
      "source": [
        "cholesky_decompositions.shape"
      ],
      "metadata": {
        "colab": {
          "base_uri": "https://localhost:8080/"
        },
        "id": "uPTnOgyHJKK3",
        "outputId": "1001efa2-e780-46c8-f889-55305f66c8f4"
      },
      "execution_count": null,
      "outputs": [
        {
          "output_type": "execute_result",
          "data": {
            "text/plain": [
              "(10000, 4, 4)"
            ]
          },
          "metadata": {},
          "execution_count": 58
        }
      ]
    },
    {
      "cell_type": "code",
      "source": [
        "indices = np.zeros()\n",
        "\n",
        "primary_indices = [(i, i - 1) for i in range(1, d**2)]\n",
        "secondary_indices = [(i, i - 2) for i in range(2, d**2)]\n",
        "secondary_indices = [(i, i - 2) for i in range(2, d**2)]\n",
        "print(primary_indices, secondary_indices)\n"
      ],
      "metadata": {
        "colab": {
          "base_uri": "https://localhost:8080/"
        },
        "id": "Q4gyY1_nRcNe",
        "outputId": "6a5f8c95-4617-40c4-d41a-30fa92f3aa10"
      },
      "execution_count": null,
      "outputs": [
        {
          "output_type": "stream",
          "name": "stdout",
          "text": [
            "[(1, 0), (2, 1), (3, 2)] [(2, 0), (3, 1)]\n"
          ]
        }
      ]
    },
    {
      "cell_type": "code",
      "source": [
        "def generate_index_pairs(d):\n",
        "    dimension = 2**d\n",
        "    index_num = int(dimension*(dimension-1)/2)\n",
        "    pairs = np.zeros((index_num,2), dtype=int)\n",
        "    index=0\n",
        "    for diff in range(1, dimension):\n",
        "        for i in range(diff, dimension):\n",
        "            j = i - diff\n",
        "            pairs[index] = (i, j)\n",
        "            index+=1\n",
        "\n",
        "    return pairs"
      ],
      "metadata": {
        "id": "wbt1qUSYFhhS"
      },
      "execution_count": 20,
      "outputs": []
    },
    {
      "cell_type": "code",
      "source": [
        "ind = generate_index_pairs(d)\n",
        "ind"
      ],
      "metadata": {
        "colab": {
          "base_uri": "https://localhost:8080/"
        },
        "id": "ueZJAQbORwuY",
        "outputId": "276abf35-85f4-425c-cd59-4d96678f7428"
      },
      "execution_count": 21,
      "outputs": [
        {
          "output_type": "execute_result",
          "data": {
            "text/plain": [
              "array([[1, 0],\n",
              "       [2, 1],\n",
              "       [3, 2],\n",
              "       [4, 3],\n",
              "       [5, 4],\n",
              "       [6, 5],\n",
              "       [7, 6],\n",
              "       [2, 0],\n",
              "       [3, 1],\n",
              "       [4, 2],\n",
              "       [5, 3],\n",
              "       [6, 4],\n",
              "       [7, 5],\n",
              "       [3, 0],\n",
              "       [4, 1],\n",
              "       [5, 2],\n",
              "       [6, 3],\n",
              "       [7, 4],\n",
              "       [4, 0],\n",
              "       [5, 1],\n",
              "       [6, 2],\n",
              "       [7, 3],\n",
              "       [5, 0],\n",
              "       [6, 1],\n",
              "       [7, 2],\n",
              "       [6, 0],\n",
              "       [7, 1],\n",
              "       [7, 0]])"
            ]
          },
          "metadata": {},
          "execution_count": 21
        }
      ]
    },
    {
      "cell_type": "code",
      "source": [
        "def gen_taus(no_data, d):\n",
        "    rhos, cholesky_decompositions = gen_rhos_chos(no_data, d)\n",
        "\n",
        "    dimension = 2**d\n",
        "    tau_size = dimension**2\n",
        "\n",
        "    all_taus = np.zeros((no_data, tau_size))\n",
        "    indices = generate_index_pairs(d)\n",
        "\n",
        "    for no in range(no_data):\n",
        "        cholesky = cholesky_decompositions[no]\n",
        "        extracted_values = np.zeros(tau_size)\n",
        "\n",
        "        index=0\n",
        "        for i in range(cholesky.shape[0]):\n",
        "            extracted_values[i] = cholesky[i, i].real\n",
        "\n",
        "        index = cholesky.shape[0]\n",
        "        for i, j in indices:\n",
        "            extracted_values[index] = cholesky[i, j].real\n",
        "            extracted_values[index + 1] = cholesky[i, j].imag\n",
        "            index += 2\n",
        "\n",
        "        all_taus[no] = extracted_values\n",
        "\n",
        "    return all_taus"
      ],
      "metadata": {
        "id": "chiO1zG3RQeT"
      },
      "execution_count": 22,
      "outputs": []
    },
    {
      "cell_type": "code",
      "source": [
        "tau1 = gen_taus(1,d)\n",
        "tau1.shape"
      ],
      "metadata": {
        "colab": {
          "base_uri": "https://localhost:8080/"
        },
        "id": "1CzZPCgt_8YE",
        "outputId": "7a885aaa-2a43-4593-e5b3-d279c609f7bc"
      },
      "execution_count": 24,
      "outputs": [
        {
          "output_type": "execute_result",
          "data": {
            "text/plain": [
              "(1, 64)"
            ]
          },
          "metadata": {},
          "execution_count": 24
        }
      ]
    },
    {
      "cell_type": "code",
      "source": [
        "def gen_nvals_taus_rhos(no_data, d):\n",
        "    rhos, cholesky_decompositions = gen_rhos_chos(no_data, d)\n",
        "\n",
        "    dimension = 2**d\n",
        "    tau_size = dimension**2\n",
        "\n",
        "    all_taus = np.zeros((no_data, tau_size))\n",
        "    indices = generate_index_pairs(d)\n",
        "\n",
        "    for no in range(no_data):\n",
        "        cholesky = cholesky_decompositions[no]\n",
        "        extracted_values = np.zeros(tau_size)\n",
        "\n",
        "        index_tau=0\n",
        "        for i in range(cholesky.shape[0]):\n",
        "            extracted_values[i] = cholesky[i, i].real\n",
        "\n",
        "        index_tau = cholesky.shape[0]\n",
        "        for i, j in indices:\n",
        "            extracted_values[index_tau] = cholesky[i, j].real\n",
        "            extracted_values[index_tau + 1] = cholesky[i, j].imag\n",
        "            index_tau += 2\n",
        "\n",
        "        all_taus[no] = extracted_values\n",
        "\n",
        "    nvals = np.zeros((no_data,6**d))\n",
        "\n",
        "    for i1,rho in enumerate(rhos):\n",
        "      for index,proj in enumerate(pauli_3d):\n",
        "          nvals[i1,index] = np.trace(rho@proj)\n",
        "\n",
        "    return nvals, all_taus, rhos"
      ],
      "metadata": {
        "id": "yNpTKqW0Iztz"
      },
      "execution_count": 34,
      "outputs": []
    },
    {
      "cell_type": "code",
      "source": [
        "tau_train = gen_taus(no_data, d)"
      ],
      "metadata": {
        "id": "60dEOCYaGeXl"
      },
      "execution_count": null,
      "outputs": []
    },
    {
      "cell_type": "code",
      "source": [
        "2**(2*d)"
      ],
      "metadata": {
        "colab": {
          "base_uri": "https://localhost:8080/"
        },
        "id": "u9NWh3rGGyhF",
        "outputId": "2d24804d-a225-4a49-a443-912de4447f7b"
      },
      "execution_count": null,
      "outputs": [
        {
          "output_type": "execute_result",
          "data": {
            "text/plain": [
              "16"
            ]
          },
          "metadata": {},
          "execution_count": 25
        }
      ]
    },
    {
      "cell_type": "code",
      "source": [
        "tau_train[np.random.randint(no_data)]"
      ],
      "metadata": {
        "colab": {
          "base_uri": "https://localhost:8080/"
        },
        "id": "GnEGZxoOG9QF",
        "outputId": "ea6038de-54f2-4399-89f9-c238055974e5"
      },
      "execution_count": null,
      "outputs": [
        {
          "output_type": "execute_result",
          "data": {
            "text/plain": [
              "array([ 7.47908073e-02,  6.91677910e-04,  1.91193049e-04,  3.99655479e-04,\n",
              "        2.62928813e-01, -1.79774284e-01, -7.71304588e-05,  4.51239282e-04,\n",
              "        2.04081742e-04, -1.43593635e-04,  9.28119769e-02,  2.02140389e-01,\n",
              "        8.11682687e-04,  1.70703853e-03,  7.93698664e-01,  4.62081262e-01])"
            ]
          },
          "metadata": {},
          "execution_count": 20
        }
      ]
    },
    {
      "cell_type": "code",
      "source": [
        "tau_size = dimension**2\n",
        "all_taus = np.zeros((no_data, tau_size))\n",
        "\n",
        "primary_indices = [(1, 0), (2, 1), (3, 2)]\n",
        "secondary_indices = [(2, 0), (3, 1), (3, 0)]\n",
        "\n",
        "for no in range(no_data):\n",
        "    cholesky = cholesky_decompositions[no]\n",
        "    extracted_values = np.zeros(tau_size)\n",
        "\n",
        "    for i in range(cholesky.shape[0]):\n",
        "        extracted_values[i] = cholesky[i, i].real\n",
        "\n",
        "    index = cholesky.shape[0]\n",
        "    for i, j in ind:\n",
        "        extracted_values[index] = cholesky[i, j].real\n",
        "        extracted_values[index + 1] = cholesky[i, j].imag\n",
        "        index += 2\n",
        "\n",
        "    all_taus[no] = extracted_values\n"
      ],
      "metadata": {
        "id": "5PAxigIdIFay"
      },
      "execution_count": null,
      "outputs": []
    },
    {
      "cell_type": "code",
      "source": [
        "# Generate rho matrices\n",
        "\n",
        "rhos = np.zeros((no_data,dimension,dimension),dtype=complex)\n",
        "eta = 1e-7\n",
        "\n",
        "for i in range(no_data):\n",
        "    random_unitary = unitary_group.rvs(dimension)\n",
        "    coeffs = random_unitary[:,0]\n",
        "    rho = np.outer(coeffs,coeffs.conj())\n",
        "    rhos[i] = (1-eta)*rho + (eta/4)*np.eye(dimension)\n",
        "\n",
        "cholesky_decompositions = np.array([np.linalg.cholesky(rho) for rho in rhos])\n",
        "\n",
        "tau_size = dimension**2\n",
        "all_taus = np.zeros((no_data, tau_size))\n",
        "\n",
        "primary_indices = [(1, 0), (2, 1), (3, 2)]\n",
        "secondary_indices = [(2, 0), (3, 1), (3, 0)]\n",
        "\n",
        "for no in range(no_data):\n",
        "    cholesky = cholesky_decompositions[no]\n",
        "    extracted_values = np.zeros(tau_size)\n",
        "\n",
        "    for i in range(cholesky.shape[0]):\n",
        "        extracted_values[i] = cholesky[i, i].real\n",
        "\n",
        "    index = cholesky.shape[0]\n",
        "    for i, j in ind:\n",
        "        extracted_values[index] = cholesky[i, j].real\n",
        "        extracted_values[index + 1] = cholesky[i, j].imag\n",
        "        index += 2\n",
        "\n",
        "    all_taus[no] = extracted_values\n"
      ],
      "metadata": {
        "id": "k_XlNTAQn43Q"
      },
      "execution_count": null,
      "outputs": []
    },
    {
      "cell_type": "code",
      "source": [
        "# Make 6^d projectors of Pauli {X,Y,Z} operators\n",
        "\n",
        "paulis = [sigmax(),sigmay(),sigmaz()]\n",
        "evectors = np.zeros((6,2,1),dtype=complex)\n",
        "\n",
        "i=0\n",
        "for pauli in paulis:\n",
        "    vals, vecs = pauli.eigenstates()\n",
        "    evectors[i] = vecs[0][:]\n",
        "    evectors[i+1] = vecs[1][:]\n",
        "    i += 2\n",
        "\n",
        "projectors = np.zeros((6,2,2), dtype=complex)\n",
        "\n",
        "for i, vectors in enumerate(evectors):\n",
        "    projectors[i] = np.outer(vectors,vectors.conj())"
      ],
      "metadata": {
        "id": "mEf_FpAyIKr3"
      },
      "execution_count": 26,
      "outputs": []
    },
    {
      "cell_type": "code",
      "source": [
        "pauli_2d = np.zeros((6**2,4,4), dtype=complex)\n",
        "\n",
        "index=0\n",
        "for i in projectors:\n",
        "    for j in projectors:\n",
        "        pauli_2d[index] = np.kron(i,j)\n",
        "        index += 1"
      ],
      "metadata": {
        "id": "07XLosP6E5KO"
      },
      "execution_count": 27,
      "outputs": []
    },
    {
      "cell_type": "code",
      "source": [
        "np.kron(np.kron(projectors[0],projectors[0]),projectors[0]).shape"
      ],
      "metadata": {
        "colab": {
          "base_uri": "https://localhost:8080/"
        },
        "id": "hRy3M8xQFRT4",
        "outputId": "9e4abfef-d14e-4670-b402-f4815f892370"
      },
      "execution_count": null,
      "outputs": [
        {
          "output_type": "execute_result",
          "data": {
            "text/plain": [
              "(8, 8)"
            ]
          },
          "metadata": {},
          "execution_count": 13
        }
      ]
    },
    {
      "cell_type": "code",
      "source": [
        "pauli_3d = np.zeros((6**3,2**3,2**3), dtype=complex)\n",
        "\n",
        "index=0\n",
        "for i in pauli_2d:\n",
        "    for j in projectors:\n",
        "        pauli_3d[index] = np.kron(i,j)\n",
        "        index += 1"
      ],
      "metadata": {
        "id": "GCG-UakJE8TT"
      },
      "execution_count": 28,
      "outputs": []
    },
    {
      "cell_type": "code",
      "source": [
        "nvals = np.zeros((no_data,6**2))\n",
        "\n",
        "for i1,rho in enumerate(rhos):\n",
        "  for index,proj in enumerate(pauli_2d):\n",
        "      nvals[i1,index] = np.trace(rho@proj)"
      ],
      "metadata": {
        "colab": {
          "base_uri": "https://localhost:8080/"
        },
        "id": "Ux9t3Vc1ICAP",
        "outputId": "132f1df0-2403-4dbd-9f7e-2659dcffa0bd"
      },
      "execution_count": null,
      "outputs": [
        {
          "output_type": "stream",
          "name": "stderr",
          "text": [
            "<ipython-input-16-09091a42e478>:5: ComplexWarning: Casting complex values to real discards the imaginary part\n",
            "  nvals[i1,index] = np.trace(rho@proj)\n"
          ]
        }
      ]
    },
    {
      "cell_type": "code",
      "source": [
        "# Generate rho matrices\n",
        "\n",
        "rhos = np.zeros((no_data,dimension,dimension),dtype=complex)\n",
        "eta = 1e-7\n",
        "\n",
        "for i in range(no_data):\n",
        "    random_unitary = unitary_group.rvs(dimension)\n",
        "    coeffs = random_unitary[:,0]\n",
        "    rho = np.outer(coeffs,coeffs.conj())\n",
        "    rhos[i] = (1-eta)*rho + (eta/4)*np.eye(dimension)\n",
        "\n",
        "cholesky_decompositions = np.array([np.linalg.cholesky(rho) for rho in rhos])\n",
        "\n",
        "tau_size = dimension**2\n",
        "all_taus = np.zeros((no_data, tau_size))\n",
        "\n",
        "primary_indices = [(1, 0), (2, 1), (3, 2)]\n",
        "secondary_indices = [(2, 0), (3, 1), (3, 0)]\n",
        "\n",
        "for no in range(no_data):\n",
        "    cholesky = cholesky_decompositions[no]\n",
        "    extracted_values = np.zeros(tau_size)\n",
        "\n",
        "    for i in range(cholesky.shape[0]):\n",
        "        extracted_values[i] = cholesky[i, i].real\n",
        "\n",
        "    index = cholesky.shape[0]\n",
        "    for i, j in ind:\n",
        "        extracted_values[index] = cholesky[i, j].real\n",
        "        extracted_values[index + 1] = cholesky[i, j].imag\n",
        "        index += 2\n",
        "\n",
        "    all_taus[no] = extracted_values\n",
        "\n",
        "nvals = np.zeros((no_data,6**2))\n",
        "\n",
        "for i1,rho in enumerate(rhos):\n",
        "  for index,proj in enumerate(pauli_2d):\n",
        "      nvals[i1,index] = np.trace(rho@proj)"
      ],
      "metadata": {
        "id": "WIDLQn-toA68"
      },
      "execution_count": null,
      "outputs": []
    },
    {
      "cell_type": "code",
      "source": [
        "dimension"
      ],
      "metadata": {
        "colab": {
          "base_uri": "https://localhost:8080/"
        },
        "id": "dFbMo1_HFJjr",
        "outputId": "51b2d19a-a741-44e7-caad-5c25fe355612"
      },
      "execution_count": 49,
      "outputs": [
        {
          "output_type": "execute_result",
          "data": {
            "text/plain": [
              "8"
            ]
          },
          "metadata": {},
          "execution_count": 49
        }
      ]
    },
    {
      "cell_type": "code",
      "source": [
        "def reconstruct_matrix_nn(taus):\n",
        "    matrix = np.zeros((dimension, dimension), dtype=np.complex_)\n",
        "\n",
        "    index = 0\n",
        "    for i in range(dimension):\n",
        "        matrix[i, i] = taus[index]\n",
        "        index += 1\n",
        "\n",
        "    indices = generate_index_pairs(d)\n",
        "\n",
        "    for i, j in indices:\n",
        "        real_part = taus[index]\n",
        "        imag_part = taus[index + 1]\n",
        "        matrix[i, j] = real_part + 1j * imag_part\n",
        "        index += 2\n",
        "\n",
        "    rho = matrix@(matrix.conj().T)\n",
        "    rho = rho/np.trace(rho)\n",
        "\n",
        "    return rho"
      ],
      "metadata": {
        "id": "JxAF5-Wg47FU"
      },
      "execution_count": 50,
      "outputs": []
    },
    {
      "cell_type": "code",
      "source": [
        "def reconstruct_matrix_t(taus):\n",
        "    matrix = np.zeros((dimension, dimension), dtype=np.complex_)\n",
        "\n",
        "    index = 0\n",
        "    for i in range(dimension):\n",
        "        matrix[i, i] = taus[index]\n",
        "        index += 1\n",
        "\n",
        "    indices = generate_index_pairs(d)\n",
        "\n",
        "    for i, j in indices:\n",
        "        real_part = taus[index]\n",
        "        imag_part = taus[index + 1]\n",
        "        matrix[i, j] = real_part + 1j * imag_part\n",
        "        index += 2\n",
        "\n",
        "    rho = matrix@(matrix.conj().T)\n",
        "\n",
        "    return rho"
      ],
      "metadata": {
        "id": "9JBaRHyISFR3"
      },
      "execution_count": 51,
      "outputs": []
    },
    {
      "cell_type": "code",
      "source": [
        "((rho[0])@pauli_2d).shape"
      ],
      "metadata": {
        "colab": {
          "base_uri": "https://localhost:8080/"
        },
        "id": "6xiLXIs5L5lP",
        "outputId": "cf05a8f7-7353-4f77-c50a-17f0ef2d7d6f"
      },
      "execution_count": null,
      "outputs": [
        {
          "output_type": "execute_result",
          "data": {
            "text/plain": [
              "(36, 4)"
            ]
          },
          "metadata": {},
          "execution_count": 46
        }
      ]
    },
    {
      "cell_type": "code",
      "source": [
        "nvals = np.zeros((no_data,6**2))\n",
        "\n",
        "for i1,rho in enumerate(rhos):\n",
        "  for index,proj in enumerate(pauli_2d):\n",
        "      nvals[i1,index] = np.trace(rho@proj)"
      ],
      "metadata": {
        "colab": {
          "base_uri": "https://localhost:8080/"
        },
        "id": "tq79GgNQ5Y7o",
        "outputId": "cf94e589-71de-486d-e630-08344425cc11"
      },
      "execution_count": null,
      "outputs": [
        {
          "output_type": "stream",
          "name": "stderr",
          "text": [
            "<ipython-input-47-09091a42e478>:5: ComplexWarning: Casting complex values to real discards the imaginary part\n",
            "  nvals[i1,index] = np.trace(rho@proj)\n"
          ]
        }
      ]
    },
    {
      "cell_type": "code",
      "source": [
        "# Generate rho matrices\n",
        "no_data = 30000\n",
        "\n",
        "rhos = np.zeros((no_data,dimension,dimension),dtype=complex)\n",
        "eta = 1e-7\n",
        "\n",
        "for i in range(no_data):\n",
        "    random_unitary = unitary_group.rvs(dimension)\n",
        "    coeffs = random_unitary[:,0]\n",
        "    rho = np.outer(coeffs,coeffs.conj())\n",
        "    rhos[i] = (1-eta)*rho + (eta/4)*np.eye(dimension)\n",
        "\n",
        "cholesky_decompositions = np.array([np.linalg.cholesky(rho) for rho in rhos])\n",
        "\n",
        "tau_size = dimension**2\n",
        "all_taus = np.zeros((no_data, tau_size))\n",
        "\n",
        "for no in range(no_data):\n",
        "    cholesky = cholesky_decompositions[no]\n",
        "    extracted_values = np.zeros(tau_size)\n",
        "\n",
        "    for i in range(cholesky.shape[0]):\n",
        "        extracted_values[i] = cholesky[i, i].real\n",
        "\n",
        "    index = cholesky.shape[0]\n",
        "    for i, j in ind:\n",
        "        extracted_values[index] = cholesky[i, j].real\n",
        "        extracted_values[index + 1] = cholesky[i, j].imag\n",
        "        index += 2\n",
        "\n",
        "    all_taus[no] = extracted_values\n",
        "\n",
        "nvals = np.zeros((no_data,6**2))\n",
        "\n",
        "for i1,rho in enumerate(rhos):\n",
        "  for index,proj in enumerate(pauli_2d):\n",
        "      nvals[i1,index] = np.trace(rho@proj)\n",
        "\n",
        "n_min = np.min(nvals)\n",
        "n_max = np.max(nvals)\n",
        "\n",
        "nvals = (nvals - np.min(nvals)) / (np.max(nvals) - np.min(nvals))"
      ],
      "metadata": {
        "colab": {
          "base_uri": "https://localhost:8080/"
        },
        "id": "Vm-TGRA0pyYC",
        "outputId": "9366f2b0-6edc-484f-c6f1-777ebb21e8b1"
      },
      "execution_count": null,
      "outputs": [
        {
          "output_type": "stream",
          "name": "stderr",
          "text": [
            "<ipython-input-35-dc5d83edfd35>:37: ComplexWarning: Casting complex values to real discards the imaginary part\n",
            "  nvals[i1,index] = np.trace(rho@proj)\n"
          ]
        }
      ]
    },
    {
      "cell_type": "code",
      "source": [
        "dense1 = 2500\n",
        "dense2 = 1000"
      ],
      "metadata": {
        "id": "vwe_3qyCA3Ta"
      },
      "execution_count": 32,
      "outputs": []
    },
    {
      "cell_type": "code",
      "source": [
        "def build_cnn_model():\n",
        "    model = Sequential()\n",
        "\n",
        "    model.add(tf.keras.layers.Reshape((6, 36, 1), input_shape=(216,)))\n",
        "\n",
        "    model.add(Conv2D(filters=25, kernel_size=(2, 2), strides=1, activation='relu'))\n",
        "    model.add(MaxPooling2D(pool_size=(2, 2)))\n",
        "\n",
        "    model.add(Conv2D(filters=25, kernel_size=(2, 2), strides=1, activation='relu'))\n",
        "\n",
        "    model.add(Flatten())\n",
        "\n",
        "    model.add(Dense(dense1, activation='relu'))\n",
        "\n",
        "    model.add(Dense(dense2, activation='relu'))\n",
        "\n",
        "    model.add(Dense(2**(2*d), activation='linear'))\n",
        "\n",
        "    return model\n",
        "\n",
        "model = build_cnn_model()\n",
        "\n",
        "model.compile(\n",
        "    optimizer=tf.keras.optimizers.Adagrad(learning_rate=0.005),\n",
        "    loss='mean_squared_error',\n",
        "    metrics=['mean_absolute_error']\n",
        ")\n",
        "\n",
        "model.summary()\n"
      ],
      "metadata": {
        "colab": {
          "base_uri": "https://localhost:8080/",
          "height": 397
        },
        "id": "EW3oYNRT5ahp",
        "outputId": "fad8f14c-8597-4ac0-fbda-3aa22e2effa2"
      },
      "execution_count": 39,
      "outputs": [
        {
          "output_type": "display_data",
          "data": {
            "text/plain": [
              "\u001b[1mModel: \"sequential_1\"\u001b[0m\n"
            ],
            "text/html": [
              "<pre style=\"white-space:pre;overflow-x:auto;line-height:normal;font-family:Menlo,'DejaVu Sans Mono',consolas,'Courier New',monospace\"><span style=\"font-weight: bold\">Model: \"sequential_1\"</span>\n",
              "</pre>\n"
            ]
          },
          "metadata": {}
        },
        {
          "output_type": "display_data",
          "data": {
            "text/plain": [
              "┏━━━━━━━━━━━━━━━━━━━━━━━━━━━━━━━━━━━━━━┳━━━━━━━━━━━━━━━━━━━━━━━━━━━━━┳━━━━━━━━━━━━━━━━━┓\n",
              "┃\u001b[1m \u001b[0m\u001b[1mLayer (type)                        \u001b[0m\u001b[1m \u001b[0m┃\u001b[1m \u001b[0m\u001b[1mOutput Shape               \u001b[0m\u001b[1m \u001b[0m┃\u001b[1m \u001b[0m\u001b[1m        Param #\u001b[0m\u001b[1m \u001b[0m┃\n",
              "┡━━━━━━━━━━━━━━━━━━━━━━━━━━━━━━━━━━━━━━╇━━━━━━━━━━━━━━━━━━━━━━━━━━━━━╇━━━━━━━━━━━━━━━━━┩\n",
              "│ reshape_1 (\u001b[38;5;33mReshape\u001b[0m)                  │ (\u001b[38;5;45mNone\u001b[0m, \u001b[38;5;34m6\u001b[0m, \u001b[38;5;34m36\u001b[0m, \u001b[38;5;34m1\u001b[0m)            │               \u001b[38;5;34m0\u001b[0m │\n",
              "├──────────────────────────────────────┼─────────────────────────────┼─────────────────┤\n",
              "│ conv2d_1 (\u001b[38;5;33mConv2D\u001b[0m)                    │ (\u001b[38;5;45mNone\u001b[0m, \u001b[38;5;34m5\u001b[0m, \u001b[38;5;34m35\u001b[0m, \u001b[38;5;34m25\u001b[0m)           │             \u001b[38;5;34m125\u001b[0m │\n",
              "├──────────────────────────────────────┼─────────────────────────────┼─────────────────┤\n",
              "│ max_pooling2d (\u001b[38;5;33mMaxPooling2D\u001b[0m)         │ (\u001b[38;5;45mNone\u001b[0m, \u001b[38;5;34m2\u001b[0m, \u001b[38;5;34m17\u001b[0m, \u001b[38;5;34m25\u001b[0m)           │               \u001b[38;5;34m0\u001b[0m │\n",
              "├──────────────────────────────────────┼─────────────────────────────┼─────────────────┤\n",
              "│ conv2d_2 (\u001b[38;5;33mConv2D\u001b[0m)                    │ (\u001b[38;5;45mNone\u001b[0m, \u001b[38;5;34m1\u001b[0m, \u001b[38;5;34m16\u001b[0m, \u001b[38;5;34m25\u001b[0m)           │           \u001b[38;5;34m2,525\u001b[0m │\n",
              "├──────────────────────────────────────┼─────────────────────────────┼─────────────────┤\n",
              "│ flatten (\u001b[38;5;33mFlatten\u001b[0m)                    │ (\u001b[38;5;45mNone\u001b[0m, \u001b[38;5;34m400\u001b[0m)                 │               \u001b[38;5;34m0\u001b[0m │\n",
              "├──────────────────────────────────────┼─────────────────────────────┼─────────────────┤\n",
              "│ dense (\u001b[38;5;33mDense\u001b[0m)                        │ (\u001b[38;5;45mNone\u001b[0m, \u001b[38;5;34m2500\u001b[0m)                │       \u001b[38;5;34m1,002,500\u001b[0m │\n",
              "├──────────────────────────────────────┼─────────────────────────────┼─────────────────┤\n",
              "│ dense_1 (\u001b[38;5;33mDense\u001b[0m)                      │ (\u001b[38;5;45mNone\u001b[0m, \u001b[38;5;34m1000\u001b[0m)                │       \u001b[38;5;34m2,501,000\u001b[0m │\n",
              "├──────────────────────────────────────┼─────────────────────────────┼─────────────────┤\n",
              "│ dense_2 (\u001b[38;5;33mDense\u001b[0m)                      │ (\u001b[38;5;45mNone\u001b[0m, \u001b[38;5;34m64\u001b[0m)                  │          \u001b[38;5;34m64,064\u001b[0m │\n",
              "└──────────────────────────────────────┴─────────────────────────────┴─────────────────┘\n"
            ],
            "text/html": [
              "<pre style=\"white-space:pre;overflow-x:auto;line-height:normal;font-family:Menlo,'DejaVu Sans Mono',consolas,'Courier New',monospace\">┏━━━━━━━━━━━━━━━━━━━━━━━━━━━━━━━━━━━━━━┳━━━━━━━━━━━━━━━━━━━━━━━━━━━━━┳━━━━━━━━━━━━━━━━━┓\n",
              "┃<span style=\"font-weight: bold\"> Layer (type)                         </span>┃<span style=\"font-weight: bold\"> Output Shape                </span>┃<span style=\"font-weight: bold\">         Param # </span>┃\n",
              "┡━━━━━━━━━━━━━━━━━━━━━━━━━━━━━━━━━━━━━━╇━━━━━━━━━━━━━━━━━━━━━━━━━━━━━╇━━━━━━━━━━━━━━━━━┩\n",
              "│ reshape_1 (<span style=\"color: #0087ff; text-decoration-color: #0087ff\">Reshape</span>)                  │ (<span style=\"color: #00d7ff; text-decoration-color: #00d7ff\">None</span>, <span style=\"color: #00af00; text-decoration-color: #00af00\">6</span>, <span style=\"color: #00af00; text-decoration-color: #00af00\">36</span>, <span style=\"color: #00af00; text-decoration-color: #00af00\">1</span>)            │               <span style=\"color: #00af00; text-decoration-color: #00af00\">0</span> │\n",
              "├──────────────────────────────────────┼─────────────────────────────┼─────────────────┤\n",
              "│ conv2d_1 (<span style=\"color: #0087ff; text-decoration-color: #0087ff\">Conv2D</span>)                    │ (<span style=\"color: #00d7ff; text-decoration-color: #00d7ff\">None</span>, <span style=\"color: #00af00; text-decoration-color: #00af00\">5</span>, <span style=\"color: #00af00; text-decoration-color: #00af00\">35</span>, <span style=\"color: #00af00; text-decoration-color: #00af00\">25</span>)           │             <span style=\"color: #00af00; text-decoration-color: #00af00\">125</span> │\n",
              "├──────────────────────────────────────┼─────────────────────────────┼─────────────────┤\n",
              "│ max_pooling2d (<span style=\"color: #0087ff; text-decoration-color: #0087ff\">MaxPooling2D</span>)         │ (<span style=\"color: #00d7ff; text-decoration-color: #00d7ff\">None</span>, <span style=\"color: #00af00; text-decoration-color: #00af00\">2</span>, <span style=\"color: #00af00; text-decoration-color: #00af00\">17</span>, <span style=\"color: #00af00; text-decoration-color: #00af00\">25</span>)           │               <span style=\"color: #00af00; text-decoration-color: #00af00\">0</span> │\n",
              "├──────────────────────────────────────┼─────────────────────────────┼─────────────────┤\n",
              "│ conv2d_2 (<span style=\"color: #0087ff; text-decoration-color: #0087ff\">Conv2D</span>)                    │ (<span style=\"color: #00d7ff; text-decoration-color: #00d7ff\">None</span>, <span style=\"color: #00af00; text-decoration-color: #00af00\">1</span>, <span style=\"color: #00af00; text-decoration-color: #00af00\">16</span>, <span style=\"color: #00af00; text-decoration-color: #00af00\">25</span>)           │           <span style=\"color: #00af00; text-decoration-color: #00af00\">2,525</span> │\n",
              "├──────────────────────────────────────┼─────────────────────────────┼─────────────────┤\n",
              "│ flatten (<span style=\"color: #0087ff; text-decoration-color: #0087ff\">Flatten</span>)                    │ (<span style=\"color: #00d7ff; text-decoration-color: #00d7ff\">None</span>, <span style=\"color: #00af00; text-decoration-color: #00af00\">400</span>)                 │               <span style=\"color: #00af00; text-decoration-color: #00af00\">0</span> │\n",
              "├──────────────────────────────────────┼─────────────────────────────┼─────────────────┤\n",
              "│ dense (<span style=\"color: #0087ff; text-decoration-color: #0087ff\">Dense</span>)                        │ (<span style=\"color: #00d7ff; text-decoration-color: #00d7ff\">None</span>, <span style=\"color: #00af00; text-decoration-color: #00af00\">2500</span>)                │       <span style=\"color: #00af00; text-decoration-color: #00af00\">1,002,500</span> │\n",
              "├──────────────────────────────────────┼─────────────────────────────┼─────────────────┤\n",
              "│ dense_1 (<span style=\"color: #0087ff; text-decoration-color: #0087ff\">Dense</span>)                      │ (<span style=\"color: #00d7ff; text-decoration-color: #00d7ff\">None</span>, <span style=\"color: #00af00; text-decoration-color: #00af00\">1000</span>)                │       <span style=\"color: #00af00; text-decoration-color: #00af00\">2,501,000</span> │\n",
              "├──────────────────────────────────────┼─────────────────────────────┼─────────────────┤\n",
              "│ dense_2 (<span style=\"color: #0087ff; text-decoration-color: #0087ff\">Dense</span>)                      │ (<span style=\"color: #00d7ff; text-decoration-color: #00d7ff\">None</span>, <span style=\"color: #00af00; text-decoration-color: #00af00\">64</span>)                  │          <span style=\"color: #00af00; text-decoration-color: #00af00\">64,064</span> │\n",
              "└──────────────────────────────────────┴─────────────────────────────┴─────────────────┘\n",
              "</pre>\n"
            ]
          },
          "metadata": {}
        },
        {
          "output_type": "display_data",
          "data": {
            "text/plain": [
              "\u001b[1m Total params: \u001b[0m\u001b[38;5;34m3,570,214\u001b[0m (13.62 MB)\n"
            ],
            "text/html": [
              "<pre style=\"white-space:pre;overflow-x:auto;line-height:normal;font-family:Menlo,'DejaVu Sans Mono',consolas,'Courier New',monospace\"><span style=\"font-weight: bold\"> Total params: </span><span style=\"color: #00af00; text-decoration-color: #00af00\">3,570,214</span> (13.62 MB)\n",
              "</pre>\n"
            ]
          },
          "metadata": {}
        },
        {
          "output_type": "display_data",
          "data": {
            "text/plain": [
              "\u001b[1m Trainable params: \u001b[0m\u001b[38;5;34m3,570,214\u001b[0m (13.62 MB)\n"
            ],
            "text/html": [
              "<pre style=\"white-space:pre;overflow-x:auto;line-height:normal;font-family:Menlo,'DejaVu Sans Mono',consolas,'Courier New',monospace\"><span style=\"font-weight: bold\"> Trainable params: </span><span style=\"color: #00af00; text-decoration-color: #00af00\">3,570,214</span> (13.62 MB)\n",
              "</pre>\n"
            ]
          },
          "metadata": {}
        },
        {
          "output_type": "display_data",
          "data": {
            "text/plain": [
              "\u001b[1m Non-trainable params: \u001b[0m\u001b[38;5;34m0\u001b[0m (0.00 B)\n"
            ],
            "text/html": [
              "<pre style=\"white-space:pre;overflow-x:auto;line-height:normal;font-family:Menlo,'DejaVu Sans Mono',consolas,'Courier New',monospace\"><span style=\"font-weight: bold\"> Non-trainable params: </span><span style=\"color: #00af00; text-decoration-color: #00af00\">0</span> (0.00 B)\n",
              "</pre>\n"
            ]
          },
          "metadata": {}
        }
      ]
    },
    {
      "cell_type": "code",
      "source": [
        "# `x_train`, `y_train` are probabilities (n values) and labels (tau-vectors)\n",
        "model.fit(nvals, all_taus, epochs=300, batch_size=100, validation_split=0.2)"
      ],
      "metadata": {
        "colab": {
          "base_uri": "https://localhost:8080/"
        },
        "collapsed": true,
        "id": "IZhyhrBD9FEa",
        "outputId": "579d9687-21a0-4328-8fb5-eed0886aec88"
      },
      "execution_count": null,
      "outputs": [
        {
          "output_type": "stream",
          "name": "stdout",
          "text": [
            "Epoch 1/300\n",
            "\u001b[1m240/240\u001b[0m \u001b[32m━━━━━━━━━━━━━━━━━━━━\u001b[0m\u001b[37m\u001b[0m \u001b[1m3s\u001b[0m 6ms/step - loss: 0.0585 - mean_absolute_error: 0.1355 - val_loss: 0.0520 - val_mean_absolute_error: 0.1273\n",
            "Epoch 2/300\n",
            "\u001b[1m240/240\u001b[0m \u001b[32m━━━━━━━━━━━━━━━━━━━━\u001b[0m\u001b[37m\u001b[0m \u001b[1m1s\u001b[0m 3ms/step - loss: 0.0513 - mean_absolute_error: 0.1258 - val_loss: 0.0498 - val_mean_absolute_error: 0.1230\n",
            "Epoch 3/300\n",
            "\u001b[1m240/240\u001b[0m \u001b[32m━━━━━━━━━━━━━━━━━━━━\u001b[0m\u001b[37m\u001b[0m \u001b[1m1s\u001b[0m 2ms/step - loss: 0.0498 - mean_absolute_error: 0.1227 - val_loss: 0.0492 - val_mean_absolute_error: 0.1213\n",
            "Epoch 4/300\n",
            "\u001b[1m240/240\u001b[0m \u001b[32m━━━━━━━━━━━━━━━━━━━━\u001b[0m\u001b[37m\u001b[0m \u001b[1m1s\u001b[0m 3ms/step - loss: 0.0493 - mean_absolute_error: 0.1212 - val_loss: 0.0491 - val_mean_absolute_error: 0.1206\n",
            "Epoch 5/300\n",
            "\u001b[1m240/240\u001b[0m \u001b[32m━━━━━━━━━━━━━━━━━━━━\u001b[0m\u001b[37m\u001b[0m \u001b[1m1s\u001b[0m 3ms/step - loss: 0.0492 - mean_absolute_error: 0.1208 - val_loss: 0.0490 - val_mean_absolute_error: 0.1204\n",
            "Epoch 6/300\n",
            "\u001b[1m240/240\u001b[0m \u001b[32m━━━━━━━━━━━━━━━━━━━━\u001b[0m\u001b[37m\u001b[0m \u001b[1m1s\u001b[0m 3ms/step - loss: 0.0492 - mean_absolute_error: 0.1207 - val_loss: 0.0489 - val_mean_absolute_error: 0.1203\n",
            "Epoch 7/300\n",
            "\u001b[1m240/240\u001b[0m \u001b[32m━━━━━━━━━━━━━━━━━━━━\u001b[0m\u001b[37m\u001b[0m \u001b[1m1s\u001b[0m 2ms/step - loss: 0.0490 - mean_absolute_error: 0.1203 - val_loss: 0.0489 - val_mean_absolute_error: 0.1202\n",
            "Epoch 8/300\n",
            "\u001b[1m240/240\u001b[0m \u001b[32m━━━━━━━━━━━━━━━━━━━━\u001b[0m\u001b[37m\u001b[0m \u001b[1m1s\u001b[0m 3ms/step - loss: 0.0491 - mean_absolute_error: 0.1204 - val_loss: 0.0488 - val_mean_absolute_error: 0.1202\n",
            "Epoch 9/300\n",
            "\u001b[1m240/240\u001b[0m \u001b[32m━━━━━━━━━━━━━━━━━━━━\u001b[0m\u001b[37m\u001b[0m \u001b[1m1s\u001b[0m 2ms/step - loss: 0.0490 - mean_absolute_error: 0.1204 - val_loss: 0.0488 - val_mean_absolute_error: 0.1202\n",
            "Epoch 10/300\n",
            "\u001b[1m240/240\u001b[0m \u001b[32m━━━━━━━━━━━━━━━━━━━━\u001b[0m\u001b[37m\u001b[0m \u001b[1m1s\u001b[0m 3ms/step - loss: 0.0488 - mean_absolute_error: 0.1201 - val_loss: 0.0488 - val_mean_absolute_error: 0.1201\n",
            "Epoch 11/300\n",
            "\u001b[1m240/240\u001b[0m \u001b[32m━━━━━━━━━━━━━━━━━━━━\u001b[0m\u001b[37m\u001b[0m \u001b[1m1s\u001b[0m 2ms/step - loss: 0.0489 - mean_absolute_error: 0.1204 - val_loss: 0.0487 - val_mean_absolute_error: 0.1201\n",
            "Epoch 12/300\n",
            "\u001b[1m240/240\u001b[0m \u001b[32m━━━━━━━━━━━━━━━━━━━━\u001b[0m\u001b[37m\u001b[0m \u001b[1m1s\u001b[0m 2ms/step - loss: 0.0488 - mean_absolute_error: 0.1203 - val_loss: 0.0487 - val_mean_absolute_error: 0.1201\n",
            "Epoch 13/300\n",
            "\u001b[1m240/240\u001b[0m \u001b[32m━━━━━━━━━━━━━━━━━━━━\u001b[0m\u001b[37m\u001b[0m \u001b[1m1s\u001b[0m 2ms/step - loss: 0.0487 - mean_absolute_error: 0.1202 - val_loss: 0.0486 - val_mean_absolute_error: 0.1201\n",
            "Epoch 14/300\n",
            "\u001b[1m240/240\u001b[0m \u001b[32m━━━━━━━━━━━━━━━━━━━━\u001b[0m\u001b[37m\u001b[0m \u001b[1m1s\u001b[0m 2ms/step - loss: 0.0489 - mean_absolute_error: 0.1206 - val_loss: 0.0486 - val_mean_absolute_error: 0.1200\n",
            "Epoch 15/300\n",
            "\u001b[1m240/240\u001b[0m \u001b[32m━━━━━━━━━━━━━━━━━━━━\u001b[0m\u001b[37m\u001b[0m \u001b[1m1s\u001b[0m 3ms/step - loss: 0.0488 - mean_absolute_error: 0.1202 - val_loss: 0.0485 - val_mean_absolute_error: 0.1200\n",
            "Epoch 16/300\n",
            "\u001b[1m240/240\u001b[0m \u001b[32m━━━━━━━━━━━━━━━━━━━━\u001b[0m\u001b[37m\u001b[0m \u001b[1m1s\u001b[0m 3ms/step - loss: 0.0486 - mean_absolute_error: 0.1203 - val_loss: 0.0485 - val_mean_absolute_error: 0.1200\n",
            "Epoch 17/300\n",
            "\u001b[1m240/240\u001b[0m \u001b[32m━━━━━━━━━━━━━━━━━━━━\u001b[0m\u001b[37m\u001b[0m \u001b[1m1s\u001b[0m 3ms/step - loss: 0.0487 - mean_absolute_error: 0.1203 - val_loss: 0.0484 - val_mean_absolute_error: 0.1200\n",
            "Epoch 18/300\n",
            "\u001b[1m240/240\u001b[0m \u001b[32m━━━━━━━━━━━━━━━━━━━━\u001b[0m\u001b[37m\u001b[0m \u001b[1m1s\u001b[0m 3ms/step - loss: 0.0486 - mean_absolute_error: 0.1203 - val_loss: 0.0484 - val_mean_absolute_error: 0.1200\n",
            "Epoch 19/300\n",
            "\u001b[1m240/240\u001b[0m \u001b[32m━━━━━━━━━━━━━━━━━━━━\u001b[0m\u001b[37m\u001b[0m \u001b[1m1s\u001b[0m 3ms/step - loss: 0.0486 - mean_absolute_error: 0.1203 - val_loss: 0.0483 - val_mean_absolute_error: 0.1199\n",
            "Epoch 20/300\n",
            "\u001b[1m240/240\u001b[0m \u001b[32m━━━━━━━━━━━━━━━━━━━━\u001b[0m\u001b[37m\u001b[0m \u001b[1m1s\u001b[0m 3ms/step - loss: 0.0485 - mean_absolute_error: 0.1202 - val_loss: 0.0482 - val_mean_absolute_error: 0.1199\n",
            "Epoch 21/300\n",
            "\u001b[1m240/240\u001b[0m \u001b[32m━━━━━━━━━━━━━━━━━━━━\u001b[0m\u001b[37m\u001b[0m \u001b[1m1s\u001b[0m 3ms/step - loss: 0.0483 - mean_absolute_error: 0.1200 - val_loss: 0.0482 - val_mean_absolute_error: 0.1199\n",
            "Epoch 22/300\n",
            "\u001b[1m240/240\u001b[0m \u001b[32m━━━━━━━━━━━━━━━━━━━━\u001b[0m\u001b[37m\u001b[0m \u001b[1m1s\u001b[0m 3ms/step - loss: 0.0485 - mean_absolute_error: 0.1201 - val_loss: 0.0481 - val_mean_absolute_error: 0.1198\n",
            "Epoch 23/300\n",
            "\u001b[1m240/240\u001b[0m \u001b[32m━━━━━━━━━━━━━━━━━━━━\u001b[0m\u001b[37m\u001b[0m \u001b[1m1s\u001b[0m 3ms/step - loss: 0.0482 - mean_absolute_error: 0.1199 - val_loss: 0.0480 - val_mean_absolute_error: 0.1197\n",
            "Epoch 24/300\n",
            "\u001b[1m240/240\u001b[0m \u001b[32m━━━━━━━━━━━━━━━━━━━━\u001b[0m\u001b[37m\u001b[0m \u001b[1m1s\u001b[0m 3ms/step - loss: 0.0483 - mean_absolute_error: 0.1201 - val_loss: 0.0479 - val_mean_absolute_error: 0.1197\n",
            "Epoch 25/300\n",
            "\u001b[1m240/240\u001b[0m \u001b[32m━━━━━━━━━━━━━━━━━━━━\u001b[0m\u001b[37m\u001b[0m \u001b[1m1s\u001b[0m 2ms/step - loss: 0.0481 - mean_absolute_error: 0.1201 - val_loss: 0.0479 - val_mean_absolute_error: 0.1196\n",
            "Epoch 26/300\n",
            "\u001b[1m240/240\u001b[0m \u001b[32m━━━━━━━━━━━━━━━━━━━━\u001b[0m\u001b[37m\u001b[0m \u001b[1m1s\u001b[0m 2ms/step - loss: 0.0481 - mean_absolute_error: 0.1199 - val_loss: 0.0478 - val_mean_absolute_error: 0.1196\n",
            "Epoch 27/300\n",
            "\u001b[1m240/240\u001b[0m \u001b[32m━━━━━━━━━━━━━━━━━━━━\u001b[0m\u001b[37m\u001b[0m \u001b[1m1s\u001b[0m 3ms/step - loss: 0.0480 - mean_absolute_error: 0.1199 - val_loss: 0.0477 - val_mean_absolute_error: 0.1195\n",
            "Epoch 28/300\n",
            "\u001b[1m240/240\u001b[0m \u001b[32m━━━━━━━━━━━━━━━━━━━━\u001b[0m\u001b[37m\u001b[0m \u001b[1m1s\u001b[0m 3ms/step - loss: 0.0478 - mean_absolute_error: 0.1196 - val_loss: 0.0476 - val_mean_absolute_error: 0.1194\n",
            "Epoch 29/300\n",
            "\u001b[1m240/240\u001b[0m \u001b[32m━━━━━━━━━━━━━━━━━━━━\u001b[0m\u001b[37m\u001b[0m \u001b[1m1s\u001b[0m 3ms/step - loss: 0.0478 - mean_absolute_error: 0.1196 - val_loss: 0.0475 - val_mean_absolute_error: 0.1193\n",
            "Epoch 30/300\n",
            "\u001b[1m240/240\u001b[0m \u001b[32m━━━━━━━━━━━━━━━━━━━━\u001b[0m\u001b[37m\u001b[0m \u001b[1m1s\u001b[0m 3ms/step - loss: 0.0477 - mean_absolute_error: 0.1193 - val_loss: 0.0474 - val_mean_absolute_error: 0.1193\n",
            "Epoch 31/300\n",
            "\u001b[1m240/240\u001b[0m \u001b[32m━━━━━━━━━━━━━━━━━━━━\u001b[0m\u001b[37m\u001b[0m \u001b[1m1s\u001b[0m 3ms/step - loss: 0.0475 - mean_absolute_error: 0.1194 - val_loss: 0.0473 - val_mean_absolute_error: 0.1192\n",
            "Epoch 32/300\n",
            "\u001b[1m240/240\u001b[0m \u001b[32m━━━━━━━━━━━━━━━━━━━━\u001b[0m\u001b[37m\u001b[0m \u001b[1m1s\u001b[0m 2ms/step - loss: 0.0476 - mean_absolute_error: 0.1195 - val_loss: 0.0472 - val_mean_absolute_error: 0.1191\n",
            "Epoch 33/300\n",
            "\u001b[1m240/240\u001b[0m \u001b[32m━━━━━━━━━━━━━━━━━━━━\u001b[0m\u001b[37m\u001b[0m \u001b[1m1s\u001b[0m 3ms/step - loss: 0.0475 - mean_absolute_error: 0.1195 - val_loss: 0.0471 - val_mean_absolute_error: 0.1190\n",
            "Epoch 34/300\n",
            "\u001b[1m240/240\u001b[0m \u001b[32m━━━━━━━━━━━━━━━━━━━━\u001b[0m\u001b[37m\u001b[0m \u001b[1m1s\u001b[0m 3ms/step - loss: 0.0473 - mean_absolute_error: 0.1192 - val_loss: 0.0470 - val_mean_absolute_error: 0.1188\n",
            "Epoch 35/300\n",
            "\u001b[1m240/240\u001b[0m \u001b[32m━━━━━━━━━━━━━━━━━━━━\u001b[0m\u001b[37m\u001b[0m \u001b[1m1s\u001b[0m 3ms/step - loss: 0.0473 - mean_absolute_error: 0.1192 - val_loss: 0.0469 - val_mean_absolute_error: 0.1187\n",
            "Epoch 36/300\n",
            "\u001b[1m240/240\u001b[0m \u001b[32m━━━━━━━━━━━━━━━━━━━━\u001b[0m\u001b[37m\u001b[0m \u001b[1m1s\u001b[0m 2ms/step - loss: 0.0472 - mean_absolute_error: 0.1191 - val_loss: 0.0468 - val_mean_absolute_error: 0.1186\n",
            "Epoch 37/300\n",
            "\u001b[1m240/240\u001b[0m \u001b[32m━━━━━━━━━━━━━━━━━━━━\u001b[0m\u001b[37m\u001b[0m \u001b[1m1s\u001b[0m 2ms/step - loss: 0.0471 - mean_absolute_error: 0.1188 - val_loss: 0.0467 - val_mean_absolute_error: 0.1185\n",
            "Epoch 38/300\n",
            "\u001b[1m240/240\u001b[0m \u001b[32m━━━━━━━━━━━━━━━━━━━━\u001b[0m\u001b[37m\u001b[0m \u001b[1m1s\u001b[0m 2ms/step - loss: 0.0469 - mean_absolute_error: 0.1187 - val_loss: 0.0466 - val_mean_absolute_error: 0.1183\n",
            "Epoch 39/300\n",
            "\u001b[1m240/240\u001b[0m \u001b[32m━━━━━━━━━━━━━━━━━━━━\u001b[0m\u001b[37m\u001b[0m \u001b[1m1s\u001b[0m 3ms/step - loss: 0.0468 - mean_absolute_error: 0.1187 - val_loss: 0.0464 - val_mean_absolute_error: 0.1182\n",
            "Epoch 40/300\n",
            "\u001b[1m240/240\u001b[0m \u001b[32m━━━━━━━━━━━━━━━━━━━━\u001b[0m\u001b[37m\u001b[0m \u001b[1m1s\u001b[0m 3ms/step - loss: 0.0468 - mean_absolute_error: 0.1186 - val_loss: 0.0463 - val_mean_absolute_error: 0.1181\n",
            "Epoch 41/300\n",
            "\u001b[1m240/240\u001b[0m \u001b[32m━━━━━━━━━━━━━━━━━━━━\u001b[0m\u001b[37m\u001b[0m \u001b[1m1s\u001b[0m 3ms/step - loss: 0.0466 - mean_absolute_error: 0.1183 - val_loss: 0.0462 - val_mean_absolute_error: 0.1179\n",
            "Epoch 42/300\n",
            "\u001b[1m240/240\u001b[0m \u001b[32m━━━━━━━━━━━━━━━━━━━━\u001b[0m\u001b[37m\u001b[0m \u001b[1m1s\u001b[0m 3ms/step - loss: 0.0464 - mean_absolute_error: 0.1182 - val_loss: 0.0461 - val_mean_absolute_error: 0.1178\n",
            "Epoch 43/300\n",
            "\u001b[1m240/240\u001b[0m \u001b[32m━━━━━━━━━━━━━━━━━━━━\u001b[0m\u001b[37m\u001b[0m \u001b[1m1s\u001b[0m 3ms/step - loss: 0.0464 - mean_absolute_error: 0.1182 - val_loss: 0.0459 - val_mean_absolute_error: 0.1176\n",
            "Epoch 44/300\n",
            "\u001b[1m240/240\u001b[0m \u001b[32m━━━━━━━━━━━━━━━━━━━━\u001b[0m\u001b[37m\u001b[0m \u001b[1m1s\u001b[0m 2ms/step - loss: 0.0462 - mean_absolute_error: 0.1179 - val_loss: 0.0458 - val_mean_absolute_error: 0.1175\n",
            "Epoch 45/300\n",
            "\u001b[1m240/240\u001b[0m \u001b[32m━━━━━━━━━━━━━━━━━━━━\u001b[0m\u001b[37m\u001b[0m \u001b[1m1s\u001b[0m 2ms/step - loss: 0.0460 - mean_absolute_error: 0.1178 - val_loss: 0.0457 - val_mean_absolute_error: 0.1174\n",
            "Epoch 46/300\n",
            "\u001b[1m240/240\u001b[0m \u001b[32m━━━━━━━━━━━━━━━━━━━━\u001b[0m\u001b[37m\u001b[0m \u001b[1m1s\u001b[0m 2ms/step - loss: 0.0459 - mean_absolute_error: 0.1177 - val_loss: 0.0455 - val_mean_absolute_error: 0.1172\n",
            "Epoch 47/300\n",
            "\u001b[1m240/240\u001b[0m \u001b[32m━━━━━━━━━━━━━━━━━━━━\u001b[0m\u001b[37m\u001b[0m \u001b[1m1s\u001b[0m 3ms/step - loss: 0.0458 - mean_absolute_error: 0.1175 - val_loss: 0.0454 - val_mean_absolute_error: 0.1171\n",
            "Epoch 48/300\n",
            "\u001b[1m240/240\u001b[0m \u001b[32m━━━━━━━━━━━━━━━━━━━━\u001b[0m\u001b[37m\u001b[0m \u001b[1m1s\u001b[0m 3ms/step - loss: 0.0457 - mean_absolute_error: 0.1175 - val_loss: 0.0453 - val_mean_absolute_error: 0.1169\n",
            "Epoch 49/300\n",
            "\u001b[1m240/240\u001b[0m \u001b[32m━━━━━━━━━━━━━━━━━━━━\u001b[0m\u001b[37m\u001b[0m \u001b[1m1s\u001b[0m 3ms/step - loss: 0.0455 - mean_absolute_error: 0.1172 - val_loss: 0.0451 - val_mean_absolute_error: 0.1168\n",
            "Epoch 50/300\n",
            "\u001b[1m240/240\u001b[0m \u001b[32m━━━━━━━━━━━━━━━━━━━━\u001b[0m\u001b[37m\u001b[0m \u001b[1m1s\u001b[0m 3ms/step - loss: 0.0456 - mean_absolute_error: 0.1173 - val_loss: 0.0450 - val_mean_absolute_error: 0.1166\n",
            "Epoch 51/300\n",
            "\u001b[1m240/240\u001b[0m \u001b[32m━━━━━━━━━━━━━━━━━━━━\u001b[0m\u001b[37m\u001b[0m \u001b[1m1s\u001b[0m 2ms/step - loss: 0.0453 - mean_absolute_error: 0.1170 - val_loss: 0.0449 - val_mean_absolute_error: 0.1165\n",
            "Epoch 52/300\n",
            "\u001b[1m240/240\u001b[0m \u001b[32m━━━━━━━━━━━━━━━━━━━━\u001b[0m\u001b[37m\u001b[0m \u001b[1m1s\u001b[0m 3ms/step - loss: 0.0452 - mean_absolute_error: 0.1169 - val_loss: 0.0447 - val_mean_absolute_error: 0.1163\n",
            "Epoch 53/300\n",
            "\u001b[1m240/240\u001b[0m \u001b[32m━━━━━━━━━━━━━━━━━━━━\u001b[0m\u001b[37m\u001b[0m \u001b[1m1s\u001b[0m 3ms/step - loss: 0.0450 - mean_absolute_error: 0.1167 - val_loss: 0.0446 - val_mean_absolute_error: 0.1162\n",
            "Epoch 54/300\n",
            "\u001b[1m240/240\u001b[0m \u001b[32m━━━━━━━━━━━━━━━━━━━━\u001b[0m\u001b[37m\u001b[0m \u001b[1m1s\u001b[0m 2ms/step - loss: 0.0449 - mean_absolute_error: 0.1166 - val_loss: 0.0445 - val_mean_absolute_error: 0.1160\n",
            "Epoch 55/300\n",
            "\u001b[1m240/240\u001b[0m \u001b[32m━━━━━━━━━━━━━━━━━━━━\u001b[0m\u001b[37m\u001b[0m \u001b[1m1s\u001b[0m 2ms/step - loss: 0.0449 - mean_absolute_error: 0.1166 - val_loss: 0.0443 - val_mean_absolute_error: 0.1159\n",
            "Epoch 56/300\n",
            "\u001b[1m240/240\u001b[0m \u001b[32m━━━━━━━━━━━━━━━━━━━━\u001b[0m\u001b[37m\u001b[0m \u001b[1m1s\u001b[0m 3ms/step - loss: 0.0446 - mean_absolute_error: 0.1161 - val_loss: 0.0442 - val_mean_absolute_error: 0.1157\n",
            "Epoch 57/300\n",
            "\u001b[1m240/240\u001b[0m \u001b[32m━━━━━━━━━━━━━━━━━━━━\u001b[0m\u001b[37m\u001b[0m \u001b[1m1s\u001b[0m 3ms/step - loss: 0.0445 - mean_absolute_error: 0.1161 - val_loss: 0.0441 - val_mean_absolute_error: 0.1156\n",
            "Epoch 58/300\n",
            "\u001b[1m240/240\u001b[0m \u001b[32m━━━━━━━━━━━━━━━━━━━━\u001b[0m\u001b[37m\u001b[0m \u001b[1m1s\u001b[0m 4ms/step - loss: 0.0441 - mean_absolute_error: 0.1156 - val_loss: 0.0440 - val_mean_absolute_error: 0.1155\n",
            "Epoch 59/300\n",
            "\u001b[1m240/240\u001b[0m \u001b[32m━━━━━━━━━━━━━━━━━━━━\u001b[0m\u001b[37m\u001b[0m \u001b[1m1s\u001b[0m 3ms/step - loss: 0.0443 - mean_absolute_error: 0.1158 - val_loss: 0.0438 - val_mean_absolute_error: 0.1153\n",
            "Epoch 60/300\n",
            "\u001b[1m240/240\u001b[0m \u001b[32m━━━━━━━━━━━━━━━━━━━━\u001b[0m\u001b[37m\u001b[0m \u001b[1m1s\u001b[0m 2ms/step - loss: 0.0440 - mean_absolute_error: 0.1155 - val_loss: 0.0437 - val_mean_absolute_error: 0.1152\n",
            "Epoch 61/300\n",
            "\u001b[1m240/240\u001b[0m \u001b[32m━━━━━━━━━━━━━━━━━━━━\u001b[0m\u001b[37m\u001b[0m \u001b[1m1s\u001b[0m 2ms/step - loss: 0.0440 - mean_absolute_error: 0.1156 - val_loss: 0.0436 - val_mean_absolute_error: 0.1150\n",
            "Epoch 62/300\n",
            "\u001b[1m240/240\u001b[0m \u001b[32m━━━━━━━━━━━━━━━━━━━━\u001b[0m\u001b[37m\u001b[0m \u001b[1m1s\u001b[0m 3ms/step - loss: 0.0438 - mean_absolute_error: 0.1153 - val_loss: 0.0435 - val_mean_absolute_error: 0.1149\n",
            "Epoch 63/300\n",
            "\u001b[1m240/240\u001b[0m \u001b[32m━━━━━━━━━━━━━━━━━━━━\u001b[0m\u001b[37m\u001b[0m \u001b[1m1s\u001b[0m 2ms/step - loss: 0.0438 - mean_absolute_error: 0.1154 - val_loss: 0.0434 - val_mean_absolute_error: 0.1147\n",
            "Epoch 64/300\n",
            "\u001b[1m240/240\u001b[0m \u001b[32m━━━━━━━━━━━━━━━━━━━━\u001b[0m\u001b[37m\u001b[0m \u001b[1m1s\u001b[0m 5ms/step - loss: 0.0436 - mean_absolute_error: 0.1151 - val_loss: 0.0432 - val_mean_absolute_error: 0.1146\n",
            "Epoch 65/300\n",
            "\u001b[1m240/240\u001b[0m \u001b[32m━━━━━━━━━━━━━━━━━━━━\u001b[0m\u001b[37m\u001b[0m \u001b[1m1s\u001b[0m 3ms/step - loss: 0.0436 - mean_absolute_error: 0.1149 - val_loss: 0.0431 - val_mean_absolute_error: 0.1144\n",
            "Epoch 66/300\n",
            "\u001b[1m240/240\u001b[0m \u001b[32m━━━━━━━━━━━━━━━━━━━━\u001b[0m\u001b[37m\u001b[0m \u001b[1m1s\u001b[0m 3ms/step - loss: 0.0435 - mean_absolute_error: 0.1148 - val_loss: 0.0430 - val_mean_absolute_error: 0.1143\n",
            "Epoch 67/300\n",
            "\u001b[1m240/240\u001b[0m \u001b[32m━━━━━━━━━━━━━━━━━━━━\u001b[0m\u001b[37m\u001b[0m \u001b[1m1s\u001b[0m 3ms/step - loss: 0.0434 - mean_absolute_error: 0.1148 - val_loss: 0.0429 - val_mean_absolute_error: 0.1141\n",
            "Epoch 68/300\n",
            "\u001b[1m240/240\u001b[0m \u001b[32m━━━━━━━━━━━━━━━━━━━━\u001b[0m\u001b[37m\u001b[0m \u001b[1m1s\u001b[0m 2ms/step - loss: 0.0432 - mean_absolute_error: 0.1145 - val_loss: 0.0428 - val_mean_absolute_error: 0.1140\n",
            "Epoch 69/300\n",
            "\u001b[1m240/240\u001b[0m \u001b[32m━━━━━━━━━━━━━━━━━━━━\u001b[0m\u001b[37m\u001b[0m \u001b[1m1s\u001b[0m 3ms/step - loss: 0.0431 - mean_absolute_error: 0.1142 - val_loss: 0.0427 - val_mean_absolute_error: 0.1138\n",
            "Epoch 70/300\n",
            "\u001b[1m240/240\u001b[0m \u001b[32m━━━━━━━━━━━━━━━━━━━━\u001b[0m\u001b[37m\u001b[0m \u001b[1m1s\u001b[0m 2ms/step - loss: 0.0432 - mean_absolute_error: 0.1145 - val_loss: 0.0426 - val_mean_absolute_error: 0.1137\n",
            "Epoch 71/300\n",
            "\u001b[1m240/240\u001b[0m \u001b[32m━━━━━━━━━━━━━━━━━━━━\u001b[0m\u001b[37m\u001b[0m \u001b[1m1s\u001b[0m 3ms/step - loss: 0.0430 - mean_absolute_error: 0.1143 - val_loss: 0.0425 - val_mean_absolute_error: 0.1135\n",
            "Epoch 72/300\n",
            "\u001b[1m240/240\u001b[0m \u001b[32m━━━━━━━━━━━━━━━━━━━━\u001b[0m\u001b[37m\u001b[0m \u001b[1m1s\u001b[0m 3ms/step - loss: 0.0429 - mean_absolute_error: 0.1142 - val_loss: 0.0424 - val_mean_absolute_error: 0.1134\n",
            "Epoch 73/300\n",
            "\u001b[1m240/240\u001b[0m \u001b[32m━━━━━━━━━━━━━━━━━━━━\u001b[0m\u001b[37m\u001b[0m \u001b[1m1s\u001b[0m 4ms/step - loss: 0.0427 - mean_absolute_error: 0.1139 - val_loss: 0.0423 - val_mean_absolute_error: 0.1132\n",
            "Epoch 74/300\n",
            "\u001b[1m240/240\u001b[0m \u001b[32m━━━━━━━━━━━━━━━━━━━━\u001b[0m\u001b[37m\u001b[0m \u001b[1m1s\u001b[0m 3ms/step - loss: 0.0425 - mean_absolute_error: 0.1136 - val_loss: 0.0422 - val_mean_absolute_error: 0.1131\n",
            "Epoch 75/300\n",
            "\u001b[1m240/240\u001b[0m \u001b[32m━━━━━━━━━━━━━━━━━━━━\u001b[0m\u001b[37m\u001b[0m \u001b[1m1s\u001b[0m 2ms/step - loss: 0.0424 - mean_absolute_error: 0.1134 - val_loss: 0.0421 - val_mean_absolute_error: 0.1129\n",
            "Epoch 76/300\n",
            "\u001b[1m240/240\u001b[0m \u001b[32m━━━━━━━━━━━━━━━━━━━━\u001b[0m\u001b[37m\u001b[0m \u001b[1m1s\u001b[0m 3ms/step - loss: 0.0425 - mean_absolute_error: 0.1136 - val_loss: 0.0420 - val_mean_absolute_error: 0.1128\n",
            "Epoch 77/300\n",
            "\u001b[1m240/240\u001b[0m \u001b[32m━━━━━━━━━━━━━━━━━━━━\u001b[0m\u001b[37m\u001b[0m \u001b[1m1s\u001b[0m 2ms/step - loss: 0.0423 - mean_absolute_error: 0.1133 - val_loss: 0.0419 - val_mean_absolute_error: 0.1126\n",
            "Epoch 78/300\n",
            "\u001b[1m240/240\u001b[0m \u001b[32m━━━━━━━━━━━━━━━━━━━━\u001b[0m\u001b[37m\u001b[0m \u001b[1m1s\u001b[0m 2ms/step - loss: 0.0422 - mean_absolute_error: 0.1131 - val_loss: 0.0418 - val_mean_absolute_error: 0.1125\n",
            "Epoch 79/300\n",
            "\u001b[1m240/240\u001b[0m \u001b[32m━━━━━━━━━━━━━━━━━━━━\u001b[0m\u001b[37m\u001b[0m \u001b[1m1s\u001b[0m 3ms/step - loss: 0.0422 - mean_absolute_error: 0.1129 - val_loss: 0.0417 - val_mean_absolute_error: 0.1123\n",
            "Epoch 80/300\n",
            "\u001b[1m240/240\u001b[0m \u001b[32m━━━━━━━━━━━━━━━━━━━━\u001b[0m\u001b[37m\u001b[0m \u001b[1m1s\u001b[0m 3ms/step - loss: 0.0419 - mean_absolute_error: 0.1126 - val_loss: 0.0416 - val_mean_absolute_error: 0.1122\n",
            "Epoch 81/300\n",
            "\u001b[1m240/240\u001b[0m \u001b[32m━━━━━━━━━━━━━━━━━━━━\u001b[0m\u001b[37m\u001b[0m \u001b[1m1s\u001b[0m 2ms/step - loss: 0.0420 - mean_absolute_error: 0.1127 - val_loss: 0.0415 - val_mean_absolute_error: 0.1121\n",
            "Epoch 82/300\n",
            "\u001b[1m240/240\u001b[0m \u001b[32m━━━━━━━━━━━━━━━━━━━━\u001b[0m\u001b[37m\u001b[0m \u001b[1m1s\u001b[0m 3ms/step - loss: 0.0418 - mean_absolute_error: 0.1124 - val_loss: 0.0414 - val_mean_absolute_error: 0.1119\n",
            "Epoch 83/300\n",
            "\u001b[1m240/240\u001b[0m \u001b[32m━━━━━━━━━━━━━━━━━━━━\u001b[0m\u001b[37m\u001b[0m \u001b[1m1s\u001b[0m 2ms/step - loss: 0.0418 - mean_absolute_error: 0.1125 - val_loss: 0.0413 - val_mean_absolute_error: 0.1118\n",
            "Epoch 84/300\n",
            "\u001b[1m240/240\u001b[0m \u001b[32m━━━━━━━━━━━━━━━━━━━━\u001b[0m\u001b[37m\u001b[0m \u001b[1m1s\u001b[0m 2ms/step - loss: 0.0417 - mean_absolute_error: 0.1124 - val_loss: 0.0412 - val_mean_absolute_error: 0.1116\n",
            "Epoch 85/300\n",
            "\u001b[1m240/240\u001b[0m \u001b[32m━━━━━━━━━━━━━━━━━━━━\u001b[0m\u001b[37m\u001b[0m \u001b[1m1s\u001b[0m 2ms/step - loss: 0.0418 - mean_absolute_error: 0.1124 - val_loss: 0.0411 - val_mean_absolute_error: 0.1115\n",
            "Epoch 86/300\n",
            "\u001b[1m240/240\u001b[0m \u001b[32m━━━━━━━━━━━━━━━━━━━━\u001b[0m\u001b[37m\u001b[0m \u001b[1m1s\u001b[0m 3ms/step - loss: 0.0416 - mean_absolute_error: 0.1121 - val_loss: 0.0411 - val_mean_absolute_error: 0.1114\n",
            "Epoch 87/300\n",
            "\u001b[1m240/240\u001b[0m \u001b[32m━━━━━━━━━━━━━━━━━━━━\u001b[0m\u001b[37m\u001b[0m \u001b[1m1s\u001b[0m 3ms/step - loss: 0.0415 - mean_absolute_error: 0.1120 - val_loss: 0.0410 - val_mean_absolute_error: 0.1112\n",
            "Epoch 88/300\n",
            "\u001b[1m240/240\u001b[0m \u001b[32m━━━━━━━━━━━━━━━━━━━━\u001b[0m\u001b[37m\u001b[0m \u001b[1m1s\u001b[0m 3ms/step - loss: 0.0414 - mean_absolute_error: 0.1119 - val_loss: 0.0409 - val_mean_absolute_error: 0.1111\n",
            "Epoch 89/300\n",
            "\u001b[1m240/240\u001b[0m \u001b[32m━━━━━━━━━━━━━━━━━━━━\u001b[0m\u001b[37m\u001b[0m \u001b[1m1s\u001b[0m 4ms/step - loss: 0.0413 - mean_absolute_error: 0.1117 - val_loss: 0.0408 - val_mean_absolute_error: 0.1110\n",
            "Epoch 90/300\n",
            "\u001b[1m240/240\u001b[0m \u001b[32m━━━━━━━━━━━━━━━━━━━━\u001b[0m\u001b[37m\u001b[0m \u001b[1m1s\u001b[0m 3ms/step - loss: 0.0413 - mean_absolute_error: 0.1117 - val_loss: 0.0407 - val_mean_absolute_error: 0.1108\n",
            "Epoch 91/300\n",
            "\u001b[1m240/240\u001b[0m \u001b[32m━━━━━━━━━━━━━━━━━━━━\u001b[0m\u001b[37m\u001b[0m \u001b[1m1s\u001b[0m 2ms/step - loss: 0.0412 - mean_absolute_error: 0.1115 - val_loss: 0.0406 - val_mean_absolute_error: 0.1107\n",
            "Epoch 92/300\n",
            "\u001b[1m240/240\u001b[0m \u001b[32m━━━━━━━━━━━━━━━━━━━━\u001b[0m\u001b[37m\u001b[0m \u001b[1m1s\u001b[0m 2ms/step - loss: 0.0409 - mean_absolute_error: 0.1109 - val_loss: 0.0405 - val_mean_absolute_error: 0.1106\n",
            "Epoch 93/300\n",
            "\u001b[1m240/240\u001b[0m \u001b[32m━━━━━━━━━━━━━━━━━━━━\u001b[0m\u001b[37m\u001b[0m \u001b[1m1s\u001b[0m 3ms/step - loss: 0.0411 - mean_absolute_error: 0.1114 - val_loss: 0.0404 - val_mean_absolute_error: 0.1105\n",
            "Epoch 94/300\n",
            "\u001b[1m240/240\u001b[0m \u001b[32m━━━━━━━━━━━━━━━━━━━━\u001b[0m\u001b[37m\u001b[0m \u001b[1m1s\u001b[0m 2ms/step - loss: 0.0409 - mean_absolute_error: 0.1109 - val_loss: 0.0404 - val_mean_absolute_error: 0.1103\n",
            "Epoch 95/300\n",
            "\u001b[1m240/240\u001b[0m \u001b[32m━━━━━━━━━━━━━━━━━━━━\u001b[0m\u001b[37m\u001b[0m \u001b[1m1s\u001b[0m 3ms/step - loss: 0.0408 - mean_absolute_error: 0.1109 - val_loss: 0.0403 - val_mean_absolute_error: 0.1102\n",
            "Epoch 96/300\n",
            "\u001b[1m240/240\u001b[0m \u001b[32m━━━━━━━━━━━━━━━━━━━━\u001b[0m\u001b[37m\u001b[0m \u001b[1m1s\u001b[0m 2ms/step - loss: 0.0406 - mean_absolute_error: 0.1106 - val_loss: 0.0402 - val_mean_absolute_error: 0.1100\n",
            "Epoch 97/300\n",
            "\u001b[1m240/240\u001b[0m \u001b[32m━━━━━━━━━━━━━━━━━━━━\u001b[0m\u001b[37m\u001b[0m \u001b[1m1s\u001b[0m 3ms/step - loss: 0.0404 - mean_absolute_error: 0.1103 - val_loss: 0.0401 - val_mean_absolute_error: 0.1099\n",
            "Epoch 98/300\n",
            "\u001b[1m240/240\u001b[0m \u001b[32m━━━━━━━━━━━━━━━━━━━━\u001b[0m\u001b[37m\u001b[0m \u001b[1m1s\u001b[0m 3ms/step - loss: 0.0405 - mean_absolute_error: 0.1104 - val_loss: 0.0400 - val_mean_absolute_error: 0.1098\n",
            "Epoch 99/300\n",
            "\u001b[1m240/240\u001b[0m \u001b[32m━━━━━━━━━━━━━━━━━━━━\u001b[0m\u001b[37m\u001b[0m \u001b[1m1s\u001b[0m 3ms/step - loss: 0.0403 - mean_absolute_error: 0.1102 - val_loss: 0.0399 - val_mean_absolute_error: 0.1097\n",
            "Epoch 100/300\n",
            "\u001b[1m240/240\u001b[0m \u001b[32m━━━━━━━━━━━━━━━━━━━━\u001b[0m\u001b[37m\u001b[0m \u001b[1m1s\u001b[0m 3ms/step - loss: 0.0404 - mean_absolute_error: 0.1103 - val_loss: 0.0398 - val_mean_absolute_error: 0.1095\n",
            "Epoch 101/300\n",
            "\u001b[1m240/240\u001b[0m \u001b[32m━━━━━━━━━━━━━━━━━━━━\u001b[0m\u001b[37m\u001b[0m \u001b[1m1s\u001b[0m 2ms/step - loss: 0.0404 - mean_absolute_error: 0.1103 - val_loss: 0.0397 - val_mean_absolute_error: 0.1094\n",
            "Epoch 102/300\n",
            "\u001b[1m240/240\u001b[0m \u001b[32m━━━━━━━━━━━━━━━━━━━━\u001b[0m\u001b[37m\u001b[0m \u001b[1m1s\u001b[0m 3ms/step - loss: 0.0402 - mean_absolute_error: 0.1101 - val_loss: 0.0397 - val_mean_absolute_error: 0.1093\n",
            "Epoch 103/300\n",
            "\u001b[1m240/240\u001b[0m \u001b[32m━━━━━━━━━━━━━━━━━━━━\u001b[0m\u001b[37m\u001b[0m \u001b[1m1s\u001b[0m 3ms/step - loss: 0.0401 - mean_absolute_error: 0.1098 - val_loss: 0.0396 - val_mean_absolute_error: 0.1091\n",
            "Epoch 104/300\n",
            "\u001b[1m240/240\u001b[0m \u001b[32m━━━━━━━━━━━━━━━━━━━━\u001b[0m\u001b[37m\u001b[0m \u001b[1m1s\u001b[0m 3ms/step - loss: 0.0399 - mean_absolute_error: 0.1097 - val_loss: 0.0395 - val_mean_absolute_error: 0.1090\n",
            "Epoch 105/300\n",
            "\u001b[1m240/240\u001b[0m \u001b[32m━━━━━━━━━━━━━━━━━━━━\u001b[0m\u001b[37m\u001b[0m \u001b[1m1s\u001b[0m 3ms/step - loss: 0.0398 - mean_absolute_error: 0.1095 - val_loss: 0.0394 - val_mean_absolute_error: 0.1089\n",
            "Epoch 106/300\n",
            "\u001b[1m240/240\u001b[0m \u001b[32m━━━━━━━━━━━━━━━━━━━━\u001b[0m\u001b[37m\u001b[0m \u001b[1m1s\u001b[0m 2ms/step - loss: 0.0398 - mean_absolute_error: 0.1094 - val_loss: 0.0393 - val_mean_absolute_error: 0.1088\n",
            "Epoch 107/300\n",
            "\u001b[1m240/240\u001b[0m \u001b[32m━━━━━━━━━━━━━━━━━━━━\u001b[0m\u001b[37m\u001b[0m \u001b[1m1s\u001b[0m 3ms/step - loss: 0.0398 - mean_absolute_error: 0.1096 - val_loss: 0.0392 - val_mean_absolute_error: 0.1086\n",
            "Epoch 108/300\n",
            "\u001b[1m240/240\u001b[0m \u001b[32m━━━━━━━━━━━━━━━━━━━━\u001b[0m\u001b[37m\u001b[0m \u001b[1m1s\u001b[0m 3ms/step - loss: 0.0395 - mean_absolute_error: 0.1091 - val_loss: 0.0391 - val_mean_absolute_error: 0.1085\n",
            "Epoch 109/300\n",
            "\u001b[1m240/240\u001b[0m \u001b[32m━━━━━━━━━━━━━━━━━━━━\u001b[0m\u001b[37m\u001b[0m \u001b[1m1s\u001b[0m 2ms/step - loss: 0.0395 - mean_absolute_error: 0.1090 - val_loss: 0.0390 - val_mean_absolute_error: 0.1084\n",
            "Epoch 110/300\n",
            "\u001b[1m240/240\u001b[0m \u001b[32m━━━━━━━━━━━━━━━━━━━━\u001b[0m\u001b[37m\u001b[0m \u001b[1m1s\u001b[0m 3ms/step - loss: 0.0396 - mean_absolute_error: 0.1092 - val_loss: 0.0389 - val_mean_absolute_error: 0.1082\n",
            "Epoch 111/300\n",
            "\u001b[1m240/240\u001b[0m \u001b[32m━━━━━━━━━━━━━━━━━━━━\u001b[0m\u001b[37m\u001b[0m \u001b[1m1s\u001b[0m 3ms/step - loss: 0.0394 - mean_absolute_error: 0.1089 - val_loss: 0.0388 - val_mean_absolute_error: 0.1081\n",
            "Epoch 112/300\n",
            "\u001b[1m240/240\u001b[0m \u001b[32m━━━━━━━━━━━━━━━━━━━━\u001b[0m\u001b[37m\u001b[0m \u001b[1m1s\u001b[0m 3ms/step - loss: 0.0392 - mean_absolute_error: 0.1086 - val_loss: 0.0387 - val_mean_absolute_error: 0.1079\n",
            "Epoch 113/300\n",
            "\u001b[1m240/240\u001b[0m \u001b[32m━━━━━━━━━━━━━━━━━━━━\u001b[0m\u001b[37m\u001b[0m \u001b[1m1s\u001b[0m 2ms/step - loss: 0.0391 - mean_absolute_error: 0.1085 - val_loss: 0.0386 - val_mean_absolute_error: 0.1078\n",
            "Epoch 114/300\n",
            "\u001b[1m240/240\u001b[0m \u001b[32m━━━━━━━━━━━━━━━━━━━━\u001b[0m\u001b[37m\u001b[0m \u001b[1m1s\u001b[0m 3ms/step - loss: 0.0394 - mean_absolute_error: 0.1088 - val_loss: 0.0385 - val_mean_absolute_error: 0.1077\n",
            "Epoch 115/300\n",
            "\u001b[1m240/240\u001b[0m \u001b[32m━━━━━━━━━━━━━━━━━━━━\u001b[0m\u001b[37m\u001b[0m \u001b[1m1s\u001b[0m 2ms/step - loss: 0.0392 - mean_absolute_error: 0.1086 - val_loss: 0.0385 - val_mean_absolute_error: 0.1075\n",
            "Epoch 116/300\n",
            "\u001b[1m240/240\u001b[0m \u001b[32m━━━━━━━━━━━━━━━━━━━━\u001b[0m\u001b[37m\u001b[0m \u001b[1m1s\u001b[0m 2ms/step - loss: 0.0389 - mean_absolute_error: 0.1083 - val_loss: 0.0384 - val_mean_absolute_error: 0.1074\n",
            "Epoch 117/300\n",
            "\u001b[1m240/240\u001b[0m \u001b[32m━━━━━━━━━━━━━━━━━━━━\u001b[0m\u001b[37m\u001b[0m \u001b[1m1s\u001b[0m 3ms/step - loss: 0.0387 - mean_absolute_error: 0.1078 - val_loss: 0.0383 - val_mean_absolute_error: 0.1073\n",
            "Epoch 118/300\n",
            "\u001b[1m240/240\u001b[0m \u001b[32m━━━━━━━━━━━━━━━━━━━━\u001b[0m\u001b[37m\u001b[0m \u001b[1m1s\u001b[0m 3ms/step - loss: 0.0387 - mean_absolute_error: 0.1079 - val_loss: 0.0382 - val_mean_absolute_error: 0.1071\n",
            "Epoch 119/300\n",
            "\u001b[1m240/240\u001b[0m \u001b[32m━━━━━━━━━━━━━━━━━━━━\u001b[0m\u001b[37m\u001b[0m \u001b[1m1s\u001b[0m 2ms/step - loss: 0.0384 - mean_absolute_error: 0.1075 - val_loss: 0.0381 - val_mean_absolute_error: 0.1070\n",
            "Epoch 120/300\n",
            "\u001b[1m240/240\u001b[0m \u001b[32m━━━━━━━━━━━━━━━━━━━━\u001b[0m\u001b[37m\u001b[0m \u001b[1m1s\u001b[0m 3ms/step - loss: 0.0384 - mean_absolute_error: 0.1075 - val_loss: 0.0380 - val_mean_absolute_error: 0.1068\n",
            "Epoch 121/300\n",
            "\u001b[1m240/240\u001b[0m \u001b[32m━━━━━━━━━━━━━━━━━━━━\u001b[0m\u001b[37m\u001b[0m \u001b[1m1s\u001b[0m 2ms/step - loss: 0.0383 - mean_absolute_error: 0.1074 - val_loss: 0.0379 - val_mean_absolute_error: 0.1067\n",
            "Epoch 122/300\n",
            "\u001b[1m240/240\u001b[0m \u001b[32m━━━━━━━━━━━━━━━━━━━━\u001b[0m\u001b[37m\u001b[0m \u001b[1m1s\u001b[0m 3ms/step - loss: 0.0382 - mean_absolute_error: 0.1072 - val_loss: 0.0378 - val_mean_absolute_error: 0.1065\n",
            "Epoch 123/300\n",
            "\u001b[1m240/240\u001b[0m \u001b[32m━━━━━━━━━━━━━━━━━━━━\u001b[0m\u001b[37m\u001b[0m \u001b[1m1s\u001b[0m 2ms/step - loss: 0.0383 - mean_absolute_error: 0.1074 - val_loss: 0.0377 - val_mean_absolute_error: 0.1064\n",
            "Epoch 124/300\n",
            "\u001b[1m240/240\u001b[0m \u001b[32m━━━━━━━━━━━━━━━━━━━━\u001b[0m\u001b[37m\u001b[0m \u001b[1m1s\u001b[0m 2ms/step - loss: 0.0379 - mean_absolute_error: 0.1067 - val_loss: 0.0376 - val_mean_absolute_error: 0.1062\n",
            "Epoch 125/300\n",
            "\u001b[1m240/240\u001b[0m \u001b[32m━━━━━━━━━━━━━━━━━━━━\u001b[0m\u001b[37m\u001b[0m \u001b[1m1s\u001b[0m 3ms/step - loss: 0.0381 - mean_absolute_error: 0.1070 - val_loss: 0.0375 - val_mean_absolute_error: 0.1061\n",
            "Epoch 126/300\n",
            "\u001b[1m240/240\u001b[0m \u001b[32m━━━━━━━━━━━━━━━━━━━━\u001b[0m\u001b[37m\u001b[0m \u001b[1m1s\u001b[0m 2ms/step - loss: 0.0378 - mean_absolute_error: 0.1065 - val_loss: 0.0374 - val_mean_absolute_error: 0.1059\n",
            "Epoch 127/300\n",
            "\u001b[1m240/240\u001b[0m \u001b[32m━━━━━━━━━━━━━━━━━━━━\u001b[0m\u001b[37m\u001b[0m \u001b[1m1s\u001b[0m 3ms/step - loss: 0.0380 - mean_absolute_error: 0.1067 - val_loss: 0.0373 - val_mean_absolute_error: 0.1058\n",
            "Epoch 128/300\n",
            "\u001b[1m240/240\u001b[0m \u001b[32m━━━━━━━━━━━━━━━━━━━━\u001b[0m\u001b[37m\u001b[0m \u001b[1m1s\u001b[0m 2ms/step - loss: 0.0377 - mean_absolute_error: 0.1064 - val_loss: 0.0372 - val_mean_absolute_error: 0.1056\n",
            "Epoch 129/300\n",
            "\u001b[1m240/240\u001b[0m \u001b[32m━━━━━━━━━━━━━━━━━━━━\u001b[0m\u001b[37m\u001b[0m \u001b[1m1s\u001b[0m 2ms/step - loss: 0.0376 - mean_absolute_error: 0.1062 - val_loss: 0.0371 - val_mean_absolute_error: 0.1055\n",
            "Epoch 130/300\n",
            "\u001b[1m240/240\u001b[0m \u001b[32m━━━━━━━━━━━━━━━━━━━━\u001b[0m\u001b[37m\u001b[0m \u001b[1m1s\u001b[0m 2ms/step - loss: 0.0378 - mean_absolute_error: 0.1063 - val_loss: 0.0371 - val_mean_absolute_error: 0.1053\n",
            "Epoch 131/300\n",
            "\u001b[1m240/240\u001b[0m \u001b[32m━━━━━━━━━━━━━━━━━━━━\u001b[0m\u001b[37m\u001b[0m \u001b[1m1s\u001b[0m 3ms/step - loss: 0.0375 - mean_absolute_error: 0.1060 - val_loss: 0.0370 - val_mean_absolute_error: 0.1051\n",
            "Epoch 132/300\n",
            "\u001b[1m240/240\u001b[0m \u001b[32m━━━━━━━━━━━━━━━━━━━━\u001b[0m\u001b[37m\u001b[0m \u001b[1m1s\u001b[0m 3ms/step - loss: 0.0373 - mean_absolute_error: 0.1058 - val_loss: 0.0369 - val_mean_absolute_error: 0.1050\n",
            "Epoch 133/300\n",
            "\u001b[1m240/240\u001b[0m \u001b[32m━━━━━━━━━━━━━━━━━━━━\u001b[0m\u001b[37m\u001b[0m \u001b[1m1s\u001b[0m 2ms/step - loss: 0.0374 - mean_absolute_error: 0.1059 - val_loss: 0.0368 - val_mean_absolute_error: 0.1048\n",
            "Epoch 134/300\n",
            "\u001b[1m240/240\u001b[0m \u001b[32m━━━━━━━━━━━━━━━━━━━━\u001b[0m\u001b[37m\u001b[0m \u001b[1m1s\u001b[0m 3ms/step - loss: 0.0372 - mean_absolute_error: 0.1054 - val_loss: 0.0367 - val_mean_absolute_error: 0.1047\n",
            "Epoch 135/300\n",
            "\u001b[1m240/240\u001b[0m \u001b[32m━━━━━━━━━━━━━━━━━━━━\u001b[0m\u001b[37m\u001b[0m \u001b[1m1s\u001b[0m 2ms/step - loss: 0.0371 - mean_absolute_error: 0.1052 - val_loss: 0.0366 - val_mean_absolute_error: 0.1045\n",
            "Epoch 136/300\n",
            "\u001b[1m240/240\u001b[0m \u001b[32m━━━━━━━━━━━━━━━━━━━━\u001b[0m\u001b[37m\u001b[0m \u001b[1m1s\u001b[0m 3ms/step - loss: 0.0369 - mean_absolute_error: 0.1050 - val_loss: 0.0365 - val_mean_absolute_error: 0.1044\n",
            "Epoch 137/300\n",
            "\u001b[1m240/240\u001b[0m \u001b[32m━━━━━━━━━━━━━━━━━━━━\u001b[0m\u001b[37m\u001b[0m \u001b[1m1s\u001b[0m 3ms/step - loss: 0.0368 - mean_absolute_error: 0.1049 - val_loss: 0.0365 - val_mean_absolute_error: 0.1042\n",
            "Epoch 138/300\n",
            "\u001b[1m240/240\u001b[0m \u001b[32m━━━━━━━━━━━━━━━━━━━━\u001b[0m\u001b[37m\u001b[0m \u001b[1m1s\u001b[0m 3ms/step - loss: 0.0368 - mean_absolute_error: 0.1047 - val_loss: 0.0364 - val_mean_absolute_error: 0.1040\n",
            "Epoch 139/300\n",
            "\u001b[1m240/240\u001b[0m \u001b[32m━━━━━━━━━━━━━━━━━━━━\u001b[0m\u001b[37m\u001b[0m \u001b[1m1s\u001b[0m 3ms/step - loss: 0.0368 - mean_absolute_error: 0.1047 - val_loss: 0.0363 - val_mean_absolute_error: 0.1039\n",
            "Epoch 140/300\n",
            "\u001b[1m240/240\u001b[0m \u001b[32m━━━━━━━━━━━━━━━━━━━━\u001b[0m\u001b[37m\u001b[0m \u001b[1m1s\u001b[0m 3ms/step - loss: 0.0368 - mean_absolute_error: 0.1046 - val_loss: 0.0362 - val_mean_absolute_error: 0.1037\n",
            "Epoch 141/300\n",
            "\u001b[1m240/240\u001b[0m \u001b[32m━━━━━━━━━━━━━━━━━━━━\u001b[0m\u001b[37m\u001b[0m \u001b[1m1s\u001b[0m 3ms/step - loss: 0.0367 - mean_absolute_error: 0.1044 - val_loss: 0.0361 - val_mean_absolute_error: 0.1036\n",
            "Epoch 142/300\n",
            "\u001b[1m240/240\u001b[0m \u001b[32m━━━━━━━━━━━━━━━━━━━━\u001b[0m\u001b[37m\u001b[0m \u001b[1m1s\u001b[0m 3ms/step - loss: 0.0366 - mean_absolute_error: 0.1043 - val_loss: 0.0360 - val_mean_absolute_error: 0.1034\n",
            "Epoch 143/300\n",
            "\u001b[1m240/240\u001b[0m \u001b[32m━━━━━━━━━━━━━━━━━━━━\u001b[0m\u001b[37m\u001b[0m \u001b[1m1s\u001b[0m 3ms/step - loss: 0.0366 - mean_absolute_error: 0.1043 - val_loss: 0.0360 - val_mean_absolute_error: 0.1033\n",
            "Epoch 144/300\n",
            "\u001b[1m240/240\u001b[0m \u001b[32m━━━━━━━━━━━━━━━━━━━━\u001b[0m\u001b[37m\u001b[0m \u001b[1m1s\u001b[0m 3ms/step - loss: 0.0363 - mean_absolute_error: 0.1038 - val_loss: 0.0359 - val_mean_absolute_error: 0.1032\n",
            "Epoch 145/300\n",
            "\u001b[1m240/240\u001b[0m \u001b[32m━━━━━━━━━━━━━━━━━━━━\u001b[0m\u001b[37m\u001b[0m \u001b[1m1s\u001b[0m 4ms/step - loss: 0.0363 - mean_absolute_error: 0.1038 - val_loss: 0.0358 - val_mean_absolute_error: 0.1030\n",
            "Epoch 146/300\n",
            "\u001b[1m240/240\u001b[0m \u001b[32m━━━━━━━━━━━━━━━━━━━━\u001b[0m\u001b[37m\u001b[0m \u001b[1m1s\u001b[0m 3ms/step - loss: 0.0365 - mean_absolute_error: 0.1039 - val_loss: 0.0357 - val_mean_absolute_error: 0.1028\n",
            "Epoch 147/300\n",
            "\u001b[1m240/240\u001b[0m \u001b[32m━━━━━━━━━━━━━━━━━━━━\u001b[0m\u001b[37m\u001b[0m \u001b[1m1s\u001b[0m 3ms/step - loss: 0.0360 - mean_absolute_error: 0.1032 - val_loss: 0.0357 - val_mean_absolute_error: 0.1027\n",
            "Epoch 148/300\n",
            "\u001b[1m240/240\u001b[0m \u001b[32m━━━━━━━━━━━━━━━━━━━━\u001b[0m\u001b[37m\u001b[0m \u001b[1m1s\u001b[0m 2ms/step - loss: 0.0360 - mean_absolute_error: 0.1031 - val_loss: 0.0356 - val_mean_absolute_error: 0.1025\n",
            "Epoch 149/300\n",
            "\u001b[1m240/240\u001b[0m \u001b[32m━━━━━━━━━━━━━━━━━━━━\u001b[0m\u001b[37m\u001b[0m \u001b[1m1s\u001b[0m 3ms/step - loss: 0.0358 - mean_absolute_error: 0.1028 - val_loss: 0.0355 - val_mean_absolute_error: 0.1024\n",
            "Epoch 150/300\n",
            "\u001b[1m240/240\u001b[0m \u001b[32m━━━━━━━━━━━━━━━━━━━━\u001b[0m\u001b[37m\u001b[0m \u001b[1m1s\u001b[0m 3ms/step - loss: 0.0359 - mean_absolute_error: 0.1029 - val_loss: 0.0354 - val_mean_absolute_error: 0.1022\n",
            "Epoch 151/300\n",
            "\u001b[1m240/240\u001b[0m \u001b[32m━━━━━━━━━━━━━━━━━━━━\u001b[0m\u001b[37m\u001b[0m \u001b[1m1s\u001b[0m 2ms/step - loss: 0.0358 - mean_absolute_error: 0.1029 - val_loss: 0.0354 - val_mean_absolute_error: 0.1021\n",
            "Epoch 152/300\n",
            "\u001b[1m240/240\u001b[0m \u001b[32m━━━━━━━━━━━━━━━━━━━━\u001b[0m\u001b[37m\u001b[0m \u001b[1m1s\u001b[0m 2ms/step - loss: 0.0358 - mean_absolute_error: 0.1027 - val_loss: 0.0353 - val_mean_absolute_error: 0.1019\n",
            "Epoch 153/300\n",
            "\u001b[1m240/240\u001b[0m \u001b[32m━━━━━━━━━━━━━━━━━━━━\u001b[0m\u001b[37m\u001b[0m \u001b[1m1s\u001b[0m 3ms/step - loss: 0.0356 - mean_absolute_error: 0.1024 - val_loss: 0.0352 - val_mean_absolute_error: 0.1018\n",
            "Epoch 154/300\n",
            "\u001b[1m240/240\u001b[0m \u001b[32m━━━━━━━━━━━━━━━━━━━━\u001b[0m\u001b[37m\u001b[0m \u001b[1m1s\u001b[0m 3ms/step - loss: 0.0356 - mean_absolute_error: 0.1023 - val_loss: 0.0352 - val_mean_absolute_error: 0.1017\n",
            "Epoch 155/300\n",
            "\u001b[1m240/240\u001b[0m \u001b[32m━━━━━━━━━━━━━━━━━━━━\u001b[0m\u001b[37m\u001b[0m \u001b[1m1s\u001b[0m 2ms/step - loss: 0.0355 - mean_absolute_error: 0.1022 - val_loss: 0.0351 - val_mean_absolute_error: 0.1015\n",
            "Epoch 156/300\n",
            "\u001b[1m240/240\u001b[0m \u001b[32m━━━━━━━━━━━━━━━━━━━━\u001b[0m\u001b[37m\u001b[0m \u001b[1m1s\u001b[0m 2ms/step - loss: 0.0354 - mean_absolute_error: 0.1020 - val_loss: 0.0350 - val_mean_absolute_error: 0.1014\n",
            "Epoch 157/300\n",
            "\u001b[1m240/240\u001b[0m \u001b[32m━━━━━━━━━━━━━━━━━━━━\u001b[0m\u001b[37m\u001b[0m \u001b[1m1s\u001b[0m 3ms/step - loss: 0.0354 - mean_absolute_error: 0.1019 - val_loss: 0.0349 - val_mean_absolute_error: 0.1013\n",
            "Epoch 158/300\n",
            "\u001b[1m240/240\u001b[0m \u001b[32m━━━━━━━━━━━━━━━━━━━━\u001b[0m\u001b[37m\u001b[0m \u001b[1m1s\u001b[0m 3ms/step - loss: 0.0353 - mean_absolute_error: 0.1018 - val_loss: 0.0349 - val_mean_absolute_error: 0.1011\n",
            "Epoch 159/300\n",
            "\u001b[1m240/240\u001b[0m \u001b[32m━━━━━━━━━━━━━━━━━━━━\u001b[0m\u001b[37m\u001b[0m \u001b[1m1s\u001b[0m 4ms/step - loss: 0.0353 - mean_absolute_error: 0.1017 - val_loss: 0.0348 - val_mean_absolute_error: 0.1010\n",
            "Epoch 160/300\n",
            "\u001b[1m240/240\u001b[0m \u001b[32m━━━━━━━━━━━━━━━━━━━━\u001b[0m\u001b[37m\u001b[0m \u001b[1m1s\u001b[0m 3ms/step - loss: 0.0353 - mean_absolute_error: 0.1016 - val_loss: 0.0347 - val_mean_absolute_error: 0.1008\n",
            "Epoch 161/300\n",
            "\u001b[1m240/240\u001b[0m \u001b[32m━━━━━━━━━━━━━━━━━━━━\u001b[0m\u001b[37m\u001b[0m \u001b[1m1s\u001b[0m 2ms/step - loss: 0.0353 - mean_absolute_error: 0.1016 - val_loss: 0.0347 - val_mean_absolute_error: 0.1007\n",
            "Epoch 162/300\n",
            "\u001b[1m240/240\u001b[0m \u001b[32m━━━━━━━━━━━━━━━━━━━━\u001b[0m\u001b[37m\u001b[0m \u001b[1m1s\u001b[0m 2ms/step - loss: 0.0351 - mean_absolute_error: 0.1013 - val_loss: 0.0346 - val_mean_absolute_error: 0.1006\n",
            "Epoch 163/300\n",
            "\u001b[1m240/240\u001b[0m \u001b[32m━━━━━━━━━━━━━━━━━━━━\u001b[0m\u001b[37m\u001b[0m \u001b[1m1s\u001b[0m 3ms/step - loss: 0.0351 - mean_absolute_error: 0.1012 - val_loss: 0.0346 - val_mean_absolute_error: 0.1005\n",
            "Epoch 164/300\n",
            "\u001b[1m240/240\u001b[0m \u001b[32m━━━━━━━━━━━━━━━━━━━━\u001b[0m\u001b[37m\u001b[0m \u001b[1m1s\u001b[0m 3ms/step - loss: 0.0350 - mean_absolute_error: 0.1011 - val_loss: 0.0345 - val_mean_absolute_error: 0.1003\n",
            "Epoch 165/300\n",
            "\u001b[1m240/240\u001b[0m \u001b[32m━━━━━━━━━━━━━━━━━━━━\u001b[0m\u001b[37m\u001b[0m \u001b[1m1s\u001b[0m 3ms/step - loss: 0.0348 - mean_absolute_error: 0.1008 - val_loss: 0.0344 - val_mean_absolute_error: 0.1002\n",
            "Epoch 166/300\n",
            "\u001b[1m240/240\u001b[0m \u001b[32m━━━━━━━━━━━━━━━━━━━━\u001b[0m\u001b[37m\u001b[0m \u001b[1m1s\u001b[0m 2ms/step - loss: 0.0349 - mean_absolute_error: 0.1009 - val_loss: 0.0344 - val_mean_absolute_error: 0.1001\n",
            "Epoch 167/300\n",
            "\u001b[1m240/240\u001b[0m \u001b[32m━━━━━━━━━━━━━━━━━━━━\u001b[0m\u001b[37m\u001b[0m \u001b[1m1s\u001b[0m 2ms/step - loss: 0.0349 - mean_absolute_error: 0.1008 - val_loss: 0.0343 - val_mean_absolute_error: 0.1000\n",
            "Epoch 168/300\n",
            "\u001b[1m240/240\u001b[0m \u001b[32m━━━━━━━━━━━━━━━━━━━━\u001b[0m\u001b[37m\u001b[0m \u001b[1m1s\u001b[0m 3ms/step - loss: 0.0349 - mean_absolute_error: 0.1009 - val_loss: 0.0342 - val_mean_absolute_error: 0.0998\n",
            "Epoch 169/300\n",
            "\u001b[1m240/240\u001b[0m \u001b[32m━━━━━━━━━━━━━━━━━━━━\u001b[0m\u001b[37m\u001b[0m \u001b[1m1s\u001b[0m 2ms/step - loss: 0.0347 - mean_absolute_error: 0.1005 - val_loss: 0.0342 - val_mean_absolute_error: 0.0997\n",
            "Epoch 170/300\n",
            "\u001b[1m240/240\u001b[0m \u001b[32m━━━━━━━━━━━━━━━━━━━━\u001b[0m\u001b[37m\u001b[0m \u001b[1m1s\u001b[0m 3ms/step - loss: 0.0343 - mean_absolute_error: 0.1000 - val_loss: 0.0341 - val_mean_absolute_error: 0.0996\n",
            "Epoch 171/300\n",
            "\u001b[1m240/240\u001b[0m \u001b[32m━━━━━━━━━━━━━━━━━━━━\u001b[0m\u001b[37m\u001b[0m \u001b[1m1s\u001b[0m 2ms/step - loss: 0.0343 - mean_absolute_error: 0.0999 - val_loss: 0.0341 - val_mean_absolute_error: 0.0995\n",
            "Epoch 172/300\n",
            "\u001b[1m240/240\u001b[0m \u001b[32m━━━━━━━━━━━━━━━━━━━━\u001b[0m\u001b[37m\u001b[0m \u001b[1m1s\u001b[0m 2ms/step - loss: 0.0345 - mean_absolute_error: 0.1001 - val_loss: 0.0340 - val_mean_absolute_error: 0.0994\n",
            "Epoch 173/300\n",
            "\u001b[1m240/240\u001b[0m \u001b[32m━━━━━━━━━━━━━━━━━━━━\u001b[0m\u001b[37m\u001b[0m \u001b[1m1s\u001b[0m 3ms/step - loss: 0.0343 - mean_absolute_error: 0.0998 - val_loss: 0.0339 - val_mean_absolute_error: 0.0992\n",
            "Epoch 174/300\n",
            "\u001b[1m240/240\u001b[0m \u001b[32m━━━━━━━━━━━━━━━━━━━━\u001b[0m\u001b[37m\u001b[0m \u001b[1m1s\u001b[0m 4ms/step - loss: 0.0344 - mean_absolute_error: 0.0998 - val_loss: 0.0339 - val_mean_absolute_error: 0.0991\n",
            "Epoch 175/300\n",
            "\u001b[1m240/240\u001b[0m \u001b[32m━━━━━━━━━━━━━━━━━━━━\u001b[0m\u001b[37m\u001b[0m \u001b[1m1s\u001b[0m 3ms/step - loss: 0.0343 - mean_absolute_error: 0.0996 - val_loss: 0.0338 - val_mean_absolute_error: 0.0990\n",
            "Epoch 176/300\n",
            "\u001b[1m240/240\u001b[0m \u001b[32m━━━━━━━━━━━━━━━━━━━━\u001b[0m\u001b[37m\u001b[0m \u001b[1m1s\u001b[0m 2ms/step - loss: 0.0341 - mean_absolute_error: 0.0995 - val_loss: 0.0338 - val_mean_absolute_error: 0.0989\n",
            "Epoch 177/300\n",
            "\u001b[1m240/240\u001b[0m \u001b[32m━━━━━━━━━━━━━━━━━━━━\u001b[0m\u001b[37m\u001b[0m \u001b[1m1s\u001b[0m 3ms/step - loss: 0.0344 - mean_absolute_error: 0.0999 - val_loss: 0.0337 - val_mean_absolute_error: 0.0988\n",
            "Epoch 178/300\n",
            "\u001b[1m240/240\u001b[0m \u001b[32m━━━━━━━━━━━━━━━━━━━━\u001b[0m\u001b[37m\u001b[0m \u001b[1m1s\u001b[0m 2ms/step - loss: 0.0341 - mean_absolute_error: 0.0995 - val_loss: 0.0336 - val_mean_absolute_error: 0.0987\n",
            "Epoch 179/300\n",
            "\u001b[1m240/240\u001b[0m \u001b[32m━━━━━━━━━━━━━━━━━━━━\u001b[0m\u001b[37m\u001b[0m \u001b[1m1s\u001b[0m 3ms/step - loss: 0.0340 - mean_absolute_error: 0.0992 - val_loss: 0.0336 - val_mean_absolute_error: 0.0986\n",
            "Epoch 180/300\n",
            "\u001b[1m240/240\u001b[0m \u001b[32m━━━━━━━━━━━━━━━━━━━━\u001b[0m\u001b[37m\u001b[0m \u001b[1m1s\u001b[0m 3ms/step - loss: 0.0341 - mean_absolute_error: 0.0992 - val_loss: 0.0335 - val_mean_absolute_error: 0.0984\n",
            "Epoch 181/300\n",
            "\u001b[1m240/240\u001b[0m \u001b[32m━━━━━━━━━━━━━━━━━━━━\u001b[0m\u001b[37m\u001b[0m \u001b[1m1s\u001b[0m 3ms/step - loss: 0.0341 - mean_absolute_error: 0.0993 - val_loss: 0.0335 - val_mean_absolute_error: 0.0983\n",
            "Epoch 182/300\n",
            "\u001b[1m240/240\u001b[0m \u001b[32m━━━━━━━━━━━━━━━━━━━━\u001b[0m\u001b[37m\u001b[0m \u001b[1m1s\u001b[0m 2ms/step - loss: 0.0340 - mean_absolute_error: 0.0990 - val_loss: 0.0334 - val_mean_absolute_error: 0.0982\n",
            "Epoch 183/300\n",
            "\u001b[1m240/240\u001b[0m \u001b[32m━━━━━━━━━━━━━━━━━━━━\u001b[0m\u001b[37m\u001b[0m \u001b[1m1s\u001b[0m 3ms/step - loss: 0.0338 - mean_absolute_error: 0.0989 - val_loss: 0.0333 - val_mean_absolute_error: 0.0981\n",
            "Epoch 184/300\n",
            "\u001b[1m240/240\u001b[0m \u001b[32m━━━━━━━━━━━━━━━━━━━━\u001b[0m\u001b[37m\u001b[0m \u001b[1m1s\u001b[0m 3ms/step - loss: 0.0339 - mean_absolute_error: 0.0989 - val_loss: 0.0333 - val_mean_absolute_error: 0.0980\n",
            "Epoch 185/300\n",
            "\u001b[1m240/240\u001b[0m \u001b[32m━━━━━━━━━━━━━━━━━━━━\u001b[0m\u001b[37m\u001b[0m \u001b[1m1s\u001b[0m 3ms/step - loss: 0.0340 - mean_absolute_error: 0.0990 - val_loss: 0.0332 - val_mean_absolute_error: 0.0979\n",
            "Epoch 186/300\n",
            "\u001b[1m240/240\u001b[0m \u001b[32m━━━━━━━━━━━━━━━━━━━━\u001b[0m\u001b[37m\u001b[0m \u001b[1m1s\u001b[0m 4ms/step - loss: 0.0335 - mean_absolute_error: 0.0982 - val_loss: 0.0332 - val_mean_absolute_error: 0.0978\n",
            "Epoch 187/300\n",
            "\u001b[1m240/240\u001b[0m \u001b[32m━━━━━━━━━━━━━━━━━━━━\u001b[0m\u001b[37m\u001b[0m \u001b[1m1s\u001b[0m 3ms/step - loss: 0.0338 - mean_absolute_error: 0.0987 - val_loss: 0.0331 - val_mean_absolute_error: 0.0977\n",
            "Epoch 188/300\n",
            "\u001b[1m240/240\u001b[0m \u001b[32m━━━━━━━━━━━━━━━━━━━━\u001b[0m\u001b[37m\u001b[0m \u001b[1m1s\u001b[0m 3ms/step - loss: 0.0336 - mean_absolute_error: 0.0985 - val_loss: 0.0331 - val_mean_absolute_error: 0.0976\n",
            "Epoch 189/300\n",
            "\u001b[1m240/240\u001b[0m \u001b[32m━━━━━━━━━━━━━━━━━━━━\u001b[0m\u001b[37m\u001b[0m \u001b[1m1s\u001b[0m 2ms/step - loss: 0.0334 - mean_absolute_error: 0.0981 - val_loss: 0.0330 - val_mean_absolute_error: 0.0975\n",
            "Epoch 190/300\n",
            "\u001b[1m240/240\u001b[0m \u001b[32m━━━━━━━━━━━━━━━━━━━━\u001b[0m\u001b[37m\u001b[0m \u001b[1m1s\u001b[0m 3ms/step - loss: 0.0335 - mean_absolute_error: 0.0981 - val_loss: 0.0329 - val_mean_absolute_error: 0.0973\n",
            "Epoch 191/300\n",
            "\u001b[1m240/240\u001b[0m \u001b[32m━━━━━━━━━━━━━━━━━━━━\u001b[0m\u001b[37m\u001b[0m \u001b[1m1s\u001b[0m 3ms/step - loss: 0.0333 - mean_absolute_error: 0.0979 - val_loss: 0.0329 - val_mean_absolute_error: 0.0973\n",
            "Epoch 192/300\n",
            "\u001b[1m240/240\u001b[0m \u001b[32m━━━━━━━━━━━━━━━━━━━━\u001b[0m\u001b[37m\u001b[0m \u001b[1m1s\u001b[0m 3ms/step - loss: 0.0334 - mean_absolute_error: 0.0981 - val_loss: 0.0328 - val_mean_absolute_error: 0.0972\n",
            "Epoch 193/300\n",
            "\u001b[1m240/240\u001b[0m \u001b[32m━━━━━━━━━━━━━━━━━━━━\u001b[0m\u001b[37m\u001b[0m \u001b[1m1s\u001b[0m 2ms/step - loss: 0.0333 - mean_absolute_error: 0.0981 - val_loss: 0.0328 - val_mean_absolute_error: 0.0971\n",
            "Epoch 194/300\n",
            "\u001b[1m240/240\u001b[0m \u001b[32m━━━━━━━━━━━━━━━━━━━━\u001b[0m\u001b[37m\u001b[0m \u001b[1m1s\u001b[0m 3ms/step - loss: 0.0332 - mean_absolute_error: 0.0978 - val_loss: 0.0327 - val_mean_absolute_error: 0.0970\n",
            "Epoch 195/300\n",
            "\u001b[1m240/240\u001b[0m \u001b[32m━━━━━━━━━━━━━━━━━━━━\u001b[0m\u001b[37m\u001b[0m \u001b[1m1s\u001b[0m 2ms/step - loss: 0.0333 - mean_absolute_error: 0.0979 - val_loss: 0.0327 - val_mean_absolute_error: 0.0969\n",
            "Epoch 196/300\n",
            "\u001b[1m240/240\u001b[0m \u001b[32m━━━━━━━━━━━━━━━━━━━━\u001b[0m\u001b[37m\u001b[0m \u001b[1m1s\u001b[0m 2ms/step - loss: 0.0331 - mean_absolute_error: 0.0975 - val_loss: 0.0326 - val_mean_absolute_error: 0.0968\n",
            "Epoch 197/300\n",
            "\u001b[1m240/240\u001b[0m \u001b[32m━━━━━━━━━━━━━━━━━━━━\u001b[0m\u001b[37m\u001b[0m \u001b[1m1s\u001b[0m 3ms/step - loss: 0.0329 - mean_absolute_error: 0.0972 - val_loss: 0.0325 - val_mean_absolute_error: 0.0967\n",
            "Epoch 198/300\n",
            "\u001b[1m240/240\u001b[0m \u001b[32m━━━━━━━━━━━━━━━━━━━━\u001b[0m\u001b[37m\u001b[0m \u001b[1m1s\u001b[0m 3ms/step - loss: 0.0331 - mean_absolute_error: 0.0975 - val_loss: 0.0325 - val_mean_absolute_error: 0.0965\n",
            "Epoch 199/300\n",
            "\u001b[1m240/240\u001b[0m \u001b[32m━━━━━━━━━━━━━━━━━━━━\u001b[0m\u001b[37m\u001b[0m \u001b[1m1s\u001b[0m 3ms/step - loss: 0.0331 - mean_absolute_error: 0.0975 - val_loss: 0.0324 - val_mean_absolute_error: 0.0965\n",
            "Epoch 200/300\n",
            "\u001b[1m240/240\u001b[0m \u001b[32m━━━━━━━━━━━━━━━━━━━━\u001b[0m\u001b[37m\u001b[0m \u001b[1m1s\u001b[0m 3ms/step - loss: 0.0327 - mean_absolute_error: 0.0968 - val_loss: 0.0324 - val_mean_absolute_error: 0.0964\n",
            "Epoch 201/300\n",
            "\u001b[1m240/240\u001b[0m \u001b[32m━━━━━━━━━━━━━━━━━━━━\u001b[0m\u001b[37m\u001b[0m \u001b[1m1s\u001b[0m 3ms/step - loss: 0.0327 - mean_absolute_error: 0.0970 - val_loss: 0.0323 - val_mean_absolute_error: 0.0963\n",
            "Epoch 202/300\n",
            "\u001b[1m240/240\u001b[0m \u001b[32m━━━━━━━━━━━━━━━━━━━━\u001b[0m\u001b[37m\u001b[0m \u001b[1m1s\u001b[0m 3ms/step - loss: 0.0327 - mean_absolute_error: 0.0968 - val_loss: 0.0323 - val_mean_absolute_error: 0.0962\n",
            "Epoch 203/300\n",
            "\u001b[1m240/240\u001b[0m \u001b[32m━━━━━━━━━━━━━━━━━━━━\u001b[0m\u001b[37m\u001b[0m \u001b[1m1s\u001b[0m 2ms/step - loss: 0.0326 - mean_absolute_error: 0.0966 - val_loss: 0.0322 - val_mean_absolute_error: 0.0961\n",
            "Epoch 204/300\n",
            "\u001b[1m240/240\u001b[0m \u001b[32m━━━━━━━━━━━━━━━━━━━━\u001b[0m\u001b[37m\u001b[0m \u001b[1m1s\u001b[0m 3ms/step - loss: 0.0327 - mean_absolute_error: 0.0969 - val_loss: 0.0321 - val_mean_absolute_error: 0.0960\n",
            "Epoch 205/300\n",
            "\u001b[1m240/240\u001b[0m \u001b[32m━━━━━━━━━━━━━━━━━━━━\u001b[0m\u001b[37m\u001b[0m \u001b[1m1s\u001b[0m 3ms/step - loss: 0.0327 - mean_absolute_error: 0.0968 - val_loss: 0.0321 - val_mean_absolute_error: 0.0959\n",
            "Epoch 206/300\n",
            "\u001b[1m240/240\u001b[0m \u001b[32m━━━━━━━━━━━━━━━━━━━━\u001b[0m\u001b[37m\u001b[0m \u001b[1m1s\u001b[0m 2ms/step - loss: 0.0325 - mean_absolute_error: 0.0963 - val_loss: 0.0320 - val_mean_absolute_error: 0.0958\n",
            "Epoch 207/300\n",
            "\u001b[1m240/240\u001b[0m \u001b[32m━━━━━━━━━━━━━━━━━━━━\u001b[0m\u001b[37m\u001b[0m \u001b[1m1s\u001b[0m 3ms/step - loss: 0.0324 - mean_absolute_error: 0.0964 - val_loss: 0.0320 - val_mean_absolute_error: 0.0957\n",
            "Epoch 208/300\n",
            "\u001b[1m240/240\u001b[0m \u001b[32m━━━━━━━━━━━━━━━━━━━━\u001b[0m\u001b[37m\u001b[0m \u001b[1m1s\u001b[0m 3ms/step - loss: 0.0324 - mean_absolute_error: 0.0963 - val_loss: 0.0319 - val_mean_absolute_error: 0.0956\n",
            "Epoch 209/300\n",
            "\u001b[1m240/240\u001b[0m \u001b[32m━━━━━━━━━━━━━━━━━━━━\u001b[0m\u001b[37m\u001b[0m \u001b[1m1s\u001b[0m 2ms/step - loss: 0.0324 - mean_absolute_error: 0.0961 - val_loss: 0.0319 - val_mean_absolute_error: 0.0955\n",
            "Epoch 210/300\n",
            "\u001b[1m240/240\u001b[0m \u001b[32m━━━━━━━━━━━━━━━━━━━━\u001b[0m\u001b[37m\u001b[0m \u001b[1m1s\u001b[0m 2ms/step - loss: 0.0326 - mean_absolute_error: 0.0966 - val_loss: 0.0318 - val_mean_absolute_error: 0.0954\n",
            "Epoch 211/300\n",
            "\u001b[1m240/240\u001b[0m \u001b[32m━━━━━━━━━━━━━━━━━━━━\u001b[0m\u001b[37m\u001b[0m \u001b[1m1s\u001b[0m 3ms/step - loss: 0.0322 - mean_absolute_error: 0.0960 - val_loss: 0.0318 - val_mean_absolute_error: 0.0953\n",
            "Epoch 212/300\n",
            "\u001b[1m240/240\u001b[0m \u001b[32m━━━━━━━━━━━━━━━━━━━━\u001b[0m\u001b[37m\u001b[0m \u001b[1m1s\u001b[0m 3ms/step - loss: 0.0323 - mean_absolute_error: 0.0961 - val_loss: 0.0317 - val_mean_absolute_error: 0.0952\n",
            "Epoch 213/300\n",
            "\u001b[1m240/240\u001b[0m \u001b[32m━━━━━━━━━━━━━━━━━━━━\u001b[0m\u001b[37m\u001b[0m \u001b[1m1s\u001b[0m 3ms/step - loss: 0.0320 - mean_absolute_error: 0.0957 - val_loss: 0.0317 - val_mean_absolute_error: 0.0951\n",
            "Epoch 214/300\n",
            "\u001b[1m240/240\u001b[0m \u001b[32m━━━━━━━━━━━━━━━━━━━━\u001b[0m\u001b[37m\u001b[0m \u001b[1m1s\u001b[0m 4ms/step - loss: 0.0321 - mean_absolute_error: 0.0957 - val_loss: 0.0316 - val_mean_absolute_error: 0.0951\n",
            "Epoch 215/300\n",
            "\u001b[1m240/240\u001b[0m \u001b[32m━━━━━━━━━━━━━━━━━━━━\u001b[0m\u001b[37m\u001b[0m \u001b[1m1s\u001b[0m 3ms/step - loss: 0.0320 - mean_absolute_error: 0.0957 - val_loss: 0.0316 - val_mean_absolute_error: 0.0950\n",
            "Epoch 216/300\n",
            "\u001b[1m240/240\u001b[0m \u001b[32m━━━━━━━━━━━━━━━━━━━━\u001b[0m\u001b[37m\u001b[0m \u001b[1m1s\u001b[0m 3ms/step - loss: 0.0319 - mean_absolute_error: 0.0955 - val_loss: 0.0315 - val_mean_absolute_error: 0.0949\n",
            "Epoch 217/300\n",
            "\u001b[1m240/240\u001b[0m \u001b[32m━━━━━━━━━━━━━━━━━━━━\u001b[0m\u001b[37m\u001b[0m \u001b[1m1s\u001b[0m 3ms/step - loss: 0.0319 - mean_absolute_error: 0.0954 - val_loss: 0.0314 - val_mean_absolute_error: 0.0948\n",
            "Epoch 218/300\n",
            "\u001b[1m240/240\u001b[0m \u001b[32m━━━━━━━━━━━━━━━━━━━━\u001b[0m\u001b[37m\u001b[0m \u001b[1m1s\u001b[0m 3ms/step - loss: 0.0320 - mean_absolute_error: 0.0955 - val_loss: 0.0314 - val_mean_absolute_error: 0.0947\n",
            "Epoch 219/300\n",
            "\u001b[1m240/240\u001b[0m \u001b[32m━━━━━━━━━━━━━━━━━━━━\u001b[0m\u001b[37m\u001b[0m \u001b[1m1s\u001b[0m 2ms/step - loss: 0.0319 - mean_absolute_error: 0.0955 - val_loss: 0.0313 - val_mean_absolute_error: 0.0946\n",
            "Epoch 220/300\n",
            "\u001b[1m240/240\u001b[0m \u001b[32m━━━━━━━━━━━━━━━━━━━━\u001b[0m\u001b[37m\u001b[0m \u001b[1m1s\u001b[0m 3ms/step - loss: 0.0320 - mean_absolute_error: 0.0957 - val_loss: 0.0313 - val_mean_absolute_error: 0.0945\n",
            "Epoch 221/300\n",
            "\u001b[1m240/240\u001b[0m \u001b[32m━━━━━━━━━━━━━━━━━━━━\u001b[0m\u001b[37m\u001b[0m \u001b[1m1s\u001b[0m 2ms/step - loss: 0.0319 - mean_absolute_error: 0.0953 - val_loss: 0.0312 - val_mean_absolute_error: 0.0944\n",
            "Epoch 222/300\n",
            "\u001b[1m240/240\u001b[0m \u001b[32m━━━━━━━━━━━━━━━━━━━━\u001b[0m\u001b[37m\u001b[0m \u001b[1m1s\u001b[0m 3ms/step - loss: 0.0317 - mean_absolute_error: 0.0951 - val_loss: 0.0312 - val_mean_absolute_error: 0.0944\n",
            "Epoch 223/300\n",
            "\u001b[1m240/240\u001b[0m \u001b[32m━━━━━━━━━━━━━━━━━━━━\u001b[0m\u001b[37m\u001b[0m \u001b[1m1s\u001b[0m 3ms/step - loss: 0.0315 - mean_absolute_error: 0.0949 - val_loss: 0.0312 - val_mean_absolute_error: 0.0943\n",
            "Epoch 224/300\n",
            "\u001b[1m240/240\u001b[0m \u001b[32m━━━━━━━━━━━━━━━━━━━━\u001b[0m\u001b[37m\u001b[0m \u001b[1m1s\u001b[0m 3ms/step - loss: 0.0315 - mean_absolute_error: 0.0948 - val_loss: 0.0311 - val_mean_absolute_error: 0.0942\n",
            "Epoch 225/300\n",
            "\u001b[1m240/240\u001b[0m \u001b[32m━━━━━━━━━━━━━━━━━━━━\u001b[0m\u001b[37m\u001b[0m \u001b[1m1s\u001b[0m 3ms/step - loss: 0.0314 - mean_absolute_error: 0.0948 - val_loss: 0.0310 - val_mean_absolute_error: 0.0941\n",
            "Epoch 226/300\n",
            "\u001b[1m240/240\u001b[0m \u001b[32m━━━━━━━━━━━━━━━━━━━━\u001b[0m\u001b[37m\u001b[0m \u001b[1m1s\u001b[0m 2ms/step - loss: 0.0315 - mean_absolute_error: 0.0948 - val_loss: 0.0310 - val_mean_absolute_error: 0.0940\n",
            "Epoch 227/300\n",
            "\u001b[1m240/240\u001b[0m \u001b[32m━━━━━━━━━━━━━━━━━━━━\u001b[0m\u001b[37m\u001b[0m \u001b[1m1s\u001b[0m 3ms/step - loss: 0.0315 - mean_absolute_error: 0.0947 - val_loss: 0.0310 - val_mean_absolute_error: 0.0939\n",
            "Epoch 228/300\n",
            "\u001b[1m240/240\u001b[0m \u001b[32m━━━━━━━━━━━━━━━━━━━━\u001b[0m\u001b[37m\u001b[0m \u001b[1m1s\u001b[0m 4ms/step - loss: 0.0315 - mean_absolute_error: 0.0947 - val_loss: 0.0309 - val_mean_absolute_error: 0.0939\n",
            "Epoch 229/300\n",
            "\u001b[1m240/240\u001b[0m \u001b[32m━━━━━━━━━━━━━━━━━━━━\u001b[0m\u001b[37m\u001b[0m \u001b[1m1s\u001b[0m 4ms/step - loss: 0.0313 - mean_absolute_error: 0.0945 - val_loss: 0.0309 - val_mean_absolute_error: 0.0938\n",
            "Epoch 230/300\n",
            "\u001b[1m240/240\u001b[0m \u001b[32m━━━━━━━━━━━━━━━━━━━━\u001b[0m\u001b[37m\u001b[0m \u001b[1m1s\u001b[0m 3ms/step - loss: 0.0311 - mean_absolute_error: 0.0941 - val_loss: 0.0308 - val_mean_absolute_error: 0.0937\n",
            "Epoch 231/300\n",
            "\u001b[1m240/240\u001b[0m \u001b[32m━━━━━━━━━━━━━━━━━━━━\u001b[0m\u001b[37m\u001b[0m \u001b[1m1s\u001b[0m 2ms/step - loss: 0.0313 - mean_absolute_error: 0.0944 - val_loss: 0.0308 - val_mean_absolute_error: 0.0936\n",
            "Epoch 232/300\n",
            "\u001b[1m240/240\u001b[0m \u001b[32m━━━━━━━━━━━━━━━━━━━━\u001b[0m\u001b[37m\u001b[0m \u001b[1m1s\u001b[0m 3ms/step - loss: 0.0312 - mean_absolute_error: 0.0941 - val_loss: 0.0307 - val_mean_absolute_error: 0.0935\n",
            "Epoch 233/300\n",
            "\u001b[1m240/240\u001b[0m \u001b[32m━━━━━━━━━━━━━━━━━━━━\u001b[0m\u001b[37m\u001b[0m \u001b[1m1s\u001b[0m 3ms/step - loss: 0.0311 - mean_absolute_error: 0.0940 - val_loss: 0.0307 - val_mean_absolute_error: 0.0935\n",
            "Epoch 234/300\n",
            "\u001b[1m240/240\u001b[0m \u001b[32m━━━━━━━━━━━━━━━━━━━━\u001b[0m\u001b[37m\u001b[0m \u001b[1m1s\u001b[0m 3ms/step - loss: 0.0312 - mean_absolute_error: 0.0942 - val_loss: 0.0306 - val_mean_absolute_error: 0.0933\n",
            "Epoch 235/300\n",
            "\u001b[1m240/240\u001b[0m \u001b[32m━━━━━━━━━━━━━━━━━━━━\u001b[0m\u001b[37m\u001b[0m \u001b[1m1s\u001b[0m 3ms/step - loss: 0.0312 - mean_absolute_error: 0.0941 - val_loss: 0.0306 - val_mean_absolute_error: 0.0933\n",
            "Epoch 236/300\n",
            "\u001b[1m240/240\u001b[0m \u001b[32m━━━━━━━━━━━━━━━━━━━━\u001b[0m\u001b[37m\u001b[0m \u001b[1m1s\u001b[0m 2ms/step - loss: 0.0311 - mean_absolute_error: 0.0941 - val_loss: 0.0305 - val_mean_absolute_error: 0.0932\n",
            "Epoch 237/300\n",
            "\u001b[1m240/240\u001b[0m \u001b[32m━━━━━━━━━━━━━━━━━━━━\u001b[0m\u001b[37m\u001b[0m \u001b[1m1s\u001b[0m 3ms/step - loss: 0.0310 - mean_absolute_error: 0.0939 - val_loss: 0.0305 - val_mean_absolute_error: 0.0931\n",
            "Epoch 238/300\n",
            "\u001b[1m240/240\u001b[0m \u001b[32m━━━━━━━━━━━━━━━━━━━━\u001b[0m\u001b[37m\u001b[0m \u001b[1m1s\u001b[0m 3ms/step - loss: 0.0307 - mean_absolute_error: 0.0935 - val_loss: 0.0304 - val_mean_absolute_error: 0.0931\n",
            "Epoch 239/300\n",
            "\u001b[1m240/240\u001b[0m \u001b[32m━━━━━━━━━━━━━━━━━━━━\u001b[0m\u001b[37m\u001b[0m \u001b[1m1s\u001b[0m 2ms/step - loss: 0.0310 - mean_absolute_error: 0.0939 - val_loss: 0.0304 - val_mean_absolute_error: 0.0930\n",
            "Epoch 240/300\n",
            "\u001b[1m240/240\u001b[0m \u001b[32m━━━━━━━━━━━━━━━━━━━━\u001b[0m\u001b[37m\u001b[0m \u001b[1m1s\u001b[0m 3ms/step - loss: 0.0308 - mean_absolute_error: 0.0936 - val_loss: 0.0304 - val_mean_absolute_error: 0.0929\n",
            "Epoch 241/300\n",
            "\u001b[1m240/240\u001b[0m \u001b[32m━━━━━━━━━━━━━━━━━━━━\u001b[0m\u001b[37m\u001b[0m \u001b[1m1s\u001b[0m 2ms/step - loss: 0.0309 - mean_absolute_error: 0.0937 - val_loss: 0.0303 - val_mean_absolute_error: 0.0929\n",
            "Epoch 242/300\n",
            "\u001b[1m240/240\u001b[0m \u001b[32m━━━━━━━━━━━━━━━━━━━━\u001b[0m\u001b[37m\u001b[0m \u001b[1m1s\u001b[0m 3ms/step - loss: 0.0308 - mean_absolute_error: 0.0935 - val_loss: 0.0303 - val_mean_absolute_error: 0.0928\n",
            "Epoch 243/300\n",
            "\u001b[1m240/240\u001b[0m \u001b[32m━━━━━━━━━━━━━━━━━━━━\u001b[0m\u001b[37m\u001b[0m \u001b[1m1s\u001b[0m 4ms/step - loss: 0.0305 - mean_absolute_error: 0.0931 - val_loss: 0.0302 - val_mean_absolute_error: 0.0927\n",
            "Epoch 244/300\n",
            "\u001b[1m240/240\u001b[0m \u001b[32m━━━━━━━━━━━━━━━━━━━━\u001b[0m\u001b[37m\u001b[0m \u001b[1m1s\u001b[0m 4ms/step - loss: 0.0307 - mean_absolute_error: 0.0934 - val_loss: 0.0302 - val_mean_absolute_error: 0.0926\n",
            "Epoch 245/300\n",
            "\u001b[1m240/240\u001b[0m \u001b[32m━━━━━━━━━━━━━━━━━━━━\u001b[0m\u001b[37m\u001b[0m \u001b[1m1s\u001b[0m 3ms/step - loss: 0.0304 - mean_absolute_error: 0.0929 - val_loss: 0.0301 - val_mean_absolute_error: 0.0926\n",
            "Epoch 246/300\n",
            "\u001b[1m240/240\u001b[0m \u001b[32m━━━━━━━━━━━━━━━━━━━━\u001b[0m\u001b[37m\u001b[0m \u001b[1m1s\u001b[0m 3ms/step - loss: 0.0304 - mean_absolute_error: 0.0930 - val_loss: 0.0301 - val_mean_absolute_error: 0.0925\n",
            "Epoch 247/300\n",
            "\u001b[1m240/240\u001b[0m \u001b[32m━━━━━━━━━━━━━━━━━━━━\u001b[0m\u001b[37m\u001b[0m \u001b[1m1s\u001b[0m 3ms/step - loss: 0.0306 - mean_absolute_error: 0.0931 - val_loss: 0.0301 - val_mean_absolute_error: 0.0924\n",
            "Epoch 248/300\n",
            "\u001b[1m240/240\u001b[0m \u001b[32m━━━━━━━━━━━━━━━━━━━━\u001b[0m\u001b[37m\u001b[0m \u001b[1m1s\u001b[0m 3ms/step - loss: 0.0304 - mean_absolute_error: 0.0929 - val_loss: 0.0300 - val_mean_absolute_error: 0.0924\n",
            "Epoch 249/300\n",
            "\u001b[1m240/240\u001b[0m \u001b[32m━━━━━━━━━━━━━━━━━━━━\u001b[0m\u001b[37m\u001b[0m \u001b[1m1s\u001b[0m 3ms/step - loss: 0.0303 - mean_absolute_error: 0.0929 - val_loss: 0.0300 - val_mean_absolute_error: 0.0923\n",
            "Epoch 250/300\n",
            "\u001b[1m240/240\u001b[0m \u001b[32m━━━━━━━━━━━━━━━━━━━━\u001b[0m\u001b[37m\u001b[0m \u001b[1m1s\u001b[0m 2ms/step - loss: 0.0305 - mean_absolute_error: 0.0931 - val_loss: 0.0299 - val_mean_absolute_error: 0.0922\n",
            "Epoch 251/300\n",
            "\u001b[1m240/240\u001b[0m \u001b[32m━━━━━━━━━━━━━━━━━━━━\u001b[0m\u001b[37m\u001b[0m \u001b[1m1s\u001b[0m 3ms/step - loss: 0.0305 - mean_absolute_error: 0.0931 - val_loss: 0.0299 - val_mean_absolute_error: 0.0921\n",
            "Epoch 252/300\n",
            "\u001b[1m240/240\u001b[0m \u001b[32m━━━━━━━━━━━━━━━━━━━━\u001b[0m\u001b[37m\u001b[0m \u001b[1m1s\u001b[0m 3ms/step - loss: 0.0307 - mean_absolute_error: 0.0934 - val_loss: 0.0299 - val_mean_absolute_error: 0.0921\n",
            "Epoch 253/300\n",
            "\u001b[1m240/240\u001b[0m \u001b[32m━━━━━━━━━━━━━━━━━━━━\u001b[0m\u001b[37m\u001b[0m \u001b[1m1s\u001b[0m 3ms/step - loss: 0.0304 - mean_absolute_error: 0.0928 - val_loss: 0.0298 - val_mean_absolute_error: 0.0920\n",
            "Epoch 254/300\n",
            "\u001b[1m240/240\u001b[0m \u001b[32m━━━━━━━━━━━━━━━━━━━━\u001b[0m\u001b[37m\u001b[0m \u001b[1m1s\u001b[0m 3ms/step - loss: 0.0302 - mean_absolute_error: 0.0926 - val_loss: 0.0298 - val_mean_absolute_error: 0.0919\n",
            "Epoch 255/300\n",
            "\u001b[1m240/240\u001b[0m \u001b[32m━━━━━━━━━━━━━━━━━━━━\u001b[0m\u001b[37m\u001b[0m \u001b[1m1s\u001b[0m 2ms/step - loss: 0.0300 - mean_absolute_error: 0.0923 - val_loss: 0.0297 - val_mean_absolute_error: 0.0918\n",
            "Epoch 256/300\n",
            "\u001b[1m240/240\u001b[0m \u001b[32m━━━━━━━━━━━━━━━━━━━━\u001b[0m\u001b[37m\u001b[0m \u001b[1m1s\u001b[0m 3ms/step - loss: 0.0301 - mean_absolute_error: 0.0924 - val_loss: 0.0297 - val_mean_absolute_error: 0.0918\n",
            "Epoch 257/300\n",
            "\u001b[1m240/240\u001b[0m \u001b[32m━━━━━━━━━━━━━━━━━━━━\u001b[0m\u001b[37m\u001b[0m \u001b[1m1s\u001b[0m 3ms/step - loss: 0.0301 - mean_absolute_error: 0.0924 - val_loss: 0.0297 - val_mean_absolute_error: 0.0918\n",
            "Epoch 258/300\n",
            "\u001b[1m240/240\u001b[0m \u001b[32m━━━━━━━━━━━━━━━━━━━━\u001b[0m\u001b[37m\u001b[0m \u001b[1m1s\u001b[0m 3ms/step - loss: 0.0300 - mean_absolute_error: 0.0923 - val_loss: 0.0296 - val_mean_absolute_error: 0.0917\n",
            "Epoch 259/300\n",
            "\u001b[1m240/240\u001b[0m \u001b[32m━━━━━━━━━━━━━━━━━━━━\u001b[0m\u001b[37m\u001b[0m \u001b[1m1s\u001b[0m 2ms/step - loss: 0.0298 - mean_absolute_error: 0.0920 - val_loss: 0.0296 - val_mean_absolute_error: 0.0917\n",
            "Epoch 260/300\n",
            "\u001b[1m240/240\u001b[0m \u001b[32m━━━━━━━━━━━━━━━━━━━━\u001b[0m\u001b[37m\u001b[0m \u001b[1m1s\u001b[0m 3ms/step - loss: 0.0300 - mean_absolute_error: 0.0921 - val_loss: 0.0296 - val_mean_absolute_error: 0.0916\n",
            "Epoch 261/300\n",
            "\u001b[1m240/240\u001b[0m \u001b[32m━━━━━━━━━━━━━━━━━━━━\u001b[0m\u001b[37m\u001b[0m \u001b[1m1s\u001b[0m 3ms/step - loss: 0.0300 - mean_absolute_error: 0.0921 - val_loss: 0.0295 - val_mean_absolute_error: 0.0914\n",
            "Epoch 262/300\n",
            "\u001b[1m240/240\u001b[0m \u001b[32m━━━━━━━━━━━━━━━━━━━━\u001b[0m\u001b[37m\u001b[0m \u001b[1m1s\u001b[0m 3ms/step - loss: 0.0300 - mean_absolute_error: 0.0923 - val_loss: 0.0295 - val_mean_absolute_error: 0.0914\n",
            "Epoch 263/300\n",
            "\u001b[1m240/240\u001b[0m \u001b[32m━━━━━━━━━━━━━━━━━━━━\u001b[0m\u001b[37m\u001b[0m \u001b[1m1s\u001b[0m 3ms/step - loss: 0.0299 - mean_absolute_error: 0.0920 - val_loss: 0.0294 - val_mean_absolute_error: 0.0914\n",
            "Epoch 264/300\n",
            "\u001b[1m240/240\u001b[0m \u001b[32m━━━━━━━━━━━━━━━━━━━━\u001b[0m\u001b[37m\u001b[0m \u001b[1m1s\u001b[0m 2ms/step - loss: 0.0300 - mean_absolute_error: 0.0922 - val_loss: 0.0294 - val_mean_absolute_error: 0.0913\n",
            "Epoch 265/300\n",
            "\u001b[1m240/240\u001b[0m \u001b[32m━━━━━━━━━━━━━━━━━━━━\u001b[0m\u001b[37m\u001b[0m \u001b[1m1s\u001b[0m 3ms/step - loss: 0.0299 - mean_absolute_error: 0.0919 - val_loss: 0.0294 - val_mean_absolute_error: 0.0913\n",
            "Epoch 266/300\n",
            "\u001b[1m240/240\u001b[0m \u001b[32m━━━━━━━━━━━━━━━━━━━━\u001b[0m\u001b[37m\u001b[0m \u001b[1m1s\u001b[0m 3ms/step - loss: 0.0297 - mean_absolute_error: 0.0918 - val_loss: 0.0293 - val_mean_absolute_error: 0.0911\n",
            "Epoch 267/300\n",
            "\u001b[1m240/240\u001b[0m \u001b[32m━━━━━━━━━━━━━━━━━━━━\u001b[0m\u001b[37m\u001b[0m \u001b[1m1s\u001b[0m 3ms/step - loss: 0.0296 - mean_absolute_error: 0.0916 - val_loss: 0.0293 - val_mean_absolute_error: 0.0911\n",
            "Epoch 268/300\n",
            "\u001b[1m240/240\u001b[0m \u001b[32m━━━━━━━━━━━━━━━━━━━━\u001b[0m\u001b[37m\u001b[0m \u001b[1m1s\u001b[0m 3ms/step - loss: 0.0299 - mean_absolute_error: 0.0919 - val_loss: 0.0293 - val_mean_absolute_error: 0.0910\n",
            "Epoch 269/300\n",
            "\u001b[1m240/240\u001b[0m \u001b[32m━━━━━━━━━━━━━━━━━━━━\u001b[0m\u001b[37m\u001b[0m \u001b[1m1s\u001b[0m 3ms/step - loss: 0.0296 - mean_absolute_error: 0.0916 - val_loss: 0.0292 - val_mean_absolute_error: 0.0910\n",
            "Epoch 270/300\n",
            "\u001b[1m240/240\u001b[0m \u001b[32m━━━━━━━━━━━━━━━━━━━━\u001b[0m\u001b[37m\u001b[0m \u001b[1m1s\u001b[0m 2ms/step - loss: 0.0296 - mean_absolute_error: 0.0916 - val_loss: 0.0292 - val_mean_absolute_error: 0.0909\n",
            "Epoch 271/300\n",
            "\u001b[1m240/240\u001b[0m \u001b[32m━━━━━━━━━━━━━━━━━━━━\u001b[0m\u001b[37m\u001b[0m \u001b[1m1s\u001b[0m 3ms/step - loss: 0.0298 - mean_absolute_error: 0.0919 - val_loss: 0.0291 - val_mean_absolute_error: 0.0908\n",
            "Epoch 272/300\n",
            "\u001b[1m240/240\u001b[0m \u001b[32m━━━━━━━━━━━━━━━━━━━━\u001b[0m\u001b[37m\u001b[0m \u001b[1m1s\u001b[0m 3ms/step - loss: 0.0295 - mean_absolute_error: 0.0914 - val_loss: 0.0291 - val_mean_absolute_error: 0.0908\n",
            "Epoch 273/300\n",
            "\u001b[1m240/240\u001b[0m \u001b[32m━━━━━━━━━━━━━━━━━━━━\u001b[0m\u001b[37m\u001b[0m \u001b[1m1s\u001b[0m 4ms/step - loss: 0.0297 - mean_absolute_error: 0.0916 - val_loss: 0.0291 - val_mean_absolute_error: 0.0907\n",
            "Epoch 274/300\n",
            "\u001b[1m240/240\u001b[0m \u001b[32m━━━━━━━━━━━━━━━━━━━━\u001b[0m\u001b[37m\u001b[0m \u001b[1m1s\u001b[0m 3ms/step - loss: 0.0296 - mean_absolute_error: 0.0916 - val_loss: 0.0290 - val_mean_absolute_error: 0.0907\n",
            "Epoch 275/300\n",
            "\u001b[1m240/240\u001b[0m \u001b[32m━━━━━━━━━━━━━━━━━━━━\u001b[0m\u001b[37m\u001b[0m \u001b[1m1s\u001b[0m 3ms/step - loss: 0.0297 - mean_absolute_error: 0.0917 - val_loss: 0.0290 - val_mean_absolute_error: 0.0906\n",
            "Epoch 276/300\n",
            "\u001b[1m240/240\u001b[0m \u001b[32m━━━━━━━━━━━━━━━━━━━━\u001b[0m\u001b[37m\u001b[0m \u001b[1m1s\u001b[0m 3ms/step - loss: 0.0296 - mean_absolute_error: 0.0915 - val_loss: 0.0290 - val_mean_absolute_error: 0.0905\n",
            "Epoch 277/300\n",
            "\u001b[1m240/240\u001b[0m \u001b[32m━━━━━━━━━━━━━━━━━━━━\u001b[0m\u001b[37m\u001b[0m \u001b[1m1s\u001b[0m 3ms/step - loss: 0.0293 - mean_absolute_error: 0.0911 - val_loss: 0.0289 - val_mean_absolute_error: 0.0905\n",
            "Epoch 278/300\n",
            "\u001b[1m240/240\u001b[0m \u001b[32m━━━━━━━━━━━━━━━━━━━━\u001b[0m\u001b[37m\u001b[0m \u001b[1m1s\u001b[0m 3ms/step - loss: 0.0293 - mean_absolute_error: 0.0911 - val_loss: 0.0289 - val_mean_absolute_error: 0.0904\n",
            "Epoch 279/300\n",
            "\u001b[1m240/240\u001b[0m \u001b[32m━━━━━━━━━━━━━━━━━━━━\u001b[0m\u001b[37m\u001b[0m \u001b[1m1s\u001b[0m 2ms/step - loss: 0.0293 - mean_absolute_error: 0.0909 - val_loss: 0.0289 - val_mean_absolute_error: 0.0904\n",
            "Epoch 280/300\n",
            "\u001b[1m240/240\u001b[0m \u001b[32m━━━━━━━━━━━━━━━━━━━━\u001b[0m\u001b[37m\u001b[0m \u001b[1m1s\u001b[0m 3ms/step - loss: 0.0294 - mean_absolute_error: 0.0912 - val_loss: 0.0288 - val_mean_absolute_error: 0.0903\n",
            "Epoch 281/300\n",
            "\u001b[1m240/240\u001b[0m \u001b[32m━━━━━━━━━━━━━━━━━━━━\u001b[0m\u001b[37m\u001b[0m \u001b[1m1s\u001b[0m 3ms/step - loss: 0.0292 - mean_absolute_error: 0.0910 - val_loss: 0.0288 - val_mean_absolute_error: 0.0903\n",
            "Epoch 282/300\n",
            "\u001b[1m240/240\u001b[0m \u001b[32m━━━━━━━━━━━━━━━━━━━━\u001b[0m\u001b[37m\u001b[0m \u001b[1m1s\u001b[0m 2ms/step - loss: 0.0292 - mean_absolute_error: 0.0909 - val_loss: 0.0288 - val_mean_absolute_error: 0.0902\n",
            "Epoch 283/300\n",
            "\u001b[1m240/240\u001b[0m \u001b[32m━━━━━━━━━━━━━━━━━━━━\u001b[0m\u001b[37m\u001b[0m \u001b[1m1s\u001b[0m 3ms/step - loss: 0.0292 - mean_absolute_error: 0.0907 - val_loss: 0.0287 - val_mean_absolute_error: 0.0901\n",
            "Epoch 284/300\n",
            "\u001b[1m240/240\u001b[0m \u001b[32m━━━━━━━━━━━━━━━━━━━━\u001b[0m\u001b[37m\u001b[0m \u001b[1m1s\u001b[0m 3ms/step - loss: 0.0292 - mean_absolute_error: 0.0908 - val_loss: 0.0287 - val_mean_absolute_error: 0.0901\n",
            "Epoch 285/300\n",
            "\u001b[1m240/240\u001b[0m \u001b[32m━━━━━━━━━━━━━━━━━━━━\u001b[0m\u001b[37m\u001b[0m \u001b[1m1s\u001b[0m 3ms/step - loss: 0.0291 - mean_absolute_error: 0.0906 - val_loss: 0.0287 - val_mean_absolute_error: 0.0900\n",
            "Epoch 286/300\n",
            "\u001b[1m240/240\u001b[0m \u001b[32m━━━━━━━━━━━━━━━━━━━━\u001b[0m\u001b[37m\u001b[0m \u001b[1m1s\u001b[0m 3ms/step - loss: 0.0290 - mean_absolute_error: 0.0906 - val_loss: 0.0286 - val_mean_absolute_error: 0.0900\n",
            "Epoch 287/300\n",
            "\u001b[1m240/240\u001b[0m \u001b[32m━━━━━━━━━━━━━━━━━━━━\u001b[0m\u001b[37m\u001b[0m \u001b[1m1s\u001b[0m 2ms/step - loss: 0.0292 - mean_absolute_error: 0.0908 - val_loss: 0.0286 - val_mean_absolute_error: 0.0899\n",
            "Epoch 288/300\n",
            "\u001b[1m240/240\u001b[0m \u001b[32m━━━━━━━━━━━━━━━━━━━━\u001b[0m\u001b[37m\u001b[0m \u001b[1m1s\u001b[0m 3ms/step - loss: 0.0289 - mean_absolute_error: 0.0904 - val_loss: 0.0286 - val_mean_absolute_error: 0.0899\n",
            "Epoch 289/300\n",
            "\u001b[1m240/240\u001b[0m \u001b[32m━━━━━━━━━━━━━━━━━━━━\u001b[0m\u001b[37m\u001b[0m \u001b[1m1s\u001b[0m 2ms/step - loss: 0.0290 - mean_absolute_error: 0.0905 - val_loss: 0.0285 - val_mean_absolute_error: 0.0898\n",
            "Epoch 290/300\n",
            "\u001b[1m240/240\u001b[0m \u001b[32m━━━━━━━━━━━━━━━━━━━━\u001b[0m\u001b[37m\u001b[0m \u001b[1m1s\u001b[0m 3ms/step - loss: 0.0289 - mean_absolute_error: 0.0905 - val_loss: 0.0285 - val_mean_absolute_error: 0.0897\n",
            "Epoch 291/300\n",
            "\u001b[1m240/240\u001b[0m \u001b[32m━━━━━━━━━━━━━━━━━━━━\u001b[0m\u001b[37m\u001b[0m \u001b[1m1s\u001b[0m 3ms/step - loss: 0.0289 - mean_absolute_error: 0.0905 - val_loss: 0.0284 - val_mean_absolute_error: 0.0897\n",
            "Epoch 292/300\n",
            "\u001b[1m240/240\u001b[0m \u001b[32m━━━━━━━━━━━━━━━━━━━━\u001b[0m\u001b[37m\u001b[0m \u001b[1m1s\u001b[0m 3ms/step - loss: 0.0289 - mean_absolute_error: 0.0904 - val_loss: 0.0284 - val_mean_absolute_error: 0.0896\n",
            "Epoch 293/300\n",
            "\u001b[1m240/240\u001b[0m \u001b[32m━━━━━━━━━━━━━━━━━━━━\u001b[0m\u001b[37m\u001b[0m \u001b[1m1s\u001b[0m 3ms/step - loss: 0.0288 - mean_absolute_error: 0.0901 - val_loss: 0.0284 - val_mean_absolute_error: 0.0896\n",
            "Epoch 294/300\n",
            "\u001b[1m240/240\u001b[0m \u001b[32m━━━━━━━━━━━━━━━━━━━━\u001b[0m\u001b[37m\u001b[0m \u001b[1m1s\u001b[0m 2ms/step - loss: 0.0287 - mean_absolute_error: 0.0901 - val_loss: 0.0283 - val_mean_absolute_error: 0.0895\n",
            "Epoch 295/300\n",
            "\u001b[1m240/240\u001b[0m \u001b[32m━━━━━━━━━━━━━━━━━━━━\u001b[0m\u001b[37m\u001b[0m \u001b[1m1s\u001b[0m 3ms/step - loss: 0.0290 - mean_absolute_error: 0.0905 - val_loss: 0.0283 - val_mean_absolute_error: 0.0894\n",
            "Epoch 296/300\n",
            "\u001b[1m240/240\u001b[0m \u001b[32m━━━━━━━━━━━━━━━━━━━━\u001b[0m\u001b[37m\u001b[0m \u001b[1m1s\u001b[0m 3ms/step - loss: 0.0287 - mean_absolute_error: 0.0900 - val_loss: 0.0283 - val_mean_absolute_error: 0.0894\n",
            "Epoch 297/300\n",
            "\u001b[1m240/240\u001b[0m \u001b[32m━━━━━━━━━━━━━━━━━━━━\u001b[0m\u001b[37m\u001b[0m \u001b[1m1s\u001b[0m 4ms/step - loss: 0.0287 - mean_absolute_error: 0.0901 - val_loss: 0.0282 - val_mean_absolute_error: 0.0893\n",
            "Epoch 298/300\n",
            "\u001b[1m240/240\u001b[0m \u001b[32m━━━━━━━━━━━━━━━━━━━━\u001b[0m\u001b[37m\u001b[0m \u001b[1m1s\u001b[0m 3ms/step - loss: 0.0287 - mean_absolute_error: 0.0900 - val_loss: 0.0282 - val_mean_absolute_error: 0.0893\n",
            "Epoch 299/300\n",
            "\u001b[1m240/240\u001b[0m \u001b[32m━━━━━━━━━━━━━━━━━━━━\u001b[0m\u001b[37m\u001b[0m \u001b[1m1s\u001b[0m 3ms/step - loss: 0.0285 - mean_absolute_error: 0.0897 - val_loss: 0.0282 - val_mean_absolute_error: 0.0893\n",
            "Epoch 300/300\n",
            "\u001b[1m240/240\u001b[0m \u001b[32m━━━━━━━━━━━━━━━━━━━━\u001b[0m\u001b[37m\u001b[0m \u001b[1m1s\u001b[0m 3ms/step - loss: 0.0286 - mean_absolute_error: 0.0900 - val_loss: 0.0281 - val_mean_absolute_error: 0.0892\n"
          ]
        },
        {
          "output_type": "execute_result",
          "data": {
            "text/plain": [
              "<keras.src.callbacks.history.History at 0x7955c3497fd0>"
            ]
          },
          "metadata": {},
          "execution_count": 119
        }
      ]
    },
    {
      "cell_type": "code",
      "source": [
        "from tensorflow.keras.callbacks import EarlyStopping"
      ],
      "metadata": {
        "id": "tbnWQFkRMdlJ"
      },
      "execution_count": 41,
      "outputs": []
    },
    {
      "cell_type": "code",
      "source": [
        "nvals[1000].shape"
      ],
      "metadata": {
        "colab": {
          "base_uri": "https://localhost:8080/"
        },
        "id": "-XmBgRWfBF6s",
        "outputId": "7d6a03f5-de02-42f1-a1a7-a2d139fb66f1"
      },
      "execution_count": 36,
      "outputs": [
        {
          "output_type": "execute_result",
          "data": {
            "text/plain": [
              "(216,)"
            ]
          },
          "metadata": {},
          "execution_count": 36
        }
      ]
    },
    {
      "cell_type": "code",
      "source": [
        "nvals,all_taus,rhos = gen_nvals_taus_rhos(30000,d)"
      ],
      "metadata": {
        "colab": {
          "base_uri": "https://localhost:8080/"
        },
        "id": "hK0S-vXQSsi_",
        "outputId": "8f666709-13be-428f-8fa4-b64332e5fe9f"
      },
      "execution_count": 35,
      "outputs": [
        {
          "output_type": "stream",
          "name": "stderr",
          "text": [
            "<ipython-input-34-f16c7555ff3e>:30: ComplexWarning: Casting complex values to real discards the imaginary part\n",
            "  nvals[i1,index] = np.trace(rho@proj)\n"
          ]
        }
      ]
    },
    {
      "cell_type": "code",
      "source": [
        "model1 = build_cnn_model()\n",
        "model1.compile(\n",
        "    optimizer='adam',\n",
        "    loss='mean_absolute_error',\n",
        "    metrics=['mean_squared_error']\n",
        ")\n",
        "\n",
        "early_stopping = EarlyStopping(monitor='val_loss', patience=10, restore_best_weights=True)\n",
        "\n",
        "history1 = model1.fit(\n",
        "    nvals, all_taus,\n",
        "    epochs=300,\n",
        "    batch_size=100,\n",
        "    validation_split=0.2\n",
        "    )\n"
      ],
      "metadata": {
        "colab": {
          "base_uri": "https://localhost:8080/"
        },
        "id": "MqdDllyI4Cnq",
        "outputId": "09417a0b-119a-4c09-89ba-ade3e93f3f9e"
      },
      "execution_count": 42,
      "outputs": [
        {
          "output_type": "stream",
          "name": "stdout",
          "text": [
            "Epoch 1/300\n",
            "\u001b[1m240/240\u001b[0m \u001b[32m━━━━━━━━━━━━━━━━━━━━\u001b[0m\u001b[37m\u001b[0m \u001b[1m6s\u001b[0m 5ms/step - loss: 0.0482 - mean_squared_error: 0.0143 - val_loss: 0.0431 - val_mean_squared_error: 0.0121\n",
            "Epoch 2/300\n",
            "\u001b[1m240/240\u001b[0m \u001b[32m━━━━━━━━━━━━━━━━━━━━\u001b[0m\u001b[37m\u001b[0m \u001b[1m1s\u001b[0m 4ms/step - loss: 0.0413 - mean_squared_error: 0.0112 - val_loss: 0.0359 - val_mean_squared_error: 0.0087\n",
            "Epoch 3/300\n",
            "\u001b[1m240/240\u001b[0m \u001b[32m━━━━━━━━━━━━━━━━━━━━\u001b[0m\u001b[37m\u001b[0m \u001b[1m1s\u001b[0m 4ms/step - loss: 0.0340 - mean_squared_error: 0.0080 - val_loss: 0.0287 - val_mean_squared_error: 0.0058\n",
            "Epoch 4/300\n",
            "\u001b[1m240/240\u001b[0m \u001b[32m━━━━━━━━━━━━━━━━━━━━\u001b[0m\u001b[37m\u001b[0m \u001b[1m1s\u001b[0m 5ms/step - loss: 0.0264 - mean_squared_error: 0.0050 - val_loss: 0.0225 - val_mean_squared_error: 0.0037\n",
            "Epoch 5/300\n",
            "\u001b[1m240/240\u001b[0m \u001b[32m━━━━━━━━━━━━━━━━━━━━\u001b[0m\u001b[37m\u001b[0m \u001b[1m1s\u001b[0m 3ms/step - loss: 0.0208 - mean_squared_error: 0.0033 - val_loss: 0.0197 - val_mean_squared_error: 0.0029\n",
            "Epoch 6/300\n",
            "\u001b[1m240/240\u001b[0m \u001b[32m━━━━━━━━━━━━━━━━━━━━\u001b[0m\u001b[37m\u001b[0m \u001b[1m1s\u001b[0m 3ms/step - loss: 0.0185 - mean_squared_error: 0.0026 - val_loss: 0.0184 - val_mean_squared_error: 0.0026\n",
            "Epoch 7/300\n",
            "\u001b[1m240/240\u001b[0m \u001b[32m━━━━━━━━━━━━━━━━━━━━\u001b[0m\u001b[37m\u001b[0m \u001b[1m1s\u001b[0m 3ms/step - loss: 0.0169 - mean_squared_error: 0.0022 - val_loss: 0.0175 - val_mean_squared_error: 0.0024\n",
            "Epoch 8/300\n",
            "\u001b[1m240/240\u001b[0m \u001b[32m━━━━━━━━━━━━━━━━━━━━\u001b[0m\u001b[37m\u001b[0m \u001b[1m1s\u001b[0m 3ms/step - loss: 0.0159 - mean_squared_error: 0.0020 - val_loss: 0.0168 - val_mean_squared_error: 0.0022\n",
            "Epoch 9/300\n",
            "\u001b[1m240/240\u001b[0m \u001b[32m━━━━━━━━━━━━━━━━━━━━\u001b[0m\u001b[37m\u001b[0m \u001b[1m1s\u001b[0m 3ms/step - loss: 0.0150 - mean_squared_error: 0.0018 - val_loss: 0.0163 - val_mean_squared_error: 0.0021\n",
            "Epoch 10/300\n",
            "\u001b[1m240/240\u001b[0m \u001b[32m━━━━━━━━━━━━━━━━━━━━\u001b[0m\u001b[37m\u001b[0m \u001b[1m1s\u001b[0m 3ms/step - loss: 0.0145 - mean_squared_error: 0.0017 - val_loss: 0.0161 - val_mean_squared_error: 0.0020\n",
            "Epoch 11/300\n",
            "\u001b[1m240/240\u001b[0m \u001b[32m━━━━━━━━━━━━━━━━━━━━\u001b[0m\u001b[37m\u001b[0m \u001b[1m1s\u001b[0m 3ms/step - loss: 0.0140 - mean_squared_error: 0.0016 - val_loss: 0.0157 - val_mean_squared_error: 0.0020\n",
            "Epoch 12/300\n",
            "\u001b[1m240/240\u001b[0m \u001b[32m━━━━━━━━━━━━━━━━━━━━\u001b[0m\u001b[37m\u001b[0m \u001b[1m1s\u001b[0m 3ms/step - loss: 0.0134 - mean_squared_error: 0.0015 - val_loss: 0.0155 - val_mean_squared_error: 0.0019\n",
            "Epoch 13/300\n",
            "\u001b[1m240/240\u001b[0m \u001b[32m━━━━━━━━━━━━━━━━━━━━\u001b[0m\u001b[37m\u001b[0m \u001b[1m1s\u001b[0m 3ms/step - loss: 0.0131 - mean_squared_error: 0.0014 - val_loss: 0.0154 - val_mean_squared_error: 0.0019\n",
            "Epoch 14/300\n",
            "\u001b[1m240/240\u001b[0m \u001b[32m━━━━━━━━━━━━━━━━━━━━\u001b[0m\u001b[37m\u001b[0m \u001b[1m1s\u001b[0m 3ms/step - loss: 0.0127 - mean_squared_error: 0.0013 - val_loss: 0.0152 - val_mean_squared_error: 0.0018\n",
            "Epoch 15/300\n",
            "\u001b[1m240/240\u001b[0m \u001b[32m━━━━━━━━━━━━━━━━━━━━\u001b[0m\u001b[37m\u001b[0m \u001b[1m1s\u001b[0m 4ms/step - loss: 0.0124 - mean_squared_error: 0.0013 - val_loss: 0.0150 - val_mean_squared_error: 0.0018\n",
            "Epoch 16/300\n",
            "\u001b[1m240/240\u001b[0m \u001b[32m━━━━━━━━━━━━━━━━━━━━\u001b[0m\u001b[37m\u001b[0m \u001b[1m1s\u001b[0m 4ms/step - loss: 0.0122 - mean_squared_error: 0.0012 - val_loss: 0.0150 - val_mean_squared_error: 0.0018\n",
            "Epoch 17/300\n",
            "\u001b[1m240/240\u001b[0m \u001b[32m━━━━━━━━━━━━━━━━━━━━\u001b[0m\u001b[37m\u001b[0m \u001b[1m1s\u001b[0m 4ms/step - loss: 0.0120 - mean_squared_error: 0.0012 - val_loss: 0.0151 - val_mean_squared_error: 0.0018\n",
            "Epoch 18/300\n",
            "\u001b[1m240/240\u001b[0m \u001b[32m━━━━━━━━━━━━━━━━━━━━\u001b[0m\u001b[37m\u001b[0m \u001b[1m1s\u001b[0m 3ms/step - loss: 0.0117 - mean_squared_error: 0.0011 - val_loss: 0.0149 - val_mean_squared_error: 0.0018\n",
            "Epoch 19/300\n",
            "\u001b[1m240/240\u001b[0m \u001b[32m━━━━━━━━━━━━━━━━━━━━\u001b[0m\u001b[37m\u001b[0m \u001b[1m1s\u001b[0m 3ms/step - loss: 0.0115 - mean_squared_error: 0.0011 - val_loss: 0.0147 - val_mean_squared_error: 0.0017\n",
            "Epoch 20/300\n",
            "\u001b[1m240/240\u001b[0m \u001b[32m━━━━━━━━━━━━━━━━━━━━\u001b[0m\u001b[37m\u001b[0m \u001b[1m1s\u001b[0m 3ms/step - loss: 0.0113 - mean_squared_error: 0.0011 - val_loss: 0.0149 - val_mean_squared_error: 0.0018\n",
            "Epoch 21/300\n",
            "\u001b[1m240/240\u001b[0m \u001b[32m━━━━━━━━━━━━━━━━━━━━\u001b[0m\u001b[37m\u001b[0m \u001b[1m1s\u001b[0m 3ms/step - loss: 0.0110 - mean_squared_error: 0.0010 - val_loss: 0.0146 - val_mean_squared_error: 0.0017\n",
            "Epoch 22/300\n",
            "\u001b[1m240/240\u001b[0m \u001b[32m━━━━━━━━━━━━━━━━━━━━\u001b[0m\u001b[37m\u001b[0m \u001b[1m1s\u001b[0m 4ms/step - loss: 0.0109 - mean_squared_error: 0.0010 - val_loss: 0.0145 - val_mean_squared_error: 0.0017\n",
            "Epoch 23/300\n",
            "\u001b[1m240/240\u001b[0m \u001b[32m━━━━━━━━━━━━━━━━━━━━\u001b[0m\u001b[37m\u001b[0m \u001b[1m1s\u001b[0m 4ms/step - loss: 0.0107 - mean_squared_error: 9.7683e-04 - val_loss: 0.0147 - val_mean_squared_error: 0.0017\n",
            "Epoch 24/300\n",
            "\u001b[1m240/240\u001b[0m \u001b[32m━━━━━━━━━━━━━━━━━━━━\u001b[0m\u001b[37m\u001b[0m \u001b[1m1s\u001b[0m 4ms/step - loss: 0.0106 - mean_squared_error: 9.5798e-04 - val_loss: 0.0144 - val_mean_squared_error: 0.0017\n",
            "Epoch 25/300\n",
            "\u001b[1m240/240\u001b[0m \u001b[32m━━━━━━━━━━━━━━━━━━━━\u001b[0m\u001b[37m\u001b[0m \u001b[1m1s\u001b[0m 3ms/step - loss: 0.0104 - mean_squared_error: 9.2049e-04 - val_loss: 0.0142 - val_mean_squared_error: 0.0016\n",
            "Epoch 26/300\n",
            "\u001b[1m240/240\u001b[0m \u001b[32m━━━━━━━━━━━━━━━━━━━━\u001b[0m\u001b[37m\u001b[0m \u001b[1m1s\u001b[0m 3ms/step - loss: 0.0102 - mean_squared_error: 8.8940e-04 - val_loss: 0.0144 - val_mean_squared_error: 0.0017\n",
            "Epoch 27/300\n",
            "\u001b[1m240/240\u001b[0m \u001b[32m━━━━━━━━━━━━━━━━━━━━\u001b[0m\u001b[37m\u001b[0m \u001b[1m1s\u001b[0m 4ms/step - loss: 0.0102 - mean_squared_error: 8.8184e-04 - val_loss: 0.0143 - val_mean_squared_error: 0.0017\n",
            "Epoch 28/300\n",
            "\u001b[1m240/240\u001b[0m \u001b[32m━━━━━━━━━━━━━━━━━━━━\u001b[0m\u001b[37m\u001b[0m \u001b[1m1s\u001b[0m 4ms/step - loss: 0.0101 - mean_squared_error: 8.7317e-04 - val_loss: 0.0143 - val_mean_squared_error: 0.0016\n",
            "Epoch 29/300\n",
            "\u001b[1m240/240\u001b[0m \u001b[32m━━━━━━━━━━━━━━━━━━━━\u001b[0m\u001b[37m\u001b[0m \u001b[1m1s\u001b[0m 4ms/step - loss: 0.0099 - mean_squared_error: 8.2289e-04 - val_loss: 0.0141 - val_mean_squared_error: 0.0016\n",
            "Epoch 30/300\n",
            "\u001b[1m240/240\u001b[0m \u001b[32m━━━━━━━━━━━━━━━━━━━━\u001b[0m\u001b[37m\u001b[0m \u001b[1m1s\u001b[0m 3ms/step - loss: 0.0097 - mean_squared_error: 8.0200e-04 - val_loss: 0.0141 - val_mean_squared_error: 0.0016\n",
            "Epoch 31/300\n",
            "\u001b[1m240/240\u001b[0m \u001b[32m━━━━━━━━━━━━━━━━━━━━\u001b[0m\u001b[37m\u001b[0m \u001b[1m1s\u001b[0m 3ms/step - loss: 0.0097 - mean_squared_error: 7.9028e-04 - val_loss: 0.0141 - val_mean_squared_error: 0.0016\n",
            "Epoch 32/300\n",
            "\u001b[1m240/240\u001b[0m \u001b[32m━━━━━━━━━━━━━━━━━━━━\u001b[0m\u001b[37m\u001b[0m \u001b[1m1s\u001b[0m 3ms/step - loss: 0.0095 - mean_squared_error: 7.6193e-04 - val_loss: 0.0142 - val_mean_squared_error: 0.0016\n",
            "Epoch 33/300\n",
            "\u001b[1m240/240\u001b[0m \u001b[32m━━━━━━━━━━━━━━━━━━━━\u001b[0m\u001b[37m\u001b[0m \u001b[1m1s\u001b[0m 3ms/step - loss: 0.0094 - mean_squared_error: 7.4237e-04 - val_loss: 0.0140 - val_mean_squared_error: 0.0016\n",
            "Epoch 34/300\n",
            "\u001b[1m240/240\u001b[0m \u001b[32m━━━━━━━━━━━━━━━━━━━━\u001b[0m\u001b[37m\u001b[0m \u001b[1m1s\u001b[0m 3ms/step - loss: 0.0093 - mean_squared_error: 7.2406e-04 - val_loss: 0.0140 - val_mean_squared_error: 0.0016\n",
            "Epoch 35/300\n",
            "\u001b[1m240/240\u001b[0m \u001b[32m━━━━━━━━━━━━━━━━━━━━\u001b[0m\u001b[37m\u001b[0m \u001b[1m1s\u001b[0m 3ms/step - loss: 0.0092 - mean_squared_error: 7.0959e-04 - val_loss: 0.0138 - val_mean_squared_error: 0.0016\n",
            "Epoch 36/300\n",
            "\u001b[1m240/240\u001b[0m \u001b[32m━━━━━━━━━━━━━━━━━━━━\u001b[0m\u001b[37m\u001b[0m \u001b[1m1s\u001b[0m 3ms/step - loss: 0.0090 - mean_squared_error: 6.8765e-04 - val_loss: 0.0138 - val_mean_squared_error: 0.0016\n",
            "Epoch 37/300\n",
            "\u001b[1m240/240\u001b[0m \u001b[32m━━━━━━━━━━━━━━━━━━━━\u001b[0m\u001b[37m\u001b[0m \u001b[1m1s\u001b[0m 3ms/step - loss: 0.0089 - mean_squared_error: 6.8361e-04 - val_loss: 0.0138 - val_mean_squared_error: 0.0015\n",
            "Epoch 38/300\n",
            "\u001b[1m240/240\u001b[0m \u001b[32m━━━━━━━━━━━━━━━━━━━━\u001b[0m\u001b[37m\u001b[0m \u001b[1m1s\u001b[0m 3ms/step - loss: 0.0088 - mean_squared_error: 6.5758e-04 - val_loss: 0.0137 - val_mean_squared_error: 0.0015\n",
            "Epoch 39/300\n",
            "\u001b[1m240/240\u001b[0m \u001b[32m━━━━━━━━━━━━━━━━━━━━\u001b[0m\u001b[37m\u001b[0m \u001b[1m1s\u001b[0m 4ms/step - loss: 0.0086 - mean_squared_error: 6.3124e-04 - val_loss: 0.0137 - val_mean_squared_error: 0.0015\n",
            "Epoch 40/300\n",
            "\u001b[1m240/240\u001b[0m \u001b[32m━━━━━━━━━━━━━━━━━━━━\u001b[0m\u001b[37m\u001b[0m \u001b[1m2s\u001b[0m 6ms/step - loss: 0.0086 - mean_squared_error: 6.1425e-04 - val_loss: 0.0136 - val_mean_squared_error: 0.0015\n",
            "Epoch 41/300\n",
            "\u001b[1m240/240\u001b[0m \u001b[32m━━━━━━━━━━━━━━━━━━━━\u001b[0m\u001b[37m\u001b[0m \u001b[1m2s\u001b[0m 4ms/step - loss: 0.0084 - mean_squared_error: 6.0635e-04 - val_loss: 0.0135 - val_mean_squared_error: 0.0015\n",
            "Epoch 42/300\n",
            "\u001b[1m240/240\u001b[0m \u001b[32m━━━━━━━━━━━━━━━━━━━━\u001b[0m\u001b[37m\u001b[0m \u001b[1m1s\u001b[0m 3ms/step - loss: 0.0083 - mean_squared_error: 5.9277e-04 - val_loss: 0.0135 - val_mean_squared_error: 0.0015\n",
            "Epoch 43/300\n",
            "\u001b[1m240/240\u001b[0m \u001b[32m━━━━━━━━━━━━━━━━━━━━\u001b[0m\u001b[37m\u001b[0m \u001b[1m1s\u001b[0m 3ms/step - loss: 0.0082 - mean_squared_error: 5.7564e-04 - val_loss: 0.0135 - val_mean_squared_error: 0.0015\n",
            "Epoch 44/300\n",
            "\u001b[1m240/240\u001b[0m \u001b[32m━━━━━━━━━━━━━━━━━━━━\u001b[0m\u001b[37m\u001b[0m \u001b[1m1s\u001b[0m 3ms/step - loss: 0.0081 - mean_squared_error: 5.5735e-04 - val_loss: 0.0134 - val_mean_squared_error: 0.0015\n",
            "Epoch 45/300\n",
            "\u001b[1m240/240\u001b[0m \u001b[32m━━━━━━━━━━━━━━━━━━━━\u001b[0m\u001b[37m\u001b[0m \u001b[1m1s\u001b[0m 3ms/step - loss: 0.0079 - mean_squared_error: 5.3260e-04 - val_loss: 0.0132 - val_mean_squared_error: 0.0015\n",
            "Epoch 46/300\n",
            "\u001b[1m240/240\u001b[0m \u001b[32m━━━━━━━━━━━━━━━━━━━━\u001b[0m\u001b[37m\u001b[0m \u001b[1m1s\u001b[0m 3ms/step - loss: 0.0079 - mean_squared_error: 5.3177e-04 - val_loss: 0.0133 - val_mean_squared_error: 0.0015\n",
            "Epoch 47/300\n",
            "\u001b[1m240/240\u001b[0m \u001b[32m━━━━━━━━━━━━━━━━━━━━\u001b[0m\u001b[37m\u001b[0m \u001b[1m1s\u001b[0m 3ms/step - loss: 0.0079 - mean_squared_error: 5.3243e-04 - val_loss: 0.0131 - val_mean_squared_error: 0.0014\n",
            "Epoch 48/300\n",
            "\u001b[1m240/240\u001b[0m \u001b[32m━━━━━━━━━━━━━━━━━━━━\u001b[0m\u001b[37m\u001b[0m \u001b[1m1s\u001b[0m 3ms/step - loss: 0.0077 - mean_squared_error: 5.0194e-04 - val_loss: 0.0131 - val_mean_squared_error: 0.0014\n",
            "Epoch 49/300\n",
            "\u001b[1m240/240\u001b[0m \u001b[32m━━━━━━━━━━━━━━━━━━━━\u001b[0m\u001b[37m\u001b[0m \u001b[1m1s\u001b[0m 4ms/step - loss: 0.0076 - mean_squared_error: 4.8909e-04 - val_loss: 0.0131 - val_mean_squared_error: 0.0014\n",
            "Epoch 50/300\n",
            "\u001b[1m240/240\u001b[0m \u001b[32m━━━━━━━━━━━━━━━━━━━━\u001b[0m\u001b[37m\u001b[0m \u001b[1m1s\u001b[0m 4ms/step - loss: 0.0076 - mean_squared_error: 4.8554e-04 - val_loss: 0.0131 - val_mean_squared_error: 0.0014\n",
            "Epoch 51/300\n",
            "\u001b[1m240/240\u001b[0m \u001b[32m━━━━━━━━━━━━━━━━━━━━\u001b[0m\u001b[37m\u001b[0m \u001b[1m1s\u001b[0m 4ms/step - loss: 0.0074 - mean_squared_error: 4.6610e-04 - val_loss: 0.0129 - val_mean_squared_error: 0.0014\n",
            "Epoch 52/300\n",
            "\u001b[1m240/240\u001b[0m \u001b[32m━━━━━━━━━━━━━━━━━━━━\u001b[0m\u001b[37m\u001b[0m \u001b[1m1s\u001b[0m 3ms/step - loss: 0.0074 - mean_squared_error: 4.6078e-04 - val_loss: 0.0130 - val_mean_squared_error: 0.0014\n",
            "Epoch 53/300\n",
            "\u001b[1m240/240\u001b[0m \u001b[32m━━━━━━━━━━━━━━━━━━━━\u001b[0m\u001b[37m\u001b[0m \u001b[1m1s\u001b[0m 3ms/step - loss: 0.0073 - mean_squared_error: 4.5624e-04 - val_loss: 0.0129 - val_mean_squared_error: 0.0014\n",
            "Epoch 54/300\n",
            "\u001b[1m240/240\u001b[0m \u001b[32m━━━━━━━━━━━━━━━━━━━━\u001b[0m\u001b[37m\u001b[0m \u001b[1m1s\u001b[0m 3ms/step - loss: 0.0072 - mean_squared_error: 4.3001e-04 - val_loss: 0.0129 - val_mean_squared_error: 0.0014\n",
            "Epoch 55/300\n",
            "\u001b[1m240/240\u001b[0m \u001b[32m━━━━━━━━━━━━━━━━━━━━\u001b[0m\u001b[37m\u001b[0m \u001b[1m1s\u001b[0m 4ms/step - loss: 0.0072 - mean_squared_error: 4.3050e-04 - val_loss: 0.0129 - val_mean_squared_error: 0.0014\n",
            "Epoch 56/300\n",
            "\u001b[1m240/240\u001b[0m \u001b[32m━━━━━━━━━━━━━━━━━━━━\u001b[0m\u001b[37m\u001b[0m \u001b[1m1s\u001b[0m 5ms/step - loss: 0.0071 - mean_squared_error: 4.2079e-04 - val_loss: 0.0129 - val_mean_squared_error: 0.0014\n",
            "Epoch 57/300\n",
            "\u001b[1m240/240\u001b[0m \u001b[32m━━━━━━━━━━━━━━━━━━━━\u001b[0m\u001b[37m\u001b[0m \u001b[1m1s\u001b[0m 3ms/step - loss: 0.0070 - mean_squared_error: 4.1738e-04 - val_loss: 0.0128 - val_mean_squared_error: 0.0014\n",
            "Epoch 58/300\n",
            "\u001b[1m240/240\u001b[0m \u001b[32m━━━━━━━━━━━━━━━━━━━━\u001b[0m\u001b[37m\u001b[0m \u001b[1m2s\u001b[0m 7ms/step - loss: 0.0069 - mean_squared_error: 3.9547e-04 - val_loss: 0.0128 - val_mean_squared_error: 0.0014\n",
            "Epoch 59/300\n",
            "\u001b[1m240/240\u001b[0m \u001b[32m━━━━━━━━━━━━━━━━━━━━\u001b[0m\u001b[37m\u001b[0m \u001b[1m2s\u001b[0m 4ms/step - loss: 0.0069 - mean_squared_error: 3.9456e-04 - val_loss: 0.0127 - val_mean_squared_error: 0.0014\n",
            "Epoch 60/300\n",
            "\u001b[1m240/240\u001b[0m \u001b[32m━━━━━━━━━━━━━━━━━━━━\u001b[0m\u001b[37m\u001b[0m \u001b[1m1s\u001b[0m 4ms/step - loss: 0.0068 - mean_squared_error: 3.8115e-04 - val_loss: 0.0128 - val_mean_squared_error: 0.0014\n",
            "Epoch 61/300\n",
            "\u001b[1m240/240\u001b[0m \u001b[32m━━━━━━━━━━━━━━━━━━━━\u001b[0m\u001b[37m\u001b[0m \u001b[1m1s\u001b[0m 4ms/step - loss: 0.0067 - mean_squared_error: 3.7687e-04 - val_loss: 0.0127 - val_mean_squared_error: 0.0014\n",
            "Epoch 62/300\n",
            "\u001b[1m240/240\u001b[0m \u001b[32m━━━━━━━━━━━━━━━━━━━━\u001b[0m\u001b[37m\u001b[0m \u001b[1m1s\u001b[0m 4ms/step - loss: 0.0066 - mean_squared_error: 3.6838e-04 - val_loss: 0.0127 - val_mean_squared_error: 0.0014\n",
            "Epoch 63/300\n",
            "\u001b[1m240/240\u001b[0m \u001b[32m━━━━━━━━━━━━━━━━━━━━\u001b[0m\u001b[37m\u001b[0m \u001b[1m1s\u001b[0m 3ms/step - loss: 0.0066 - mean_squared_error: 3.6908e-04 - val_loss: 0.0127 - val_mean_squared_error: 0.0014\n",
            "Epoch 64/300\n",
            "\u001b[1m240/240\u001b[0m \u001b[32m━━━━━━━━━━━━━━━━━━━━\u001b[0m\u001b[37m\u001b[0m \u001b[1m1s\u001b[0m 3ms/step - loss: 0.0065 - mean_squared_error: 3.4696e-04 - val_loss: 0.0126 - val_mean_squared_error: 0.0013\n",
            "Epoch 65/300\n",
            "\u001b[1m240/240\u001b[0m \u001b[32m━━━━━━━━━━━━━━━━━━━━\u001b[0m\u001b[37m\u001b[0m \u001b[1m1s\u001b[0m 3ms/step - loss: 0.0065 - mean_squared_error: 3.4765e-04 - val_loss: 0.0127 - val_mean_squared_error: 0.0014\n",
            "Epoch 66/300\n",
            "\u001b[1m240/240\u001b[0m \u001b[32m━━━━━━━━━━━━━━━━━━━━\u001b[0m\u001b[37m\u001b[0m \u001b[1m1s\u001b[0m 3ms/step - loss: 0.0064 - mean_squared_error: 3.3577e-04 - val_loss: 0.0127 - val_mean_squared_error: 0.0014\n",
            "Epoch 67/300\n",
            "\u001b[1m240/240\u001b[0m \u001b[32m━━━━━━━━━━━━━━━━━━━━\u001b[0m\u001b[37m\u001b[0m \u001b[1m1s\u001b[0m 3ms/step - loss: 0.0064 - mean_squared_error: 3.3314e-04 - val_loss: 0.0126 - val_mean_squared_error: 0.0014\n",
            "Epoch 68/300\n",
            "\u001b[1m240/240\u001b[0m \u001b[32m━━━━━━━━━━━━━━━━━━━━\u001b[0m\u001b[37m\u001b[0m \u001b[1m1s\u001b[0m 3ms/step - loss: 0.0063 - mean_squared_error: 3.2661e-04 - val_loss: 0.0126 - val_mean_squared_error: 0.0014\n",
            "Epoch 69/300\n",
            "\u001b[1m240/240\u001b[0m \u001b[32m━━━━━━━━━━━━━━━━━━━━\u001b[0m\u001b[37m\u001b[0m \u001b[1m1s\u001b[0m 4ms/step - loss: 0.0063 - mean_squared_error: 3.2068e-04 - val_loss: 0.0125 - val_mean_squared_error: 0.0013\n",
            "Epoch 70/300\n",
            "\u001b[1m240/240\u001b[0m \u001b[32m━━━━━━━━━━━━━━━━━━━━\u001b[0m\u001b[37m\u001b[0m \u001b[1m1s\u001b[0m 3ms/step - loss: 0.0063 - mean_squared_error: 3.2047e-04 - val_loss: 0.0126 - val_mean_squared_error: 0.0013\n",
            "Epoch 71/300\n",
            "\u001b[1m240/240\u001b[0m \u001b[32m━━━━━━━━━━━━━━━━━━━━\u001b[0m\u001b[37m\u001b[0m \u001b[1m1s\u001b[0m 3ms/step - loss: 0.0062 - mean_squared_error: 3.1027e-04 - val_loss: 0.0126 - val_mean_squared_error: 0.0013\n",
            "Epoch 72/300\n",
            "\u001b[1m240/240\u001b[0m \u001b[32m━━━━━━━━━━━━━━━━━━━━\u001b[0m\u001b[37m\u001b[0m \u001b[1m1s\u001b[0m 3ms/step - loss: 0.0062 - mean_squared_error: 3.0929e-04 - val_loss: 0.0126 - val_mean_squared_error: 0.0013\n",
            "Epoch 73/300\n",
            "\u001b[1m240/240\u001b[0m \u001b[32m━━━━━━━━━━━━━━━━━━━━\u001b[0m\u001b[37m\u001b[0m \u001b[1m1s\u001b[0m 4ms/step - loss: 0.0061 - mean_squared_error: 2.9771e-04 - val_loss: 0.0126 - val_mean_squared_error: 0.0014\n",
            "Epoch 74/300\n",
            "\u001b[1m240/240\u001b[0m \u001b[32m━━━━━━━━━━━━━━━━━━━━\u001b[0m\u001b[37m\u001b[0m \u001b[1m1s\u001b[0m 4ms/step - loss: 0.0061 - mean_squared_error: 3.0197e-04 - val_loss: 0.0126 - val_mean_squared_error: 0.0013\n",
            "Epoch 75/300\n",
            "\u001b[1m240/240\u001b[0m \u001b[32m━━━━━━━━━━━━━━━━━━━━\u001b[0m\u001b[37m\u001b[0m \u001b[1m1s\u001b[0m 4ms/step - loss: 0.0060 - mean_squared_error: 2.9179e-04 - val_loss: 0.0127 - val_mean_squared_error: 0.0013\n",
            "Epoch 76/300\n",
            "\u001b[1m240/240\u001b[0m \u001b[32m━━━━━━━━━━━━━━━━━━━━\u001b[0m\u001b[37m\u001b[0m \u001b[1m1s\u001b[0m 3ms/step - loss: 0.0059 - mean_squared_error: 2.8777e-04 - val_loss: 0.0125 - val_mean_squared_error: 0.0013\n",
            "Epoch 77/300\n",
            "\u001b[1m240/240\u001b[0m \u001b[32m━━━━━━━━━━━━━━━━━━━━\u001b[0m\u001b[37m\u001b[0m \u001b[1m1s\u001b[0m 3ms/step - loss: 0.0059 - mean_squared_error: 2.8454e-04 - val_loss: 0.0127 - val_mean_squared_error: 0.0014\n",
            "Epoch 78/300\n",
            "\u001b[1m240/240\u001b[0m \u001b[32m━━━━━━━━━━━━━━━━━━━━\u001b[0m\u001b[37m\u001b[0m \u001b[1m1s\u001b[0m 3ms/step - loss: 0.0060 - mean_squared_error: 2.8522e-04 - val_loss: 0.0126 - val_mean_squared_error: 0.0013\n",
            "Epoch 79/300\n",
            "\u001b[1m240/240\u001b[0m \u001b[32m━━━━━━━━━━━━━━━━━━━━\u001b[0m\u001b[37m\u001b[0m \u001b[1m1s\u001b[0m 3ms/step - loss: 0.0058 - mean_squared_error: 2.7480e-04 - val_loss: 0.0126 - val_mean_squared_error: 0.0013\n",
            "Epoch 80/300\n",
            "\u001b[1m240/240\u001b[0m \u001b[32m━━━━━━━━━━━━━━━━━━━━\u001b[0m\u001b[37m\u001b[0m \u001b[1m1s\u001b[0m 3ms/step - loss: 0.0058 - mean_squared_error: 2.7100e-04 - val_loss: 0.0125 - val_mean_squared_error: 0.0013\n",
            "Epoch 81/300\n",
            "\u001b[1m240/240\u001b[0m \u001b[32m━━━━━━━━━━━━━━━━━━━━\u001b[0m\u001b[37m\u001b[0m \u001b[1m1s\u001b[0m 3ms/step - loss: 0.0058 - mean_squared_error: 2.6917e-04 - val_loss: 0.0125 - val_mean_squared_error: 0.0013\n",
            "Epoch 82/300\n",
            "\u001b[1m240/240\u001b[0m \u001b[32m━━━━━━━━━━━━━━━━━━━━\u001b[0m\u001b[37m\u001b[0m \u001b[1m1s\u001b[0m 3ms/step - loss: 0.0057 - mean_squared_error: 2.6449e-04 - val_loss: 0.0126 - val_mean_squared_error: 0.0013\n",
            "Epoch 83/300\n",
            "\u001b[1m240/240\u001b[0m \u001b[32m━━━━━━━━━━━━━━━━━━━━\u001b[0m\u001b[37m\u001b[0m \u001b[1m1s\u001b[0m 3ms/step - loss: 0.0057 - mean_squared_error: 2.6115e-04 - val_loss: 0.0126 - val_mean_squared_error: 0.0013\n",
            "Epoch 84/300\n",
            "\u001b[1m240/240\u001b[0m \u001b[32m━━━━━━━━━━━━━━━━━━━━\u001b[0m\u001b[37m\u001b[0m \u001b[1m1s\u001b[0m 3ms/step - loss: 0.0056 - mean_squared_error: 2.5621e-04 - val_loss: 0.0126 - val_mean_squared_error: 0.0013\n",
            "Epoch 85/300\n",
            "\u001b[1m240/240\u001b[0m \u001b[32m━━━━━━━━━━━━━━━━━━━━\u001b[0m\u001b[37m\u001b[0m \u001b[1m1s\u001b[0m 3ms/step - loss: 0.0056 - mean_squared_error: 2.5605e-04 - val_loss: 0.0125 - val_mean_squared_error: 0.0013\n",
            "Epoch 86/300\n",
            "\u001b[1m240/240\u001b[0m \u001b[32m━━━━━━━━━━━━━━━━━━━━\u001b[0m\u001b[37m\u001b[0m \u001b[1m1s\u001b[0m 3ms/step - loss: 0.0056 - mean_squared_error: 2.4803e-04 - val_loss: 0.0126 - val_mean_squared_error: 0.0013\n",
            "Epoch 87/300\n",
            "\u001b[1m240/240\u001b[0m \u001b[32m━━━━━━━━━━━━━━━━━━━━\u001b[0m\u001b[37m\u001b[0m \u001b[1m1s\u001b[0m 4ms/step - loss: 0.0056 - mean_squared_error: 2.4794e-04 - val_loss: 0.0127 - val_mean_squared_error: 0.0013\n",
            "Epoch 88/300\n",
            "\u001b[1m240/240\u001b[0m \u001b[32m━━━━━━━━━━━━━━━━━━━━\u001b[0m\u001b[37m\u001b[0m \u001b[1m1s\u001b[0m 4ms/step - loss: 0.0056 - mean_squared_error: 2.4770e-04 - val_loss: 0.0126 - val_mean_squared_error: 0.0013\n",
            "Epoch 89/300\n",
            "\u001b[1m240/240\u001b[0m \u001b[32m━━━━━━━━━━━━━━━━━━━━\u001b[0m\u001b[37m\u001b[0m \u001b[1m1s\u001b[0m 3ms/step - loss: 0.0055 - mean_squared_error: 2.3826e-04 - val_loss: 0.0126 - val_mean_squared_error: 0.0013\n",
            "Epoch 90/300\n",
            "\u001b[1m240/240\u001b[0m \u001b[32m━━━━━━━━━━━━━━━━━━━━\u001b[0m\u001b[37m\u001b[0m \u001b[1m1s\u001b[0m 3ms/step - loss: 0.0055 - mean_squared_error: 2.4111e-04 - val_loss: 0.0126 - val_mean_squared_error: 0.0013\n",
            "Epoch 91/300\n",
            "\u001b[1m240/240\u001b[0m \u001b[32m━━━━━━━━━━━━━━━━━━━━\u001b[0m\u001b[37m\u001b[0m \u001b[1m1s\u001b[0m 3ms/step - loss: 0.0055 - mean_squared_error: 2.3902e-04 - val_loss: 0.0126 - val_mean_squared_error: 0.0013\n",
            "Epoch 92/300\n",
            "\u001b[1m240/240\u001b[0m \u001b[32m━━━━━━━━━━━━━━━━━━━━\u001b[0m\u001b[37m\u001b[0m \u001b[1m1s\u001b[0m 3ms/step - loss: 0.0054 - mean_squared_error: 2.3183e-04 - val_loss: 0.0126 - val_mean_squared_error: 0.0013\n",
            "Epoch 93/300\n",
            "\u001b[1m240/240\u001b[0m \u001b[32m━━━━━━━━━━━━━━━━━━━━\u001b[0m\u001b[37m\u001b[0m \u001b[1m1s\u001b[0m 3ms/step - loss: 0.0054 - mean_squared_error: 2.3009e-04 - val_loss: 0.0126 - val_mean_squared_error: 0.0013\n",
            "Epoch 94/300\n",
            "\u001b[1m240/240\u001b[0m \u001b[32m━━━━━━━━━━━━━━━━━━━━\u001b[0m\u001b[37m\u001b[0m \u001b[1m1s\u001b[0m 3ms/step - loss: 0.0054 - mean_squared_error: 2.2818e-04 - val_loss: 0.0126 - val_mean_squared_error: 0.0013\n",
            "Epoch 95/300\n",
            "\u001b[1m240/240\u001b[0m \u001b[32m━━━━━━━━━━━━━━━━━━━━\u001b[0m\u001b[37m\u001b[0m \u001b[1m1s\u001b[0m 3ms/step - loss: 0.0053 - mean_squared_error: 2.2031e-04 - val_loss: 0.0125 - val_mean_squared_error: 0.0013\n",
            "Epoch 96/300\n",
            "\u001b[1m240/240\u001b[0m \u001b[32m━━━━━━━━━━━━━━━━━━━━\u001b[0m\u001b[37m\u001b[0m \u001b[1m1s\u001b[0m 3ms/step - loss: 0.0053 - mean_squared_error: 2.2237e-04 - val_loss: 0.0126 - val_mean_squared_error: 0.0013\n",
            "Epoch 97/300\n",
            "\u001b[1m240/240\u001b[0m \u001b[32m━━━━━━━━━━━━━━━━━━━━\u001b[0m\u001b[37m\u001b[0m \u001b[1m1s\u001b[0m 3ms/step - loss: 0.0053 - mean_squared_error: 2.2105e-04 - val_loss: 0.0126 - val_mean_squared_error: 0.0013\n",
            "Epoch 98/300\n",
            "\u001b[1m240/240\u001b[0m \u001b[32m━━━━━━━━━━━━━━━━━━━━\u001b[0m\u001b[37m\u001b[0m \u001b[1m1s\u001b[0m 3ms/step - loss: 0.0053 - mean_squared_error: 2.2173e-04 - val_loss: 0.0126 - val_mean_squared_error: 0.0013\n",
            "Epoch 99/300\n",
            "\u001b[1m240/240\u001b[0m \u001b[32m━━━━━━━━━━━━━━━━━━━━\u001b[0m\u001b[37m\u001b[0m \u001b[1m1s\u001b[0m 4ms/step - loss: 0.0052 - mean_squared_error: 2.1398e-04 - val_loss: 0.0126 - val_mean_squared_error: 0.0013\n",
            "Epoch 100/300\n",
            "\u001b[1m240/240\u001b[0m \u001b[32m━━━━━━━━━━━━━━━━━━━━\u001b[0m\u001b[37m\u001b[0m \u001b[1m1s\u001b[0m 4ms/step - loss: 0.0052 - mean_squared_error: 2.1312e-04 - val_loss: 0.0126 - val_mean_squared_error: 0.0013\n",
            "Epoch 101/300\n",
            "\u001b[1m240/240\u001b[0m \u001b[32m━━━━━━━━━━━━━━━━━━━━\u001b[0m\u001b[37m\u001b[0m \u001b[1m1s\u001b[0m 4ms/step - loss: 0.0052 - mean_squared_error: 2.0983e-04 - val_loss: 0.0128 - val_mean_squared_error: 0.0014\n",
            "Epoch 102/300\n",
            "\u001b[1m240/240\u001b[0m \u001b[32m━━━━━━━━━━━━━━━━━━━━\u001b[0m\u001b[37m\u001b[0m \u001b[1m1s\u001b[0m 4ms/step - loss: 0.0052 - mean_squared_error: 2.1303e-04 - val_loss: 0.0127 - val_mean_squared_error: 0.0013\n",
            "Epoch 103/300\n",
            "\u001b[1m240/240\u001b[0m \u001b[32m━━━━━━━━━━━━━━━━━━━━\u001b[0m\u001b[37m\u001b[0m \u001b[1m1s\u001b[0m 3ms/step - loss: 0.0052 - mean_squared_error: 2.0653e-04 - val_loss: 0.0126 - val_mean_squared_error: 0.0013\n",
            "Epoch 104/300\n",
            "\u001b[1m240/240\u001b[0m \u001b[32m━━━━━━━━━━━━━━━━━━━━\u001b[0m\u001b[37m\u001b[0m \u001b[1m1s\u001b[0m 3ms/step - loss: 0.0051 - mean_squared_error: 2.0605e-04 - val_loss: 0.0127 - val_mean_squared_error: 0.0013\n",
            "Epoch 105/300\n",
            "\u001b[1m240/240\u001b[0m \u001b[32m━━━━━━━━━━━━━━━━━━━━\u001b[0m\u001b[37m\u001b[0m \u001b[1m1s\u001b[0m 3ms/step - loss: 0.0051 - mean_squared_error: 2.0322e-04 - val_loss: 0.0127 - val_mean_squared_error: 0.0013\n",
            "Epoch 106/300\n",
            "\u001b[1m240/240\u001b[0m \u001b[32m━━━━━━━━━━━━━━━━━━━━\u001b[0m\u001b[37m\u001b[0m \u001b[1m1s\u001b[0m 3ms/step - loss: 0.0051 - mean_squared_error: 2.0211e-04 - val_loss: 0.0126 - val_mean_squared_error: 0.0013\n",
            "Epoch 107/300\n",
            "\u001b[1m240/240\u001b[0m \u001b[32m━━━━━━━━━━━━━━━━━━━━\u001b[0m\u001b[37m\u001b[0m \u001b[1m1s\u001b[0m 3ms/step - loss: 0.0051 - mean_squared_error: 1.9921e-04 - val_loss: 0.0127 - val_mean_squared_error: 0.0013\n",
            "Epoch 108/300\n",
            "\u001b[1m240/240\u001b[0m \u001b[32m━━━━━━━━━━━━━━━━━━━━\u001b[0m\u001b[37m\u001b[0m \u001b[1m2s\u001b[0m 5ms/step - loss: 0.0050 - mean_squared_error: 1.9548e-04 - val_loss: 0.0127 - val_mean_squared_error: 0.0013\n",
            "Epoch 109/300\n",
            "\u001b[1m240/240\u001b[0m \u001b[32m━━━━━━━━━━━━━━━━━━━━\u001b[0m\u001b[37m\u001b[0m \u001b[1m1s\u001b[0m 5ms/step - loss: 0.0050 - mean_squared_error: 1.9476e-04 - val_loss: 0.0127 - val_mean_squared_error: 0.0013\n",
            "Epoch 110/300\n",
            "\u001b[1m240/240\u001b[0m \u001b[32m━━━━━━━━━━━━━━━━━━━━\u001b[0m\u001b[37m\u001b[0m \u001b[1m2s\u001b[0m 4ms/step - loss: 0.0050 - mean_squared_error: 1.9482e-04 - val_loss: 0.0127 - val_mean_squared_error: 0.0014\n",
            "Epoch 111/300\n",
            "\u001b[1m240/240\u001b[0m \u001b[32m━━━━━━━━━━━━━━━━━━━━\u001b[0m\u001b[37m\u001b[0m \u001b[1m1s\u001b[0m 4ms/step - loss: 0.0050 - mean_squared_error: 1.9487e-04 - val_loss: 0.0127 - val_mean_squared_error: 0.0013\n",
            "Epoch 112/300\n",
            "\u001b[1m240/240\u001b[0m \u001b[32m━━━━━━━━━━━━━━━━━━━━\u001b[0m\u001b[37m\u001b[0m \u001b[1m1s\u001b[0m 4ms/step - loss: 0.0050 - mean_squared_error: 1.8925e-04 - val_loss: 0.0126 - val_mean_squared_error: 0.0013\n",
            "Epoch 113/300\n",
            "\u001b[1m240/240\u001b[0m \u001b[32m━━━━━━━━━━━━━━━━━━━━\u001b[0m\u001b[37m\u001b[0m \u001b[1m1s\u001b[0m 3ms/step - loss: 0.0049 - mean_squared_error: 1.8517e-04 - val_loss: 0.0127 - val_mean_squared_error: 0.0014\n",
            "Epoch 114/300\n",
            "\u001b[1m240/240\u001b[0m \u001b[32m━━━━━━━━━━━━━━━━━━━━\u001b[0m\u001b[37m\u001b[0m \u001b[1m1s\u001b[0m 3ms/step - loss: 0.0050 - mean_squared_error: 1.8735e-04 - val_loss: 0.0126 - val_mean_squared_error: 0.0013\n",
            "Epoch 115/300\n",
            "\u001b[1m240/240\u001b[0m \u001b[32m━━━━━━━━━━━━━━━━━━━━\u001b[0m\u001b[37m\u001b[0m \u001b[1m1s\u001b[0m 3ms/step - loss: 0.0049 - mean_squared_error: 1.8540e-04 - val_loss: 0.0127 - val_mean_squared_error: 0.0014\n",
            "Epoch 116/300\n",
            "\u001b[1m240/240\u001b[0m \u001b[32m━━━━━━━━━━━━━━━━━━━━\u001b[0m\u001b[37m\u001b[0m \u001b[1m1s\u001b[0m 3ms/step - loss: 0.0049 - mean_squared_error: 1.8644e-04 - val_loss: 0.0127 - val_mean_squared_error: 0.0014\n",
            "Epoch 117/300\n",
            "\u001b[1m240/240\u001b[0m \u001b[32m━━━━━━━━━━━━━━━━━━━━\u001b[0m\u001b[37m\u001b[0m \u001b[1m1s\u001b[0m 3ms/step - loss: 0.0049 - mean_squared_error: 1.8140e-04 - val_loss: 0.0127 - val_mean_squared_error: 0.0013\n",
            "Epoch 118/300\n",
            "\u001b[1m240/240\u001b[0m \u001b[32m━━━━━━━━━━━━━━━━━━━━\u001b[0m\u001b[37m\u001b[0m \u001b[1m1s\u001b[0m 3ms/step - loss: 0.0049 - mean_squared_error: 1.8218e-04 - val_loss: 0.0127 - val_mean_squared_error: 0.0014\n",
            "Epoch 119/300\n",
            "\u001b[1m240/240\u001b[0m \u001b[32m━━━━━━━━━━━━━━━━━━━━\u001b[0m\u001b[37m\u001b[0m \u001b[1m1s\u001b[0m 3ms/step - loss: 0.0049 - mean_squared_error: 1.7944e-04 - val_loss: 0.0127 - val_mean_squared_error: 0.0014\n",
            "Epoch 120/300\n",
            "\u001b[1m240/240\u001b[0m \u001b[32m━━━━━━━━━━━━━━━━━━━━\u001b[0m\u001b[37m\u001b[0m \u001b[1m1s\u001b[0m 3ms/step - loss: 0.0048 - mean_squared_error: 1.7868e-04 - val_loss: 0.0126 - val_mean_squared_error: 0.0013\n",
            "Epoch 121/300\n",
            "\u001b[1m240/240\u001b[0m \u001b[32m━━━━━━━━━━━━━━━━━━━━\u001b[0m\u001b[37m\u001b[0m \u001b[1m1s\u001b[0m 3ms/step - loss: 0.0048 - mean_squared_error: 1.7708e-04 - val_loss: 0.0126 - val_mean_squared_error: 0.0013\n",
            "Epoch 122/300\n",
            "\u001b[1m240/240\u001b[0m \u001b[32m━━━━━━━━━━━━━━━━━━━━\u001b[0m\u001b[37m\u001b[0m \u001b[1m1s\u001b[0m 3ms/step - loss: 0.0048 - mean_squared_error: 1.7425e-04 - val_loss: 0.0126 - val_mean_squared_error: 0.0013\n",
            "Epoch 123/300\n",
            "\u001b[1m240/240\u001b[0m \u001b[32m━━━━━━━━━━━━━━━━━━━━\u001b[0m\u001b[37m\u001b[0m \u001b[1m1s\u001b[0m 4ms/step - loss: 0.0048 - mean_squared_error: 1.7063e-04 - val_loss: 0.0128 - val_mean_squared_error: 0.0014\n",
            "Epoch 124/300\n",
            "\u001b[1m240/240\u001b[0m \u001b[32m━━━━━━━━━━━━━━━━━━━━\u001b[0m\u001b[37m\u001b[0m \u001b[1m1s\u001b[0m 4ms/step - loss: 0.0048 - mean_squared_error: 1.7013e-04 - val_loss: 0.0127 - val_mean_squared_error: 0.0014\n",
            "Epoch 125/300\n",
            "\u001b[1m240/240\u001b[0m \u001b[32m━━━━━━━━━━━━━━━━━━━━\u001b[0m\u001b[37m\u001b[0m \u001b[1m1s\u001b[0m 4ms/step - loss: 0.0048 - mean_squared_error: 1.7253e-04 - val_loss: 0.0127 - val_mean_squared_error: 0.0013\n",
            "Epoch 126/300\n",
            "\u001b[1m240/240\u001b[0m \u001b[32m━━━━━━━━━━━━━━━━━━━━\u001b[0m\u001b[37m\u001b[0m \u001b[1m1s\u001b[0m 3ms/step - loss: 0.0047 - mean_squared_error: 1.6980e-04 - val_loss: 0.0127 - val_mean_squared_error: 0.0014\n",
            "Epoch 127/300\n",
            "\u001b[1m240/240\u001b[0m \u001b[32m━━━━━━━━━━━━━━━━━━━━\u001b[0m\u001b[37m\u001b[0m \u001b[1m1s\u001b[0m 3ms/step - loss: 0.0047 - mean_squared_error: 1.6713e-04 - val_loss: 0.0127 - val_mean_squared_error: 0.0013\n",
            "Epoch 128/300\n",
            "\u001b[1m240/240\u001b[0m \u001b[32m━━━━━━━━━━━━━━━━━━━━\u001b[0m\u001b[37m\u001b[0m \u001b[1m1s\u001b[0m 3ms/step - loss: 0.0047 - mean_squared_error: 1.6594e-04 - val_loss: 0.0128 - val_mean_squared_error: 0.0014\n",
            "Epoch 129/300\n",
            "\u001b[1m240/240\u001b[0m \u001b[32m━━━━━━━━━━━━━━━━━━━━\u001b[0m\u001b[37m\u001b[0m \u001b[1m1s\u001b[0m 3ms/step - loss: 0.0047 - mean_squared_error: 1.6429e-04 - val_loss: 0.0128 - val_mean_squared_error: 0.0014\n",
            "Epoch 130/300\n",
            "\u001b[1m240/240\u001b[0m \u001b[32m━━━━━━━━━━━━━━━━━━━━\u001b[0m\u001b[37m\u001b[0m \u001b[1m1s\u001b[0m 3ms/step - loss: 0.0047 - mean_squared_error: 1.6372e-04 - val_loss: 0.0127 - val_mean_squared_error: 0.0014\n",
            "Epoch 131/300\n",
            "\u001b[1m240/240\u001b[0m \u001b[32m━━━━━━━━━━━━━━━━━━━━\u001b[0m\u001b[37m\u001b[0m \u001b[1m1s\u001b[0m 3ms/step - loss: 0.0047 - mean_squared_error: 1.6764e-04 - val_loss: 0.0127 - val_mean_squared_error: 0.0014\n",
            "Epoch 132/300\n",
            "\u001b[1m240/240\u001b[0m \u001b[32m━━━━━━━━━━━━━━━━━━━━\u001b[0m\u001b[37m\u001b[0m \u001b[1m1s\u001b[0m 3ms/step - loss: 0.0047 - mean_squared_error: 1.6600e-04 - val_loss: 0.0128 - val_mean_squared_error: 0.0014\n",
            "Epoch 133/300\n",
            "\u001b[1m240/240\u001b[0m \u001b[32m━━━━━━━━━━━━━━━━━━━━\u001b[0m\u001b[37m\u001b[0m \u001b[1m1s\u001b[0m 3ms/step - loss: 0.0047 - mean_squared_error: 1.6190e-04 - val_loss: 0.0128 - val_mean_squared_error: 0.0014\n",
            "Epoch 134/300\n",
            "\u001b[1m240/240\u001b[0m \u001b[32m━━━━━━━━━━━━━━━━━━━━\u001b[0m\u001b[37m\u001b[0m \u001b[1m1s\u001b[0m 3ms/step - loss: 0.0046 - mean_squared_error: 1.5667e-04 - val_loss: 0.0128 - val_mean_squared_error: 0.0014\n",
            "Epoch 135/300\n",
            "\u001b[1m240/240\u001b[0m \u001b[32m━━━━━━━━━━━━━━━━━━━━\u001b[0m\u001b[37m\u001b[0m \u001b[1m1s\u001b[0m 4ms/step - loss: 0.0046 - mean_squared_error: 1.6185e-04 - val_loss: 0.0127 - val_mean_squared_error: 0.0013\n",
            "Epoch 136/300\n",
            "\u001b[1m240/240\u001b[0m \u001b[32m━━━━━━━━━━━━━━━━━━━━\u001b[0m\u001b[37m\u001b[0m \u001b[1m1s\u001b[0m 4ms/step - loss: 0.0046 - mean_squared_error: 1.5876e-04 - val_loss: 0.0127 - val_mean_squared_error: 0.0013\n",
            "Epoch 137/300\n",
            "\u001b[1m240/240\u001b[0m \u001b[32m━━━━━━━━━━━━━━━━━━━━\u001b[0m\u001b[37m\u001b[0m \u001b[1m1s\u001b[0m 3ms/step - loss: 0.0046 - mean_squared_error: 1.5883e-04 - val_loss: 0.0127 - val_mean_squared_error: 0.0014\n",
            "Epoch 138/300\n",
            "\u001b[1m240/240\u001b[0m \u001b[32m━━━━━━━━━━━━━━━━━━━━\u001b[0m\u001b[37m\u001b[0m \u001b[1m1s\u001b[0m 3ms/step - loss: 0.0046 - mean_squared_error: 1.5706e-04 - val_loss: 0.0128 - val_mean_squared_error: 0.0014\n",
            "Epoch 139/300\n",
            "\u001b[1m240/240\u001b[0m \u001b[32m━━━━━━━━━━━━━━━━━━━━\u001b[0m\u001b[37m\u001b[0m \u001b[1m1s\u001b[0m 3ms/step - loss: 0.0046 - mean_squared_error: 1.5890e-04 - val_loss: 0.0127 - val_mean_squared_error: 0.0014\n",
            "Epoch 140/300\n",
            "\u001b[1m240/240\u001b[0m \u001b[32m━━━━━━━━━━━━━━━━━━━━\u001b[0m\u001b[37m\u001b[0m \u001b[1m1s\u001b[0m 3ms/step - loss: 0.0045 - mean_squared_error: 1.5014e-04 - val_loss: 0.0129 - val_mean_squared_error: 0.0014\n",
            "Epoch 141/300\n",
            "\u001b[1m240/240\u001b[0m \u001b[32m━━━━━━━━━━━━━━━━━━━━\u001b[0m\u001b[37m\u001b[0m \u001b[1m1s\u001b[0m 3ms/step - loss: 0.0046 - mean_squared_error: 1.5672e-04 - val_loss: 0.0128 - val_mean_squared_error: 0.0014\n",
            "Epoch 142/300\n",
            "\u001b[1m240/240\u001b[0m \u001b[32m━━━━━━━━━━━━━━━━━━━━\u001b[0m\u001b[37m\u001b[0m \u001b[1m1s\u001b[0m 3ms/step - loss: 0.0045 - mean_squared_error: 1.4989e-04 - val_loss: 0.0127 - val_mean_squared_error: 0.0014\n",
            "Epoch 143/300\n",
            "\u001b[1m240/240\u001b[0m \u001b[32m━━━━━━━━━━━━━━━━━━━━\u001b[0m\u001b[37m\u001b[0m \u001b[1m1s\u001b[0m 3ms/step - loss: 0.0045 - mean_squared_error: 1.5241e-04 - val_loss: 0.0128 - val_mean_squared_error: 0.0014\n",
            "Epoch 144/300\n",
            "\u001b[1m240/240\u001b[0m \u001b[32m━━━━━━━━━━━━━━━━━━━━\u001b[0m\u001b[37m\u001b[0m \u001b[1m1s\u001b[0m 3ms/step - loss: 0.0045 - mean_squared_error: 1.5141e-04 - val_loss: 0.0127 - val_mean_squared_error: 0.0014\n",
            "Epoch 145/300\n",
            "\u001b[1m240/240\u001b[0m \u001b[32m━━━━━━━━━━━━━━━━━━━━\u001b[0m\u001b[37m\u001b[0m \u001b[1m1s\u001b[0m 3ms/step - loss: 0.0045 - mean_squared_error: 1.4958e-04 - val_loss: 0.0127 - val_mean_squared_error: 0.0014\n",
            "Epoch 146/300\n",
            "\u001b[1m240/240\u001b[0m \u001b[32m━━━━━━━━━━━━━━━━━━━━\u001b[0m\u001b[37m\u001b[0m \u001b[1m1s\u001b[0m 3ms/step - loss: 0.0045 - mean_squared_error: 1.4973e-04 - val_loss: 0.0128 - val_mean_squared_error: 0.0014\n",
            "Epoch 147/300\n",
            "\u001b[1m240/240\u001b[0m \u001b[32m━━━━━━━━━━━━━━━━━━━━\u001b[0m\u001b[37m\u001b[0m \u001b[1m1s\u001b[0m 3ms/step - loss: 0.0045 - mean_squared_error: 1.4660e-04 - val_loss: 0.0128 - val_mean_squared_error: 0.0014\n",
            "Epoch 148/300\n",
            "\u001b[1m240/240\u001b[0m \u001b[32m━━━━━━━━━━━━━━━━━━━━\u001b[0m\u001b[37m\u001b[0m \u001b[1m1s\u001b[0m 4ms/step - loss: 0.0045 - mean_squared_error: 1.4978e-04 - val_loss: 0.0128 - val_mean_squared_error: 0.0014\n",
            "Epoch 149/300\n",
            "\u001b[1m240/240\u001b[0m \u001b[32m━━━━━━━━━━━━━━━━━━━━\u001b[0m\u001b[37m\u001b[0m \u001b[1m1s\u001b[0m 4ms/step - loss: 0.0044 - mean_squared_error: 1.4492e-04 - val_loss: 0.0127 - val_mean_squared_error: 0.0014\n",
            "Epoch 150/300\n",
            "\u001b[1m240/240\u001b[0m \u001b[32m━━━━━━━━━━━━━━━━━━━━\u001b[0m\u001b[37m\u001b[0m \u001b[1m1s\u001b[0m 3ms/step - loss: 0.0045 - mean_squared_error: 1.4549e-04 - val_loss: 0.0128 - val_mean_squared_error: 0.0014\n",
            "Epoch 151/300\n",
            "\u001b[1m240/240\u001b[0m \u001b[32m━━━━━━━━━━━━━━━━━━━━\u001b[0m\u001b[37m\u001b[0m \u001b[1m1s\u001b[0m 3ms/step - loss: 0.0044 - mean_squared_error: 1.4378e-04 - val_loss: 0.0128 - val_mean_squared_error: 0.0014\n",
            "Epoch 152/300\n",
            "\u001b[1m240/240\u001b[0m \u001b[32m━━━━━━━━━━━━━━━━━━━━\u001b[0m\u001b[37m\u001b[0m \u001b[1m1s\u001b[0m 3ms/step - loss: 0.0044 - mean_squared_error: 1.4150e-04 - val_loss: 0.0129 - val_mean_squared_error: 0.0014\n",
            "Epoch 153/300\n",
            "\u001b[1m240/240\u001b[0m \u001b[32m━━━━━━━━━━━━━━━━━━━━\u001b[0m\u001b[37m\u001b[0m \u001b[1m1s\u001b[0m 3ms/step - loss: 0.0044 - mean_squared_error: 1.4320e-04 - val_loss: 0.0128 - val_mean_squared_error: 0.0014\n",
            "Epoch 154/300\n",
            "\u001b[1m240/240\u001b[0m \u001b[32m━━━━━━━━━━━━━━━━━━━━\u001b[0m\u001b[37m\u001b[0m \u001b[1m1s\u001b[0m 4ms/step - loss: 0.0044 - mean_squared_error: 1.4519e-04 - val_loss: 0.0128 - val_mean_squared_error: 0.0014\n",
            "Epoch 155/300\n",
            "\u001b[1m240/240\u001b[0m \u001b[32m━━━━━━━━━━━━━━━━━━━━\u001b[0m\u001b[37m\u001b[0m \u001b[1m1s\u001b[0m 3ms/step - loss: 0.0044 - mean_squared_error: 1.4228e-04 - val_loss: 0.0129 - val_mean_squared_error: 0.0014\n",
            "Epoch 156/300\n",
            "\u001b[1m240/240\u001b[0m \u001b[32m━━━━━━━━━━━━━━━━━━━━\u001b[0m\u001b[37m\u001b[0m \u001b[1m1s\u001b[0m 3ms/step - loss: 0.0044 - mean_squared_error: 1.4179e-04 - val_loss: 0.0128 - val_mean_squared_error: 0.0014\n",
            "Epoch 157/300\n",
            "\u001b[1m240/240\u001b[0m \u001b[32m━━━━━━━━━━━━━━━━━━━━\u001b[0m\u001b[37m\u001b[0m \u001b[1m1s\u001b[0m 3ms/step - loss: 0.0044 - mean_squared_error: 1.4025e-04 - val_loss: 0.0128 - val_mean_squared_error: 0.0014\n",
            "Epoch 158/300\n",
            "\u001b[1m240/240\u001b[0m \u001b[32m━━━━━━━━━━━━━━━━━━━━\u001b[0m\u001b[37m\u001b[0m \u001b[1m1s\u001b[0m 3ms/step - loss: 0.0044 - mean_squared_error: 1.4183e-04 - val_loss: 0.0128 - val_mean_squared_error: 0.0014\n",
            "Epoch 159/300\n",
            "\u001b[1m240/240\u001b[0m \u001b[32m━━━━━━━━━━━━━━━━━━━━\u001b[0m\u001b[37m\u001b[0m \u001b[1m1s\u001b[0m 3ms/step - loss: 0.0043 - mean_squared_error: 1.3717e-04 - val_loss: 0.0128 - val_mean_squared_error: 0.0014\n",
            "Epoch 160/300\n",
            "\u001b[1m240/240\u001b[0m \u001b[32m━━━━━━━━━━━━━━━━━━━━\u001b[0m\u001b[37m\u001b[0m \u001b[1m1s\u001b[0m 4ms/step - loss: 0.0043 - mean_squared_error: 1.3792e-04 - val_loss: 0.0128 - val_mean_squared_error: 0.0014\n",
            "Epoch 161/300\n",
            "\u001b[1m240/240\u001b[0m \u001b[32m━━━━━━━━━━━━━━━━━━━━\u001b[0m\u001b[37m\u001b[0m \u001b[1m1s\u001b[0m 4ms/step - loss: 0.0043 - mean_squared_error: 1.3666e-04 - val_loss: 0.0128 - val_mean_squared_error: 0.0014\n",
            "Epoch 162/300\n",
            "\u001b[1m240/240\u001b[0m \u001b[32m━━━━━━━━━━━━━━━━━━━━\u001b[0m\u001b[37m\u001b[0m \u001b[1m1s\u001b[0m 3ms/step - loss: 0.0043 - mean_squared_error: 1.3245e-04 - val_loss: 0.0129 - val_mean_squared_error: 0.0014\n",
            "Epoch 163/300\n",
            "\u001b[1m240/240\u001b[0m \u001b[32m━━━━━━━━━━━━━━━━━━━━\u001b[0m\u001b[37m\u001b[0m \u001b[1m1s\u001b[0m 3ms/step - loss: 0.0043 - mean_squared_error: 1.3379e-04 - val_loss: 0.0129 - val_mean_squared_error: 0.0014\n",
            "Epoch 164/300\n",
            "\u001b[1m240/240\u001b[0m \u001b[32m━━━━━━━━━━━━━━━━━━━━\u001b[0m\u001b[37m\u001b[0m \u001b[1m1s\u001b[0m 4ms/step - loss: 0.0043 - mean_squared_error: 1.3295e-04 - val_loss: 0.0128 - val_mean_squared_error: 0.0014\n",
            "Epoch 165/300\n",
            "\u001b[1m240/240\u001b[0m \u001b[32m━━━━━━━━━━━━━━━━━━━━\u001b[0m\u001b[37m\u001b[0m \u001b[1m1s\u001b[0m 3ms/step - loss: 0.0043 - mean_squared_error: 1.3294e-04 - val_loss: 0.0128 - val_mean_squared_error: 0.0014\n",
            "Epoch 166/300\n",
            "\u001b[1m240/240\u001b[0m \u001b[32m━━━━━━━━━━━━━━━━━━━━\u001b[0m\u001b[37m\u001b[0m \u001b[1m1s\u001b[0m 3ms/step - loss: 0.0043 - mean_squared_error: 1.3093e-04 - val_loss: 0.0129 - val_mean_squared_error: 0.0014\n",
            "Epoch 167/300\n",
            "\u001b[1m240/240\u001b[0m \u001b[32m━━━━━━━━━━━━━━━━━━━━\u001b[0m\u001b[37m\u001b[0m \u001b[1m1s\u001b[0m 3ms/step - loss: 0.0043 - mean_squared_error: 1.3202e-04 - val_loss: 0.0129 - val_mean_squared_error: 0.0014\n",
            "Epoch 168/300\n",
            "\u001b[1m240/240\u001b[0m \u001b[32m━━━━━━━━━━━━━━━━━━━━\u001b[0m\u001b[37m\u001b[0m \u001b[1m1s\u001b[0m 3ms/step - loss: 0.0043 - mean_squared_error: 1.3052e-04 - val_loss: 0.0130 - val_mean_squared_error: 0.0014\n",
            "Epoch 169/300\n",
            "\u001b[1m240/240\u001b[0m \u001b[32m━━━━━━━━━━━━━━━━━━━━\u001b[0m\u001b[37m\u001b[0m \u001b[1m1s\u001b[0m 3ms/step - loss: 0.0043 - mean_squared_error: 1.3281e-04 - val_loss: 0.0129 - val_mean_squared_error: 0.0014\n",
            "Epoch 170/300\n",
            "\u001b[1m240/240\u001b[0m \u001b[32m━━━━━━━━━━━━━━━━━━━━\u001b[0m\u001b[37m\u001b[0m \u001b[1m1s\u001b[0m 3ms/step - loss: 0.0042 - mean_squared_error: 1.2916e-04 - val_loss: 0.0129 - val_mean_squared_error: 0.0014\n",
            "Epoch 171/300\n",
            "\u001b[1m240/240\u001b[0m \u001b[32m━━━━━━━━━━━━━━━━━━━━\u001b[0m\u001b[37m\u001b[0m \u001b[1m1s\u001b[0m 3ms/step - loss: 0.0043 - mean_squared_error: 1.2947e-04 - val_loss: 0.0128 - val_mean_squared_error: 0.0014\n",
            "Epoch 172/300\n",
            "\u001b[1m240/240\u001b[0m \u001b[32m━━━━━━━━━━━━━━━━━━━━\u001b[0m\u001b[37m\u001b[0m \u001b[1m1s\u001b[0m 4ms/step - loss: 0.0042 - mean_squared_error: 1.2879e-04 - val_loss: 0.0129 - val_mean_squared_error: 0.0014\n",
            "Epoch 173/300\n",
            "\u001b[1m240/240\u001b[0m \u001b[32m━━━━━━━━━━━━━━━━━━━━\u001b[0m\u001b[37m\u001b[0m \u001b[1m1s\u001b[0m 4ms/step - loss: 0.0042 - mean_squared_error: 1.3069e-04 - val_loss: 0.0128 - val_mean_squared_error: 0.0014\n",
            "Epoch 174/300\n",
            "\u001b[1m240/240\u001b[0m \u001b[32m━━━━━━━━━━━━━━━━━━━━\u001b[0m\u001b[37m\u001b[0m \u001b[1m1s\u001b[0m 3ms/step - loss: 0.0042 - mean_squared_error: 1.2573e-04 - val_loss: 0.0129 - val_mean_squared_error: 0.0014\n",
            "Epoch 175/300\n",
            "\u001b[1m240/240\u001b[0m \u001b[32m━━━━━━━━━━━━━━━━━━━━\u001b[0m\u001b[37m\u001b[0m \u001b[1m1s\u001b[0m 3ms/step - loss: 0.0042 - mean_squared_error: 1.2983e-04 - val_loss: 0.0129 - val_mean_squared_error: 0.0014\n",
            "Epoch 176/300\n",
            "\u001b[1m240/240\u001b[0m \u001b[32m━━━━━━━━━━━━━━━━━━━━\u001b[0m\u001b[37m\u001b[0m \u001b[1m1s\u001b[0m 3ms/step - loss: 0.0042 - mean_squared_error: 1.2650e-04 - val_loss: 0.0129 - val_mean_squared_error: 0.0014\n",
            "Epoch 177/300\n",
            "\u001b[1m240/240\u001b[0m \u001b[32m━━━━━━━━━━━━━━━━━━━━\u001b[0m\u001b[37m\u001b[0m \u001b[1m1s\u001b[0m 3ms/step - loss: 0.0042 - mean_squared_error: 1.2638e-04 - val_loss: 0.0129 - val_mean_squared_error: 0.0014\n",
            "Epoch 178/300\n",
            "\u001b[1m240/240\u001b[0m \u001b[32m━━━━━━━━━━━━━━━━━━━━\u001b[0m\u001b[37m\u001b[0m \u001b[1m1s\u001b[0m 3ms/step - loss: 0.0042 - mean_squared_error: 1.2608e-04 - val_loss: 0.0129 - val_mean_squared_error: 0.0014\n",
            "Epoch 179/300\n",
            "\u001b[1m240/240\u001b[0m \u001b[32m━━━━━━━━━━━━━━━━━━━━\u001b[0m\u001b[37m\u001b[0m \u001b[1m1s\u001b[0m 3ms/step - loss: 0.0042 - mean_squared_error: 1.2566e-04 - val_loss: 0.0129 - val_mean_squared_error: 0.0014\n",
            "Epoch 180/300\n",
            "\u001b[1m240/240\u001b[0m \u001b[32m━━━━━━━━━━━━━━━━━━━━\u001b[0m\u001b[37m\u001b[0m \u001b[1m1s\u001b[0m 3ms/step - loss: 0.0042 - mean_squared_error: 1.2354e-04 - val_loss: 0.0129 - val_mean_squared_error: 0.0014\n",
            "Epoch 181/300\n",
            "\u001b[1m240/240\u001b[0m \u001b[32m━━━━━━━━━━━━━━━━━━━━\u001b[0m\u001b[37m\u001b[0m \u001b[1m1s\u001b[0m 4ms/step - loss: 0.0042 - mean_squared_error: 1.2365e-04 - val_loss: 0.0129 - val_mean_squared_error: 0.0014\n",
            "Epoch 182/300\n",
            "\u001b[1m240/240\u001b[0m \u001b[32m━━━━━━━━━━━━━━━━━━━━\u001b[0m\u001b[37m\u001b[0m \u001b[1m1s\u001b[0m 3ms/step - loss: 0.0042 - mean_squared_error: 1.2343e-04 - val_loss: 0.0129 - val_mean_squared_error: 0.0014\n",
            "Epoch 183/300\n",
            "\u001b[1m240/240\u001b[0m \u001b[32m━━━━━━━━━━━━━━━━━━━━\u001b[0m\u001b[37m\u001b[0m \u001b[1m1s\u001b[0m 4ms/step - loss: 0.0041 - mean_squared_error: 1.2129e-04 - val_loss: 0.0130 - val_mean_squared_error: 0.0014\n",
            "Epoch 184/300\n",
            "\u001b[1m240/240\u001b[0m \u001b[32m━━━━━━━━━━━━━━━━━━━━\u001b[0m\u001b[37m\u001b[0m \u001b[1m1s\u001b[0m 4ms/step - loss: 0.0041 - mean_squared_error: 1.2145e-04 - val_loss: 0.0129 - val_mean_squared_error: 0.0014\n",
            "Epoch 185/300\n",
            "\u001b[1m240/240\u001b[0m \u001b[32m━━━━━━━━━━━━━━━━━━━━\u001b[0m\u001b[37m\u001b[0m \u001b[1m1s\u001b[0m 4ms/step - loss: 0.0041 - mean_squared_error: 1.1985e-04 - val_loss: 0.0129 - val_mean_squared_error: 0.0014\n",
            "Epoch 186/300\n",
            "\u001b[1m240/240\u001b[0m \u001b[32m━━━━━━━━━━━━━━━━━━━━\u001b[0m\u001b[37m\u001b[0m \u001b[1m1s\u001b[0m 4ms/step - loss: 0.0041 - mean_squared_error: 1.1987e-04 - val_loss: 0.0130 - val_mean_squared_error: 0.0014\n",
            "Epoch 187/300\n",
            "\u001b[1m240/240\u001b[0m \u001b[32m━━━━━━━━━━━━━━━━━━━━\u001b[0m\u001b[37m\u001b[0m \u001b[1m1s\u001b[0m 3ms/step - loss: 0.0041 - mean_squared_error: 1.1980e-04 - val_loss: 0.0130 - val_mean_squared_error: 0.0014\n",
            "Epoch 188/300\n",
            "\u001b[1m240/240\u001b[0m \u001b[32m━━━━━━━━━━━━━━━━━━━━\u001b[0m\u001b[37m\u001b[0m \u001b[1m1s\u001b[0m 3ms/step - loss: 0.0041 - mean_squared_error: 1.1979e-04 - val_loss: 0.0129 - val_mean_squared_error: 0.0014\n",
            "Epoch 189/300\n",
            "\u001b[1m240/240\u001b[0m \u001b[32m━━━━━━━━━━━━━━━━━━━━\u001b[0m\u001b[37m\u001b[0m \u001b[1m1s\u001b[0m 4ms/step - loss: 0.0041 - mean_squared_error: 1.1970e-04 - val_loss: 0.0130 - val_mean_squared_error: 0.0014\n",
            "Epoch 190/300\n",
            "\u001b[1m240/240\u001b[0m \u001b[32m━━━━━━━━━━━━━━━━━━━━\u001b[0m\u001b[37m\u001b[0m \u001b[1m1s\u001b[0m 4ms/step - loss: 0.0041 - mean_squared_error: 1.1973e-04 - val_loss: 0.0130 - val_mean_squared_error: 0.0014\n",
            "Epoch 191/300\n",
            "\u001b[1m240/240\u001b[0m \u001b[32m━━━━━━━━━━━━━━━━━━━━\u001b[0m\u001b[37m\u001b[0m \u001b[1m1s\u001b[0m 3ms/step - loss: 0.0041 - mean_squared_error: 1.1622e-04 - val_loss: 0.0130 - val_mean_squared_error: 0.0014\n",
            "Epoch 192/300\n",
            "\u001b[1m240/240\u001b[0m \u001b[32m━━━━━━━━━━━━━━━━━━━━\u001b[0m\u001b[37m\u001b[0m \u001b[1m1s\u001b[0m 4ms/step - loss: 0.0041 - mean_squared_error: 1.1627e-04 - val_loss: 0.0129 - val_mean_squared_error: 0.0014\n",
            "Epoch 193/300\n",
            "\u001b[1m240/240\u001b[0m \u001b[32m━━━━━━━━━━━━━━━━━━━━\u001b[0m\u001b[37m\u001b[0m \u001b[1m1s\u001b[0m 3ms/step - loss: 0.0040 - mean_squared_error: 1.1535e-04 - val_loss: 0.0129 - val_mean_squared_error: 0.0014\n",
            "Epoch 194/300\n",
            "\u001b[1m240/240\u001b[0m \u001b[32m━━━━━━━━━━━━━━━━━━━━\u001b[0m\u001b[37m\u001b[0m \u001b[1m1s\u001b[0m 4ms/step - loss: 0.0041 - mean_squared_error: 1.1541e-04 - val_loss: 0.0130 - val_mean_squared_error: 0.0014\n",
            "Epoch 195/300\n",
            "\u001b[1m240/240\u001b[0m \u001b[32m━━━━━━━━━━━━━━━━━━━━\u001b[0m\u001b[37m\u001b[0m \u001b[1m1s\u001b[0m 5ms/step - loss: 0.0040 - mean_squared_error: 1.1183e-04 - val_loss: 0.0129 - val_mean_squared_error: 0.0014\n",
            "Epoch 196/300\n",
            "\u001b[1m240/240\u001b[0m \u001b[32m━━━━━━━━━━━━━━━━━━━━\u001b[0m\u001b[37m\u001b[0m \u001b[1m1s\u001b[0m 4ms/step - loss: 0.0040 - mean_squared_error: 1.1497e-04 - val_loss: 0.0130 - val_mean_squared_error: 0.0014\n",
            "Epoch 197/300\n",
            "\u001b[1m240/240\u001b[0m \u001b[32m━━━━━━━━━━━━━━━━━━━━\u001b[0m\u001b[37m\u001b[0m \u001b[1m1s\u001b[0m 4ms/step - loss: 0.0041 - mean_squared_error: 1.1650e-04 - val_loss: 0.0129 - val_mean_squared_error: 0.0014\n",
            "Epoch 198/300\n",
            "\u001b[1m240/240\u001b[0m \u001b[32m━━━━━━━━━━━━━━━━━━━━\u001b[0m\u001b[37m\u001b[0m \u001b[1m1s\u001b[0m 3ms/step - loss: 0.0041 - mean_squared_error: 1.1688e-04 - val_loss: 0.0130 - val_mean_squared_error: 0.0014\n",
            "Epoch 199/300\n",
            "\u001b[1m240/240\u001b[0m \u001b[32m━━━━━━━━━━━━━━━━━━━━\u001b[0m\u001b[37m\u001b[0m \u001b[1m1s\u001b[0m 3ms/step - loss: 0.0040 - mean_squared_error: 1.1343e-04 - val_loss: 0.0129 - val_mean_squared_error: 0.0014\n",
            "Epoch 200/300\n",
            "\u001b[1m240/240\u001b[0m \u001b[32m━━━━━━━━━━━━━━━━━━━━\u001b[0m\u001b[37m\u001b[0m \u001b[1m1s\u001b[0m 4ms/step - loss: 0.0040 - mean_squared_error: 1.1505e-04 - val_loss: 0.0129 - val_mean_squared_error: 0.0014\n",
            "Epoch 201/300\n",
            "\u001b[1m240/240\u001b[0m \u001b[32m━━━━━━━━━━━━━━━━━━━━\u001b[0m\u001b[37m\u001b[0m \u001b[1m1s\u001b[0m 3ms/step - loss: 0.0040 - mean_squared_error: 1.1527e-04 - val_loss: 0.0129 - val_mean_squared_error: 0.0014\n",
            "Epoch 202/300\n",
            "\u001b[1m240/240\u001b[0m \u001b[32m━━━━━━━━━━━━━━━━━━━━\u001b[0m\u001b[37m\u001b[0m \u001b[1m1s\u001b[0m 3ms/step - loss: 0.0041 - mean_squared_error: 1.1540e-04 - val_loss: 0.0130 - val_mean_squared_error: 0.0014\n",
            "Epoch 203/300\n",
            "\u001b[1m240/240\u001b[0m \u001b[32m━━━━━━━━━━━━━━━━━━━━\u001b[0m\u001b[37m\u001b[0m \u001b[1m1s\u001b[0m 3ms/step - loss: 0.0040 - mean_squared_error: 1.1067e-04 - val_loss: 0.0130 - val_mean_squared_error: 0.0014\n",
            "Epoch 204/300\n",
            "\u001b[1m240/240\u001b[0m \u001b[32m━━━━━━━━━━━━━━━━━━━━\u001b[0m\u001b[37m\u001b[0m \u001b[1m1s\u001b[0m 3ms/step - loss: 0.0040 - mean_squared_error: 1.1437e-04 - val_loss: 0.0130 - val_mean_squared_error: 0.0014\n",
            "Epoch 205/300\n",
            "\u001b[1m240/240\u001b[0m \u001b[32m━━━━━━━━━━━━━━━━━━━━\u001b[0m\u001b[37m\u001b[0m \u001b[1m1s\u001b[0m 3ms/step - loss: 0.0040 - mean_squared_error: 1.1063e-04 - val_loss: 0.0130 - val_mean_squared_error: 0.0014\n",
            "Epoch 206/300\n",
            "\u001b[1m240/240\u001b[0m \u001b[32m━━━━━━━━━━━━━━━━━━━━\u001b[0m\u001b[37m\u001b[0m \u001b[1m1s\u001b[0m 4ms/step - loss: 0.0040 - mean_squared_error: 1.1364e-04 - val_loss: 0.0131 - val_mean_squared_error: 0.0014\n",
            "Epoch 207/300\n",
            "\u001b[1m240/240\u001b[0m \u001b[32m━━━━━━━━━━━━━━━━━━━━\u001b[0m\u001b[37m\u001b[0m \u001b[1m1s\u001b[0m 4ms/step - loss: 0.0040 - mean_squared_error: 1.1329e-04 - val_loss: 0.0130 - val_mean_squared_error: 0.0014\n",
            "Epoch 208/300\n",
            "\u001b[1m240/240\u001b[0m \u001b[32m━━━━━━━━━━━━━━━━━━━━\u001b[0m\u001b[37m\u001b[0m \u001b[1m1s\u001b[0m 4ms/step - loss: 0.0039 - mean_squared_error: 1.0727e-04 - val_loss: 0.0130 - val_mean_squared_error: 0.0014\n",
            "Epoch 209/300\n",
            "\u001b[1m240/240\u001b[0m \u001b[32m━━━━━━━━━━━━━━━━━━━━\u001b[0m\u001b[37m\u001b[0m \u001b[1m1s\u001b[0m 4ms/step - loss: 0.0040 - mean_squared_error: 1.1067e-04 - val_loss: 0.0130 - val_mean_squared_error: 0.0014\n",
            "Epoch 210/300\n",
            "\u001b[1m240/240\u001b[0m \u001b[32m━━━━━━━━━━━━━━━━━━━━\u001b[0m\u001b[37m\u001b[0m \u001b[1m1s\u001b[0m 3ms/step - loss: 0.0040 - mean_squared_error: 1.1016e-04 - val_loss: 0.0130 - val_mean_squared_error: 0.0014\n",
            "Epoch 211/300\n",
            "\u001b[1m240/240\u001b[0m \u001b[32m━━━━━━━━━━━━━━━━━━━━\u001b[0m\u001b[37m\u001b[0m \u001b[1m1s\u001b[0m 3ms/step - loss: 0.0040 - mean_squared_error: 1.1265e-04 - val_loss: 0.0130 - val_mean_squared_error: 0.0014\n",
            "Epoch 212/300\n",
            "\u001b[1m240/240\u001b[0m \u001b[32m━━━━━━━━━━━━━━━━━━━━\u001b[0m\u001b[37m\u001b[0m \u001b[1m1s\u001b[0m 4ms/step - loss: 0.0039 - mean_squared_error: 1.0865e-04 - val_loss: 0.0130 - val_mean_squared_error: 0.0014\n",
            "Epoch 213/300\n",
            "\u001b[1m240/240\u001b[0m \u001b[32m━━━━━━━━━━━━━━━━━━━━\u001b[0m\u001b[37m\u001b[0m \u001b[1m1s\u001b[0m 3ms/step - loss: 0.0039 - mean_squared_error: 1.0846e-04 - val_loss: 0.0130 - val_mean_squared_error: 0.0014\n",
            "Epoch 214/300\n",
            "\u001b[1m240/240\u001b[0m \u001b[32m━━━━━━━━━━━━━━━━━━━━\u001b[0m\u001b[37m\u001b[0m \u001b[1m1s\u001b[0m 4ms/step - loss: 0.0039 - mean_squared_error: 1.0714e-04 - val_loss: 0.0131 - val_mean_squared_error: 0.0014\n",
            "Epoch 215/300\n",
            "\u001b[1m240/240\u001b[0m \u001b[32m━━━━━━━━━━━━━━━━━━━━\u001b[0m\u001b[37m\u001b[0m \u001b[1m1s\u001b[0m 4ms/step - loss: 0.0040 - mean_squared_error: 1.0969e-04 - val_loss: 0.0131 - val_mean_squared_error: 0.0014\n",
            "Epoch 216/300\n",
            "\u001b[1m240/240\u001b[0m \u001b[32m━━━━━━━━━━━━━━━━━━━━\u001b[0m\u001b[37m\u001b[0m \u001b[1m1s\u001b[0m 4ms/step - loss: 0.0040 - mean_squared_error: 1.0889e-04 - val_loss: 0.0131 - val_mean_squared_error: 0.0014\n",
            "Epoch 217/300\n",
            "\u001b[1m240/240\u001b[0m \u001b[32m━━━━━━━━━━━━━━━━━━━━\u001b[0m\u001b[37m\u001b[0m \u001b[1m1s\u001b[0m 4ms/step - loss: 0.0039 - mean_squared_error: 1.0572e-04 - val_loss: 0.0130 - val_mean_squared_error: 0.0014\n",
            "Epoch 218/300\n",
            "\u001b[1m240/240\u001b[0m \u001b[32m━━━━━━━━━━━━━━━━━━━━\u001b[0m\u001b[37m\u001b[0m \u001b[1m1s\u001b[0m 4ms/step - loss: 0.0039 - mean_squared_error: 1.0431e-04 - val_loss: 0.0130 - val_mean_squared_error: 0.0014\n",
            "Epoch 219/300\n",
            "\u001b[1m240/240\u001b[0m \u001b[32m━━━━━━━━━━━━━━━━━━━━\u001b[0m\u001b[37m\u001b[0m \u001b[1m1s\u001b[0m 4ms/step - loss: 0.0039 - mean_squared_error: 1.0333e-04 - val_loss: 0.0131 - val_mean_squared_error: 0.0014\n",
            "Epoch 220/300\n",
            "\u001b[1m240/240\u001b[0m \u001b[32m━━━━━━━━━━━━━━━━━━━━\u001b[0m\u001b[37m\u001b[0m \u001b[1m1s\u001b[0m 4ms/step - loss: 0.0039 - mean_squared_error: 1.0870e-04 - val_loss: 0.0130 - val_mean_squared_error: 0.0014\n",
            "Epoch 221/300\n",
            "\u001b[1m240/240\u001b[0m \u001b[32m━━━━━━━━━━━━━━━━━━━━\u001b[0m\u001b[37m\u001b[0m \u001b[1m1s\u001b[0m 3ms/step - loss: 0.0039 - mean_squared_error: 1.0600e-04 - val_loss: 0.0131 - val_mean_squared_error: 0.0014\n",
            "Epoch 222/300\n",
            "\u001b[1m240/240\u001b[0m \u001b[32m━━━━━━━━━━━━━━━━━━━━\u001b[0m\u001b[37m\u001b[0m \u001b[1m1s\u001b[0m 4ms/step - loss: 0.0039 - mean_squared_error: 1.0370e-04 - val_loss: 0.0131 - val_mean_squared_error: 0.0014\n",
            "Epoch 223/300\n",
            "\u001b[1m240/240\u001b[0m \u001b[32m━━━━━━━━━━━━━━━━━━━━\u001b[0m\u001b[37m\u001b[0m \u001b[1m1s\u001b[0m 4ms/step - loss: 0.0039 - mean_squared_error: 1.0296e-04 - val_loss: 0.0130 - val_mean_squared_error: 0.0014\n",
            "Epoch 224/300\n",
            "\u001b[1m240/240\u001b[0m \u001b[32m━━━━━━━━━━━━━━━━━━━━\u001b[0m\u001b[37m\u001b[0m \u001b[1m1s\u001b[0m 3ms/step - loss: 0.0039 - mean_squared_error: 1.0423e-04 - val_loss: 0.0130 - val_mean_squared_error: 0.0014\n",
            "Epoch 225/300\n",
            "\u001b[1m240/240\u001b[0m \u001b[32m━━━━━━━━━━━━━━━━━━━━\u001b[0m\u001b[37m\u001b[0m \u001b[1m1s\u001b[0m 3ms/step - loss: 0.0039 - mean_squared_error: 1.0590e-04 - val_loss: 0.0130 - val_mean_squared_error: 0.0014\n",
            "Epoch 226/300\n",
            "\u001b[1m240/240\u001b[0m \u001b[32m━━━━━━━━━━━━━━━━━━━━\u001b[0m\u001b[37m\u001b[0m \u001b[1m1s\u001b[0m 3ms/step - loss: 0.0039 - mean_squared_error: 1.0561e-04 - val_loss: 0.0131 - val_mean_squared_error: 0.0014\n",
            "Epoch 227/300\n",
            "\u001b[1m240/240\u001b[0m \u001b[32m━━━━━━━━━━━━━━━━━━━━\u001b[0m\u001b[37m\u001b[0m \u001b[1m1s\u001b[0m 4ms/step - loss: 0.0038 - mean_squared_error: 1.0190e-04 - val_loss: 0.0130 - val_mean_squared_error: 0.0014\n",
            "Epoch 228/300\n",
            "\u001b[1m240/240\u001b[0m \u001b[32m━━━━━━━━━━━━━━━━━━━━\u001b[0m\u001b[37m\u001b[0m \u001b[1m1s\u001b[0m 3ms/step - loss: 0.0038 - mean_squared_error: 1.0167e-04 - val_loss: 0.0131 - val_mean_squared_error: 0.0014\n",
            "Epoch 229/300\n",
            "\u001b[1m240/240\u001b[0m \u001b[32m━━━━━━━━━━━━━━━━━━━━\u001b[0m\u001b[37m\u001b[0m \u001b[1m1s\u001b[0m 3ms/step - loss: 0.0038 - mean_squared_error: 1.0208e-04 - val_loss: 0.0132 - val_mean_squared_error: 0.0014\n",
            "Epoch 230/300\n",
            "\u001b[1m240/240\u001b[0m \u001b[32m━━━━━━━━━━━━━━━━━━━━\u001b[0m\u001b[37m\u001b[0m \u001b[1m1s\u001b[0m 4ms/step - loss: 0.0039 - mean_squared_error: 1.0235e-04 - val_loss: 0.0131 - val_mean_squared_error: 0.0014\n",
            "Epoch 231/300\n",
            "\u001b[1m240/240\u001b[0m \u001b[32m━━━━━━━━━━━━━━━━━━━━\u001b[0m\u001b[37m\u001b[0m \u001b[1m1s\u001b[0m 4ms/step - loss: 0.0038 - mean_squared_error: 1.0002e-04 - val_loss: 0.0131 - val_mean_squared_error: 0.0014\n",
            "Epoch 232/300\n",
            "\u001b[1m240/240\u001b[0m \u001b[32m━━━━━━━━━━━━━━━━━━━━\u001b[0m\u001b[37m\u001b[0m \u001b[1m1s\u001b[0m 4ms/step - loss: 0.0039 - mean_squared_error: 1.0293e-04 - val_loss: 0.0131 - val_mean_squared_error: 0.0014\n",
            "Epoch 233/300\n",
            "\u001b[1m240/240\u001b[0m \u001b[32m━━━━━━━━━━━━━━━━━━━━\u001b[0m\u001b[37m\u001b[0m \u001b[1m1s\u001b[0m 4ms/step - loss: 0.0039 - mean_squared_error: 1.0303e-04 - val_loss: 0.0131 - val_mean_squared_error: 0.0014\n",
            "Epoch 234/300\n",
            "\u001b[1m240/240\u001b[0m \u001b[32m━━━━━━━━━━━━━━━━━━━━\u001b[0m\u001b[37m\u001b[0m \u001b[1m1s\u001b[0m 4ms/step - loss: 0.0038 - mean_squared_error: 1.0153e-04 - val_loss: 0.0131 - val_mean_squared_error: 0.0014\n",
            "Epoch 235/300\n",
            "\u001b[1m240/240\u001b[0m \u001b[32m━━━━━━━━━━━━━━━━━━━━\u001b[0m\u001b[37m\u001b[0m \u001b[1m1s\u001b[0m 4ms/step - loss: 0.0039 - mean_squared_error: 1.0299e-04 - val_loss: 0.0130 - val_mean_squared_error: 0.0014\n",
            "Epoch 236/300\n",
            "\u001b[1m240/240\u001b[0m \u001b[32m━━━━━━━━━━━━━━━━━━━━\u001b[0m\u001b[37m\u001b[0m \u001b[1m1s\u001b[0m 3ms/step - loss: 0.0039 - mean_squared_error: 1.0153e-04 - val_loss: 0.0131 - val_mean_squared_error: 0.0014\n",
            "Epoch 237/300\n",
            "\u001b[1m240/240\u001b[0m \u001b[32m━━━━━━━━━━━━━━━━━━━━\u001b[0m\u001b[37m\u001b[0m \u001b[1m1s\u001b[0m 4ms/step - loss: 0.0038 - mean_squared_error: 9.8930e-05 - val_loss: 0.0132 - val_mean_squared_error: 0.0014\n",
            "Epoch 238/300\n",
            "\u001b[1m240/240\u001b[0m \u001b[32m━━━━━━━━━━━━━━━━━━━━\u001b[0m\u001b[37m\u001b[0m \u001b[1m1s\u001b[0m 4ms/step - loss: 0.0038 - mean_squared_error: 1.0008e-04 - val_loss: 0.0131 - val_mean_squared_error: 0.0014\n",
            "Epoch 239/300\n",
            "\u001b[1m240/240\u001b[0m \u001b[32m━━━━━━━━━━━━━━━━━━━━\u001b[0m\u001b[37m\u001b[0m \u001b[1m1s\u001b[0m 3ms/step - loss: 0.0038 - mean_squared_error: 1.0160e-04 - val_loss: 0.0131 - val_mean_squared_error: 0.0014\n",
            "Epoch 240/300\n",
            "\u001b[1m240/240\u001b[0m \u001b[32m━━━━━━━━━━━━━━━━━━━━\u001b[0m\u001b[37m\u001b[0m \u001b[1m1s\u001b[0m 4ms/step - loss: 0.0038 - mean_squared_error: 9.9000e-05 - val_loss: 0.0131 - val_mean_squared_error: 0.0014\n",
            "Epoch 241/300\n",
            "\u001b[1m240/240\u001b[0m \u001b[32m━━━━━━━━━━━━━━━━━━━━\u001b[0m\u001b[37m\u001b[0m \u001b[1m1s\u001b[0m 3ms/step - loss: 0.0038 - mean_squared_error: 9.6107e-05 - val_loss: 0.0130 - val_mean_squared_error: 0.0014\n",
            "Epoch 242/300\n",
            "\u001b[1m240/240\u001b[0m \u001b[32m━━━━━━━━━━━━━━━━━━━━\u001b[0m\u001b[37m\u001b[0m \u001b[1m1s\u001b[0m 3ms/step - loss: 0.0038 - mean_squared_error: 9.8315e-05 - val_loss: 0.0131 - val_mean_squared_error: 0.0014\n",
            "Epoch 243/300\n",
            "\u001b[1m240/240\u001b[0m \u001b[32m━━━━━━━━━━━━━━━━━━━━\u001b[0m\u001b[37m\u001b[0m \u001b[1m2s\u001b[0m 5ms/step - loss: 0.0038 - mean_squared_error: 9.7630e-05 - val_loss: 0.0131 - val_mean_squared_error: 0.0014\n",
            "Epoch 244/300\n",
            "\u001b[1m240/240\u001b[0m \u001b[32m━━━━━━━━━━━━━━━━━━━━\u001b[0m\u001b[37m\u001b[0m \u001b[1m1s\u001b[0m 5ms/step - loss: 0.0038 - mean_squared_error: 1.0035e-04 - val_loss: 0.0131 - val_mean_squared_error: 0.0014\n",
            "Epoch 245/300\n",
            "\u001b[1m240/240\u001b[0m \u001b[32m━━━━━━━━━━━━━━━━━━━━\u001b[0m\u001b[37m\u001b[0m \u001b[1m1s\u001b[0m 5ms/step - loss: 0.0037 - mean_squared_error: 9.5124e-05 - val_loss: 0.0131 - val_mean_squared_error: 0.0014\n",
            "Epoch 246/300\n",
            "\u001b[1m240/240\u001b[0m \u001b[32m━━━━━━━━━━━━━━━━━━━━\u001b[0m\u001b[37m\u001b[0m \u001b[1m1s\u001b[0m 4ms/step - loss: 0.0038 - mean_squared_error: 9.5843e-05 - val_loss: 0.0131 - val_mean_squared_error: 0.0014\n",
            "Epoch 247/300\n",
            "\u001b[1m240/240\u001b[0m \u001b[32m━━━━━━━━━━━━━━━━━━━━\u001b[0m\u001b[37m\u001b[0m \u001b[1m1s\u001b[0m 4ms/step - loss: 0.0038 - mean_squared_error: 9.8071e-05 - val_loss: 0.0131 - val_mean_squared_error: 0.0014\n",
            "Epoch 248/300\n",
            "\u001b[1m240/240\u001b[0m \u001b[32m━━━━━━━━━━━━━━━━━━━━\u001b[0m\u001b[37m\u001b[0m \u001b[1m1s\u001b[0m 3ms/step - loss: 0.0037 - mean_squared_error: 9.4650e-05 - val_loss: 0.0131 - val_mean_squared_error: 0.0014\n",
            "Epoch 249/300\n",
            "\u001b[1m240/240\u001b[0m \u001b[32m━━━━━━━━━━━━━━━━━━━━\u001b[0m\u001b[37m\u001b[0m \u001b[1m1s\u001b[0m 4ms/step - loss: 0.0037 - mean_squared_error: 9.4713e-05 - val_loss: 0.0131 - val_mean_squared_error: 0.0014\n",
            "Epoch 250/300\n",
            "\u001b[1m240/240\u001b[0m \u001b[32m━━━━━━━━━━━━━━━━━━━━\u001b[0m\u001b[37m\u001b[0m \u001b[1m1s\u001b[0m 4ms/step - loss: 0.0037 - mean_squared_error: 9.6854e-05 - val_loss: 0.0131 - val_mean_squared_error: 0.0014\n",
            "Epoch 251/300\n",
            "\u001b[1m240/240\u001b[0m \u001b[32m━━━━━━━━━━━━━━━━━━━━\u001b[0m\u001b[37m\u001b[0m \u001b[1m1s\u001b[0m 3ms/step - loss: 0.0038 - mean_squared_error: 9.7158e-05 - val_loss: 0.0131 - val_mean_squared_error: 0.0014\n",
            "Epoch 252/300\n",
            "\u001b[1m240/240\u001b[0m \u001b[32m━━━━━━━━━━━━━━━━━━━━\u001b[0m\u001b[37m\u001b[0m \u001b[1m1s\u001b[0m 4ms/step - loss: 0.0037 - mean_squared_error: 9.4354e-05 - val_loss: 0.0132 - val_mean_squared_error: 0.0014\n",
            "Epoch 253/300\n",
            "\u001b[1m240/240\u001b[0m \u001b[32m━━━━━━━━━━━━━━━━━━━━\u001b[0m\u001b[37m\u001b[0m \u001b[1m1s\u001b[0m 3ms/step - loss: 0.0037 - mean_squared_error: 9.2826e-05 - val_loss: 0.0131 - val_mean_squared_error: 0.0014\n",
            "Epoch 254/300\n",
            "\u001b[1m240/240\u001b[0m \u001b[32m━━━━━━━━━━━━━━━━━━━━\u001b[0m\u001b[37m\u001b[0m \u001b[1m1s\u001b[0m 4ms/step - loss: 0.0038 - mean_squared_error: 9.5975e-05 - val_loss: 0.0131 - val_mean_squared_error: 0.0014\n",
            "Epoch 255/300\n",
            "\u001b[1m240/240\u001b[0m \u001b[32m━━━━━━━━━━━━━━━━━━━━\u001b[0m\u001b[37m\u001b[0m \u001b[1m1s\u001b[0m 4ms/step - loss: 0.0037 - mean_squared_error: 9.2542e-05 - val_loss: 0.0132 - val_mean_squared_error: 0.0014\n",
            "Epoch 256/300\n",
            "\u001b[1m240/240\u001b[0m \u001b[32m━━━━━━━━━━━━━━━━━━━━\u001b[0m\u001b[37m\u001b[0m \u001b[1m1s\u001b[0m 4ms/step - loss: 0.0038 - mean_squared_error: 9.5133e-05 - val_loss: 0.0131 - val_mean_squared_error: 0.0014\n",
            "Epoch 257/300\n",
            "\u001b[1m240/240\u001b[0m \u001b[32m━━━━━━━━━━━━━━━━━━━━\u001b[0m\u001b[37m\u001b[0m \u001b[1m1s\u001b[0m 4ms/step - loss: 0.0038 - mean_squared_error: 9.5010e-05 - val_loss: 0.0132 - val_mean_squared_error: 0.0014\n",
            "Epoch 258/300\n",
            "\u001b[1m240/240\u001b[0m \u001b[32m━━━━━━━━━━━━━━━━━━━━\u001b[0m\u001b[37m\u001b[0m \u001b[1m1s\u001b[0m 4ms/step - loss: 0.0037 - mean_squared_error: 9.4849e-05 - val_loss: 0.0131 - val_mean_squared_error: 0.0014\n",
            "Epoch 259/300\n",
            "\u001b[1m240/240\u001b[0m \u001b[32m━━━━━━━━━━━━━━━━━━━━\u001b[0m\u001b[37m\u001b[0m \u001b[1m1s\u001b[0m 4ms/step - loss: 0.0037 - mean_squared_error: 9.4353e-05 - val_loss: 0.0132 - val_mean_squared_error: 0.0014\n",
            "Epoch 260/300\n",
            "\u001b[1m240/240\u001b[0m \u001b[32m━━━━━━━━━━━━━━━━━━━━\u001b[0m\u001b[37m\u001b[0m \u001b[1m1s\u001b[0m 3ms/step - loss: 0.0037 - mean_squared_error: 9.4327e-05 - val_loss: 0.0132 - val_mean_squared_error: 0.0014\n",
            "Epoch 261/300\n",
            "\u001b[1m240/240\u001b[0m \u001b[32m━━━━━━━━━━━━━━━━━━━━\u001b[0m\u001b[37m\u001b[0m \u001b[1m1s\u001b[0m 3ms/step - loss: 0.0038 - mean_squared_error: 9.5058e-05 - val_loss: 0.0131 - val_mean_squared_error: 0.0014\n",
            "Epoch 262/300\n",
            "\u001b[1m240/240\u001b[0m \u001b[32m━━━━━━━━━━━━━━━━━━━━\u001b[0m\u001b[37m\u001b[0m \u001b[1m1s\u001b[0m 3ms/step - loss: 0.0037 - mean_squared_error: 9.3955e-05 - val_loss: 0.0132 - val_mean_squared_error: 0.0014\n",
            "Epoch 263/300\n",
            "\u001b[1m240/240\u001b[0m \u001b[32m━━━━━━━━━━━━━━━━━━━━\u001b[0m\u001b[37m\u001b[0m \u001b[1m1s\u001b[0m 3ms/step - loss: 0.0037 - mean_squared_error: 9.2957e-05 - val_loss: 0.0131 - val_mean_squared_error: 0.0014\n",
            "Epoch 264/300\n",
            "\u001b[1m240/240\u001b[0m \u001b[32m━━━━━━━━━━━━━━━━━━━━\u001b[0m\u001b[37m\u001b[0m \u001b[1m1s\u001b[0m 4ms/step - loss: 0.0037 - mean_squared_error: 9.1554e-05 - val_loss: 0.0131 - val_mean_squared_error: 0.0014\n",
            "Epoch 265/300\n",
            "\u001b[1m240/240\u001b[0m \u001b[32m━━━━━━━━━━━━━━━━━━━━\u001b[0m\u001b[37m\u001b[0m \u001b[1m1s\u001b[0m 3ms/step - loss: 0.0037 - mean_squared_error: 9.0732e-05 - val_loss: 0.0133 - val_mean_squared_error: 0.0014\n",
            "Epoch 266/300\n",
            "\u001b[1m240/240\u001b[0m \u001b[32m━━━━━━━━━━━━━━━━━━━━\u001b[0m\u001b[37m\u001b[0m \u001b[1m1s\u001b[0m 3ms/step - loss: 0.0037 - mean_squared_error: 9.4909e-05 - val_loss: 0.0132 - val_mean_squared_error: 0.0014\n",
            "Epoch 267/300\n",
            "\u001b[1m240/240\u001b[0m \u001b[32m━━━━━━━━━━━━━━━━━━━━\u001b[0m\u001b[37m\u001b[0m \u001b[1m1s\u001b[0m 4ms/step - loss: 0.0036 - mean_squared_error: 8.9972e-05 - val_loss: 0.0133 - val_mean_squared_error: 0.0014\n",
            "Epoch 268/300\n",
            "\u001b[1m240/240\u001b[0m \u001b[32m━━━━━━━━━━━━━━━━━━━━\u001b[0m\u001b[37m\u001b[0m \u001b[1m1s\u001b[0m 4ms/step - loss: 0.0036 - mean_squared_error: 8.9578e-05 - val_loss: 0.0132 - val_mean_squared_error: 0.0014\n",
            "Epoch 269/300\n",
            "\u001b[1m240/240\u001b[0m \u001b[32m━━━━━━━━━━━━━━━━━━━━\u001b[0m\u001b[37m\u001b[0m \u001b[1m1s\u001b[0m 4ms/step - loss: 0.0037 - mean_squared_error: 9.0936e-05 - val_loss: 0.0131 - val_mean_squared_error: 0.0014\n",
            "Epoch 270/300\n",
            "\u001b[1m240/240\u001b[0m \u001b[32m━━━━━━━━━━━━━━━━━━━━\u001b[0m\u001b[37m\u001b[0m \u001b[1m1s\u001b[0m 4ms/step - loss: 0.0037 - mean_squared_error: 9.2217e-05 - val_loss: 0.0131 - val_mean_squared_error: 0.0014\n",
            "Epoch 271/300\n",
            "\u001b[1m240/240\u001b[0m \u001b[32m━━━━━━━━━━━━━━━━━━━━\u001b[0m\u001b[37m\u001b[0m \u001b[1m1s\u001b[0m 3ms/step - loss: 0.0037 - mean_squared_error: 9.2614e-05 - val_loss: 0.0133 - val_mean_squared_error: 0.0014\n",
            "Epoch 272/300\n",
            "\u001b[1m240/240\u001b[0m \u001b[32m━━━━━━━━━━━━━━━━━━━━\u001b[0m\u001b[37m\u001b[0m \u001b[1m1s\u001b[0m 4ms/step - loss: 0.0037 - mean_squared_error: 9.0644e-05 - val_loss: 0.0132 - val_mean_squared_error: 0.0014\n",
            "Epoch 273/300\n",
            "\u001b[1m240/240\u001b[0m \u001b[32m━━━━━━━━━━━━━━━━━━━━\u001b[0m\u001b[37m\u001b[0m \u001b[1m1s\u001b[0m 4ms/step - loss: 0.0037 - mean_squared_error: 9.1171e-05 - val_loss: 0.0132 - val_mean_squared_error: 0.0014\n",
            "Epoch 274/300\n",
            "\u001b[1m240/240\u001b[0m \u001b[32m━━━━━━━━━━━━━━━━━━━━\u001b[0m\u001b[37m\u001b[0m \u001b[1m1s\u001b[0m 3ms/step - loss: 0.0037 - mean_squared_error: 8.9972e-05 - val_loss: 0.0132 - val_mean_squared_error: 0.0014\n",
            "Epoch 275/300\n",
            "\u001b[1m240/240\u001b[0m \u001b[32m━━━━━━━━━━━━━━━━━━━━\u001b[0m\u001b[37m\u001b[0m \u001b[1m1s\u001b[0m 4ms/step - loss: 0.0036 - mean_squared_error: 9.0012e-05 - val_loss: 0.0132 - val_mean_squared_error: 0.0014\n",
            "Epoch 276/300\n",
            "\u001b[1m240/240\u001b[0m \u001b[32m━━━━━━━━━━━━━━━━━━━━\u001b[0m\u001b[37m\u001b[0m \u001b[1m1s\u001b[0m 3ms/step - loss: 0.0036 - mean_squared_error: 8.9468e-05 - val_loss: 0.0133 - val_mean_squared_error: 0.0014\n",
            "Epoch 277/300\n",
            "\u001b[1m240/240\u001b[0m \u001b[32m━━━━━━━━━━━━━━━━━━━━\u001b[0m\u001b[37m\u001b[0m \u001b[1m1s\u001b[0m 4ms/step - loss: 0.0037 - mean_squared_error: 9.0138e-05 - val_loss: 0.0131 - val_mean_squared_error: 0.0014\n",
            "Epoch 278/300\n",
            "\u001b[1m240/240\u001b[0m \u001b[32m━━━━━━━━━━━━━━━━━━━━\u001b[0m\u001b[37m\u001b[0m \u001b[1m1s\u001b[0m 4ms/step - loss: 0.0036 - mean_squared_error: 8.9778e-05 - val_loss: 0.0132 - val_mean_squared_error: 0.0014\n",
            "Epoch 279/300\n",
            "\u001b[1m240/240\u001b[0m \u001b[32m━━━━━━━━━━━━━━━━━━━━\u001b[0m\u001b[37m\u001b[0m \u001b[1m1s\u001b[0m 3ms/step - loss: 0.0036 - mean_squared_error: 8.7495e-05 - val_loss: 0.0132 - val_mean_squared_error: 0.0014\n",
            "Epoch 280/300\n",
            "\u001b[1m240/240\u001b[0m \u001b[32m━━━━━━━━━━━━━━━━━━━━\u001b[0m\u001b[37m\u001b[0m \u001b[1m1s\u001b[0m 5ms/step - loss: 0.0036 - mean_squared_error: 8.6328e-05 - val_loss: 0.0132 - val_mean_squared_error: 0.0014\n",
            "Epoch 281/300\n",
            "\u001b[1m240/240\u001b[0m \u001b[32m━━━━━━━━━━━━━━━━━━━━\u001b[0m\u001b[37m\u001b[0m \u001b[1m1s\u001b[0m 5ms/step - loss: 0.0036 - mean_squared_error: 8.7955e-05 - val_loss: 0.0132 - val_mean_squared_error: 0.0014\n",
            "Epoch 282/300\n",
            "\u001b[1m240/240\u001b[0m \u001b[32m━━━━━━━━━━━━━━━━━━━━\u001b[0m\u001b[37m\u001b[0m \u001b[1m1s\u001b[0m 4ms/step - loss: 0.0037 - mean_squared_error: 9.1797e-05 - val_loss: 0.0132 - val_mean_squared_error: 0.0014\n",
            "Epoch 283/300\n",
            "\u001b[1m240/240\u001b[0m \u001b[32m━━━━━━━━━━━━━━━━━━━━\u001b[0m\u001b[37m\u001b[0m \u001b[1m1s\u001b[0m 4ms/step - loss: 0.0036 - mean_squared_error: 8.8278e-05 - val_loss: 0.0132 - val_mean_squared_error: 0.0014\n",
            "Epoch 284/300\n",
            "\u001b[1m240/240\u001b[0m \u001b[32m━━━━━━━━━━━━━━━━━━━━\u001b[0m\u001b[37m\u001b[0m \u001b[1m1s\u001b[0m 3ms/step - loss: 0.0036 - mean_squared_error: 8.8358e-05 - val_loss: 0.0133 - val_mean_squared_error: 0.0014\n",
            "Epoch 285/300\n",
            "\u001b[1m240/240\u001b[0m \u001b[32m━━━━━━━━━━━━━━━━━━━━\u001b[0m\u001b[37m\u001b[0m \u001b[1m1s\u001b[0m 3ms/step - loss: 0.0036 - mean_squared_error: 8.7473e-05 - val_loss: 0.0132 - val_mean_squared_error: 0.0014\n",
            "Epoch 286/300\n",
            "\u001b[1m240/240\u001b[0m \u001b[32m━━━━━━━━━━━━━━━━━━━━\u001b[0m\u001b[37m\u001b[0m \u001b[1m1s\u001b[0m 3ms/step - loss: 0.0036 - mean_squared_error: 8.4756e-05 - val_loss: 0.0132 - val_mean_squared_error: 0.0014\n",
            "Epoch 287/300\n",
            "\u001b[1m240/240\u001b[0m \u001b[32m━━━━━━━━━━━━━━━━━━━━\u001b[0m\u001b[37m\u001b[0m \u001b[1m1s\u001b[0m 4ms/step - loss: 0.0036 - mean_squared_error: 8.4980e-05 - val_loss: 0.0132 - val_mean_squared_error: 0.0014\n",
            "Epoch 288/300\n",
            "\u001b[1m240/240\u001b[0m \u001b[32m━━━━━━━━━━━━━━━━━━━━\u001b[0m\u001b[37m\u001b[0m \u001b[1m1s\u001b[0m 4ms/step - loss: 0.0036 - mean_squared_error: 8.5953e-05 - val_loss: 0.0132 - val_mean_squared_error: 0.0014\n",
            "Epoch 289/300\n",
            "\u001b[1m240/240\u001b[0m \u001b[32m━━━━━━━━━━━━━━━━━━━━\u001b[0m\u001b[37m\u001b[0m \u001b[1m1s\u001b[0m 4ms/step - loss: 0.0036 - mean_squared_error: 8.8677e-05 - val_loss: 0.0132 - val_mean_squared_error: 0.0014\n",
            "Epoch 290/300\n",
            "\u001b[1m240/240\u001b[0m \u001b[32m━━━━━━━━━━━━━━━━━━━━\u001b[0m\u001b[37m\u001b[0m \u001b[1m1s\u001b[0m 3ms/step - loss: 0.0036 - mean_squared_error: 8.7282e-05 - val_loss: 0.0132 - val_mean_squared_error: 0.0014\n",
            "Epoch 291/300\n",
            "\u001b[1m240/240\u001b[0m \u001b[32m━━━━━━━━━━━━━━━━━━━━\u001b[0m\u001b[37m\u001b[0m \u001b[1m1s\u001b[0m 4ms/step - loss: 0.0036 - mean_squared_error: 8.6108e-05 - val_loss: 0.0133 - val_mean_squared_error: 0.0014\n",
            "Epoch 292/300\n",
            "\u001b[1m240/240\u001b[0m \u001b[32m━━━━━━━━━━━━━━━━━━━━\u001b[0m\u001b[37m\u001b[0m \u001b[1m1s\u001b[0m 4ms/step - loss: 0.0036 - mean_squared_error: 8.3879e-05 - val_loss: 0.0133 - val_mean_squared_error: 0.0014\n",
            "Epoch 293/300\n",
            "\u001b[1m240/240\u001b[0m \u001b[32m━━━━━━━━━━━━━━━━━━━━\u001b[0m\u001b[37m\u001b[0m \u001b[1m1s\u001b[0m 4ms/step - loss: 0.0035 - mean_squared_error: 8.3829e-05 - val_loss: 0.0133 - val_mean_squared_error: 0.0014\n",
            "Epoch 294/300\n",
            "\u001b[1m240/240\u001b[0m \u001b[32m━━━━━━━━━━━━━━━━━━━━\u001b[0m\u001b[37m\u001b[0m \u001b[1m1s\u001b[0m 4ms/step - loss: 0.0036 - mean_squared_error: 8.6372e-05 - val_loss: 0.0133 - val_mean_squared_error: 0.0014\n",
            "Epoch 295/300\n",
            "\u001b[1m240/240\u001b[0m \u001b[32m━━━━━━━━━━━━━━━━━━━━\u001b[0m\u001b[37m\u001b[0m \u001b[1m1s\u001b[0m 3ms/step - loss: 0.0036 - mean_squared_error: 8.5585e-05 - val_loss: 0.0132 - val_mean_squared_error: 0.0014\n",
            "Epoch 296/300\n",
            "\u001b[1m240/240\u001b[0m \u001b[32m━━━━━━━━━━━━━━━━━━━━\u001b[0m\u001b[37m\u001b[0m \u001b[1m1s\u001b[0m 4ms/step - loss: 0.0036 - mean_squared_error: 8.5311e-05 - val_loss: 0.0132 - val_mean_squared_error: 0.0014\n",
            "Epoch 297/300\n",
            "\u001b[1m240/240\u001b[0m \u001b[32m━━━━━━━━━━━━━━━━━━━━\u001b[0m\u001b[37m\u001b[0m \u001b[1m1s\u001b[0m 3ms/step - loss: 0.0036 - mean_squared_error: 8.5435e-05 - val_loss: 0.0133 - val_mean_squared_error: 0.0014\n",
            "Epoch 298/300\n",
            "\u001b[1m240/240\u001b[0m \u001b[32m━━━━━━━━━━━━━━━━━━━━\u001b[0m\u001b[37m\u001b[0m \u001b[1m1s\u001b[0m 3ms/step - loss: 0.0035 - mean_squared_error: 8.2112e-05 - val_loss: 0.0132 - val_mean_squared_error: 0.0014\n",
            "Epoch 299/300\n",
            "\u001b[1m240/240\u001b[0m \u001b[32m━━━━━━━━━━━━━━━━━━━━\u001b[0m\u001b[37m\u001b[0m \u001b[1m1s\u001b[0m 4ms/step - loss: 0.0036 - mean_squared_error: 8.5677e-05 - val_loss: 0.0133 - val_mean_squared_error: 0.0014\n",
            "Epoch 300/300\n",
            "\u001b[1m240/240\u001b[0m \u001b[32m━━━━━━━━━━━━━━━━━━━━\u001b[0m\u001b[37m\u001b[0m \u001b[1m1s\u001b[0m 3ms/step - loss: 0.0036 - mean_squared_error: 8.4677e-05 - val_loss: 0.0133 - val_mean_squared_error: 0.0015\n"
          ]
        }
      ]
    },
    {
      "cell_type": "code",
      "source": [
        "n_tests, tau_tests, rho_tests = gen_nvals_taus_rhos(500,d)"
      ],
      "metadata": {
        "colab": {
          "base_uri": "https://localhost:8080/"
        },
        "id": "RZa2SN-1BYbP",
        "outputId": "ae9e4622-8fdf-425b-8bdc-c0e89e479ea1"
      },
      "execution_count": 57,
      "outputs": [
        {
          "output_type": "stream",
          "name": "stderr",
          "text": [
            "<ipython-input-34-f16c7555ff3e>:30: ComplexWarning: Casting complex values to real discards the imaginary part\n",
            "  nvals[i1,index] = np.trace(rho@proj)\n"
          ]
        }
      ]
    },
    {
      "cell_type": "code",
      "source": [
        "tau_nns = model1.predict(n_tests)"
      ],
      "metadata": {
        "colab": {
          "base_uri": "https://localhost:8080/"
        },
        "id": "3DepWeqkE5QH",
        "outputId": "ac48412c-9439-4d4e-dc4c-b442948a3fb6"
      },
      "execution_count": 58,
      "outputs": [
        {
          "output_type": "stream",
          "name": "stdout",
          "text": [
            "\u001b[1m16/16\u001b[0m \u001b[32m━━━━━━━━━━━━━━━━━━━━\u001b[0m\u001b[37m\u001b[0m \u001b[1m0s\u001b[0m 25ms/step\n"
          ]
        }
      ]
    },
    {
      "cell_type": "code",
      "source": [
        "fidelities = []\n",
        "for nns, tests in zip(tau_nns,tau_tests):\n",
        "  fidelities.append(fid_taus(tests,nns))"
      ],
      "metadata": {
        "id": "y6e_4pIwXGip"
      },
      "execution_count": 59,
      "outputs": []
    },
    {
      "cell_type": "code",
      "source": [
        "print(f'Average fidelity over {len(tau_nns)} test matrices is {np.mean(fidelities)*100:.2f} ± {np.std(fidelities)*100/np.sqrt(len(fidelities)):.2f} %')"
      ],
      "metadata": {
        "colab": {
          "base_uri": "https://localhost:8080/"
        },
        "id": "79XByAeoYkcV",
        "outputId": "9114a42c-8fa5-4bc4-e1b5-c08f7686dcd8"
      },
      "execution_count": 62,
      "outputs": [
        {
          "output_type": "stream",
          "name": "stdout",
          "text": [
            "Average fidelity over 500 test matrices is 94.11 ± 0.37 %\n"
          ]
        }
      ]
    },
    {
      "cell_type": "code",
      "source": [
        "model2 = build_cnn_model()\n",
        "model2.compile(\n",
        "    optimizer='adam',\n",
        "    loss='mean_squared_error',\n",
        "    metrics=['mean_absolute_error']\n",
        ")\n",
        "\n",
        "early_stopping = EarlyStopping(monitor='val_loss', patience=10, restore_best_weights=True)\n",
        "\n",
        "history2 = model2.fit(\n",
        "    nvals2, all_taus2,\n",
        "    epochs=300,\n",
        "    batch_size=100,\n",
        "    validation_split=0.2,\n",
        ")"
      ],
      "metadata": {
        "colab": {
          "base_uri": "https://localhost:8080/"
        },
        "collapsed": true,
        "id": "1MeAmCRbAmC3",
        "outputId": "f5450244-4d7e-47cb-ff18-c7980412eebf"
      },
      "execution_count": null,
      "outputs": [
        {
          "output_type": "stream",
          "name": "stdout",
          "text": [
            "Epoch 1/300\n"
          ]
        },
        {
          "output_type": "stream",
          "name": "stderr",
          "text": [
            "/usr/local/lib/python3.10/dist-packages/keras/src/layers/reshaping/reshape.py:39: UserWarning: Do not pass an `input_shape`/`input_dim` argument to a layer. When using Sequential models, prefer using an `Input(shape)` object as the first layer in the model instead.\n",
            "  super().__init__(**kwargs)\n"
          ]
        },
        {
          "output_type": "stream",
          "name": "stdout",
          "text": [
            "\u001b[1m240/240\u001b[0m \u001b[32m━━━━━━━━━━━━━━━━━━━━\u001b[0m\u001b[37m\u001b[0m \u001b[1m4s\u001b[0m 6ms/step - loss: 0.0435 - mean_absolute_error: 0.1144 - val_loss: 0.0292 - val_mean_absolute_error: 0.0911\n",
            "Epoch 2/300\n",
            "\u001b[1m240/240\u001b[0m \u001b[32m━━━━━━━━━━━━━━━━━━━━\u001b[0m\u001b[37m\u001b[0m \u001b[1m1s\u001b[0m 3ms/step - loss: 0.0279 - mean_absolute_error: 0.0880 - val_loss: 0.0237 - val_mean_absolute_error: 0.0804\n",
            "Epoch 3/300\n",
            "\u001b[1m240/240\u001b[0m \u001b[32m━━━━━━━━━━━━━━━━━━━━\u001b[0m\u001b[37m\u001b[0m \u001b[1m1s\u001b[0m 3ms/step - loss: 0.0227 - mean_absolute_error: 0.0784 - val_loss: 0.0191 - val_mean_absolute_error: 0.0712\n",
            "Epoch 4/300\n",
            "\u001b[1m240/240\u001b[0m \u001b[32m━━━━━━━━━━━━━━━━━━━━\u001b[0m\u001b[37m\u001b[0m \u001b[1m1s\u001b[0m 2ms/step - loss: 0.0186 - mean_absolute_error: 0.0704 - val_loss: 0.0162 - val_mean_absolute_error: 0.0655\n",
            "Epoch 5/300\n",
            "\u001b[1m240/240\u001b[0m \u001b[32m━━━━━━━━━━━━━━━━━━━━\u001b[0m\u001b[37m\u001b[0m \u001b[1m1s\u001b[0m 3ms/step - loss: 0.0156 - mean_absolute_error: 0.0641 - val_loss: 0.0139 - val_mean_absolute_error: 0.0603\n",
            "Epoch 6/300\n",
            "\u001b[1m240/240\u001b[0m \u001b[32m━━━━━━━━━━━━━━━━━━━━\u001b[0m\u001b[37m\u001b[0m \u001b[1m1s\u001b[0m 3ms/step - loss: 0.0132 - mean_absolute_error: 0.0587 - val_loss: 0.0124 - val_mean_absolute_error: 0.0564\n",
            "Epoch 7/300\n",
            "\u001b[1m240/240\u001b[0m \u001b[32m━━━━━━━━━━━━━━━━━━━━\u001b[0m\u001b[37m\u001b[0m \u001b[1m1s\u001b[0m 3ms/step - loss: 0.0118 - mean_absolute_error: 0.0549 - val_loss: 0.0106 - val_mean_absolute_error: 0.0516\n",
            "Epoch 8/300\n",
            "\u001b[1m240/240\u001b[0m \u001b[32m━━━━━━━━━━━━━━━━━━━━\u001b[0m\u001b[37m\u001b[0m \u001b[1m1s\u001b[0m 3ms/step - loss: 0.0102 - mean_absolute_error: 0.0507 - val_loss: 0.0106 - val_mean_absolute_error: 0.0516\n",
            "Epoch 9/300\n",
            "\u001b[1m240/240\u001b[0m \u001b[32m━━━━━━━━━━━━━━━━━━━━\u001b[0m\u001b[37m\u001b[0m \u001b[1m1s\u001b[0m 2ms/step - loss: 0.0091 - mean_absolute_error: 0.0480 - val_loss: 0.0088 - val_mean_absolute_error: 0.0467\n",
            "Epoch 10/300\n",
            "\u001b[1m240/240\u001b[0m \u001b[32m━━━━━━━━━━━━━━━━━━━━\u001b[0m\u001b[37m\u001b[0m \u001b[1m1s\u001b[0m 3ms/step - loss: 0.0087 - mean_absolute_error: 0.0459 - val_loss: 0.0081 - val_mean_absolute_error: 0.0442\n",
            "Epoch 11/300\n",
            "\u001b[1m240/240\u001b[0m \u001b[32m━━━━━━━━━━━━━━━━━━━━\u001b[0m\u001b[37m\u001b[0m \u001b[1m1s\u001b[0m 2ms/step - loss: 0.0076 - mean_absolute_error: 0.0429 - val_loss: 0.0072 - val_mean_absolute_error: 0.0413\n",
            "Epoch 12/300\n",
            "\u001b[1m240/240\u001b[0m \u001b[32m━━━━━━━━━━━━━━━━━━━━\u001b[0m\u001b[37m\u001b[0m \u001b[1m1s\u001b[0m 3ms/step - loss: 0.0070 - mean_absolute_error: 0.0407 - val_loss: 0.0071 - val_mean_absolute_error: 0.0406\n",
            "Epoch 13/300\n",
            "\u001b[1m240/240\u001b[0m \u001b[32m━━━━━━━━━━━━━━━━━━━━\u001b[0m\u001b[37m\u001b[0m \u001b[1m1s\u001b[0m 3ms/step - loss: 0.0064 - mean_absolute_error: 0.0389 - val_loss: 0.0065 - val_mean_absolute_error: 0.0387\n",
            "Epoch 14/300\n",
            "\u001b[1m240/240\u001b[0m \u001b[32m━━━━━━━━━━━━━━━━━━━━\u001b[0m\u001b[37m\u001b[0m \u001b[1m1s\u001b[0m 4ms/step - loss: 0.0063 - mean_absolute_error: 0.0381 - val_loss: 0.0058 - val_mean_absolute_error: 0.0362\n",
            "Epoch 15/300\n",
            "\u001b[1m240/240\u001b[0m \u001b[32m━━━━━━━━━━━━━━━━━━━━\u001b[0m\u001b[37m\u001b[0m \u001b[1m1s\u001b[0m 4ms/step - loss: 0.0057 - mean_absolute_error: 0.0362 - val_loss: 0.0058 - val_mean_absolute_error: 0.0363\n",
            "Epoch 16/300\n",
            "\u001b[1m240/240\u001b[0m \u001b[32m━━━━━━━━━━━━━━━━━━━━\u001b[0m\u001b[37m\u001b[0m \u001b[1m1s\u001b[0m 3ms/step - loss: 0.0052 - mean_absolute_error: 0.0346 - val_loss: 0.0052 - val_mean_absolute_error: 0.0343\n",
            "Epoch 17/300\n",
            "\u001b[1m240/240\u001b[0m \u001b[32m━━━━━━━━━━━━━━━━━━━━\u001b[0m\u001b[37m\u001b[0m \u001b[1m1s\u001b[0m 2ms/step - loss: 0.0048 - mean_absolute_error: 0.0329 - val_loss: 0.0051 - val_mean_absolute_error: 0.0334\n",
            "Epoch 18/300\n",
            "\u001b[1m240/240\u001b[0m \u001b[32m━━━━━━━━━━━━━━━━━━━━\u001b[0m\u001b[37m\u001b[0m \u001b[1m1s\u001b[0m 2ms/step - loss: 0.0046 - mean_absolute_error: 0.0324 - val_loss: 0.0050 - val_mean_absolute_error: 0.0330\n",
            "Epoch 19/300\n",
            "\u001b[1m240/240\u001b[0m \u001b[32m━━━━━━━━━━━━━━━━━━━━\u001b[0m\u001b[37m\u001b[0m \u001b[1m1s\u001b[0m 3ms/step - loss: 0.0043 - mean_absolute_error: 0.0311 - val_loss: 0.0045 - val_mean_absolute_error: 0.0314\n",
            "Epoch 20/300\n",
            "\u001b[1m240/240\u001b[0m \u001b[32m━━━━━━━━━━━━━━━━━━━━\u001b[0m\u001b[37m\u001b[0m \u001b[1m1s\u001b[0m 2ms/step - loss: 0.0040 - mean_absolute_error: 0.0299 - val_loss: 0.0047 - val_mean_absolute_error: 0.0319\n",
            "Epoch 21/300\n",
            "\u001b[1m240/240\u001b[0m \u001b[32m━━━━━━━━━━━━━━━━━━━━\u001b[0m\u001b[37m\u001b[0m \u001b[1m1s\u001b[0m 2ms/step - loss: 0.0040 - mean_absolute_error: 0.0298 - val_loss: 0.0044 - val_mean_absolute_error: 0.0309\n",
            "Epoch 22/300\n",
            "\u001b[1m240/240\u001b[0m \u001b[32m━━━━━━━━━━━━━━━━━━━━\u001b[0m\u001b[37m\u001b[0m \u001b[1m1s\u001b[0m 3ms/step - loss: 0.0038 - mean_absolute_error: 0.0288 - val_loss: 0.0041 - val_mean_absolute_error: 0.0297\n",
            "Epoch 23/300\n",
            "\u001b[1m240/240\u001b[0m \u001b[32m━━━━━━━━━━━━━━━━━━━━\u001b[0m\u001b[37m\u001b[0m \u001b[1m1s\u001b[0m 3ms/step - loss: 0.0035 - mean_absolute_error: 0.0280 - val_loss: 0.0041 - val_mean_absolute_error: 0.0299\n",
            "Epoch 24/300\n",
            "\u001b[1m240/240\u001b[0m \u001b[32m━━━━━━━━━━━━━━━━━━━━\u001b[0m\u001b[37m\u001b[0m \u001b[1m1s\u001b[0m 3ms/step - loss: 0.0035 - mean_absolute_error: 0.0278 - val_loss: 0.0039 - val_mean_absolute_error: 0.0293\n",
            "Epoch 25/300\n",
            "\u001b[1m240/240\u001b[0m \u001b[32m━━━━━━━━━━━━━━━━━━━━\u001b[0m\u001b[37m\u001b[0m \u001b[1m1s\u001b[0m 3ms/step - loss: 0.0033 - mean_absolute_error: 0.0270 - val_loss: 0.0038 - val_mean_absolute_error: 0.0286\n",
            "Epoch 26/300\n",
            "\u001b[1m240/240\u001b[0m \u001b[32m━━━━━━━━━━━━━━━━━━━━\u001b[0m\u001b[37m\u001b[0m \u001b[1m1s\u001b[0m 3ms/step - loss: 0.0032 - mean_absolute_error: 0.0266 - val_loss: 0.0041 - val_mean_absolute_error: 0.0302\n",
            "Epoch 27/300\n",
            "\u001b[1m240/240\u001b[0m \u001b[32m━━━━━━━━━━━━━━━━━━━━\u001b[0m\u001b[37m\u001b[0m \u001b[1m1s\u001b[0m 2ms/step - loss: 0.0030 - mean_absolute_error: 0.0260 - val_loss: 0.0035 - val_mean_absolute_error: 0.0273\n",
            "Epoch 28/300\n",
            "\u001b[1m240/240\u001b[0m \u001b[32m━━━━━━━━━━━━━━━━━━━━\u001b[0m\u001b[37m\u001b[0m \u001b[1m1s\u001b[0m 4ms/step - loss: 0.0030 - mean_absolute_error: 0.0261 - val_loss: 0.0038 - val_mean_absolute_error: 0.0287\n",
            "Epoch 29/300\n",
            "\u001b[1m240/240\u001b[0m \u001b[32m━━━━━━━━━━━━━━━━━━━━\u001b[0m\u001b[37m\u001b[0m \u001b[1m1s\u001b[0m 4ms/step - loss: 0.0029 - mean_absolute_error: 0.0257 - val_loss: 0.0035 - val_mean_absolute_error: 0.0276\n",
            "Epoch 30/300\n",
            "\u001b[1m240/240\u001b[0m \u001b[32m━━━━━━━━━━━━━━━━━━━━\u001b[0m\u001b[37m\u001b[0m \u001b[1m1s\u001b[0m 3ms/step - loss: 0.0027 - mean_absolute_error: 0.0250 - val_loss: 0.0034 - val_mean_absolute_error: 0.0270\n",
            "Epoch 31/300\n",
            "\u001b[1m240/240\u001b[0m \u001b[32m━━━━━━━━━━━━━━━━━━━━\u001b[0m\u001b[37m\u001b[0m \u001b[1m1s\u001b[0m 3ms/step - loss: 0.0026 - mean_absolute_error: 0.0243 - val_loss: 0.0033 - val_mean_absolute_error: 0.0266\n",
            "Epoch 32/300\n",
            "\u001b[1m240/240\u001b[0m \u001b[32m━━━━━━━━━━━━━━━━━━━━\u001b[0m\u001b[37m\u001b[0m \u001b[1m1s\u001b[0m 3ms/step - loss: 0.0024 - mean_absolute_error: 0.0236 - val_loss: 0.0032 - val_mean_absolute_error: 0.0264\n",
            "Epoch 33/300\n",
            "\u001b[1m240/240\u001b[0m \u001b[32m━━━━━━━━━━━━━━━━━━━━\u001b[0m\u001b[37m\u001b[0m \u001b[1m1s\u001b[0m 3ms/step - loss: 0.0026 - mean_absolute_error: 0.0240 - val_loss: 0.0031 - val_mean_absolute_error: 0.0260\n",
            "Epoch 34/300\n",
            "\u001b[1m240/240\u001b[0m \u001b[32m━━━━━━━━━━━━━━━━━━━━\u001b[0m\u001b[37m\u001b[0m \u001b[1m1s\u001b[0m 3ms/step - loss: 0.0024 - mean_absolute_error: 0.0235 - val_loss: 0.0030 - val_mean_absolute_error: 0.0254\n",
            "Epoch 35/300\n",
            "\u001b[1m240/240\u001b[0m \u001b[32m━━━━━━━━━━━━━━━━━━━━\u001b[0m\u001b[37m\u001b[0m \u001b[1m1s\u001b[0m 3ms/step - loss: 0.0024 - mean_absolute_error: 0.0232 - val_loss: 0.0030 - val_mean_absolute_error: 0.0255\n",
            "Epoch 36/300\n",
            "\u001b[1m240/240\u001b[0m \u001b[32m━━━━━━━━━━━━━━━━━━━━\u001b[0m\u001b[37m\u001b[0m \u001b[1m1s\u001b[0m 2ms/step - loss: 0.0023 - mean_absolute_error: 0.0228 - val_loss: 0.0031 - val_mean_absolute_error: 0.0257\n",
            "Epoch 37/300\n",
            "\u001b[1m240/240\u001b[0m \u001b[32m━━━━━━━━━━━━━━━━━━━━\u001b[0m\u001b[37m\u001b[0m \u001b[1m1s\u001b[0m 3ms/step - loss: 0.0022 - mean_absolute_error: 0.0227 - val_loss: 0.0031 - val_mean_absolute_error: 0.0254\n",
            "Epoch 38/300\n",
            "\u001b[1m240/240\u001b[0m \u001b[32m━━━━━━━━━━━━━━━━━━━━\u001b[0m\u001b[37m\u001b[0m \u001b[1m1s\u001b[0m 3ms/step - loss: 0.0022 - mean_absolute_error: 0.0227 - val_loss: 0.0028 - val_mean_absolute_error: 0.0242\n",
            "Epoch 39/300\n",
            "\u001b[1m240/240\u001b[0m \u001b[32m━━━━━━━━━━━━━━━━━━━━\u001b[0m\u001b[37m\u001b[0m \u001b[1m1s\u001b[0m 2ms/step - loss: 0.0020 - mean_absolute_error: 0.0216 - val_loss: 0.0028 - val_mean_absolute_error: 0.0245\n",
            "Epoch 40/300\n",
            "\u001b[1m240/240\u001b[0m \u001b[32m━━━━━━━━━━━━━━━━━━━━\u001b[0m\u001b[37m\u001b[0m \u001b[1m1s\u001b[0m 3ms/step - loss: 0.0020 - mean_absolute_error: 0.0217 - val_loss: 0.0031 - val_mean_absolute_error: 0.0258\n",
            "Epoch 41/300\n",
            "\u001b[1m240/240\u001b[0m \u001b[32m━━━━━━━━━━━━━━━━━━━━\u001b[0m\u001b[37m\u001b[0m \u001b[1m1s\u001b[0m 3ms/step - loss: 0.0020 - mean_absolute_error: 0.0214 - val_loss: 0.0030 - val_mean_absolute_error: 0.0257\n",
            "Epoch 42/300\n",
            "\u001b[1m240/240\u001b[0m \u001b[32m━━━━━━━━━━━━━━━━━━━━\u001b[0m\u001b[37m\u001b[0m \u001b[1m1s\u001b[0m 4ms/step - loss: 0.0021 - mean_absolute_error: 0.0218 - val_loss: 0.0028 - val_mean_absolute_error: 0.0245\n",
            "Epoch 43/300\n",
            "\u001b[1m240/240\u001b[0m \u001b[32m━━━━━━━━━━━━━━━━━━━━\u001b[0m\u001b[37m\u001b[0m \u001b[1m1s\u001b[0m 3ms/step - loss: 0.0019 - mean_absolute_error: 0.0209 - val_loss: 0.0026 - val_mean_absolute_error: 0.0234\n",
            "Epoch 44/300\n",
            "\u001b[1m240/240\u001b[0m \u001b[32m━━━━━━━━━━━━━━━━━━━━\u001b[0m\u001b[37m\u001b[0m \u001b[1m1s\u001b[0m 3ms/step - loss: 0.0019 - mean_absolute_error: 0.0210 - val_loss: 0.0029 - val_mean_absolute_error: 0.0245\n",
            "Epoch 45/300\n",
            "\u001b[1m240/240\u001b[0m \u001b[32m━━━━━━━━━━━━━━━━━━━━\u001b[0m\u001b[37m\u001b[0m \u001b[1m1s\u001b[0m 2ms/step - loss: 0.0018 - mean_absolute_error: 0.0207 - val_loss: 0.0026 - val_mean_absolute_error: 0.0235\n",
            "Epoch 46/300\n",
            "\u001b[1m240/240\u001b[0m \u001b[32m━━━━━━━━━━━━━━━━━━━━\u001b[0m\u001b[37m\u001b[0m \u001b[1m1s\u001b[0m 3ms/step - loss: 0.0019 - mean_absolute_error: 0.0210 - val_loss: 0.0026 - val_mean_absolute_error: 0.0232\n",
            "Epoch 47/300\n",
            "\u001b[1m240/240\u001b[0m \u001b[32m━━━━━━━━━━━━━━━━━━━━\u001b[0m\u001b[37m\u001b[0m \u001b[1m1s\u001b[0m 3ms/step - loss: 0.0018 - mean_absolute_error: 0.0203 - val_loss: 0.0026 - val_mean_absolute_error: 0.0233\n",
            "Epoch 48/300\n",
            "\u001b[1m240/240\u001b[0m \u001b[32m━━━━━━━━━━━━━━━━━━━━\u001b[0m\u001b[37m\u001b[0m \u001b[1m1s\u001b[0m 3ms/step - loss: 0.0018 - mean_absolute_error: 0.0202 - val_loss: 0.0025 - val_mean_absolute_error: 0.0231\n",
            "Epoch 49/300\n",
            "\u001b[1m240/240\u001b[0m \u001b[32m━━━━━━━━━━━━━━━━━━━━\u001b[0m\u001b[37m\u001b[0m \u001b[1m1s\u001b[0m 2ms/step - loss: 0.0017 - mean_absolute_error: 0.0200 - val_loss: 0.0025 - val_mean_absolute_error: 0.0228\n",
            "Epoch 50/300\n",
            "\u001b[1m240/240\u001b[0m \u001b[32m━━━━━━━━━━━━━━━━━━━━\u001b[0m\u001b[37m\u001b[0m \u001b[1m1s\u001b[0m 3ms/step - loss: 0.0017 - mean_absolute_error: 0.0199 - val_loss: 0.0026 - val_mean_absolute_error: 0.0234\n",
            "Epoch 51/300\n",
            "\u001b[1m240/240\u001b[0m \u001b[32m━━━━━━━━━━━━━━━━━━━━\u001b[0m\u001b[37m\u001b[0m \u001b[1m1s\u001b[0m 2ms/step - loss: 0.0017 - mean_absolute_error: 0.0199 - val_loss: 0.0029 - val_mean_absolute_error: 0.0247\n",
            "Epoch 52/300\n",
            "\u001b[1m240/240\u001b[0m \u001b[32m━━━━━━━━━━━━━━━━━━━━\u001b[0m\u001b[37m\u001b[0m \u001b[1m1s\u001b[0m 2ms/step - loss: 0.0016 - mean_absolute_error: 0.0194 - val_loss: 0.0025 - val_mean_absolute_error: 0.0230\n",
            "Epoch 53/300\n",
            "\u001b[1m240/240\u001b[0m \u001b[32m━━━━━━━━━━━━━━━━━━━━\u001b[0m\u001b[37m\u001b[0m \u001b[1m1s\u001b[0m 3ms/step - loss: 0.0016 - mean_absolute_error: 0.0194 - val_loss: 0.0025 - val_mean_absolute_error: 0.0230\n",
            "Epoch 54/300\n",
            "\u001b[1m240/240\u001b[0m \u001b[32m━━━━━━━━━━━━━━━━━━━━\u001b[0m\u001b[37m\u001b[0m \u001b[1m1s\u001b[0m 3ms/step - loss: 0.0016 - mean_absolute_error: 0.0192 - val_loss: 0.0026 - val_mean_absolute_error: 0.0238\n",
            "Epoch 55/300\n",
            "\u001b[1m240/240\u001b[0m \u001b[32m━━━━━━━━━━━━━━━━━━━━\u001b[0m\u001b[37m\u001b[0m \u001b[1m1s\u001b[0m 3ms/step - loss: 0.0015 - mean_absolute_error: 0.0190 - val_loss: 0.0025 - val_mean_absolute_error: 0.0231\n",
            "Epoch 56/300\n",
            "\u001b[1m240/240\u001b[0m \u001b[32m━━━━━━━━━━━━━━━━━━━━\u001b[0m\u001b[37m\u001b[0m \u001b[1m1s\u001b[0m 3ms/step - loss: 0.0015 - mean_absolute_error: 0.0187 - val_loss: 0.0024 - val_mean_absolute_error: 0.0223\n",
            "Epoch 57/300\n",
            "\u001b[1m240/240\u001b[0m \u001b[32m━━━━━━━━━━━━━━━━━━━━\u001b[0m\u001b[37m\u001b[0m \u001b[1m1s\u001b[0m 4ms/step - loss: 0.0015 - mean_absolute_error: 0.0186 - val_loss: 0.0023 - val_mean_absolute_error: 0.0220\n",
            "Epoch 58/300\n",
            "\u001b[1m240/240\u001b[0m \u001b[32m━━━━━━━━━━━━━━━━━━━━\u001b[0m\u001b[37m\u001b[0m \u001b[1m1s\u001b[0m 4ms/step - loss: 0.0014 - mean_absolute_error: 0.0181 - val_loss: 0.0024 - val_mean_absolute_error: 0.0225\n",
            "Epoch 59/300\n",
            "\u001b[1m240/240\u001b[0m \u001b[32m━━━━━━━━━━━━━━━━━━━━\u001b[0m\u001b[37m\u001b[0m \u001b[1m1s\u001b[0m 3ms/step - loss: 0.0015 - mean_absolute_error: 0.0186 - val_loss: 0.0024 - val_mean_absolute_error: 0.0226\n",
            "Epoch 60/300\n",
            "\u001b[1m240/240\u001b[0m \u001b[32m━━━━━━━━━━━━━━━━━━━━\u001b[0m\u001b[37m\u001b[0m \u001b[1m1s\u001b[0m 3ms/step - loss: 0.0014 - mean_absolute_error: 0.0182 - val_loss: 0.0025 - val_mean_absolute_error: 0.0231\n",
            "Epoch 61/300\n",
            "\u001b[1m240/240\u001b[0m \u001b[32m━━━━━━━━━━━━━━━━━━━━\u001b[0m\u001b[37m\u001b[0m \u001b[1m1s\u001b[0m 2ms/step - loss: 0.0013 - mean_absolute_error: 0.0180 - val_loss: 0.0023 - val_mean_absolute_error: 0.0217\n",
            "Epoch 62/300\n",
            "\u001b[1m240/240\u001b[0m \u001b[32m━━━━━━━━━━━━━━━━━━━━\u001b[0m\u001b[37m\u001b[0m \u001b[1m1s\u001b[0m 3ms/step - loss: 0.0013 - mean_absolute_error: 0.0180 - val_loss: 0.0024 - val_mean_absolute_error: 0.0223\n",
            "Epoch 63/300\n",
            "\u001b[1m240/240\u001b[0m \u001b[32m━━━━━━━━━━━━━━━━━━━━\u001b[0m\u001b[37m\u001b[0m \u001b[1m1s\u001b[0m 3ms/step - loss: 0.0013 - mean_absolute_error: 0.0180 - val_loss: 0.0022 - val_mean_absolute_error: 0.0213\n",
            "Epoch 64/300\n",
            "\u001b[1m240/240\u001b[0m \u001b[32m━━━━━━━━━━━━━━━━━━━━\u001b[0m\u001b[37m\u001b[0m \u001b[1m1s\u001b[0m 2ms/step - loss: 0.0013 - mean_absolute_error: 0.0176 - val_loss: 0.0024 - val_mean_absolute_error: 0.0224\n",
            "Epoch 65/300\n",
            "\u001b[1m240/240\u001b[0m \u001b[32m━━━━━━━━━━━━━━━━━━━━\u001b[0m\u001b[37m\u001b[0m \u001b[1m1s\u001b[0m 3ms/step - loss: 0.0012 - mean_absolute_error: 0.0173 - val_loss: 0.0023 - val_mean_absolute_error: 0.0220\n",
            "Epoch 66/300\n",
            "\u001b[1m240/240\u001b[0m \u001b[32m━━━━━━━━━━━━━━━━━━━━\u001b[0m\u001b[37m\u001b[0m \u001b[1m1s\u001b[0m 3ms/step - loss: 0.0012 - mean_absolute_error: 0.0174 - val_loss: 0.0023 - val_mean_absolute_error: 0.0220\n",
            "Epoch 67/300\n",
            "\u001b[1m240/240\u001b[0m \u001b[32m━━━━━━━━━━━━━━━━━━━━\u001b[0m\u001b[37m\u001b[0m \u001b[1m1s\u001b[0m 2ms/step - loss: 0.0012 - mean_absolute_error: 0.0174 - val_loss: 0.0022 - val_mean_absolute_error: 0.0214\n",
            "Epoch 68/300\n",
            "\u001b[1m240/240\u001b[0m \u001b[32m━━━━━━━━━━━━━━━━━━━━\u001b[0m\u001b[37m\u001b[0m \u001b[1m1s\u001b[0m 2ms/step - loss: 0.0012 - mean_absolute_error: 0.0172 - val_loss: 0.0024 - val_mean_absolute_error: 0.0221\n",
            "Epoch 69/300\n",
            "\u001b[1m240/240\u001b[0m \u001b[32m━━━━━━━━━━━━━━━━━━━━\u001b[0m\u001b[37m\u001b[0m \u001b[1m1s\u001b[0m 3ms/step - loss: 0.0013 - mean_absolute_error: 0.0176 - val_loss: 0.0022 - val_mean_absolute_error: 0.0213\n",
            "Epoch 70/300\n",
            "\u001b[1m240/240\u001b[0m \u001b[32m━━━━━━━━━━━━━━━━━━━━\u001b[0m\u001b[37m\u001b[0m \u001b[1m1s\u001b[0m 3ms/step - loss: 0.0012 - mean_absolute_error: 0.0172 - val_loss: 0.0023 - val_mean_absolute_error: 0.0217\n",
            "Epoch 71/300\n",
            "\u001b[1m240/240\u001b[0m \u001b[32m━━━━━━━━━━━━━━━━━━━━\u001b[0m\u001b[37m\u001b[0m \u001b[1m1s\u001b[0m 3ms/step - loss: 0.0012 - mean_absolute_error: 0.0171 - val_loss: 0.0025 - val_mean_absolute_error: 0.0228\n",
            "Epoch 72/300\n",
            "\u001b[1m240/240\u001b[0m \u001b[32m━━━━━━━━━━━━━━━━━━━━\u001b[0m\u001b[37m\u001b[0m \u001b[1m1s\u001b[0m 3ms/step - loss: 0.0012 - mean_absolute_error: 0.0170 - val_loss: 0.0023 - val_mean_absolute_error: 0.0215\n",
            "Epoch 73/300\n",
            "\u001b[1m240/240\u001b[0m \u001b[32m━━━━━━━━━━━━━━━━━━━━\u001b[0m\u001b[37m\u001b[0m \u001b[1m1s\u001b[0m 3ms/step - loss: 0.0012 - mean_absolute_error: 0.0168 - val_loss: 0.0021 - val_mean_absolute_error: 0.0208\n",
            "Epoch 74/300\n",
            "\u001b[1m240/240\u001b[0m \u001b[32m━━━━━━━━━━━━━━━━━━━━\u001b[0m\u001b[37m\u001b[0m \u001b[1m1s\u001b[0m 3ms/step - loss: 0.0011 - mean_absolute_error: 0.0165 - val_loss: 0.0022 - val_mean_absolute_error: 0.0217\n",
            "Epoch 75/300\n",
            "\u001b[1m240/240\u001b[0m \u001b[32m━━━━━━━━━━━━━━━━━━━━\u001b[0m\u001b[37m\u001b[0m \u001b[1m1s\u001b[0m 3ms/step - loss: 0.0011 - mean_absolute_error: 0.0167 - val_loss: 0.0023 - val_mean_absolute_error: 0.0222\n",
            "Epoch 76/300\n",
            "\u001b[1m240/240\u001b[0m \u001b[32m━━━━━━━━━━━━━━━━━━━━\u001b[0m\u001b[37m\u001b[0m \u001b[1m1s\u001b[0m 3ms/step - loss: 0.0011 - mean_absolute_error: 0.0165 - val_loss: 0.0022 - val_mean_absolute_error: 0.0211\n",
            "Epoch 77/300\n",
            "\u001b[1m240/240\u001b[0m \u001b[32m━━━━━━━━━━━━━━━━━━━━\u001b[0m\u001b[37m\u001b[0m \u001b[1m1s\u001b[0m 3ms/step - loss: 0.0011 - mean_absolute_error: 0.0162 - val_loss: 0.0022 - val_mean_absolute_error: 0.0215\n",
            "Epoch 78/300\n",
            "\u001b[1m240/240\u001b[0m \u001b[32m━━━━━━━━━━━━━━━━━━━━\u001b[0m\u001b[37m\u001b[0m \u001b[1m1s\u001b[0m 3ms/step - loss: 0.0011 - mean_absolute_error: 0.0164 - val_loss: 0.0022 - val_mean_absolute_error: 0.0213\n",
            "Epoch 79/300\n",
            "\u001b[1m240/240\u001b[0m \u001b[32m━━━━━━━━━━━━━━━━━━━━\u001b[0m\u001b[37m\u001b[0m \u001b[1m1s\u001b[0m 3ms/step - loss: 0.0010 - mean_absolute_error: 0.0161 - val_loss: 0.0021 - val_mean_absolute_error: 0.0210\n",
            "Epoch 80/300\n",
            "\u001b[1m240/240\u001b[0m \u001b[32m━━━━━━━━━━━━━━━━━━━━\u001b[0m\u001b[37m\u001b[0m \u001b[1m1s\u001b[0m 3ms/step - loss: 0.0011 - mean_absolute_error: 0.0163 - val_loss: 0.0023 - val_mean_absolute_error: 0.0218\n",
            "Epoch 81/300\n",
            "\u001b[1m240/240\u001b[0m \u001b[32m━━━━━━━━━━━━━━━━━━━━\u001b[0m\u001b[37m\u001b[0m \u001b[1m1s\u001b[0m 3ms/step - loss: 0.0011 - mean_absolute_error: 0.0165 - val_loss: 0.0021 - val_mean_absolute_error: 0.0206\n",
            "Epoch 82/300\n",
            "\u001b[1m240/240\u001b[0m \u001b[32m━━━━━━━━━━━━━━━━━━━━\u001b[0m\u001b[37m\u001b[0m \u001b[1m1s\u001b[0m 3ms/step - loss: 0.0010 - mean_absolute_error: 0.0158 - val_loss: 0.0023 - val_mean_absolute_error: 0.0217\n",
            "Epoch 83/300\n",
            "\u001b[1m240/240\u001b[0m \u001b[32m━━━━━━━━━━━━━━━━━━━━\u001b[0m\u001b[37m\u001b[0m \u001b[1m1s\u001b[0m 4ms/step - loss: 9.8810e-04 - mean_absolute_error: 0.0156 - val_loss: 0.0022 - val_mean_absolute_error: 0.0212\n",
            "Epoch 84/300\n",
            "\u001b[1m240/240\u001b[0m \u001b[32m━━━━━━━━━━━━━━━━━━━━\u001b[0m\u001b[37m\u001b[0m \u001b[1m1s\u001b[0m 3ms/step - loss: 9.8258e-04 - mean_absolute_error: 0.0157 - val_loss: 0.0022 - val_mean_absolute_error: 0.0210\n",
            "Epoch 85/300\n",
            "\u001b[1m240/240\u001b[0m \u001b[32m━━━━━━━━━━━━━━━━━━━━\u001b[0m\u001b[37m\u001b[0m \u001b[1m1s\u001b[0m 2ms/step - loss: 9.7382e-04 - mean_absolute_error: 0.0156 - val_loss: 0.0022 - val_mean_absolute_error: 0.0213\n",
            "Epoch 86/300\n",
            "\u001b[1m240/240\u001b[0m \u001b[32m━━━━━━━━━━━━━━━━━━━━\u001b[0m\u001b[37m\u001b[0m \u001b[1m1s\u001b[0m 3ms/step - loss: 9.9397e-04 - mean_absolute_error: 0.0157 - val_loss: 0.0021 - val_mean_absolute_error: 0.0207\n",
            "Epoch 87/300\n",
            "\u001b[1m240/240\u001b[0m \u001b[32m━━━━━━━━━━━━━━━━━━━━\u001b[0m\u001b[37m\u001b[0m \u001b[1m1s\u001b[0m 3ms/step - loss: 9.6942e-04 - mean_absolute_error: 0.0155 - val_loss: 0.0022 - val_mean_absolute_error: 0.0212\n",
            "Epoch 88/300\n",
            "\u001b[1m240/240\u001b[0m \u001b[32m━━━━━━━━━━━━━━━━━━━━\u001b[0m\u001b[37m\u001b[0m \u001b[1m1s\u001b[0m 3ms/step - loss: 9.2099e-04 - mean_absolute_error: 0.0153 - val_loss: 0.0021 - val_mean_absolute_error: 0.0206\n",
            "Epoch 89/300\n",
            "\u001b[1m240/240\u001b[0m \u001b[32m━━━━━━━━━━━━━━━━━━━━\u001b[0m\u001b[37m\u001b[0m \u001b[1m1s\u001b[0m 3ms/step - loss: 9.5607e-04 - mean_absolute_error: 0.0155 - val_loss: 0.0021 - val_mean_absolute_error: 0.0206\n",
            "Epoch 90/300\n",
            "\u001b[1m240/240\u001b[0m \u001b[32m━━━━━━━━━━━━━━━━━━━━\u001b[0m\u001b[37m\u001b[0m \u001b[1m1s\u001b[0m 3ms/step - loss: 9.1462e-04 - mean_absolute_error: 0.0152 - val_loss: 0.0022 - val_mean_absolute_error: 0.0211\n",
            "Epoch 91/300\n",
            "\u001b[1m240/240\u001b[0m \u001b[32m━━━━━━━━━━━━━━━━━━━━\u001b[0m\u001b[37m\u001b[0m \u001b[1m1s\u001b[0m 3ms/step - loss: 9.0559e-04 - mean_absolute_error: 0.0151 - val_loss: 0.0020 - val_mean_absolute_error: 0.0203\n",
            "Epoch 92/300\n",
            "\u001b[1m240/240\u001b[0m \u001b[32m━━━━━━━━━━━━━━━━━━━━\u001b[0m\u001b[37m\u001b[0m \u001b[1m1s\u001b[0m 3ms/step - loss: 9.2037e-04 - mean_absolute_error: 0.0152 - val_loss: 0.0021 - val_mean_absolute_error: 0.0208\n",
            "Epoch 93/300\n",
            "\u001b[1m240/240\u001b[0m \u001b[32m━━━━━━━━━━━━━━━━━━━━\u001b[0m\u001b[37m\u001b[0m \u001b[1m1s\u001b[0m 3ms/step - loss: 9.3149e-04 - mean_absolute_error: 0.0153 - val_loss: 0.0021 - val_mean_absolute_error: 0.0206\n",
            "Epoch 94/300\n",
            "\u001b[1m240/240\u001b[0m \u001b[32m━━━━━━━━━━━━━━━━━━━━\u001b[0m\u001b[37m\u001b[0m \u001b[1m1s\u001b[0m 3ms/step - loss: 8.6507e-04 - mean_absolute_error: 0.0148 - val_loss: 0.0020 - val_mean_absolute_error: 0.0202\n",
            "Epoch 95/300\n",
            "\u001b[1m240/240\u001b[0m \u001b[32m━━━━━━━━━━━━━━━━━━━━\u001b[0m\u001b[37m\u001b[0m \u001b[1m1s\u001b[0m 4ms/step - loss: 9.1266e-04 - mean_absolute_error: 0.0152 - val_loss: 0.0020 - val_mean_absolute_error: 0.0201\n",
            "Epoch 96/300\n",
            "\u001b[1m240/240\u001b[0m \u001b[32m━━━━━━━━━━━━━━━━━━━━\u001b[0m\u001b[37m\u001b[0m \u001b[1m1s\u001b[0m 3ms/step - loss: 8.8411e-04 - mean_absolute_error: 0.0149 - val_loss: 0.0020 - val_mean_absolute_error: 0.0206\n",
            "Epoch 97/300\n",
            "\u001b[1m240/240\u001b[0m \u001b[32m━━━━━━━━━━━━━━━━━━━━\u001b[0m\u001b[37m\u001b[0m \u001b[1m1s\u001b[0m 3ms/step - loss: 8.7543e-04 - mean_absolute_error: 0.0149 - val_loss: 0.0021 - val_mean_absolute_error: 0.0204\n",
            "Epoch 98/300\n",
            "\u001b[1m240/240\u001b[0m \u001b[32m━━━━━━━━━━━━━━━━━━━━\u001b[0m\u001b[37m\u001b[0m \u001b[1m1s\u001b[0m 3ms/step - loss: 8.1934e-04 - mean_absolute_error: 0.0145 - val_loss: 0.0020 - val_mean_absolute_error: 0.0204\n",
            "Epoch 99/300\n",
            "\u001b[1m240/240\u001b[0m \u001b[32m━━━━━━━━━━━━━━━━━━━━\u001b[0m\u001b[37m\u001b[0m \u001b[1m1s\u001b[0m 3ms/step - loss: 8.3025e-04 - mean_absolute_error: 0.0145 - val_loss: 0.0021 - val_mean_absolute_error: 0.0209\n",
            "Epoch 100/300\n",
            "\u001b[1m240/240\u001b[0m \u001b[32m━━━━━━━━━━━━━━━━━━━━\u001b[0m\u001b[37m\u001b[0m \u001b[1m1s\u001b[0m 3ms/step - loss: 8.2548e-04 - mean_absolute_error: 0.0145 - val_loss: 0.0021 - val_mean_absolute_error: 0.0204\n",
            "Epoch 101/300\n",
            "\u001b[1m240/240\u001b[0m \u001b[32m━━━━━━━━━━━━━━━━━━━━\u001b[0m\u001b[37m\u001b[0m \u001b[1m1s\u001b[0m 3ms/step - loss: 8.7774e-04 - mean_absolute_error: 0.0149 - val_loss: 0.0020 - val_mean_absolute_error: 0.0200\n",
            "Epoch 102/300\n",
            "\u001b[1m240/240\u001b[0m \u001b[32m━━━━━━━━━━━━━━━━━━━━\u001b[0m\u001b[37m\u001b[0m \u001b[1m1s\u001b[0m 3ms/step - loss: 7.9509e-04 - mean_absolute_error: 0.0143 - val_loss: 0.0021 - val_mean_absolute_error: 0.0207\n",
            "Epoch 103/300\n",
            "\u001b[1m240/240\u001b[0m \u001b[32m━━━━━━━━━━━━━━━━━━━━\u001b[0m\u001b[37m\u001b[0m \u001b[1m1s\u001b[0m 3ms/step - loss: 8.6566e-04 - mean_absolute_error: 0.0149 - val_loss: 0.0020 - val_mean_absolute_error: 0.0203\n",
            "Epoch 104/300\n",
            "\u001b[1m240/240\u001b[0m \u001b[32m━━━━━━━━━━━━━━━━━━━━\u001b[0m\u001b[37m\u001b[0m \u001b[1m1s\u001b[0m 3ms/step - loss: 8.0011e-04 - mean_absolute_error: 0.0142 - val_loss: 0.0020 - val_mean_absolute_error: 0.0200\n",
            "Epoch 105/300\n",
            "\u001b[1m240/240\u001b[0m \u001b[32m━━━━━━━━━━━━━━━━━━━━\u001b[0m\u001b[37m\u001b[0m \u001b[1m1s\u001b[0m 3ms/step - loss: 8.2352e-04 - mean_absolute_error: 0.0145 - val_loss: 0.0023 - val_mean_absolute_error: 0.0218\n",
            "Epoch 106/300\n",
            "\u001b[1m240/240\u001b[0m \u001b[32m━━━━━━━━━━━━━━━━━━━━\u001b[0m\u001b[37m\u001b[0m \u001b[1m1s\u001b[0m 3ms/step - loss: 8.6859e-04 - mean_absolute_error: 0.0148 - val_loss: 0.0022 - val_mean_absolute_error: 0.0211\n",
            "Epoch 107/300\n",
            "\u001b[1m240/240\u001b[0m \u001b[32m━━━━━━━━━━━━━━━━━━━━\u001b[0m\u001b[37m\u001b[0m \u001b[1m1s\u001b[0m 4ms/step - loss: 8.2297e-04 - mean_absolute_error: 0.0146 - val_loss: 0.0022 - val_mean_absolute_error: 0.0212\n",
            "Epoch 108/300\n",
            "\u001b[1m240/240\u001b[0m \u001b[32m━━━━━━━━━━━━━━━━━━━━\u001b[0m\u001b[37m\u001b[0m \u001b[1m1s\u001b[0m 3ms/step - loss: 8.2134e-04 - mean_absolute_error: 0.0146 - val_loss: 0.0021 - val_mean_absolute_error: 0.0206\n",
            "Epoch 109/300\n",
            "\u001b[1m240/240\u001b[0m \u001b[32m━━━━━━━━━━━━━━━━━━━━\u001b[0m\u001b[37m\u001b[0m \u001b[1m1s\u001b[0m 3ms/step - loss: 7.9321e-04 - mean_absolute_error: 0.0142 - val_loss: 0.0020 - val_mean_absolute_error: 0.0202\n",
            "Epoch 110/300\n",
            "\u001b[1m240/240\u001b[0m \u001b[32m━━━━━━━━━━━━━━━━━━━━\u001b[0m\u001b[37m\u001b[0m \u001b[1m1s\u001b[0m 2ms/step - loss: 7.5787e-04 - mean_absolute_error: 0.0139 - val_loss: 0.0019 - val_mean_absolute_error: 0.0198\n",
            "Epoch 111/300\n",
            "\u001b[1m240/240\u001b[0m \u001b[32m━━━━━━━━━━━━━━━━━━━━\u001b[0m\u001b[37m\u001b[0m \u001b[1m1s\u001b[0m 3ms/step - loss: 7.5651e-04 - mean_absolute_error: 0.0140 - val_loss: 0.0020 - val_mean_absolute_error: 0.0202\n",
            "Epoch 112/300\n",
            "\u001b[1m240/240\u001b[0m \u001b[32m━━━━━━━━━━━━━━━━━━━━\u001b[0m\u001b[37m\u001b[0m \u001b[1m1s\u001b[0m 3ms/step - loss: 7.2366e-04 - mean_absolute_error: 0.0136 - val_loss: 0.0020 - val_mean_absolute_error: 0.0200\n",
            "Epoch 113/300\n",
            "\u001b[1m240/240\u001b[0m \u001b[32m━━━━━━━━━━━━━━━━━━━━\u001b[0m\u001b[37m\u001b[0m \u001b[1m1s\u001b[0m 2ms/step - loss: 7.5179e-04 - mean_absolute_error: 0.0138 - val_loss: 0.0021 - val_mean_absolute_error: 0.0209\n",
            "Epoch 114/300\n",
            "\u001b[1m240/240\u001b[0m \u001b[32m━━━━━━━━━━━━━━━━━━━━\u001b[0m\u001b[37m\u001b[0m \u001b[1m1s\u001b[0m 3ms/step - loss: 8.3448e-04 - mean_absolute_error: 0.0146 - val_loss: 0.0020 - val_mean_absolute_error: 0.0201\n",
            "Epoch 115/300\n",
            "\u001b[1m240/240\u001b[0m \u001b[32m━━━━━━━━━━━━━━━━━━━━\u001b[0m\u001b[37m\u001b[0m \u001b[1m1s\u001b[0m 3ms/step - loss: 7.4779e-04 - mean_absolute_error: 0.0138 - val_loss: 0.0020 - val_mean_absolute_error: 0.0201\n",
            "Epoch 116/300\n",
            "\u001b[1m240/240\u001b[0m \u001b[32m━━━━━━━━━━━━━━━━━━━━\u001b[0m\u001b[37m\u001b[0m \u001b[1m1s\u001b[0m 2ms/step - loss: 7.2958e-04 - mean_absolute_error: 0.0139 - val_loss: 0.0020 - val_mean_absolute_error: 0.0201\n",
            "Epoch 117/300\n",
            "\u001b[1m240/240\u001b[0m \u001b[32m━━━━━━━━━━━━━━━━━━━━\u001b[0m\u001b[37m\u001b[0m \u001b[1m1s\u001b[0m 3ms/step - loss: 7.3407e-04 - mean_absolute_error: 0.0137 - val_loss: 0.0021 - val_mean_absolute_error: 0.0208\n",
            "Epoch 118/300\n",
            "\u001b[1m240/240\u001b[0m \u001b[32m━━━━━━━━━━━━━━━━━━━━\u001b[0m\u001b[37m\u001b[0m \u001b[1m1s\u001b[0m 3ms/step - loss: 7.5475e-04 - mean_absolute_error: 0.0139 - val_loss: 0.0020 - val_mean_absolute_error: 0.0198\n",
            "Epoch 119/300\n",
            "\u001b[1m240/240\u001b[0m \u001b[32m━━━━━━━━━━━━━━━━━━━━\u001b[0m\u001b[37m\u001b[0m \u001b[1m1s\u001b[0m 3ms/step - loss: 7.0679e-04 - mean_absolute_error: 0.0135 - val_loss: 0.0019 - val_mean_absolute_error: 0.0196\n",
            "Epoch 120/300\n",
            "\u001b[1m240/240\u001b[0m \u001b[32m━━━━━━━━━━━━━━━━━━━━\u001b[0m\u001b[37m\u001b[0m \u001b[1m1s\u001b[0m 4ms/step - loss: 6.8331e-04 - mean_absolute_error: 0.0132 - val_loss: 0.0020 - val_mean_absolute_error: 0.0201\n",
            "Epoch 121/300\n",
            "\u001b[1m240/240\u001b[0m \u001b[32m━━━━━━━━━━━━━━━━━━━━\u001b[0m\u001b[37m\u001b[0m \u001b[1m1s\u001b[0m 2ms/step - loss: 6.9726e-04 - mean_absolute_error: 0.0134 - val_loss: 0.0019 - val_mean_absolute_error: 0.0196\n",
            "Epoch 122/300\n",
            "\u001b[1m240/240\u001b[0m \u001b[32m━━━━━━━━━━━━━━━━━━━━\u001b[0m\u001b[37m\u001b[0m \u001b[1m1s\u001b[0m 3ms/step - loss: 6.6795e-04 - mean_absolute_error: 0.0132 - val_loss: 0.0019 - val_mean_absolute_error: 0.0197\n",
            "Epoch 123/300\n",
            "\u001b[1m240/240\u001b[0m \u001b[32m━━━━━━━━━━━━━━━━━━━━\u001b[0m\u001b[37m\u001b[0m \u001b[1m1s\u001b[0m 3ms/step - loss: 6.9910e-04 - mean_absolute_error: 0.0134 - val_loss: 0.0020 - val_mean_absolute_error: 0.0198\n",
            "Epoch 124/300\n",
            "\u001b[1m240/240\u001b[0m \u001b[32m━━━━━━━━━━━━━━━━━━━━\u001b[0m\u001b[37m\u001b[0m \u001b[1m1s\u001b[0m 3ms/step - loss: 6.9090e-04 - mean_absolute_error: 0.0133 - val_loss: 0.0019 - val_mean_absolute_error: 0.0193\n",
            "Epoch 125/300\n",
            "\u001b[1m240/240\u001b[0m \u001b[32m━━━━━━━━━━━━━━━━━━━━\u001b[0m\u001b[37m\u001b[0m \u001b[1m1s\u001b[0m 3ms/step - loss: 6.8003e-04 - mean_absolute_error: 0.0133 - val_loss: 0.0019 - val_mean_absolute_error: 0.0195\n",
            "Epoch 126/300\n",
            "\u001b[1m240/240\u001b[0m \u001b[32m━━━━━━━━━━━━━━━━━━━━\u001b[0m\u001b[37m\u001b[0m \u001b[1m1s\u001b[0m 3ms/step - loss: 6.6851e-04 - mean_absolute_error: 0.0132 - val_loss: 0.0019 - val_mean_absolute_error: 0.0197\n",
            "Epoch 127/300\n",
            "\u001b[1m240/240\u001b[0m \u001b[32m━━━━━━━━━━━━━━━━━━━━\u001b[0m\u001b[37m\u001b[0m \u001b[1m1s\u001b[0m 2ms/step - loss: 6.5612e-04 - mean_absolute_error: 0.0131 - val_loss: 0.0020 - val_mean_absolute_error: 0.0203\n",
            "Epoch 128/300\n",
            "\u001b[1m240/240\u001b[0m \u001b[32m━━━━━━━━━━━━━━━━━━━━\u001b[0m\u001b[37m\u001b[0m \u001b[1m1s\u001b[0m 3ms/step - loss: 6.7895e-04 - mean_absolute_error: 0.0133 - val_loss: 0.0020 - val_mean_absolute_error: 0.0200\n",
            "Epoch 129/300\n",
            "\u001b[1m240/240\u001b[0m \u001b[32m━━━━━━━━━━━━━━━━━━━━\u001b[0m\u001b[37m\u001b[0m \u001b[1m1s\u001b[0m 2ms/step - loss: 6.9671e-04 - mean_absolute_error: 0.0134 - val_loss: 0.0019 - val_mean_absolute_error: 0.0194\n",
            "Epoch 130/300\n",
            "\u001b[1m240/240\u001b[0m \u001b[32m━━━━━━━━━━━━━━━━━━━━\u001b[0m\u001b[37m\u001b[0m \u001b[1m1s\u001b[0m 3ms/step - loss: 6.4267e-04 - mean_absolute_error: 0.0129 - val_loss: 0.0019 - val_mean_absolute_error: 0.0193\n",
            "Epoch 131/300\n",
            "\u001b[1m240/240\u001b[0m \u001b[32m━━━━━━━━━━━━━━━━━━━━\u001b[0m\u001b[37m\u001b[0m \u001b[1m1s\u001b[0m 2ms/step - loss: 6.3115e-04 - mean_absolute_error: 0.0129 - val_loss: 0.0019 - val_mean_absolute_error: 0.0197\n",
            "Epoch 132/300\n",
            "\u001b[1m240/240\u001b[0m \u001b[32m━━━━━━━━━━━━━━━━━━━━\u001b[0m\u001b[37m\u001b[0m \u001b[1m1s\u001b[0m 3ms/step - loss: 6.5572e-04 - mean_absolute_error: 0.0131 - val_loss: 0.0019 - val_mean_absolute_error: 0.0196\n",
            "Epoch 133/300\n",
            "\u001b[1m240/240\u001b[0m \u001b[32m━━━━━━━━━━━━━━━━━━━━\u001b[0m\u001b[37m\u001b[0m \u001b[1m1s\u001b[0m 3ms/step - loss: 6.6064e-04 - mean_absolute_error: 0.0131 - val_loss: 0.0019 - val_mean_absolute_error: 0.0197\n",
            "Epoch 134/300\n",
            "\u001b[1m240/240\u001b[0m \u001b[32m━━━━━━━━━━━━━━━━━━━━\u001b[0m\u001b[37m\u001b[0m \u001b[1m1s\u001b[0m 3ms/step - loss: 6.2336e-04 - mean_absolute_error: 0.0128 - val_loss: 0.0020 - val_mean_absolute_error: 0.0200\n",
            "Epoch 135/300\n",
            "\u001b[1m240/240\u001b[0m \u001b[32m━━━━━━━━━━━━━━━━━━━━\u001b[0m\u001b[37m\u001b[0m \u001b[1m1s\u001b[0m 4ms/step - loss: 6.8833e-04 - mean_absolute_error: 0.0134 - val_loss: 0.0019 - val_mean_absolute_error: 0.0195\n",
            "Epoch 136/300\n",
            "\u001b[1m240/240\u001b[0m \u001b[32m━━━━━━━━━━━━━━━━━━━━\u001b[0m\u001b[37m\u001b[0m \u001b[1m1s\u001b[0m 3ms/step - loss: 6.6758e-04 - mean_absolute_error: 0.0131 - val_loss: 0.0019 - val_mean_absolute_error: 0.0197\n",
            "Epoch 137/300\n",
            "\u001b[1m240/240\u001b[0m \u001b[32m━━━━━━━━━━━━━━━━━━━━\u001b[0m\u001b[37m\u001b[0m \u001b[1m1s\u001b[0m 3ms/step - loss: 5.8731e-04 - mean_absolute_error: 0.0124 - val_loss: 0.0020 - val_mean_absolute_error: 0.0203\n",
            "Epoch 138/300\n",
            "\u001b[1m240/240\u001b[0m \u001b[32m━━━━━━━━━━━━━━━━━━━━\u001b[0m\u001b[37m\u001b[0m \u001b[1m1s\u001b[0m 3ms/step - loss: 6.1637e-04 - mean_absolute_error: 0.0128 - val_loss: 0.0021 - val_mean_absolute_error: 0.0200\n",
            "Epoch 139/300\n",
            "\u001b[1m240/240\u001b[0m \u001b[32m━━━━━━━━━━━━━━━━━━━━\u001b[0m\u001b[37m\u001b[0m \u001b[1m1s\u001b[0m 3ms/step - loss: 6.6299e-04 - mean_absolute_error: 0.0131 - val_loss: 0.0019 - val_mean_absolute_error: 0.0194\n",
            "Epoch 140/300\n",
            "\u001b[1m240/240\u001b[0m \u001b[32m━━━━━━━━━━━━━━━━━━━━\u001b[0m\u001b[37m\u001b[0m \u001b[1m1s\u001b[0m 3ms/step - loss: 5.8657e-04 - mean_absolute_error: 0.0125 - val_loss: 0.0019 - val_mean_absolute_error: 0.0194\n",
            "Epoch 141/300\n",
            "\u001b[1m240/240\u001b[0m \u001b[32m━━━━━━━━━━━━━━━━━━━━\u001b[0m\u001b[37m\u001b[0m \u001b[1m1s\u001b[0m 3ms/step - loss: 5.8993e-04 - mean_absolute_error: 0.0124 - val_loss: 0.0019 - val_mean_absolute_error: 0.0196\n",
            "Epoch 142/300\n",
            "\u001b[1m240/240\u001b[0m \u001b[32m━━━━━━━━━━━━━━━━━━━━\u001b[0m\u001b[37m\u001b[0m \u001b[1m1s\u001b[0m 3ms/step - loss: 6.3327e-04 - mean_absolute_error: 0.0128 - val_loss: 0.0019 - val_mean_absolute_error: 0.0196\n",
            "Epoch 143/300\n",
            "\u001b[1m240/240\u001b[0m \u001b[32m━━━━━━━━━━━━━━━━━━━━\u001b[0m\u001b[37m\u001b[0m \u001b[1m1s\u001b[0m 3ms/step - loss: 6.0796e-04 - mean_absolute_error: 0.0126 - val_loss: 0.0019 - val_mean_absolute_error: 0.0193\n",
            "Epoch 144/300\n",
            "\u001b[1m240/240\u001b[0m \u001b[32m━━━━━━━━━━━━━━━━━━━━\u001b[0m\u001b[37m\u001b[0m \u001b[1m1s\u001b[0m 3ms/step - loss: 5.6970e-04 - mean_absolute_error: 0.0123 - val_loss: 0.0021 - val_mean_absolute_error: 0.0203\n",
            "Epoch 145/300\n",
            "\u001b[1m240/240\u001b[0m \u001b[32m━━━━━━━━━━━━━━━━━━━━\u001b[0m\u001b[37m\u001b[0m \u001b[1m1s\u001b[0m 3ms/step - loss: 7.2488e-04 - mean_absolute_error: 0.0137 - val_loss: 0.0019 - val_mean_absolute_error: 0.0193\n",
            "Epoch 146/300\n",
            "\u001b[1m240/240\u001b[0m \u001b[32m━━━━━━━━━━━━━━━━━━━━\u001b[0m\u001b[37m\u001b[0m \u001b[1m1s\u001b[0m 3ms/step - loss: 5.6148e-04 - mean_absolute_error: 0.0122 - val_loss: 0.0020 - val_mean_absolute_error: 0.0197\n",
            "Epoch 147/300\n",
            "\u001b[1m240/240\u001b[0m \u001b[32m━━━━━━━━━━━━━━━━━━━━\u001b[0m\u001b[37m\u001b[0m \u001b[1m1s\u001b[0m 3ms/step - loss: 5.7897e-04 - mean_absolute_error: 0.0123 - val_loss: 0.0019 - val_mean_absolute_error: 0.0192\n",
            "Epoch 148/300\n",
            "\u001b[1m240/240\u001b[0m \u001b[32m━━━━━━━━━━━━━━━━━━━━\u001b[0m\u001b[37m\u001b[0m \u001b[1m1s\u001b[0m 4ms/step - loss: 5.5249e-04 - mean_absolute_error: 0.0121 - val_loss: 0.0020 - val_mean_absolute_error: 0.0199\n",
            "Epoch 149/300\n",
            "\u001b[1m240/240\u001b[0m \u001b[32m━━━━━━━━━━━━━━━━━━━━\u001b[0m\u001b[37m\u001b[0m \u001b[1m1s\u001b[0m 3ms/step - loss: 5.7638e-04 - mean_absolute_error: 0.0123 - val_loss: 0.0019 - val_mean_absolute_error: 0.0194\n",
            "Epoch 150/300\n",
            "\u001b[1m240/240\u001b[0m \u001b[32m━━━━━━━━━━━━━━━━━━━━\u001b[0m\u001b[37m\u001b[0m \u001b[1m1s\u001b[0m 2ms/step - loss: 6.0601e-04 - mean_absolute_error: 0.0126 - val_loss: 0.0019 - val_mean_absolute_error: 0.0192\n",
            "Epoch 151/300\n",
            "\u001b[1m240/240\u001b[0m \u001b[32m━━━━━━━━━━━━━━━━━━━━\u001b[0m\u001b[37m\u001b[0m \u001b[1m1s\u001b[0m 3ms/step - loss: 5.7193e-04 - mean_absolute_error: 0.0123 - val_loss: 0.0020 - val_mean_absolute_error: 0.0200\n",
            "Epoch 152/300\n",
            "\u001b[1m240/240\u001b[0m \u001b[32m━━━━━━━━━━━━━━━━━━━━\u001b[0m\u001b[37m\u001b[0m \u001b[1m1s\u001b[0m 2ms/step - loss: 5.8581e-04 - mean_absolute_error: 0.0125 - val_loss: 0.0019 - val_mean_absolute_error: 0.0194\n",
            "Epoch 153/300\n",
            "\u001b[1m240/240\u001b[0m \u001b[32m━━━━━━━━━━━━━━━━━━━━\u001b[0m\u001b[37m\u001b[0m \u001b[1m1s\u001b[0m 3ms/step - loss: 6.1021e-04 - mean_absolute_error: 0.0126 - val_loss: 0.0019 - val_mean_absolute_error: 0.0191\n",
            "Epoch 154/300\n",
            "\u001b[1m240/240\u001b[0m \u001b[32m━━━━━━━━━━━━━━━━━━━━\u001b[0m\u001b[37m\u001b[0m \u001b[1m1s\u001b[0m 3ms/step - loss: 5.3119e-04 - mean_absolute_error: 0.0119 - val_loss: 0.0021 - val_mean_absolute_error: 0.0204\n",
            "Epoch 155/300\n",
            "\u001b[1m240/240\u001b[0m \u001b[32m━━━━━━━━━━━━━━━━━━━━\u001b[0m\u001b[37m\u001b[0m \u001b[1m1s\u001b[0m 3ms/step - loss: 5.6987e-04 - mean_absolute_error: 0.0122 - val_loss: 0.0018 - val_mean_absolute_error: 0.0191\n",
            "Epoch 156/300\n",
            "\u001b[1m240/240\u001b[0m \u001b[32m━━━━━━━━━━━━━━━━━━━━\u001b[0m\u001b[37m\u001b[0m \u001b[1m1s\u001b[0m 2ms/step - loss: 5.0693e-04 - mean_absolute_error: 0.0118 - val_loss: 0.0018 - val_mean_absolute_error: 0.0191\n",
            "Epoch 157/300\n",
            "\u001b[1m240/240\u001b[0m \u001b[32m━━━━━━━━━━━━━━━━━━━━\u001b[0m\u001b[37m\u001b[0m \u001b[1m1s\u001b[0m 3ms/step - loss: 5.2873e-04 - mean_absolute_error: 0.0118 - val_loss: 0.0020 - val_mean_absolute_error: 0.0204\n",
            "Epoch 158/300\n",
            "\u001b[1m240/240\u001b[0m \u001b[32m━━━━━━━━━━━━━━━━━━━━\u001b[0m\u001b[37m\u001b[0m \u001b[1m1s\u001b[0m 3ms/step - loss: 5.6441e-04 - mean_absolute_error: 0.0123 - val_loss: 0.0019 - val_mean_absolute_error: 0.0193\n",
            "Epoch 159/300\n",
            "\u001b[1m240/240\u001b[0m \u001b[32m━━━━━━━━━━━━━━━━━━━━\u001b[0m\u001b[37m\u001b[0m \u001b[1m1s\u001b[0m 3ms/step - loss: 5.3710e-04 - mean_absolute_error: 0.0120 - val_loss: 0.0019 - val_mean_absolute_error: 0.0194\n",
            "Epoch 160/300\n",
            "\u001b[1m240/240\u001b[0m \u001b[32m━━━━━━━━━━━━━━━━━━━━\u001b[0m\u001b[37m\u001b[0m \u001b[1m1s\u001b[0m 3ms/step - loss: 5.3016e-04 - mean_absolute_error: 0.0119 - val_loss: 0.0018 - val_mean_absolute_error: 0.0188\n",
            "Epoch 161/300\n",
            "\u001b[1m240/240\u001b[0m \u001b[32m━━━━━━━━━━━━━━━━━━━━\u001b[0m\u001b[37m\u001b[0m \u001b[1m1s\u001b[0m 3ms/step - loss: 5.1405e-04 - mean_absolute_error: 0.0117 - val_loss: 0.0019 - val_mean_absolute_error: 0.0194\n",
            "Epoch 162/300\n",
            "\u001b[1m240/240\u001b[0m \u001b[32m━━━━━━━━━━━━━━━━━━━━\u001b[0m\u001b[37m\u001b[0m \u001b[1m1s\u001b[0m 4ms/step - loss: 5.5002e-04 - mean_absolute_error: 0.0121 - val_loss: 0.0020 - val_mean_absolute_error: 0.0199\n",
            "Epoch 163/300\n",
            "\u001b[1m240/240\u001b[0m \u001b[32m━━━━━━━━━━━━━━━━━━━━\u001b[0m\u001b[37m\u001b[0m \u001b[1m1s\u001b[0m 4ms/step - loss: 5.7575e-04 - mean_absolute_error: 0.0124 - val_loss: 0.0018 - val_mean_absolute_error: 0.0190\n",
            "Epoch 164/300\n",
            "\u001b[1m240/240\u001b[0m \u001b[32m━━━━━━━━━━━━━━━━━━━━\u001b[0m\u001b[37m\u001b[0m \u001b[1m1s\u001b[0m 3ms/step - loss: 5.1080e-04 - mean_absolute_error: 0.0117 - val_loss: 0.0019 - val_mean_absolute_error: 0.0194\n",
            "Epoch 165/300\n",
            "\u001b[1m240/240\u001b[0m \u001b[32m━━━━━━━━━━━━━━━━━━━━\u001b[0m\u001b[37m\u001b[0m \u001b[1m1s\u001b[0m 3ms/step - loss: 5.4886e-04 - mean_absolute_error: 0.0121 - val_loss: 0.0018 - val_mean_absolute_error: 0.0188\n",
            "Epoch 166/300\n",
            "\u001b[1m240/240\u001b[0m \u001b[32m━━━━━━━━━━━━━━━━━━━━\u001b[0m\u001b[37m\u001b[0m \u001b[1m1s\u001b[0m 3ms/step - loss: 5.2071e-04 - mean_absolute_error: 0.0118 - val_loss: 0.0018 - val_mean_absolute_error: 0.0191\n",
            "Epoch 167/300\n",
            "\u001b[1m240/240\u001b[0m \u001b[32m━━━━━━━━━━━━━━━━━━━━\u001b[0m\u001b[37m\u001b[0m \u001b[1m1s\u001b[0m 3ms/step - loss: 5.0898e-04 - mean_absolute_error: 0.0117 - val_loss: 0.0019 - val_mean_absolute_error: 0.0192\n",
            "Epoch 168/300\n",
            "\u001b[1m240/240\u001b[0m \u001b[32m━━━━━━━━━━━━━━━━━━━━\u001b[0m\u001b[37m\u001b[0m \u001b[1m1s\u001b[0m 3ms/step - loss: 5.2579e-04 - mean_absolute_error: 0.0118 - val_loss: 0.0018 - val_mean_absolute_error: 0.0192\n",
            "Epoch 169/300\n",
            "\u001b[1m240/240\u001b[0m \u001b[32m━━━━━━━━━━━━━━━━━━━━\u001b[0m\u001b[37m\u001b[0m \u001b[1m1s\u001b[0m 3ms/step - loss: 4.7991e-04 - mean_absolute_error: 0.0114 - val_loss: 0.0019 - val_mean_absolute_error: 0.0191\n",
            "Epoch 170/300\n",
            "\u001b[1m240/240\u001b[0m \u001b[32m━━━━━━━━━━━━━━━━━━━━\u001b[0m\u001b[37m\u001b[0m \u001b[1m1s\u001b[0m 3ms/step - loss: 5.4217e-04 - mean_absolute_error: 0.0121 - val_loss: 0.0019 - val_mean_absolute_error: 0.0194\n",
            "Epoch 171/300\n",
            "\u001b[1m240/240\u001b[0m \u001b[32m━━━━━━━━━━━━━━━━━━━━\u001b[0m\u001b[37m\u001b[0m \u001b[1m1s\u001b[0m 3ms/step - loss: 5.1331e-04 - mean_absolute_error: 0.0117 - val_loss: 0.0019 - val_mean_absolute_error: 0.0195\n",
            "Epoch 172/300\n",
            "\u001b[1m240/240\u001b[0m \u001b[32m━━━━━━━━━━━━━━━━━━━━\u001b[0m\u001b[37m\u001b[0m \u001b[1m1s\u001b[0m 3ms/step - loss: 5.0752e-04 - mean_absolute_error: 0.0117 - val_loss: 0.0019 - val_mean_absolute_error: 0.0192\n",
            "Epoch 173/300\n",
            "\u001b[1m240/240\u001b[0m \u001b[32m━━━━━━━━━━━━━━━━━━━━\u001b[0m\u001b[37m\u001b[0m \u001b[1m1s\u001b[0m 3ms/step - loss: 4.8372e-04 - mean_absolute_error: 0.0113 - val_loss: 0.0018 - val_mean_absolute_error: 0.0192\n",
            "Epoch 174/300\n",
            "\u001b[1m240/240\u001b[0m \u001b[32m━━━━━━━━━━━━━━━━━━━━\u001b[0m\u001b[37m\u001b[0m \u001b[1m1s\u001b[0m 3ms/step - loss: 4.9110e-04 - mean_absolute_error: 0.0115 - val_loss: 0.0019 - val_mean_absolute_error: 0.0189\n",
            "Epoch 175/300\n",
            "\u001b[1m240/240\u001b[0m \u001b[32m━━━━━━━━━━━━━━━━━━━━\u001b[0m\u001b[37m\u001b[0m \u001b[1m1s\u001b[0m 3ms/step - loss: 4.9589e-04 - mean_absolute_error: 0.0115 - val_loss: 0.0019 - val_mean_absolute_error: 0.0193\n",
            "Epoch 176/300\n",
            "\u001b[1m240/240\u001b[0m \u001b[32m━━━━━━━━━━━━━━━━━━━━\u001b[0m\u001b[37m\u001b[0m \u001b[1m1s\u001b[0m 4ms/step - loss: 5.1677e-04 - mean_absolute_error: 0.0118 - val_loss: 0.0018 - val_mean_absolute_error: 0.0191\n",
            "Epoch 177/300\n",
            "\u001b[1m240/240\u001b[0m \u001b[32m━━━━━━━━━━━━━━━━━━━━\u001b[0m\u001b[37m\u001b[0m \u001b[1m1s\u001b[0m 3ms/step - loss: 4.8548e-04 - mean_absolute_error: 0.0114 - val_loss: 0.0019 - val_mean_absolute_error: 0.0191\n",
            "Epoch 178/300\n",
            "\u001b[1m240/240\u001b[0m \u001b[32m━━━━━━━━━━━━━━━━━━━━\u001b[0m\u001b[37m\u001b[0m \u001b[1m1s\u001b[0m 3ms/step - loss: 4.9424e-04 - mean_absolute_error: 0.0115 - val_loss: 0.0019 - val_mean_absolute_error: 0.0197\n",
            "Epoch 179/300\n",
            "\u001b[1m240/240\u001b[0m \u001b[32m━━━━━━━━━━━━━━━━━━━━\u001b[0m\u001b[37m\u001b[0m \u001b[1m1s\u001b[0m 3ms/step - loss: 5.0934e-04 - mean_absolute_error: 0.0117 - val_loss: 0.0018 - val_mean_absolute_error: 0.0191\n",
            "Epoch 180/300\n",
            "\u001b[1m240/240\u001b[0m \u001b[32m━━━━━━━━━━━━━━━━━━━━\u001b[0m\u001b[37m\u001b[0m \u001b[1m1s\u001b[0m 3ms/step - loss: 4.5420e-04 - mean_absolute_error: 0.0112 - val_loss: 0.0019 - val_mean_absolute_error: 0.0193\n",
            "Epoch 181/300\n",
            "\u001b[1m240/240\u001b[0m \u001b[32m━━━━━━━━━━━━━━━━━━━━\u001b[0m\u001b[37m\u001b[0m \u001b[1m1s\u001b[0m 3ms/step - loss: 4.7812e-04 - mean_absolute_error: 0.0114 - val_loss: 0.0018 - val_mean_absolute_error: 0.0188\n",
            "Epoch 182/300\n",
            "\u001b[1m240/240\u001b[0m \u001b[32m━━━━━━━━━━━━━━━━━━━━\u001b[0m\u001b[37m\u001b[0m \u001b[1m1s\u001b[0m 3ms/step - loss: 5.2139e-04 - mean_absolute_error: 0.0117 - val_loss: 0.0018 - val_mean_absolute_error: 0.0185\n",
            "Epoch 183/300\n",
            "\u001b[1m240/240\u001b[0m \u001b[32m━━━━━━━━━━━━━━━━━━━━\u001b[0m\u001b[37m\u001b[0m \u001b[1m1s\u001b[0m 3ms/step - loss: 4.4989e-04 - mean_absolute_error: 0.0110 - val_loss: 0.0018 - val_mean_absolute_error: 0.0189\n",
            "Epoch 184/300\n",
            "\u001b[1m240/240\u001b[0m \u001b[32m━━━━━━━━━━━━━━━━━━━━\u001b[0m\u001b[37m\u001b[0m \u001b[1m1s\u001b[0m 3ms/step - loss: 4.4883e-04 - mean_absolute_error: 0.0110 - val_loss: 0.0018 - val_mean_absolute_error: 0.0191\n",
            "Epoch 185/300\n",
            "\u001b[1m240/240\u001b[0m \u001b[32m━━━━━━━━━━━━━━━━━━━━\u001b[0m\u001b[37m\u001b[0m \u001b[1m1s\u001b[0m 3ms/step - loss: 4.8360e-04 - mean_absolute_error: 0.0114 - val_loss: 0.0018 - val_mean_absolute_error: 0.0191\n",
            "Epoch 186/300\n",
            "\u001b[1m240/240\u001b[0m \u001b[32m━━━━━━━━━━━━━━━━━━━━\u001b[0m\u001b[37m\u001b[0m \u001b[1m1s\u001b[0m 3ms/step - loss: 4.6631e-04 - mean_absolute_error: 0.0113 - val_loss: 0.0018 - val_mean_absolute_error: 0.0188\n",
            "Epoch 187/300\n",
            "\u001b[1m240/240\u001b[0m \u001b[32m━━━━━━━━━━━━━━━━━━━━\u001b[0m\u001b[37m\u001b[0m \u001b[1m1s\u001b[0m 4ms/step - loss: 4.6464e-04 - mean_absolute_error: 0.0111 - val_loss: 0.0019 - val_mean_absolute_error: 0.0193\n",
            "Epoch 188/300\n",
            "\u001b[1m240/240\u001b[0m \u001b[32m━━━━━━━━━━━━━━━━━━━━\u001b[0m\u001b[37m\u001b[0m \u001b[1m1s\u001b[0m 4ms/step - loss: 4.8524e-04 - mean_absolute_error: 0.0115 - val_loss: 0.0018 - val_mean_absolute_error: 0.0186\n",
            "Epoch 189/300\n",
            "\u001b[1m240/240\u001b[0m \u001b[32m━━━━━━━━━━━━━━━━━━━━\u001b[0m\u001b[37m\u001b[0m \u001b[1m1s\u001b[0m 3ms/step - loss: 4.3515e-04 - mean_absolute_error: 0.0109 - val_loss: 0.0019 - val_mean_absolute_error: 0.0192\n",
            "Epoch 190/300\n",
            "\u001b[1m240/240\u001b[0m \u001b[32m━━━━━━━━━━━━━━━━━━━━\u001b[0m\u001b[37m\u001b[0m \u001b[1m1s\u001b[0m 3ms/step - loss: 4.7815e-04 - mean_absolute_error: 0.0114 - val_loss: 0.0019 - val_mean_absolute_error: 0.0191\n",
            "Epoch 191/300\n",
            "\u001b[1m240/240\u001b[0m \u001b[32m━━━━━━━━━━━━━━━━━━━━\u001b[0m\u001b[37m\u001b[0m \u001b[1m1s\u001b[0m 3ms/step - loss: 4.8917e-04 - mean_absolute_error: 0.0114 - val_loss: 0.0018 - val_mean_absolute_error: 0.0188\n",
            "Epoch 192/300\n",
            "\u001b[1m240/240\u001b[0m \u001b[32m━━━━━━━━━━━━━━━━━━━━\u001b[0m\u001b[37m\u001b[0m \u001b[1m1s\u001b[0m 3ms/step - loss: 4.8018e-04 - mean_absolute_error: 0.0114 - val_loss: 0.0019 - val_mean_absolute_error: 0.0192\n",
            "Epoch 193/300\n",
            "\u001b[1m240/240\u001b[0m \u001b[32m━━━━━━━━━━━━━━━━━━━━\u001b[0m\u001b[37m\u001b[0m \u001b[1m1s\u001b[0m 3ms/step - loss: 4.7491e-04 - mean_absolute_error: 0.0113 - val_loss: 0.0018 - val_mean_absolute_error: 0.0188\n",
            "Epoch 194/300\n",
            "\u001b[1m240/240\u001b[0m \u001b[32m━━━━━━━━━━━━━━━━━━━━\u001b[0m\u001b[37m\u001b[0m \u001b[1m1s\u001b[0m 3ms/step - loss: 4.7561e-04 - mean_absolute_error: 0.0113 - val_loss: 0.0018 - val_mean_absolute_error: 0.0185\n",
            "Epoch 195/300\n",
            "\u001b[1m240/240\u001b[0m \u001b[32m━━━━━━━━━━━━━━━━━━━━\u001b[0m\u001b[37m\u001b[0m \u001b[1m1s\u001b[0m 3ms/step - loss: 4.4520e-04 - mean_absolute_error: 0.0110 - val_loss: 0.0019 - val_mean_absolute_error: 0.0192\n",
            "Epoch 196/300\n",
            "\u001b[1m240/240\u001b[0m \u001b[32m━━━━━━━━━━━━━━━━━━━━\u001b[0m\u001b[37m\u001b[0m \u001b[1m1s\u001b[0m 3ms/step - loss: 4.4096e-04 - mean_absolute_error: 0.0109 - val_loss: 0.0019 - val_mean_absolute_error: 0.0191\n",
            "Epoch 197/300\n",
            "\u001b[1m240/240\u001b[0m \u001b[32m━━━━━━━━━━━━━━━━━━━━\u001b[0m\u001b[37m\u001b[0m \u001b[1m1s\u001b[0m 3ms/step - loss: 4.4163e-04 - mean_absolute_error: 0.0109 - val_loss: 0.0018 - val_mean_absolute_error: 0.0189\n",
            "Epoch 198/300\n",
            "\u001b[1m240/240\u001b[0m \u001b[32m━━━━━━━━━━━━━━━━━━━━\u001b[0m\u001b[37m\u001b[0m \u001b[1m1s\u001b[0m 3ms/step - loss: 4.6370e-04 - mean_absolute_error: 0.0112 - val_loss: 0.0019 - val_mean_absolute_error: 0.0195\n",
            "Epoch 199/300\n",
            "\u001b[1m240/240\u001b[0m \u001b[32m━━━━━━━━━━━━━━━━━━━━\u001b[0m\u001b[37m\u001b[0m \u001b[1m1s\u001b[0m 3ms/step - loss: 4.7858e-04 - mean_absolute_error: 0.0113 - val_loss: 0.0018 - val_mean_absolute_error: 0.0185\n",
            "Epoch 200/300\n",
            "\u001b[1m240/240\u001b[0m \u001b[32m━━━━━━━━━━━━━━━━━━━━\u001b[0m\u001b[37m\u001b[0m \u001b[1m1s\u001b[0m 3ms/step - loss: 4.4018e-04 - mean_absolute_error: 0.0109 - val_loss: 0.0018 - val_mean_absolute_error: 0.0191\n",
            "Epoch 201/300\n",
            "\u001b[1m240/240\u001b[0m \u001b[32m━━━━━━━━━━━━━━━━━━━━\u001b[0m\u001b[37m\u001b[0m \u001b[1m1s\u001b[0m 4ms/step - loss: 4.2715e-04 - mean_absolute_error: 0.0109 - val_loss: 0.0018 - val_mean_absolute_error: 0.0187\n",
            "Epoch 202/300\n",
            "\u001b[1m240/240\u001b[0m \u001b[32m━━━━━━━━━━━━━━━━━━━━\u001b[0m\u001b[37m\u001b[0m \u001b[1m1s\u001b[0m 4ms/step - loss: 4.4746e-04 - mean_absolute_error: 0.0109 - val_loss: 0.0018 - val_mean_absolute_error: 0.0187\n",
            "Epoch 203/300\n",
            "\u001b[1m240/240\u001b[0m \u001b[32m━━━━━━━━━━━━━━━━━━━━\u001b[0m\u001b[37m\u001b[0m \u001b[1m1s\u001b[0m 3ms/step - loss: 4.6167e-04 - mean_absolute_error: 0.0112 - val_loss: 0.0018 - val_mean_absolute_error: 0.0190\n",
            "Epoch 204/300\n",
            "\u001b[1m240/240\u001b[0m \u001b[32m━━━━━━━━━━━━━━━━━━━━\u001b[0m\u001b[37m\u001b[0m \u001b[1m1s\u001b[0m 3ms/step - loss: 4.4648e-04 - mean_absolute_error: 0.0110 - val_loss: 0.0018 - val_mean_absolute_error: 0.0186\n",
            "Epoch 205/300\n",
            "\u001b[1m240/240\u001b[0m \u001b[32m━━━━━━━━━━━━━━━━━━━━\u001b[0m\u001b[37m\u001b[0m \u001b[1m1s\u001b[0m 3ms/step - loss: 4.0366e-04 - mean_absolute_error: 0.0105 - val_loss: 0.0018 - val_mean_absolute_error: 0.0187\n",
            "Epoch 206/300\n",
            "\u001b[1m240/240\u001b[0m \u001b[32m━━━━━━━━━━━━━━━━━━━━\u001b[0m\u001b[37m\u001b[0m \u001b[1m1s\u001b[0m 3ms/step - loss: 4.6838e-04 - mean_absolute_error: 0.0112 - val_loss: 0.0018 - val_mean_absolute_error: 0.0188\n",
            "Epoch 207/300\n",
            "\u001b[1m240/240\u001b[0m \u001b[32m━━━━━━━━━━━━━━━━━━━━\u001b[0m\u001b[37m\u001b[0m \u001b[1m1s\u001b[0m 3ms/step - loss: 4.2532e-04 - mean_absolute_error: 0.0107 - val_loss: 0.0018 - val_mean_absolute_error: 0.0190\n",
            "Epoch 208/300\n",
            "\u001b[1m240/240\u001b[0m \u001b[32m━━━━━━━━━━━━━━━━━━━━\u001b[0m\u001b[37m\u001b[0m \u001b[1m1s\u001b[0m 3ms/step - loss: 4.4219e-04 - mean_absolute_error: 0.0109 - val_loss: 0.0019 - val_mean_absolute_error: 0.0193\n",
            "Epoch 209/300\n",
            "\u001b[1m240/240\u001b[0m \u001b[32m━━━━━━━━━━━━━━━━━━━━\u001b[0m\u001b[37m\u001b[0m \u001b[1m1s\u001b[0m 3ms/step - loss: 4.2466e-04 - mean_absolute_error: 0.0108 - val_loss: 0.0018 - val_mean_absolute_error: 0.0185\n",
            "Epoch 210/300\n",
            "\u001b[1m240/240\u001b[0m \u001b[32m━━━━━━━━━━━━━━━━━━━━\u001b[0m\u001b[37m\u001b[0m \u001b[1m1s\u001b[0m 2ms/step - loss: 4.1885e-04 - mean_absolute_error: 0.0107 - val_loss: 0.0018 - val_mean_absolute_error: 0.0190\n",
            "Epoch 211/300\n",
            "\u001b[1m240/240\u001b[0m \u001b[32m━━━━━━━━━━━━━━━━━━━━\u001b[0m\u001b[37m\u001b[0m \u001b[1m1s\u001b[0m 3ms/step - loss: 4.4281e-04 - mean_absolute_error: 0.0110 - val_loss: 0.0019 - val_mean_absolute_error: 0.0191\n",
            "Epoch 212/300\n",
            "\u001b[1m240/240\u001b[0m \u001b[32m━━━━━━━━━━━━━━━━━━━━\u001b[0m\u001b[37m\u001b[0m \u001b[1m1s\u001b[0m 3ms/step - loss: 4.6825e-04 - mean_absolute_error: 0.0112 - val_loss: 0.0018 - val_mean_absolute_error: 0.0190\n",
            "Epoch 213/300\n",
            "\u001b[1m240/240\u001b[0m \u001b[32m━━━━━━━━━━━━━━━━━━━━\u001b[0m\u001b[37m\u001b[0m \u001b[1m1s\u001b[0m 3ms/step - loss: 4.2044e-04 - mean_absolute_error: 0.0107 - val_loss: 0.0020 - val_mean_absolute_error: 0.0197\n",
            "Epoch 214/300\n",
            "\u001b[1m240/240\u001b[0m \u001b[32m━━━━━━━━━━━━━━━━━━━━\u001b[0m\u001b[37m\u001b[0m \u001b[1m1s\u001b[0m 3ms/step - loss: 4.6725e-04 - mean_absolute_error: 0.0112 - val_loss: 0.0018 - val_mean_absolute_error: 0.0187\n",
            "Epoch 215/300\n",
            "\u001b[1m240/240\u001b[0m \u001b[32m━━━━━━━━━━━━━━━━━━━━\u001b[0m\u001b[37m\u001b[0m \u001b[1m1s\u001b[0m 3ms/step - loss: 4.2564e-04 - mean_absolute_error: 0.0108 - val_loss: 0.0018 - val_mean_absolute_error: 0.0186\n",
            "Epoch 216/300\n",
            "\u001b[1m240/240\u001b[0m \u001b[32m━━━━━━━━━━━━━━━━━━━━\u001b[0m\u001b[37m\u001b[0m \u001b[1m1s\u001b[0m 4ms/step - loss: 3.9881e-04 - mean_absolute_error: 0.0105 - val_loss: 0.0018 - val_mean_absolute_error: 0.0188\n",
            "Epoch 217/300\n",
            "\u001b[1m240/240\u001b[0m \u001b[32m━━━━━━━━━━━━━━━━━━━━\u001b[0m\u001b[37m\u001b[0m \u001b[1m1s\u001b[0m 2ms/step - loss: 4.1729e-04 - mean_absolute_error: 0.0107 - val_loss: 0.0018 - val_mean_absolute_error: 0.0188\n",
            "Epoch 218/300\n",
            "\u001b[1m240/240\u001b[0m \u001b[32m━━━━━━━━━━━━━━━━━━━━\u001b[0m\u001b[37m\u001b[0m \u001b[1m1s\u001b[0m 3ms/step - loss: 3.9552e-04 - mean_absolute_error: 0.0104 - val_loss: 0.0018 - val_mean_absolute_error: 0.0188\n",
            "Epoch 219/300\n",
            "\u001b[1m240/240\u001b[0m \u001b[32m━━━━━━━━━━━━━━━━━━━━\u001b[0m\u001b[37m\u001b[0m \u001b[1m1s\u001b[0m 3ms/step - loss: 4.4313e-04 - mean_absolute_error: 0.0109 - val_loss: 0.0018 - val_mean_absolute_error: 0.0188\n",
            "Epoch 220/300\n",
            "\u001b[1m240/240\u001b[0m \u001b[32m━━━━━━━━━━━━━━━━━━━━\u001b[0m\u001b[37m\u001b[0m \u001b[1m1s\u001b[0m 3ms/step - loss: 3.9790e-04 - mean_absolute_error: 0.0104 - val_loss: 0.0018 - val_mean_absolute_error: 0.0186\n",
            "Epoch 221/300\n",
            "\u001b[1m240/240\u001b[0m \u001b[32m━━━━━━━━━━━━━━━━━━━━\u001b[0m\u001b[37m\u001b[0m \u001b[1m1s\u001b[0m 3ms/step - loss: 3.8231e-04 - mean_absolute_error: 0.0103 - val_loss: 0.0018 - val_mean_absolute_error: 0.0187\n",
            "Epoch 222/300\n",
            "\u001b[1m240/240\u001b[0m \u001b[32m━━━━━━━━━━━━━━━━━━━━\u001b[0m\u001b[37m\u001b[0m \u001b[1m1s\u001b[0m 3ms/step - loss: 3.9375e-04 - mean_absolute_error: 0.0104 - val_loss: 0.0018 - val_mean_absolute_error: 0.0189\n",
            "Epoch 223/300\n",
            "\u001b[1m240/240\u001b[0m \u001b[32m━━━━━━━━━━━━━━━━━━━━\u001b[0m\u001b[37m\u001b[0m \u001b[1m1s\u001b[0m 3ms/step - loss: 4.2063e-04 - mean_absolute_error: 0.0107 - val_loss: 0.0018 - val_mean_absolute_error: 0.0190\n",
            "Epoch 224/300\n",
            "\u001b[1m240/240\u001b[0m \u001b[32m━━━━━━━━━━━━━━━━━━━━\u001b[0m\u001b[37m\u001b[0m \u001b[1m1s\u001b[0m 3ms/step - loss: 4.2380e-04 - mean_absolute_error: 0.0107 - val_loss: 0.0018 - val_mean_absolute_error: 0.0190\n",
            "Epoch 225/300\n",
            "\u001b[1m240/240\u001b[0m \u001b[32m━━━━━━━━━━━━━━━━━━━━\u001b[0m\u001b[37m\u001b[0m \u001b[1m1s\u001b[0m 3ms/step - loss: 4.1705e-04 - mean_absolute_error: 0.0106 - val_loss: 0.0018 - val_mean_absolute_error: 0.0190\n",
            "Epoch 226/300\n",
            "\u001b[1m240/240\u001b[0m \u001b[32m━━━━━━━━━━━━━━━━━━━━\u001b[0m\u001b[37m\u001b[0m \u001b[1m1s\u001b[0m 3ms/step - loss: 4.0015e-04 - mean_absolute_error: 0.0104 - val_loss: 0.0019 - val_mean_absolute_error: 0.0193\n",
            "Epoch 227/300\n",
            "\u001b[1m240/240\u001b[0m \u001b[32m━━━━━━━━━━━━━━━━━━━━\u001b[0m\u001b[37m\u001b[0m \u001b[1m1s\u001b[0m 3ms/step - loss: 4.0378e-04 - mean_absolute_error: 0.0105 - val_loss: 0.0019 - val_mean_absolute_error: 0.0194\n",
            "Epoch 228/300\n",
            "\u001b[1m240/240\u001b[0m \u001b[32m━━━━━━━━━━━━━━━━━━━━\u001b[0m\u001b[37m\u001b[0m \u001b[1m2s\u001b[0m 4ms/step - loss: 4.3012e-04 - mean_absolute_error: 0.0109 - val_loss: 0.0018 - val_mean_absolute_error: 0.0186\n",
            "Epoch 229/300\n",
            "\u001b[1m240/240\u001b[0m \u001b[32m━━━━━━━━━━━━━━━━━━━━\u001b[0m\u001b[37m\u001b[0m \u001b[1m1s\u001b[0m 4ms/step - loss: 4.0437e-04 - mean_absolute_error: 0.0104 - val_loss: 0.0018 - val_mean_absolute_error: 0.0190\n",
            "Epoch 230/300\n",
            "\u001b[1m240/240\u001b[0m \u001b[32m━━━━━━━━━━━━━━━━━━━━\u001b[0m\u001b[37m\u001b[0m \u001b[1m1s\u001b[0m 3ms/step - loss: 3.7986e-04 - mean_absolute_error: 0.0103 - val_loss: 0.0017 - val_mean_absolute_error: 0.0184\n",
            "Epoch 231/300\n",
            "\u001b[1m240/240\u001b[0m \u001b[32m━━━━━━━━━━━━━━━━━━━━\u001b[0m\u001b[37m\u001b[0m \u001b[1m1s\u001b[0m 3ms/step - loss: 3.8063e-04 - mean_absolute_error: 0.0102 - val_loss: 0.0018 - val_mean_absolute_error: 0.0188\n",
            "Epoch 232/300\n",
            "\u001b[1m240/240\u001b[0m \u001b[32m━━━━━━━━━━━━━━━━━━━━\u001b[0m\u001b[37m\u001b[0m \u001b[1m1s\u001b[0m 3ms/step - loss: 4.1200e-04 - mean_absolute_error: 0.0106 - val_loss: 0.0017 - val_mean_absolute_error: 0.0184\n",
            "Epoch 233/300\n",
            "\u001b[1m240/240\u001b[0m \u001b[32m━━━━━━━━━━━━━━━━━━━━\u001b[0m\u001b[37m\u001b[0m \u001b[1m1s\u001b[0m 3ms/step - loss: 3.7987e-04 - mean_absolute_error: 0.0103 - val_loss: 0.0018 - val_mean_absolute_error: 0.0185\n",
            "Epoch 234/300\n",
            "\u001b[1m240/240\u001b[0m \u001b[32m━━━━━━━━━━━━━━━━━━━━\u001b[0m\u001b[37m\u001b[0m \u001b[1m1s\u001b[0m 3ms/step - loss: 3.5870e-04 - mean_absolute_error: 0.0100 - val_loss: 0.0018 - val_mean_absolute_error: 0.0187\n",
            "Epoch 235/300\n",
            "\u001b[1m240/240\u001b[0m \u001b[32m━━━━━━━━━━━━━━━━━━━━\u001b[0m\u001b[37m\u001b[0m \u001b[1m1s\u001b[0m 3ms/step - loss: 3.8348e-04 - mean_absolute_error: 0.0102 - val_loss: 0.0018 - val_mean_absolute_error: 0.0187\n",
            "Epoch 236/300\n",
            "\u001b[1m240/240\u001b[0m \u001b[32m━━━━━━━━━━━━━━━━━━━━\u001b[0m\u001b[37m\u001b[0m \u001b[1m1s\u001b[0m 3ms/step - loss: 3.8866e-04 - mean_absolute_error: 0.0104 - val_loss: 0.0018 - val_mean_absolute_error: 0.0186\n",
            "Epoch 237/300\n",
            "\u001b[1m240/240\u001b[0m \u001b[32m━━━━━━━━━━━━━━━━━━━━\u001b[0m\u001b[37m\u001b[0m \u001b[1m1s\u001b[0m 3ms/step - loss: 3.8561e-04 - mean_absolute_error: 0.0103 - val_loss: 0.0018 - val_mean_absolute_error: 0.0189\n",
            "Epoch 238/300\n",
            "\u001b[1m240/240\u001b[0m \u001b[32m━━━━━━━━━━━━━━━━━━━━\u001b[0m\u001b[37m\u001b[0m \u001b[1m1s\u001b[0m 3ms/step - loss: 4.0664e-04 - mean_absolute_error: 0.0105 - val_loss: 0.0018 - val_mean_absolute_error: 0.0186\n",
            "Epoch 239/300\n",
            "\u001b[1m240/240\u001b[0m \u001b[32m━━━━━━━━━━━━━━━━━━━━\u001b[0m\u001b[37m\u001b[0m \u001b[1m1s\u001b[0m 3ms/step - loss: 3.7347e-04 - mean_absolute_error: 0.0102 - val_loss: 0.0018 - val_mean_absolute_error: 0.0189\n",
            "Epoch 240/300\n",
            "\u001b[1m240/240\u001b[0m \u001b[32m━━━━━━━━━━━━━━━━━━━━\u001b[0m\u001b[37m\u001b[0m \u001b[1m1s\u001b[0m 4ms/step - loss: 3.8844e-04 - mean_absolute_error: 0.0104 - val_loss: 0.0019 - val_mean_absolute_error: 0.0195\n",
            "Epoch 241/300\n",
            "\u001b[1m240/240\u001b[0m \u001b[32m━━━━━━━━━━━━━━━━━━━━\u001b[0m\u001b[37m\u001b[0m \u001b[1m1s\u001b[0m 3ms/step - loss: 3.9500e-04 - mean_absolute_error: 0.0105 - val_loss: 0.0018 - val_mean_absolute_error: 0.0185\n",
            "Epoch 242/300\n",
            "\u001b[1m240/240\u001b[0m \u001b[32m━━━━━━━━━━━━━━━━━━━━\u001b[0m\u001b[37m\u001b[0m \u001b[1m1s\u001b[0m 3ms/step - loss: 4.0503e-04 - mean_absolute_error: 0.0106 - val_loss: 0.0017 - val_mean_absolute_error: 0.0185\n",
            "Epoch 243/300\n",
            "\u001b[1m240/240\u001b[0m \u001b[32m━━━━━━━━━━━━━━━━━━━━\u001b[0m\u001b[37m\u001b[0m \u001b[1m1s\u001b[0m 3ms/step - loss: 3.7241e-04 - mean_absolute_error: 0.0101 - val_loss: 0.0018 - val_mean_absolute_error: 0.0190\n",
            "Epoch 244/300\n",
            "\u001b[1m240/240\u001b[0m \u001b[32m━━━━━━━━━━━━━━━━━━━━\u001b[0m\u001b[37m\u001b[0m \u001b[1m1s\u001b[0m 3ms/step - loss: 3.9145e-04 - mean_absolute_error: 0.0104 - val_loss: 0.0018 - val_mean_absolute_error: 0.0190\n",
            "Epoch 245/300\n",
            "\u001b[1m240/240\u001b[0m \u001b[32m━━━━━━━━━━━━━━━━━━━━\u001b[0m\u001b[37m\u001b[0m \u001b[1m1s\u001b[0m 3ms/step - loss: 3.7064e-04 - mean_absolute_error: 0.0102 - val_loss: 0.0017 - val_mean_absolute_error: 0.0185\n",
            "Epoch 246/300\n",
            "\u001b[1m240/240\u001b[0m \u001b[32m━━━━━━━━━━━━━━━━━━━━\u001b[0m\u001b[37m\u001b[0m \u001b[1m1s\u001b[0m 3ms/step - loss: 3.9604e-04 - mean_absolute_error: 0.0104 - val_loss: 0.0018 - val_mean_absolute_error: 0.0188\n",
            "Epoch 247/300\n",
            "\u001b[1m240/240\u001b[0m \u001b[32m━━━━━━━━━━━━━━━━━━━━\u001b[0m\u001b[37m\u001b[0m \u001b[1m1s\u001b[0m 3ms/step - loss: 3.4675e-04 - mean_absolute_error: 0.0098 - val_loss: 0.0018 - val_mean_absolute_error: 0.0185\n",
            "Epoch 248/300\n",
            "\u001b[1m240/240\u001b[0m \u001b[32m━━━━━━━━━━━━━━━━━━━━\u001b[0m\u001b[37m\u001b[0m \u001b[1m1s\u001b[0m 3ms/step - loss: 3.3893e-04 - mean_absolute_error: 0.0097 - val_loss: 0.0018 - val_mean_absolute_error: 0.0187\n",
            "Epoch 249/300\n",
            "\u001b[1m240/240\u001b[0m \u001b[32m━━━━━━━━━━━━━━━━━━━━\u001b[0m\u001b[37m\u001b[0m \u001b[1m1s\u001b[0m 3ms/step - loss: 3.7077e-04 - mean_absolute_error: 0.0102 - val_loss: 0.0018 - val_mean_absolute_error: 0.0186\n",
            "Epoch 250/300\n",
            "\u001b[1m240/240\u001b[0m \u001b[32m━━━━━━━━━━━━━━━━━━━━\u001b[0m\u001b[37m\u001b[0m \u001b[1m1s\u001b[0m 3ms/step - loss: 3.8750e-04 - mean_absolute_error: 0.0103 - val_loss: 0.0019 - val_mean_absolute_error: 0.0195\n",
            "Epoch 251/300\n",
            "\u001b[1m240/240\u001b[0m \u001b[32m━━━━━━━━━━━━━━━━━━━━\u001b[0m\u001b[37m\u001b[0m \u001b[1m1s\u001b[0m 3ms/step - loss: 4.2767e-04 - mean_absolute_error: 0.0108 - val_loss: 0.0017 - val_mean_absolute_error: 0.0183\n",
            "Epoch 252/300\n",
            "\u001b[1m240/240\u001b[0m \u001b[32m━━━━━━━━━━━━━━━━━━━━\u001b[0m\u001b[37m\u001b[0m \u001b[1m1s\u001b[0m 3ms/step - loss: 3.1822e-04 - mean_absolute_error: 0.0095 - val_loss: 0.0018 - val_mean_absolute_error: 0.0185\n",
            "Epoch 253/300\n",
            "\u001b[1m240/240\u001b[0m \u001b[32m━━━━━━━━━━━━━━━━━━━━\u001b[0m\u001b[37m\u001b[0m \u001b[1m1s\u001b[0m 4ms/step - loss: 3.5080e-04 - mean_absolute_error: 0.0099 - val_loss: 0.0018 - val_mean_absolute_error: 0.0189\n",
            "Epoch 254/300\n",
            "\u001b[1m240/240\u001b[0m \u001b[32m━━━━━━━━━━━━━━━━━━━━\u001b[0m\u001b[37m\u001b[0m \u001b[1m1s\u001b[0m 3ms/step - loss: 3.6844e-04 - mean_absolute_error: 0.0101 - val_loss: 0.0018 - val_mean_absolute_error: 0.0185\n",
            "Epoch 255/300\n",
            "\u001b[1m240/240\u001b[0m \u001b[32m━━━━━━━━━━━━━━━━━━━━\u001b[0m\u001b[37m\u001b[0m \u001b[1m1s\u001b[0m 3ms/step - loss: 3.6270e-04 - mean_absolute_error: 0.0100 - val_loss: 0.0019 - val_mean_absolute_error: 0.0191\n",
            "Epoch 256/300\n",
            "\u001b[1m240/240\u001b[0m \u001b[32m━━━━━━━━━━━━━━━━━━━━\u001b[0m\u001b[37m\u001b[0m \u001b[1m1s\u001b[0m 3ms/step - loss: 3.6848e-04 - mean_absolute_error: 0.0101 - val_loss: 0.0018 - val_mean_absolute_error: 0.0186\n",
            "Epoch 257/300\n",
            "\u001b[1m240/240\u001b[0m \u001b[32m━━━━━━━━━━━━━━━━━━━━\u001b[0m\u001b[37m\u001b[0m \u001b[1m1s\u001b[0m 4ms/step - loss: 3.5543e-04 - mean_absolute_error: 0.0099 - val_loss: 0.0017 - val_mean_absolute_error: 0.0183\n",
            "Epoch 258/300\n",
            "\u001b[1m240/240\u001b[0m \u001b[32m━━━━━━━━━━━━━━━━━━━━\u001b[0m\u001b[37m\u001b[0m \u001b[1m1s\u001b[0m 4ms/step - loss: 3.4817e-04 - mean_absolute_error: 0.0098 - val_loss: 0.0018 - val_mean_absolute_error: 0.0188\n",
            "Epoch 259/300\n",
            "\u001b[1m240/240\u001b[0m \u001b[32m━━━━━━━━━━━━━━━━━━━━\u001b[0m\u001b[37m\u001b[0m \u001b[1m1s\u001b[0m 3ms/step - loss: 3.4682e-04 - mean_absolute_error: 0.0098 - val_loss: 0.0018 - val_mean_absolute_error: 0.0186\n",
            "Epoch 260/300\n",
            "\u001b[1m240/240\u001b[0m \u001b[32m━━━━━━━━━━━━━━━━━━━━\u001b[0m\u001b[37m\u001b[0m \u001b[1m1s\u001b[0m 3ms/step - loss: 3.3007e-04 - mean_absolute_error: 0.0096 - val_loss: 0.0018 - val_mean_absolute_error: 0.0187\n",
            "Epoch 261/300\n",
            "\u001b[1m240/240\u001b[0m \u001b[32m━━━━━━━━━━━━━━━━━━━━\u001b[0m\u001b[37m\u001b[0m \u001b[1m1s\u001b[0m 3ms/step - loss: 3.9375e-04 - mean_absolute_error: 0.0104 - val_loss: 0.0018 - val_mean_absolute_error: 0.0186\n",
            "Epoch 262/300\n",
            "\u001b[1m240/240\u001b[0m \u001b[32m━━━━━━━━━━━━━━━━━━━━\u001b[0m\u001b[37m\u001b[0m \u001b[1m1s\u001b[0m 3ms/step - loss: 3.6454e-04 - mean_absolute_error: 0.0100 - val_loss: 0.0018 - val_mean_absolute_error: 0.0186\n",
            "Epoch 263/300\n",
            "\u001b[1m240/240\u001b[0m \u001b[32m━━━━━━━━━━━━━━━━━━━━\u001b[0m\u001b[37m\u001b[0m \u001b[1m1s\u001b[0m 3ms/step - loss: 3.5622e-04 - mean_absolute_error: 0.0099 - val_loss: 0.0018 - val_mean_absolute_error: 0.0187\n",
            "Epoch 264/300\n",
            "\u001b[1m240/240\u001b[0m \u001b[32m━━━━━━━━━━━━━━━━━━━━\u001b[0m\u001b[37m\u001b[0m \u001b[1m1s\u001b[0m 4ms/step - loss: 3.5966e-04 - mean_absolute_error: 0.0100 - val_loss: 0.0017 - val_mean_absolute_error: 0.0186\n",
            "Epoch 265/300\n",
            "\u001b[1m240/240\u001b[0m \u001b[32m━━━━━━━━━━━━━━━━━━━━\u001b[0m\u001b[37m\u001b[0m \u001b[1m1s\u001b[0m 3ms/step - loss: 3.3784e-04 - mean_absolute_error: 0.0098 - val_loss: 0.0019 - val_mean_absolute_error: 0.0194\n",
            "Epoch 266/300\n",
            "\u001b[1m240/240\u001b[0m \u001b[32m━━━━━━━━━━━━━━━━━━━━\u001b[0m\u001b[37m\u001b[0m \u001b[1m1s\u001b[0m 3ms/step - loss: 3.6786e-04 - mean_absolute_error: 0.0102 - val_loss: 0.0017 - val_mean_absolute_error: 0.0183\n",
            "Epoch 267/300\n",
            "\u001b[1m240/240\u001b[0m \u001b[32m━━━━━━━━━━━━━━━━━━━━\u001b[0m\u001b[37m\u001b[0m \u001b[1m1s\u001b[0m 3ms/step - loss: 3.5496e-04 - mean_absolute_error: 0.0099 - val_loss: 0.0018 - val_mean_absolute_error: 0.0187\n",
            "Epoch 268/300\n",
            "\u001b[1m240/240\u001b[0m \u001b[32m━━━━━━━━━━━━━━━━━━━━\u001b[0m\u001b[37m\u001b[0m \u001b[1m1s\u001b[0m 3ms/step - loss: 3.5483e-04 - mean_absolute_error: 0.0100 - val_loss: 0.0018 - val_mean_absolute_error: 0.0185\n",
            "Epoch 269/300\n",
            "\u001b[1m240/240\u001b[0m \u001b[32m━━━━━━━━━━━━━━━━━━━━\u001b[0m\u001b[37m\u001b[0m \u001b[1m1s\u001b[0m 3ms/step - loss: 3.2835e-04 - mean_absolute_error: 0.0095 - val_loss: 0.0017 - val_mean_absolute_error: 0.0183\n",
            "Epoch 270/300\n",
            "\u001b[1m240/240\u001b[0m \u001b[32m━━━━━━━━━━━━━━━━━━━━\u001b[0m\u001b[37m\u001b[0m \u001b[1m1s\u001b[0m 3ms/step - loss: 3.2663e-04 - mean_absolute_error: 0.0095 - val_loss: 0.0018 - val_mean_absolute_error: 0.0186\n",
            "Epoch 271/300\n",
            "\u001b[1m240/240\u001b[0m \u001b[32m━━━━━━━━━━━━━━━━━━━━\u001b[0m\u001b[37m\u001b[0m \u001b[1m1s\u001b[0m 3ms/step - loss: 3.4847e-04 - mean_absolute_error: 0.0098 - val_loss: 0.0018 - val_mean_absolute_error: 0.0184\n",
            "Epoch 272/300\n",
            "\u001b[1m240/240\u001b[0m \u001b[32m━━━━━━━━━━━━━━━━━━━━\u001b[0m\u001b[37m\u001b[0m \u001b[1m1s\u001b[0m 3ms/step - loss: 3.2002e-04 - mean_absolute_error: 0.0095 - val_loss: 0.0018 - val_mean_absolute_error: 0.0185\n",
            "Epoch 273/300\n",
            "\u001b[1m240/240\u001b[0m \u001b[32m━━━━━━━━━━━━━━━━━━━━\u001b[0m\u001b[37m\u001b[0m \u001b[1m1s\u001b[0m 3ms/step - loss: 3.4854e-04 - mean_absolute_error: 0.0098 - val_loss: 0.0017 - val_mean_absolute_error: 0.0182\n",
            "Epoch 274/300\n",
            "\u001b[1m240/240\u001b[0m \u001b[32m━━━━━━━━━━━━━━━━━━━━\u001b[0m\u001b[37m\u001b[0m \u001b[1m1s\u001b[0m 3ms/step - loss: 3.2758e-04 - mean_absolute_error: 0.0095 - val_loss: 0.0017 - val_mean_absolute_error: 0.0183\n",
            "Epoch 275/300\n",
            "\u001b[1m240/240\u001b[0m \u001b[32m━━━━━━━━━━━━━━━━━━━━\u001b[0m\u001b[37m\u001b[0m \u001b[1m1s\u001b[0m 3ms/step - loss: 3.2241e-04 - mean_absolute_error: 0.0095 - val_loss: 0.0018 - val_mean_absolute_error: 0.0188\n",
            "Epoch 276/300\n",
            "\u001b[1m240/240\u001b[0m \u001b[32m━━━━━━━━━━━━━━━━━━━━\u001b[0m\u001b[37m\u001b[0m \u001b[1m1s\u001b[0m 3ms/step - loss: 3.5200e-04 - mean_absolute_error: 0.0099 - val_loss: 0.0018 - val_mean_absolute_error: 0.0186\n",
            "Epoch 277/300\n",
            "\u001b[1m240/240\u001b[0m \u001b[32m━━━━━━━━━━━━━━━━━━━━\u001b[0m\u001b[37m\u001b[0m \u001b[1m1s\u001b[0m 3ms/step - loss: 3.4908e-04 - mean_absolute_error: 0.0099 - val_loss: 0.0018 - val_mean_absolute_error: 0.0185\n",
            "Epoch 278/300\n",
            "\u001b[1m240/240\u001b[0m \u001b[32m━━━━━━━━━━━━━━━━━━━━\u001b[0m\u001b[37m\u001b[0m \u001b[1m1s\u001b[0m 4ms/step - loss: 3.3639e-04 - mean_absolute_error: 0.0097 - val_loss: 0.0018 - val_mean_absolute_error: 0.0187\n",
            "Epoch 279/300\n",
            "\u001b[1m240/240\u001b[0m \u001b[32m━━━━━━━━━━━━━━━━━━━━\u001b[0m\u001b[37m\u001b[0m \u001b[1m1s\u001b[0m 3ms/step - loss: 3.3003e-04 - mean_absolute_error: 0.0096 - val_loss: 0.0017 - val_mean_absolute_error: 0.0182\n",
            "Epoch 280/300\n",
            "\u001b[1m240/240\u001b[0m \u001b[32m━━━━━━━━━━━━━━━━━━━━\u001b[0m\u001b[37m\u001b[0m \u001b[1m1s\u001b[0m 3ms/step - loss: 3.2687e-04 - mean_absolute_error: 0.0096 - val_loss: 0.0018 - val_mean_absolute_error: 0.0188\n",
            "Epoch 281/300\n",
            "\u001b[1m240/240\u001b[0m \u001b[32m━━━━━━━━━━━━━━━━━━━━\u001b[0m\u001b[37m\u001b[0m \u001b[1m1s\u001b[0m 3ms/step - loss: 3.5027e-04 - mean_absolute_error: 0.0099 - val_loss: 0.0018 - val_mean_absolute_error: 0.0189\n",
            "Epoch 282/300\n",
            "\u001b[1m240/240\u001b[0m \u001b[32m━━━━━━━━━━━━━━━━━━━━\u001b[0m\u001b[37m\u001b[0m \u001b[1m1s\u001b[0m 3ms/step - loss: 3.3946e-04 - mean_absolute_error: 0.0098 - val_loss: 0.0019 - val_mean_absolute_error: 0.0193\n",
            "Epoch 283/300\n",
            "\u001b[1m240/240\u001b[0m \u001b[32m━━━━━━━━━━━━━━━━━━━━\u001b[0m\u001b[37m\u001b[0m \u001b[1m1s\u001b[0m 3ms/step - loss: 3.7011e-04 - mean_absolute_error: 0.0102 - val_loss: 0.0018 - val_mean_absolute_error: 0.0187\n",
            "Epoch 284/300\n",
            "\u001b[1m240/240\u001b[0m \u001b[32m━━━━━━━━━━━━━━━━━━━━\u001b[0m\u001b[37m\u001b[0m \u001b[1m1s\u001b[0m 3ms/step - loss: 3.3429e-04 - mean_absolute_error: 0.0097 - val_loss: 0.0018 - val_mean_absolute_error: 0.0192\n",
            "Epoch 285/300\n",
            "\u001b[1m240/240\u001b[0m \u001b[32m━━━━━━━━━━━━━━━━━━━━\u001b[0m\u001b[37m\u001b[0m \u001b[1m1s\u001b[0m 3ms/step - loss: 3.5352e-04 - mean_absolute_error: 0.0099 - val_loss: 0.0018 - val_mean_absolute_error: 0.0190\n",
            "Epoch 286/300\n",
            "\u001b[1m240/240\u001b[0m \u001b[32m━━━━━━━━━━━━━━━━━━━━\u001b[0m\u001b[37m\u001b[0m \u001b[1m1s\u001b[0m 3ms/step - loss: 3.3067e-04 - mean_absolute_error: 0.0097 - val_loss: 0.0018 - val_mean_absolute_error: 0.0187\n",
            "Epoch 287/300\n",
            "\u001b[1m240/240\u001b[0m \u001b[32m━━━━━━━━━━━━━━━━━━━━\u001b[0m\u001b[37m\u001b[0m \u001b[1m1s\u001b[0m 3ms/step - loss: 3.2245e-04 - mean_absolute_error: 0.0096 - val_loss: 0.0018 - val_mean_absolute_error: 0.0186\n",
            "Epoch 288/300\n",
            "\u001b[1m240/240\u001b[0m \u001b[32m━━━━━━━━━━━━━━━━━━━━\u001b[0m\u001b[37m\u001b[0m \u001b[1m1s\u001b[0m 3ms/step - loss: 3.3404e-04 - mean_absolute_error: 0.0096 - val_loss: 0.0018 - val_mean_absolute_error: 0.0187\n",
            "Epoch 289/300\n",
            "\u001b[1m240/240\u001b[0m \u001b[32m━━━━━━━━━━━━━━━━━━━━\u001b[0m\u001b[37m\u001b[0m \u001b[1m1s\u001b[0m 3ms/step - loss: 3.2971e-04 - mean_absolute_error: 0.0096 - val_loss: 0.0017 - val_mean_absolute_error: 0.0185\n",
            "Epoch 290/300\n",
            "\u001b[1m240/240\u001b[0m \u001b[32m━━━━━━━━━━━━━━━━━━━━\u001b[0m\u001b[37m\u001b[0m \u001b[1m1s\u001b[0m 4ms/step - loss: 3.0212e-04 - mean_absolute_error: 0.0092 - val_loss: 0.0019 - val_mean_absolute_error: 0.0191\n",
            "Epoch 291/300\n",
            "\u001b[1m240/240\u001b[0m \u001b[32m━━━━━━━━━━━━━━━━━━━━\u001b[0m\u001b[37m\u001b[0m \u001b[1m1s\u001b[0m 3ms/step - loss: 3.6430e-04 - mean_absolute_error: 0.0101 - val_loss: 0.0018 - val_mean_absolute_error: 0.0185\n",
            "Epoch 292/300\n",
            "\u001b[1m240/240\u001b[0m \u001b[32m━━━━━━━━━━━━━━━━━━━━\u001b[0m\u001b[37m\u001b[0m \u001b[1m1s\u001b[0m 3ms/step - loss: 3.3158e-04 - mean_absolute_error: 0.0096 - val_loss: 0.0018 - val_mean_absolute_error: 0.0185\n",
            "Epoch 293/300\n",
            "\u001b[1m240/240\u001b[0m \u001b[32m━━━━━━━━━━━━━━━━━━━━\u001b[0m\u001b[37m\u001b[0m \u001b[1m1s\u001b[0m 3ms/step - loss: 3.4853e-04 - mean_absolute_error: 0.0098 - val_loss: 0.0018 - val_mean_absolute_error: 0.0185\n",
            "Epoch 294/300\n",
            "\u001b[1m240/240\u001b[0m \u001b[32m━━━━━━━━━━━━━━━━━━━━\u001b[0m\u001b[37m\u001b[0m \u001b[1m1s\u001b[0m 3ms/step - loss: 3.1959e-04 - mean_absolute_error: 0.0095 - val_loss: 0.0018 - val_mean_absolute_error: 0.0187\n",
            "Epoch 295/300\n",
            "\u001b[1m240/240\u001b[0m \u001b[32m━━━━━━━━━━━━━━━━━━━━\u001b[0m\u001b[37m\u001b[0m \u001b[1m1s\u001b[0m 3ms/step - loss: 3.5769e-04 - mean_absolute_error: 0.0100 - val_loss: 0.0017 - val_mean_absolute_error: 0.0186\n",
            "Epoch 296/300\n",
            "\u001b[1m240/240\u001b[0m \u001b[32m━━━━━━━━━━━━━━━━━━━━\u001b[0m\u001b[37m\u001b[0m \u001b[1m1s\u001b[0m 3ms/step - loss: 3.4346e-04 - mean_absolute_error: 0.0098 - val_loss: 0.0018 - val_mean_absolute_error: 0.0189\n",
            "Epoch 297/300\n",
            "\u001b[1m240/240\u001b[0m \u001b[32m━━━━━━━━━━━━━━━━━━━━\u001b[0m\u001b[37m\u001b[0m \u001b[1m1s\u001b[0m 3ms/step - loss: 3.1867e-04 - mean_absolute_error: 0.0095 - val_loss: 0.0018 - val_mean_absolute_error: 0.0185\n",
            "Epoch 298/300\n",
            "\u001b[1m240/240\u001b[0m \u001b[32m━━━━━━━━━━━━━━━━━━━━\u001b[0m\u001b[37m\u001b[0m \u001b[1m1s\u001b[0m 3ms/step - loss: 3.0646e-04 - mean_absolute_error: 0.0093 - val_loss: 0.0017 - val_mean_absolute_error: 0.0186\n",
            "Epoch 299/300\n",
            "\u001b[1m240/240\u001b[0m \u001b[32m━━━━━━━━━━━━━━━━━━━━\u001b[0m\u001b[37m\u001b[0m \u001b[1m1s\u001b[0m 3ms/step - loss: 3.1549e-04 - mean_absolute_error: 0.0094 - val_loss: 0.0017 - val_mean_absolute_error: 0.0188\n",
            "Epoch 300/300\n",
            "\u001b[1m240/240\u001b[0m \u001b[32m━━━━━━━━━━━━━━━━━━━━\u001b[0m\u001b[37m\u001b[0m \u001b[1m1s\u001b[0m 3ms/step - loss: 3.6527e-04 - mean_absolute_error: 0.0101 - val_loss: 0.0017 - val_mean_absolute_error: 0.0186\n"
          ]
        }
      ]
    },
    {
      "cell_type": "code",
      "source": [
        "n_t2, tau_t2, rho_t2 = gen_nvals_taus_rhos(1,2)"
      ],
      "metadata": {
        "colab": {
          "base_uri": "https://localhost:8080/"
        },
        "id": "v_CsxCdtGe_z",
        "outputId": "4bc8aada-fbf4-4fd5-b3ac-843e7041748f"
      },
      "execution_count": null,
      "outputs": [
        {
          "output_type": "stream",
          "name": "stderr",
          "text": [
            "<ipython-input-169-dc7870c07db8>:30: ComplexWarning: Casting complex values to real discards the imaginary part\n",
            "  nvals[i1,index] = np.trace(rho@proj)\n"
          ]
        }
      ]
    },
    {
      "cell_type": "code",
      "source": [
        "tau_nn2 = model2.predict(n_t2)\n",
        "\n",
        "rho_nn2 = reconstruct_matrix(tau_nn2[0])\n",
        "\n",
        "fid2 = fidelity(rho_t2[0], rho_nn2)\n",
        "print(f'Fidelity of adam, MSE model: {100*fid2:.2f}%')"
      ],
      "metadata": {
        "colab": {
          "base_uri": "https://localhost:8080/"
        },
        "id": "6gL3i4xAGx65",
        "outputId": "34a7fb0e-cf4c-41db-bd45-523214c65d3b"
      },
      "execution_count": null,
      "outputs": [
        {
          "output_type": "stream",
          "name": "stdout",
          "text": [
            "\u001b[1m1/1\u001b[0m \u001b[32m━━━━━━━━━━━━━━━━━━━━\u001b[0m\u001b[37m\u001b[0m \u001b[1m0s\u001b[0m 27ms/step\n",
            "Fidelity of adam, MSE model: 99.94%\n"
          ]
        }
      ]
    },
    {
      "cell_type": "code",
      "source": [
        "print(np.min(nvals))\n",
        "print(np.max(nvals))"
      ],
      "metadata": {
        "colab": {
          "base_uri": "https://localhost:8080/"
        },
        "id": "pB3-yvoE8LS5",
        "outputId": "a38c9180-65c3-408a-877f-9c9d7488d35a"
      },
      "execution_count": null,
      "outputs": [
        {
          "output_type": "stream",
          "name": "stdout",
          "text": [
            "0.0\n",
            "1.0\n"
          ]
        }
      ]
    },
    {
      "cell_type": "code",
      "source": [
        "tau_nn = model.predict(nvals_t)"
      ],
      "metadata": {
        "colab": {
          "base_uri": "https://localhost:8080/"
        },
        "id": "-IRq9AXqLmi5",
        "outputId": "c13de403-19fd-4a76-f5e6-3cf29e8694da"
      },
      "execution_count": null,
      "outputs": [
        {
          "output_type": "stream",
          "name": "stdout",
          "text": [
            "\u001b[1m1/1\u001b[0m \u001b[32m━━━━━━━━━━━━━━━━━━━━\u001b[0m\u001b[37m\u001b[0m \u001b[1m0s\u001b[0m 16ms/step\n"
          ]
        }
      ]
    },
    {
      "cell_type": "code",
      "source": [
        "for i in range(len(tau_nn[0])):\n",
        "    print(tau_nn[0,i],test_taus[0,i])"
      ],
      "metadata": {
        "colab": {
          "base_uri": "https://localhost:8080/"
        },
        "id": "WsJDtzLY5jeV",
        "outputId": "bc909d16-fa83-42ff-988f-566dc8cee8a7"
      },
      "execution_count": null,
      "outputs": [
        {
          "output_type": "stream",
          "name": "stdout",
          "text": [
            "0.5371624 0.5257821498076084\n",
            "0.0007096551 0.00016558421698149864\n",
            "0.00016883017 0.000249638919107115\n",
            "-0.0007570129 0.00018187496672064188\n",
            "0.041995242 0.06895731200428411\n",
            "-0.16272397 -0.14827102759802435\n",
            "1.6191218e-05 -5.054292815108513e-05\n",
            "0.0004988355 -3.2483250377041935e-05\n",
            "-1.0312226e-05 8.596593542801998e-05\n",
            "-0.0002111858 -6.833238988607688e-05\n",
            "-0.57886195 -0.5684628810028554\n",
            "0.38354665 0.35977967842484815\n",
            "-0.0012810384 -4.391223745567451e-05\n",
            "0.00030996412 4.423353698029809e-06\n",
            "-0.15800397 -0.16243991687706466\n",
            "0.47313604 0.466728391386248\n"
          ]
        }
      ]
    },
    {
      "cell_type": "code",
      "source": [
        "mse = 0\n",
        "for i in range(len(test_taus[0])):\n",
        "    mse += (test_taus[0,i]-tau_nn[0,i])**2\n",
        "\n",
        "print(mse)"
      ],
      "metadata": {
        "colab": {
          "base_uri": "https://localhost:8080/"
        },
        "id": "Vc0Uc1ApOIa-",
        "outputId": "d3d6c69c-7336-4288-f1fc-3c97d7575872"
      },
      "execution_count": null,
      "outputs": [
        {
          "output_type": "stream",
          "name": "stdout",
          "text": [
            "0.0018022209660357729\n"
          ]
        }
      ]
    },
    {
      "cell_type": "code",
      "source": [
        "print(no_data,d)"
      ],
      "metadata": {
        "colab": {
          "base_uri": "https://localhost:8080/"
        },
        "id": "nA5WJZ75NPRy",
        "outputId": "5387a5a1-b31f-4cdb-ea55-5c52ad6ed5d1"
      },
      "execution_count": null,
      "outputs": [
        {
          "output_type": "stream",
          "name": "stdout",
          "text": [
            "30000 2\n"
          ]
        }
      ]
    },
    {
      "cell_type": "code",
      "source": [
        "nvals,taus,rhos = gen_nvals_taus_rhos(no_data,d)"
      ],
      "metadata": {
        "colab": {
          "base_uri": "https://localhost:8080/"
        },
        "id": "sxjgm_6rLsoS",
        "outputId": "0c751ba5-ee66-4c5e-b06e-5572432477b3"
      },
      "execution_count": null,
      "outputs": [
        {
          "output_type": "stream",
          "name": "stderr",
          "text": [
            "<ipython-input-9-dc7870c07db8>:30: ComplexWarning: Casting complex values to real discards the imaginary part\n",
            "  nvals[i1,index] = np.trace(rho@proj)\n"
          ]
        }
      ]
    },
    {
      "cell_type": "code",
      "source": [
        "tau_tf = tf.convert_to_tensor(taus[5000])\n",
        "tau_tf"
      ],
      "metadata": {
        "colab": {
          "base_uri": "https://localhost:8080/"
        },
        "id": "ZXWaedh6NTIP",
        "outputId": "43c0633d-a285-45fe-a797-f4db46bf10a3"
      },
      "execution_count": null,
      "outputs": [
        {
          "output_type": "execute_result",
          "data": {
            "text/plain": [
              "<tf.Tensor: shape=(16,), dtype=float64, numpy=\n",
              "array([ 1.38336767e-01,  5.98142315e-04,  1.78718113e-04,  2.67300196e-04,\n",
              "       -3.68720976e-01,  3.44640887e-01, -2.70929251e-04, -1.37759379e-04,\n",
              "        1.44805543e-05, -1.12627571e-04,  2.64897651e-01, -7.65324211e-02,\n",
              "       -5.00571700e-04,  7.34407793e-04, -1.23188875e-01, -7.96822193e-01])>"
            ]
          },
          "metadata": {},
          "execution_count": 22
        }
      ]
    },
    {
      "cell_type": "code",
      "source": [
        "rho_tf = tf_reconstruct_t(tau_tf)\n",
        "rho_tf"
      ],
      "metadata": {
        "colab": {
          "base_uri": "https://localhost:8080/",
          "height": 311
        },
        "id": "K0_Aztr2NleU",
        "outputId": "0c0178b6-454a-40e6-c71e-0850f5c8183e"
      },
      "execution_count": null,
      "outputs": [
        {
          "output_type": "error",
          "ename": "TypeError",
          "evalue": "Expected tensor 0.13833676743401946 with dtype tf.float32, but got dtype tf.float64.",
          "traceback": [
            "\u001b[0;31m---------------------------------------------------------------------------\u001b[0m",
            "\u001b[0;31mTypeError\u001b[0m                                 Traceback (most recent call last)",
            "\u001b[0;32m<ipython-input-35-3f255ccc31cb>\u001b[0m in \u001b[0;36m<cell line: 1>\u001b[0;34m()\u001b[0m\n\u001b[0;32m----> 1\u001b[0;31m \u001b[0mrho_tf\u001b[0m \u001b[0;34m=\u001b[0m \u001b[0mtf_reconstruct_t\u001b[0m\u001b[0;34m(\u001b[0m\u001b[0mtau_tf\u001b[0m\u001b[0;34m)\u001b[0m\u001b[0;34m\u001b[0m\u001b[0;34m\u001b[0m\u001b[0m\n\u001b[0m\u001b[1;32m      2\u001b[0m \u001b[0mrho_tf\u001b[0m\u001b[0;34m\u001b[0m\u001b[0;34m\u001b[0m\u001b[0m\n",
            "\u001b[0;32m<ipython-input-33-f3e252a5d270>\u001b[0m in \u001b[0;36mtf_reconstruct_t\u001b[0;34m(taus)\u001b[0m\n\u001b[1;32m      4\u001b[0m     \u001b[0mindex\u001b[0m \u001b[0;34m=\u001b[0m \u001b[0;36m0\u001b[0m\u001b[0;34m\u001b[0m\u001b[0;34m\u001b[0m\u001b[0m\n\u001b[1;32m      5\u001b[0m     \u001b[0;32mfor\u001b[0m \u001b[0mi\u001b[0m \u001b[0;32min\u001b[0m \u001b[0mrange\u001b[0m\u001b[0;34m(\u001b[0m\u001b[0;36m4\u001b[0m\u001b[0;34m)\u001b[0m\u001b[0;34m:\u001b[0m\u001b[0;34m\u001b[0m\u001b[0;34m\u001b[0m\u001b[0m\n\u001b[0;32m----> 6\u001b[0;31m         \u001b[0mtau\u001b[0m \u001b[0;34m=\u001b[0m \u001b[0mtf\u001b[0m\u001b[0;34m.\u001b[0m\u001b[0mconstant\u001b[0m\u001b[0;34m(\u001b[0m\u001b[0mtaus\u001b[0m\u001b[0;34m[\u001b[0m\u001b[0mindex\u001b[0m\u001b[0;34m]\u001b[0m\u001b[0;34m,\u001b[0m \u001b[0mdtype\u001b[0m\u001b[0;34m=\u001b[0m\u001b[0mtf\u001b[0m\u001b[0;34m.\u001b[0m\u001b[0mfloat32\u001b[0m\u001b[0;34m)\u001b[0m\u001b[0;34m\u001b[0m\u001b[0;34m\u001b[0m\u001b[0m\n\u001b[0m\u001b[1;32m      7\u001b[0m         \u001b[0mimag\u001b[0m \u001b[0;34m=\u001b[0m \u001b[0mtf\u001b[0m\u001b[0;34m.\u001b[0m\u001b[0mconstant\u001b[0m\u001b[0;34m(\u001b[0m\u001b[0;36m0.0\u001b[0m\u001b[0;34m,\u001b[0m \u001b[0mdtype\u001b[0m\u001b[0;34m=\u001b[0m\u001b[0mtf\u001b[0m\u001b[0;34m.\u001b[0m\u001b[0mfloat64\u001b[0m\u001b[0;34m)\u001b[0m\u001b[0;34m\u001b[0m\u001b[0;34m\u001b[0m\u001b[0m\n\u001b[1;32m      8\u001b[0m         \u001b[0mmatrix\u001b[0m \u001b[0;34m=\u001b[0m \u001b[0mmatrix\u001b[0m\u001b[0;34m.\u001b[0m\u001b[0mwrite\u001b[0m\u001b[0;34m(\u001b[0m\u001b[0mi\u001b[0m \u001b[0;34m*\u001b[0m \u001b[0;36m4\u001b[0m \u001b[0;34m+\u001b[0m \u001b[0mi\u001b[0m\u001b[0;34m,\u001b[0m \u001b[0mtf\u001b[0m\u001b[0;34m.\u001b[0m\u001b[0mcomplex\u001b[0m\u001b[0;34m(\u001b[0m\u001b[0mtau\u001b[0m\u001b[0;34m,\u001b[0m \u001b[0mimag\u001b[0m\u001b[0;34m)\u001b[0m\u001b[0;34m)\u001b[0m\u001b[0;34m\u001b[0m\u001b[0;34m\u001b[0m\u001b[0m\n",
            "\u001b[0;32m/usr/local/lib/python3.10/dist-packages/tensorflow/python/ops/weak_tensor_ops.py\u001b[0m in \u001b[0;36mwrapper\u001b[0;34m(*args, **kwargs)\u001b[0m\n\u001b[1;32m    140\u001b[0m   \u001b[0;32mdef\u001b[0m \u001b[0mwrapper\u001b[0m\u001b[0;34m(\u001b[0m\u001b[0;34m*\u001b[0m\u001b[0margs\u001b[0m\u001b[0;34m,\u001b[0m \u001b[0;34m**\u001b[0m\u001b[0mkwargs\u001b[0m\u001b[0;34m)\u001b[0m\u001b[0;34m:\u001b[0m\u001b[0;34m\u001b[0m\u001b[0;34m\u001b[0m\u001b[0m\n\u001b[1;32m    141\u001b[0m     \u001b[0;32mif\u001b[0m \u001b[0;32mnot\u001b[0m \u001b[0mops\u001b[0m\u001b[0;34m.\u001b[0m\u001b[0mis_auto_dtype_conversion_enabled\u001b[0m\u001b[0;34m(\u001b[0m\u001b[0;34m)\u001b[0m\u001b[0;34m:\u001b[0m\u001b[0;34m\u001b[0m\u001b[0;34m\u001b[0m\u001b[0m\n\u001b[0;32m--> 142\u001b[0;31m       \u001b[0;32mreturn\u001b[0m \u001b[0mop\u001b[0m\u001b[0;34m(\u001b[0m\u001b[0;34m*\u001b[0m\u001b[0margs\u001b[0m\u001b[0;34m,\u001b[0m \u001b[0;34m**\u001b[0m\u001b[0mkwargs\u001b[0m\u001b[0;34m)\u001b[0m\u001b[0;34m\u001b[0m\u001b[0;34m\u001b[0m\u001b[0m\n\u001b[0m\u001b[1;32m    143\u001b[0m     \u001b[0mbound_arguments\u001b[0m \u001b[0;34m=\u001b[0m \u001b[0msignature\u001b[0m\u001b[0;34m.\u001b[0m\u001b[0mbind\u001b[0m\u001b[0;34m(\u001b[0m\u001b[0;34m*\u001b[0m\u001b[0margs\u001b[0m\u001b[0;34m,\u001b[0m \u001b[0;34m**\u001b[0m\u001b[0mkwargs\u001b[0m\u001b[0;34m)\u001b[0m\u001b[0;34m\u001b[0m\u001b[0;34m\u001b[0m\u001b[0m\n\u001b[1;32m    144\u001b[0m     \u001b[0mbound_arguments\u001b[0m\u001b[0;34m.\u001b[0m\u001b[0mapply_defaults\u001b[0m\u001b[0;34m(\u001b[0m\u001b[0;34m)\u001b[0m\u001b[0;34m\u001b[0m\u001b[0;34m\u001b[0m\u001b[0m\n",
            "\u001b[0;32m/usr/local/lib/python3.10/dist-packages/tensorflow/python/framework/constant_op.py\u001b[0m in \u001b[0;36mconstant\u001b[0;34m(value, dtype, shape, name)\u001b[0m\n\u001b[1;32m    274\u001b[0m     \u001b[0mValueError\u001b[0m\u001b[0;34m:\u001b[0m \u001b[0;32mif\u001b[0m \u001b[0mcalled\u001b[0m \u001b[0mon\u001b[0m \u001b[0ma\u001b[0m \u001b[0msymbolic\u001b[0m \u001b[0mtensor\u001b[0m\u001b[0;34m.\u001b[0m\u001b[0;34m\u001b[0m\u001b[0;34m\u001b[0m\u001b[0m\n\u001b[1;32m    275\u001b[0m   \"\"\"\n\u001b[0;32m--> 276\u001b[0;31m   return _constant_impl(value, dtype, shape, name, verify_shape=False,\n\u001b[0m\u001b[1;32m    277\u001b[0m                         allow_broadcast=True)\n\u001b[1;32m    278\u001b[0m \u001b[0;34m\u001b[0m\u001b[0m\n",
            "\u001b[0;32m/usr/local/lib/python3.10/dist-packages/tensorflow/python/framework/constant_op.py\u001b[0m in \u001b[0;36m_constant_impl\u001b[0;34m(value, dtype, shape, name, verify_shape, allow_broadcast)\u001b[0m\n\u001b[1;32m    287\u001b[0m       \u001b[0;32mwith\u001b[0m \u001b[0mtrace\u001b[0m\u001b[0;34m.\u001b[0m\u001b[0mTrace\u001b[0m\u001b[0;34m(\u001b[0m\u001b[0;34m\"tf.constant\"\u001b[0m\u001b[0;34m)\u001b[0m\u001b[0;34m:\u001b[0m\u001b[0;34m\u001b[0m\u001b[0;34m\u001b[0m\u001b[0m\n\u001b[1;32m    288\u001b[0m         \u001b[0;32mreturn\u001b[0m \u001b[0m_constant_eager_impl\u001b[0m\u001b[0;34m(\u001b[0m\u001b[0mctx\u001b[0m\u001b[0;34m,\u001b[0m \u001b[0mvalue\u001b[0m\u001b[0;34m,\u001b[0m \u001b[0mdtype\u001b[0m\u001b[0;34m,\u001b[0m \u001b[0mshape\u001b[0m\u001b[0;34m,\u001b[0m \u001b[0mverify_shape\u001b[0m\u001b[0;34m)\u001b[0m\u001b[0;34m\u001b[0m\u001b[0;34m\u001b[0m\u001b[0m\n\u001b[0;32m--> 289\u001b[0;31m     \u001b[0;32mreturn\u001b[0m \u001b[0m_constant_eager_impl\u001b[0m\u001b[0;34m(\u001b[0m\u001b[0mctx\u001b[0m\u001b[0;34m,\u001b[0m \u001b[0mvalue\u001b[0m\u001b[0;34m,\u001b[0m \u001b[0mdtype\u001b[0m\u001b[0;34m,\u001b[0m \u001b[0mshape\u001b[0m\u001b[0;34m,\u001b[0m \u001b[0mverify_shape\u001b[0m\u001b[0;34m)\u001b[0m\u001b[0;34m\u001b[0m\u001b[0;34m\u001b[0m\u001b[0m\n\u001b[0m\u001b[1;32m    290\u001b[0m \u001b[0;34m\u001b[0m\u001b[0m\n\u001b[1;32m    291\u001b[0m   const_tensor = ops._create_graph_constant(  # pylint: disable=protected-access\n",
            "\u001b[0;32m/usr/local/lib/python3.10/dist-packages/tensorflow/python/framework/constant_op.py\u001b[0m in \u001b[0;36m_constant_eager_impl\u001b[0;34m(ctx, value, dtype, shape, verify_shape)\u001b[0m\n\u001b[1;32m    299\u001b[0m ) -> ops._EagerTensorBase:\n\u001b[1;32m    300\u001b[0m   \u001b[0;34m\"\"\"Creates a constant on the current device.\"\"\"\u001b[0m\u001b[0;34m\u001b[0m\u001b[0;34m\u001b[0m\u001b[0m\n\u001b[0;32m--> 301\u001b[0;31m   \u001b[0mt\u001b[0m \u001b[0;34m=\u001b[0m \u001b[0mconvert_to_eager_tensor\u001b[0m\u001b[0;34m(\u001b[0m\u001b[0mvalue\u001b[0m\u001b[0;34m,\u001b[0m \u001b[0mctx\u001b[0m\u001b[0;34m,\u001b[0m \u001b[0mdtype\u001b[0m\u001b[0;34m)\u001b[0m\u001b[0;34m\u001b[0m\u001b[0;34m\u001b[0m\u001b[0m\n\u001b[0m\u001b[1;32m    302\u001b[0m   \u001b[0;32mif\u001b[0m \u001b[0mshape\u001b[0m \u001b[0;32mis\u001b[0m \u001b[0;32mNone\u001b[0m\u001b[0;34m:\u001b[0m\u001b[0;34m\u001b[0m\u001b[0;34m\u001b[0m\u001b[0m\n\u001b[1;32m    303\u001b[0m     \u001b[0;32mreturn\u001b[0m \u001b[0mt\u001b[0m\u001b[0;34m\u001b[0m\u001b[0;34m\u001b[0m\u001b[0m\n",
            "\u001b[0;32m/usr/local/lib/python3.10/dist-packages/tensorflow/python/framework/constant_op.py\u001b[0m in \u001b[0;36mconvert_to_eager_tensor\u001b[0;34m(value, ctx, dtype)\u001b[0m\n\u001b[1;32m     97\u001b[0m   \u001b[0;32mif\u001b[0m \u001b[0misinstance\u001b[0m\u001b[0;34m(\u001b[0m\u001b[0mvalue\u001b[0m\u001b[0;34m,\u001b[0m \u001b[0mops\u001b[0m\u001b[0;34m.\u001b[0m\u001b[0mEagerTensor\u001b[0m\u001b[0;34m)\u001b[0m\u001b[0;34m:\u001b[0m\u001b[0;34m\u001b[0m\u001b[0;34m\u001b[0m\u001b[0m\n\u001b[1;32m     98\u001b[0m     \u001b[0;32mif\u001b[0m \u001b[0mdtype\u001b[0m \u001b[0;32mis\u001b[0m \u001b[0;32mnot\u001b[0m \u001b[0;32mNone\u001b[0m \u001b[0;32mand\u001b[0m \u001b[0mvalue\u001b[0m\u001b[0;34m.\u001b[0m\u001b[0mdtype\u001b[0m \u001b[0;34m!=\u001b[0m \u001b[0mdtype\u001b[0m\u001b[0;34m:\u001b[0m\u001b[0;34m\u001b[0m\u001b[0;34m\u001b[0m\u001b[0m\n\u001b[0;32m---> 99\u001b[0;31m       raise TypeError(f\"Expected tensor {value} with dtype {dtype!r}, but got \"\n\u001b[0m\u001b[1;32m    100\u001b[0m                       f\"dtype {value.dtype!r}.\")\n\u001b[1;32m    101\u001b[0m     \u001b[0;32mreturn\u001b[0m \u001b[0mvalue\u001b[0m\u001b[0;34m\u001b[0m\u001b[0;34m\u001b[0m\u001b[0m\n",
            "\u001b[0;31mTypeError\u001b[0m: Expected tensor 0.13833676743401946 with dtype tf.float32, but got dtype tf.float64."
          ]
        }
      ]
    },
    {
      "cell_type": "code",
      "source": [
        "rho_nn"
      ],
      "metadata": {
        "colab": {
          "base_uri": "https://localhost:8080/"
        },
        "id": "FKpBBnWe-chi",
        "outputId": "889b3c3a-d185-4f88-f592-4d16b0d66250"
      },
      "execution_count": null,
      "outputs": [
        {
          "output_type": "execute_result",
          "data": {
            "text/plain": [
              "array([[ 0.27537991+0.j        ,  0.02152914+0.08342153j,\n",
              "        -0.29675745-0.19662776j, -0.08100179-0.24255635j],\n",
              "       [ 0.02152914-0.08342153j,  0.02695472+0.j        ,\n",
              "        -0.08276537+0.07452483j, -0.07981178+0.00557486j],\n",
              "       [-0.29675745+0.19662776j, -0.08276537-0.07452483j,\n",
              "         0.46019164+0.j        ,  0.26048099+0.20354805j],\n",
              "       [-0.08100179+0.24255635j, -0.07981178-0.00557486j,\n",
              "         0.26048099-0.20354805j,  0.23747373+0.j        ]])"
            ]
          },
          "metadata": {},
          "execution_count": 158
        }
      ]
    },
    {
      "cell_type": "code",
      "source": [
        "test_rhos[0]"
      ],
      "metadata": {
        "colab": {
          "base_uri": "https://localhost:8080/"
        },
        "id": "6O22NLNo-emh",
        "outputId": "fdb87bde-2973-42b6-9f63-7f5eb934266a"
      },
      "execution_count": null,
      "outputs": [
        {
          "output_type": "execute_result",
          "data": {
            "text/plain": [
              "array([[ 0.27644687+6.04728294e-18j,  0.03625652+7.79582596e-02j,\n",
              "        -0.29888764-1.89165733e-01j, -0.08540801-2.45397457e-01j],\n",
              "       [ 0.03625652-7.79582596e-02j,  0.02673944-3.84512384e-19j,\n",
              "        -0.09254458+5.94771414e-02j, -0.08040373-8.09920264e-03j],\n",
              "       [-0.29888764+1.89165733e-01j, -0.09254458-5.94771414e-02j,\n",
              "         0.45259153+2.07558995e-19j,  0.26026048+2.06875204e-01j],\n",
              "       [-0.08540801+2.45397457e-01j, -0.08040373+8.09920264e-03j,\n",
              "         0.26026048-2.06875204e-01j,  0.24422217+8.01907437e-19j]])"
            ]
          },
          "metadata": {},
          "execution_count": 159
        }
      ]
    },
    {
      "cell_type": "code",
      "source": [
        "from scipy.linalg import sqrtm"
      ],
      "metadata": {
        "id": "9QxMyTvbM5d5"
      },
      "execution_count": 44,
      "outputs": []
    },
    {
      "cell_type": "code",
      "source": [
        "def fidelity(rho_t, rho_nn):\n",
        "    sqrt_nn = sqrtm(rho_nn)\n",
        "    matrix = sqrt_nn@rho_t@sqrt_nn\n",
        "    tr = np.trace(sqrtm(matrix))\n",
        "    return np.abs(tr)**2"
      ],
      "metadata": {
        "id": "PCzrrPj1NHcx"
      },
      "execution_count": 45,
      "outputs": []
    },
    {
      "cell_type": "code",
      "source": [
        "def fid_taus(tau_t, tau_nn):\n",
        "    rho_t = reconstruct_matrix_t(tau_t)\n",
        "    rho_nn = reconstruct_matrix_nn(tau_nn)\n",
        "    return fidelity(rho_t, rho_nn)"
      ],
      "metadata": {
        "id": "bLf7oi80WhB_"
      },
      "execution_count": 46,
      "outputs": []
    },
    {
      "cell_type": "code",
      "source": [
        "fidelity(test_rhos[0], rho_nn)"
      ],
      "metadata": {
        "colab": {
          "base_uri": "https://localhost:8080/"
        },
        "id": "d3oOMPcvN3Cw",
        "outputId": "b18b3b74-d794-41b0-a8b2-bf8eebac147c"
      },
      "execution_count": null,
      "outputs": [
        {
          "output_type": "execute_result",
          "data": {
            "text/plain": [
              "0.99948127099706151087"
            ]
          },
          "metadata": {},
          "execution_count": 161
        }
      ]
    },
    {
      "cell_type": "code",
      "source": [
        "def fidelity_metric(tau_ts, tau_nns):\n",
        "    fidelities=np.zeros(len(tau_ts))\n",
        "    tau_ts.numpy()\n",
        "    tau_nns.numpy()\n",
        "    for i in range(len(tau_ts)):\n",
        "      tau_t = tau_ts[i]\n",
        "      tau_nn = tau_nns[i]\n",
        "      rho_t = reconstruct_matrix_t(tau_t)\n",
        "      rho_nn = reconstruct_matrix_nn(tau_nn)\n",
        "      fidelity_value = fidelity(rho_t, rho_nn)\n",
        "      fidelities[i] = fidelity_value\n",
        "    return mean(fidelities)"
      ],
      "metadata": {
        "id": "WOAcAoreP77G"
      },
      "execution_count": null,
      "outputs": []
    },
    {
      "cell_type": "code",
      "source": [],
      "metadata": {
        "id": "q5jPZXs4SZin"
      },
      "execution_count": null,
      "outputs": []
    }
  ]
}