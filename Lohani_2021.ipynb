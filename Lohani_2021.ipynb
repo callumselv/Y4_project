{
  "nbformat": 4,
  "nbformat_minor": 0,
  "metadata": {
    "colab": {
      "provenance": [],
      "gpuType": "T4",
      "authorship_tag": "ABX9TyPDW6i2X5EkiX0ym6KXgYCM",
      "include_colab_link": true
    },
    "kernelspec": {
      "name": "python3",
      "display_name": "Python 3"
    },
    "language_info": {
      "name": "python"
    },
    "accelerator": "GPU"
  },
  "cells": [
    {
      "cell_type": "markdown",
      "metadata": {
        "id": "view-in-github",
        "colab_type": "text"
      },
      "source": [
        "<a href=\"https://colab.research.google.com/github/callumselv/Y4_project/blob/main/Lohani_2021.ipynb\" target=\"_parent\"><img src=\"https://colab.research.google.com/assets/colab-badge.svg\" alt=\"Open In Colab\"/></a>"
      ]
    },
    {
      "cell_type": "code",
      "execution_count": 2,
      "metadata": {
        "colab": {
          "base_uri": "https://localhost:8080/"
        },
        "id": "auA_a6z_3c8h",
        "outputId": "cafc04c9-010c-465b-ee1c-7d2e1ead25d9"
      },
      "outputs": [
        {
          "output_type": "stream",
          "name": "stdout",
          "text": [
            "Collecting qutip\n",
            "  Downloading qutip-5.0.4-cp310-cp310-manylinux_2_17_x86_64.manylinux2014_x86_64.whl.metadata (9.2 kB)\n",
            "Requirement already satisfied: numpy>=1.22 in /usr/local/lib/python3.10/dist-packages (from qutip) (1.26.4)\n",
            "Requirement already satisfied: scipy>=1.9 in /usr/local/lib/python3.10/dist-packages (from qutip) (1.13.1)\n",
            "Requirement already satisfied: packaging in /usr/local/lib/python3.10/dist-packages (from qutip) (24.1)\n",
            "Downloading qutip-5.0.4-cp310-cp310-manylinux_2_17_x86_64.manylinux2014_x86_64.whl (28.0 MB)\n",
            "\u001b[2K   \u001b[90m━━━━━━━━━━━━━━━━━━━━━━━━━━━━━━━━━━━━━━━━\u001b[0m \u001b[32m28.0/28.0 MB\u001b[0m \u001b[31m20.2 MB/s\u001b[0m eta \u001b[36m0:00:00\u001b[0m\n",
            "\u001b[?25hInstalling collected packages: qutip\n",
            "Successfully installed qutip-5.0.4\n"
          ]
        }
      ],
      "source": [
        "!pip install qutip"
      ]
    },
    {
      "cell_type": "code",
      "source": [
        "import numpy as np\n",
        "from qutip import *\n",
        "import tensorflow as tf\n",
        "from tensorflow.keras.models import Sequential\n",
        "from tensorflow.keras.layers import Conv2D, MaxPooling2D, Flatten, Dense, Dropout\n",
        "import matplotlib.pyplot as plt\n",
        "from scipy.stats import unitary_group"
      ],
      "metadata": {
        "id": "hwyCpc1z3yiO"
      },
      "execution_count": 3,
      "outputs": []
    },
    {
      "cell_type": "code",
      "source": [
        "no_data = 10000\n",
        "d = 2\n",
        "dimension = 2**d"
      ],
      "metadata": {
        "id": "ye_v83js4iaH"
      },
      "execution_count": 5,
      "outputs": []
    },
    {
      "cell_type": "code",
      "source": [
        "# Generate rho matrices\n",
        "\n",
        "rhos = np.zeros((no_data,dimension,dimension),dtype=complex)\n",
        "eta = 1e-7\n",
        "\n",
        "for i in range(no_data):\n",
        "    random_unitary = unitary_group.rvs(dimension)\n",
        "    coeffs = random_unitary[:,0]\n",
        "    rho = np.outer(coeffs,coeffs.conj())\n",
        "    rhos[i] = (1-eta)*rho + (eta/4)*np.eye(dimension)"
      ],
      "metadata": {
        "id": "ZPjpperK4Ky4"
      },
      "execution_count": 6,
      "outputs": []
    },
    {
      "cell_type": "code",
      "source": [
        "cholesky_decompositions = np.array([np.linalg.cholesky(rho) for rho in rhos])"
      ],
      "metadata": {
        "id": "Nid0Qfqy4qyO"
      },
      "execution_count": 7,
      "outputs": []
    },
    {
      "cell_type": "code",
      "source": [
        "cholesky_decompositions[1000]"
      ],
      "metadata": {
        "colab": {
          "base_uri": "https://localhost:8080/"
        },
        "id": "cA6iR7MGJfiM",
        "outputId": "15dff04d-c234-4792-d387-6dc2537f65d7"
      },
      "execution_count": 17,
      "outputs": [
        {
          "output_type": "execute_result",
          "data": {
            "text/plain": [
              "array([[ 4.91545828e-01+0.00000000e+00j,  0.00000000e+00+0.00000000e+00j,\n",
              "         0.00000000e+00+0.00000000e+00j,  0.00000000e+00+0.00000000e+00j],\n",
              "       [ 4.00641600e-01+2.05830417e-01j,  2.14457131e-04+0.00000000e+00j,\n",
              "         0.00000000e+00+0.00000000e+00j,  0.00000000e+00+0.00000000e+00j],\n",
              "       [-5.92334409e-01-3.66851128e-01j, -1.50928101e-04-1.20885052e-05j,\n",
              "         2.28697950e-04+0.00000000e+00j,  0.00000000e+00+0.00000000e+00j],\n",
              "       [ 1.61215538e-01+2.09934376e-01j,  5.20106684e-05+2.45700384e-05j,\n",
              "        -4.24246679e-05-1.60368105e-05j,  1.63962004e-04+0.00000000e+00j]])"
            ]
          },
          "metadata": {},
          "execution_count": 17
        }
      ]
    },
    {
      "cell_type": "code",
      "source": [
        "all_taus = np.zeros((no_data, dimension**2))\n",
        "for no in range(no_data):\n",
        "    for cholesky in cholesky_decompositions:\n",
        "        extracted_values = []\n",
        "        for i in range(cholesky.shape[0]):\n",
        "            extracted_values.append(cholesky[i, i].real)\n",
        "\n",
        "        primary_indices = [(1, 0), (2, 1), (3, 2)]\n",
        "        for i, j in primary_indices:\n",
        "            extracted_values.append(cholesky[i, j].real)\n",
        "            extracted_values.append(cholesky[i, j].imag)\n",
        "\n",
        "        secondary_indices = [(2, 0), (3, 1), (3, 0)]\n",
        "        for i, j in secondary_indices:\n",
        "            extracted_values.append(cholesky[i, j].real)\n",
        "            extracted_values.append(cholesky[i, j].imag)\n",
        "    all_taus[no] = np.array(extracted_values)\n"
      ],
      "metadata": {
        "id": "zL9DQnZX4yAQ"
      },
      "execution_count": null,
      "outputs": []
    },
    {
      "cell_type": "code",
      "source": [
        "all_taus.shape"
      ],
      "metadata": {
        "colab": {
          "base_uri": "https://localhost:8080/"
        },
        "id": "uPTnOgyHJKK3",
        "outputId": "21633d1d-4914-4dac-f0fd-d4814e84e8c1"
      },
      "execution_count": 18,
      "outputs": [
        {
          "output_type": "execute_result",
          "data": {
            "text/plain": [
              "array([ 5.77218028e-01,  1.66564747e-04,  1.61222272e-04,  2.55012802e-04,\n",
              "       -1.89842567e-01, -2.29616664e-02,  3.66482186e-06,  9.77301446e-06,\n",
              "       -1.97556162e-05,  3.46289058e-05, -2.86126119e-02, -1.17737447e-01,\n",
              "       -6.67272630e-05, -1.07462703e-05,  7.54018743e-01,  2.16856479e-01])"
            ]
          },
          "metadata": {},
          "execution_count": 18
        }
      ]
    },
    {
      "cell_type": "code",
      "source": [
        "# Preallocate array for all extracted values, assuming each extraction yields the same size\n",
        "tau_size = dimension**2  # Assuming this based on `all_taus` shape\n",
        "all_taus = np.zeros((no_data, tau_size))\n",
        "\n",
        "primary_indices = [(1, 0), (2, 1), (3, 2)]\n",
        "secondary_indices = [(2, 0), (3, 1), (3, 0)]\n",
        "\n",
        "for no in range(no_data):\n",
        "    cholesky = cholesky_decompositions[no]\n",
        "    extracted_values = np.zeros(tau_size)\n",
        "\n",
        "    for i in range(cholesky.shape[0]):\n",
        "        extracted_values[i] = cholesky[i, i].real\n",
        "\n",
        "    index = cholesky.shape[0]\n",
        "    for i, j in primary_indices:\n",
        "        extracted_values[index] = cholesky[i, j].real\n",
        "        extracted_values[index + 1] = cholesky[i, j].imag\n",
        "        index += 2\n",
        "\n",
        "    for i, j in secondary_indices:\n",
        "        extracted_values[index] = cholesky[i, j].real\n",
        "        extracted_values[index + 1] = cholesky[i, j].imag\n",
        "        index += 2\n",
        "\n",
        "    all_taus[no] = extracted_values\n"
      ],
      "metadata": {
        "id": "5PAxigIdIFay"
      },
      "execution_count": 38,
      "outputs": []
    },
    {
      "cell_type": "code",
      "source": [
        "all_taus.shape[1]"
      ],
      "metadata": {
        "colab": {
          "base_uri": "https://localhost:8080/"
        },
        "id": "rSdYaU9qJ9iK",
        "outputId": "2221b7c8-dfc6-474d-9927-9bcd059f9968"
      },
      "execution_count": 36,
      "outputs": [
        {
          "output_type": "execute_result",
          "data": {
            "text/plain": [
              "16"
            ]
          },
          "metadata": {},
          "execution_count": 36
        }
      ]
    },
    {
      "cell_type": "code",
      "source": [
        "def reconstruct_matrix(taus):\n",
        "    matrix = np.zeros((4, 4), dtype=np.complex_)\n",
        "\n",
        "    index = 0\n",
        "    for i in range(4):\n",
        "        matrix[i, i] = taus[index]\n",
        "        index += 1\n",
        "\n",
        "    primary_indices = [(1, 0), (2, 1), (3, 2)]\n",
        "    for i, j in primary_indices:\n",
        "        real_part = taus[index]\n",
        "        imag_part = taus[index + 1]\n",
        "        matrix[i, j] = real_part + 1j * imag_part\n",
        "        index += 2\n",
        "\n",
        "    secondary_indices = [(2, 0), (3, 1), (3, 0)]\n",
        "    for i, j in secondary_indices:\n",
        "        real_part = taus[index]\n",
        "        imag_part = taus[index + 1]\n",
        "        matrix[i, j] = real_part + 1j * imag_part\n",
        "        index += 2\n",
        "\n",
        "    return matrix"
      ],
      "metadata": {
        "id": "JxAF5-Wg47FU"
      },
      "execution_count": 29,
      "outputs": []
    },
    {
      "cell_type": "code",
      "source": [
        "# Make 6^d projectors of Pauli {X,Y,Z} operators\n",
        "\n",
        "paulis = [sigmax(),sigmay(),sigmaz()]\n",
        "evectors = np.zeros((6,2,1),dtype=complex)\n",
        "\n",
        "i=0\n",
        "for pauli in paulis:\n",
        "    vals, vecs = pauli.eigenstates()\n",
        "    evectors[i] = vecs[0][:]\n",
        "    evectors[i+1] = vecs[1][:]\n",
        "    i += 2"
      ],
      "metadata": {
        "id": "YFIw1XA_5Q65"
      },
      "execution_count": 30,
      "outputs": []
    },
    {
      "cell_type": "code",
      "source": [
        "projectors = np.zeros((6,2,2), dtype=complex)\n",
        "\n",
        "for i, vectors in enumerate(evectors):\n",
        "    projectors[i] = np.outer(vectors,vectors.conj())"
      ],
      "metadata": {
        "id": "354MYfXh5U0q"
      },
      "execution_count": 31,
      "outputs": []
    },
    {
      "cell_type": "code",
      "source": [
        "pauli_2d = np.zeros((6**2,4,4), dtype=complex)\n",
        "\n",
        "index=0\n",
        "for i in projectors:\n",
        "    for j in projectors:\n",
        "        pauli_2d[index] = np.kron(i,j)\n",
        "        index += 1"
      ],
      "metadata": {
        "id": "1C2q47Mb5XXZ"
      },
      "execution_count": 32,
      "outputs": []
    },
    {
      "cell_type": "code",
      "source": [
        "pauli_2d.shape"
      ],
      "metadata": {
        "colab": {
          "base_uri": "https://localhost:8080/"
        },
        "id": "bKxOthS5LqMD",
        "outputId": "5f38964f-f058-4e6e-de48-5ecdfe691999"
      },
      "execution_count": 42,
      "outputs": [
        {
          "output_type": "execute_result",
          "data": {
            "text/plain": [
              "(36, 4, 4)"
            ]
          },
          "metadata": {},
          "execution_count": 42
        }
      ]
    },
    {
      "cell_type": "code",
      "source": [
        "((rho[0])@pauli_2d).shape"
      ],
      "metadata": {
        "colab": {
          "base_uri": "https://localhost:8080/"
        },
        "id": "6xiLXIs5L5lP",
        "outputId": "cf05a8f7-7353-4f77-c50a-17f0ef2d7d6f"
      },
      "execution_count": 46,
      "outputs": [
        {
          "output_type": "execute_result",
          "data": {
            "text/plain": [
              "(36, 4)"
            ]
          },
          "metadata": {},
          "execution_count": 46
        }
      ]
    },
    {
      "cell_type": "code",
      "source": [
        "nvals = np.zeros((no_data,6**2))\n",
        "\n",
        "for i1,rho in enumerate(rhos):\n",
        "  for index,proj in enumerate(pauli_2d):\n",
        "      nvals[i1,index] = np.trace(rho@proj)"
      ],
      "metadata": {
        "colab": {
          "base_uri": "https://localhost:8080/"
        },
        "id": "tq79GgNQ5Y7o",
        "outputId": "cf94e589-71de-486d-e630-08344425cc11"
      },
      "execution_count": 47,
      "outputs": [
        {
          "output_type": "stream",
          "name": "stderr",
          "text": [
            "<ipython-input-47-09091a42e478>:5: ComplexWarning: Casting complex values to real discards the imaginary part\n",
            "  nvals[i1,index] = np.trace(rho@proj)\n"
          ]
        }
      ]
    },
    {
      "cell_type": "code",
      "source": [
        "def build_cnn_model():\n",
        "    model = Sequential()\n",
        "\n",
        "    model.add(tf.keras.layers.Reshape((6, 6, 1), input_shape=(36,)))\n",
        "\n",
        "    model.add(Conv2D(filters=25, kernel_size=(2, 2), strides=1, activation='relu'))\n",
        "    model.add(MaxPooling2D(pool_size=(2, 2)))\n",
        "\n",
        "    model.add(Conv2D(filters=25, kernel_size=(2, 2), strides=1, activation='relu'))\n",
        "\n",
        "    model.add(Flatten())\n",
        "\n",
        "    model.add(Dense(750, activation='relu'))\n",
        "    model.add(Dropout(0.5))\n",
        "\n",
        "    model.add(Dense(450, activation='relu'))\n",
        "    model.add(Dropout(0.5))\n",
        "\n",
        "    model.add(Dense(tau_size, activation='linear'))\n",
        "\n",
        "    return model\n",
        "\n",
        "model = build_cnn_model()\n",
        "\n",
        "model.compile(\n",
        "    optimizer=tf.keras.optimizers.Adagrad(learning_rate=0.005),\n",
        "    loss='mean_squared_error',\n",
        "    metrics=['mean_absolute_error']\n",
        ")\n",
        "\n",
        "model.summary()\n"
      ],
      "metadata": {
        "colab": {
          "base_uri": "https://localhost:8080/",
          "height": 518
        },
        "id": "EW3oYNRT5ahp",
        "outputId": "41fff831-5c70-4452-a085-3ed8ffff3bc2"
      },
      "execution_count": 53,
      "outputs": [
        {
          "output_type": "stream",
          "name": "stderr",
          "text": [
            "/usr/local/lib/python3.10/dist-packages/keras/src/layers/reshaping/reshape.py:39: UserWarning: Do not pass an `input_shape`/`input_dim` argument to a layer. When using Sequential models, prefer using an `Input(shape)` object as the first layer in the model instead.\n",
            "  super().__init__(**kwargs)\n"
          ]
        },
        {
          "output_type": "display_data",
          "data": {
            "text/plain": [
              "\u001b[1mModel: \"sequential_3\"\u001b[0m\n"
            ],
            "text/html": [
              "<pre style=\"white-space:pre;overflow-x:auto;line-height:normal;font-family:Menlo,'DejaVu Sans Mono',consolas,'Courier New',monospace\"><span style=\"font-weight: bold\">Model: \"sequential_3\"</span>\n",
              "</pre>\n"
            ]
          },
          "metadata": {}
        },
        {
          "output_type": "display_data",
          "data": {
            "text/plain": [
              "┏━━━━━━━━━━━━━━━━━━━━━━━━━━━━━━━━━━━━━━┳━━━━━━━━━━━━━━━━━━━━━━━━━━━━━┳━━━━━━━━━━━━━━━━━┓\n",
              "┃\u001b[1m \u001b[0m\u001b[1mLayer (type)                        \u001b[0m\u001b[1m \u001b[0m┃\u001b[1m \u001b[0m\u001b[1mOutput Shape               \u001b[0m\u001b[1m \u001b[0m┃\u001b[1m \u001b[0m\u001b[1m        Param #\u001b[0m\u001b[1m \u001b[0m┃\n",
              "┡━━━━━━━━━━━━━━━━━━━━━━━━━━━━━━━━━━━━━━╇━━━━━━━━━━━━━━━━━━━━━━━━━━━━━╇━━━━━━━━━━━━━━━━━┩\n",
              "│ reshape_3 (\u001b[38;5;33mReshape\u001b[0m)                  │ (\u001b[38;5;45mNone\u001b[0m, \u001b[38;5;34m6\u001b[0m, \u001b[38;5;34m6\u001b[0m, \u001b[38;5;34m1\u001b[0m)             │               \u001b[38;5;34m0\u001b[0m │\n",
              "├──────────────────────────────────────┼─────────────────────────────┼─────────────────┤\n",
              "│ conv2d_6 (\u001b[38;5;33mConv2D\u001b[0m)                    │ (\u001b[38;5;45mNone\u001b[0m, \u001b[38;5;34m5\u001b[0m, \u001b[38;5;34m5\u001b[0m, \u001b[38;5;34m25\u001b[0m)            │             \u001b[38;5;34m125\u001b[0m │\n",
              "├──────────────────────────────────────┼─────────────────────────────┼─────────────────┤\n",
              "│ max_pooling2d_6 (\u001b[38;5;33mMaxPooling2D\u001b[0m)       │ (\u001b[38;5;45mNone\u001b[0m, \u001b[38;5;34m2\u001b[0m, \u001b[38;5;34m2\u001b[0m, \u001b[38;5;34m25\u001b[0m)            │               \u001b[38;5;34m0\u001b[0m │\n",
              "├──────────────────────────────────────┼─────────────────────────────┼─────────────────┤\n",
              "│ conv2d_7 (\u001b[38;5;33mConv2D\u001b[0m)                    │ (\u001b[38;5;45mNone\u001b[0m, \u001b[38;5;34m1\u001b[0m, \u001b[38;5;34m1\u001b[0m, \u001b[38;5;34m25\u001b[0m)            │           \u001b[38;5;34m2,525\u001b[0m │\n",
              "├──────────────────────────────────────┼─────────────────────────────┼─────────────────┤\n",
              "│ flatten_3 (\u001b[38;5;33mFlatten\u001b[0m)                  │ (\u001b[38;5;45mNone\u001b[0m, \u001b[38;5;34m25\u001b[0m)                  │               \u001b[38;5;34m0\u001b[0m │\n",
              "├──────────────────────────────────────┼─────────────────────────────┼─────────────────┤\n",
              "│ dense_8 (\u001b[38;5;33mDense\u001b[0m)                      │ (\u001b[38;5;45mNone\u001b[0m, \u001b[38;5;34m750\u001b[0m)                 │          \u001b[38;5;34m19,500\u001b[0m │\n",
              "├──────────────────────────────────────┼─────────────────────────────┼─────────────────┤\n",
              "│ dropout_6 (\u001b[38;5;33mDropout\u001b[0m)                  │ (\u001b[38;5;45mNone\u001b[0m, \u001b[38;5;34m750\u001b[0m)                 │               \u001b[38;5;34m0\u001b[0m │\n",
              "├──────────────────────────────────────┼─────────────────────────────┼─────────────────┤\n",
              "│ dense_9 (\u001b[38;5;33mDense\u001b[0m)                      │ (\u001b[38;5;45mNone\u001b[0m, \u001b[38;5;34m450\u001b[0m)                 │         \u001b[38;5;34m337,950\u001b[0m │\n",
              "├──────────────────────────────────────┼─────────────────────────────┼─────────────────┤\n",
              "│ dropout_7 (\u001b[38;5;33mDropout\u001b[0m)                  │ (\u001b[38;5;45mNone\u001b[0m, \u001b[38;5;34m450\u001b[0m)                 │               \u001b[38;5;34m0\u001b[0m │\n",
              "├──────────────────────────────────────┼─────────────────────────────┼─────────────────┤\n",
              "│ dense_10 (\u001b[38;5;33mDense\u001b[0m)                     │ (\u001b[38;5;45mNone\u001b[0m, \u001b[38;5;34m16\u001b[0m)                  │           \u001b[38;5;34m7,216\u001b[0m │\n",
              "└──────────────────────────────────────┴─────────────────────────────┴─────────────────┘\n"
            ],
            "text/html": [
              "<pre style=\"white-space:pre;overflow-x:auto;line-height:normal;font-family:Menlo,'DejaVu Sans Mono',consolas,'Courier New',monospace\">┏━━━━━━━━━━━━━━━━━━━━━━━━━━━━━━━━━━━━━━┳━━━━━━━━━━━━━━━━━━━━━━━━━━━━━┳━━━━━━━━━━━━━━━━━┓\n",
              "┃<span style=\"font-weight: bold\"> Layer (type)                         </span>┃<span style=\"font-weight: bold\"> Output Shape                </span>┃<span style=\"font-weight: bold\">         Param # </span>┃\n",
              "┡━━━━━━━━━━━━━━━━━━━━━━━━━━━━━━━━━━━━━━╇━━━━━━━━━━━━━━━━━━━━━━━━━━━━━╇━━━━━━━━━━━━━━━━━┩\n",
              "│ reshape_3 (<span style=\"color: #0087ff; text-decoration-color: #0087ff\">Reshape</span>)                  │ (<span style=\"color: #00d7ff; text-decoration-color: #00d7ff\">None</span>, <span style=\"color: #00af00; text-decoration-color: #00af00\">6</span>, <span style=\"color: #00af00; text-decoration-color: #00af00\">6</span>, <span style=\"color: #00af00; text-decoration-color: #00af00\">1</span>)             │               <span style=\"color: #00af00; text-decoration-color: #00af00\">0</span> │\n",
              "├──────────────────────────────────────┼─────────────────────────────┼─────────────────┤\n",
              "│ conv2d_6 (<span style=\"color: #0087ff; text-decoration-color: #0087ff\">Conv2D</span>)                    │ (<span style=\"color: #00d7ff; text-decoration-color: #00d7ff\">None</span>, <span style=\"color: #00af00; text-decoration-color: #00af00\">5</span>, <span style=\"color: #00af00; text-decoration-color: #00af00\">5</span>, <span style=\"color: #00af00; text-decoration-color: #00af00\">25</span>)            │             <span style=\"color: #00af00; text-decoration-color: #00af00\">125</span> │\n",
              "├──────────────────────────────────────┼─────────────────────────────┼─────────────────┤\n",
              "│ max_pooling2d_6 (<span style=\"color: #0087ff; text-decoration-color: #0087ff\">MaxPooling2D</span>)       │ (<span style=\"color: #00d7ff; text-decoration-color: #00d7ff\">None</span>, <span style=\"color: #00af00; text-decoration-color: #00af00\">2</span>, <span style=\"color: #00af00; text-decoration-color: #00af00\">2</span>, <span style=\"color: #00af00; text-decoration-color: #00af00\">25</span>)            │               <span style=\"color: #00af00; text-decoration-color: #00af00\">0</span> │\n",
              "├──────────────────────────────────────┼─────────────────────────────┼─────────────────┤\n",
              "│ conv2d_7 (<span style=\"color: #0087ff; text-decoration-color: #0087ff\">Conv2D</span>)                    │ (<span style=\"color: #00d7ff; text-decoration-color: #00d7ff\">None</span>, <span style=\"color: #00af00; text-decoration-color: #00af00\">1</span>, <span style=\"color: #00af00; text-decoration-color: #00af00\">1</span>, <span style=\"color: #00af00; text-decoration-color: #00af00\">25</span>)            │           <span style=\"color: #00af00; text-decoration-color: #00af00\">2,525</span> │\n",
              "├──────────────────────────────────────┼─────────────────────────────┼─────────────────┤\n",
              "│ flatten_3 (<span style=\"color: #0087ff; text-decoration-color: #0087ff\">Flatten</span>)                  │ (<span style=\"color: #00d7ff; text-decoration-color: #00d7ff\">None</span>, <span style=\"color: #00af00; text-decoration-color: #00af00\">25</span>)                  │               <span style=\"color: #00af00; text-decoration-color: #00af00\">0</span> │\n",
              "├──────────────────────────────────────┼─────────────────────────────┼─────────────────┤\n",
              "│ dense_8 (<span style=\"color: #0087ff; text-decoration-color: #0087ff\">Dense</span>)                      │ (<span style=\"color: #00d7ff; text-decoration-color: #00d7ff\">None</span>, <span style=\"color: #00af00; text-decoration-color: #00af00\">750</span>)                 │          <span style=\"color: #00af00; text-decoration-color: #00af00\">19,500</span> │\n",
              "├──────────────────────────────────────┼─────────────────────────────┼─────────────────┤\n",
              "│ dropout_6 (<span style=\"color: #0087ff; text-decoration-color: #0087ff\">Dropout</span>)                  │ (<span style=\"color: #00d7ff; text-decoration-color: #00d7ff\">None</span>, <span style=\"color: #00af00; text-decoration-color: #00af00\">750</span>)                 │               <span style=\"color: #00af00; text-decoration-color: #00af00\">0</span> │\n",
              "├──────────────────────────────────────┼─────────────────────────────┼─────────────────┤\n",
              "│ dense_9 (<span style=\"color: #0087ff; text-decoration-color: #0087ff\">Dense</span>)                      │ (<span style=\"color: #00d7ff; text-decoration-color: #00d7ff\">None</span>, <span style=\"color: #00af00; text-decoration-color: #00af00\">450</span>)                 │         <span style=\"color: #00af00; text-decoration-color: #00af00\">337,950</span> │\n",
              "├──────────────────────────────────────┼─────────────────────────────┼─────────────────┤\n",
              "│ dropout_7 (<span style=\"color: #0087ff; text-decoration-color: #0087ff\">Dropout</span>)                  │ (<span style=\"color: #00d7ff; text-decoration-color: #00d7ff\">None</span>, <span style=\"color: #00af00; text-decoration-color: #00af00\">450</span>)                 │               <span style=\"color: #00af00; text-decoration-color: #00af00\">0</span> │\n",
              "├──────────────────────────────────────┼─────────────────────────────┼─────────────────┤\n",
              "│ dense_10 (<span style=\"color: #0087ff; text-decoration-color: #0087ff\">Dense</span>)                     │ (<span style=\"color: #00d7ff; text-decoration-color: #00d7ff\">None</span>, <span style=\"color: #00af00; text-decoration-color: #00af00\">16</span>)                  │           <span style=\"color: #00af00; text-decoration-color: #00af00\">7,216</span> │\n",
              "└──────────────────────────────────────┴─────────────────────────────┴─────────────────┘\n",
              "</pre>\n"
            ]
          },
          "metadata": {}
        },
        {
          "output_type": "display_data",
          "data": {
            "text/plain": [
              "\u001b[1m Total params: \u001b[0m\u001b[38;5;34m367,316\u001b[0m (1.40 MB)\n"
            ],
            "text/html": [
              "<pre style=\"white-space:pre;overflow-x:auto;line-height:normal;font-family:Menlo,'DejaVu Sans Mono',consolas,'Courier New',monospace\"><span style=\"font-weight: bold\"> Total params: </span><span style=\"color: #00af00; text-decoration-color: #00af00\">367,316</span> (1.40 MB)\n",
              "</pre>\n"
            ]
          },
          "metadata": {}
        },
        {
          "output_type": "display_data",
          "data": {
            "text/plain": [
              "\u001b[1m Trainable params: \u001b[0m\u001b[38;5;34m367,316\u001b[0m (1.40 MB)\n"
            ],
            "text/html": [
              "<pre style=\"white-space:pre;overflow-x:auto;line-height:normal;font-family:Menlo,'DejaVu Sans Mono',consolas,'Courier New',monospace\"><span style=\"font-weight: bold\"> Trainable params: </span><span style=\"color: #00af00; text-decoration-color: #00af00\">367,316</span> (1.40 MB)\n",
              "</pre>\n"
            ]
          },
          "metadata": {}
        },
        {
          "output_type": "display_data",
          "data": {
            "text/plain": [
              "\u001b[1m Non-trainable params: \u001b[0m\u001b[38;5;34m0\u001b[0m (0.00 B)\n"
            ],
            "text/html": [
              "<pre style=\"white-space:pre;overflow-x:auto;line-height:normal;font-family:Menlo,'DejaVu Sans Mono',consolas,'Courier New',monospace\"><span style=\"font-weight: bold\"> Non-trainable params: </span><span style=\"color: #00af00; text-decoration-color: #00af00\">0</span> (0.00 B)\n",
              "</pre>\n"
            ]
          },
          "metadata": {}
        }
      ]
    },
    {
      "cell_type": "code",
      "source": [
        "# `x_train`, `y_train` are probabilities (n values) and labels (tau-vectors)\n",
        "model.fit(nvals, all_taus, epochs=300, batch_size=100, validation_split=0.2)"
      ],
      "metadata": {
        "colab": {
          "base_uri": "https://localhost:8080/"
        },
        "id": "IZhyhrBD9FEa",
        "outputId": "55986230-5327-4cf9-8fcf-fd95e5475556"
      },
      "execution_count": 54,
      "outputs": [
        {
          "output_type": "stream",
          "name": "stdout",
          "text": [
            "Epoch 1/300\n",
            "\u001b[1m80/80\u001b[0m \u001b[32m━━━━━━━━━━━━━━━━━━━━\u001b[0m\u001b[37m\u001b[0m \u001b[1m5s\u001b[0m 7ms/step - loss: 0.0615 - mean_absolute_error: 0.1471 - val_loss: 0.0568 - val_mean_absolute_error: 0.1346\n",
            "Epoch 2/300\n",
            "\u001b[1m80/80\u001b[0m \u001b[32m━━━━━━━━━━━━━━━━━━━━\u001b[0m\u001b[37m\u001b[0m \u001b[1m1s\u001b[0m 3ms/step - loss: 0.0568 - mean_absolute_error: 0.1409 - val_loss: 0.0540 - val_mean_absolute_error: 0.1302\n",
            "Epoch 3/300\n",
            "\u001b[1m80/80\u001b[0m \u001b[32m━━━━━━━━━━━━━━━━━━━━\u001b[0m\u001b[37m\u001b[0m \u001b[1m0s\u001b[0m 3ms/step - loss: 0.0542 - mean_absolute_error: 0.1371 - val_loss: 0.0524 - val_mean_absolute_error: 0.1277\n",
            "Epoch 4/300\n",
            "\u001b[1m80/80\u001b[0m \u001b[32m━━━━━━━━━━━━━━━━━━━━\u001b[0m\u001b[37m\u001b[0m \u001b[1m0s\u001b[0m 3ms/step - loss: 0.0529 - mean_absolute_error: 0.1360 - val_loss: 0.0514 - val_mean_absolute_error: 0.1261\n",
            "Epoch 5/300\n",
            "\u001b[1m80/80\u001b[0m \u001b[32m━━━━━━━━━━━━━━━━━━━━\u001b[0m\u001b[37m\u001b[0m \u001b[1m0s\u001b[0m 4ms/step - loss: 0.0520 - mean_absolute_error: 0.1348 - val_loss: 0.0508 - val_mean_absolute_error: 0.1249\n",
            "Epoch 6/300\n",
            "\u001b[1m80/80\u001b[0m \u001b[32m━━━━━━━━━━━━━━━━━━━━\u001b[0m\u001b[37m\u001b[0m \u001b[1m1s\u001b[0m 4ms/step - loss: 0.0513 - mean_absolute_error: 0.1340 - val_loss: 0.0504 - val_mean_absolute_error: 0.1240\n",
            "Epoch 7/300\n",
            "\u001b[1m80/80\u001b[0m \u001b[32m━━━━━━━━━━━━━━━━━━━━\u001b[0m\u001b[37m\u001b[0m \u001b[1m1s\u001b[0m 4ms/step - loss: 0.0510 - mean_absolute_error: 0.1337 - val_loss: 0.0501 - val_mean_absolute_error: 0.1234\n",
            "Epoch 8/300\n",
            "\u001b[1m80/80\u001b[0m \u001b[32m━━━━━━━━━━━━━━━━━━━━\u001b[0m\u001b[37m\u001b[0m \u001b[1m0s\u001b[0m 4ms/step - loss: 0.0507 - mean_absolute_error: 0.1332 - val_loss: 0.0499 - val_mean_absolute_error: 0.1230\n",
            "Epoch 9/300\n",
            "\u001b[1m80/80\u001b[0m \u001b[32m━━━━━━━━━━━━━━━━━━━━\u001b[0m\u001b[37m\u001b[0m \u001b[1m0s\u001b[0m 3ms/step - loss: 0.0506 - mean_absolute_error: 0.1331 - val_loss: 0.0498 - val_mean_absolute_error: 0.1227\n",
            "Epoch 10/300\n",
            "\u001b[1m80/80\u001b[0m \u001b[32m━━━━━━━━━━━━━━━━━━━━\u001b[0m\u001b[37m\u001b[0m \u001b[1m0s\u001b[0m 3ms/step - loss: 0.0502 - mean_absolute_error: 0.1328 - val_loss: 0.0498 - val_mean_absolute_error: 0.1225\n",
            "Epoch 11/300\n",
            "\u001b[1m80/80\u001b[0m \u001b[32m━━━━━━━━━━━━━━━━━━━━\u001b[0m\u001b[37m\u001b[0m \u001b[1m0s\u001b[0m 3ms/step - loss: 0.0502 - mean_absolute_error: 0.1328 - val_loss: 0.0497 - val_mean_absolute_error: 0.1223\n",
            "Epoch 12/300\n",
            "\u001b[1m80/80\u001b[0m \u001b[32m━━━━━━━━━━━━━━━━━━━━\u001b[0m\u001b[37m\u001b[0m \u001b[1m0s\u001b[0m 3ms/step - loss: 0.0503 - mean_absolute_error: 0.1328 - val_loss: 0.0497 - val_mean_absolute_error: 0.1222\n",
            "Epoch 13/300\n",
            "\u001b[1m80/80\u001b[0m \u001b[32m━━━━━━━━━━━━━━━━━━━━\u001b[0m\u001b[37m\u001b[0m \u001b[1m0s\u001b[0m 3ms/step - loss: 0.0501 - mean_absolute_error: 0.1322 - val_loss: 0.0496 - val_mean_absolute_error: 0.1220\n",
            "Epoch 14/300\n",
            "\u001b[1m80/80\u001b[0m \u001b[32m━━━━━━━━━━━━━━━━━━━━\u001b[0m\u001b[37m\u001b[0m \u001b[1m0s\u001b[0m 3ms/step - loss: 0.0498 - mean_absolute_error: 0.1319 - val_loss: 0.0496 - val_mean_absolute_error: 0.1220\n",
            "Epoch 15/300\n",
            "\u001b[1m80/80\u001b[0m \u001b[32m━━━━━━━━━━━━━━━━━━━━\u001b[0m\u001b[37m\u001b[0m \u001b[1m0s\u001b[0m 3ms/step - loss: 0.0500 - mean_absolute_error: 0.1321 - val_loss: 0.0496 - val_mean_absolute_error: 0.1219\n",
            "Epoch 16/300\n",
            "\u001b[1m80/80\u001b[0m \u001b[32m━━━━━━━━━━━━━━━━━━━━\u001b[0m\u001b[37m\u001b[0m \u001b[1m0s\u001b[0m 3ms/step - loss: 0.0501 - mean_absolute_error: 0.1318 - val_loss: 0.0495 - val_mean_absolute_error: 0.1218\n",
            "Epoch 17/300\n",
            "\u001b[1m80/80\u001b[0m \u001b[32m━━━━━━━━━━━━━━━━━━━━\u001b[0m\u001b[37m\u001b[0m \u001b[1m0s\u001b[0m 3ms/step - loss: 0.0500 - mean_absolute_error: 0.1315 - val_loss: 0.0495 - val_mean_absolute_error: 0.1218\n",
            "Epoch 18/300\n",
            "\u001b[1m80/80\u001b[0m \u001b[32m━━━━━━━━━━━━━━━━━━━━\u001b[0m\u001b[37m\u001b[0m \u001b[1m0s\u001b[0m 3ms/step - loss: 0.0499 - mean_absolute_error: 0.1317 - val_loss: 0.0495 - val_mean_absolute_error: 0.1217\n",
            "Epoch 19/300\n",
            "\u001b[1m80/80\u001b[0m \u001b[32m━━━━━━━━━━━━━━━━━━━━\u001b[0m\u001b[37m\u001b[0m \u001b[1m0s\u001b[0m 3ms/step - loss: 0.0500 - mean_absolute_error: 0.1313 - val_loss: 0.0495 - val_mean_absolute_error: 0.1217\n",
            "Epoch 20/300\n",
            "\u001b[1m80/80\u001b[0m \u001b[32m━━━━━━━━━━━━━━━━━━━━\u001b[0m\u001b[37m\u001b[0m \u001b[1m0s\u001b[0m 3ms/step - loss: 0.0498 - mean_absolute_error: 0.1311 - val_loss: 0.0494 - val_mean_absolute_error: 0.1217\n",
            "Epoch 21/300\n",
            "\u001b[1m80/80\u001b[0m \u001b[32m━━━━━━━━━━━━━━━━━━━━\u001b[0m\u001b[37m\u001b[0m \u001b[1m0s\u001b[0m 3ms/step - loss: 0.0497 - mean_absolute_error: 0.1307 - val_loss: 0.0494 - val_mean_absolute_error: 0.1216\n",
            "Epoch 22/300\n",
            "\u001b[1m80/80\u001b[0m \u001b[32m━━━━━━━━━━━━━━━━━━━━\u001b[0m\u001b[37m\u001b[0m \u001b[1m0s\u001b[0m 2ms/step - loss: 0.0498 - mean_absolute_error: 0.1306 - val_loss: 0.0494 - val_mean_absolute_error: 0.1216\n",
            "Epoch 23/300\n",
            "\u001b[1m80/80\u001b[0m \u001b[32m━━━━━━━━━━━━━━━━━━━━\u001b[0m\u001b[37m\u001b[0m \u001b[1m0s\u001b[0m 3ms/step - loss: 0.0497 - mean_absolute_error: 0.1307 - val_loss: 0.0494 - val_mean_absolute_error: 0.1215\n",
            "Epoch 24/300\n",
            "\u001b[1m80/80\u001b[0m \u001b[32m━━━━━━━━━━━━━━━━━━━━\u001b[0m\u001b[37m\u001b[0m \u001b[1m0s\u001b[0m 3ms/step - loss: 0.0496 - mean_absolute_error: 0.1302 - val_loss: 0.0493 - val_mean_absolute_error: 0.1215\n",
            "Epoch 25/300\n",
            "\u001b[1m80/80\u001b[0m \u001b[32m━━━━━━━━━━━━━━━━━━━━\u001b[0m\u001b[37m\u001b[0m \u001b[1m0s\u001b[0m 3ms/step - loss: 0.0498 - mean_absolute_error: 0.1305 - val_loss: 0.0493 - val_mean_absolute_error: 0.1214\n",
            "Epoch 26/300\n",
            "\u001b[1m80/80\u001b[0m \u001b[32m━━━━━━━━━━━━━━━━━━━━\u001b[0m\u001b[37m\u001b[0m \u001b[1m0s\u001b[0m 3ms/step - loss: 0.0498 - mean_absolute_error: 0.1301 - val_loss: 0.0493 - val_mean_absolute_error: 0.1214\n",
            "Epoch 27/300\n",
            "\u001b[1m80/80\u001b[0m \u001b[32m━━━━━━━━━━━━━━━━━━━━\u001b[0m\u001b[37m\u001b[0m \u001b[1m0s\u001b[0m 3ms/step - loss: 0.0495 - mean_absolute_error: 0.1301 - val_loss: 0.0493 - val_mean_absolute_error: 0.1214\n",
            "Epoch 28/300\n",
            "\u001b[1m80/80\u001b[0m \u001b[32m━━━━━━━━━━━━━━━━━━━━\u001b[0m\u001b[37m\u001b[0m \u001b[1m0s\u001b[0m 3ms/step - loss: 0.0497 - mean_absolute_error: 0.1301 - val_loss: 0.0492 - val_mean_absolute_error: 0.1213\n",
            "Epoch 29/300\n",
            "\u001b[1m80/80\u001b[0m \u001b[32m━━━━━━━━━━━━━━━━━━━━\u001b[0m\u001b[37m\u001b[0m \u001b[1m0s\u001b[0m 3ms/step - loss: 0.0496 - mean_absolute_error: 0.1299 - val_loss: 0.0492 - val_mean_absolute_error: 0.1213\n",
            "Epoch 30/300\n",
            "\u001b[1m80/80\u001b[0m \u001b[32m━━━━━━━━━━━━━━━━━━━━\u001b[0m\u001b[37m\u001b[0m \u001b[1m0s\u001b[0m 3ms/step - loss: 0.0495 - mean_absolute_error: 0.1299 - val_loss: 0.0492 - val_mean_absolute_error: 0.1213\n",
            "Epoch 31/300\n",
            "\u001b[1m80/80\u001b[0m \u001b[32m━━━━━━━━━━━━━━━━━━━━\u001b[0m\u001b[37m\u001b[0m \u001b[1m0s\u001b[0m 3ms/step - loss: 0.0496 - mean_absolute_error: 0.1298 - val_loss: 0.0492 - val_mean_absolute_error: 0.1212\n",
            "Epoch 32/300\n",
            "\u001b[1m80/80\u001b[0m \u001b[32m━━━━━━━━━━━━━━━━━━━━\u001b[0m\u001b[37m\u001b[0m \u001b[1m0s\u001b[0m 3ms/step - loss: 0.0495 - mean_absolute_error: 0.1295 - val_loss: 0.0491 - val_mean_absolute_error: 0.1212\n",
            "Epoch 33/300\n",
            "\u001b[1m80/80\u001b[0m \u001b[32m━━━━━━━━━━━━━━━━━━━━\u001b[0m\u001b[37m\u001b[0m \u001b[1m0s\u001b[0m 3ms/step - loss: 0.0494 - mean_absolute_error: 0.1296 - val_loss: 0.0491 - val_mean_absolute_error: 0.1212\n",
            "Epoch 34/300\n",
            "\u001b[1m80/80\u001b[0m \u001b[32m━━━━━━━━━━━━━━━━━━━━\u001b[0m\u001b[37m\u001b[0m \u001b[1m0s\u001b[0m 3ms/step - loss: 0.0492 - mean_absolute_error: 0.1289 - val_loss: 0.0491 - val_mean_absolute_error: 0.1211\n",
            "Epoch 35/300\n",
            "\u001b[1m80/80\u001b[0m \u001b[32m━━━━━━━━━━━━━━━━━━━━\u001b[0m\u001b[37m\u001b[0m \u001b[1m0s\u001b[0m 3ms/step - loss: 0.0491 - mean_absolute_error: 0.1290 - val_loss: 0.0491 - val_mean_absolute_error: 0.1211\n",
            "Epoch 36/300\n",
            "\u001b[1m80/80\u001b[0m \u001b[32m━━━━━━━━━━━━━━━━━━━━\u001b[0m\u001b[37m\u001b[0m \u001b[1m0s\u001b[0m 3ms/step - loss: 0.0493 - mean_absolute_error: 0.1291 - val_loss: 0.0490 - val_mean_absolute_error: 0.1210\n",
            "Epoch 37/300\n",
            "\u001b[1m80/80\u001b[0m \u001b[32m━━━━━━━━━━━━━━━━━━━━\u001b[0m\u001b[37m\u001b[0m \u001b[1m0s\u001b[0m 3ms/step - loss: 0.0492 - mean_absolute_error: 0.1292 - val_loss: 0.0490 - val_mean_absolute_error: 0.1210\n",
            "Epoch 38/300\n",
            "\u001b[1m80/80\u001b[0m \u001b[32m━━━━━━━━━━━━━━━━━━━━\u001b[0m\u001b[37m\u001b[0m \u001b[1m0s\u001b[0m 3ms/step - loss: 0.0492 - mean_absolute_error: 0.1291 - val_loss: 0.0490 - val_mean_absolute_error: 0.1210\n",
            "Epoch 39/300\n",
            "\u001b[1m80/80\u001b[0m \u001b[32m━━━━━━━━━━━━━━━━━━━━\u001b[0m\u001b[37m\u001b[0m \u001b[1m0s\u001b[0m 3ms/step - loss: 0.0490 - mean_absolute_error: 0.1288 - val_loss: 0.0490 - val_mean_absolute_error: 0.1210\n",
            "Epoch 40/300\n",
            "\u001b[1m80/80\u001b[0m \u001b[32m━━━━━━━━━━━━━━━━━━━━\u001b[0m\u001b[37m\u001b[0m \u001b[1m0s\u001b[0m 3ms/step - loss: 0.0493 - mean_absolute_error: 0.1290 - val_loss: 0.0489 - val_mean_absolute_error: 0.1209\n",
            "Epoch 41/300\n",
            "\u001b[1m80/80\u001b[0m \u001b[32m━━━━━━━━━━━━━━━━━━━━\u001b[0m\u001b[37m\u001b[0m \u001b[1m0s\u001b[0m 3ms/step - loss: 0.0491 - mean_absolute_error: 0.1286 - val_loss: 0.0489 - val_mean_absolute_error: 0.1209\n",
            "Epoch 42/300\n",
            "\u001b[1m80/80\u001b[0m \u001b[32m━━━━━━━━━━━━━━━━━━━━\u001b[0m\u001b[37m\u001b[0m \u001b[1m0s\u001b[0m 3ms/step - loss: 0.0492 - mean_absolute_error: 0.1289 - val_loss: 0.0489 - val_mean_absolute_error: 0.1208\n",
            "Epoch 43/300\n",
            "\u001b[1m80/80\u001b[0m \u001b[32m━━━━━━━━━━━━━━━━━━━━\u001b[0m\u001b[37m\u001b[0m \u001b[1m0s\u001b[0m 3ms/step - loss: 0.0492 - mean_absolute_error: 0.1288 - val_loss: 0.0489 - val_mean_absolute_error: 0.1208\n",
            "Epoch 44/300\n",
            "\u001b[1m80/80\u001b[0m \u001b[32m━━━━━━━━━━━━━━━━━━━━\u001b[0m\u001b[37m\u001b[0m \u001b[1m0s\u001b[0m 3ms/step - loss: 0.0490 - mean_absolute_error: 0.1283 - val_loss: 0.0488 - val_mean_absolute_error: 0.1208\n",
            "Epoch 45/300\n",
            "\u001b[1m80/80\u001b[0m \u001b[32m━━━━━━━━━━━━━━━━━━━━\u001b[0m\u001b[37m\u001b[0m \u001b[1m0s\u001b[0m 4ms/step - loss: 0.0491 - mean_absolute_error: 0.1286 - val_loss: 0.0488 - val_mean_absolute_error: 0.1207\n",
            "Epoch 46/300\n",
            "\u001b[1m80/80\u001b[0m \u001b[32m━━━━━━━━━━━━━━━━━━━━\u001b[0m\u001b[37m\u001b[0m \u001b[1m0s\u001b[0m 4ms/step - loss: 0.0490 - mean_absolute_error: 0.1284 - val_loss: 0.0488 - val_mean_absolute_error: 0.1207\n",
            "Epoch 47/300\n",
            "\u001b[1m80/80\u001b[0m \u001b[32m━━━━━━━━━━━━━━━━━━━━\u001b[0m\u001b[37m\u001b[0m \u001b[1m0s\u001b[0m 3ms/step - loss: 0.0489 - mean_absolute_error: 0.1282 - val_loss: 0.0488 - val_mean_absolute_error: 0.1207\n",
            "Epoch 48/300\n",
            "\u001b[1m80/80\u001b[0m \u001b[32m━━━━━━━━━━━━━━━━━━━━\u001b[0m\u001b[37m\u001b[0m \u001b[1m0s\u001b[0m 4ms/step - loss: 0.0490 - mean_absolute_error: 0.1283 - val_loss: 0.0487 - val_mean_absolute_error: 0.1207\n",
            "Epoch 49/300\n",
            "\u001b[1m80/80\u001b[0m \u001b[32m━━━━━━━━━━━━━━━━━━━━\u001b[0m\u001b[37m\u001b[0m \u001b[1m1s\u001b[0m 4ms/step - loss: 0.0488 - mean_absolute_error: 0.1280 - val_loss: 0.0487 - val_mean_absolute_error: 0.1206\n",
            "Epoch 50/300\n",
            "\u001b[1m80/80\u001b[0m \u001b[32m━━━━━━━━━━━━━━━━━━━━\u001b[0m\u001b[37m\u001b[0m \u001b[1m0s\u001b[0m 4ms/step - loss: 0.0489 - mean_absolute_error: 0.1283 - val_loss: 0.0487 - val_mean_absolute_error: 0.1206\n",
            "Epoch 51/300\n",
            "\u001b[1m80/80\u001b[0m \u001b[32m━━━━━━━━━━━━━━━━━━━━\u001b[0m\u001b[37m\u001b[0m \u001b[1m1s\u001b[0m 3ms/step - loss: 0.0490 - mean_absolute_error: 0.1282 - val_loss: 0.0486 - val_mean_absolute_error: 0.1206\n",
            "Epoch 52/300\n",
            "\u001b[1m80/80\u001b[0m \u001b[32m━━━━━━━━━━━━━━━━━━━━\u001b[0m\u001b[37m\u001b[0m \u001b[1m0s\u001b[0m 3ms/step - loss: 0.0489 - mean_absolute_error: 0.1281 - val_loss: 0.0486 - val_mean_absolute_error: 0.1206\n",
            "Epoch 53/300\n",
            "\u001b[1m80/80\u001b[0m \u001b[32m━━━━━━━━━━━━━━━━━━━━\u001b[0m\u001b[37m\u001b[0m \u001b[1m0s\u001b[0m 3ms/step - loss: 0.0489 - mean_absolute_error: 0.1282 - val_loss: 0.0486 - val_mean_absolute_error: 0.1205\n",
            "Epoch 54/300\n",
            "\u001b[1m80/80\u001b[0m \u001b[32m━━━━━━━━━━━━━━━━━━━━\u001b[0m\u001b[37m\u001b[0m \u001b[1m0s\u001b[0m 3ms/step - loss: 0.0488 - mean_absolute_error: 0.1280 - val_loss: 0.0486 - val_mean_absolute_error: 0.1205\n",
            "Epoch 55/300\n",
            "\u001b[1m80/80\u001b[0m \u001b[32m━━━━━━━━━━━━━━━━━━━━\u001b[0m\u001b[37m\u001b[0m \u001b[1m0s\u001b[0m 3ms/step - loss: 0.0490 - mean_absolute_error: 0.1284 - val_loss: 0.0485 - val_mean_absolute_error: 0.1205\n",
            "Epoch 56/300\n",
            "\u001b[1m80/80\u001b[0m \u001b[32m━━━━━━━━━━━━━━━━━━━━\u001b[0m\u001b[37m\u001b[0m \u001b[1m0s\u001b[0m 3ms/step - loss: 0.0489 - mean_absolute_error: 0.1282 - val_loss: 0.0485 - val_mean_absolute_error: 0.1204\n",
            "Epoch 57/300\n",
            "\u001b[1m80/80\u001b[0m \u001b[32m━━━━━━━━━━━━━━━━━━━━\u001b[0m\u001b[37m\u001b[0m \u001b[1m0s\u001b[0m 3ms/step - loss: 0.0487 - mean_absolute_error: 0.1280 - val_loss: 0.0485 - val_mean_absolute_error: 0.1204\n",
            "Epoch 58/300\n",
            "\u001b[1m80/80\u001b[0m \u001b[32m━━━━━━━━━━━━━━━━━━━━\u001b[0m\u001b[37m\u001b[0m \u001b[1m0s\u001b[0m 3ms/step - loss: 0.0487 - mean_absolute_error: 0.1280 - val_loss: 0.0485 - val_mean_absolute_error: 0.1204\n",
            "Epoch 59/300\n",
            "\u001b[1m80/80\u001b[0m \u001b[32m━━━━━━━━━━━━━━━━━━━━\u001b[0m\u001b[37m\u001b[0m \u001b[1m0s\u001b[0m 3ms/step - loss: 0.0486 - mean_absolute_error: 0.1279 - val_loss: 0.0484 - val_mean_absolute_error: 0.1204\n",
            "Epoch 60/300\n",
            "\u001b[1m80/80\u001b[0m \u001b[32m━━━━━━━━━━━━━━━━━━━━\u001b[0m\u001b[37m\u001b[0m \u001b[1m0s\u001b[0m 3ms/step - loss: 0.0487 - mean_absolute_error: 0.1280 - val_loss: 0.0484 - val_mean_absolute_error: 0.1203\n",
            "Epoch 61/300\n",
            "\u001b[1m80/80\u001b[0m \u001b[32m━━━━━━━━━━━━━━━━━━━━\u001b[0m\u001b[37m\u001b[0m \u001b[1m0s\u001b[0m 3ms/step - loss: 0.0489 - mean_absolute_error: 0.1283 - val_loss: 0.0484 - val_mean_absolute_error: 0.1203\n",
            "Epoch 62/300\n",
            "\u001b[1m80/80\u001b[0m \u001b[32m━━━━━━━━━━━━━━━━━━━━\u001b[0m\u001b[37m\u001b[0m \u001b[1m0s\u001b[0m 3ms/step - loss: 0.0486 - mean_absolute_error: 0.1279 - val_loss: 0.0484 - val_mean_absolute_error: 0.1203\n",
            "Epoch 63/300\n",
            "\u001b[1m80/80\u001b[0m \u001b[32m━━━━━━━━━━━━━━━━━━━━\u001b[0m\u001b[37m\u001b[0m \u001b[1m0s\u001b[0m 3ms/step - loss: 0.0487 - mean_absolute_error: 0.1281 - val_loss: 0.0483 - val_mean_absolute_error: 0.1203\n",
            "Epoch 64/300\n",
            "\u001b[1m80/80\u001b[0m \u001b[32m━━━━━━━━━━━━━━━━━━━━\u001b[0m\u001b[37m\u001b[0m \u001b[1m0s\u001b[0m 3ms/step - loss: 0.0487 - mean_absolute_error: 0.1279 - val_loss: 0.0483 - val_mean_absolute_error: 0.1203\n",
            "Epoch 65/300\n",
            "\u001b[1m80/80\u001b[0m \u001b[32m━━━━━━━━━━━━━━━━━━━━\u001b[0m\u001b[37m\u001b[0m \u001b[1m0s\u001b[0m 3ms/step - loss: 0.0484 - mean_absolute_error: 0.1275 - val_loss: 0.0483 - val_mean_absolute_error: 0.1202\n",
            "Epoch 66/300\n",
            "\u001b[1m80/80\u001b[0m \u001b[32m━━━━━━━━━━━━━━━━━━━━\u001b[0m\u001b[37m\u001b[0m \u001b[1m0s\u001b[0m 3ms/step - loss: 0.0486 - mean_absolute_error: 0.1278 - val_loss: 0.0483 - val_mean_absolute_error: 0.1202\n",
            "Epoch 67/300\n",
            "\u001b[1m80/80\u001b[0m \u001b[32m━━━━━━━━━━━━━━━━━━━━\u001b[0m\u001b[37m\u001b[0m \u001b[1m0s\u001b[0m 3ms/step - loss: 0.0483 - mean_absolute_error: 0.1274 - val_loss: 0.0482 - val_mean_absolute_error: 0.1202\n",
            "Epoch 68/300\n",
            "\u001b[1m80/80\u001b[0m \u001b[32m━━━━━━━━━━━━━━━━━━━━\u001b[0m\u001b[37m\u001b[0m \u001b[1m0s\u001b[0m 3ms/step - loss: 0.0486 - mean_absolute_error: 0.1279 - val_loss: 0.0482 - val_mean_absolute_error: 0.1201\n",
            "Epoch 69/300\n",
            "\u001b[1m80/80\u001b[0m \u001b[32m━━━━━━━━━━━━━━━━━━━━\u001b[0m\u001b[37m\u001b[0m \u001b[1m0s\u001b[0m 3ms/step - loss: 0.0484 - mean_absolute_error: 0.1278 - val_loss: 0.0482 - val_mean_absolute_error: 0.1201\n",
            "Epoch 70/300\n",
            "\u001b[1m80/80\u001b[0m \u001b[32m━━━━━━━━━━━━━━━━━━━━\u001b[0m\u001b[37m\u001b[0m \u001b[1m0s\u001b[0m 3ms/step - loss: 0.0485 - mean_absolute_error: 0.1277 - val_loss: 0.0482 - val_mean_absolute_error: 0.1201\n",
            "Epoch 71/300\n",
            "\u001b[1m80/80\u001b[0m \u001b[32m━━━━━━━━━━━━━━━━━━━━\u001b[0m\u001b[37m\u001b[0m \u001b[1m0s\u001b[0m 3ms/step - loss: 0.0486 - mean_absolute_error: 0.1280 - val_loss: 0.0481 - val_mean_absolute_error: 0.1201\n",
            "Epoch 72/300\n",
            "\u001b[1m80/80\u001b[0m \u001b[32m━━━━━━━━━━━━━━━━━━━━\u001b[0m\u001b[37m\u001b[0m \u001b[1m0s\u001b[0m 3ms/step - loss: 0.0482 - mean_absolute_error: 0.1271 - val_loss: 0.0481 - val_mean_absolute_error: 0.1201\n",
            "Epoch 73/300\n",
            "\u001b[1m80/80\u001b[0m \u001b[32m━━━━━━━━━━━━━━━━━━━━\u001b[0m\u001b[37m\u001b[0m \u001b[1m0s\u001b[0m 3ms/step - loss: 0.0484 - mean_absolute_error: 0.1278 - val_loss: 0.0481 - val_mean_absolute_error: 0.1200\n",
            "Epoch 74/300\n",
            "\u001b[1m80/80\u001b[0m \u001b[32m━━━━━━━━━━━━━━━━━━━━\u001b[0m\u001b[37m\u001b[0m \u001b[1m0s\u001b[0m 3ms/step - loss: 0.0483 - mean_absolute_error: 0.1276 - val_loss: 0.0481 - val_mean_absolute_error: 0.1200\n",
            "Epoch 75/300\n",
            "\u001b[1m80/80\u001b[0m \u001b[32m━━━━━━━━━━━━━━━━━━━━\u001b[0m\u001b[37m\u001b[0m \u001b[1m0s\u001b[0m 3ms/step - loss: 0.0482 - mean_absolute_error: 0.1273 - val_loss: 0.0480 - val_mean_absolute_error: 0.1200\n",
            "Epoch 76/300\n",
            "\u001b[1m80/80\u001b[0m \u001b[32m━━━━━━━━━━━━━━━━━━━━\u001b[0m\u001b[37m\u001b[0m \u001b[1m0s\u001b[0m 3ms/step - loss: 0.0484 - mean_absolute_error: 0.1275 - val_loss: 0.0480 - val_mean_absolute_error: 0.1199\n",
            "Epoch 77/300\n",
            "\u001b[1m80/80\u001b[0m \u001b[32m━━━━━━━━━━━━━━━━━━━━\u001b[0m\u001b[37m\u001b[0m \u001b[1m0s\u001b[0m 3ms/step - loss: 0.0482 - mean_absolute_error: 0.1275 - val_loss: 0.0480 - val_mean_absolute_error: 0.1199\n",
            "Epoch 78/300\n",
            "\u001b[1m80/80\u001b[0m \u001b[32m━━━━━━━━━━━━━━━━━━━━\u001b[0m\u001b[37m\u001b[0m \u001b[1m0s\u001b[0m 3ms/step - loss: 0.0484 - mean_absolute_error: 0.1275 - val_loss: 0.0480 - val_mean_absolute_error: 0.1199\n",
            "Epoch 79/300\n",
            "\u001b[1m80/80\u001b[0m \u001b[32m━━━━━━━━━━━━━━━━━━━━\u001b[0m\u001b[37m\u001b[0m \u001b[1m0s\u001b[0m 3ms/step - loss: 0.0485 - mean_absolute_error: 0.1281 - val_loss: 0.0479 - val_mean_absolute_error: 0.1199\n",
            "Epoch 80/300\n",
            "\u001b[1m80/80\u001b[0m \u001b[32m━━━━━━━━━━━━━━━━━━━━\u001b[0m\u001b[37m\u001b[0m \u001b[1m0s\u001b[0m 3ms/step - loss: 0.0482 - mean_absolute_error: 0.1276 - val_loss: 0.0479 - val_mean_absolute_error: 0.1198\n",
            "Epoch 81/300\n",
            "\u001b[1m80/80\u001b[0m \u001b[32m━━━━━━━━━━━━━━━━━━━━\u001b[0m\u001b[37m\u001b[0m \u001b[1m0s\u001b[0m 3ms/step - loss: 0.0482 - mean_absolute_error: 0.1276 - val_loss: 0.0479 - val_mean_absolute_error: 0.1198\n",
            "Epoch 82/300\n",
            "\u001b[1m80/80\u001b[0m \u001b[32m━━━━━━━━━━━━━━━━━━━━\u001b[0m\u001b[37m\u001b[0m \u001b[1m0s\u001b[0m 3ms/step - loss: 0.0482 - mean_absolute_error: 0.1276 - val_loss: 0.0478 - val_mean_absolute_error: 0.1198\n",
            "Epoch 83/300\n",
            "\u001b[1m80/80\u001b[0m \u001b[32m━━━━━━━━━━━━━━━━━━━━\u001b[0m\u001b[37m\u001b[0m \u001b[1m0s\u001b[0m 3ms/step - loss: 0.0482 - mean_absolute_error: 0.1274 - val_loss: 0.0478 - val_mean_absolute_error: 0.1198\n",
            "Epoch 84/300\n",
            "\u001b[1m80/80\u001b[0m \u001b[32m━━━━━━━━━━━━━━━━━━━━\u001b[0m\u001b[37m\u001b[0m \u001b[1m0s\u001b[0m 3ms/step - loss: 0.0481 - mean_absolute_error: 0.1273 - val_loss: 0.0478 - val_mean_absolute_error: 0.1198\n",
            "Epoch 85/300\n",
            "\u001b[1m80/80\u001b[0m \u001b[32m━━━━━━━━━━━━━━━━━━━━\u001b[0m\u001b[37m\u001b[0m \u001b[1m0s\u001b[0m 4ms/step - loss: 0.0481 - mean_absolute_error: 0.1274 - val_loss: 0.0478 - val_mean_absolute_error: 0.1197\n",
            "Epoch 86/300\n",
            "\u001b[1m80/80\u001b[0m \u001b[32m━━━━━━━━━━━━━━━━━━━━\u001b[0m\u001b[37m\u001b[0m \u001b[1m1s\u001b[0m 4ms/step - loss: 0.0483 - mean_absolute_error: 0.1276 - val_loss: 0.0477 - val_mean_absolute_error: 0.1197\n",
            "Epoch 87/300\n",
            "\u001b[1m80/80\u001b[0m \u001b[32m━━━━━━━━━━━━━━━━━━━━\u001b[0m\u001b[37m\u001b[0m \u001b[1m0s\u001b[0m 4ms/step - loss: 0.0479 - mean_absolute_error: 0.1272 - val_loss: 0.0477 - val_mean_absolute_error: 0.1197\n",
            "Epoch 88/300\n",
            "\u001b[1m80/80\u001b[0m \u001b[32m━━━━━━━━━━━━━━━━━━━━\u001b[0m\u001b[37m\u001b[0m \u001b[1m0s\u001b[0m 4ms/step - loss: 0.0480 - mean_absolute_error: 0.1274 - val_loss: 0.0477 - val_mean_absolute_error: 0.1197\n",
            "Epoch 89/300\n",
            "\u001b[1m80/80\u001b[0m \u001b[32m━━━━━━━━━━━━━━━━━━━━\u001b[0m\u001b[37m\u001b[0m \u001b[1m1s\u001b[0m 4ms/step - loss: 0.0480 - mean_absolute_error: 0.1273 - val_loss: 0.0477 - val_mean_absolute_error: 0.1196\n",
            "Epoch 90/300\n",
            "\u001b[1m80/80\u001b[0m \u001b[32m━━━━━━━━━━━━━━━━━━━━\u001b[0m\u001b[37m\u001b[0m \u001b[1m0s\u001b[0m 3ms/step - loss: 0.0477 - mean_absolute_error: 0.1269 - val_loss: 0.0476 - val_mean_absolute_error: 0.1196\n",
            "Epoch 91/300\n",
            "\u001b[1m80/80\u001b[0m \u001b[32m━━━━━━━━━━━━━━━━━━━━\u001b[0m\u001b[37m\u001b[0m \u001b[1m0s\u001b[0m 3ms/step - loss: 0.0481 - mean_absolute_error: 0.1276 - val_loss: 0.0476 - val_mean_absolute_error: 0.1196\n",
            "Epoch 92/300\n",
            "\u001b[1m80/80\u001b[0m \u001b[32m━━━━━━━━━━━━━━━━━━━━\u001b[0m\u001b[37m\u001b[0m \u001b[1m0s\u001b[0m 3ms/step - loss: 0.0478 - mean_absolute_error: 0.1272 - val_loss: 0.0476 - val_mean_absolute_error: 0.1196\n",
            "Epoch 93/300\n",
            "\u001b[1m80/80\u001b[0m \u001b[32m━━━━━━━━━━━━━━━━━━━━\u001b[0m\u001b[37m\u001b[0m \u001b[1m0s\u001b[0m 3ms/step - loss: 0.0477 - mean_absolute_error: 0.1272 - val_loss: 0.0476 - val_mean_absolute_error: 0.1195\n",
            "Epoch 94/300\n",
            "\u001b[1m80/80\u001b[0m \u001b[32m━━━━━━━━━━━━━━━━━━━━\u001b[0m\u001b[37m\u001b[0m \u001b[1m0s\u001b[0m 3ms/step - loss: 0.0478 - mean_absolute_error: 0.1273 - val_loss: 0.0475 - val_mean_absolute_error: 0.1195\n",
            "Epoch 95/300\n",
            "\u001b[1m80/80\u001b[0m \u001b[32m━━━━━━━━━━━━━━━━━━━━\u001b[0m\u001b[37m\u001b[0m \u001b[1m0s\u001b[0m 3ms/step - loss: 0.0478 - mean_absolute_error: 0.1272 - val_loss: 0.0475 - val_mean_absolute_error: 0.1195\n",
            "Epoch 96/300\n",
            "\u001b[1m80/80\u001b[0m \u001b[32m━━━━━━━━━━━━━━━━━━━━\u001b[0m\u001b[37m\u001b[0m \u001b[1m0s\u001b[0m 3ms/step - loss: 0.0477 - mean_absolute_error: 0.1272 - val_loss: 0.0475 - val_mean_absolute_error: 0.1195\n",
            "Epoch 97/300\n",
            "\u001b[1m80/80\u001b[0m \u001b[32m━━━━━━━━━━━━━━━━━━━━\u001b[0m\u001b[37m\u001b[0m \u001b[1m0s\u001b[0m 3ms/step - loss: 0.0479 - mean_absolute_error: 0.1272 - val_loss: 0.0474 - val_mean_absolute_error: 0.1194\n",
            "Epoch 98/300\n",
            "\u001b[1m80/80\u001b[0m \u001b[32m━━━━━━━━━━━━━━━━━━━━\u001b[0m\u001b[37m\u001b[0m \u001b[1m0s\u001b[0m 3ms/step - loss: 0.0476 - mean_absolute_error: 0.1269 - val_loss: 0.0474 - val_mean_absolute_error: 0.1194\n",
            "Epoch 99/300\n",
            "\u001b[1m80/80\u001b[0m \u001b[32m━━━━━━━━━━━━━━━━━━━━\u001b[0m\u001b[37m\u001b[0m \u001b[1m0s\u001b[0m 3ms/step - loss: 0.0476 - mean_absolute_error: 0.1271 - val_loss: 0.0474 - val_mean_absolute_error: 0.1194\n",
            "Epoch 100/300\n",
            "\u001b[1m80/80\u001b[0m \u001b[32m━━━━━━━━━━━━━━━━━━━━\u001b[0m\u001b[37m\u001b[0m \u001b[1m0s\u001b[0m 3ms/step - loss: 0.0476 - mean_absolute_error: 0.1271 - val_loss: 0.0474 - val_mean_absolute_error: 0.1194\n",
            "Epoch 101/300\n",
            "\u001b[1m80/80\u001b[0m \u001b[32m━━━━━━━━━━━━━━━━━━━━\u001b[0m\u001b[37m\u001b[0m \u001b[1m0s\u001b[0m 3ms/step - loss: 0.0478 - mean_absolute_error: 0.1275 - val_loss: 0.0473 - val_mean_absolute_error: 0.1193\n",
            "Epoch 102/300\n",
            "\u001b[1m80/80\u001b[0m \u001b[32m━━━━━━━━━━━━━━━━━━━━\u001b[0m\u001b[37m\u001b[0m \u001b[1m0s\u001b[0m 3ms/step - loss: 0.0476 - mean_absolute_error: 0.1271 - val_loss: 0.0473 - val_mean_absolute_error: 0.1193\n",
            "Epoch 103/300\n",
            "\u001b[1m80/80\u001b[0m \u001b[32m━━━━━━━━━━━━━━━━━━━━\u001b[0m\u001b[37m\u001b[0m \u001b[1m0s\u001b[0m 3ms/step - loss: 0.0475 - mean_absolute_error: 0.1271 - val_loss: 0.0473 - val_mean_absolute_error: 0.1193\n",
            "Epoch 104/300\n",
            "\u001b[1m80/80\u001b[0m \u001b[32m━━━━━━━━━━━━━━━━━━━━\u001b[0m\u001b[37m\u001b[0m \u001b[1m0s\u001b[0m 3ms/step - loss: 0.0477 - mean_absolute_error: 0.1272 - val_loss: 0.0472 - val_mean_absolute_error: 0.1193\n",
            "Epoch 105/300\n",
            "\u001b[1m80/80\u001b[0m \u001b[32m━━━━━━━━━━━━━━━━━━━━\u001b[0m\u001b[37m\u001b[0m \u001b[1m0s\u001b[0m 3ms/step - loss: 0.0476 - mean_absolute_error: 0.1272 - val_loss: 0.0472 - val_mean_absolute_error: 0.1192\n",
            "Epoch 106/300\n",
            "\u001b[1m80/80\u001b[0m \u001b[32m━━━━━━━━━━━━━━━━━━━━\u001b[0m\u001b[37m\u001b[0m \u001b[1m0s\u001b[0m 3ms/step - loss: 0.0478 - mean_absolute_error: 0.1275 - val_loss: 0.0472 - val_mean_absolute_error: 0.1192\n",
            "Epoch 107/300\n",
            "\u001b[1m80/80\u001b[0m \u001b[32m━━━━━━━━━━━━━━━━━━━━\u001b[0m\u001b[37m\u001b[0m \u001b[1m0s\u001b[0m 3ms/step - loss: 0.0475 - mean_absolute_error: 0.1272 - val_loss: 0.0472 - val_mean_absolute_error: 0.1192\n",
            "Epoch 108/300\n",
            "\u001b[1m80/80\u001b[0m \u001b[32m━━━━━━━━━━━━━━━━━━━━\u001b[0m\u001b[37m\u001b[0m \u001b[1m0s\u001b[0m 3ms/step - loss: 0.0474 - mean_absolute_error: 0.1268 - val_loss: 0.0471 - val_mean_absolute_error: 0.1191\n",
            "Epoch 109/300\n",
            "\u001b[1m80/80\u001b[0m \u001b[32m━━━━━━━━━━━━━━━━━━━━\u001b[0m\u001b[37m\u001b[0m \u001b[1m0s\u001b[0m 3ms/step - loss: 0.0475 - mean_absolute_error: 0.1271 - val_loss: 0.0471 - val_mean_absolute_error: 0.1191\n",
            "Epoch 110/300\n",
            "\u001b[1m80/80\u001b[0m \u001b[32m━━━━━━━━━━━━━━━━━━━━\u001b[0m\u001b[37m\u001b[0m \u001b[1m0s\u001b[0m 3ms/step - loss: 0.0476 - mean_absolute_error: 0.1273 - val_loss: 0.0471 - val_mean_absolute_error: 0.1191\n",
            "Epoch 111/300\n",
            "\u001b[1m80/80\u001b[0m \u001b[32m━━━━━━━━━━━━━━━━━━━━\u001b[0m\u001b[37m\u001b[0m \u001b[1m0s\u001b[0m 3ms/step - loss: 0.0475 - mean_absolute_error: 0.1272 - val_loss: 0.0470 - val_mean_absolute_error: 0.1191\n",
            "Epoch 112/300\n",
            "\u001b[1m80/80\u001b[0m \u001b[32m━━━━━━━━━━━━━━━━━━━━\u001b[0m\u001b[37m\u001b[0m \u001b[1m0s\u001b[0m 3ms/step - loss: 0.0472 - mean_absolute_error: 0.1269 - val_loss: 0.0470 - val_mean_absolute_error: 0.1190\n",
            "Epoch 113/300\n",
            "\u001b[1m80/80\u001b[0m \u001b[32m━━━━━━━━━━━━━━━━━━━━\u001b[0m\u001b[37m\u001b[0m \u001b[1m0s\u001b[0m 3ms/step - loss: 0.0472 - mean_absolute_error: 0.1268 - val_loss: 0.0470 - val_mean_absolute_error: 0.1190\n",
            "Epoch 114/300\n",
            "\u001b[1m80/80\u001b[0m \u001b[32m━━━━━━━━━━━━━━━━━━━━\u001b[0m\u001b[37m\u001b[0m \u001b[1m0s\u001b[0m 3ms/step - loss: 0.0472 - mean_absolute_error: 0.1267 - val_loss: 0.0469 - val_mean_absolute_error: 0.1190\n",
            "Epoch 115/300\n",
            "\u001b[1m80/80\u001b[0m \u001b[32m━━━━━━━━━━━━━━━━━━━━\u001b[0m\u001b[37m\u001b[0m \u001b[1m0s\u001b[0m 3ms/step - loss: 0.0474 - mean_absolute_error: 0.1271 - val_loss: 0.0469 - val_mean_absolute_error: 0.1190\n",
            "Epoch 116/300\n",
            "\u001b[1m80/80\u001b[0m \u001b[32m━━━━━━━━━━━━━━━━━━━━\u001b[0m\u001b[37m\u001b[0m \u001b[1m0s\u001b[0m 3ms/step - loss: 0.0471 - mean_absolute_error: 0.1267 - val_loss: 0.0469 - val_mean_absolute_error: 0.1189\n",
            "Epoch 117/300\n",
            "\u001b[1m80/80\u001b[0m \u001b[32m━━━━━━━━━━━━━━━━━━━━\u001b[0m\u001b[37m\u001b[0m \u001b[1m0s\u001b[0m 3ms/step - loss: 0.0471 - mean_absolute_error: 0.1266 - val_loss: 0.0468 - val_mean_absolute_error: 0.1189\n",
            "Epoch 118/300\n",
            "\u001b[1m80/80\u001b[0m \u001b[32m━━━━━━━━━━━━━━━━━━━━\u001b[0m\u001b[37m\u001b[0m \u001b[1m0s\u001b[0m 3ms/step - loss: 0.0471 - mean_absolute_error: 0.1267 - val_loss: 0.0468 - val_mean_absolute_error: 0.1189\n",
            "Epoch 119/300\n",
            "\u001b[1m80/80\u001b[0m \u001b[32m━━━━━━━━━━━━━━━━━━━━\u001b[0m\u001b[37m\u001b[0m \u001b[1m0s\u001b[0m 3ms/step - loss: 0.0472 - mean_absolute_error: 0.1269 - val_loss: 0.0468 - val_mean_absolute_error: 0.1188\n",
            "Epoch 120/300\n",
            "\u001b[1m80/80\u001b[0m \u001b[32m━━━━━━━━━━━━━━━━━━━━\u001b[0m\u001b[37m\u001b[0m \u001b[1m0s\u001b[0m 3ms/step - loss: 0.0471 - mean_absolute_error: 0.1268 - val_loss: 0.0467 - val_mean_absolute_error: 0.1188\n",
            "Epoch 121/300\n",
            "\u001b[1m80/80\u001b[0m \u001b[32m━━━━━━━━━━━━━━━━━━━━\u001b[0m\u001b[37m\u001b[0m \u001b[1m0s\u001b[0m 3ms/step - loss: 0.0472 - mean_absolute_error: 0.1267 - val_loss: 0.0467 - val_mean_absolute_error: 0.1188\n",
            "Epoch 122/300\n",
            "\u001b[1m80/80\u001b[0m \u001b[32m━━━━━━━━━━━━━━━━━━━━\u001b[0m\u001b[37m\u001b[0m \u001b[1m0s\u001b[0m 3ms/step - loss: 0.0471 - mean_absolute_error: 0.1269 - val_loss: 0.0467 - val_mean_absolute_error: 0.1188\n",
            "Epoch 123/300\n",
            "\u001b[1m80/80\u001b[0m \u001b[32m━━━━━━━━━━━━━━━━━━━━\u001b[0m\u001b[37m\u001b[0m \u001b[1m0s\u001b[0m 3ms/step - loss: 0.0470 - mean_absolute_error: 0.1269 - val_loss: 0.0467 - val_mean_absolute_error: 0.1187\n",
            "Epoch 124/300\n",
            "\u001b[1m80/80\u001b[0m \u001b[32m━━━━━━━━━━━━━━━━━━━━\u001b[0m\u001b[37m\u001b[0m \u001b[1m0s\u001b[0m 3ms/step - loss: 0.0470 - mean_absolute_error: 0.1268 - val_loss: 0.0466 - val_mean_absolute_error: 0.1187\n",
            "Epoch 125/300\n",
            "\u001b[1m80/80\u001b[0m \u001b[32m━━━━━━━━━━━━━━━━━━━━\u001b[0m\u001b[37m\u001b[0m \u001b[1m0s\u001b[0m 3ms/step - loss: 0.0468 - mean_absolute_error: 0.1266 - val_loss: 0.0466 - val_mean_absolute_error: 0.1187\n",
            "Epoch 126/300\n",
            "\u001b[1m80/80\u001b[0m \u001b[32m━━━━━━━━━━━━━━━━━━━━\u001b[0m\u001b[37m\u001b[0m \u001b[1m0s\u001b[0m 3ms/step - loss: 0.0471 - mean_absolute_error: 0.1270 - val_loss: 0.0466 - val_mean_absolute_error: 0.1186\n",
            "Epoch 127/300\n",
            "\u001b[1m80/80\u001b[0m \u001b[32m━━━━━━━━━━━━━━━━━━━━\u001b[0m\u001b[37m\u001b[0m \u001b[1m0s\u001b[0m 4ms/step - loss: 0.0471 - mean_absolute_error: 0.1271 - val_loss: 0.0465 - val_mean_absolute_error: 0.1186\n",
            "Epoch 128/300\n",
            "\u001b[1m80/80\u001b[0m \u001b[32m━━━━━━━━━━━━━━━━━━━━\u001b[0m\u001b[37m\u001b[0m \u001b[1m1s\u001b[0m 4ms/step - loss: 0.0470 - mean_absolute_error: 0.1267 - val_loss: 0.0465 - val_mean_absolute_error: 0.1186\n",
            "Epoch 129/300\n",
            "\u001b[1m80/80\u001b[0m \u001b[32m━━━━━━━━━━━━━━━━━━━━\u001b[0m\u001b[37m\u001b[0m \u001b[1m1s\u001b[0m 4ms/step - loss: 0.0471 - mean_absolute_error: 0.1269 - val_loss: 0.0465 - val_mean_absolute_error: 0.1186\n",
            "Epoch 130/300\n",
            "\u001b[1m80/80\u001b[0m \u001b[32m━━━━━━━━━━━━━━━━━━━━\u001b[0m\u001b[37m\u001b[0m \u001b[1m0s\u001b[0m 4ms/step - loss: 0.0470 - mean_absolute_error: 0.1271 - val_loss: 0.0464 - val_mean_absolute_error: 0.1185\n",
            "Epoch 131/300\n",
            "\u001b[1m80/80\u001b[0m \u001b[32m━━━━━━━━━━━━━━━━━━━━\u001b[0m\u001b[37m\u001b[0m \u001b[1m0s\u001b[0m 4ms/step - loss: 0.0469 - mean_absolute_error: 0.1269 - val_loss: 0.0464 - val_mean_absolute_error: 0.1185\n",
            "Epoch 132/300\n",
            "\u001b[1m80/80\u001b[0m \u001b[32m━━━━━━━━━━━━━━━━━━━━\u001b[0m\u001b[37m\u001b[0m \u001b[1m1s\u001b[0m 3ms/step - loss: 0.0465 - mean_absolute_error: 0.1262 - val_loss: 0.0464 - val_mean_absolute_error: 0.1185\n",
            "Epoch 133/300\n",
            "\u001b[1m80/80\u001b[0m \u001b[32m━━━━━━━━━━━━━━━━━━━━\u001b[0m\u001b[37m\u001b[0m \u001b[1m0s\u001b[0m 3ms/step - loss: 0.0468 - mean_absolute_error: 0.1266 - val_loss: 0.0463 - val_mean_absolute_error: 0.1184\n",
            "Epoch 134/300\n",
            "\u001b[1m80/80\u001b[0m \u001b[32m━━━━━━━━━━━━━━━━━━━━\u001b[0m\u001b[37m\u001b[0m \u001b[1m0s\u001b[0m 3ms/step - loss: 0.0469 - mean_absolute_error: 0.1269 - val_loss: 0.0463 - val_mean_absolute_error: 0.1184\n",
            "Epoch 135/300\n",
            "\u001b[1m80/80\u001b[0m \u001b[32m━━━━━━━━━━━━━━━━━━━━\u001b[0m\u001b[37m\u001b[0m \u001b[1m0s\u001b[0m 3ms/step - loss: 0.0467 - mean_absolute_error: 0.1265 - val_loss: 0.0463 - val_mean_absolute_error: 0.1184\n",
            "Epoch 136/300\n",
            "\u001b[1m80/80\u001b[0m \u001b[32m━━━━━━━━━━━━━━━━━━━━\u001b[0m\u001b[37m\u001b[0m \u001b[1m0s\u001b[0m 3ms/step - loss: 0.0467 - mean_absolute_error: 0.1267 - val_loss: 0.0462 - val_mean_absolute_error: 0.1183\n",
            "Epoch 137/300\n",
            "\u001b[1m80/80\u001b[0m \u001b[32m━━━━━━━━━━━━━━━━━━━━\u001b[0m\u001b[37m\u001b[0m \u001b[1m0s\u001b[0m 3ms/step - loss: 0.0465 - mean_absolute_error: 0.1264 - val_loss: 0.0462 - val_mean_absolute_error: 0.1183\n",
            "Epoch 138/300\n",
            "\u001b[1m80/80\u001b[0m \u001b[32m━━━━━━━━━━━━━━━━━━━━\u001b[0m\u001b[37m\u001b[0m \u001b[1m0s\u001b[0m 3ms/step - loss: 0.0465 - mean_absolute_error: 0.1266 - val_loss: 0.0462 - val_mean_absolute_error: 0.1183\n",
            "Epoch 139/300\n",
            "\u001b[1m80/80\u001b[0m \u001b[32m━━━━━━━━━━━━━━━━━━━━\u001b[0m\u001b[37m\u001b[0m \u001b[1m0s\u001b[0m 3ms/step - loss: 0.0466 - mean_absolute_error: 0.1266 - val_loss: 0.0461 - val_mean_absolute_error: 0.1182\n",
            "Epoch 140/300\n",
            "\u001b[1m80/80\u001b[0m \u001b[32m━━━━━━━━━━━━━━━━━━━━\u001b[0m\u001b[37m\u001b[0m \u001b[1m0s\u001b[0m 3ms/step - loss: 0.0465 - mean_absolute_error: 0.1265 - val_loss: 0.0461 - val_mean_absolute_error: 0.1182\n",
            "Epoch 141/300\n",
            "\u001b[1m80/80\u001b[0m \u001b[32m━━━━━━━━━━━━━━━━━━━━\u001b[0m\u001b[37m\u001b[0m \u001b[1m0s\u001b[0m 3ms/step - loss: 0.0469 - mean_absolute_error: 0.1271 - val_loss: 0.0461 - val_mean_absolute_error: 0.1182\n",
            "Epoch 142/300\n",
            "\u001b[1m80/80\u001b[0m \u001b[32m━━━━━━━━━━━━━━━━━━━━\u001b[0m\u001b[37m\u001b[0m \u001b[1m0s\u001b[0m 3ms/step - loss: 0.0465 - mean_absolute_error: 0.1264 - val_loss: 0.0460 - val_mean_absolute_error: 0.1181\n",
            "Epoch 143/300\n",
            "\u001b[1m80/80\u001b[0m \u001b[32m━━━━━━━━━━━━━━━━━━━━\u001b[0m\u001b[37m\u001b[0m \u001b[1m0s\u001b[0m 3ms/step - loss: 0.0465 - mean_absolute_error: 0.1268 - val_loss: 0.0460 - val_mean_absolute_error: 0.1181\n",
            "Epoch 144/300\n",
            "\u001b[1m80/80\u001b[0m \u001b[32m━━━━━━━━━━━━━━━━━━━━\u001b[0m\u001b[37m\u001b[0m \u001b[1m0s\u001b[0m 3ms/step - loss: 0.0465 - mean_absolute_error: 0.1268 - val_loss: 0.0460 - val_mean_absolute_error: 0.1181\n",
            "Epoch 145/300\n",
            "\u001b[1m80/80\u001b[0m \u001b[32m━━━━━━━━━━━━━━━━━━━━\u001b[0m\u001b[37m\u001b[0m \u001b[1m0s\u001b[0m 3ms/step - loss: 0.0463 - mean_absolute_error: 0.1263 - val_loss: 0.0459 - val_mean_absolute_error: 0.1181\n",
            "Epoch 146/300\n",
            "\u001b[1m80/80\u001b[0m \u001b[32m━━━━━━━━━━━━━━━━━━━━\u001b[0m\u001b[37m\u001b[0m \u001b[1m0s\u001b[0m 3ms/step - loss: 0.0469 - mean_absolute_error: 0.1271 - val_loss: 0.0459 - val_mean_absolute_error: 0.1180\n",
            "Epoch 147/300\n",
            "\u001b[1m80/80\u001b[0m \u001b[32m━━━━━━━━━━━━━━━━━━━━\u001b[0m\u001b[37m\u001b[0m \u001b[1m0s\u001b[0m 3ms/step - loss: 0.0463 - mean_absolute_error: 0.1267 - val_loss: 0.0459 - val_mean_absolute_error: 0.1180\n",
            "Epoch 148/300\n",
            "\u001b[1m80/80\u001b[0m \u001b[32m━━━━━━━━━━━━━━━━━━━━\u001b[0m\u001b[37m\u001b[0m \u001b[1m0s\u001b[0m 3ms/step - loss: 0.0463 - mean_absolute_error: 0.1265 - val_loss: 0.0458 - val_mean_absolute_error: 0.1180\n",
            "Epoch 149/300\n",
            "\u001b[1m80/80\u001b[0m \u001b[32m━━━━━━━━━━━━━━━━━━━━\u001b[0m\u001b[37m\u001b[0m \u001b[1m0s\u001b[0m 3ms/step - loss: 0.0460 - mean_absolute_error: 0.1261 - val_loss: 0.0458 - val_mean_absolute_error: 0.1179\n",
            "Epoch 150/300\n",
            "\u001b[1m80/80\u001b[0m \u001b[32m━━━━━━━━━━━━━━━━━━━━\u001b[0m\u001b[37m\u001b[0m \u001b[1m0s\u001b[0m 3ms/step - loss: 0.0464 - mean_absolute_error: 0.1266 - val_loss: 0.0458 - val_mean_absolute_error: 0.1179\n",
            "Epoch 151/300\n",
            "\u001b[1m80/80\u001b[0m \u001b[32m━━━━━━━━━━━━━━━━━━━━\u001b[0m\u001b[37m\u001b[0m \u001b[1m0s\u001b[0m 3ms/step - loss: 0.0460 - mean_absolute_error: 0.1263 - val_loss: 0.0457 - val_mean_absolute_error: 0.1178\n",
            "Epoch 152/300\n",
            "\u001b[1m80/80\u001b[0m \u001b[32m━━━━━━━━━━━━━━━━━━━━\u001b[0m\u001b[37m\u001b[0m \u001b[1m0s\u001b[0m 3ms/step - loss: 0.0463 - mean_absolute_error: 0.1267 - val_loss: 0.0457 - val_mean_absolute_error: 0.1178\n",
            "Epoch 153/300\n",
            "\u001b[1m80/80\u001b[0m \u001b[32m━━━━━━━━━━━━━━━━━━━━\u001b[0m\u001b[37m\u001b[0m \u001b[1m0s\u001b[0m 3ms/step - loss: 0.0462 - mean_absolute_error: 0.1265 - val_loss: 0.0457 - val_mean_absolute_error: 0.1178\n",
            "Epoch 154/300\n",
            "\u001b[1m80/80\u001b[0m \u001b[32m━━━━━━━━━━━━━━━━━━━━\u001b[0m\u001b[37m\u001b[0m \u001b[1m0s\u001b[0m 3ms/step - loss: 0.0463 - mean_absolute_error: 0.1268 - val_loss: 0.0456 - val_mean_absolute_error: 0.1177\n",
            "Epoch 155/300\n",
            "\u001b[1m80/80\u001b[0m \u001b[32m━━━━━━━━━━━━━━━━━━━━\u001b[0m\u001b[37m\u001b[0m \u001b[1m0s\u001b[0m 3ms/step - loss: 0.0460 - mean_absolute_error: 0.1263 - val_loss: 0.0456 - val_mean_absolute_error: 0.1177\n",
            "Epoch 156/300\n",
            "\u001b[1m80/80\u001b[0m \u001b[32m━━━━━━━━━━━━━━━━━━━━\u001b[0m\u001b[37m\u001b[0m \u001b[1m0s\u001b[0m 3ms/step - loss: 0.0463 - mean_absolute_error: 0.1267 - val_loss: 0.0456 - val_mean_absolute_error: 0.1177\n",
            "Epoch 157/300\n",
            "\u001b[1m80/80\u001b[0m \u001b[32m━━━━━━━━━━━━━━━━━━━━\u001b[0m\u001b[37m\u001b[0m \u001b[1m0s\u001b[0m 3ms/step - loss: 0.0460 - mean_absolute_error: 0.1264 - val_loss: 0.0455 - val_mean_absolute_error: 0.1176\n",
            "Epoch 158/300\n",
            "\u001b[1m80/80\u001b[0m \u001b[32m━━━━━━━━━━━━━━━━━━━━\u001b[0m\u001b[37m\u001b[0m \u001b[1m0s\u001b[0m 3ms/step - loss: 0.0462 - mean_absolute_error: 0.1267 - val_loss: 0.0455 - val_mean_absolute_error: 0.1176\n",
            "Epoch 159/300\n",
            "\u001b[1m80/80\u001b[0m \u001b[32m━━━━━━━━━━━━━━━━━━━━\u001b[0m\u001b[37m\u001b[0m \u001b[1m0s\u001b[0m 3ms/step - loss: 0.0460 - mean_absolute_error: 0.1265 - val_loss: 0.0455 - val_mean_absolute_error: 0.1176\n",
            "Epoch 160/300\n",
            "\u001b[1m80/80\u001b[0m \u001b[32m━━━━━━━━━━━━━━━━━━━━\u001b[0m\u001b[37m\u001b[0m \u001b[1m0s\u001b[0m 3ms/step - loss: 0.0460 - mean_absolute_error: 0.1264 - val_loss: 0.0454 - val_mean_absolute_error: 0.1176\n",
            "Epoch 161/300\n",
            "\u001b[1m80/80\u001b[0m \u001b[32m━━━━━━━━━━━━━━━━━━━━\u001b[0m\u001b[37m\u001b[0m \u001b[1m0s\u001b[0m 3ms/step - loss: 0.0463 - mean_absolute_error: 0.1267 - val_loss: 0.0454 - val_mean_absolute_error: 0.1175\n",
            "Epoch 162/300\n",
            "\u001b[1m80/80\u001b[0m \u001b[32m━━━━━━━━━━━━━━━━━━━━\u001b[0m\u001b[37m\u001b[0m \u001b[1m0s\u001b[0m 3ms/step - loss: 0.0460 - mean_absolute_error: 0.1266 - val_loss: 0.0454 - val_mean_absolute_error: 0.1175\n",
            "Epoch 163/300\n",
            "\u001b[1m80/80\u001b[0m \u001b[32m━━━━━━━━━━━━━━━━━━━━\u001b[0m\u001b[37m\u001b[0m \u001b[1m0s\u001b[0m 3ms/step - loss: 0.0458 - mean_absolute_error: 0.1262 - val_loss: 0.0453 - val_mean_absolute_error: 0.1174\n",
            "Epoch 164/300\n",
            "\u001b[1m80/80\u001b[0m \u001b[32m━━━━━━━━━━━━━━━━━━━━\u001b[0m\u001b[37m\u001b[0m \u001b[1m0s\u001b[0m 3ms/step - loss: 0.0460 - mean_absolute_error: 0.1266 - val_loss: 0.0453 - val_mean_absolute_error: 0.1174\n",
            "Epoch 165/300\n",
            "\u001b[1m80/80\u001b[0m \u001b[32m━━━━━━━━━━━━━━━━━━━━\u001b[0m\u001b[37m\u001b[0m \u001b[1m0s\u001b[0m 3ms/step - loss: 0.0459 - mean_absolute_error: 0.1265 - val_loss: 0.0453 - val_mean_absolute_error: 0.1174\n",
            "Epoch 166/300\n",
            "\u001b[1m80/80\u001b[0m \u001b[32m━━━━━━━━━━━━━━━━━━━━\u001b[0m\u001b[37m\u001b[0m \u001b[1m0s\u001b[0m 3ms/step - loss: 0.0458 - mean_absolute_error: 0.1263 - val_loss: 0.0452 - val_mean_absolute_error: 0.1173\n",
            "Epoch 167/300\n",
            "\u001b[1m80/80\u001b[0m \u001b[32m━━━━━━━━━━━━━━━━━━━━\u001b[0m\u001b[37m\u001b[0m \u001b[1m0s\u001b[0m 4ms/step - loss: 0.0458 - mean_absolute_error: 0.1261 - val_loss: 0.0452 - val_mean_absolute_error: 0.1173\n",
            "Epoch 168/300\n",
            "\u001b[1m80/80\u001b[0m \u001b[32m━━━━━━━━━━━━━━━━━━━━\u001b[0m\u001b[37m\u001b[0m \u001b[1m1s\u001b[0m 4ms/step - loss: 0.0458 - mean_absolute_error: 0.1264 - val_loss: 0.0452 - val_mean_absolute_error: 0.1173\n",
            "Epoch 169/300\n",
            "\u001b[1m80/80\u001b[0m \u001b[32m━━━━━━━━━━━━━━━━━━━━\u001b[0m\u001b[37m\u001b[0m \u001b[1m1s\u001b[0m 4ms/step - loss: 0.0458 - mean_absolute_error: 0.1264 - val_loss: 0.0451 - val_mean_absolute_error: 0.1172\n",
            "Epoch 170/300\n",
            "\u001b[1m80/80\u001b[0m \u001b[32m━━━━━━━━━━━━━━━━━━━━\u001b[0m\u001b[37m\u001b[0m \u001b[1m1s\u001b[0m 4ms/step - loss: 0.0456 - mean_absolute_error: 0.1261 - val_loss: 0.0451 - val_mean_absolute_error: 0.1172\n",
            "Epoch 171/300\n",
            "\u001b[1m80/80\u001b[0m \u001b[32m━━━━━━━━━━━━━━━━━━━━\u001b[0m\u001b[37m\u001b[0m \u001b[1m1s\u001b[0m 3ms/step - loss: 0.0459 - mean_absolute_error: 0.1267 - val_loss: 0.0451 - val_mean_absolute_error: 0.1172\n",
            "Epoch 172/300\n",
            "\u001b[1m80/80\u001b[0m \u001b[32m━━━━━━━━━━━━━━━━━━━━\u001b[0m\u001b[37m\u001b[0m \u001b[1m0s\u001b[0m 3ms/step - loss: 0.0460 - mean_absolute_error: 0.1266 - val_loss: 0.0450 - val_mean_absolute_error: 0.1171\n",
            "Epoch 173/300\n",
            "\u001b[1m80/80\u001b[0m \u001b[32m━━━━━━━━━━━━━━━━━━━━\u001b[0m\u001b[37m\u001b[0m \u001b[1m0s\u001b[0m 3ms/step - loss: 0.0457 - mean_absolute_error: 0.1265 - val_loss: 0.0450 - val_mean_absolute_error: 0.1171\n",
            "Epoch 174/300\n",
            "\u001b[1m80/80\u001b[0m \u001b[32m━━━━━━━━━━━━━━━━━━━━\u001b[0m\u001b[37m\u001b[0m \u001b[1m0s\u001b[0m 3ms/step - loss: 0.0459 - mean_absolute_error: 0.1265 - val_loss: 0.0450 - val_mean_absolute_error: 0.1171\n",
            "Epoch 175/300\n",
            "\u001b[1m80/80\u001b[0m \u001b[32m━━━━━━━━━━━━━━━━━━━━\u001b[0m\u001b[37m\u001b[0m \u001b[1m0s\u001b[0m 3ms/step - loss: 0.0457 - mean_absolute_error: 0.1263 - val_loss: 0.0449 - val_mean_absolute_error: 0.1170\n",
            "Epoch 176/300\n",
            "\u001b[1m80/80\u001b[0m \u001b[32m━━━━━━━━━━━━━━━━━━━━\u001b[0m\u001b[37m\u001b[0m \u001b[1m0s\u001b[0m 3ms/step - loss: 0.0457 - mean_absolute_error: 0.1264 - val_loss: 0.0449 - val_mean_absolute_error: 0.1170\n",
            "Epoch 177/300\n",
            "\u001b[1m80/80\u001b[0m \u001b[32m━━━━━━━━━━━━━━━━━━━━\u001b[0m\u001b[37m\u001b[0m \u001b[1m0s\u001b[0m 3ms/step - loss: 0.0458 - mean_absolute_error: 0.1264 - val_loss: 0.0449 - val_mean_absolute_error: 0.1169\n",
            "Epoch 178/300\n",
            "\u001b[1m80/80\u001b[0m \u001b[32m━━━━━━━━━━━━━━━━━━━━\u001b[0m\u001b[37m\u001b[0m \u001b[1m0s\u001b[0m 3ms/step - loss: 0.0457 - mean_absolute_error: 0.1262 - val_loss: 0.0448 - val_mean_absolute_error: 0.1169\n",
            "Epoch 179/300\n",
            "\u001b[1m80/80\u001b[0m \u001b[32m━━━━━━━━━━━━━━━━━━━━\u001b[0m\u001b[37m\u001b[0m \u001b[1m0s\u001b[0m 3ms/step - loss: 0.0455 - mean_absolute_error: 0.1263 - val_loss: 0.0448 - val_mean_absolute_error: 0.1169\n",
            "Epoch 180/300\n",
            "\u001b[1m80/80\u001b[0m \u001b[32m━━━━━━━━━━━━━━━━━━━━\u001b[0m\u001b[37m\u001b[0m \u001b[1m0s\u001b[0m 3ms/step - loss: 0.0454 - mean_absolute_error: 0.1259 - val_loss: 0.0448 - val_mean_absolute_error: 0.1168\n",
            "Epoch 181/300\n",
            "\u001b[1m80/80\u001b[0m \u001b[32m━━━━━━━━━━━━━━━━━━━━\u001b[0m\u001b[37m\u001b[0m \u001b[1m0s\u001b[0m 3ms/step - loss: 0.0456 - mean_absolute_error: 0.1265 - val_loss: 0.0447 - val_mean_absolute_error: 0.1168\n",
            "Epoch 182/300\n",
            "\u001b[1m80/80\u001b[0m \u001b[32m━━━━━━━━━━━━━━━━━━━━\u001b[0m\u001b[37m\u001b[0m \u001b[1m0s\u001b[0m 3ms/step - loss: 0.0453 - mean_absolute_error: 0.1262 - val_loss: 0.0447 - val_mean_absolute_error: 0.1168\n",
            "Epoch 183/300\n",
            "\u001b[1m80/80\u001b[0m \u001b[32m━━━━━━━━━━━━━━━━━━━━\u001b[0m\u001b[37m\u001b[0m \u001b[1m0s\u001b[0m 3ms/step - loss: 0.0455 - mean_absolute_error: 0.1263 - val_loss: 0.0447 - val_mean_absolute_error: 0.1167\n",
            "Epoch 184/300\n",
            "\u001b[1m80/80\u001b[0m \u001b[32m━━━━━━━━━━━━━━━━━━━━\u001b[0m\u001b[37m\u001b[0m \u001b[1m0s\u001b[0m 3ms/step - loss: 0.0454 - mean_absolute_error: 0.1263 - val_loss: 0.0446 - val_mean_absolute_error: 0.1167\n",
            "Epoch 185/300\n",
            "\u001b[1m80/80\u001b[0m \u001b[32m━━━━━━━━━━━━━━━━━━━━\u001b[0m\u001b[37m\u001b[0m \u001b[1m0s\u001b[0m 3ms/step - loss: 0.0455 - mean_absolute_error: 0.1262 - val_loss: 0.0446 - val_mean_absolute_error: 0.1167\n",
            "Epoch 186/300\n",
            "\u001b[1m80/80\u001b[0m \u001b[32m━━━━━━━━━━━━━━━━━━━━\u001b[0m\u001b[37m\u001b[0m \u001b[1m0s\u001b[0m 3ms/step - loss: 0.0455 - mean_absolute_error: 0.1264 - val_loss: 0.0446 - val_mean_absolute_error: 0.1166\n",
            "Epoch 187/300\n",
            "\u001b[1m80/80\u001b[0m \u001b[32m━━━━━━━━━━━━━━━━━━━━\u001b[0m\u001b[37m\u001b[0m \u001b[1m0s\u001b[0m 3ms/step - loss: 0.0457 - mean_absolute_error: 0.1267 - val_loss: 0.0445 - val_mean_absolute_error: 0.1166\n",
            "Epoch 188/300\n",
            "\u001b[1m80/80\u001b[0m \u001b[32m━━━━━━━━━━━━━━━━━━━━\u001b[0m\u001b[37m\u001b[0m \u001b[1m0s\u001b[0m 3ms/step - loss: 0.0453 - mean_absolute_error: 0.1260 - val_loss: 0.0445 - val_mean_absolute_error: 0.1165\n",
            "Epoch 189/300\n",
            "\u001b[1m80/80\u001b[0m \u001b[32m━━━━━━━━━━━━━━━━━━━━\u001b[0m\u001b[37m\u001b[0m \u001b[1m0s\u001b[0m 3ms/step - loss: 0.0454 - mean_absolute_error: 0.1261 - val_loss: 0.0445 - val_mean_absolute_error: 0.1165\n",
            "Epoch 190/300\n",
            "\u001b[1m80/80\u001b[0m \u001b[32m━━━━━━━━━━━━━━━━━━━━\u001b[0m\u001b[37m\u001b[0m \u001b[1m0s\u001b[0m 3ms/step - loss: 0.0453 - mean_absolute_error: 0.1261 - val_loss: 0.0445 - val_mean_absolute_error: 0.1165\n",
            "Epoch 191/300\n",
            "\u001b[1m80/80\u001b[0m \u001b[32m━━━━━━━━━━━━━━━━━━━━\u001b[0m\u001b[37m\u001b[0m \u001b[1m0s\u001b[0m 3ms/step - loss: 0.0450 - mean_absolute_error: 0.1258 - val_loss: 0.0444 - val_mean_absolute_error: 0.1164\n",
            "Epoch 192/300\n",
            "\u001b[1m80/80\u001b[0m \u001b[32m━━━━━━━━━━━━━━━━━━━━\u001b[0m\u001b[37m\u001b[0m \u001b[1m0s\u001b[0m 3ms/step - loss: 0.0451 - mean_absolute_error: 0.1260 - val_loss: 0.0444 - val_mean_absolute_error: 0.1164\n",
            "Epoch 193/300\n",
            "\u001b[1m80/80\u001b[0m \u001b[32m━━━━━━━━━━━━━━━━━━━━\u001b[0m\u001b[37m\u001b[0m \u001b[1m0s\u001b[0m 3ms/step - loss: 0.0455 - mean_absolute_error: 0.1266 - val_loss: 0.0444 - val_mean_absolute_error: 0.1163\n",
            "Epoch 194/300\n",
            "\u001b[1m80/80\u001b[0m \u001b[32m━━━━━━━━━━━━━━━━━━━━\u001b[0m\u001b[37m\u001b[0m \u001b[1m0s\u001b[0m 3ms/step - loss: 0.0451 - mean_absolute_error: 0.1258 - val_loss: 0.0443 - val_mean_absolute_error: 0.1163\n",
            "Epoch 195/300\n",
            "\u001b[1m80/80\u001b[0m \u001b[32m━━━━━━━━━━━━━━━━━━━━\u001b[0m\u001b[37m\u001b[0m \u001b[1m0s\u001b[0m 3ms/step - loss: 0.0452 - mean_absolute_error: 0.1262 - val_loss: 0.0443 - val_mean_absolute_error: 0.1163\n",
            "Epoch 196/300\n",
            "\u001b[1m80/80\u001b[0m \u001b[32m━━━━━━━━━━━━━━━━━━━━\u001b[0m\u001b[37m\u001b[0m \u001b[1m0s\u001b[0m 3ms/step - loss: 0.0451 - mean_absolute_error: 0.1259 - val_loss: 0.0443 - val_mean_absolute_error: 0.1162\n",
            "Epoch 197/300\n",
            "\u001b[1m80/80\u001b[0m \u001b[32m━━━━━━━━━━━━━━━━━━━━\u001b[0m\u001b[37m\u001b[0m \u001b[1m0s\u001b[0m 3ms/step - loss: 0.0449 - mean_absolute_error: 0.1261 - val_loss: 0.0442 - val_mean_absolute_error: 0.1162\n",
            "Epoch 198/300\n",
            "\u001b[1m80/80\u001b[0m \u001b[32m━━━━━━━━━━━━━━━━━━━━\u001b[0m\u001b[37m\u001b[0m \u001b[1m0s\u001b[0m 3ms/step - loss: 0.0451 - mean_absolute_error: 0.1261 - val_loss: 0.0442 - val_mean_absolute_error: 0.1161\n",
            "Epoch 199/300\n",
            "\u001b[1m80/80\u001b[0m \u001b[32m━━━━━━━━━━━━━━━━━━━━\u001b[0m\u001b[37m\u001b[0m \u001b[1m0s\u001b[0m 3ms/step - loss: 0.0449 - mean_absolute_error: 0.1258 - val_loss: 0.0442 - val_mean_absolute_error: 0.1161\n",
            "Epoch 200/300\n",
            "\u001b[1m80/80\u001b[0m \u001b[32m━━━━━━━━━━━━━━━━━━━━\u001b[0m\u001b[37m\u001b[0m \u001b[1m0s\u001b[0m 3ms/step - loss: 0.0449 - mean_absolute_error: 0.1258 - val_loss: 0.0441 - val_mean_absolute_error: 0.1161\n",
            "Epoch 201/300\n",
            "\u001b[1m80/80\u001b[0m \u001b[32m━━━━━━━━━━━━━━━━━━━━\u001b[0m\u001b[37m\u001b[0m \u001b[1m0s\u001b[0m 3ms/step - loss: 0.0451 - mean_absolute_error: 0.1262 - val_loss: 0.0441 - val_mean_absolute_error: 0.1160\n",
            "Epoch 202/300\n",
            "\u001b[1m80/80\u001b[0m \u001b[32m━━━━━━━━━━━━━━━━━━━━\u001b[0m\u001b[37m\u001b[0m \u001b[1m0s\u001b[0m 3ms/step - loss: 0.0451 - mean_absolute_error: 0.1260 - val_loss: 0.0441 - val_mean_absolute_error: 0.1160\n",
            "Epoch 203/300\n",
            "\u001b[1m80/80\u001b[0m \u001b[32m━━━━━━━━━━━━━━━━━━━━\u001b[0m\u001b[37m\u001b[0m \u001b[1m0s\u001b[0m 3ms/step - loss: 0.0449 - mean_absolute_error: 0.1257 - val_loss: 0.0441 - val_mean_absolute_error: 0.1160\n",
            "Epoch 204/300\n",
            "\u001b[1m80/80\u001b[0m \u001b[32m━━━━━━━━━━━━━━━━━━━━\u001b[0m\u001b[37m\u001b[0m \u001b[1m0s\u001b[0m 3ms/step - loss: 0.0449 - mean_absolute_error: 0.1259 - val_loss: 0.0440 - val_mean_absolute_error: 0.1159\n",
            "Epoch 205/300\n",
            "\u001b[1m80/80\u001b[0m \u001b[32m━━━━━━━━━━━━━━━━━━━━\u001b[0m\u001b[37m\u001b[0m \u001b[1m0s\u001b[0m 4ms/step - loss: 0.0447 - mean_absolute_error: 0.1257 - val_loss: 0.0440 - val_mean_absolute_error: 0.1159\n",
            "Epoch 206/300\n",
            "\u001b[1m80/80\u001b[0m \u001b[32m━━━━━━━━━━━━━━━━━━━━\u001b[0m\u001b[37m\u001b[0m \u001b[1m1s\u001b[0m 4ms/step - loss: 0.0448 - mean_absolute_error: 0.1256 - val_loss: 0.0440 - val_mean_absolute_error: 0.1158\n",
            "Epoch 207/300\n",
            "\u001b[1m80/80\u001b[0m \u001b[32m━━━━━━━━━━━━━━━━━━━━\u001b[0m\u001b[37m\u001b[0m \u001b[1m0s\u001b[0m 4ms/step - loss: 0.0445 - mean_absolute_error: 0.1254 - val_loss: 0.0439 - val_mean_absolute_error: 0.1158\n",
            "Epoch 208/300\n",
            "\u001b[1m80/80\u001b[0m \u001b[32m━━━━━━━━━━━━━━━━━━━━\u001b[0m\u001b[37m\u001b[0m \u001b[1m0s\u001b[0m 5ms/step - loss: 0.0448 - mean_absolute_error: 0.1260 - val_loss: 0.0439 - val_mean_absolute_error: 0.1158\n",
            "Epoch 209/300\n",
            "\u001b[1m80/80\u001b[0m \u001b[32m━━━━━━━━━━━━━━━━━━━━\u001b[0m\u001b[37m\u001b[0m \u001b[1m1s\u001b[0m 4ms/step - loss: 0.0447 - mean_absolute_error: 0.1258 - val_loss: 0.0439 - val_mean_absolute_error: 0.1157\n",
            "Epoch 210/300\n",
            "\u001b[1m80/80\u001b[0m \u001b[32m━━━━━━━━━━━━━━━━━━━━\u001b[0m\u001b[37m\u001b[0m \u001b[1m1s\u001b[0m 3ms/step - loss: 0.0446 - mean_absolute_error: 0.1257 - val_loss: 0.0438 - val_mean_absolute_error: 0.1157\n",
            "Epoch 211/300\n",
            "\u001b[1m80/80\u001b[0m \u001b[32m━━━━━━━━━━━━━━━━━━━━\u001b[0m\u001b[37m\u001b[0m \u001b[1m0s\u001b[0m 3ms/step - loss: 0.0449 - mean_absolute_error: 0.1260 - val_loss: 0.0438 - val_mean_absolute_error: 0.1157\n",
            "Epoch 212/300\n",
            "\u001b[1m80/80\u001b[0m \u001b[32m━━━━━━━━━━━━━━━━━━━━\u001b[0m\u001b[37m\u001b[0m \u001b[1m0s\u001b[0m 3ms/step - loss: 0.0448 - mean_absolute_error: 0.1257 - val_loss: 0.0438 - val_mean_absolute_error: 0.1156\n",
            "Epoch 213/300\n",
            "\u001b[1m80/80\u001b[0m \u001b[32m━━━━━━━━━━━━━━━━━━━━\u001b[0m\u001b[37m\u001b[0m \u001b[1m0s\u001b[0m 3ms/step - loss: 0.0447 - mean_absolute_error: 0.1258 - val_loss: 0.0438 - val_mean_absolute_error: 0.1156\n",
            "Epoch 214/300\n",
            "\u001b[1m80/80\u001b[0m \u001b[32m━━━━━━━━━━━━━━━━━━━━\u001b[0m\u001b[37m\u001b[0m \u001b[1m0s\u001b[0m 3ms/step - loss: 0.0450 - mean_absolute_error: 0.1263 - val_loss: 0.0437 - val_mean_absolute_error: 0.1155\n",
            "Epoch 215/300\n",
            "\u001b[1m80/80\u001b[0m \u001b[32m━━━━━━━━━━━━━━━━━━━━\u001b[0m\u001b[37m\u001b[0m \u001b[1m0s\u001b[0m 3ms/step - loss: 0.0446 - mean_absolute_error: 0.1256 - val_loss: 0.0437 - val_mean_absolute_error: 0.1155\n",
            "Epoch 216/300\n",
            "\u001b[1m80/80\u001b[0m \u001b[32m━━━━━━━━━━━━━━━━━━━━\u001b[0m\u001b[37m\u001b[0m \u001b[1m0s\u001b[0m 3ms/step - loss: 0.0447 - mean_absolute_error: 0.1256 - val_loss: 0.0437 - val_mean_absolute_error: 0.1155\n",
            "Epoch 217/300\n",
            "\u001b[1m80/80\u001b[0m \u001b[32m━━━━━━━━━━━━━━━━━━━━\u001b[0m\u001b[37m\u001b[0m \u001b[1m0s\u001b[0m 3ms/step - loss: 0.0446 - mean_absolute_error: 0.1257 - val_loss: 0.0436 - val_mean_absolute_error: 0.1154\n",
            "Epoch 218/300\n",
            "\u001b[1m80/80\u001b[0m \u001b[32m━━━━━━━━━━━━━━━━━━━━\u001b[0m\u001b[37m\u001b[0m \u001b[1m0s\u001b[0m 3ms/step - loss: 0.0443 - mean_absolute_error: 0.1254 - val_loss: 0.0436 - val_mean_absolute_error: 0.1154\n",
            "Epoch 219/300\n",
            "\u001b[1m80/80\u001b[0m \u001b[32m━━━━━━━━━━━━━━━━━━━━\u001b[0m\u001b[37m\u001b[0m \u001b[1m0s\u001b[0m 3ms/step - loss: 0.0446 - mean_absolute_error: 0.1260 - val_loss: 0.0436 - val_mean_absolute_error: 0.1153\n",
            "Epoch 220/300\n",
            "\u001b[1m80/80\u001b[0m \u001b[32m━━━━━━━━━━━━━━━━━━━━\u001b[0m\u001b[37m\u001b[0m \u001b[1m0s\u001b[0m 3ms/step - loss: 0.0446 - mean_absolute_error: 0.1257 - val_loss: 0.0436 - val_mean_absolute_error: 0.1153\n",
            "Epoch 221/300\n",
            "\u001b[1m80/80\u001b[0m \u001b[32m━━━━━━━━━━━━━━━━━━━━\u001b[0m\u001b[37m\u001b[0m \u001b[1m0s\u001b[0m 3ms/step - loss: 0.0445 - mean_absolute_error: 0.1259 - val_loss: 0.0436 - val_mean_absolute_error: 0.1153\n",
            "Epoch 222/300\n",
            "\u001b[1m80/80\u001b[0m \u001b[32m━━━━━━━━━━━━━━━━━━━━\u001b[0m\u001b[37m\u001b[0m \u001b[1m0s\u001b[0m 3ms/step - loss: 0.0447 - mean_absolute_error: 0.1260 - val_loss: 0.0435 - val_mean_absolute_error: 0.1152\n",
            "Epoch 223/300\n",
            "\u001b[1m80/80\u001b[0m \u001b[32m━━━━━━━━━━━━━━━━━━━━\u001b[0m\u001b[37m\u001b[0m \u001b[1m0s\u001b[0m 3ms/step - loss: 0.0443 - mean_absolute_error: 0.1254 - val_loss: 0.0435 - val_mean_absolute_error: 0.1152\n",
            "Epoch 224/300\n",
            "\u001b[1m80/80\u001b[0m \u001b[32m━━━━━━━━━━━━━━━━━━━━\u001b[0m\u001b[37m\u001b[0m \u001b[1m0s\u001b[0m 3ms/step - loss: 0.0443 - mean_absolute_error: 0.1253 - val_loss: 0.0435 - val_mean_absolute_error: 0.1151\n",
            "Epoch 225/300\n",
            "\u001b[1m80/80\u001b[0m \u001b[32m━━━━━━━━━━━━━━━━━━━━\u001b[0m\u001b[37m\u001b[0m \u001b[1m0s\u001b[0m 3ms/step - loss: 0.0444 - mean_absolute_error: 0.1255 - val_loss: 0.0434 - val_mean_absolute_error: 0.1151\n",
            "Epoch 226/300\n",
            "\u001b[1m80/80\u001b[0m \u001b[32m━━━━━━━━━━━━━━━━━━━━\u001b[0m\u001b[37m\u001b[0m \u001b[1m0s\u001b[0m 3ms/step - loss: 0.0446 - mean_absolute_error: 0.1259 - val_loss: 0.0434 - val_mean_absolute_error: 0.1151\n",
            "Epoch 227/300\n",
            "\u001b[1m80/80\u001b[0m \u001b[32m━━━━━━━━━━━━━━━━━━━━\u001b[0m\u001b[37m\u001b[0m \u001b[1m0s\u001b[0m 3ms/step - loss: 0.0445 - mean_absolute_error: 0.1256 - val_loss: 0.0434 - val_mean_absolute_error: 0.1150\n",
            "Epoch 228/300\n",
            "\u001b[1m80/80\u001b[0m \u001b[32m━━━━━━━━━━━━━━━━━━━━\u001b[0m\u001b[37m\u001b[0m \u001b[1m0s\u001b[0m 3ms/step - loss: 0.0443 - mean_absolute_error: 0.1255 - val_loss: 0.0434 - val_mean_absolute_error: 0.1150\n",
            "Epoch 229/300\n",
            "\u001b[1m80/80\u001b[0m \u001b[32m━━━━━━━━━━━━━━━━━━━━\u001b[0m\u001b[37m\u001b[0m \u001b[1m0s\u001b[0m 3ms/step - loss: 0.0441 - mean_absolute_error: 0.1252 - val_loss: 0.0433 - val_mean_absolute_error: 0.1149\n",
            "Epoch 230/300\n",
            "\u001b[1m80/80\u001b[0m \u001b[32m━━━━━━━━━━━━━━━━━━━━\u001b[0m\u001b[37m\u001b[0m \u001b[1m0s\u001b[0m 3ms/step - loss: 0.0441 - mean_absolute_error: 0.1254 - val_loss: 0.0433 - val_mean_absolute_error: 0.1149\n",
            "Epoch 231/300\n",
            "\u001b[1m80/80\u001b[0m \u001b[32m━━━━━━━━━━━━━━━━━━━━\u001b[0m\u001b[37m\u001b[0m \u001b[1m0s\u001b[0m 3ms/step - loss: 0.0443 - mean_absolute_error: 0.1255 - val_loss: 0.0433 - val_mean_absolute_error: 0.1149\n",
            "Epoch 232/300\n",
            "\u001b[1m80/80\u001b[0m \u001b[32m━━━━━━━━━━━━━━━━━━━━\u001b[0m\u001b[37m\u001b[0m \u001b[1m0s\u001b[0m 3ms/step - loss: 0.0443 - mean_absolute_error: 0.1254 - val_loss: 0.0433 - val_mean_absolute_error: 0.1148\n",
            "Epoch 233/300\n",
            "\u001b[1m80/80\u001b[0m \u001b[32m━━━━━━━━━━━━━━━━━━━━\u001b[0m\u001b[37m\u001b[0m \u001b[1m0s\u001b[0m 3ms/step - loss: 0.0443 - mean_absolute_error: 0.1255 - val_loss: 0.0432 - val_mean_absolute_error: 0.1148\n",
            "Epoch 234/300\n",
            "\u001b[1m80/80\u001b[0m \u001b[32m━━━━━━━━━━━━━━━━━━━━\u001b[0m\u001b[37m\u001b[0m \u001b[1m0s\u001b[0m 3ms/step - loss: 0.0443 - mean_absolute_error: 0.1254 - val_loss: 0.0432 - val_mean_absolute_error: 0.1148\n",
            "Epoch 235/300\n",
            "\u001b[1m80/80\u001b[0m \u001b[32m━━━━━━━━━━━━━━━━━━━━\u001b[0m\u001b[37m\u001b[0m \u001b[1m0s\u001b[0m 3ms/step - loss: 0.0440 - mean_absolute_error: 0.1253 - val_loss: 0.0432 - val_mean_absolute_error: 0.1147\n",
            "Epoch 236/300\n",
            "\u001b[1m80/80\u001b[0m \u001b[32m━━━━━━━━━━━━━━━━━━━━\u001b[0m\u001b[37m\u001b[0m \u001b[1m0s\u001b[0m 3ms/step - loss: 0.0440 - mean_absolute_error: 0.1251 - val_loss: 0.0432 - val_mean_absolute_error: 0.1147\n",
            "Epoch 237/300\n",
            "\u001b[1m80/80\u001b[0m \u001b[32m━━━━━━━━━━━━━━━━━━━━\u001b[0m\u001b[37m\u001b[0m \u001b[1m0s\u001b[0m 3ms/step - loss: 0.0441 - mean_absolute_error: 0.1254 - val_loss: 0.0431 - val_mean_absolute_error: 0.1146\n",
            "Epoch 238/300\n",
            "\u001b[1m80/80\u001b[0m \u001b[32m━━━━━━━━━━━━━━━━━━━━\u001b[0m\u001b[37m\u001b[0m \u001b[1m0s\u001b[0m 3ms/step - loss: 0.0438 - mean_absolute_error: 0.1249 - val_loss: 0.0431 - val_mean_absolute_error: 0.1146\n",
            "Epoch 239/300\n",
            "\u001b[1m80/80\u001b[0m \u001b[32m━━━━━━━━━━━━━━━━━━━━\u001b[0m\u001b[37m\u001b[0m \u001b[1m0s\u001b[0m 3ms/step - loss: 0.0439 - mean_absolute_error: 0.1251 - val_loss: 0.0431 - val_mean_absolute_error: 0.1146\n",
            "Epoch 240/300\n",
            "\u001b[1m80/80\u001b[0m \u001b[32m━━━━━━━━━━━━━━━━━━━━\u001b[0m\u001b[37m\u001b[0m \u001b[1m0s\u001b[0m 3ms/step - loss: 0.0441 - mean_absolute_error: 0.1252 - val_loss: 0.0431 - val_mean_absolute_error: 0.1145\n",
            "Epoch 241/300\n",
            "\u001b[1m80/80\u001b[0m \u001b[32m━━━━━━━━━━━━━━━━━━━━\u001b[0m\u001b[37m\u001b[0m \u001b[1m0s\u001b[0m 3ms/step - loss: 0.0443 - mean_absolute_error: 0.1257 - val_loss: 0.0430 - val_mean_absolute_error: 0.1145\n",
            "Epoch 242/300\n",
            "\u001b[1m80/80\u001b[0m \u001b[32m━━━━━━━━━━━━━━━━━━━━\u001b[0m\u001b[37m\u001b[0m \u001b[1m0s\u001b[0m 3ms/step - loss: 0.0441 - mean_absolute_error: 0.1252 - val_loss: 0.0430 - val_mean_absolute_error: 0.1145\n",
            "Epoch 243/300\n",
            "\u001b[1m80/80\u001b[0m \u001b[32m━━━━━━━━━━━━━━━━━━━━\u001b[0m\u001b[37m\u001b[0m \u001b[1m0s\u001b[0m 3ms/step - loss: 0.0440 - mean_absolute_error: 0.1252 - val_loss: 0.0430 - val_mean_absolute_error: 0.1144\n",
            "Epoch 244/300\n",
            "\u001b[1m80/80\u001b[0m \u001b[32m━━━━━━━━━━━━━━━━━━━━\u001b[0m\u001b[37m\u001b[0m \u001b[1m0s\u001b[0m 3ms/step - loss: 0.0438 - mean_absolute_error: 0.1248 - val_loss: 0.0430 - val_mean_absolute_error: 0.1144\n",
            "Epoch 245/300\n",
            "\u001b[1m80/80\u001b[0m \u001b[32m━━━━━━━━━━━━━━━━━━━━\u001b[0m\u001b[37m\u001b[0m \u001b[1m0s\u001b[0m 4ms/step - loss: 0.0441 - mean_absolute_error: 0.1251 - val_loss: 0.0429 - val_mean_absolute_error: 0.1144\n",
            "Epoch 246/300\n",
            "\u001b[1m80/80\u001b[0m \u001b[32m━━━━━━━━━━━━━━━━━━━━\u001b[0m\u001b[37m\u001b[0m \u001b[1m0s\u001b[0m 4ms/step - loss: 0.0440 - mean_absolute_error: 0.1252 - val_loss: 0.0429 - val_mean_absolute_error: 0.1143\n",
            "Epoch 247/300\n",
            "\u001b[1m80/80\u001b[0m \u001b[32m━━━━━━━━━━━━━━━━━━━━\u001b[0m\u001b[37m\u001b[0m \u001b[1m1s\u001b[0m 4ms/step - loss: 0.0437 - mean_absolute_error: 0.1249 - val_loss: 0.0429 - val_mean_absolute_error: 0.1143\n",
            "Epoch 248/300\n",
            "\u001b[1m80/80\u001b[0m \u001b[32m━━━━━━━━━━━━━━━━━━━━\u001b[0m\u001b[37m\u001b[0m \u001b[1m0s\u001b[0m 4ms/step - loss: 0.0436 - mean_absolute_error: 0.1247 - val_loss: 0.0429 - val_mean_absolute_error: 0.1142\n",
            "Epoch 249/300\n",
            "\u001b[1m80/80\u001b[0m \u001b[32m━━━━━━━━━━━━━━━━━━━━\u001b[0m\u001b[37m\u001b[0m \u001b[1m0s\u001b[0m 4ms/step - loss: 0.0436 - mean_absolute_error: 0.1247 - val_loss: 0.0428 - val_mean_absolute_error: 0.1142\n",
            "Epoch 250/300\n",
            "\u001b[1m80/80\u001b[0m \u001b[32m━━━━━━━━━━━━━━━━━━━━\u001b[0m\u001b[37m\u001b[0m \u001b[1m1s\u001b[0m 4ms/step - loss: 0.0438 - mean_absolute_error: 0.1249 - val_loss: 0.0428 - val_mean_absolute_error: 0.1142\n",
            "Epoch 251/300\n",
            "\u001b[1m80/80\u001b[0m \u001b[32m━━━━━━━━━━━━━━━━━━━━\u001b[0m\u001b[37m\u001b[0m \u001b[1m0s\u001b[0m 3ms/step - loss: 0.0437 - mean_absolute_error: 0.1250 - val_loss: 0.0428 - val_mean_absolute_error: 0.1141\n",
            "Epoch 252/300\n",
            "\u001b[1m80/80\u001b[0m \u001b[32m━━━━━━━━━━━━━━━━━━━━\u001b[0m\u001b[37m\u001b[0m \u001b[1m0s\u001b[0m 3ms/step - loss: 0.0439 - mean_absolute_error: 0.1251 - val_loss: 0.0428 - val_mean_absolute_error: 0.1141\n",
            "Epoch 253/300\n",
            "\u001b[1m80/80\u001b[0m \u001b[32m━━━━━━━━━━━━━━━━━━━━\u001b[0m\u001b[37m\u001b[0m \u001b[1m0s\u001b[0m 3ms/step - loss: 0.0436 - mean_absolute_error: 0.1251 - val_loss: 0.0427 - val_mean_absolute_error: 0.1140\n",
            "Epoch 254/300\n",
            "\u001b[1m80/80\u001b[0m \u001b[32m━━━━━━━━━━━━━━━━━━━━\u001b[0m\u001b[37m\u001b[0m \u001b[1m0s\u001b[0m 3ms/step - loss: 0.0437 - mean_absolute_error: 0.1249 - val_loss: 0.0427 - val_mean_absolute_error: 0.1140\n",
            "Epoch 255/300\n",
            "\u001b[1m80/80\u001b[0m \u001b[32m━━━━━━━━━━━━━━━━━━━━\u001b[0m\u001b[37m\u001b[0m \u001b[1m0s\u001b[0m 3ms/step - loss: 0.0433 - mean_absolute_error: 0.1245 - val_loss: 0.0427 - val_mean_absolute_error: 0.1140\n",
            "Epoch 256/300\n",
            "\u001b[1m80/80\u001b[0m \u001b[32m━━━━━━━━━━━━━━━━━━━━\u001b[0m\u001b[37m\u001b[0m \u001b[1m0s\u001b[0m 3ms/step - loss: 0.0433 - mean_absolute_error: 0.1244 - val_loss: 0.0427 - val_mean_absolute_error: 0.1139\n",
            "Epoch 257/300\n",
            "\u001b[1m80/80\u001b[0m \u001b[32m━━━━━━━━━━━━━━━━━━━━\u001b[0m\u001b[37m\u001b[0m \u001b[1m0s\u001b[0m 3ms/step - loss: 0.0433 - mean_absolute_error: 0.1245 - val_loss: 0.0427 - val_mean_absolute_error: 0.1139\n",
            "Epoch 258/300\n",
            "\u001b[1m80/80\u001b[0m \u001b[32m━━━━━━━━━━━━━━━━━━━━\u001b[0m\u001b[37m\u001b[0m \u001b[1m0s\u001b[0m 3ms/step - loss: 0.0438 - mean_absolute_error: 0.1251 - val_loss: 0.0426 - val_mean_absolute_error: 0.1138\n",
            "Epoch 259/300\n",
            "\u001b[1m80/80\u001b[0m \u001b[32m━━━━━━━━━━━━━━━━━━━━\u001b[0m\u001b[37m\u001b[0m \u001b[1m0s\u001b[0m 3ms/step - loss: 0.0434 - mean_absolute_error: 0.1246 - val_loss: 0.0426 - val_mean_absolute_error: 0.1138\n",
            "Epoch 260/300\n",
            "\u001b[1m80/80\u001b[0m \u001b[32m━━━━━━━━━━━━━━━━━━━━\u001b[0m\u001b[37m\u001b[0m \u001b[1m0s\u001b[0m 3ms/step - loss: 0.0438 - mean_absolute_error: 0.1250 - val_loss: 0.0426 - val_mean_absolute_error: 0.1138\n",
            "Epoch 261/300\n",
            "\u001b[1m80/80\u001b[0m \u001b[32m━━━━━━━━━━━━━━━━━━━━\u001b[0m\u001b[37m\u001b[0m \u001b[1m0s\u001b[0m 3ms/step - loss: 0.0433 - mean_absolute_error: 0.1243 - val_loss: 0.0426 - val_mean_absolute_error: 0.1137\n",
            "Epoch 262/300\n",
            "\u001b[1m80/80\u001b[0m \u001b[32m━━━━━━━━━━━━━━━━━━━━\u001b[0m\u001b[37m\u001b[0m \u001b[1m0s\u001b[0m 3ms/step - loss: 0.0438 - mean_absolute_error: 0.1251 - val_loss: 0.0425 - val_mean_absolute_error: 0.1137\n",
            "Epoch 263/300\n",
            "\u001b[1m80/80\u001b[0m \u001b[32m━━━━━━━━━━━━━━━━━━━━\u001b[0m\u001b[37m\u001b[0m \u001b[1m0s\u001b[0m 3ms/step - loss: 0.0436 - mean_absolute_error: 0.1250 - val_loss: 0.0425 - val_mean_absolute_error: 0.1137\n",
            "Epoch 264/300\n",
            "\u001b[1m80/80\u001b[0m \u001b[32m━━━━━━━━━━━━━━━━━━━━\u001b[0m\u001b[37m\u001b[0m \u001b[1m0s\u001b[0m 3ms/step - loss: 0.0435 - mean_absolute_error: 0.1249 - val_loss: 0.0425 - val_mean_absolute_error: 0.1136\n",
            "Epoch 265/300\n",
            "\u001b[1m80/80\u001b[0m \u001b[32m━━━━━━━━━━━━━━━━━━━━\u001b[0m\u001b[37m\u001b[0m \u001b[1m0s\u001b[0m 3ms/step - loss: 0.0438 - mean_absolute_error: 0.1249 - val_loss: 0.0425 - val_mean_absolute_error: 0.1136\n",
            "Epoch 266/300\n",
            "\u001b[1m80/80\u001b[0m \u001b[32m━━━━━━━━━━━━━━━━━━━━\u001b[0m\u001b[37m\u001b[0m \u001b[1m0s\u001b[0m 3ms/step - loss: 0.0435 - mean_absolute_error: 0.1248 - val_loss: 0.0424 - val_mean_absolute_error: 0.1136\n",
            "Epoch 267/300\n",
            "\u001b[1m80/80\u001b[0m \u001b[32m━━━━━━━━━━━━━━━━━━━━\u001b[0m\u001b[37m\u001b[0m \u001b[1m0s\u001b[0m 3ms/step - loss: 0.0435 - mean_absolute_error: 0.1245 - val_loss: 0.0424 - val_mean_absolute_error: 0.1135\n",
            "Epoch 268/300\n",
            "\u001b[1m80/80\u001b[0m \u001b[32m━━━━━━━━━━━━━━━━━━━━\u001b[0m\u001b[37m\u001b[0m \u001b[1m0s\u001b[0m 3ms/step - loss: 0.0435 - mean_absolute_error: 0.1246 - val_loss: 0.0424 - val_mean_absolute_error: 0.1135\n",
            "Epoch 269/300\n",
            "\u001b[1m80/80\u001b[0m \u001b[32m━━━━━━━━━━━━━━━━━━━━\u001b[0m\u001b[37m\u001b[0m \u001b[1m0s\u001b[0m 3ms/step - loss: 0.0436 - mean_absolute_error: 0.1248 - val_loss: 0.0424 - val_mean_absolute_error: 0.1134\n",
            "Epoch 270/300\n",
            "\u001b[1m80/80\u001b[0m \u001b[32m━━━━━━━━━━━━━━━━━━━━\u001b[0m\u001b[37m\u001b[0m \u001b[1m0s\u001b[0m 3ms/step - loss: 0.0436 - mean_absolute_error: 0.1249 - val_loss: 0.0423 - val_mean_absolute_error: 0.1134\n",
            "Epoch 271/300\n",
            "\u001b[1m80/80\u001b[0m \u001b[32m━━━━━━━━━━━━━━━━━━━━\u001b[0m\u001b[37m\u001b[0m \u001b[1m0s\u001b[0m 3ms/step - loss: 0.0431 - mean_absolute_error: 0.1243 - val_loss: 0.0423 - val_mean_absolute_error: 0.1134\n",
            "Epoch 272/300\n",
            "\u001b[1m80/80\u001b[0m \u001b[32m━━━━━━━━━━━━━━━━━━━━\u001b[0m\u001b[37m\u001b[0m \u001b[1m0s\u001b[0m 3ms/step - loss: 0.0432 - mean_absolute_error: 0.1242 - val_loss: 0.0423 - val_mean_absolute_error: 0.1133\n",
            "Epoch 273/300\n",
            "\u001b[1m80/80\u001b[0m \u001b[32m━━━━━━━━━━━━━━━━━━━━\u001b[0m\u001b[37m\u001b[0m \u001b[1m0s\u001b[0m 3ms/step - loss: 0.0436 - mean_absolute_error: 0.1247 - val_loss: 0.0423 - val_mean_absolute_error: 0.1133\n",
            "Epoch 274/300\n",
            "\u001b[1m80/80\u001b[0m \u001b[32m━━━━━━━━━━━━━━━━━━━━\u001b[0m\u001b[37m\u001b[0m \u001b[1m0s\u001b[0m 3ms/step - loss: 0.0435 - mean_absolute_error: 0.1249 - val_loss: 0.0423 - val_mean_absolute_error: 0.1132\n",
            "Epoch 275/300\n",
            "\u001b[1m80/80\u001b[0m \u001b[32m━━━━━━━━━━━━━━━━━━━━\u001b[0m\u001b[37m\u001b[0m \u001b[1m0s\u001b[0m 3ms/step - loss: 0.0433 - mean_absolute_error: 0.1243 - val_loss: 0.0422 - val_mean_absolute_error: 0.1132\n",
            "Epoch 276/300\n",
            "\u001b[1m80/80\u001b[0m \u001b[32m━━━━━━━━━━━━━━━━━━━━\u001b[0m\u001b[37m\u001b[0m \u001b[1m0s\u001b[0m 3ms/step - loss: 0.0432 - mean_absolute_error: 0.1242 - val_loss: 0.0422 - val_mean_absolute_error: 0.1132\n",
            "Epoch 277/300\n",
            "\u001b[1m80/80\u001b[0m \u001b[32m━━━━━━━━━━━━━━━━━━━━\u001b[0m\u001b[37m\u001b[0m \u001b[1m0s\u001b[0m 3ms/step - loss: 0.0431 - mean_absolute_error: 0.1245 - val_loss: 0.0422 - val_mean_absolute_error: 0.1131\n",
            "Epoch 278/300\n",
            "\u001b[1m80/80\u001b[0m \u001b[32m━━━━━━━━━━━━━━━━━━━━\u001b[0m\u001b[37m\u001b[0m \u001b[1m0s\u001b[0m 3ms/step - loss: 0.0431 - mean_absolute_error: 0.1241 - val_loss: 0.0422 - val_mean_absolute_error: 0.1131\n",
            "Epoch 279/300\n",
            "\u001b[1m80/80\u001b[0m \u001b[32m━━━━━━━━━━━━━━━━━━━━\u001b[0m\u001b[37m\u001b[0m \u001b[1m0s\u001b[0m 3ms/step - loss: 0.0432 - mean_absolute_error: 0.1242 - val_loss: 0.0422 - val_mean_absolute_error: 0.1130\n",
            "Epoch 280/300\n",
            "\u001b[1m80/80\u001b[0m \u001b[32m━━━━━━━━━━━━━━━━━━━━\u001b[0m\u001b[37m\u001b[0m \u001b[1m0s\u001b[0m 3ms/step - loss: 0.0431 - mean_absolute_error: 0.1241 - val_loss: 0.0421 - val_mean_absolute_error: 0.1130\n",
            "Epoch 281/300\n",
            "\u001b[1m80/80\u001b[0m \u001b[32m━━━━━━━━━━━━━━━━━━━━\u001b[0m\u001b[37m\u001b[0m \u001b[1m0s\u001b[0m 3ms/step - loss: 0.0432 - mean_absolute_error: 0.1242 - val_loss: 0.0421 - val_mean_absolute_error: 0.1129\n",
            "Epoch 282/300\n",
            "\u001b[1m80/80\u001b[0m \u001b[32m━━━━━━━━━━━━━━━━━━━━\u001b[0m\u001b[37m\u001b[0m \u001b[1m0s\u001b[0m 3ms/step - loss: 0.0431 - mean_absolute_error: 0.1241 - val_loss: 0.0421 - val_mean_absolute_error: 0.1129\n",
            "Epoch 283/300\n",
            "\u001b[1m80/80\u001b[0m \u001b[32m━━━━━━━━━━━━━━━━━━━━\u001b[0m\u001b[37m\u001b[0m \u001b[1m0s\u001b[0m 3ms/step - loss: 0.0433 - mean_absolute_error: 0.1245 - val_loss: 0.0421 - val_mean_absolute_error: 0.1129\n",
            "Epoch 284/300\n",
            "\u001b[1m80/80\u001b[0m \u001b[32m━━━━━━━━━━━━━━━━━━━━\u001b[0m\u001b[37m\u001b[0m \u001b[1m0s\u001b[0m 3ms/step - loss: 0.0429 - mean_absolute_error: 0.1241 - val_loss: 0.0421 - val_mean_absolute_error: 0.1129\n",
            "Epoch 285/300\n",
            "\u001b[1m80/80\u001b[0m \u001b[32m━━━━━━━━━━━━━━━━━━━━\u001b[0m\u001b[37m\u001b[0m \u001b[1m0s\u001b[0m 4ms/step - loss: 0.0432 - mean_absolute_error: 0.1243 - val_loss: 0.0420 - val_mean_absolute_error: 0.1128\n",
            "Epoch 286/300\n",
            "\u001b[1m80/80\u001b[0m \u001b[32m━━━━━━━━━━━━━━━━━━━━\u001b[0m\u001b[37m\u001b[0m \u001b[1m1s\u001b[0m 4ms/step - loss: 0.0431 - mean_absolute_error: 0.1240 - val_loss: 0.0420 - val_mean_absolute_error: 0.1128\n",
            "Epoch 287/300\n",
            "\u001b[1m80/80\u001b[0m \u001b[32m━━━━━━━━━━━━━━━━━━━━\u001b[0m\u001b[37m\u001b[0m \u001b[1m1s\u001b[0m 4ms/step - loss: 0.0431 - mean_absolute_error: 0.1241 - val_loss: 0.0420 - val_mean_absolute_error: 0.1128\n",
            "Epoch 288/300\n",
            "\u001b[1m80/80\u001b[0m \u001b[32m━━━━━━━━━━━━━━━━━━━━\u001b[0m\u001b[37m\u001b[0m \u001b[1m1s\u001b[0m 3ms/step - loss: 0.0429 - mean_absolute_error: 0.1238 - val_loss: 0.0420 - val_mean_absolute_error: 0.1127\n",
            "Epoch 289/300\n",
            "\u001b[1m80/80\u001b[0m \u001b[32m━━━━━━━━━━━━━━━━━━━━\u001b[0m\u001b[37m\u001b[0m \u001b[1m0s\u001b[0m 3ms/step - loss: 0.0428 - mean_absolute_error: 0.1237 - val_loss: 0.0419 - val_mean_absolute_error: 0.1127\n",
            "Epoch 290/300\n",
            "\u001b[1m80/80\u001b[0m \u001b[32m━━━━━━━━━━━━━━━━━━━━\u001b[0m\u001b[37m\u001b[0m \u001b[1m0s\u001b[0m 3ms/step - loss: 0.0430 - mean_absolute_error: 0.1238 - val_loss: 0.0419 - val_mean_absolute_error: 0.1126\n",
            "Epoch 291/300\n",
            "\u001b[1m80/80\u001b[0m \u001b[32m━━━━━━━━━━━━━━━━━━━━\u001b[0m\u001b[37m\u001b[0m \u001b[1m0s\u001b[0m 3ms/step - loss: 0.0428 - mean_absolute_error: 0.1237 - val_loss: 0.0419 - val_mean_absolute_error: 0.1126\n",
            "Epoch 292/300\n",
            "\u001b[1m80/80\u001b[0m \u001b[32m━━━━━━━━━━━━━━━━━━━━\u001b[0m\u001b[37m\u001b[0m \u001b[1m0s\u001b[0m 3ms/step - loss: 0.0428 - mean_absolute_error: 0.1239 - val_loss: 0.0419 - val_mean_absolute_error: 0.1125\n",
            "Epoch 293/300\n",
            "\u001b[1m80/80\u001b[0m \u001b[32m━━━━━━━━━━━━━━━━━━━━\u001b[0m\u001b[37m\u001b[0m \u001b[1m0s\u001b[0m 3ms/step - loss: 0.0429 - mean_absolute_error: 0.1241 - val_loss: 0.0419 - val_mean_absolute_error: 0.1126\n",
            "Epoch 294/300\n",
            "\u001b[1m80/80\u001b[0m \u001b[32m━━━━━━━━━━━━━━━━━━━━\u001b[0m\u001b[37m\u001b[0m \u001b[1m0s\u001b[0m 3ms/step - loss: 0.0428 - mean_absolute_error: 0.1238 - val_loss: 0.0418 - val_mean_absolute_error: 0.1125\n",
            "Epoch 295/300\n",
            "\u001b[1m80/80\u001b[0m \u001b[32m━━━━━━━━━━━━━━━━━━━━\u001b[0m\u001b[37m\u001b[0m \u001b[1m0s\u001b[0m 3ms/step - loss: 0.0426 - mean_absolute_error: 0.1235 - val_loss: 0.0418 - val_mean_absolute_error: 0.1125\n",
            "Epoch 296/300\n",
            "\u001b[1m80/80\u001b[0m \u001b[32m━━━━━━━━━━━━━━━━━━━━\u001b[0m\u001b[37m\u001b[0m \u001b[1m0s\u001b[0m 3ms/step - loss: 0.0431 - mean_absolute_error: 0.1240 - val_loss: 0.0418 - val_mean_absolute_error: 0.1124\n",
            "Epoch 297/300\n",
            "\u001b[1m80/80\u001b[0m \u001b[32m━━━━━━━━━━━━━━━━━━━━\u001b[0m\u001b[37m\u001b[0m \u001b[1m0s\u001b[0m 3ms/step - loss: 0.0428 - mean_absolute_error: 0.1237 - val_loss: 0.0418 - val_mean_absolute_error: 0.1124\n",
            "Epoch 298/300\n",
            "\u001b[1m80/80\u001b[0m \u001b[32m━━━━━━━━━━━━━━━━━━━━\u001b[0m\u001b[37m\u001b[0m \u001b[1m0s\u001b[0m 3ms/step - loss: 0.0431 - mean_absolute_error: 0.1240 - val_loss: 0.0417 - val_mean_absolute_error: 0.1123\n",
            "Epoch 299/300\n",
            "\u001b[1m80/80\u001b[0m \u001b[32m━━━━━━━━━━━━━━━━━━━━\u001b[0m\u001b[37m\u001b[0m \u001b[1m0s\u001b[0m 3ms/step - loss: 0.0431 - mean_absolute_error: 0.1245 - val_loss: 0.0417 - val_mean_absolute_error: 0.1123\n",
            "Epoch 300/300\n",
            "\u001b[1m80/80\u001b[0m \u001b[32m━━━━━━━━━━━━━━━━━━━━\u001b[0m\u001b[37m\u001b[0m \u001b[1m0s\u001b[0m 3ms/step - loss: 0.0428 - mean_absolute_error: 0.1239 - val_loss: 0.0417 - val_mean_absolute_error: 0.1123\n"
          ]
        },
        {
          "output_type": "execute_result",
          "data": {
            "text/plain": [
              "<keras.src.callbacks.history.History at 0x7cb9fd1d4d30>"
            ]
          },
          "metadata": {},
          "execution_count": 54
        }
      ]
    },
    {
      "cell_type": "code",
      "source": [],
      "metadata": {
        "id": "FLkLEuswMxjC"
      },
      "execution_count": null,
      "outputs": []
    }
  ]
}