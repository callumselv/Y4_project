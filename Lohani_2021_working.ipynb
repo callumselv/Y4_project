{
  "nbformat": 4,
  "nbformat_minor": 0,
  "metadata": {
    "colab": {
      "provenance": [],
      "gpuType": "T4",
      "authorship_tag": "ABX9TyO/ISaFkb+yo+bGA+UWcZ6B",
      "include_colab_link": true
    },
    "kernelspec": {
      "name": "python3",
      "display_name": "Python 3"
    },
    "language_info": {
      "name": "python"
    },
    "accelerator": "GPU"
  },
  "cells": [
    {
      "cell_type": "markdown",
      "metadata": {
        "id": "view-in-github",
        "colab_type": "text"
      },
      "source": [
        "<a href=\"https://colab.research.google.com/github/callumselv/Y4_project/blob/main/Lohani_2021_working.ipynb\" target=\"_parent\"><img src=\"https://colab.research.google.com/assets/colab-badge.svg\" alt=\"Open In Colab\"/></a>"
      ]
    },
    {
      "cell_type": "code",
      "execution_count": 1,
      "metadata": {
        "colab": {
          "base_uri": "https://localhost:8080/"
        },
        "id": "auA_a6z_3c8h",
        "outputId": "be82526d-5af9-406a-b322-a5b9fe38016c"
      },
      "outputs": [
        {
          "output_type": "stream",
          "name": "stdout",
          "text": [
            "Collecting qutip\n",
            "  Downloading qutip-5.0.4-cp310-cp310-manylinux_2_17_x86_64.manylinux2014_x86_64.whl.metadata (9.2 kB)\n",
            "Requirement already satisfied: numpy>=1.22 in /usr/local/lib/python3.10/dist-packages (from qutip) (1.26.4)\n",
            "Requirement already satisfied: scipy>=1.9 in /usr/local/lib/python3.10/dist-packages (from qutip) (1.13.1)\n",
            "Requirement already satisfied: packaging in /usr/local/lib/python3.10/dist-packages (from qutip) (24.1)\n",
            "Downloading qutip-5.0.4-cp310-cp310-manylinux_2_17_x86_64.manylinux2014_x86_64.whl (28.0 MB)\n",
            "\u001b[2K   \u001b[90m━━━━━━━━━━━━━━━━━━━━━━━━━━━━━━━━━━━━━━━━\u001b[0m \u001b[32m28.0/28.0 MB\u001b[0m \u001b[31m16.5 MB/s\u001b[0m eta \u001b[36m0:00:00\u001b[0m\n",
            "\u001b[?25hInstalling collected packages: qutip\n",
            "Successfully installed qutip-5.0.4\n"
          ]
        }
      ],
      "source": [
        "!pip install qutip"
      ]
    },
    {
      "cell_type": "code",
      "source": [
        "import numpy as np\n",
        "from qutip import *\n",
        "import tensorflow as tf\n",
        "from tensorflow.keras.models import Sequential\n",
        "from tensorflow.keras.layers import Conv2D, MaxPooling2D, Flatten, Dense, Dropout\n",
        "import matplotlib.pyplot as plt\n",
        "from scipy.stats import unitary_group"
      ],
      "metadata": {
        "id": "hwyCpc1z3yiO"
      },
      "execution_count": 2,
      "outputs": []
    },
    {
      "cell_type": "code",
      "source": [
        "no_data = 30000\n",
        "d = 2\n",
        "dimension = 2**d"
      ],
      "metadata": {
        "id": "ye_v83js4iaH"
      },
      "execution_count": 3,
      "outputs": []
    },
    {
      "cell_type": "code",
      "source": [
        "# Generate rho matrices\n",
        "\n",
        "rhos = np.zeros((no_data,dimension,dimension),dtype=complex)\n",
        "eta = 1e-7\n",
        "\n",
        "for i in range(no_data):\n",
        "    random_unitary = unitary_group.rvs(dimension)\n",
        "    coeffs = random_unitary[:,0]\n",
        "    rho = np.outer(coeffs,coeffs.conj())\n",
        "    rhos[i] = (1-eta)*rho + (eta/4)*np.eye(dimension)"
      ],
      "metadata": {
        "id": "ZPjpperK4Ky4"
      },
      "execution_count": 4,
      "outputs": []
    },
    {
      "cell_type": "code",
      "source": [
        "# Generate rho matrices\n",
        "\n",
        "rhos = np.zeros((no_data,dimension,dimension),dtype=complex)\n",
        "eta = 1e-7\n",
        "\n",
        "for i in range(no_data):\n",
        "    random_unitary = unitary_group.rvs(dimension)\n",
        "    coeffs = random_unitary[:,0]\n",
        "    rho = np.outer(coeffs,coeffs.conj())\n",
        "    rhos[i] = (1-eta)*rho + (eta/4)*np.eye(dimension)\n",
        "\n",
        "cholesky_decompositions = np.array([np.linalg.cholesky(rho) for rho in rhos])"
      ],
      "metadata": {
        "id": "DUJ_hdgcnydy"
      },
      "execution_count": null,
      "outputs": []
    },
    {
      "cell_type": "code",
      "source": [
        "cholesky_decompositions = np.array([np.linalg.cholesky(rho) for rho in rhos])"
      ],
      "metadata": {
        "id": "Nid0Qfqy4qyO"
      },
      "execution_count": 5,
      "outputs": []
    },
    {
      "cell_type": "code",
      "source": [
        "def gen_rhos_chos(no_data, d):\n",
        "    dimension = 2**d\n",
        "    rhos = np.zeros((no_data,dimension,dimension),dtype=complex)\n",
        "\n",
        "    eta = 1e-7\n",
        "\n",
        "    # Generate random density matrices with eta adjustment to avoid issues in Cholesky decomposition\n",
        "    for i in range(no_data):\n",
        "        random_unitary = unitary_group.rvs(dimension)\n",
        "        coeffs = random_unitary[:,0]\n",
        "        rho = np.outer(coeffs,coeffs.conj())\n",
        "        rhos[i] = (1-eta)*rho + (eta/4)*np.eye(dimension)\n",
        "\n",
        "    # Calculate Cholesky decomposition of density matrices\n",
        "    cholesky_decompositions = np.array([np.linalg.cholesky(rho) for rho in rhos])\n",
        "\n",
        "    return rhos,cholesky_decompositions"
      ],
      "metadata": {
        "id": "5e7saUyXPYKs"
      },
      "execution_count": 4,
      "outputs": []
    },
    {
      "cell_type": "code",
      "source": [
        "for i in cholesky_decompositions[11000]:\n",
        "    print(i)"
      ],
      "metadata": {
        "colab": {
          "base_uri": "https://localhost:8080/"
        },
        "id": "cA6iR7MGJfiM",
        "outputId": "44606294-b652-44f9-f32c-c9d13a90dd84"
      },
      "execution_count": 8,
      "outputs": [
        {
          "output_type": "stream",
          "name": "stdout",
          "text": [
            "[0.7367341+0.j 0.       +0.j 0.       +0.j 0.       +0.j]\n",
            "[3.22038541e-01+0.36353001j 1.89377159e-04+0.j\n",
            " 0.00000000e+00+0.j         0.00000000e+00+0.j        ]\n",
            "[2.73129519e-01-1.21787911e-01j 1.06247803e-05-3.36880370e-05j\n",
            " 1.66947350e-04+0.00000000e+00j 0.00000000e+00+0.00000000e+00j]\n",
            "[ 1.19477978e-01-3.43005622e-01j -2.09691287e-05-3.74295840e-05j\n",
            "  1.43099125e-05-1.52190244e-05j  1.69704006e-04+0.00000000e+00j]\n"
          ]
        }
      ]
    },
    {
      "cell_type": "code",
      "source": [
        "all_taus = np.zeros((no_data, dimension**2))\n",
        "for no in range(no_data):\n",
        "    for cholesky in cholesky_decompositions:\n",
        "        extracted_values = []\n",
        "        for i in range(cholesky.shape[0]):\n",
        "            extracted_values.append(cholesky[i, i].real)\n",
        "\n",
        "        primary_indices = [(1, 0), (2, 1), (3, 2)]\n",
        "        for i, j in primary_indices:\n",
        "            extracted_values.append(cholesky[i, j].real)\n",
        "            extracted_values.append(cholesky[i, j].imag)\n",
        "\n",
        "        secondary_indices = [(2, 0), (3, 1), (3, 0)]\n",
        "        for i, j in secondary_indices:\n",
        "            extracted_values.append(cholesky[i, j].real)\n",
        "            extracted_values.append(cholesky[i, j].imag)\n",
        "    all_taus[no] = np.array(extracted_values)\n"
      ],
      "metadata": {
        "colab": {
          "base_uri": "https://localhost:8080/",
          "height": 216
        },
        "id": "zL9DQnZX4yAQ",
        "outputId": "3811cc67-626d-4632-8976-b3a188b23a95"
      },
      "execution_count": 9,
      "outputs": [
        {
          "output_type": "error",
          "ename": "KeyboardInterrupt",
          "evalue": "",
          "traceback": [
            "\u001b[0;31m---------------------------------------------------------------------------\u001b[0m",
            "\u001b[0;31mKeyboardInterrupt\u001b[0m                         Traceback (most recent call last)",
            "\u001b[0;32m<ipython-input-9-08f98fcbe752>\u001b[0m in \u001b[0;36m<cell line: 2>\u001b[0;34m()\u001b[0m\n\u001b[1;32m      9\u001b[0m         \u001b[0;32mfor\u001b[0m \u001b[0mi\u001b[0m\u001b[0;34m,\u001b[0m \u001b[0mj\u001b[0m \u001b[0;32min\u001b[0m \u001b[0mprimary_indices\u001b[0m\u001b[0;34m:\u001b[0m\u001b[0;34m\u001b[0m\u001b[0;34m\u001b[0m\u001b[0m\n\u001b[1;32m     10\u001b[0m             \u001b[0mextracted_values\u001b[0m\u001b[0;34m.\u001b[0m\u001b[0mappend\u001b[0m\u001b[0;34m(\u001b[0m\u001b[0mcholesky\u001b[0m\u001b[0;34m[\u001b[0m\u001b[0mi\u001b[0m\u001b[0;34m,\u001b[0m \u001b[0mj\u001b[0m\u001b[0;34m]\u001b[0m\u001b[0;34m.\u001b[0m\u001b[0mreal\u001b[0m\u001b[0;34m)\u001b[0m\u001b[0;34m\u001b[0m\u001b[0;34m\u001b[0m\u001b[0m\n\u001b[0;32m---> 11\u001b[0;31m             \u001b[0mextracted_values\u001b[0m\u001b[0;34m.\u001b[0m\u001b[0mappend\u001b[0m\u001b[0;34m(\u001b[0m\u001b[0mcholesky\u001b[0m\u001b[0;34m[\u001b[0m\u001b[0mi\u001b[0m\u001b[0;34m,\u001b[0m \u001b[0mj\u001b[0m\u001b[0;34m]\u001b[0m\u001b[0;34m.\u001b[0m\u001b[0mimag\u001b[0m\u001b[0;34m)\u001b[0m\u001b[0;34m\u001b[0m\u001b[0;34m\u001b[0m\u001b[0m\n\u001b[0m\u001b[1;32m     12\u001b[0m \u001b[0;34m\u001b[0m\u001b[0m\n\u001b[1;32m     13\u001b[0m         \u001b[0msecondary_indices\u001b[0m \u001b[0;34m=\u001b[0m \u001b[0;34m[\u001b[0m\u001b[0;34m(\u001b[0m\u001b[0;36m2\u001b[0m\u001b[0;34m,\u001b[0m \u001b[0;36m0\u001b[0m\u001b[0;34m)\u001b[0m\u001b[0;34m,\u001b[0m \u001b[0;34m(\u001b[0m\u001b[0;36m3\u001b[0m\u001b[0;34m,\u001b[0m \u001b[0;36m1\u001b[0m\u001b[0;34m)\u001b[0m\u001b[0;34m,\u001b[0m \u001b[0;34m(\u001b[0m\u001b[0;36m3\u001b[0m\u001b[0;34m,\u001b[0m \u001b[0;36m0\u001b[0m\u001b[0;34m)\u001b[0m\u001b[0;34m]\u001b[0m\u001b[0;34m\u001b[0m\u001b[0;34m\u001b[0m\u001b[0m\n",
            "\u001b[0;31mKeyboardInterrupt\u001b[0m: "
          ]
        }
      ]
    },
    {
      "cell_type": "code",
      "source": [
        "cholesky_decompositions.shape"
      ],
      "metadata": {
        "colab": {
          "base_uri": "https://localhost:8080/"
        },
        "id": "uPTnOgyHJKK3",
        "outputId": "1001efa2-e780-46c8-f889-55305f66c8f4"
      },
      "execution_count": 58,
      "outputs": [
        {
          "output_type": "execute_result",
          "data": {
            "text/plain": [
              "(10000, 4, 4)"
            ]
          },
          "metadata": {},
          "execution_count": 58
        }
      ]
    },
    {
      "cell_type": "code",
      "source": [
        "indices = np.zeros()\n",
        "\n",
        "primary_indices = [(i, i - 1) for i in range(1, d**2)]\n",
        "secondary_indices = [(i, i - 2) for i in range(2, d**2)]\n",
        "secondary_indices = [(i, i - 2) for i in range(2, d**2)]\n",
        "print(primary_indices, secondary_indices)\n"
      ],
      "metadata": {
        "colab": {
          "base_uri": "https://localhost:8080/"
        },
        "id": "Q4gyY1_nRcNe",
        "outputId": "6a5f8c95-4617-40c4-d41a-30fa92f3aa10"
      },
      "execution_count": 64,
      "outputs": [
        {
          "output_type": "stream",
          "name": "stdout",
          "text": [
            "[(1, 0), (2, 1), (3, 2)] [(2, 0), (3, 1)]\n"
          ]
        }
      ]
    },
    {
      "cell_type": "code",
      "source": [
        "def generate_index_pairs(d):\n",
        "    d1 = 2**d - 1\n",
        "    index_num = int(d1*(d1+1)/2)\n",
        "    pairs = np.zeros((index_num,2), dtype=int)\n",
        "    index=0\n",
        "    for diff in range(1, dimension):\n",
        "        for i in range(diff, dimension):\n",
        "            j = i - diff\n",
        "            pairs[index] = (i, j)\n",
        "            index+=1\n",
        "\n",
        "    return pairs"
      ],
      "metadata": {
        "id": "wbt1qUSYFhhS"
      },
      "execution_count": 10,
      "outputs": []
    },
    {
      "cell_type": "code",
      "source": [
        "ind = generate_index_pairs(d)\n",
        "ind"
      ],
      "metadata": {
        "colab": {
          "base_uri": "https://localhost:8080/"
        },
        "id": "ueZJAQbORwuY",
        "outputId": "bdcfc81a-54b5-4757-b0e4-6abe107cbd97"
      },
      "execution_count": 11,
      "outputs": [
        {
          "output_type": "execute_result",
          "data": {
            "text/plain": [
              "array([[1, 0],\n",
              "       [2, 1],\n",
              "       [3, 2],\n",
              "       [2, 0],\n",
              "       [3, 1],\n",
              "       [3, 0]])"
            ]
          },
          "metadata": {},
          "execution_count": 11
        }
      ]
    },
    {
      "cell_type": "code",
      "source": [
        "def gen_taus(no_data, d):\n",
        "    rhos, cholesky_decompositions = gen_rhos_chos(no_data, d)\n",
        "\n",
        "    dimension = 2**d\n",
        "    tau_size = dimension**2\n",
        "\n",
        "    all_taus = np.zeros((no_data, tau_size))\n",
        "    indices = generate_index_pairs(d)\n",
        "\n",
        "    for no in range(no_data):\n",
        "        cholesky = cholesky_decompositions[no]\n",
        "        extracted_values = np.zeros(tau_size)\n",
        "\n",
        "        index=0\n",
        "        for i in range(cholesky.shape[0]):\n",
        "            extracted_values[i] = cholesky[i, i].real\n",
        "\n",
        "        index = cholesky.shape[0]\n",
        "        for i, j in indices:\n",
        "            extracted_values[index] = cholesky[i, j].real\n",
        "            extracted_values[index + 1] = cholesky[i, j].imag\n",
        "            index += 2\n",
        "\n",
        "        all_taus[no] = extracted_values\n",
        "\n",
        "    return all_taus"
      ],
      "metadata": {
        "id": "chiO1zG3RQeT"
      },
      "execution_count": 6,
      "outputs": []
    },
    {
      "cell_type": "code",
      "source": [
        "def gen_nvals_taus(no_data, d):\n",
        "    rhos, cholesky_decompositions = gen_rhos_chos(no_data, d)\n",
        "\n",
        "    dimension = 2**d\n",
        "    tau_size = dimension**2\n",
        "\n",
        "    all_taus = np.zeros((no_data, tau_size))\n",
        "    indices = generate_index_pairs(d)\n",
        "\n",
        "    for no in range(no_data):\n",
        "        cholesky = cholesky_decompositions[no]\n",
        "        extracted_values = np.zeros(tau_size)\n",
        "\n",
        "        index_tau=0\n",
        "        for i in range(cholesky.shape[0]):\n",
        "            extracted_values[i] = cholesky[i, i].real\n",
        "\n",
        "        index_tau = cholesky.shape[0]\n",
        "        for i, j in indices:\n",
        "            extracted_values[index_tau] = cholesky[i, j].real\n",
        "            extracted_values[index_tau + 1] = cholesky[i, j].imag\n",
        "            index_tau += 2\n",
        "\n",
        "        all_taus[no] = extracted_values\n",
        "\n",
        "    nvals = np.zeros((no_data,6**2))\n",
        "\n",
        "    for i1,rho in enumerate(rhos):\n",
        "      for index,proj in enumerate(pauli_2d):\n",
        "          nvals[i1,index] = np.trace(rho@proj)\n",
        "\n",
        "    return nvals, all_taus"
      ],
      "metadata": {
        "id": "yNpTKqW0Iztz"
      },
      "execution_count": 8,
      "outputs": []
    },
    {
      "cell_type": "code",
      "source": [
        "tau_train = gen_taus(no_data, d)"
      ],
      "metadata": {
        "id": "60dEOCYaGeXl"
      },
      "execution_count": 15,
      "outputs": []
    },
    {
      "cell_type": "code",
      "source": [
        "2**(2*d)"
      ],
      "metadata": {
        "colab": {
          "base_uri": "https://localhost:8080/"
        },
        "id": "u9NWh3rGGyhF",
        "outputId": "2d24804d-a225-4a49-a443-912de4447f7b"
      },
      "execution_count": 25,
      "outputs": [
        {
          "output_type": "execute_result",
          "data": {
            "text/plain": [
              "16"
            ]
          },
          "metadata": {},
          "execution_count": 25
        }
      ]
    },
    {
      "cell_type": "code",
      "source": [
        "tau_train[np.random.randint(no_data)]"
      ],
      "metadata": {
        "colab": {
          "base_uri": "https://localhost:8080/"
        },
        "id": "GnEGZxoOG9QF",
        "outputId": "ea6038de-54f2-4399-89f9-c238055974e5"
      },
      "execution_count": 20,
      "outputs": [
        {
          "output_type": "execute_result",
          "data": {
            "text/plain": [
              "array([ 7.47908073e-02,  6.91677910e-04,  1.91193049e-04,  3.99655479e-04,\n",
              "        2.62928813e-01, -1.79774284e-01, -7.71304588e-05,  4.51239282e-04,\n",
              "        2.04081742e-04, -1.43593635e-04,  9.28119769e-02,  2.02140389e-01,\n",
              "        8.11682687e-04,  1.70703853e-03,  7.93698664e-01,  4.62081262e-01])"
            ]
          },
          "metadata": {},
          "execution_count": 20
        }
      ]
    },
    {
      "cell_type": "code",
      "source": [
        "tau_size = dimension**2\n",
        "all_taus = np.zeros((no_data, tau_size))\n",
        "\n",
        "primary_indices = [(1, 0), (2, 1), (3, 2)]\n",
        "secondary_indices = [(2, 0), (3, 1), (3, 0)]\n",
        "\n",
        "for no in range(no_data):\n",
        "    cholesky = cholesky_decompositions[no]\n",
        "    extracted_values = np.zeros(tau_size)\n",
        "\n",
        "    for i in range(cholesky.shape[0]):\n",
        "        extracted_values[i] = cholesky[i, i].real\n",
        "\n",
        "    index = cholesky.shape[0]\n",
        "    for i, j in ind:\n",
        "        extracted_values[index] = cholesky[i, j].real\n",
        "        extracted_values[index + 1] = cholesky[i, j].imag\n",
        "        index += 2\n",
        "\n",
        "    all_taus[no] = extracted_values\n"
      ],
      "metadata": {
        "id": "5PAxigIdIFay"
      },
      "execution_count": 13,
      "outputs": []
    },
    {
      "cell_type": "code",
      "source": [
        "# Generate rho matrices\n",
        "\n",
        "rhos = np.zeros((no_data,dimension,dimension),dtype=complex)\n",
        "eta = 1e-7\n",
        "\n",
        "for i in range(no_data):\n",
        "    random_unitary = unitary_group.rvs(dimension)\n",
        "    coeffs = random_unitary[:,0]\n",
        "    rho = np.outer(coeffs,coeffs.conj())\n",
        "    rhos[i] = (1-eta)*rho + (eta/4)*np.eye(dimension)\n",
        "\n",
        "cholesky_decompositions = np.array([np.linalg.cholesky(rho) for rho in rhos])\n",
        "\n",
        "tau_size = dimension**2\n",
        "all_taus = np.zeros((no_data, tau_size))\n",
        "\n",
        "primary_indices = [(1, 0), (2, 1), (3, 2)]\n",
        "secondary_indices = [(2, 0), (3, 1), (3, 0)]\n",
        "\n",
        "for no in range(no_data):\n",
        "    cholesky = cholesky_decompositions[no]\n",
        "    extracted_values = np.zeros(tau_size)\n",
        "\n",
        "    for i in range(cholesky.shape[0]):\n",
        "        extracted_values[i] = cholesky[i, i].real\n",
        "\n",
        "    index = cholesky.shape[0]\n",
        "    for i, j in ind:\n",
        "        extracted_values[index] = cholesky[i, j].real\n",
        "        extracted_values[index + 1] = cholesky[i, j].imag\n",
        "        index += 2\n",
        "\n",
        "    all_taus[no] = extracted_values\n"
      ],
      "metadata": {
        "id": "k_XlNTAQn43Q"
      },
      "execution_count": null,
      "outputs": []
    },
    {
      "cell_type": "code",
      "source": [
        "# Make 6^d projectors of Pauli {X,Y,Z} operators\n",
        "\n",
        "paulis = [sigmax(),sigmay(),sigmaz()]\n",
        "evectors = np.zeros((6,2,1),dtype=complex)\n",
        "\n",
        "i=0\n",
        "for pauli in paulis:\n",
        "    vals, vecs = pauli.eigenstates()\n",
        "    evectors[i] = vecs[0][:]\n",
        "    evectors[i+1] = vecs[1][:]\n",
        "    i += 2\n",
        "\n",
        "projectors = np.zeros((6,2,2), dtype=complex)\n",
        "\n",
        "for i, vectors in enumerate(evectors):\n",
        "    projectors[i] = np.outer(vectors,vectors.conj())"
      ],
      "metadata": {
        "id": "mEf_FpAyIKr3"
      },
      "execution_count": 14,
      "outputs": []
    },
    {
      "cell_type": "code",
      "source": [
        "pauli_2d = np.zeros((6**2,4,4), dtype=complex)\n",
        "\n",
        "index=0\n",
        "for i in projectors:\n",
        "    for j in projectors:\n",
        "        pauli_2d[index] = np.kron(i,j)\n",
        "        index += 1"
      ],
      "metadata": {
        "id": "07XLosP6E5KO"
      },
      "execution_count": 15,
      "outputs": []
    },
    {
      "cell_type": "code",
      "source": [
        "np.kron(np.kron(projectors[0],projectors[0]),projectors[0]).shape"
      ],
      "metadata": {
        "colab": {
          "base_uri": "https://localhost:8080/"
        },
        "id": "hRy3M8xQFRT4",
        "outputId": "9e4abfef-d14e-4670-b402-f4815f892370"
      },
      "execution_count": 13,
      "outputs": [
        {
          "output_type": "execute_result",
          "data": {
            "text/plain": [
              "(8, 8)"
            ]
          },
          "metadata": {},
          "execution_count": 13
        }
      ]
    },
    {
      "cell_type": "code",
      "source": [
        "pauli_3d = np.zeros((6**3,2**3,2**3), dtype=complex)\n",
        "\n",
        "index=0\n",
        "for i in pauli_2d:\n",
        "    for j in projectors:\n",
        "        pauli_3d[index] = np.kron(i,j)\n",
        "        index += 1"
      ],
      "metadata": {
        "id": "GCG-UakJE8TT"
      },
      "execution_count": 11,
      "outputs": []
    },
    {
      "cell_type": "code",
      "source": [
        "nvals = np.zeros((no_data,6**2))\n",
        "\n",
        "for i1,rho in enumerate(rhos):\n",
        "  for index,proj in enumerate(pauli_2d):\n",
        "      nvals[i1,index] = np.trace(rho@proj)"
      ],
      "metadata": {
        "colab": {
          "base_uri": "https://localhost:8080/"
        },
        "id": "Ux9t3Vc1ICAP",
        "outputId": "132f1df0-2403-4dbd-9f7e-2659dcffa0bd"
      },
      "execution_count": 16,
      "outputs": [
        {
          "output_type": "stream",
          "name": "stderr",
          "text": [
            "<ipython-input-16-09091a42e478>:5: ComplexWarning: Casting complex values to real discards the imaginary part\n",
            "  nvals[i1,index] = np.trace(rho@proj)\n"
          ]
        }
      ]
    },
    {
      "cell_type": "code",
      "source": [
        "# Generate rho matrices\n",
        "\n",
        "rhos = np.zeros((no_data,dimension,dimension),dtype=complex)\n",
        "eta = 1e-7\n",
        "\n",
        "for i in range(no_data):\n",
        "    random_unitary = unitary_group.rvs(dimension)\n",
        "    coeffs = random_unitary[:,0]\n",
        "    rho = np.outer(coeffs,coeffs.conj())\n",
        "    rhos[i] = (1-eta)*rho + (eta/4)*np.eye(dimension)\n",
        "\n",
        "cholesky_decompositions = np.array([np.linalg.cholesky(rho) for rho in rhos])\n",
        "\n",
        "tau_size = dimension**2\n",
        "all_taus = np.zeros((no_data, tau_size))\n",
        "\n",
        "primary_indices = [(1, 0), (2, 1), (3, 2)]\n",
        "secondary_indices = [(2, 0), (3, 1), (3, 0)]\n",
        "\n",
        "for no in range(no_data):\n",
        "    cholesky = cholesky_decompositions[no]\n",
        "    extracted_values = np.zeros(tau_size)\n",
        "\n",
        "    for i in range(cholesky.shape[0]):\n",
        "        extracted_values[i] = cholesky[i, i].real\n",
        "\n",
        "    index = cholesky.shape[0]\n",
        "    for i, j in ind:\n",
        "        extracted_values[index] = cholesky[i, j].real\n",
        "        extracted_values[index + 1] = cholesky[i, j].imag\n",
        "        index += 2\n",
        "\n",
        "    all_taus[no] = extracted_values\n",
        "\n",
        "nvals = np.zeros((no_data,6**2))\n",
        "\n",
        "for i1,rho in enumerate(rhos):\n",
        "  for index,proj in enumerate(pauli_2d):\n",
        "      nvals[i1,index] = np.trace(rho@proj)"
      ],
      "metadata": {
        "id": "WIDLQn-toA68"
      },
      "execution_count": null,
      "outputs": []
    },
    {
      "cell_type": "code",
      "source": [
        "def reconstruct_matrix(taus):\n",
        "    matrix = np.zeros((4, 4), dtype=np.complex_)\n",
        "\n",
        "    index = 0\n",
        "    for i in range(4):\n",
        "        matrix[i, i] = taus[index]\n",
        "        index += 1\n",
        "\n",
        "    indices = generate_index_pairs(d)\n",
        "\n",
        "    for i, j in indices:\n",
        "        real_part = taus[index]\n",
        "        imag_part = taus[index + 1]\n",
        "        matrix[i, j] = real_part + 1j * imag_part\n",
        "        index += 2\n",
        "\n",
        "    rho = matrix@(matrix.conj().T)\n",
        "    rho = rho/np.trace(rho)\n",
        "\n",
        "    return rho"
      ],
      "metadata": {
        "id": "JxAF5-Wg47FU"
      },
      "execution_count": 17,
      "outputs": []
    },
    {
      "cell_type": "code",
      "source": [
        "# Make 6^d projectors of Pauli {X,Y,Z} operators\n",
        "\n",
        "paulis = [sigmax(),sigmay(),sigmaz()]\n",
        "evectors = np.zeros((6,2,1),dtype=complex)\n",
        "\n",
        "i=0\n",
        "for pauli in paulis:\n",
        "    vals, vecs = pauli.eigenstates()\n",
        "    evectors[i] = vecs[0][:]\n",
        "    evectors[i+1] = vecs[1][:]\n",
        "    i += 2"
      ],
      "metadata": {
        "id": "YFIw1XA_5Q65"
      },
      "execution_count": 33,
      "outputs": []
    },
    {
      "cell_type": "code",
      "source": [
        "projectors = np.zeros((6,2,2), dtype=complex)\n",
        "\n",
        "for i, vectors in enumerate(evectors):\n",
        "    projectors[i] = np.outer(vectors,vectors.conj())"
      ],
      "metadata": {
        "id": "354MYfXh5U0q"
      },
      "execution_count": 34,
      "outputs": []
    },
    {
      "cell_type": "code",
      "source": [
        "pauli_2d = np.zeros((6**2,4,4), dtype=complex)\n",
        "\n",
        "index=0\n",
        "for i in projectors:\n",
        "    for j in projectors:\n",
        "        pauli_2d[index] = np.kron(i,j)\n",
        "        index += 1"
      ],
      "metadata": {
        "id": "1C2q47Mb5XXZ"
      },
      "execution_count": 35,
      "outputs": []
    },
    {
      "cell_type": "code",
      "source": [
        "((rho[0])@pauli_2d).shape"
      ],
      "metadata": {
        "colab": {
          "base_uri": "https://localhost:8080/"
        },
        "id": "6xiLXIs5L5lP",
        "outputId": "cf05a8f7-7353-4f77-c50a-17f0ef2d7d6f"
      },
      "execution_count": 46,
      "outputs": [
        {
          "output_type": "execute_result",
          "data": {
            "text/plain": [
              "(36, 4)"
            ]
          },
          "metadata": {},
          "execution_count": 46
        }
      ]
    },
    {
      "cell_type": "code",
      "source": [
        "nvals = np.zeros((no_data,6**2))\n",
        "\n",
        "for i1,rho in enumerate(rhos):\n",
        "  for index,proj in enumerate(pauli_2d):\n",
        "      nvals[i1,index] = np.trace(rho@proj)"
      ],
      "metadata": {
        "colab": {
          "base_uri": "https://localhost:8080/"
        },
        "id": "tq79GgNQ5Y7o",
        "outputId": "cf94e589-71de-486d-e630-08344425cc11"
      },
      "execution_count": 47,
      "outputs": [
        {
          "output_type": "stream",
          "name": "stderr",
          "text": [
            "<ipython-input-47-09091a42e478>:5: ComplexWarning: Casting complex values to real discards the imaginary part\n",
            "  nvals[i1,index] = np.trace(rho@proj)\n"
          ]
        }
      ]
    },
    {
      "cell_type": "code",
      "source": [
        "# Generate rho matrices\n",
        "no_data = 30000\n",
        "\n",
        "rhos = np.zeros((no_data,dimension,dimension),dtype=complex)\n",
        "eta = 1e-7\n",
        "\n",
        "for i in range(no_data):\n",
        "    random_unitary = unitary_group.rvs(dimension)\n",
        "    coeffs = random_unitary[:,0]\n",
        "    rho = np.outer(coeffs,coeffs.conj())\n",
        "    rhos[i] = (1-eta)*rho + (eta/4)*np.eye(dimension)\n",
        "\n",
        "cholesky_decompositions = np.array([np.linalg.cholesky(rho) for rho in rhos])\n",
        "\n",
        "tau_size = dimension**2\n",
        "all_taus = np.zeros((no_data, tau_size))\n",
        "\n",
        "for no in range(no_data):\n",
        "    cholesky = cholesky_decompositions[no]\n",
        "    extracted_values = np.zeros(tau_size)\n",
        "\n",
        "    for i in range(cholesky.shape[0]):\n",
        "        extracted_values[i] = cholesky[i, i].real\n",
        "\n",
        "    index = cholesky.shape[0]\n",
        "    for i, j in ind:\n",
        "        extracted_values[index] = cholesky[i, j].real\n",
        "        extracted_values[index + 1] = cholesky[i, j].imag\n",
        "        index += 2\n",
        "\n",
        "    all_taus[no] = extracted_values\n",
        "\n",
        "nvals = np.zeros((no_data,6**2))\n",
        "\n",
        "for i1,rho in enumerate(rhos):\n",
        "  for index,proj in enumerate(pauli_2d):\n",
        "      nvals[i1,index] = np.trace(rho@proj)\n",
        "\n",
        "n_min = np.min(nvals)\n",
        "n_max = np.max(nvals)\n",
        "\n",
        "nvals = (nvals - np.min(nvals)) / (np.max(nvals) - np.min(nvals))"
      ],
      "metadata": {
        "colab": {
          "base_uri": "https://localhost:8080/"
        },
        "id": "Vm-TGRA0pyYC",
        "outputId": "9366f2b0-6edc-484f-c6f1-777ebb21e8b1"
      },
      "execution_count": 35,
      "outputs": [
        {
          "output_type": "stream",
          "name": "stderr",
          "text": [
            "<ipython-input-35-dc5d83edfd35>:37: ComplexWarning: Casting complex values to real discards the imaginary part\n",
            "  nvals[i1,index] = np.trace(rho@proj)\n"
          ]
        }
      ]
    },
    {
      "cell_type": "code",
      "source": [
        "np.abs(all_taus[np.random.randint(no_data)]).min()"
      ],
      "metadata": {
        "colab": {
          "base_uri": "https://localhost:8080/"
        },
        "id": "TueZoQJQqOo0",
        "outputId": "bd222532-4204-4696-bd81-d7f9857a8820"
      },
      "execution_count": 61,
      "outputs": [
        {
          "output_type": "execute_result",
          "data": {
            "text/plain": [
              "1.4504845007285327e-05"
            ]
          },
          "metadata": {},
          "execution_count": 61
        }
      ]
    },
    {
      "cell_type": "code",
      "source": [
        "shift = np.abs(np.min(all_taus)) + 1  # Shift so all values are positive\n",
        "taus_shifted = all_taus + shift\n",
        "taus_shifted_log = np.log(taus_shifted)"
      ],
      "metadata": {
        "id": "cR74qknJrcPz"
      },
      "execution_count": 92,
      "outputs": []
    },
    {
      "cell_type": "code",
      "source": [
        "taus_shifted_log[np.random.randint(no_data)].min()"
      ],
      "metadata": {
        "colab": {
          "base_uri": "https://localhost:8080/"
        },
        "id": "3pCSn_vbvK6q",
        "outputId": "02767142-0d2c-4fb2-8424-25a44671967e"
      },
      "execution_count": 95,
      "outputs": [
        {
          "output_type": "execute_result",
          "data": {
            "text/plain": [
              "0.35889741288145555"
            ]
          },
          "metadata": {},
          "execution_count": 95
        }
      ]
    },
    {
      "cell_type": "code",
      "source": [
        "def unlog_unshift(taus, shift):\n",
        "    taus_unlog = np.exp(taus) - shift\n",
        "    return taus_unlog"
      ],
      "metadata": {
        "id": "WSeZ66Cxvmh5"
      },
      "execution_count": 73,
      "outputs": []
    },
    {
      "cell_type": "code",
      "source": [
        "def build_cnn_model():\n",
        "    model = Sequential()\n",
        "\n",
        "    model.add(tf.keras.layers.Reshape((6, 6, 1), input_shape=(36,)))\n",
        "\n",
        "    model.add(Conv2D(filters=25, kernel_size=(2, 2), strides=1, activation='relu'))\n",
        "    model.add(MaxPooling2D(pool_size=(2, 2)))\n",
        "\n",
        "    model.add(Conv2D(filters=25, kernel_size=(2, 2), strides=1, activation='relu'))\n",
        "\n",
        "    model.add(Flatten())\n",
        "\n",
        "    model.add(Dense(750, activation='relu'))\n",
        "\n",
        "\n",
        "    model.add(Dense(450, activation='relu'))\n",
        "\n",
        "\n",
        "    model.add(Dense(2**(2*d), activation='linear'))\n",
        "\n",
        "    return model\n",
        "\n",
        "model = build_cnn_model()\n",
        "\n",
        "model.compile(\n",
        "    optimizer=tf.keras.optimizers.Adagrad(learning_rate=0.005),\n",
        "    loss='mean_squared_error',\n",
        "    metrics=['mean_absolute_error']\n",
        ")\n",
        "\n",
        "model.summary()\n"
      ],
      "metadata": {
        "colab": {
          "base_uri": "https://localhost:8080/",
          "height": 452
        },
        "id": "EW3oYNRT5ahp",
        "outputId": "11c01412-9c0d-41f0-a5bd-d64f6045ad10"
      },
      "execution_count": 118,
      "outputs": [
        {
          "output_type": "stream",
          "name": "stderr",
          "text": [
            "/usr/local/lib/python3.10/dist-packages/keras/src/layers/reshaping/reshape.py:39: UserWarning: Do not pass an `input_shape`/`input_dim` argument to a layer. When using Sequential models, prefer using an `Input(shape)` object as the first layer in the model instead.\n",
            "  super().__init__(**kwargs)\n"
          ]
        },
        {
          "output_type": "display_data",
          "data": {
            "text/plain": [
              "\u001b[1mModel: \"sequential_3\"\u001b[0m\n"
            ],
            "text/html": [
              "<pre style=\"white-space:pre;overflow-x:auto;line-height:normal;font-family:Menlo,'DejaVu Sans Mono',consolas,'Courier New',monospace\"><span style=\"font-weight: bold\">Model: \"sequential_3\"</span>\n",
              "</pre>\n"
            ]
          },
          "metadata": {}
        },
        {
          "output_type": "display_data",
          "data": {
            "text/plain": [
              "┏━━━━━━━━━━━━━━━━━━━━━━━━━━━━━━━━━━━━━━┳━━━━━━━━━━━━━━━━━━━━━━━━━━━━━┳━━━━━━━━━━━━━━━━━┓\n",
              "┃\u001b[1m \u001b[0m\u001b[1mLayer (type)                        \u001b[0m\u001b[1m \u001b[0m┃\u001b[1m \u001b[0m\u001b[1mOutput Shape               \u001b[0m\u001b[1m \u001b[0m┃\u001b[1m \u001b[0m\u001b[1m        Param #\u001b[0m\u001b[1m \u001b[0m┃\n",
              "┡━━━━━━━━━━━━━━━━━━━━━━━━━━━━━━━━━━━━━━╇━━━━━━━━━━━━━━━━━━━━━━━━━━━━━╇━━━━━━━━━━━━━━━━━┩\n",
              "│ reshape_3 (\u001b[38;5;33mReshape\u001b[0m)                  │ (\u001b[38;5;45mNone\u001b[0m, \u001b[38;5;34m6\u001b[0m, \u001b[38;5;34m6\u001b[0m, \u001b[38;5;34m1\u001b[0m)             │               \u001b[38;5;34m0\u001b[0m │\n",
              "├──────────────────────────────────────┼─────────────────────────────┼─────────────────┤\n",
              "│ conv2d_6 (\u001b[38;5;33mConv2D\u001b[0m)                    │ (\u001b[38;5;45mNone\u001b[0m, \u001b[38;5;34m5\u001b[0m, \u001b[38;5;34m5\u001b[0m, \u001b[38;5;34m25\u001b[0m)            │             \u001b[38;5;34m125\u001b[0m │\n",
              "├──────────────────────────────────────┼─────────────────────────────┼─────────────────┤\n",
              "│ max_pooling2d_3 (\u001b[38;5;33mMaxPooling2D\u001b[0m)       │ (\u001b[38;5;45mNone\u001b[0m, \u001b[38;5;34m2\u001b[0m, \u001b[38;5;34m2\u001b[0m, \u001b[38;5;34m25\u001b[0m)            │               \u001b[38;5;34m0\u001b[0m │\n",
              "├──────────────────────────────────────┼─────────────────────────────┼─────────────────┤\n",
              "│ conv2d_7 (\u001b[38;5;33mConv2D\u001b[0m)                    │ (\u001b[38;5;45mNone\u001b[0m, \u001b[38;5;34m1\u001b[0m, \u001b[38;5;34m1\u001b[0m, \u001b[38;5;34m25\u001b[0m)            │           \u001b[38;5;34m2,525\u001b[0m │\n",
              "├──────────────────────────────────────┼─────────────────────────────┼─────────────────┤\n",
              "│ flatten_3 (\u001b[38;5;33mFlatten\u001b[0m)                  │ (\u001b[38;5;45mNone\u001b[0m, \u001b[38;5;34m25\u001b[0m)                  │               \u001b[38;5;34m0\u001b[0m │\n",
              "├──────────────────────────────────────┼─────────────────────────────┼─────────────────┤\n",
              "│ dense_9 (\u001b[38;5;33mDense\u001b[0m)                      │ (\u001b[38;5;45mNone\u001b[0m, \u001b[38;5;34m750\u001b[0m)                 │          \u001b[38;5;34m19,500\u001b[0m │\n",
              "├──────────────────────────────────────┼─────────────────────────────┼─────────────────┤\n",
              "│ dense_10 (\u001b[38;5;33mDense\u001b[0m)                     │ (\u001b[38;5;45mNone\u001b[0m, \u001b[38;5;34m450\u001b[0m)                 │         \u001b[38;5;34m337,950\u001b[0m │\n",
              "├──────────────────────────────────────┼─────────────────────────────┼─────────────────┤\n",
              "│ dense_11 (\u001b[38;5;33mDense\u001b[0m)                     │ (\u001b[38;5;45mNone\u001b[0m, \u001b[38;5;34m16\u001b[0m)                  │           \u001b[38;5;34m7,216\u001b[0m │\n",
              "└──────────────────────────────────────┴─────────────────────────────┴─────────────────┘\n"
            ],
            "text/html": [
              "<pre style=\"white-space:pre;overflow-x:auto;line-height:normal;font-family:Menlo,'DejaVu Sans Mono',consolas,'Courier New',monospace\">┏━━━━━━━━━━━━━━━━━━━━━━━━━━━━━━━━━━━━━━┳━━━━━━━━━━━━━━━━━━━━━━━━━━━━━┳━━━━━━━━━━━━━━━━━┓\n",
              "┃<span style=\"font-weight: bold\"> Layer (type)                         </span>┃<span style=\"font-weight: bold\"> Output Shape                </span>┃<span style=\"font-weight: bold\">         Param # </span>┃\n",
              "┡━━━━━━━━━━━━━━━━━━━━━━━━━━━━━━━━━━━━━━╇━━━━━━━━━━━━━━━━━━━━━━━━━━━━━╇━━━━━━━━━━━━━━━━━┩\n",
              "│ reshape_3 (<span style=\"color: #0087ff; text-decoration-color: #0087ff\">Reshape</span>)                  │ (<span style=\"color: #00d7ff; text-decoration-color: #00d7ff\">None</span>, <span style=\"color: #00af00; text-decoration-color: #00af00\">6</span>, <span style=\"color: #00af00; text-decoration-color: #00af00\">6</span>, <span style=\"color: #00af00; text-decoration-color: #00af00\">1</span>)             │               <span style=\"color: #00af00; text-decoration-color: #00af00\">0</span> │\n",
              "├──────────────────────────────────────┼─────────────────────────────┼─────────────────┤\n",
              "│ conv2d_6 (<span style=\"color: #0087ff; text-decoration-color: #0087ff\">Conv2D</span>)                    │ (<span style=\"color: #00d7ff; text-decoration-color: #00d7ff\">None</span>, <span style=\"color: #00af00; text-decoration-color: #00af00\">5</span>, <span style=\"color: #00af00; text-decoration-color: #00af00\">5</span>, <span style=\"color: #00af00; text-decoration-color: #00af00\">25</span>)            │             <span style=\"color: #00af00; text-decoration-color: #00af00\">125</span> │\n",
              "├──────────────────────────────────────┼─────────────────────────────┼─────────────────┤\n",
              "│ max_pooling2d_3 (<span style=\"color: #0087ff; text-decoration-color: #0087ff\">MaxPooling2D</span>)       │ (<span style=\"color: #00d7ff; text-decoration-color: #00d7ff\">None</span>, <span style=\"color: #00af00; text-decoration-color: #00af00\">2</span>, <span style=\"color: #00af00; text-decoration-color: #00af00\">2</span>, <span style=\"color: #00af00; text-decoration-color: #00af00\">25</span>)            │               <span style=\"color: #00af00; text-decoration-color: #00af00\">0</span> │\n",
              "├──────────────────────────────────────┼─────────────────────────────┼─────────────────┤\n",
              "│ conv2d_7 (<span style=\"color: #0087ff; text-decoration-color: #0087ff\">Conv2D</span>)                    │ (<span style=\"color: #00d7ff; text-decoration-color: #00d7ff\">None</span>, <span style=\"color: #00af00; text-decoration-color: #00af00\">1</span>, <span style=\"color: #00af00; text-decoration-color: #00af00\">1</span>, <span style=\"color: #00af00; text-decoration-color: #00af00\">25</span>)            │           <span style=\"color: #00af00; text-decoration-color: #00af00\">2,525</span> │\n",
              "├──────────────────────────────────────┼─────────────────────────────┼─────────────────┤\n",
              "│ flatten_3 (<span style=\"color: #0087ff; text-decoration-color: #0087ff\">Flatten</span>)                  │ (<span style=\"color: #00d7ff; text-decoration-color: #00d7ff\">None</span>, <span style=\"color: #00af00; text-decoration-color: #00af00\">25</span>)                  │               <span style=\"color: #00af00; text-decoration-color: #00af00\">0</span> │\n",
              "├──────────────────────────────────────┼─────────────────────────────┼─────────────────┤\n",
              "│ dense_9 (<span style=\"color: #0087ff; text-decoration-color: #0087ff\">Dense</span>)                      │ (<span style=\"color: #00d7ff; text-decoration-color: #00d7ff\">None</span>, <span style=\"color: #00af00; text-decoration-color: #00af00\">750</span>)                 │          <span style=\"color: #00af00; text-decoration-color: #00af00\">19,500</span> │\n",
              "├──────────────────────────────────────┼─────────────────────────────┼─────────────────┤\n",
              "│ dense_10 (<span style=\"color: #0087ff; text-decoration-color: #0087ff\">Dense</span>)                     │ (<span style=\"color: #00d7ff; text-decoration-color: #00d7ff\">None</span>, <span style=\"color: #00af00; text-decoration-color: #00af00\">450</span>)                 │         <span style=\"color: #00af00; text-decoration-color: #00af00\">337,950</span> │\n",
              "├──────────────────────────────────────┼─────────────────────────────┼─────────────────┤\n",
              "│ dense_11 (<span style=\"color: #0087ff; text-decoration-color: #0087ff\">Dense</span>)                     │ (<span style=\"color: #00d7ff; text-decoration-color: #00d7ff\">None</span>, <span style=\"color: #00af00; text-decoration-color: #00af00\">16</span>)                  │           <span style=\"color: #00af00; text-decoration-color: #00af00\">7,216</span> │\n",
              "└──────────────────────────────────────┴─────────────────────────────┴─────────────────┘\n",
              "</pre>\n"
            ]
          },
          "metadata": {}
        },
        {
          "output_type": "display_data",
          "data": {
            "text/plain": [
              "\u001b[1m Total params: \u001b[0m\u001b[38;5;34m367,316\u001b[0m (1.40 MB)\n"
            ],
            "text/html": [
              "<pre style=\"white-space:pre;overflow-x:auto;line-height:normal;font-family:Menlo,'DejaVu Sans Mono',consolas,'Courier New',monospace\"><span style=\"font-weight: bold\"> Total params: </span><span style=\"color: #00af00; text-decoration-color: #00af00\">367,316</span> (1.40 MB)\n",
              "</pre>\n"
            ]
          },
          "metadata": {}
        },
        {
          "output_type": "display_data",
          "data": {
            "text/plain": [
              "\u001b[1m Trainable params: \u001b[0m\u001b[38;5;34m367,316\u001b[0m (1.40 MB)\n"
            ],
            "text/html": [
              "<pre style=\"white-space:pre;overflow-x:auto;line-height:normal;font-family:Menlo,'DejaVu Sans Mono',consolas,'Courier New',monospace\"><span style=\"font-weight: bold\"> Trainable params: </span><span style=\"color: #00af00; text-decoration-color: #00af00\">367,316</span> (1.40 MB)\n",
              "</pre>\n"
            ]
          },
          "metadata": {}
        },
        {
          "output_type": "display_data",
          "data": {
            "text/plain": [
              "\u001b[1m Non-trainable params: \u001b[0m\u001b[38;5;34m0\u001b[0m (0.00 B)\n"
            ],
            "text/html": [
              "<pre style=\"white-space:pre;overflow-x:auto;line-height:normal;font-family:Menlo,'DejaVu Sans Mono',consolas,'Courier New',monospace\"><span style=\"font-weight: bold\"> Non-trainable params: </span><span style=\"color: #00af00; text-decoration-color: #00af00\">0</span> (0.00 B)\n",
              "</pre>\n"
            ]
          },
          "metadata": {}
        }
      ]
    },
    {
      "cell_type": "code",
      "source": [
        "nvals, all_taus = gen_nvals_taus(30000,2)"
      ],
      "metadata": {
        "colab": {
          "base_uri": "https://localhost:8080/"
        },
        "id": "bFtVCo5rG_1o",
        "outputId": "428892ba-2652-4a88-9b7e-fe79256e22ff"
      },
      "execution_count": 52,
      "outputs": [
        {
          "output_type": "stream",
          "name": "stderr",
          "text": [
            "<ipython-input-8-b5b2d884fa7e>:30: ComplexWarning: Casting complex values to real discards the imaginary part\n",
            "  nvals[i1,index] = np.trace(rho@proj)\n"
          ]
        }
      ]
    },
    {
      "cell_type": "code",
      "source": [
        "all_taus.shape"
      ],
      "metadata": {
        "colab": {
          "base_uri": "https://localhost:8080/"
        },
        "id": "5OonjsixHTkI",
        "outputId": "165690b7-d7eb-4227-d3dd-28fee58ee4a5"
      },
      "execution_count": 19,
      "outputs": [
        {
          "output_type": "execute_result",
          "data": {
            "text/plain": [
              "(30000, 16)"
            ]
          },
          "metadata": {},
          "execution_count": 19
        }
      ]
    },
    {
      "cell_type": "code",
      "source": [
        "nvals.shape"
      ],
      "metadata": {
        "colab": {
          "base_uri": "https://localhost:8080/"
        },
        "id": "JZmjx3g9mQNx",
        "outputId": "93413031-2405-490b-e83f-5c7233ceb8c9"
      },
      "execution_count": 20,
      "outputs": [
        {
          "output_type": "execute_result",
          "data": {
            "text/plain": [
              "(30000, 36)"
            ]
          },
          "metadata": {},
          "execution_count": 20
        }
      ]
    },
    {
      "cell_type": "code",
      "source": [
        "# `x_train`, `y_train` are probabilities (n values) and labels (tau-vectors)\n",
        "model.fit(nvals, all_taus, epochs=300, batch_size=100, validation_split=0.2)"
      ],
      "metadata": {
        "colab": {
          "base_uri": "https://localhost:8080/"
        },
        "id": "IZhyhrBD9FEa",
        "outputId": "579d9687-21a0-4328-8fb5-eed0886aec88"
      },
      "execution_count": 119,
      "outputs": [
        {
          "output_type": "stream",
          "name": "stdout",
          "text": [
            "Epoch 1/300\n",
            "\u001b[1m240/240\u001b[0m \u001b[32m━━━━━━━━━━━━━━━━━━━━\u001b[0m\u001b[37m\u001b[0m \u001b[1m3s\u001b[0m 6ms/step - loss: 0.0585 - mean_absolute_error: 0.1355 - val_loss: 0.0520 - val_mean_absolute_error: 0.1273\n",
            "Epoch 2/300\n",
            "\u001b[1m240/240\u001b[0m \u001b[32m━━━━━━━━━━━━━━━━━━━━\u001b[0m\u001b[37m\u001b[0m \u001b[1m1s\u001b[0m 3ms/step - loss: 0.0513 - mean_absolute_error: 0.1258 - val_loss: 0.0498 - val_mean_absolute_error: 0.1230\n",
            "Epoch 3/300\n",
            "\u001b[1m240/240\u001b[0m \u001b[32m━━━━━━━━━━━━━━━━━━━━\u001b[0m\u001b[37m\u001b[0m \u001b[1m1s\u001b[0m 2ms/step - loss: 0.0498 - mean_absolute_error: 0.1227 - val_loss: 0.0492 - val_mean_absolute_error: 0.1213\n",
            "Epoch 4/300\n",
            "\u001b[1m240/240\u001b[0m \u001b[32m━━━━━━━━━━━━━━━━━━━━\u001b[0m\u001b[37m\u001b[0m \u001b[1m1s\u001b[0m 3ms/step - loss: 0.0493 - mean_absolute_error: 0.1212 - val_loss: 0.0491 - val_mean_absolute_error: 0.1206\n",
            "Epoch 5/300\n",
            "\u001b[1m240/240\u001b[0m \u001b[32m━━━━━━━━━━━━━━━━━━━━\u001b[0m\u001b[37m\u001b[0m \u001b[1m1s\u001b[0m 3ms/step - loss: 0.0492 - mean_absolute_error: 0.1208 - val_loss: 0.0490 - val_mean_absolute_error: 0.1204\n",
            "Epoch 6/300\n",
            "\u001b[1m240/240\u001b[0m \u001b[32m━━━━━━━━━━━━━━━━━━━━\u001b[0m\u001b[37m\u001b[0m \u001b[1m1s\u001b[0m 3ms/step - loss: 0.0492 - mean_absolute_error: 0.1207 - val_loss: 0.0489 - val_mean_absolute_error: 0.1203\n",
            "Epoch 7/300\n",
            "\u001b[1m240/240\u001b[0m \u001b[32m━━━━━━━━━━━━━━━━━━━━\u001b[0m\u001b[37m\u001b[0m \u001b[1m1s\u001b[0m 2ms/step - loss: 0.0490 - mean_absolute_error: 0.1203 - val_loss: 0.0489 - val_mean_absolute_error: 0.1202\n",
            "Epoch 8/300\n",
            "\u001b[1m240/240\u001b[0m \u001b[32m━━━━━━━━━━━━━━━━━━━━\u001b[0m\u001b[37m\u001b[0m \u001b[1m1s\u001b[0m 3ms/step - loss: 0.0491 - mean_absolute_error: 0.1204 - val_loss: 0.0488 - val_mean_absolute_error: 0.1202\n",
            "Epoch 9/300\n",
            "\u001b[1m240/240\u001b[0m \u001b[32m━━━━━━━━━━━━━━━━━━━━\u001b[0m\u001b[37m\u001b[0m \u001b[1m1s\u001b[0m 2ms/step - loss: 0.0490 - mean_absolute_error: 0.1204 - val_loss: 0.0488 - val_mean_absolute_error: 0.1202\n",
            "Epoch 10/300\n",
            "\u001b[1m240/240\u001b[0m \u001b[32m━━━━━━━━━━━━━━━━━━━━\u001b[0m\u001b[37m\u001b[0m \u001b[1m1s\u001b[0m 3ms/step - loss: 0.0488 - mean_absolute_error: 0.1201 - val_loss: 0.0488 - val_mean_absolute_error: 0.1201\n",
            "Epoch 11/300\n",
            "\u001b[1m240/240\u001b[0m \u001b[32m━━━━━━━━━━━━━━━━━━━━\u001b[0m\u001b[37m\u001b[0m \u001b[1m1s\u001b[0m 2ms/step - loss: 0.0489 - mean_absolute_error: 0.1204 - val_loss: 0.0487 - val_mean_absolute_error: 0.1201\n",
            "Epoch 12/300\n",
            "\u001b[1m240/240\u001b[0m \u001b[32m━━━━━━━━━━━━━━━━━━━━\u001b[0m\u001b[37m\u001b[0m \u001b[1m1s\u001b[0m 2ms/step - loss: 0.0488 - mean_absolute_error: 0.1203 - val_loss: 0.0487 - val_mean_absolute_error: 0.1201\n",
            "Epoch 13/300\n",
            "\u001b[1m240/240\u001b[0m \u001b[32m━━━━━━━━━━━━━━━━━━━━\u001b[0m\u001b[37m\u001b[0m \u001b[1m1s\u001b[0m 2ms/step - loss: 0.0487 - mean_absolute_error: 0.1202 - val_loss: 0.0486 - val_mean_absolute_error: 0.1201\n",
            "Epoch 14/300\n",
            "\u001b[1m240/240\u001b[0m \u001b[32m━━━━━━━━━━━━━━━━━━━━\u001b[0m\u001b[37m\u001b[0m \u001b[1m1s\u001b[0m 2ms/step - loss: 0.0489 - mean_absolute_error: 0.1206 - val_loss: 0.0486 - val_mean_absolute_error: 0.1200\n",
            "Epoch 15/300\n",
            "\u001b[1m240/240\u001b[0m \u001b[32m━━━━━━━━━━━━━━━━━━━━\u001b[0m\u001b[37m\u001b[0m \u001b[1m1s\u001b[0m 3ms/step - loss: 0.0488 - mean_absolute_error: 0.1202 - val_loss: 0.0485 - val_mean_absolute_error: 0.1200\n",
            "Epoch 16/300\n",
            "\u001b[1m240/240\u001b[0m \u001b[32m━━━━━━━━━━━━━━━━━━━━\u001b[0m\u001b[37m\u001b[0m \u001b[1m1s\u001b[0m 3ms/step - loss: 0.0486 - mean_absolute_error: 0.1203 - val_loss: 0.0485 - val_mean_absolute_error: 0.1200\n",
            "Epoch 17/300\n",
            "\u001b[1m240/240\u001b[0m \u001b[32m━━━━━━━━━━━━━━━━━━━━\u001b[0m\u001b[37m\u001b[0m \u001b[1m1s\u001b[0m 3ms/step - loss: 0.0487 - mean_absolute_error: 0.1203 - val_loss: 0.0484 - val_mean_absolute_error: 0.1200\n",
            "Epoch 18/300\n",
            "\u001b[1m240/240\u001b[0m \u001b[32m━━━━━━━━━━━━━━━━━━━━\u001b[0m\u001b[37m\u001b[0m \u001b[1m1s\u001b[0m 3ms/step - loss: 0.0486 - mean_absolute_error: 0.1203 - val_loss: 0.0484 - val_mean_absolute_error: 0.1200\n",
            "Epoch 19/300\n",
            "\u001b[1m240/240\u001b[0m \u001b[32m━━━━━━━━━━━━━━━━━━━━\u001b[0m\u001b[37m\u001b[0m \u001b[1m1s\u001b[0m 3ms/step - loss: 0.0486 - mean_absolute_error: 0.1203 - val_loss: 0.0483 - val_mean_absolute_error: 0.1199\n",
            "Epoch 20/300\n",
            "\u001b[1m240/240\u001b[0m \u001b[32m━━━━━━━━━━━━━━━━━━━━\u001b[0m\u001b[37m\u001b[0m \u001b[1m1s\u001b[0m 3ms/step - loss: 0.0485 - mean_absolute_error: 0.1202 - val_loss: 0.0482 - val_mean_absolute_error: 0.1199\n",
            "Epoch 21/300\n",
            "\u001b[1m240/240\u001b[0m \u001b[32m━━━━━━━━━━━━━━━━━━━━\u001b[0m\u001b[37m\u001b[0m \u001b[1m1s\u001b[0m 3ms/step - loss: 0.0483 - mean_absolute_error: 0.1200 - val_loss: 0.0482 - val_mean_absolute_error: 0.1199\n",
            "Epoch 22/300\n",
            "\u001b[1m240/240\u001b[0m \u001b[32m━━━━━━━━━━━━━━━━━━━━\u001b[0m\u001b[37m\u001b[0m \u001b[1m1s\u001b[0m 3ms/step - loss: 0.0485 - mean_absolute_error: 0.1201 - val_loss: 0.0481 - val_mean_absolute_error: 0.1198\n",
            "Epoch 23/300\n",
            "\u001b[1m240/240\u001b[0m \u001b[32m━━━━━━━━━━━━━━━━━━━━\u001b[0m\u001b[37m\u001b[0m \u001b[1m1s\u001b[0m 3ms/step - loss: 0.0482 - mean_absolute_error: 0.1199 - val_loss: 0.0480 - val_mean_absolute_error: 0.1197\n",
            "Epoch 24/300\n",
            "\u001b[1m240/240\u001b[0m \u001b[32m━━━━━━━━━━━━━━━━━━━━\u001b[0m\u001b[37m\u001b[0m \u001b[1m1s\u001b[0m 3ms/step - loss: 0.0483 - mean_absolute_error: 0.1201 - val_loss: 0.0479 - val_mean_absolute_error: 0.1197\n",
            "Epoch 25/300\n",
            "\u001b[1m240/240\u001b[0m \u001b[32m━━━━━━━━━━━━━━━━━━━━\u001b[0m\u001b[37m\u001b[0m \u001b[1m1s\u001b[0m 2ms/step - loss: 0.0481 - mean_absolute_error: 0.1201 - val_loss: 0.0479 - val_mean_absolute_error: 0.1196\n",
            "Epoch 26/300\n",
            "\u001b[1m240/240\u001b[0m \u001b[32m━━━━━━━━━━━━━━━━━━━━\u001b[0m\u001b[37m\u001b[0m \u001b[1m1s\u001b[0m 2ms/step - loss: 0.0481 - mean_absolute_error: 0.1199 - val_loss: 0.0478 - val_mean_absolute_error: 0.1196\n",
            "Epoch 27/300\n",
            "\u001b[1m240/240\u001b[0m \u001b[32m━━━━━━━━━━━━━━━━━━━━\u001b[0m\u001b[37m\u001b[0m \u001b[1m1s\u001b[0m 3ms/step - loss: 0.0480 - mean_absolute_error: 0.1199 - val_loss: 0.0477 - val_mean_absolute_error: 0.1195\n",
            "Epoch 28/300\n",
            "\u001b[1m240/240\u001b[0m \u001b[32m━━━━━━━━━━━━━━━━━━━━\u001b[0m\u001b[37m\u001b[0m \u001b[1m1s\u001b[0m 3ms/step - loss: 0.0478 - mean_absolute_error: 0.1196 - val_loss: 0.0476 - val_mean_absolute_error: 0.1194\n",
            "Epoch 29/300\n",
            "\u001b[1m240/240\u001b[0m \u001b[32m━━━━━━━━━━━━━━━━━━━━\u001b[0m\u001b[37m\u001b[0m \u001b[1m1s\u001b[0m 3ms/step - loss: 0.0478 - mean_absolute_error: 0.1196 - val_loss: 0.0475 - val_mean_absolute_error: 0.1193\n",
            "Epoch 30/300\n",
            "\u001b[1m240/240\u001b[0m \u001b[32m━━━━━━━━━━━━━━━━━━━━\u001b[0m\u001b[37m\u001b[0m \u001b[1m1s\u001b[0m 3ms/step - loss: 0.0477 - mean_absolute_error: 0.1193 - val_loss: 0.0474 - val_mean_absolute_error: 0.1193\n",
            "Epoch 31/300\n",
            "\u001b[1m240/240\u001b[0m \u001b[32m━━━━━━━━━━━━━━━━━━━━\u001b[0m\u001b[37m\u001b[0m \u001b[1m1s\u001b[0m 3ms/step - loss: 0.0475 - mean_absolute_error: 0.1194 - val_loss: 0.0473 - val_mean_absolute_error: 0.1192\n",
            "Epoch 32/300\n",
            "\u001b[1m240/240\u001b[0m \u001b[32m━━━━━━━━━━━━━━━━━━━━\u001b[0m\u001b[37m\u001b[0m \u001b[1m1s\u001b[0m 2ms/step - loss: 0.0476 - mean_absolute_error: 0.1195 - val_loss: 0.0472 - val_mean_absolute_error: 0.1191\n",
            "Epoch 33/300\n",
            "\u001b[1m240/240\u001b[0m \u001b[32m━━━━━━━━━━━━━━━━━━━━\u001b[0m\u001b[37m\u001b[0m \u001b[1m1s\u001b[0m 3ms/step - loss: 0.0475 - mean_absolute_error: 0.1195 - val_loss: 0.0471 - val_mean_absolute_error: 0.1190\n",
            "Epoch 34/300\n",
            "\u001b[1m240/240\u001b[0m \u001b[32m━━━━━━━━━━━━━━━━━━━━\u001b[0m\u001b[37m\u001b[0m \u001b[1m1s\u001b[0m 3ms/step - loss: 0.0473 - mean_absolute_error: 0.1192 - val_loss: 0.0470 - val_mean_absolute_error: 0.1188\n",
            "Epoch 35/300\n",
            "\u001b[1m240/240\u001b[0m \u001b[32m━━━━━━━━━━━━━━━━━━━━\u001b[0m\u001b[37m\u001b[0m \u001b[1m1s\u001b[0m 3ms/step - loss: 0.0473 - mean_absolute_error: 0.1192 - val_loss: 0.0469 - val_mean_absolute_error: 0.1187\n",
            "Epoch 36/300\n",
            "\u001b[1m240/240\u001b[0m \u001b[32m━━━━━━━━━━━━━━━━━━━━\u001b[0m\u001b[37m\u001b[0m \u001b[1m1s\u001b[0m 2ms/step - loss: 0.0472 - mean_absolute_error: 0.1191 - val_loss: 0.0468 - val_mean_absolute_error: 0.1186\n",
            "Epoch 37/300\n",
            "\u001b[1m240/240\u001b[0m \u001b[32m━━━━━━━━━━━━━━━━━━━━\u001b[0m\u001b[37m\u001b[0m \u001b[1m1s\u001b[0m 2ms/step - loss: 0.0471 - mean_absolute_error: 0.1188 - val_loss: 0.0467 - val_mean_absolute_error: 0.1185\n",
            "Epoch 38/300\n",
            "\u001b[1m240/240\u001b[0m \u001b[32m━━━━━━━━━━━━━━━━━━━━\u001b[0m\u001b[37m\u001b[0m \u001b[1m1s\u001b[0m 2ms/step - loss: 0.0469 - mean_absolute_error: 0.1187 - val_loss: 0.0466 - val_mean_absolute_error: 0.1183\n",
            "Epoch 39/300\n",
            "\u001b[1m240/240\u001b[0m \u001b[32m━━━━━━━━━━━━━━━━━━━━\u001b[0m\u001b[37m\u001b[0m \u001b[1m1s\u001b[0m 3ms/step - loss: 0.0468 - mean_absolute_error: 0.1187 - val_loss: 0.0464 - val_mean_absolute_error: 0.1182\n",
            "Epoch 40/300\n",
            "\u001b[1m240/240\u001b[0m \u001b[32m━━━━━━━━━━━━━━━━━━━━\u001b[0m\u001b[37m\u001b[0m \u001b[1m1s\u001b[0m 3ms/step - loss: 0.0468 - mean_absolute_error: 0.1186 - val_loss: 0.0463 - val_mean_absolute_error: 0.1181\n",
            "Epoch 41/300\n",
            "\u001b[1m240/240\u001b[0m \u001b[32m━━━━━━━━━━━━━━━━━━━━\u001b[0m\u001b[37m\u001b[0m \u001b[1m1s\u001b[0m 3ms/step - loss: 0.0466 - mean_absolute_error: 0.1183 - val_loss: 0.0462 - val_mean_absolute_error: 0.1179\n",
            "Epoch 42/300\n",
            "\u001b[1m240/240\u001b[0m \u001b[32m━━━━━━━━━━━━━━━━━━━━\u001b[0m\u001b[37m\u001b[0m \u001b[1m1s\u001b[0m 3ms/step - loss: 0.0464 - mean_absolute_error: 0.1182 - val_loss: 0.0461 - val_mean_absolute_error: 0.1178\n",
            "Epoch 43/300\n",
            "\u001b[1m240/240\u001b[0m \u001b[32m━━━━━━━━━━━━━━━━━━━━\u001b[0m\u001b[37m\u001b[0m \u001b[1m1s\u001b[0m 3ms/step - loss: 0.0464 - mean_absolute_error: 0.1182 - val_loss: 0.0459 - val_mean_absolute_error: 0.1176\n",
            "Epoch 44/300\n",
            "\u001b[1m240/240\u001b[0m \u001b[32m━━━━━━━━━━━━━━━━━━━━\u001b[0m\u001b[37m\u001b[0m \u001b[1m1s\u001b[0m 2ms/step - loss: 0.0462 - mean_absolute_error: 0.1179 - val_loss: 0.0458 - val_mean_absolute_error: 0.1175\n",
            "Epoch 45/300\n",
            "\u001b[1m240/240\u001b[0m \u001b[32m━━━━━━━━━━━━━━━━━━━━\u001b[0m\u001b[37m\u001b[0m \u001b[1m1s\u001b[0m 2ms/step - loss: 0.0460 - mean_absolute_error: 0.1178 - val_loss: 0.0457 - val_mean_absolute_error: 0.1174\n",
            "Epoch 46/300\n",
            "\u001b[1m240/240\u001b[0m \u001b[32m━━━━━━━━━━━━━━━━━━━━\u001b[0m\u001b[37m\u001b[0m \u001b[1m1s\u001b[0m 2ms/step - loss: 0.0459 - mean_absolute_error: 0.1177 - val_loss: 0.0455 - val_mean_absolute_error: 0.1172\n",
            "Epoch 47/300\n",
            "\u001b[1m240/240\u001b[0m \u001b[32m━━━━━━━━━━━━━━━━━━━━\u001b[0m\u001b[37m\u001b[0m \u001b[1m1s\u001b[0m 3ms/step - loss: 0.0458 - mean_absolute_error: 0.1175 - val_loss: 0.0454 - val_mean_absolute_error: 0.1171\n",
            "Epoch 48/300\n",
            "\u001b[1m240/240\u001b[0m \u001b[32m━━━━━━━━━━━━━━━━━━━━\u001b[0m\u001b[37m\u001b[0m \u001b[1m1s\u001b[0m 3ms/step - loss: 0.0457 - mean_absolute_error: 0.1175 - val_loss: 0.0453 - val_mean_absolute_error: 0.1169\n",
            "Epoch 49/300\n",
            "\u001b[1m240/240\u001b[0m \u001b[32m━━━━━━━━━━━━━━━━━━━━\u001b[0m\u001b[37m\u001b[0m \u001b[1m1s\u001b[0m 3ms/step - loss: 0.0455 - mean_absolute_error: 0.1172 - val_loss: 0.0451 - val_mean_absolute_error: 0.1168\n",
            "Epoch 50/300\n",
            "\u001b[1m240/240\u001b[0m \u001b[32m━━━━━━━━━━━━━━━━━━━━\u001b[0m\u001b[37m\u001b[0m \u001b[1m1s\u001b[0m 3ms/step - loss: 0.0456 - mean_absolute_error: 0.1173 - val_loss: 0.0450 - val_mean_absolute_error: 0.1166\n",
            "Epoch 51/300\n",
            "\u001b[1m240/240\u001b[0m \u001b[32m━━━━━━━━━━━━━━━━━━━━\u001b[0m\u001b[37m\u001b[0m \u001b[1m1s\u001b[0m 2ms/step - loss: 0.0453 - mean_absolute_error: 0.1170 - val_loss: 0.0449 - val_mean_absolute_error: 0.1165\n",
            "Epoch 52/300\n",
            "\u001b[1m240/240\u001b[0m \u001b[32m━━━━━━━━━━━━━━━━━━━━\u001b[0m\u001b[37m\u001b[0m \u001b[1m1s\u001b[0m 3ms/step - loss: 0.0452 - mean_absolute_error: 0.1169 - val_loss: 0.0447 - val_mean_absolute_error: 0.1163\n",
            "Epoch 53/300\n",
            "\u001b[1m240/240\u001b[0m \u001b[32m━━━━━━━━━━━━━━━━━━━━\u001b[0m\u001b[37m\u001b[0m \u001b[1m1s\u001b[0m 3ms/step - loss: 0.0450 - mean_absolute_error: 0.1167 - val_loss: 0.0446 - val_mean_absolute_error: 0.1162\n",
            "Epoch 54/300\n",
            "\u001b[1m240/240\u001b[0m \u001b[32m━━━━━━━━━━━━━━━━━━━━\u001b[0m\u001b[37m\u001b[0m \u001b[1m1s\u001b[0m 2ms/step - loss: 0.0449 - mean_absolute_error: 0.1166 - val_loss: 0.0445 - val_mean_absolute_error: 0.1160\n",
            "Epoch 55/300\n",
            "\u001b[1m240/240\u001b[0m \u001b[32m━━━━━━━━━━━━━━━━━━━━\u001b[0m\u001b[37m\u001b[0m \u001b[1m1s\u001b[0m 2ms/step - loss: 0.0449 - mean_absolute_error: 0.1166 - val_loss: 0.0443 - val_mean_absolute_error: 0.1159\n",
            "Epoch 56/300\n",
            "\u001b[1m240/240\u001b[0m \u001b[32m━━━━━━━━━━━━━━━━━━━━\u001b[0m\u001b[37m\u001b[0m \u001b[1m1s\u001b[0m 3ms/step - loss: 0.0446 - mean_absolute_error: 0.1161 - val_loss: 0.0442 - val_mean_absolute_error: 0.1157\n",
            "Epoch 57/300\n",
            "\u001b[1m240/240\u001b[0m \u001b[32m━━━━━━━━━━━━━━━━━━━━\u001b[0m\u001b[37m\u001b[0m \u001b[1m1s\u001b[0m 3ms/step - loss: 0.0445 - mean_absolute_error: 0.1161 - val_loss: 0.0441 - val_mean_absolute_error: 0.1156\n",
            "Epoch 58/300\n",
            "\u001b[1m240/240\u001b[0m \u001b[32m━━━━━━━━━━━━━━━━━━━━\u001b[0m\u001b[37m\u001b[0m \u001b[1m1s\u001b[0m 4ms/step - loss: 0.0441 - mean_absolute_error: 0.1156 - val_loss: 0.0440 - val_mean_absolute_error: 0.1155\n",
            "Epoch 59/300\n",
            "\u001b[1m240/240\u001b[0m \u001b[32m━━━━━━━━━━━━━━━━━━━━\u001b[0m\u001b[37m\u001b[0m \u001b[1m1s\u001b[0m 3ms/step - loss: 0.0443 - mean_absolute_error: 0.1158 - val_loss: 0.0438 - val_mean_absolute_error: 0.1153\n",
            "Epoch 60/300\n",
            "\u001b[1m240/240\u001b[0m \u001b[32m━━━━━━━━━━━━━━━━━━━━\u001b[0m\u001b[37m\u001b[0m \u001b[1m1s\u001b[0m 2ms/step - loss: 0.0440 - mean_absolute_error: 0.1155 - val_loss: 0.0437 - val_mean_absolute_error: 0.1152\n",
            "Epoch 61/300\n",
            "\u001b[1m240/240\u001b[0m \u001b[32m━━━━━━━━━━━━━━━━━━━━\u001b[0m\u001b[37m\u001b[0m \u001b[1m1s\u001b[0m 2ms/step - loss: 0.0440 - mean_absolute_error: 0.1156 - val_loss: 0.0436 - val_mean_absolute_error: 0.1150\n",
            "Epoch 62/300\n",
            "\u001b[1m240/240\u001b[0m \u001b[32m━━━━━━━━━━━━━━━━━━━━\u001b[0m\u001b[37m\u001b[0m \u001b[1m1s\u001b[0m 3ms/step - loss: 0.0438 - mean_absolute_error: 0.1153 - val_loss: 0.0435 - val_mean_absolute_error: 0.1149\n",
            "Epoch 63/300\n",
            "\u001b[1m240/240\u001b[0m \u001b[32m━━━━━━━━━━━━━━━━━━━━\u001b[0m\u001b[37m\u001b[0m \u001b[1m1s\u001b[0m 2ms/step - loss: 0.0438 - mean_absolute_error: 0.1154 - val_loss: 0.0434 - val_mean_absolute_error: 0.1147\n",
            "Epoch 64/300\n",
            "\u001b[1m240/240\u001b[0m \u001b[32m━━━━━━━━━━━━━━━━━━━━\u001b[0m\u001b[37m\u001b[0m \u001b[1m1s\u001b[0m 5ms/step - loss: 0.0436 - mean_absolute_error: 0.1151 - val_loss: 0.0432 - val_mean_absolute_error: 0.1146\n",
            "Epoch 65/300\n",
            "\u001b[1m240/240\u001b[0m \u001b[32m━━━━━━━━━━━━━━━━━━━━\u001b[0m\u001b[37m\u001b[0m \u001b[1m1s\u001b[0m 3ms/step - loss: 0.0436 - mean_absolute_error: 0.1149 - val_loss: 0.0431 - val_mean_absolute_error: 0.1144\n",
            "Epoch 66/300\n",
            "\u001b[1m240/240\u001b[0m \u001b[32m━━━━━━━━━━━━━━━━━━━━\u001b[0m\u001b[37m\u001b[0m \u001b[1m1s\u001b[0m 3ms/step - loss: 0.0435 - mean_absolute_error: 0.1148 - val_loss: 0.0430 - val_mean_absolute_error: 0.1143\n",
            "Epoch 67/300\n",
            "\u001b[1m240/240\u001b[0m \u001b[32m━━━━━━━━━━━━━━━━━━━━\u001b[0m\u001b[37m\u001b[0m \u001b[1m1s\u001b[0m 3ms/step - loss: 0.0434 - mean_absolute_error: 0.1148 - val_loss: 0.0429 - val_mean_absolute_error: 0.1141\n",
            "Epoch 68/300\n",
            "\u001b[1m240/240\u001b[0m \u001b[32m━━━━━━━━━━━━━━━━━━━━\u001b[0m\u001b[37m\u001b[0m \u001b[1m1s\u001b[0m 2ms/step - loss: 0.0432 - mean_absolute_error: 0.1145 - val_loss: 0.0428 - val_mean_absolute_error: 0.1140\n",
            "Epoch 69/300\n",
            "\u001b[1m240/240\u001b[0m \u001b[32m━━━━━━━━━━━━━━━━━━━━\u001b[0m\u001b[37m\u001b[0m \u001b[1m1s\u001b[0m 3ms/step - loss: 0.0431 - mean_absolute_error: 0.1142 - val_loss: 0.0427 - val_mean_absolute_error: 0.1138\n",
            "Epoch 70/300\n",
            "\u001b[1m240/240\u001b[0m \u001b[32m━━━━━━━━━━━━━━━━━━━━\u001b[0m\u001b[37m\u001b[0m \u001b[1m1s\u001b[0m 2ms/step - loss: 0.0432 - mean_absolute_error: 0.1145 - val_loss: 0.0426 - val_mean_absolute_error: 0.1137\n",
            "Epoch 71/300\n",
            "\u001b[1m240/240\u001b[0m \u001b[32m━━━━━━━━━━━━━━━━━━━━\u001b[0m\u001b[37m\u001b[0m \u001b[1m1s\u001b[0m 3ms/step - loss: 0.0430 - mean_absolute_error: 0.1143 - val_loss: 0.0425 - val_mean_absolute_error: 0.1135\n",
            "Epoch 72/300\n",
            "\u001b[1m240/240\u001b[0m \u001b[32m━━━━━━━━━━━━━━━━━━━━\u001b[0m\u001b[37m\u001b[0m \u001b[1m1s\u001b[0m 3ms/step - loss: 0.0429 - mean_absolute_error: 0.1142 - val_loss: 0.0424 - val_mean_absolute_error: 0.1134\n",
            "Epoch 73/300\n",
            "\u001b[1m240/240\u001b[0m \u001b[32m━━━━━━━━━━━━━━━━━━━━\u001b[0m\u001b[37m\u001b[0m \u001b[1m1s\u001b[0m 4ms/step - loss: 0.0427 - mean_absolute_error: 0.1139 - val_loss: 0.0423 - val_mean_absolute_error: 0.1132\n",
            "Epoch 74/300\n",
            "\u001b[1m240/240\u001b[0m \u001b[32m━━━━━━━━━━━━━━━━━━━━\u001b[0m\u001b[37m\u001b[0m \u001b[1m1s\u001b[0m 3ms/step - loss: 0.0425 - mean_absolute_error: 0.1136 - val_loss: 0.0422 - val_mean_absolute_error: 0.1131\n",
            "Epoch 75/300\n",
            "\u001b[1m240/240\u001b[0m \u001b[32m━━━━━━━━━━━━━━━━━━━━\u001b[0m\u001b[37m\u001b[0m \u001b[1m1s\u001b[0m 2ms/step - loss: 0.0424 - mean_absolute_error: 0.1134 - val_loss: 0.0421 - val_mean_absolute_error: 0.1129\n",
            "Epoch 76/300\n",
            "\u001b[1m240/240\u001b[0m \u001b[32m━━━━━━━━━━━━━━━━━━━━\u001b[0m\u001b[37m\u001b[0m \u001b[1m1s\u001b[0m 3ms/step - loss: 0.0425 - mean_absolute_error: 0.1136 - val_loss: 0.0420 - val_mean_absolute_error: 0.1128\n",
            "Epoch 77/300\n",
            "\u001b[1m240/240\u001b[0m \u001b[32m━━━━━━━━━━━━━━━━━━━━\u001b[0m\u001b[37m\u001b[0m \u001b[1m1s\u001b[0m 2ms/step - loss: 0.0423 - mean_absolute_error: 0.1133 - val_loss: 0.0419 - val_mean_absolute_error: 0.1126\n",
            "Epoch 78/300\n",
            "\u001b[1m240/240\u001b[0m \u001b[32m━━━━━━━━━━━━━━━━━━━━\u001b[0m\u001b[37m\u001b[0m \u001b[1m1s\u001b[0m 2ms/step - loss: 0.0422 - mean_absolute_error: 0.1131 - val_loss: 0.0418 - val_mean_absolute_error: 0.1125\n",
            "Epoch 79/300\n",
            "\u001b[1m240/240\u001b[0m \u001b[32m━━━━━━━━━━━━━━━━━━━━\u001b[0m\u001b[37m\u001b[0m \u001b[1m1s\u001b[0m 3ms/step - loss: 0.0422 - mean_absolute_error: 0.1129 - val_loss: 0.0417 - val_mean_absolute_error: 0.1123\n",
            "Epoch 80/300\n",
            "\u001b[1m240/240\u001b[0m \u001b[32m━━━━━━━━━━━━━━━━━━━━\u001b[0m\u001b[37m\u001b[0m \u001b[1m1s\u001b[0m 3ms/step - loss: 0.0419 - mean_absolute_error: 0.1126 - val_loss: 0.0416 - val_mean_absolute_error: 0.1122\n",
            "Epoch 81/300\n",
            "\u001b[1m240/240\u001b[0m \u001b[32m━━━━━━━━━━━━━━━━━━━━\u001b[0m\u001b[37m\u001b[0m \u001b[1m1s\u001b[0m 2ms/step - loss: 0.0420 - mean_absolute_error: 0.1127 - val_loss: 0.0415 - val_mean_absolute_error: 0.1121\n",
            "Epoch 82/300\n",
            "\u001b[1m240/240\u001b[0m \u001b[32m━━━━━━━━━━━━━━━━━━━━\u001b[0m\u001b[37m\u001b[0m \u001b[1m1s\u001b[0m 3ms/step - loss: 0.0418 - mean_absolute_error: 0.1124 - val_loss: 0.0414 - val_mean_absolute_error: 0.1119\n",
            "Epoch 83/300\n",
            "\u001b[1m240/240\u001b[0m \u001b[32m━━━━━━━━━━━━━━━━━━━━\u001b[0m\u001b[37m\u001b[0m \u001b[1m1s\u001b[0m 2ms/step - loss: 0.0418 - mean_absolute_error: 0.1125 - val_loss: 0.0413 - val_mean_absolute_error: 0.1118\n",
            "Epoch 84/300\n",
            "\u001b[1m240/240\u001b[0m \u001b[32m━━━━━━━━━━━━━━━━━━━━\u001b[0m\u001b[37m\u001b[0m \u001b[1m1s\u001b[0m 2ms/step - loss: 0.0417 - mean_absolute_error: 0.1124 - val_loss: 0.0412 - val_mean_absolute_error: 0.1116\n",
            "Epoch 85/300\n",
            "\u001b[1m240/240\u001b[0m \u001b[32m━━━━━━━━━━━━━━━━━━━━\u001b[0m\u001b[37m\u001b[0m \u001b[1m1s\u001b[0m 2ms/step - loss: 0.0418 - mean_absolute_error: 0.1124 - val_loss: 0.0411 - val_mean_absolute_error: 0.1115\n",
            "Epoch 86/300\n",
            "\u001b[1m240/240\u001b[0m \u001b[32m━━━━━━━━━━━━━━━━━━━━\u001b[0m\u001b[37m\u001b[0m \u001b[1m1s\u001b[0m 3ms/step - loss: 0.0416 - mean_absolute_error: 0.1121 - val_loss: 0.0411 - val_mean_absolute_error: 0.1114\n",
            "Epoch 87/300\n",
            "\u001b[1m240/240\u001b[0m \u001b[32m━━━━━━━━━━━━━━━━━━━━\u001b[0m\u001b[37m\u001b[0m \u001b[1m1s\u001b[0m 3ms/step - loss: 0.0415 - mean_absolute_error: 0.1120 - val_loss: 0.0410 - val_mean_absolute_error: 0.1112\n",
            "Epoch 88/300\n",
            "\u001b[1m240/240\u001b[0m \u001b[32m━━━━━━━━━━━━━━━━━━━━\u001b[0m\u001b[37m\u001b[0m \u001b[1m1s\u001b[0m 3ms/step - loss: 0.0414 - mean_absolute_error: 0.1119 - val_loss: 0.0409 - val_mean_absolute_error: 0.1111\n",
            "Epoch 89/300\n",
            "\u001b[1m240/240\u001b[0m \u001b[32m━━━━━━━━━━━━━━━━━━━━\u001b[0m\u001b[37m\u001b[0m \u001b[1m1s\u001b[0m 4ms/step - loss: 0.0413 - mean_absolute_error: 0.1117 - val_loss: 0.0408 - val_mean_absolute_error: 0.1110\n",
            "Epoch 90/300\n",
            "\u001b[1m240/240\u001b[0m \u001b[32m━━━━━━━━━━━━━━━━━━━━\u001b[0m\u001b[37m\u001b[0m \u001b[1m1s\u001b[0m 3ms/step - loss: 0.0413 - mean_absolute_error: 0.1117 - val_loss: 0.0407 - val_mean_absolute_error: 0.1108\n",
            "Epoch 91/300\n",
            "\u001b[1m240/240\u001b[0m \u001b[32m━━━━━━━━━━━━━━━━━━━━\u001b[0m\u001b[37m\u001b[0m \u001b[1m1s\u001b[0m 2ms/step - loss: 0.0412 - mean_absolute_error: 0.1115 - val_loss: 0.0406 - val_mean_absolute_error: 0.1107\n",
            "Epoch 92/300\n",
            "\u001b[1m240/240\u001b[0m \u001b[32m━━━━━━━━━━━━━━━━━━━━\u001b[0m\u001b[37m\u001b[0m \u001b[1m1s\u001b[0m 2ms/step - loss: 0.0409 - mean_absolute_error: 0.1109 - val_loss: 0.0405 - val_mean_absolute_error: 0.1106\n",
            "Epoch 93/300\n",
            "\u001b[1m240/240\u001b[0m \u001b[32m━━━━━━━━━━━━━━━━━━━━\u001b[0m\u001b[37m\u001b[0m \u001b[1m1s\u001b[0m 3ms/step - loss: 0.0411 - mean_absolute_error: 0.1114 - val_loss: 0.0404 - val_mean_absolute_error: 0.1105\n",
            "Epoch 94/300\n",
            "\u001b[1m240/240\u001b[0m \u001b[32m━━━━━━━━━━━━━━━━━━━━\u001b[0m\u001b[37m\u001b[0m \u001b[1m1s\u001b[0m 2ms/step - loss: 0.0409 - mean_absolute_error: 0.1109 - val_loss: 0.0404 - val_mean_absolute_error: 0.1103\n",
            "Epoch 95/300\n",
            "\u001b[1m240/240\u001b[0m \u001b[32m━━━━━━━━━━━━━━━━━━━━\u001b[0m\u001b[37m\u001b[0m \u001b[1m1s\u001b[0m 3ms/step - loss: 0.0408 - mean_absolute_error: 0.1109 - val_loss: 0.0403 - val_mean_absolute_error: 0.1102\n",
            "Epoch 96/300\n",
            "\u001b[1m240/240\u001b[0m \u001b[32m━━━━━━━━━━━━━━━━━━━━\u001b[0m\u001b[37m\u001b[0m \u001b[1m1s\u001b[0m 2ms/step - loss: 0.0406 - mean_absolute_error: 0.1106 - val_loss: 0.0402 - val_mean_absolute_error: 0.1100\n",
            "Epoch 97/300\n",
            "\u001b[1m240/240\u001b[0m \u001b[32m━━━━━━━━━━━━━━━━━━━━\u001b[0m\u001b[37m\u001b[0m \u001b[1m1s\u001b[0m 3ms/step - loss: 0.0404 - mean_absolute_error: 0.1103 - val_loss: 0.0401 - val_mean_absolute_error: 0.1099\n",
            "Epoch 98/300\n",
            "\u001b[1m240/240\u001b[0m \u001b[32m━━━━━━━━━━━━━━━━━━━━\u001b[0m\u001b[37m\u001b[0m \u001b[1m1s\u001b[0m 3ms/step - loss: 0.0405 - mean_absolute_error: 0.1104 - val_loss: 0.0400 - val_mean_absolute_error: 0.1098\n",
            "Epoch 99/300\n",
            "\u001b[1m240/240\u001b[0m \u001b[32m━━━━━━━━━━━━━━━━━━━━\u001b[0m\u001b[37m\u001b[0m \u001b[1m1s\u001b[0m 3ms/step - loss: 0.0403 - mean_absolute_error: 0.1102 - val_loss: 0.0399 - val_mean_absolute_error: 0.1097\n",
            "Epoch 100/300\n",
            "\u001b[1m240/240\u001b[0m \u001b[32m━━━━━━━━━━━━━━━━━━━━\u001b[0m\u001b[37m\u001b[0m \u001b[1m1s\u001b[0m 3ms/step - loss: 0.0404 - mean_absolute_error: 0.1103 - val_loss: 0.0398 - val_mean_absolute_error: 0.1095\n",
            "Epoch 101/300\n",
            "\u001b[1m240/240\u001b[0m \u001b[32m━━━━━━━━━━━━━━━━━━━━\u001b[0m\u001b[37m\u001b[0m \u001b[1m1s\u001b[0m 2ms/step - loss: 0.0404 - mean_absolute_error: 0.1103 - val_loss: 0.0397 - val_mean_absolute_error: 0.1094\n",
            "Epoch 102/300\n",
            "\u001b[1m240/240\u001b[0m \u001b[32m━━━━━━━━━━━━━━━━━━━━\u001b[0m\u001b[37m\u001b[0m \u001b[1m1s\u001b[0m 3ms/step - loss: 0.0402 - mean_absolute_error: 0.1101 - val_loss: 0.0397 - val_mean_absolute_error: 0.1093\n",
            "Epoch 103/300\n",
            "\u001b[1m240/240\u001b[0m \u001b[32m━━━━━━━━━━━━━━━━━━━━\u001b[0m\u001b[37m\u001b[0m \u001b[1m1s\u001b[0m 3ms/step - loss: 0.0401 - mean_absolute_error: 0.1098 - val_loss: 0.0396 - val_mean_absolute_error: 0.1091\n",
            "Epoch 104/300\n",
            "\u001b[1m240/240\u001b[0m \u001b[32m━━━━━━━━━━━━━━━━━━━━\u001b[0m\u001b[37m\u001b[0m \u001b[1m1s\u001b[0m 3ms/step - loss: 0.0399 - mean_absolute_error: 0.1097 - val_loss: 0.0395 - val_mean_absolute_error: 0.1090\n",
            "Epoch 105/300\n",
            "\u001b[1m240/240\u001b[0m \u001b[32m━━━━━━━━━━━━━━━━━━━━\u001b[0m\u001b[37m\u001b[0m \u001b[1m1s\u001b[0m 3ms/step - loss: 0.0398 - mean_absolute_error: 0.1095 - val_loss: 0.0394 - val_mean_absolute_error: 0.1089\n",
            "Epoch 106/300\n",
            "\u001b[1m240/240\u001b[0m \u001b[32m━━━━━━━━━━━━━━━━━━━━\u001b[0m\u001b[37m\u001b[0m \u001b[1m1s\u001b[0m 2ms/step - loss: 0.0398 - mean_absolute_error: 0.1094 - val_loss: 0.0393 - val_mean_absolute_error: 0.1088\n",
            "Epoch 107/300\n",
            "\u001b[1m240/240\u001b[0m \u001b[32m━━━━━━━━━━━━━━━━━━━━\u001b[0m\u001b[37m\u001b[0m \u001b[1m1s\u001b[0m 3ms/step - loss: 0.0398 - mean_absolute_error: 0.1096 - val_loss: 0.0392 - val_mean_absolute_error: 0.1086\n",
            "Epoch 108/300\n",
            "\u001b[1m240/240\u001b[0m \u001b[32m━━━━━━━━━━━━━━━━━━━━\u001b[0m\u001b[37m\u001b[0m \u001b[1m1s\u001b[0m 3ms/step - loss: 0.0395 - mean_absolute_error: 0.1091 - val_loss: 0.0391 - val_mean_absolute_error: 0.1085\n",
            "Epoch 109/300\n",
            "\u001b[1m240/240\u001b[0m \u001b[32m━━━━━━━━━━━━━━━━━━━━\u001b[0m\u001b[37m\u001b[0m \u001b[1m1s\u001b[0m 2ms/step - loss: 0.0395 - mean_absolute_error: 0.1090 - val_loss: 0.0390 - val_mean_absolute_error: 0.1084\n",
            "Epoch 110/300\n",
            "\u001b[1m240/240\u001b[0m \u001b[32m━━━━━━━━━━━━━━━━━━━━\u001b[0m\u001b[37m\u001b[0m \u001b[1m1s\u001b[0m 3ms/step - loss: 0.0396 - mean_absolute_error: 0.1092 - val_loss: 0.0389 - val_mean_absolute_error: 0.1082\n",
            "Epoch 111/300\n",
            "\u001b[1m240/240\u001b[0m \u001b[32m━━━━━━━━━━━━━━━━━━━━\u001b[0m\u001b[37m\u001b[0m \u001b[1m1s\u001b[0m 3ms/step - loss: 0.0394 - mean_absolute_error: 0.1089 - val_loss: 0.0388 - val_mean_absolute_error: 0.1081\n",
            "Epoch 112/300\n",
            "\u001b[1m240/240\u001b[0m \u001b[32m━━━━━━━━━━━━━━━━━━━━\u001b[0m\u001b[37m\u001b[0m \u001b[1m1s\u001b[0m 3ms/step - loss: 0.0392 - mean_absolute_error: 0.1086 - val_loss: 0.0387 - val_mean_absolute_error: 0.1079\n",
            "Epoch 113/300\n",
            "\u001b[1m240/240\u001b[0m \u001b[32m━━━━━━━━━━━━━━━━━━━━\u001b[0m\u001b[37m\u001b[0m \u001b[1m1s\u001b[0m 2ms/step - loss: 0.0391 - mean_absolute_error: 0.1085 - val_loss: 0.0386 - val_mean_absolute_error: 0.1078\n",
            "Epoch 114/300\n",
            "\u001b[1m240/240\u001b[0m \u001b[32m━━━━━━━━━━━━━━━━━━━━\u001b[0m\u001b[37m\u001b[0m \u001b[1m1s\u001b[0m 3ms/step - loss: 0.0394 - mean_absolute_error: 0.1088 - val_loss: 0.0385 - val_mean_absolute_error: 0.1077\n",
            "Epoch 115/300\n",
            "\u001b[1m240/240\u001b[0m \u001b[32m━━━━━━━━━━━━━━━━━━━━\u001b[0m\u001b[37m\u001b[0m \u001b[1m1s\u001b[0m 2ms/step - loss: 0.0392 - mean_absolute_error: 0.1086 - val_loss: 0.0385 - val_mean_absolute_error: 0.1075\n",
            "Epoch 116/300\n",
            "\u001b[1m240/240\u001b[0m \u001b[32m━━━━━━━━━━━━━━━━━━━━\u001b[0m\u001b[37m\u001b[0m \u001b[1m1s\u001b[0m 2ms/step - loss: 0.0389 - mean_absolute_error: 0.1083 - val_loss: 0.0384 - val_mean_absolute_error: 0.1074\n",
            "Epoch 117/300\n",
            "\u001b[1m240/240\u001b[0m \u001b[32m━━━━━━━━━━━━━━━━━━━━\u001b[0m\u001b[37m\u001b[0m \u001b[1m1s\u001b[0m 3ms/step - loss: 0.0387 - mean_absolute_error: 0.1078 - val_loss: 0.0383 - val_mean_absolute_error: 0.1073\n",
            "Epoch 118/300\n",
            "\u001b[1m240/240\u001b[0m \u001b[32m━━━━━━━━━━━━━━━━━━━━\u001b[0m\u001b[37m\u001b[0m \u001b[1m1s\u001b[0m 3ms/step - loss: 0.0387 - mean_absolute_error: 0.1079 - val_loss: 0.0382 - val_mean_absolute_error: 0.1071\n",
            "Epoch 119/300\n",
            "\u001b[1m240/240\u001b[0m \u001b[32m━━━━━━━━━━━━━━━━━━━━\u001b[0m\u001b[37m\u001b[0m \u001b[1m1s\u001b[0m 2ms/step - loss: 0.0384 - mean_absolute_error: 0.1075 - val_loss: 0.0381 - val_mean_absolute_error: 0.1070\n",
            "Epoch 120/300\n",
            "\u001b[1m240/240\u001b[0m \u001b[32m━━━━━━━━━━━━━━━━━━━━\u001b[0m\u001b[37m\u001b[0m \u001b[1m1s\u001b[0m 3ms/step - loss: 0.0384 - mean_absolute_error: 0.1075 - val_loss: 0.0380 - val_mean_absolute_error: 0.1068\n",
            "Epoch 121/300\n",
            "\u001b[1m240/240\u001b[0m \u001b[32m━━━━━━━━━━━━━━━━━━━━\u001b[0m\u001b[37m\u001b[0m \u001b[1m1s\u001b[0m 2ms/step - loss: 0.0383 - mean_absolute_error: 0.1074 - val_loss: 0.0379 - val_mean_absolute_error: 0.1067\n",
            "Epoch 122/300\n",
            "\u001b[1m240/240\u001b[0m \u001b[32m━━━━━━━━━━━━━━━━━━━━\u001b[0m\u001b[37m\u001b[0m \u001b[1m1s\u001b[0m 3ms/step - loss: 0.0382 - mean_absolute_error: 0.1072 - val_loss: 0.0378 - val_mean_absolute_error: 0.1065\n",
            "Epoch 123/300\n",
            "\u001b[1m240/240\u001b[0m \u001b[32m━━━━━━━━━━━━━━━━━━━━\u001b[0m\u001b[37m\u001b[0m \u001b[1m1s\u001b[0m 2ms/step - loss: 0.0383 - mean_absolute_error: 0.1074 - val_loss: 0.0377 - val_mean_absolute_error: 0.1064\n",
            "Epoch 124/300\n",
            "\u001b[1m240/240\u001b[0m \u001b[32m━━━━━━━━━━━━━━━━━━━━\u001b[0m\u001b[37m\u001b[0m \u001b[1m1s\u001b[0m 2ms/step - loss: 0.0379 - mean_absolute_error: 0.1067 - val_loss: 0.0376 - val_mean_absolute_error: 0.1062\n",
            "Epoch 125/300\n",
            "\u001b[1m240/240\u001b[0m \u001b[32m━━━━━━━━━━━━━━━━━━━━\u001b[0m\u001b[37m\u001b[0m \u001b[1m1s\u001b[0m 3ms/step - loss: 0.0381 - mean_absolute_error: 0.1070 - val_loss: 0.0375 - val_mean_absolute_error: 0.1061\n",
            "Epoch 126/300\n",
            "\u001b[1m240/240\u001b[0m \u001b[32m━━━━━━━━━━━━━━━━━━━━\u001b[0m\u001b[37m\u001b[0m \u001b[1m1s\u001b[0m 2ms/step - loss: 0.0378 - mean_absolute_error: 0.1065 - val_loss: 0.0374 - val_mean_absolute_error: 0.1059\n",
            "Epoch 127/300\n",
            "\u001b[1m240/240\u001b[0m \u001b[32m━━━━━━━━━━━━━━━━━━━━\u001b[0m\u001b[37m\u001b[0m \u001b[1m1s\u001b[0m 3ms/step - loss: 0.0380 - mean_absolute_error: 0.1067 - val_loss: 0.0373 - val_mean_absolute_error: 0.1058\n",
            "Epoch 128/300\n",
            "\u001b[1m240/240\u001b[0m \u001b[32m━━━━━━━━━━━━━━━━━━━━\u001b[0m\u001b[37m\u001b[0m \u001b[1m1s\u001b[0m 2ms/step - loss: 0.0377 - mean_absolute_error: 0.1064 - val_loss: 0.0372 - val_mean_absolute_error: 0.1056\n",
            "Epoch 129/300\n",
            "\u001b[1m240/240\u001b[0m \u001b[32m━━━━━━━━━━━━━━━━━━━━\u001b[0m\u001b[37m\u001b[0m \u001b[1m1s\u001b[0m 2ms/step - loss: 0.0376 - mean_absolute_error: 0.1062 - val_loss: 0.0371 - val_mean_absolute_error: 0.1055\n",
            "Epoch 130/300\n",
            "\u001b[1m240/240\u001b[0m \u001b[32m━━━━━━━━━━━━━━━━━━━━\u001b[0m\u001b[37m\u001b[0m \u001b[1m1s\u001b[0m 2ms/step - loss: 0.0378 - mean_absolute_error: 0.1063 - val_loss: 0.0371 - val_mean_absolute_error: 0.1053\n",
            "Epoch 131/300\n",
            "\u001b[1m240/240\u001b[0m \u001b[32m━━━━━━━━━━━━━━━━━━━━\u001b[0m\u001b[37m\u001b[0m \u001b[1m1s\u001b[0m 3ms/step - loss: 0.0375 - mean_absolute_error: 0.1060 - val_loss: 0.0370 - val_mean_absolute_error: 0.1051\n",
            "Epoch 132/300\n",
            "\u001b[1m240/240\u001b[0m \u001b[32m━━━━━━━━━━━━━━━━━━━━\u001b[0m\u001b[37m\u001b[0m \u001b[1m1s\u001b[0m 3ms/step - loss: 0.0373 - mean_absolute_error: 0.1058 - val_loss: 0.0369 - val_mean_absolute_error: 0.1050\n",
            "Epoch 133/300\n",
            "\u001b[1m240/240\u001b[0m \u001b[32m━━━━━━━━━━━━━━━━━━━━\u001b[0m\u001b[37m\u001b[0m \u001b[1m1s\u001b[0m 2ms/step - loss: 0.0374 - mean_absolute_error: 0.1059 - val_loss: 0.0368 - val_mean_absolute_error: 0.1048\n",
            "Epoch 134/300\n",
            "\u001b[1m240/240\u001b[0m \u001b[32m━━━━━━━━━━━━━━━━━━━━\u001b[0m\u001b[37m\u001b[0m \u001b[1m1s\u001b[0m 3ms/step - loss: 0.0372 - mean_absolute_error: 0.1054 - val_loss: 0.0367 - val_mean_absolute_error: 0.1047\n",
            "Epoch 135/300\n",
            "\u001b[1m240/240\u001b[0m \u001b[32m━━━━━━━━━━━━━━━━━━━━\u001b[0m\u001b[37m\u001b[0m \u001b[1m1s\u001b[0m 2ms/step - loss: 0.0371 - mean_absolute_error: 0.1052 - val_loss: 0.0366 - val_mean_absolute_error: 0.1045\n",
            "Epoch 136/300\n",
            "\u001b[1m240/240\u001b[0m \u001b[32m━━━━━━━━━━━━━━━━━━━━\u001b[0m\u001b[37m\u001b[0m \u001b[1m1s\u001b[0m 3ms/step - loss: 0.0369 - mean_absolute_error: 0.1050 - val_loss: 0.0365 - val_mean_absolute_error: 0.1044\n",
            "Epoch 137/300\n",
            "\u001b[1m240/240\u001b[0m \u001b[32m━━━━━━━━━━━━━━━━━━━━\u001b[0m\u001b[37m\u001b[0m \u001b[1m1s\u001b[0m 3ms/step - loss: 0.0368 - mean_absolute_error: 0.1049 - val_loss: 0.0365 - val_mean_absolute_error: 0.1042\n",
            "Epoch 138/300\n",
            "\u001b[1m240/240\u001b[0m \u001b[32m━━━━━━━━━━━━━━━━━━━━\u001b[0m\u001b[37m\u001b[0m \u001b[1m1s\u001b[0m 3ms/step - loss: 0.0368 - mean_absolute_error: 0.1047 - val_loss: 0.0364 - val_mean_absolute_error: 0.1040\n",
            "Epoch 139/300\n",
            "\u001b[1m240/240\u001b[0m \u001b[32m━━━━━━━━━━━━━━━━━━━━\u001b[0m\u001b[37m\u001b[0m \u001b[1m1s\u001b[0m 3ms/step - loss: 0.0368 - mean_absolute_error: 0.1047 - val_loss: 0.0363 - val_mean_absolute_error: 0.1039\n",
            "Epoch 140/300\n",
            "\u001b[1m240/240\u001b[0m \u001b[32m━━━━━━━━━━━━━━━━━━━━\u001b[0m\u001b[37m\u001b[0m \u001b[1m1s\u001b[0m 3ms/step - loss: 0.0368 - mean_absolute_error: 0.1046 - val_loss: 0.0362 - val_mean_absolute_error: 0.1037\n",
            "Epoch 141/300\n",
            "\u001b[1m240/240\u001b[0m \u001b[32m━━━━━━━━━━━━━━━━━━━━\u001b[0m\u001b[37m\u001b[0m \u001b[1m1s\u001b[0m 3ms/step - loss: 0.0367 - mean_absolute_error: 0.1044 - val_loss: 0.0361 - val_mean_absolute_error: 0.1036\n",
            "Epoch 142/300\n",
            "\u001b[1m240/240\u001b[0m \u001b[32m━━━━━━━━━━━━━━━━━━━━\u001b[0m\u001b[37m\u001b[0m \u001b[1m1s\u001b[0m 3ms/step - loss: 0.0366 - mean_absolute_error: 0.1043 - val_loss: 0.0360 - val_mean_absolute_error: 0.1034\n",
            "Epoch 143/300\n",
            "\u001b[1m240/240\u001b[0m \u001b[32m━━━━━━━━━━━━━━━━━━━━\u001b[0m\u001b[37m\u001b[0m \u001b[1m1s\u001b[0m 3ms/step - loss: 0.0366 - mean_absolute_error: 0.1043 - val_loss: 0.0360 - val_mean_absolute_error: 0.1033\n",
            "Epoch 144/300\n",
            "\u001b[1m240/240\u001b[0m \u001b[32m━━━━━━━━━━━━━━━━━━━━\u001b[0m\u001b[37m\u001b[0m \u001b[1m1s\u001b[0m 3ms/step - loss: 0.0363 - mean_absolute_error: 0.1038 - val_loss: 0.0359 - val_mean_absolute_error: 0.1032\n",
            "Epoch 145/300\n",
            "\u001b[1m240/240\u001b[0m \u001b[32m━━━━━━━━━━━━━━━━━━━━\u001b[0m\u001b[37m\u001b[0m \u001b[1m1s\u001b[0m 4ms/step - loss: 0.0363 - mean_absolute_error: 0.1038 - val_loss: 0.0358 - val_mean_absolute_error: 0.1030\n",
            "Epoch 146/300\n",
            "\u001b[1m240/240\u001b[0m \u001b[32m━━━━━━━━━━━━━━━━━━━━\u001b[0m\u001b[37m\u001b[0m \u001b[1m1s\u001b[0m 3ms/step - loss: 0.0365 - mean_absolute_error: 0.1039 - val_loss: 0.0357 - val_mean_absolute_error: 0.1028\n",
            "Epoch 147/300\n",
            "\u001b[1m240/240\u001b[0m \u001b[32m━━━━━━━━━━━━━━━━━━━━\u001b[0m\u001b[37m\u001b[0m \u001b[1m1s\u001b[0m 3ms/step - loss: 0.0360 - mean_absolute_error: 0.1032 - val_loss: 0.0357 - val_mean_absolute_error: 0.1027\n",
            "Epoch 148/300\n",
            "\u001b[1m240/240\u001b[0m \u001b[32m━━━━━━━━━━━━━━━━━━━━\u001b[0m\u001b[37m\u001b[0m \u001b[1m1s\u001b[0m 2ms/step - loss: 0.0360 - mean_absolute_error: 0.1031 - val_loss: 0.0356 - val_mean_absolute_error: 0.1025\n",
            "Epoch 149/300\n",
            "\u001b[1m240/240\u001b[0m \u001b[32m━━━━━━━━━━━━━━━━━━━━\u001b[0m\u001b[37m\u001b[0m \u001b[1m1s\u001b[0m 3ms/step - loss: 0.0358 - mean_absolute_error: 0.1028 - val_loss: 0.0355 - val_mean_absolute_error: 0.1024\n",
            "Epoch 150/300\n",
            "\u001b[1m240/240\u001b[0m \u001b[32m━━━━━━━━━━━━━━━━━━━━\u001b[0m\u001b[37m\u001b[0m \u001b[1m1s\u001b[0m 3ms/step - loss: 0.0359 - mean_absolute_error: 0.1029 - val_loss: 0.0354 - val_mean_absolute_error: 0.1022\n",
            "Epoch 151/300\n",
            "\u001b[1m240/240\u001b[0m \u001b[32m━━━━━━━━━━━━━━━━━━━━\u001b[0m\u001b[37m\u001b[0m \u001b[1m1s\u001b[0m 2ms/step - loss: 0.0358 - mean_absolute_error: 0.1029 - val_loss: 0.0354 - val_mean_absolute_error: 0.1021\n",
            "Epoch 152/300\n",
            "\u001b[1m240/240\u001b[0m \u001b[32m━━━━━━━━━━━━━━━━━━━━\u001b[0m\u001b[37m\u001b[0m \u001b[1m1s\u001b[0m 2ms/step - loss: 0.0358 - mean_absolute_error: 0.1027 - val_loss: 0.0353 - val_mean_absolute_error: 0.1019\n",
            "Epoch 153/300\n",
            "\u001b[1m240/240\u001b[0m \u001b[32m━━━━━━━━━━━━━━━━━━━━\u001b[0m\u001b[37m\u001b[0m \u001b[1m1s\u001b[0m 3ms/step - loss: 0.0356 - mean_absolute_error: 0.1024 - val_loss: 0.0352 - val_mean_absolute_error: 0.1018\n",
            "Epoch 154/300\n",
            "\u001b[1m240/240\u001b[0m \u001b[32m━━━━━━━━━━━━━━━━━━━━\u001b[0m\u001b[37m\u001b[0m \u001b[1m1s\u001b[0m 3ms/step - loss: 0.0356 - mean_absolute_error: 0.1023 - val_loss: 0.0352 - val_mean_absolute_error: 0.1017\n",
            "Epoch 155/300\n",
            "\u001b[1m240/240\u001b[0m \u001b[32m━━━━━━━━━━━━━━━━━━━━\u001b[0m\u001b[37m\u001b[0m \u001b[1m1s\u001b[0m 2ms/step - loss: 0.0355 - mean_absolute_error: 0.1022 - val_loss: 0.0351 - val_mean_absolute_error: 0.1015\n",
            "Epoch 156/300\n",
            "\u001b[1m240/240\u001b[0m \u001b[32m━━━━━━━━━━━━━━━━━━━━\u001b[0m\u001b[37m\u001b[0m \u001b[1m1s\u001b[0m 2ms/step - loss: 0.0354 - mean_absolute_error: 0.1020 - val_loss: 0.0350 - val_mean_absolute_error: 0.1014\n",
            "Epoch 157/300\n",
            "\u001b[1m240/240\u001b[0m \u001b[32m━━━━━━━━━━━━━━━━━━━━\u001b[0m\u001b[37m\u001b[0m \u001b[1m1s\u001b[0m 3ms/step - loss: 0.0354 - mean_absolute_error: 0.1019 - val_loss: 0.0349 - val_mean_absolute_error: 0.1013\n",
            "Epoch 158/300\n",
            "\u001b[1m240/240\u001b[0m \u001b[32m━━━━━━━━━━━━━━━━━━━━\u001b[0m\u001b[37m\u001b[0m \u001b[1m1s\u001b[0m 3ms/step - loss: 0.0353 - mean_absolute_error: 0.1018 - val_loss: 0.0349 - val_mean_absolute_error: 0.1011\n",
            "Epoch 159/300\n",
            "\u001b[1m240/240\u001b[0m \u001b[32m━━━━━━━━━━━━━━━━━━━━\u001b[0m\u001b[37m\u001b[0m \u001b[1m1s\u001b[0m 4ms/step - loss: 0.0353 - mean_absolute_error: 0.1017 - val_loss: 0.0348 - val_mean_absolute_error: 0.1010\n",
            "Epoch 160/300\n",
            "\u001b[1m240/240\u001b[0m \u001b[32m━━━━━━━━━━━━━━━━━━━━\u001b[0m\u001b[37m\u001b[0m \u001b[1m1s\u001b[0m 3ms/step - loss: 0.0353 - mean_absolute_error: 0.1016 - val_loss: 0.0347 - val_mean_absolute_error: 0.1008\n",
            "Epoch 161/300\n",
            "\u001b[1m240/240\u001b[0m \u001b[32m━━━━━━━━━━━━━━━━━━━━\u001b[0m\u001b[37m\u001b[0m \u001b[1m1s\u001b[0m 2ms/step - loss: 0.0353 - mean_absolute_error: 0.1016 - val_loss: 0.0347 - val_mean_absolute_error: 0.1007\n",
            "Epoch 162/300\n",
            "\u001b[1m240/240\u001b[0m \u001b[32m━━━━━━━━━━━━━━━━━━━━\u001b[0m\u001b[37m\u001b[0m \u001b[1m1s\u001b[0m 2ms/step - loss: 0.0351 - mean_absolute_error: 0.1013 - val_loss: 0.0346 - val_mean_absolute_error: 0.1006\n",
            "Epoch 163/300\n",
            "\u001b[1m240/240\u001b[0m \u001b[32m━━━━━━━━━━━━━━━━━━━━\u001b[0m\u001b[37m\u001b[0m \u001b[1m1s\u001b[0m 3ms/step - loss: 0.0351 - mean_absolute_error: 0.1012 - val_loss: 0.0346 - val_mean_absolute_error: 0.1005\n",
            "Epoch 164/300\n",
            "\u001b[1m240/240\u001b[0m \u001b[32m━━━━━━━━━━━━━━━━━━━━\u001b[0m\u001b[37m\u001b[0m \u001b[1m1s\u001b[0m 3ms/step - loss: 0.0350 - mean_absolute_error: 0.1011 - val_loss: 0.0345 - val_mean_absolute_error: 0.1003\n",
            "Epoch 165/300\n",
            "\u001b[1m240/240\u001b[0m \u001b[32m━━━━━━━━━━━━━━━━━━━━\u001b[0m\u001b[37m\u001b[0m \u001b[1m1s\u001b[0m 3ms/step - loss: 0.0348 - mean_absolute_error: 0.1008 - val_loss: 0.0344 - val_mean_absolute_error: 0.1002\n",
            "Epoch 166/300\n",
            "\u001b[1m240/240\u001b[0m \u001b[32m━━━━━━━━━━━━━━━━━━━━\u001b[0m\u001b[37m\u001b[0m \u001b[1m1s\u001b[0m 2ms/step - loss: 0.0349 - mean_absolute_error: 0.1009 - val_loss: 0.0344 - val_mean_absolute_error: 0.1001\n",
            "Epoch 167/300\n",
            "\u001b[1m240/240\u001b[0m \u001b[32m━━━━━━━━━━━━━━━━━━━━\u001b[0m\u001b[37m\u001b[0m \u001b[1m1s\u001b[0m 2ms/step - loss: 0.0349 - mean_absolute_error: 0.1008 - val_loss: 0.0343 - val_mean_absolute_error: 0.1000\n",
            "Epoch 168/300\n",
            "\u001b[1m240/240\u001b[0m \u001b[32m━━━━━━━━━━━━━━━━━━━━\u001b[0m\u001b[37m\u001b[0m \u001b[1m1s\u001b[0m 3ms/step - loss: 0.0349 - mean_absolute_error: 0.1009 - val_loss: 0.0342 - val_mean_absolute_error: 0.0998\n",
            "Epoch 169/300\n",
            "\u001b[1m240/240\u001b[0m \u001b[32m━━━━━━━━━━━━━━━━━━━━\u001b[0m\u001b[37m\u001b[0m \u001b[1m1s\u001b[0m 2ms/step - loss: 0.0347 - mean_absolute_error: 0.1005 - val_loss: 0.0342 - val_mean_absolute_error: 0.0997\n",
            "Epoch 170/300\n",
            "\u001b[1m240/240\u001b[0m \u001b[32m━━━━━━━━━━━━━━━━━━━━\u001b[0m\u001b[37m\u001b[0m \u001b[1m1s\u001b[0m 3ms/step - loss: 0.0343 - mean_absolute_error: 0.1000 - val_loss: 0.0341 - val_mean_absolute_error: 0.0996\n",
            "Epoch 171/300\n",
            "\u001b[1m240/240\u001b[0m \u001b[32m━━━━━━━━━━━━━━━━━━━━\u001b[0m\u001b[37m\u001b[0m \u001b[1m1s\u001b[0m 2ms/step - loss: 0.0343 - mean_absolute_error: 0.0999 - val_loss: 0.0341 - val_mean_absolute_error: 0.0995\n",
            "Epoch 172/300\n",
            "\u001b[1m240/240\u001b[0m \u001b[32m━━━━━━━━━━━━━━━━━━━━\u001b[0m\u001b[37m\u001b[0m \u001b[1m1s\u001b[0m 2ms/step - loss: 0.0345 - mean_absolute_error: 0.1001 - val_loss: 0.0340 - val_mean_absolute_error: 0.0994\n",
            "Epoch 173/300\n",
            "\u001b[1m240/240\u001b[0m \u001b[32m━━━━━━━━━━━━━━━━━━━━\u001b[0m\u001b[37m\u001b[0m \u001b[1m1s\u001b[0m 3ms/step - loss: 0.0343 - mean_absolute_error: 0.0998 - val_loss: 0.0339 - val_mean_absolute_error: 0.0992\n",
            "Epoch 174/300\n",
            "\u001b[1m240/240\u001b[0m \u001b[32m━━━━━━━━━━━━━━━━━━━━\u001b[0m\u001b[37m\u001b[0m \u001b[1m1s\u001b[0m 4ms/step - loss: 0.0344 - mean_absolute_error: 0.0998 - val_loss: 0.0339 - val_mean_absolute_error: 0.0991\n",
            "Epoch 175/300\n",
            "\u001b[1m240/240\u001b[0m \u001b[32m━━━━━━━━━━━━━━━━━━━━\u001b[0m\u001b[37m\u001b[0m \u001b[1m1s\u001b[0m 3ms/step - loss: 0.0343 - mean_absolute_error: 0.0996 - val_loss: 0.0338 - val_mean_absolute_error: 0.0990\n",
            "Epoch 176/300\n",
            "\u001b[1m240/240\u001b[0m \u001b[32m━━━━━━━━━━━━━━━━━━━━\u001b[0m\u001b[37m\u001b[0m \u001b[1m1s\u001b[0m 2ms/step - loss: 0.0341 - mean_absolute_error: 0.0995 - val_loss: 0.0338 - val_mean_absolute_error: 0.0989\n",
            "Epoch 177/300\n",
            "\u001b[1m240/240\u001b[0m \u001b[32m━━━━━━━━━━━━━━━━━━━━\u001b[0m\u001b[37m\u001b[0m \u001b[1m1s\u001b[0m 3ms/step - loss: 0.0344 - mean_absolute_error: 0.0999 - val_loss: 0.0337 - val_mean_absolute_error: 0.0988\n",
            "Epoch 178/300\n",
            "\u001b[1m240/240\u001b[0m \u001b[32m━━━━━━━━━━━━━━━━━━━━\u001b[0m\u001b[37m\u001b[0m \u001b[1m1s\u001b[0m 2ms/step - loss: 0.0341 - mean_absolute_error: 0.0995 - val_loss: 0.0336 - val_mean_absolute_error: 0.0987\n",
            "Epoch 179/300\n",
            "\u001b[1m240/240\u001b[0m \u001b[32m━━━━━━━━━━━━━━━━━━━━\u001b[0m\u001b[37m\u001b[0m \u001b[1m1s\u001b[0m 3ms/step - loss: 0.0340 - mean_absolute_error: 0.0992 - val_loss: 0.0336 - val_mean_absolute_error: 0.0986\n",
            "Epoch 180/300\n",
            "\u001b[1m240/240\u001b[0m \u001b[32m━━━━━━━━━━━━━━━━━━━━\u001b[0m\u001b[37m\u001b[0m \u001b[1m1s\u001b[0m 3ms/step - loss: 0.0341 - mean_absolute_error: 0.0992 - val_loss: 0.0335 - val_mean_absolute_error: 0.0984\n",
            "Epoch 181/300\n",
            "\u001b[1m240/240\u001b[0m \u001b[32m━━━━━━━━━━━━━━━━━━━━\u001b[0m\u001b[37m\u001b[0m \u001b[1m1s\u001b[0m 3ms/step - loss: 0.0341 - mean_absolute_error: 0.0993 - val_loss: 0.0335 - val_mean_absolute_error: 0.0983\n",
            "Epoch 182/300\n",
            "\u001b[1m240/240\u001b[0m \u001b[32m━━━━━━━━━━━━━━━━━━━━\u001b[0m\u001b[37m\u001b[0m \u001b[1m1s\u001b[0m 2ms/step - loss: 0.0340 - mean_absolute_error: 0.0990 - val_loss: 0.0334 - val_mean_absolute_error: 0.0982\n",
            "Epoch 183/300\n",
            "\u001b[1m240/240\u001b[0m \u001b[32m━━━━━━━━━━━━━━━━━━━━\u001b[0m\u001b[37m\u001b[0m \u001b[1m1s\u001b[0m 3ms/step - loss: 0.0338 - mean_absolute_error: 0.0989 - val_loss: 0.0333 - val_mean_absolute_error: 0.0981\n",
            "Epoch 184/300\n",
            "\u001b[1m240/240\u001b[0m \u001b[32m━━━━━━━━━━━━━━━━━━━━\u001b[0m\u001b[37m\u001b[0m \u001b[1m1s\u001b[0m 3ms/step - loss: 0.0339 - mean_absolute_error: 0.0989 - val_loss: 0.0333 - val_mean_absolute_error: 0.0980\n",
            "Epoch 185/300\n",
            "\u001b[1m240/240\u001b[0m \u001b[32m━━━━━━━━━━━━━━━━━━━━\u001b[0m\u001b[37m\u001b[0m \u001b[1m1s\u001b[0m 3ms/step - loss: 0.0340 - mean_absolute_error: 0.0990 - val_loss: 0.0332 - val_mean_absolute_error: 0.0979\n",
            "Epoch 186/300\n",
            "\u001b[1m240/240\u001b[0m \u001b[32m━━━━━━━━━━━━━━━━━━━━\u001b[0m\u001b[37m\u001b[0m \u001b[1m1s\u001b[0m 4ms/step - loss: 0.0335 - mean_absolute_error: 0.0982 - val_loss: 0.0332 - val_mean_absolute_error: 0.0978\n",
            "Epoch 187/300\n",
            "\u001b[1m240/240\u001b[0m \u001b[32m━━━━━━━━━━━━━━━━━━━━\u001b[0m\u001b[37m\u001b[0m \u001b[1m1s\u001b[0m 3ms/step - loss: 0.0338 - mean_absolute_error: 0.0987 - val_loss: 0.0331 - val_mean_absolute_error: 0.0977\n",
            "Epoch 188/300\n",
            "\u001b[1m240/240\u001b[0m \u001b[32m━━━━━━━━━━━━━━━━━━━━\u001b[0m\u001b[37m\u001b[0m \u001b[1m1s\u001b[0m 3ms/step - loss: 0.0336 - mean_absolute_error: 0.0985 - val_loss: 0.0331 - val_mean_absolute_error: 0.0976\n",
            "Epoch 189/300\n",
            "\u001b[1m240/240\u001b[0m \u001b[32m━━━━━━━━━━━━━━━━━━━━\u001b[0m\u001b[37m\u001b[0m \u001b[1m1s\u001b[0m 2ms/step - loss: 0.0334 - mean_absolute_error: 0.0981 - val_loss: 0.0330 - val_mean_absolute_error: 0.0975\n",
            "Epoch 190/300\n",
            "\u001b[1m240/240\u001b[0m \u001b[32m━━━━━━━━━━━━━━━━━━━━\u001b[0m\u001b[37m\u001b[0m \u001b[1m1s\u001b[0m 3ms/step - loss: 0.0335 - mean_absolute_error: 0.0981 - val_loss: 0.0329 - val_mean_absolute_error: 0.0973\n",
            "Epoch 191/300\n",
            "\u001b[1m240/240\u001b[0m \u001b[32m━━━━━━━━━━━━━━━━━━━━\u001b[0m\u001b[37m\u001b[0m \u001b[1m1s\u001b[0m 3ms/step - loss: 0.0333 - mean_absolute_error: 0.0979 - val_loss: 0.0329 - val_mean_absolute_error: 0.0973\n",
            "Epoch 192/300\n",
            "\u001b[1m240/240\u001b[0m \u001b[32m━━━━━━━━━━━━━━━━━━━━\u001b[0m\u001b[37m\u001b[0m \u001b[1m1s\u001b[0m 3ms/step - loss: 0.0334 - mean_absolute_error: 0.0981 - val_loss: 0.0328 - val_mean_absolute_error: 0.0972\n",
            "Epoch 193/300\n",
            "\u001b[1m240/240\u001b[0m \u001b[32m━━━━━━━━━━━━━━━━━━━━\u001b[0m\u001b[37m\u001b[0m \u001b[1m1s\u001b[0m 2ms/step - loss: 0.0333 - mean_absolute_error: 0.0981 - val_loss: 0.0328 - val_mean_absolute_error: 0.0971\n",
            "Epoch 194/300\n",
            "\u001b[1m240/240\u001b[0m \u001b[32m━━━━━━━━━━━━━━━━━━━━\u001b[0m\u001b[37m\u001b[0m \u001b[1m1s\u001b[0m 3ms/step - loss: 0.0332 - mean_absolute_error: 0.0978 - val_loss: 0.0327 - val_mean_absolute_error: 0.0970\n",
            "Epoch 195/300\n",
            "\u001b[1m240/240\u001b[0m \u001b[32m━━━━━━━━━━━━━━━━━━━━\u001b[0m\u001b[37m\u001b[0m \u001b[1m1s\u001b[0m 2ms/step - loss: 0.0333 - mean_absolute_error: 0.0979 - val_loss: 0.0327 - val_mean_absolute_error: 0.0969\n",
            "Epoch 196/300\n",
            "\u001b[1m240/240\u001b[0m \u001b[32m━━━━━━━━━━━━━━━━━━━━\u001b[0m\u001b[37m\u001b[0m \u001b[1m1s\u001b[0m 2ms/step - loss: 0.0331 - mean_absolute_error: 0.0975 - val_loss: 0.0326 - val_mean_absolute_error: 0.0968\n",
            "Epoch 197/300\n",
            "\u001b[1m240/240\u001b[0m \u001b[32m━━━━━━━━━━━━━━━━━━━━\u001b[0m\u001b[37m\u001b[0m \u001b[1m1s\u001b[0m 3ms/step - loss: 0.0329 - mean_absolute_error: 0.0972 - val_loss: 0.0325 - val_mean_absolute_error: 0.0967\n",
            "Epoch 198/300\n",
            "\u001b[1m240/240\u001b[0m \u001b[32m━━━━━━━━━━━━━━━━━━━━\u001b[0m\u001b[37m\u001b[0m \u001b[1m1s\u001b[0m 3ms/step - loss: 0.0331 - mean_absolute_error: 0.0975 - val_loss: 0.0325 - val_mean_absolute_error: 0.0965\n",
            "Epoch 199/300\n",
            "\u001b[1m240/240\u001b[0m \u001b[32m━━━━━━━━━━━━━━━━━━━━\u001b[0m\u001b[37m\u001b[0m \u001b[1m1s\u001b[0m 3ms/step - loss: 0.0331 - mean_absolute_error: 0.0975 - val_loss: 0.0324 - val_mean_absolute_error: 0.0965\n",
            "Epoch 200/300\n",
            "\u001b[1m240/240\u001b[0m \u001b[32m━━━━━━━━━━━━━━━━━━━━\u001b[0m\u001b[37m\u001b[0m \u001b[1m1s\u001b[0m 3ms/step - loss: 0.0327 - mean_absolute_error: 0.0968 - val_loss: 0.0324 - val_mean_absolute_error: 0.0964\n",
            "Epoch 201/300\n",
            "\u001b[1m240/240\u001b[0m \u001b[32m━━━━━━━━━━━━━━━━━━━━\u001b[0m\u001b[37m\u001b[0m \u001b[1m1s\u001b[0m 3ms/step - loss: 0.0327 - mean_absolute_error: 0.0970 - val_loss: 0.0323 - val_mean_absolute_error: 0.0963\n",
            "Epoch 202/300\n",
            "\u001b[1m240/240\u001b[0m \u001b[32m━━━━━━━━━━━━━━━━━━━━\u001b[0m\u001b[37m\u001b[0m \u001b[1m1s\u001b[0m 3ms/step - loss: 0.0327 - mean_absolute_error: 0.0968 - val_loss: 0.0323 - val_mean_absolute_error: 0.0962\n",
            "Epoch 203/300\n",
            "\u001b[1m240/240\u001b[0m \u001b[32m━━━━━━━━━━━━━━━━━━━━\u001b[0m\u001b[37m\u001b[0m \u001b[1m1s\u001b[0m 2ms/step - loss: 0.0326 - mean_absolute_error: 0.0966 - val_loss: 0.0322 - val_mean_absolute_error: 0.0961\n",
            "Epoch 204/300\n",
            "\u001b[1m240/240\u001b[0m \u001b[32m━━━━━━━━━━━━━━━━━━━━\u001b[0m\u001b[37m\u001b[0m \u001b[1m1s\u001b[0m 3ms/step - loss: 0.0327 - mean_absolute_error: 0.0969 - val_loss: 0.0321 - val_mean_absolute_error: 0.0960\n",
            "Epoch 205/300\n",
            "\u001b[1m240/240\u001b[0m \u001b[32m━━━━━━━━━━━━━━━━━━━━\u001b[0m\u001b[37m\u001b[0m \u001b[1m1s\u001b[0m 3ms/step - loss: 0.0327 - mean_absolute_error: 0.0968 - val_loss: 0.0321 - val_mean_absolute_error: 0.0959\n",
            "Epoch 206/300\n",
            "\u001b[1m240/240\u001b[0m \u001b[32m━━━━━━━━━━━━━━━━━━━━\u001b[0m\u001b[37m\u001b[0m \u001b[1m1s\u001b[0m 2ms/step - loss: 0.0325 - mean_absolute_error: 0.0963 - val_loss: 0.0320 - val_mean_absolute_error: 0.0958\n",
            "Epoch 207/300\n",
            "\u001b[1m240/240\u001b[0m \u001b[32m━━━━━━━━━━━━━━━━━━━━\u001b[0m\u001b[37m\u001b[0m \u001b[1m1s\u001b[0m 3ms/step - loss: 0.0324 - mean_absolute_error: 0.0964 - val_loss: 0.0320 - val_mean_absolute_error: 0.0957\n",
            "Epoch 208/300\n",
            "\u001b[1m240/240\u001b[0m \u001b[32m━━━━━━━━━━━━━━━━━━━━\u001b[0m\u001b[37m\u001b[0m \u001b[1m1s\u001b[0m 3ms/step - loss: 0.0324 - mean_absolute_error: 0.0963 - val_loss: 0.0319 - val_mean_absolute_error: 0.0956\n",
            "Epoch 209/300\n",
            "\u001b[1m240/240\u001b[0m \u001b[32m━━━━━━━━━━━━━━━━━━━━\u001b[0m\u001b[37m\u001b[0m \u001b[1m1s\u001b[0m 2ms/step - loss: 0.0324 - mean_absolute_error: 0.0961 - val_loss: 0.0319 - val_mean_absolute_error: 0.0955\n",
            "Epoch 210/300\n",
            "\u001b[1m240/240\u001b[0m \u001b[32m━━━━━━━━━━━━━━━━━━━━\u001b[0m\u001b[37m\u001b[0m \u001b[1m1s\u001b[0m 2ms/step - loss: 0.0326 - mean_absolute_error: 0.0966 - val_loss: 0.0318 - val_mean_absolute_error: 0.0954\n",
            "Epoch 211/300\n",
            "\u001b[1m240/240\u001b[0m \u001b[32m━━━━━━━━━━━━━━━━━━━━\u001b[0m\u001b[37m\u001b[0m \u001b[1m1s\u001b[0m 3ms/step - loss: 0.0322 - mean_absolute_error: 0.0960 - val_loss: 0.0318 - val_mean_absolute_error: 0.0953\n",
            "Epoch 212/300\n",
            "\u001b[1m240/240\u001b[0m \u001b[32m━━━━━━━━━━━━━━━━━━━━\u001b[0m\u001b[37m\u001b[0m \u001b[1m1s\u001b[0m 3ms/step - loss: 0.0323 - mean_absolute_error: 0.0961 - val_loss: 0.0317 - val_mean_absolute_error: 0.0952\n",
            "Epoch 213/300\n",
            "\u001b[1m240/240\u001b[0m \u001b[32m━━━━━━━━━━━━━━━━━━━━\u001b[0m\u001b[37m\u001b[0m \u001b[1m1s\u001b[0m 3ms/step - loss: 0.0320 - mean_absolute_error: 0.0957 - val_loss: 0.0317 - val_mean_absolute_error: 0.0951\n",
            "Epoch 214/300\n",
            "\u001b[1m240/240\u001b[0m \u001b[32m━━━━━━━━━━━━━━━━━━━━\u001b[0m\u001b[37m\u001b[0m \u001b[1m1s\u001b[0m 4ms/step - loss: 0.0321 - mean_absolute_error: 0.0957 - val_loss: 0.0316 - val_mean_absolute_error: 0.0951\n",
            "Epoch 215/300\n",
            "\u001b[1m240/240\u001b[0m \u001b[32m━━━━━━━━━━━━━━━━━━━━\u001b[0m\u001b[37m\u001b[0m \u001b[1m1s\u001b[0m 3ms/step - loss: 0.0320 - mean_absolute_error: 0.0957 - val_loss: 0.0316 - val_mean_absolute_error: 0.0950\n",
            "Epoch 216/300\n",
            "\u001b[1m240/240\u001b[0m \u001b[32m━━━━━━━━━━━━━━━━━━━━\u001b[0m\u001b[37m\u001b[0m \u001b[1m1s\u001b[0m 3ms/step - loss: 0.0319 - mean_absolute_error: 0.0955 - val_loss: 0.0315 - val_mean_absolute_error: 0.0949\n",
            "Epoch 217/300\n",
            "\u001b[1m240/240\u001b[0m \u001b[32m━━━━━━━━━━━━━━━━━━━━\u001b[0m\u001b[37m\u001b[0m \u001b[1m1s\u001b[0m 3ms/step - loss: 0.0319 - mean_absolute_error: 0.0954 - val_loss: 0.0314 - val_mean_absolute_error: 0.0948\n",
            "Epoch 218/300\n",
            "\u001b[1m240/240\u001b[0m \u001b[32m━━━━━━━━━━━━━━━━━━━━\u001b[0m\u001b[37m\u001b[0m \u001b[1m1s\u001b[0m 3ms/step - loss: 0.0320 - mean_absolute_error: 0.0955 - val_loss: 0.0314 - val_mean_absolute_error: 0.0947\n",
            "Epoch 219/300\n",
            "\u001b[1m240/240\u001b[0m \u001b[32m━━━━━━━━━━━━━━━━━━━━\u001b[0m\u001b[37m\u001b[0m \u001b[1m1s\u001b[0m 2ms/step - loss: 0.0319 - mean_absolute_error: 0.0955 - val_loss: 0.0313 - val_mean_absolute_error: 0.0946\n",
            "Epoch 220/300\n",
            "\u001b[1m240/240\u001b[0m \u001b[32m━━━━━━━━━━━━━━━━━━━━\u001b[0m\u001b[37m\u001b[0m \u001b[1m1s\u001b[0m 3ms/step - loss: 0.0320 - mean_absolute_error: 0.0957 - val_loss: 0.0313 - val_mean_absolute_error: 0.0945\n",
            "Epoch 221/300\n",
            "\u001b[1m240/240\u001b[0m \u001b[32m━━━━━━━━━━━━━━━━━━━━\u001b[0m\u001b[37m\u001b[0m \u001b[1m1s\u001b[0m 2ms/step - loss: 0.0319 - mean_absolute_error: 0.0953 - val_loss: 0.0312 - val_mean_absolute_error: 0.0944\n",
            "Epoch 222/300\n",
            "\u001b[1m240/240\u001b[0m \u001b[32m━━━━━━━━━━━━━━━━━━━━\u001b[0m\u001b[37m\u001b[0m \u001b[1m1s\u001b[0m 3ms/step - loss: 0.0317 - mean_absolute_error: 0.0951 - val_loss: 0.0312 - val_mean_absolute_error: 0.0944\n",
            "Epoch 223/300\n",
            "\u001b[1m240/240\u001b[0m \u001b[32m━━━━━━━━━━━━━━━━━━━━\u001b[0m\u001b[37m\u001b[0m \u001b[1m1s\u001b[0m 3ms/step - loss: 0.0315 - mean_absolute_error: 0.0949 - val_loss: 0.0312 - val_mean_absolute_error: 0.0943\n",
            "Epoch 224/300\n",
            "\u001b[1m240/240\u001b[0m \u001b[32m━━━━━━━━━━━━━━━━━━━━\u001b[0m\u001b[37m\u001b[0m \u001b[1m1s\u001b[0m 3ms/step - loss: 0.0315 - mean_absolute_error: 0.0948 - val_loss: 0.0311 - val_mean_absolute_error: 0.0942\n",
            "Epoch 225/300\n",
            "\u001b[1m240/240\u001b[0m \u001b[32m━━━━━━━━━━━━━━━━━━━━\u001b[0m\u001b[37m\u001b[0m \u001b[1m1s\u001b[0m 3ms/step - loss: 0.0314 - mean_absolute_error: 0.0948 - val_loss: 0.0310 - val_mean_absolute_error: 0.0941\n",
            "Epoch 226/300\n",
            "\u001b[1m240/240\u001b[0m \u001b[32m━━━━━━━━━━━━━━━━━━━━\u001b[0m\u001b[37m\u001b[0m \u001b[1m1s\u001b[0m 2ms/step - loss: 0.0315 - mean_absolute_error: 0.0948 - val_loss: 0.0310 - val_mean_absolute_error: 0.0940\n",
            "Epoch 227/300\n",
            "\u001b[1m240/240\u001b[0m \u001b[32m━━━━━━━━━━━━━━━━━━━━\u001b[0m\u001b[37m\u001b[0m \u001b[1m1s\u001b[0m 3ms/step - loss: 0.0315 - mean_absolute_error: 0.0947 - val_loss: 0.0310 - val_mean_absolute_error: 0.0939\n",
            "Epoch 228/300\n",
            "\u001b[1m240/240\u001b[0m \u001b[32m━━━━━━━━━━━━━━━━━━━━\u001b[0m\u001b[37m\u001b[0m \u001b[1m1s\u001b[0m 4ms/step - loss: 0.0315 - mean_absolute_error: 0.0947 - val_loss: 0.0309 - val_mean_absolute_error: 0.0939\n",
            "Epoch 229/300\n",
            "\u001b[1m240/240\u001b[0m \u001b[32m━━━━━━━━━━━━━━━━━━━━\u001b[0m\u001b[37m\u001b[0m \u001b[1m1s\u001b[0m 4ms/step - loss: 0.0313 - mean_absolute_error: 0.0945 - val_loss: 0.0309 - val_mean_absolute_error: 0.0938\n",
            "Epoch 230/300\n",
            "\u001b[1m240/240\u001b[0m \u001b[32m━━━━━━━━━━━━━━━━━━━━\u001b[0m\u001b[37m\u001b[0m \u001b[1m1s\u001b[0m 3ms/step - loss: 0.0311 - mean_absolute_error: 0.0941 - val_loss: 0.0308 - val_mean_absolute_error: 0.0937\n",
            "Epoch 231/300\n",
            "\u001b[1m240/240\u001b[0m \u001b[32m━━━━━━━━━━━━━━━━━━━━\u001b[0m\u001b[37m\u001b[0m \u001b[1m1s\u001b[0m 2ms/step - loss: 0.0313 - mean_absolute_error: 0.0944 - val_loss: 0.0308 - val_mean_absolute_error: 0.0936\n",
            "Epoch 232/300\n",
            "\u001b[1m240/240\u001b[0m \u001b[32m━━━━━━━━━━━━━━━━━━━━\u001b[0m\u001b[37m\u001b[0m \u001b[1m1s\u001b[0m 3ms/step - loss: 0.0312 - mean_absolute_error: 0.0941 - val_loss: 0.0307 - val_mean_absolute_error: 0.0935\n",
            "Epoch 233/300\n",
            "\u001b[1m240/240\u001b[0m \u001b[32m━━━━━━━━━━━━━━━━━━━━\u001b[0m\u001b[37m\u001b[0m \u001b[1m1s\u001b[0m 3ms/step - loss: 0.0311 - mean_absolute_error: 0.0940 - val_loss: 0.0307 - val_mean_absolute_error: 0.0935\n",
            "Epoch 234/300\n",
            "\u001b[1m240/240\u001b[0m \u001b[32m━━━━━━━━━━━━━━━━━━━━\u001b[0m\u001b[37m\u001b[0m \u001b[1m1s\u001b[0m 3ms/step - loss: 0.0312 - mean_absolute_error: 0.0942 - val_loss: 0.0306 - val_mean_absolute_error: 0.0933\n",
            "Epoch 235/300\n",
            "\u001b[1m240/240\u001b[0m \u001b[32m━━━━━━━━━━━━━━━━━━━━\u001b[0m\u001b[37m\u001b[0m \u001b[1m1s\u001b[0m 3ms/step - loss: 0.0312 - mean_absolute_error: 0.0941 - val_loss: 0.0306 - val_mean_absolute_error: 0.0933\n",
            "Epoch 236/300\n",
            "\u001b[1m240/240\u001b[0m \u001b[32m━━━━━━━━━━━━━━━━━━━━\u001b[0m\u001b[37m\u001b[0m \u001b[1m1s\u001b[0m 2ms/step - loss: 0.0311 - mean_absolute_error: 0.0941 - val_loss: 0.0305 - val_mean_absolute_error: 0.0932\n",
            "Epoch 237/300\n",
            "\u001b[1m240/240\u001b[0m \u001b[32m━━━━━━━━━━━━━━━━━━━━\u001b[0m\u001b[37m\u001b[0m \u001b[1m1s\u001b[0m 3ms/step - loss: 0.0310 - mean_absolute_error: 0.0939 - val_loss: 0.0305 - val_mean_absolute_error: 0.0931\n",
            "Epoch 238/300\n",
            "\u001b[1m240/240\u001b[0m \u001b[32m━━━━━━━━━━━━━━━━━━━━\u001b[0m\u001b[37m\u001b[0m \u001b[1m1s\u001b[0m 3ms/step - loss: 0.0307 - mean_absolute_error: 0.0935 - val_loss: 0.0304 - val_mean_absolute_error: 0.0931\n",
            "Epoch 239/300\n",
            "\u001b[1m240/240\u001b[0m \u001b[32m━━━━━━━━━━━━━━━━━━━━\u001b[0m\u001b[37m\u001b[0m \u001b[1m1s\u001b[0m 2ms/step - loss: 0.0310 - mean_absolute_error: 0.0939 - val_loss: 0.0304 - val_mean_absolute_error: 0.0930\n",
            "Epoch 240/300\n",
            "\u001b[1m240/240\u001b[0m \u001b[32m━━━━━━━━━━━━━━━━━━━━\u001b[0m\u001b[37m\u001b[0m \u001b[1m1s\u001b[0m 3ms/step - loss: 0.0308 - mean_absolute_error: 0.0936 - val_loss: 0.0304 - val_mean_absolute_error: 0.0929\n",
            "Epoch 241/300\n",
            "\u001b[1m240/240\u001b[0m \u001b[32m━━━━━━━━━━━━━━━━━━━━\u001b[0m\u001b[37m\u001b[0m \u001b[1m1s\u001b[0m 2ms/step - loss: 0.0309 - mean_absolute_error: 0.0937 - val_loss: 0.0303 - val_mean_absolute_error: 0.0929\n",
            "Epoch 242/300\n",
            "\u001b[1m240/240\u001b[0m \u001b[32m━━━━━━━━━━━━━━━━━━━━\u001b[0m\u001b[37m\u001b[0m \u001b[1m1s\u001b[0m 3ms/step - loss: 0.0308 - mean_absolute_error: 0.0935 - val_loss: 0.0303 - val_mean_absolute_error: 0.0928\n",
            "Epoch 243/300\n",
            "\u001b[1m240/240\u001b[0m \u001b[32m━━━━━━━━━━━━━━━━━━━━\u001b[0m\u001b[37m\u001b[0m \u001b[1m1s\u001b[0m 4ms/step - loss: 0.0305 - mean_absolute_error: 0.0931 - val_loss: 0.0302 - val_mean_absolute_error: 0.0927\n",
            "Epoch 244/300\n",
            "\u001b[1m240/240\u001b[0m \u001b[32m━━━━━━━━━━━━━━━━━━━━\u001b[0m\u001b[37m\u001b[0m \u001b[1m1s\u001b[0m 4ms/step - loss: 0.0307 - mean_absolute_error: 0.0934 - val_loss: 0.0302 - val_mean_absolute_error: 0.0926\n",
            "Epoch 245/300\n",
            "\u001b[1m240/240\u001b[0m \u001b[32m━━━━━━━━━━━━━━━━━━━━\u001b[0m\u001b[37m\u001b[0m \u001b[1m1s\u001b[0m 3ms/step - loss: 0.0304 - mean_absolute_error: 0.0929 - val_loss: 0.0301 - val_mean_absolute_error: 0.0926\n",
            "Epoch 246/300\n",
            "\u001b[1m240/240\u001b[0m \u001b[32m━━━━━━━━━━━━━━━━━━━━\u001b[0m\u001b[37m\u001b[0m \u001b[1m1s\u001b[0m 3ms/step - loss: 0.0304 - mean_absolute_error: 0.0930 - val_loss: 0.0301 - val_mean_absolute_error: 0.0925\n",
            "Epoch 247/300\n",
            "\u001b[1m240/240\u001b[0m \u001b[32m━━━━━━━━━━━━━━━━━━━━\u001b[0m\u001b[37m\u001b[0m \u001b[1m1s\u001b[0m 3ms/step - loss: 0.0306 - mean_absolute_error: 0.0931 - val_loss: 0.0301 - val_mean_absolute_error: 0.0924\n",
            "Epoch 248/300\n",
            "\u001b[1m240/240\u001b[0m \u001b[32m━━━━━━━━━━━━━━━━━━━━\u001b[0m\u001b[37m\u001b[0m \u001b[1m1s\u001b[0m 3ms/step - loss: 0.0304 - mean_absolute_error: 0.0929 - val_loss: 0.0300 - val_mean_absolute_error: 0.0924\n",
            "Epoch 249/300\n",
            "\u001b[1m240/240\u001b[0m \u001b[32m━━━━━━━━━━━━━━━━━━━━\u001b[0m\u001b[37m\u001b[0m \u001b[1m1s\u001b[0m 3ms/step - loss: 0.0303 - mean_absolute_error: 0.0929 - val_loss: 0.0300 - val_mean_absolute_error: 0.0923\n",
            "Epoch 250/300\n",
            "\u001b[1m240/240\u001b[0m \u001b[32m━━━━━━━━━━━━━━━━━━━━\u001b[0m\u001b[37m\u001b[0m \u001b[1m1s\u001b[0m 2ms/step - loss: 0.0305 - mean_absolute_error: 0.0931 - val_loss: 0.0299 - val_mean_absolute_error: 0.0922\n",
            "Epoch 251/300\n",
            "\u001b[1m240/240\u001b[0m \u001b[32m━━━━━━━━━━━━━━━━━━━━\u001b[0m\u001b[37m\u001b[0m \u001b[1m1s\u001b[0m 3ms/step - loss: 0.0305 - mean_absolute_error: 0.0931 - val_loss: 0.0299 - val_mean_absolute_error: 0.0921\n",
            "Epoch 252/300\n",
            "\u001b[1m240/240\u001b[0m \u001b[32m━━━━━━━━━━━━━━━━━━━━\u001b[0m\u001b[37m\u001b[0m \u001b[1m1s\u001b[0m 3ms/step - loss: 0.0307 - mean_absolute_error: 0.0934 - val_loss: 0.0299 - val_mean_absolute_error: 0.0921\n",
            "Epoch 253/300\n",
            "\u001b[1m240/240\u001b[0m \u001b[32m━━━━━━━━━━━━━━━━━━━━\u001b[0m\u001b[37m\u001b[0m \u001b[1m1s\u001b[0m 3ms/step - loss: 0.0304 - mean_absolute_error: 0.0928 - val_loss: 0.0298 - val_mean_absolute_error: 0.0920\n",
            "Epoch 254/300\n",
            "\u001b[1m240/240\u001b[0m \u001b[32m━━━━━━━━━━━━━━━━━━━━\u001b[0m\u001b[37m\u001b[0m \u001b[1m1s\u001b[0m 3ms/step - loss: 0.0302 - mean_absolute_error: 0.0926 - val_loss: 0.0298 - val_mean_absolute_error: 0.0919\n",
            "Epoch 255/300\n",
            "\u001b[1m240/240\u001b[0m \u001b[32m━━━━━━━━━━━━━━━━━━━━\u001b[0m\u001b[37m\u001b[0m \u001b[1m1s\u001b[0m 2ms/step - loss: 0.0300 - mean_absolute_error: 0.0923 - val_loss: 0.0297 - val_mean_absolute_error: 0.0918\n",
            "Epoch 256/300\n",
            "\u001b[1m240/240\u001b[0m \u001b[32m━━━━━━━━━━━━━━━━━━━━\u001b[0m\u001b[37m\u001b[0m \u001b[1m1s\u001b[0m 3ms/step - loss: 0.0301 - mean_absolute_error: 0.0924 - val_loss: 0.0297 - val_mean_absolute_error: 0.0918\n",
            "Epoch 257/300\n",
            "\u001b[1m240/240\u001b[0m \u001b[32m━━━━━━━━━━━━━━━━━━━━\u001b[0m\u001b[37m\u001b[0m \u001b[1m1s\u001b[0m 3ms/step - loss: 0.0301 - mean_absolute_error: 0.0924 - val_loss: 0.0297 - val_mean_absolute_error: 0.0918\n",
            "Epoch 258/300\n",
            "\u001b[1m240/240\u001b[0m \u001b[32m━━━━━━━━━━━━━━━━━━━━\u001b[0m\u001b[37m\u001b[0m \u001b[1m1s\u001b[0m 3ms/step - loss: 0.0300 - mean_absolute_error: 0.0923 - val_loss: 0.0296 - val_mean_absolute_error: 0.0917\n",
            "Epoch 259/300\n",
            "\u001b[1m240/240\u001b[0m \u001b[32m━━━━━━━━━━━━━━━━━━━━\u001b[0m\u001b[37m\u001b[0m \u001b[1m1s\u001b[0m 2ms/step - loss: 0.0298 - mean_absolute_error: 0.0920 - val_loss: 0.0296 - val_mean_absolute_error: 0.0917\n",
            "Epoch 260/300\n",
            "\u001b[1m240/240\u001b[0m \u001b[32m━━━━━━━━━━━━━━━━━━━━\u001b[0m\u001b[37m\u001b[0m \u001b[1m1s\u001b[0m 3ms/step - loss: 0.0300 - mean_absolute_error: 0.0921 - val_loss: 0.0296 - val_mean_absolute_error: 0.0916\n",
            "Epoch 261/300\n",
            "\u001b[1m240/240\u001b[0m \u001b[32m━━━━━━━━━━━━━━━━━━━━\u001b[0m\u001b[37m\u001b[0m \u001b[1m1s\u001b[0m 3ms/step - loss: 0.0300 - mean_absolute_error: 0.0921 - val_loss: 0.0295 - val_mean_absolute_error: 0.0914\n",
            "Epoch 262/300\n",
            "\u001b[1m240/240\u001b[0m \u001b[32m━━━━━━━━━━━━━━━━━━━━\u001b[0m\u001b[37m\u001b[0m \u001b[1m1s\u001b[0m 3ms/step - loss: 0.0300 - mean_absolute_error: 0.0923 - val_loss: 0.0295 - val_mean_absolute_error: 0.0914\n",
            "Epoch 263/300\n",
            "\u001b[1m240/240\u001b[0m \u001b[32m━━━━━━━━━━━━━━━━━━━━\u001b[0m\u001b[37m\u001b[0m \u001b[1m1s\u001b[0m 3ms/step - loss: 0.0299 - mean_absolute_error: 0.0920 - val_loss: 0.0294 - val_mean_absolute_error: 0.0914\n",
            "Epoch 264/300\n",
            "\u001b[1m240/240\u001b[0m \u001b[32m━━━━━━━━━━━━━━━━━━━━\u001b[0m\u001b[37m\u001b[0m \u001b[1m1s\u001b[0m 2ms/step - loss: 0.0300 - mean_absolute_error: 0.0922 - val_loss: 0.0294 - val_mean_absolute_error: 0.0913\n",
            "Epoch 265/300\n",
            "\u001b[1m240/240\u001b[0m \u001b[32m━━━━━━━━━━━━━━━━━━━━\u001b[0m\u001b[37m\u001b[0m \u001b[1m1s\u001b[0m 3ms/step - loss: 0.0299 - mean_absolute_error: 0.0919 - val_loss: 0.0294 - val_mean_absolute_error: 0.0913\n",
            "Epoch 266/300\n",
            "\u001b[1m240/240\u001b[0m \u001b[32m━━━━━━━━━━━━━━━━━━━━\u001b[0m\u001b[37m\u001b[0m \u001b[1m1s\u001b[0m 3ms/step - loss: 0.0297 - mean_absolute_error: 0.0918 - val_loss: 0.0293 - val_mean_absolute_error: 0.0911\n",
            "Epoch 267/300\n",
            "\u001b[1m240/240\u001b[0m \u001b[32m━━━━━━━━━━━━━━━━━━━━\u001b[0m\u001b[37m\u001b[0m \u001b[1m1s\u001b[0m 3ms/step - loss: 0.0296 - mean_absolute_error: 0.0916 - val_loss: 0.0293 - val_mean_absolute_error: 0.0911\n",
            "Epoch 268/300\n",
            "\u001b[1m240/240\u001b[0m \u001b[32m━━━━━━━━━━━━━━━━━━━━\u001b[0m\u001b[37m\u001b[0m \u001b[1m1s\u001b[0m 3ms/step - loss: 0.0299 - mean_absolute_error: 0.0919 - val_loss: 0.0293 - val_mean_absolute_error: 0.0910\n",
            "Epoch 269/300\n",
            "\u001b[1m240/240\u001b[0m \u001b[32m━━━━━━━━━━━━━━━━━━━━\u001b[0m\u001b[37m\u001b[0m \u001b[1m1s\u001b[0m 3ms/step - loss: 0.0296 - mean_absolute_error: 0.0916 - val_loss: 0.0292 - val_mean_absolute_error: 0.0910\n",
            "Epoch 270/300\n",
            "\u001b[1m240/240\u001b[0m \u001b[32m━━━━━━━━━━━━━━━━━━━━\u001b[0m\u001b[37m\u001b[0m \u001b[1m1s\u001b[0m 2ms/step - loss: 0.0296 - mean_absolute_error: 0.0916 - val_loss: 0.0292 - val_mean_absolute_error: 0.0909\n",
            "Epoch 271/300\n",
            "\u001b[1m240/240\u001b[0m \u001b[32m━━━━━━━━━━━━━━━━━━━━\u001b[0m\u001b[37m\u001b[0m \u001b[1m1s\u001b[0m 3ms/step - loss: 0.0298 - mean_absolute_error: 0.0919 - val_loss: 0.0291 - val_mean_absolute_error: 0.0908\n",
            "Epoch 272/300\n",
            "\u001b[1m240/240\u001b[0m \u001b[32m━━━━━━━━━━━━━━━━━━━━\u001b[0m\u001b[37m\u001b[0m \u001b[1m1s\u001b[0m 3ms/step - loss: 0.0295 - mean_absolute_error: 0.0914 - val_loss: 0.0291 - val_mean_absolute_error: 0.0908\n",
            "Epoch 273/300\n",
            "\u001b[1m240/240\u001b[0m \u001b[32m━━━━━━━━━━━━━━━━━━━━\u001b[0m\u001b[37m\u001b[0m \u001b[1m1s\u001b[0m 4ms/step - loss: 0.0297 - mean_absolute_error: 0.0916 - val_loss: 0.0291 - val_mean_absolute_error: 0.0907\n",
            "Epoch 274/300\n",
            "\u001b[1m240/240\u001b[0m \u001b[32m━━━━━━━━━━━━━━━━━━━━\u001b[0m\u001b[37m\u001b[0m \u001b[1m1s\u001b[0m 3ms/step - loss: 0.0296 - mean_absolute_error: 0.0916 - val_loss: 0.0290 - val_mean_absolute_error: 0.0907\n",
            "Epoch 275/300\n",
            "\u001b[1m240/240\u001b[0m \u001b[32m━━━━━━━━━━━━━━━━━━━━\u001b[0m\u001b[37m\u001b[0m \u001b[1m1s\u001b[0m 3ms/step - loss: 0.0297 - mean_absolute_error: 0.0917 - val_loss: 0.0290 - val_mean_absolute_error: 0.0906\n",
            "Epoch 276/300\n",
            "\u001b[1m240/240\u001b[0m \u001b[32m━━━━━━━━━━━━━━━━━━━━\u001b[0m\u001b[37m\u001b[0m \u001b[1m1s\u001b[0m 3ms/step - loss: 0.0296 - mean_absolute_error: 0.0915 - val_loss: 0.0290 - val_mean_absolute_error: 0.0905\n",
            "Epoch 277/300\n",
            "\u001b[1m240/240\u001b[0m \u001b[32m━━━━━━━━━━━━━━━━━━━━\u001b[0m\u001b[37m\u001b[0m \u001b[1m1s\u001b[0m 3ms/step - loss: 0.0293 - mean_absolute_error: 0.0911 - val_loss: 0.0289 - val_mean_absolute_error: 0.0905\n",
            "Epoch 278/300\n",
            "\u001b[1m240/240\u001b[0m \u001b[32m━━━━━━━━━━━━━━━━━━━━\u001b[0m\u001b[37m\u001b[0m \u001b[1m1s\u001b[0m 3ms/step - loss: 0.0293 - mean_absolute_error: 0.0911 - val_loss: 0.0289 - val_mean_absolute_error: 0.0904\n",
            "Epoch 279/300\n",
            "\u001b[1m240/240\u001b[0m \u001b[32m━━━━━━━━━━━━━━━━━━━━\u001b[0m\u001b[37m\u001b[0m \u001b[1m1s\u001b[0m 2ms/step - loss: 0.0293 - mean_absolute_error: 0.0909 - val_loss: 0.0289 - val_mean_absolute_error: 0.0904\n",
            "Epoch 280/300\n",
            "\u001b[1m240/240\u001b[0m \u001b[32m━━━━━━━━━━━━━━━━━━━━\u001b[0m\u001b[37m\u001b[0m \u001b[1m1s\u001b[0m 3ms/step - loss: 0.0294 - mean_absolute_error: 0.0912 - val_loss: 0.0288 - val_mean_absolute_error: 0.0903\n",
            "Epoch 281/300\n",
            "\u001b[1m240/240\u001b[0m \u001b[32m━━━━━━━━━━━━━━━━━━━━\u001b[0m\u001b[37m\u001b[0m \u001b[1m1s\u001b[0m 3ms/step - loss: 0.0292 - mean_absolute_error: 0.0910 - val_loss: 0.0288 - val_mean_absolute_error: 0.0903\n",
            "Epoch 282/300\n",
            "\u001b[1m240/240\u001b[0m \u001b[32m━━━━━━━━━━━━━━━━━━━━\u001b[0m\u001b[37m\u001b[0m \u001b[1m1s\u001b[0m 2ms/step - loss: 0.0292 - mean_absolute_error: 0.0909 - val_loss: 0.0288 - val_mean_absolute_error: 0.0902\n",
            "Epoch 283/300\n",
            "\u001b[1m240/240\u001b[0m \u001b[32m━━━━━━━━━━━━━━━━━━━━\u001b[0m\u001b[37m\u001b[0m \u001b[1m1s\u001b[0m 3ms/step - loss: 0.0292 - mean_absolute_error: 0.0907 - val_loss: 0.0287 - val_mean_absolute_error: 0.0901\n",
            "Epoch 284/300\n",
            "\u001b[1m240/240\u001b[0m \u001b[32m━━━━━━━━━━━━━━━━━━━━\u001b[0m\u001b[37m\u001b[0m \u001b[1m1s\u001b[0m 3ms/step - loss: 0.0292 - mean_absolute_error: 0.0908 - val_loss: 0.0287 - val_mean_absolute_error: 0.0901\n",
            "Epoch 285/300\n",
            "\u001b[1m240/240\u001b[0m \u001b[32m━━━━━━━━━━━━━━━━━━━━\u001b[0m\u001b[37m\u001b[0m \u001b[1m1s\u001b[0m 3ms/step - loss: 0.0291 - mean_absolute_error: 0.0906 - val_loss: 0.0287 - val_mean_absolute_error: 0.0900\n",
            "Epoch 286/300\n",
            "\u001b[1m240/240\u001b[0m \u001b[32m━━━━━━━━━━━━━━━━━━━━\u001b[0m\u001b[37m\u001b[0m \u001b[1m1s\u001b[0m 3ms/step - loss: 0.0290 - mean_absolute_error: 0.0906 - val_loss: 0.0286 - val_mean_absolute_error: 0.0900\n",
            "Epoch 287/300\n",
            "\u001b[1m240/240\u001b[0m \u001b[32m━━━━━━━━━━━━━━━━━━━━\u001b[0m\u001b[37m\u001b[0m \u001b[1m1s\u001b[0m 2ms/step - loss: 0.0292 - mean_absolute_error: 0.0908 - val_loss: 0.0286 - val_mean_absolute_error: 0.0899\n",
            "Epoch 288/300\n",
            "\u001b[1m240/240\u001b[0m \u001b[32m━━━━━━━━━━━━━━━━━━━━\u001b[0m\u001b[37m\u001b[0m \u001b[1m1s\u001b[0m 3ms/step - loss: 0.0289 - mean_absolute_error: 0.0904 - val_loss: 0.0286 - val_mean_absolute_error: 0.0899\n",
            "Epoch 289/300\n",
            "\u001b[1m240/240\u001b[0m \u001b[32m━━━━━━━━━━━━━━━━━━━━\u001b[0m\u001b[37m\u001b[0m \u001b[1m1s\u001b[0m 2ms/step - loss: 0.0290 - mean_absolute_error: 0.0905 - val_loss: 0.0285 - val_mean_absolute_error: 0.0898\n",
            "Epoch 290/300\n",
            "\u001b[1m240/240\u001b[0m \u001b[32m━━━━━━━━━━━━━━━━━━━━\u001b[0m\u001b[37m\u001b[0m \u001b[1m1s\u001b[0m 3ms/step - loss: 0.0289 - mean_absolute_error: 0.0905 - val_loss: 0.0285 - val_mean_absolute_error: 0.0897\n",
            "Epoch 291/300\n",
            "\u001b[1m240/240\u001b[0m \u001b[32m━━━━━━━━━━━━━━━━━━━━\u001b[0m\u001b[37m\u001b[0m \u001b[1m1s\u001b[0m 3ms/step - loss: 0.0289 - mean_absolute_error: 0.0905 - val_loss: 0.0284 - val_mean_absolute_error: 0.0897\n",
            "Epoch 292/300\n",
            "\u001b[1m240/240\u001b[0m \u001b[32m━━━━━━━━━━━━━━━━━━━━\u001b[0m\u001b[37m\u001b[0m \u001b[1m1s\u001b[0m 3ms/step - loss: 0.0289 - mean_absolute_error: 0.0904 - val_loss: 0.0284 - val_mean_absolute_error: 0.0896\n",
            "Epoch 293/300\n",
            "\u001b[1m240/240\u001b[0m \u001b[32m━━━━━━━━━━━━━━━━━━━━\u001b[0m\u001b[37m\u001b[0m \u001b[1m1s\u001b[0m 3ms/step - loss: 0.0288 - mean_absolute_error: 0.0901 - val_loss: 0.0284 - val_mean_absolute_error: 0.0896\n",
            "Epoch 294/300\n",
            "\u001b[1m240/240\u001b[0m \u001b[32m━━━━━━━━━━━━━━━━━━━━\u001b[0m\u001b[37m\u001b[0m \u001b[1m1s\u001b[0m 2ms/step - loss: 0.0287 - mean_absolute_error: 0.0901 - val_loss: 0.0283 - val_mean_absolute_error: 0.0895\n",
            "Epoch 295/300\n",
            "\u001b[1m240/240\u001b[0m \u001b[32m━━━━━━━━━━━━━━━━━━━━\u001b[0m\u001b[37m\u001b[0m \u001b[1m1s\u001b[0m 3ms/step - loss: 0.0290 - mean_absolute_error: 0.0905 - val_loss: 0.0283 - val_mean_absolute_error: 0.0894\n",
            "Epoch 296/300\n",
            "\u001b[1m240/240\u001b[0m \u001b[32m━━━━━━━━━━━━━━━━━━━━\u001b[0m\u001b[37m\u001b[0m \u001b[1m1s\u001b[0m 3ms/step - loss: 0.0287 - mean_absolute_error: 0.0900 - val_loss: 0.0283 - val_mean_absolute_error: 0.0894\n",
            "Epoch 297/300\n",
            "\u001b[1m240/240\u001b[0m \u001b[32m━━━━━━━━━━━━━━━━━━━━\u001b[0m\u001b[37m\u001b[0m \u001b[1m1s\u001b[0m 4ms/step - loss: 0.0287 - mean_absolute_error: 0.0901 - val_loss: 0.0282 - val_mean_absolute_error: 0.0893\n",
            "Epoch 298/300\n",
            "\u001b[1m240/240\u001b[0m \u001b[32m━━━━━━━━━━━━━━━━━━━━\u001b[0m\u001b[37m\u001b[0m \u001b[1m1s\u001b[0m 3ms/step - loss: 0.0287 - mean_absolute_error: 0.0900 - val_loss: 0.0282 - val_mean_absolute_error: 0.0893\n",
            "Epoch 299/300\n",
            "\u001b[1m240/240\u001b[0m \u001b[32m━━━━━━━━━━━━━━━━━━━━\u001b[0m\u001b[37m\u001b[0m \u001b[1m1s\u001b[0m 3ms/step - loss: 0.0285 - mean_absolute_error: 0.0897 - val_loss: 0.0282 - val_mean_absolute_error: 0.0893\n",
            "Epoch 300/300\n",
            "\u001b[1m240/240\u001b[0m \u001b[32m━━━━━━━━━━━━━━━━━━━━\u001b[0m\u001b[37m\u001b[0m \u001b[1m1s\u001b[0m 3ms/step - loss: 0.0286 - mean_absolute_error: 0.0900 - val_loss: 0.0281 - val_mean_absolute_error: 0.0892\n"
          ]
        },
        {
          "output_type": "execute_result",
          "data": {
            "text/plain": [
              "<keras.src.callbacks.history.History at 0x7955c3497fd0>"
            ]
          },
          "metadata": {},
          "execution_count": 119
        }
      ]
    },
    {
      "cell_type": "code",
      "source": [
        "from tensorflow.keras.callbacks import EarlyStopping\n",
        "\n",
        "model = build_cnn_model()\n",
        "model.compile(\n",
        "    optimizer='adam',\n",
        "    loss='mean_absolute_error',\n",
        "    metrics=['mean_squared_error']\n",
        ")\n",
        "\n",
        "# Add early stopping callback to prevent overtraining\n",
        "early_stopping = EarlyStopping(monitor='val_loss', patience=10, restore_best_weights=True)\n",
        "\n",
        "history = model.fit(\n",
        "    nvals, all_taus,\n",
        "    epochs=300,\n",
        "    batch_size=100,\n",
        "    validation_split=0.2,\n",
        "    callbacks=[early_stopping]\n",
        ")\n"
      ],
      "metadata": {
        "colab": {
          "base_uri": "https://localhost:8080/"
        },
        "id": "MqdDllyI4Cnq",
        "outputId": "e538912d-c613-4425-b977-9377628b3598"
      },
      "execution_count": 134,
      "outputs": [
        {
          "output_type": "stream",
          "name": "stdout",
          "text": [
            "Epoch 1/300\n"
          ]
        },
        {
          "output_type": "stream",
          "name": "stderr",
          "text": [
            "/usr/local/lib/python3.10/dist-packages/keras/src/layers/reshaping/reshape.py:39: UserWarning: Do not pass an `input_shape`/`input_dim` argument to a layer. When using Sequential models, prefer using an `Input(shape)` object as the first layer in the model instead.\n",
            "  super().__init__(**kwargs)\n"
          ]
        },
        {
          "output_type": "stream",
          "name": "stdout",
          "text": [
            "\u001b[1m240/240\u001b[0m \u001b[32m━━━━━━━━━━━━━━━━━━━━\u001b[0m\u001b[37m\u001b[0m \u001b[1m3s\u001b[0m 4ms/step - loss: 0.1162 - mean_squared_error: 0.0459 - val_loss: 0.0896 - val_mean_squared_error: 0.0308\n",
            "Epoch 2/300\n",
            "\u001b[1m240/240\u001b[0m \u001b[32m━━━━━━━━━━━━━━━━━━━━\u001b[0m\u001b[37m\u001b[0m \u001b[1m1s\u001b[0m 3ms/step - loss: 0.0861 - mean_squared_error: 0.0290 - val_loss: 0.0755 - val_mean_squared_error: 0.0239\n",
            "Epoch 3/300\n",
            "\u001b[1m240/240\u001b[0m \u001b[32m━━━━━━━━━━━━━━━━━━━━\u001b[0m\u001b[37m\u001b[0m \u001b[1m1s\u001b[0m 4ms/step - loss: 0.0738 - mean_squared_error: 0.0232 - val_loss: 0.0672 - val_mean_squared_error: 0.0200\n",
            "Epoch 4/300\n",
            "\u001b[1m240/240\u001b[0m \u001b[32m━━━━━━━━━━━━━━━━━━━━\u001b[0m\u001b[37m\u001b[0m \u001b[1m1s\u001b[0m 3ms/step - loss: 0.0662 - mean_squared_error: 0.0194 - val_loss: 0.0597 - val_mean_squared_error: 0.0161\n",
            "Epoch 5/300\n",
            "\u001b[1m240/240\u001b[0m \u001b[32m━━━━━━━━━━━━━━━━━━━━\u001b[0m\u001b[37m\u001b[0m \u001b[1m1s\u001b[0m 2ms/step - loss: 0.0594 - mean_squared_error: 0.0161 - val_loss: 0.0549 - val_mean_squared_error: 0.0138\n",
            "Epoch 6/300\n",
            "\u001b[1m240/240\u001b[0m \u001b[32m━━━━━━━━━━━━━━━━━━━━\u001b[0m\u001b[37m\u001b[0m \u001b[1m1s\u001b[0m 3ms/step - loss: 0.0548 - mean_squared_error: 0.0140 - val_loss: 0.0513 - val_mean_squared_error: 0.0122\n",
            "Epoch 7/300\n",
            "\u001b[1m240/240\u001b[0m \u001b[32m━━━━━━━━━━━━━━━━━━━━\u001b[0m\u001b[37m\u001b[0m \u001b[1m1s\u001b[0m 2ms/step - loss: 0.0507 - mean_squared_error: 0.0123 - val_loss: 0.0482 - val_mean_squared_error: 0.0112\n",
            "Epoch 8/300\n",
            "\u001b[1m240/240\u001b[0m \u001b[32m━━━━━━━━━━━━━━━━━━━━\u001b[0m\u001b[37m\u001b[0m \u001b[1m1s\u001b[0m 3ms/step - loss: 0.0475 - mean_squared_error: 0.0109 - val_loss: 0.0450 - val_mean_squared_error: 0.0099\n",
            "Epoch 9/300\n",
            "\u001b[1m240/240\u001b[0m \u001b[32m━━━━━━━━━━━━━━━━━━━━\u001b[0m\u001b[37m\u001b[0m \u001b[1m1s\u001b[0m 2ms/step - loss: 0.0442 - mean_squared_error: 0.0096 - val_loss: 0.0425 - val_mean_squared_error: 0.0092\n",
            "Epoch 10/300\n",
            "\u001b[1m240/240\u001b[0m \u001b[32m━━━━━━━━━━━━━━━━━━━━\u001b[0m\u001b[37m\u001b[0m \u001b[1m1s\u001b[0m 3ms/step - loss: 0.0424 - mean_squared_error: 0.0089 - val_loss: 0.0396 - val_mean_squared_error: 0.0080\n",
            "Epoch 11/300\n",
            "\u001b[1m240/240\u001b[0m \u001b[32m━━━━━━━━━━━━━━━━━━━━\u001b[0m\u001b[37m\u001b[0m \u001b[1m1s\u001b[0m 3ms/step - loss: 0.0395 - mean_squared_error: 0.0079 - val_loss: 0.0380 - val_mean_squared_error: 0.0074\n",
            "Epoch 12/300\n",
            "\u001b[1m240/240\u001b[0m \u001b[32m━━━━━━━━━━━━━━━━━━━━\u001b[0m\u001b[37m\u001b[0m \u001b[1m1s\u001b[0m 2ms/step - loss: 0.0376 - mean_squared_error: 0.0073 - val_loss: 0.0373 - val_mean_squared_error: 0.0071\n",
            "Epoch 13/300\n",
            "\u001b[1m240/240\u001b[0m \u001b[32m━━━━━━━━━━━━━━━━━━━━\u001b[0m\u001b[37m\u001b[0m \u001b[1m1s\u001b[0m 3ms/step - loss: 0.0364 - mean_squared_error: 0.0068 - val_loss: 0.0347 - val_mean_squared_error: 0.0063\n",
            "Epoch 14/300\n",
            "\u001b[1m240/240\u001b[0m \u001b[32m━━━━━━━━━━━━━━━━━━━━\u001b[0m\u001b[37m\u001b[0m \u001b[1m1s\u001b[0m 3ms/step - loss: 0.0346 - mean_squared_error: 0.0063 - val_loss: 0.0344 - val_mean_squared_error: 0.0062\n",
            "Epoch 15/300\n",
            "\u001b[1m240/240\u001b[0m \u001b[32m━━━━━━━━━━━━━━━━━━━━\u001b[0m\u001b[37m\u001b[0m \u001b[1m1s\u001b[0m 3ms/step - loss: 0.0331 - mean_squared_error: 0.0058 - val_loss: 0.0324 - val_mean_squared_error: 0.0056\n",
            "Epoch 16/300\n",
            "\u001b[1m240/240\u001b[0m \u001b[32m━━━━━━━━━━━━━━━━━━━━\u001b[0m\u001b[37m\u001b[0m \u001b[1m1s\u001b[0m 4ms/step - loss: 0.0317 - mean_squared_error: 0.0053 - val_loss: 0.0312 - val_mean_squared_error: 0.0052\n",
            "Epoch 17/300\n",
            "\u001b[1m240/240\u001b[0m \u001b[32m━━━━━━━━━━━━━━━━━━━━\u001b[0m\u001b[37m\u001b[0m \u001b[1m1s\u001b[0m 3ms/step - loss: 0.0307 - mean_squared_error: 0.0050 - val_loss: 0.0310 - val_mean_squared_error: 0.0050\n",
            "Epoch 18/300\n",
            "\u001b[1m240/240\u001b[0m \u001b[32m━━━━━━━━━━━━━━━━━━━━\u001b[0m\u001b[37m\u001b[0m \u001b[1m1s\u001b[0m 2ms/step - loss: 0.0291 - mean_squared_error: 0.0046 - val_loss: 0.0295 - val_mean_squared_error: 0.0047\n",
            "Epoch 19/300\n",
            "\u001b[1m240/240\u001b[0m \u001b[32m━━━━━━━━━━━━━━━━━━━━\u001b[0m\u001b[37m\u001b[0m \u001b[1m1s\u001b[0m 3ms/step - loss: 0.0288 - mean_squared_error: 0.0045 - val_loss: 0.0292 - val_mean_squared_error: 0.0045\n",
            "Epoch 20/300\n",
            "\u001b[1m240/240\u001b[0m \u001b[32m━━━━━━━━━━━━━━━━━━━━\u001b[0m\u001b[37m\u001b[0m \u001b[1m1s\u001b[0m 2ms/step - loss: 0.0275 - mean_squared_error: 0.0042 - val_loss: 0.0300 - val_mean_squared_error: 0.0047\n",
            "Epoch 21/300\n",
            "\u001b[1m240/240\u001b[0m \u001b[32m━━━━━━━━━━━━━━━━━━━━\u001b[0m\u001b[37m\u001b[0m \u001b[1m1s\u001b[0m 3ms/step - loss: 0.0271 - mean_squared_error: 0.0040 - val_loss: 0.0273 - val_mean_squared_error: 0.0041\n",
            "Epoch 22/300\n",
            "\u001b[1m240/240\u001b[0m \u001b[32m━━━━━━━━━━━━━━━━━━━━\u001b[0m\u001b[37m\u001b[0m \u001b[1m1s\u001b[0m 3ms/step - loss: 0.0260 - mean_squared_error: 0.0037 - val_loss: 0.0269 - val_mean_squared_error: 0.0039\n",
            "Epoch 23/300\n",
            "\u001b[1m240/240\u001b[0m \u001b[32m━━━━━━━━━━━━━━━━━━━━\u001b[0m\u001b[37m\u001b[0m \u001b[1m1s\u001b[0m 3ms/step - loss: 0.0255 - mean_squared_error: 0.0036 - val_loss: 0.0265 - val_mean_squared_error: 0.0038\n",
            "Epoch 24/300\n",
            "\u001b[1m240/240\u001b[0m \u001b[32m━━━━━━━━━━━━━━━━━━━━\u001b[0m\u001b[37m\u001b[0m \u001b[1m1s\u001b[0m 3ms/step - loss: 0.0248 - mean_squared_error: 0.0034 - val_loss: 0.0261 - val_mean_squared_error: 0.0038\n",
            "Epoch 25/300\n",
            "\u001b[1m240/240\u001b[0m \u001b[32m━━━━━━━━━━━━━━━━━━━━\u001b[0m\u001b[37m\u001b[0m \u001b[1m1s\u001b[0m 3ms/step - loss: 0.0243 - mean_squared_error: 0.0033 - val_loss: 0.0262 - val_mean_squared_error: 0.0037\n",
            "Epoch 26/300\n",
            "\u001b[1m240/240\u001b[0m \u001b[32m━━━━━━━━━━━━━━━━━━━━\u001b[0m\u001b[37m\u001b[0m \u001b[1m1s\u001b[0m 3ms/step - loss: 0.0240 - mean_squared_error: 0.0032 - val_loss: 0.0257 - val_mean_squared_error: 0.0037\n",
            "Epoch 27/300\n",
            "\u001b[1m240/240\u001b[0m \u001b[32m━━━━━━━━━━━━━━━━━━━━\u001b[0m\u001b[37m\u001b[0m \u001b[1m1s\u001b[0m 2ms/step - loss: 0.0233 - mean_squared_error: 0.0030 - val_loss: 0.0248 - val_mean_squared_error: 0.0034\n",
            "Epoch 28/300\n",
            "\u001b[1m240/240\u001b[0m \u001b[32m━━━━━━━━━━━━━━━━━━━━\u001b[0m\u001b[37m\u001b[0m \u001b[1m1s\u001b[0m 3ms/step - loss: 0.0228 - mean_squared_error: 0.0030 - val_loss: 0.0248 - val_mean_squared_error: 0.0035\n",
            "Epoch 29/300\n",
            "\u001b[1m240/240\u001b[0m \u001b[32m━━━━━━━━━━━━━━━━━━━━\u001b[0m\u001b[37m\u001b[0m \u001b[1m1s\u001b[0m 4ms/step - loss: 0.0224 - mean_squared_error: 0.0028 - val_loss: 0.0239 - val_mean_squared_error: 0.0032\n",
            "Epoch 30/300\n",
            "\u001b[1m240/240\u001b[0m \u001b[32m━━━━━━━━━━━━━━━━━━━━\u001b[0m\u001b[37m\u001b[0m \u001b[1m1s\u001b[0m 3ms/step - loss: 0.0220 - mean_squared_error: 0.0028 - val_loss: 0.0246 - val_mean_squared_error: 0.0033\n",
            "Epoch 31/300\n",
            "\u001b[1m240/240\u001b[0m \u001b[32m━━━━━━━━━━━━━━━━━━━━\u001b[0m\u001b[37m\u001b[0m \u001b[1m1s\u001b[0m 2ms/step - loss: 0.0216 - mean_squared_error: 0.0026 - val_loss: 0.0237 - val_mean_squared_error: 0.0031\n",
            "Epoch 32/300\n",
            "\u001b[1m240/240\u001b[0m \u001b[32m━━━━━━━━━━━━━━━━━━━━\u001b[0m\u001b[37m\u001b[0m \u001b[1m1s\u001b[0m 3ms/step - loss: 0.0210 - mean_squared_error: 0.0025 - val_loss: 0.0230 - val_mean_squared_error: 0.0030\n",
            "Epoch 33/300\n",
            "\u001b[1m240/240\u001b[0m \u001b[32m━━━━━━━━━━━━━━━━━━━━\u001b[0m\u001b[37m\u001b[0m \u001b[1m1s\u001b[0m 3ms/step - loss: 0.0210 - mean_squared_error: 0.0025 - val_loss: 0.0228 - val_mean_squared_error: 0.0029\n",
            "Epoch 34/300\n",
            "\u001b[1m240/240\u001b[0m \u001b[32m━━━━━━━━━━━━━━━━━━━━\u001b[0m\u001b[37m\u001b[0m \u001b[1m1s\u001b[0m 3ms/step - loss: 0.0203 - mean_squared_error: 0.0023 - val_loss: 0.0222 - val_mean_squared_error: 0.0028\n",
            "Epoch 35/300\n",
            "\u001b[1m240/240\u001b[0m \u001b[32m━━━━━━━━━━━━━━━━━━━━\u001b[0m\u001b[37m\u001b[0m \u001b[1m1s\u001b[0m 3ms/step - loss: 0.0200 - mean_squared_error: 0.0023 - val_loss: 0.0225 - val_mean_squared_error: 0.0028\n",
            "Epoch 36/300\n",
            "\u001b[1m240/240\u001b[0m \u001b[32m━━━━━━━━━━━━━━━━━━━━\u001b[0m\u001b[37m\u001b[0m \u001b[1m1s\u001b[0m 2ms/step - loss: 0.0201 - mean_squared_error: 0.0023 - val_loss: 0.0217 - val_mean_squared_error: 0.0027\n",
            "Epoch 37/300\n",
            "\u001b[1m240/240\u001b[0m \u001b[32m━━━━━━━━━━━━━━━━━━━━\u001b[0m\u001b[37m\u001b[0m \u001b[1m1s\u001b[0m 3ms/step - loss: 0.0197 - mean_squared_error: 0.0022 - val_loss: 0.0217 - val_mean_squared_error: 0.0027\n",
            "Epoch 38/300\n",
            "\u001b[1m240/240\u001b[0m \u001b[32m━━━━━━━━━━━━━━━━━━━━\u001b[0m\u001b[37m\u001b[0m \u001b[1m1s\u001b[0m 3ms/step - loss: 0.0191 - mean_squared_error: 0.0021 - val_loss: 0.0220 - val_mean_squared_error: 0.0027\n",
            "Epoch 39/300\n",
            "\u001b[1m240/240\u001b[0m \u001b[32m━━━━━━━━━━━━━━━━━━━━\u001b[0m\u001b[37m\u001b[0m \u001b[1m1s\u001b[0m 2ms/step - loss: 0.0189 - mean_squared_error: 0.0021 - val_loss: 0.0211 - val_mean_squared_error: 0.0025\n",
            "Epoch 40/300\n",
            "\u001b[1m240/240\u001b[0m \u001b[32m━━━━━━━━━━━━━━━━━━━━\u001b[0m\u001b[37m\u001b[0m \u001b[1m1s\u001b[0m 3ms/step - loss: 0.0190 - mean_squared_error: 0.0021 - val_loss: 0.0210 - val_mean_squared_error: 0.0025\n",
            "Epoch 41/300\n",
            "\u001b[1m240/240\u001b[0m \u001b[32m━━━━━━━━━━━━━━━━━━━━\u001b[0m\u001b[37m\u001b[0m \u001b[1m1s\u001b[0m 3ms/step - loss: 0.0186 - mean_squared_error: 0.0020 - val_loss: 0.0210 - val_mean_squared_error: 0.0025\n",
            "Epoch 42/300\n",
            "\u001b[1m240/240\u001b[0m \u001b[32m━━━━━━━━━━━━━━━━━━━━\u001b[0m\u001b[37m\u001b[0m \u001b[1m1s\u001b[0m 3ms/step - loss: 0.0182 - mean_squared_error: 0.0019 - val_loss: 0.0208 - val_mean_squared_error: 0.0025\n",
            "Epoch 43/300\n",
            "\u001b[1m240/240\u001b[0m \u001b[32m━━━━━━━━━━━━━━━━━━━━\u001b[0m\u001b[37m\u001b[0m \u001b[1m1s\u001b[0m 3ms/step - loss: 0.0181 - mean_squared_error: 0.0019 - val_loss: 0.0210 - val_mean_squared_error: 0.0025\n",
            "Epoch 44/300\n",
            "\u001b[1m240/240\u001b[0m \u001b[32m━━━━━━━━━━━━━━━━━━━━\u001b[0m\u001b[37m\u001b[0m \u001b[1m1s\u001b[0m 4ms/step - loss: 0.0178 - mean_squared_error: 0.0018 - val_loss: 0.0209 - val_mean_squared_error: 0.0024\n",
            "Epoch 45/300\n",
            "\u001b[1m240/240\u001b[0m \u001b[32m━━━━━━━━━━━━━━━━━━━━\u001b[0m\u001b[37m\u001b[0m \u001b[1m1s\u001b[0m 3ms/step - loss: 0.0179 - mean_squared_error: 0.0019 - val_loss: 0.0205 - val_mean_squared_error: 0.0024\n",
            "Epoch 46/300\n",
            "\u001b[1m240/240\u001b[0m \u001b[32m━━━━━━━━━━━━━━━━━━━━\u001b[0m\u001b[37m\u001b[0m \u001b[1m1s\u001b[0m 3ms/step - loss: 0.0176 - mean_squared_error: 0.0018 - val_loss: 0.0198 - val_mean_squared_error: 0.0023\n",
            "Epoch 47/300\n",
            "\u001b[1m240/240\u001b[0m \u001b[32m━━━━━━━━━━━━━━━━━━━━\u001b[0m\u001b[37m\u001b[0m \u001b[1m1s\u001b[0m 3ms/step - loss: 0.0174 - mean_squared_error: 0.0018 - val_loss: 0.0198 - val_mean_squared_error: 0.0023\n",
            "Epoch 48/300\n",
            "\u001b[1m240/240\u001b[0m \u001b[32m━━━━━━━━━━━━━━━━━━━━\u001b[0m\u001b[37m\u001b[0m \u001b[1m1s\u001b[0m 2ms/step - loss: 0.0173 - mean_squared_error: 0.0017 - val_loss: 0.0200 - val_mean_squared_error: 0.0023\n",
            "Epoch 49/300\n",
            "\u001b[1m240/240\u001b[0m \u001b[32m━━━━━━━━━━━━━━━━━━━━\u001b[0m\u001b[37m\u001b[0m \u001b[1m1s\u001b[0m 2ms/step - loss: 0.0168 - mean_squared_error: 0.0016 - val_loss: 0.0203 - val_mean_squared_error: 0.0023\n",
            "Epoch 50/300\n",
            "\u001b[1m240/240\u001b[0m \u001b[32m━━━━━━━━━━━━━━━━━━━━\u001b[0m\u001b[37m\u001b[0m \u001b[1m1s\u001b[0m 3ms/step - loss: 0.0170 - mean_squared_error: 0.0017 - val_loss: 0.0199 - val_mean_squared_error: 0.0022\n",
            "Epoch 51/300\n",
            "\u001b[1m240/240\u001b[0m \u001b[32m━━━━━━━━━━━━━━━━━━━━\u001b[0m\u001b[37m\u001b[0m \u001b[1m1s\u001b[0m 2ms/step - loss: 0.0166 - mean_squared_error: 0.0016 - val_loss: 0.0198 - val_mean_squared_error: 0.0023\n",
            "Epoch 52/300\n",
            "\u001b[1m240/240\u001b[0m \u001b[32m━━━━━━━━━━━━━━━━━━━━\u001b[0m\u001b[37m\u001b[0m \u001b[1m1s\u001b[0m 3ms/step - loss: 0.0170 - mean_squared_error: 0.0017 - val_loss: 0.0201 - val_mean_squared_error: 0.0022\n",
            "Epoch 53/300\n",
            "\u001b[1m240/240\u001b[0m \u001b[32m━━━━━━━━━━━━━━━━━━━━\u001b[0m\u001b[37m\u001b[0m \u001b[1m1s\u001b[0m 3ms/step - loss: 0.0167 - mean_squared_error: 0.0016 - val_loss: 0.0195 - val_mean_squared_error: 0.0022\n",
            "Epoch 54/300\n",
            "\u001b[1m240/240\u001b[0m \u001b[32m━━━━━━━━━━━━━━━━━━━━\u001b[0m\u001b[37m\u001b[0m \u001b[1m1s\u001b[0m 2ms/step - loss: 0.0163 - mean_squared_error: 0.0015 - val_loss: 0.0194 - val_mean_squared_error: 0.0022\n",
            "Epoch 55/300\n",
            "\u001b[1m240/240\u001b[0m \u001b[32m━━━━━━━━━━━━━━━━━━━━\u001b[0m\u001b[37m\u001b[0m \u001b[1m1s\u001b[0m 3ms/step - loss: 0.0164 - mean_squared_error: 0.0015 - val_loss: 0.0193 - val_mean_squared_error: 0.0021\n",
            "Epoch 56/300\n",
            "\u001b[1m240/240\u001b[0m \u001b[32m━━━━━━━━━━━━━━━━━━━━\u001b[0m\u001b[37m\u001b[0m \u001b[1m1s\u001b[0m 2ms/step - loss: 0.0162 - mean_squared_error: 0.0015 - val_loss: 0.0194 - val_mean_squared_error: 0.0021\n",
            "Epoch 57/300\n",
            "\u001b[1m240/240\u001b[0m \u001b[32m━━━━━━━━━━━━━━━━━━━━\u001b[0m\u001b[37m\u001b[0m \u001b[1m1s\u001b[0m 3ms/step - loss: 0.0158 - mean_squared_error: 0.0014 - val_loss: 0.0192 - val_mean_squared_error: 0.0021\n",
            "Epoch 58/300\n",
            "\u001b[1m240/240\u001b[0m \u001b[32m━━━━━━━━━━━━━━━━━━━━\u001b[0m\u001b[37m\u001b[0m \u001b[1m1s\u001b[0m 4ms/step - loss: 0.0160 - mean_squared_error: 0.0015 - val_loss: 0.0196 - val_mean_squared_error: 0.0022\n",
            "Epoch 59/300\n",
            "\u001b[1m240/240\u001b[0m \u001b[32m━━━━━━━━━━━━━━━━━━━━\u001b[0m\u001b[37m\u001b[0m \u001b[1m1s\u001b[0m 4ms/step - loss: 0.0157 - mean_squared_error: 0.0014 - val_loss: 0.0191 - val_mean_squared_error: 0.0021\n",
            "Epoch 60/300\n",
            "\u001b[1m240/240\u001b[0m \u001b[32m━━━━━━━━━━━━━━━━━━━━\u001b[0m\u001b[37m\u001b[0m \u001b[1m1s\u001b[0m 3ms/step - loss: 0.0156 - mean_squared_error: 0.0014 - val_loss: 0.0190 - val_mean_squared_error: 0.0021\n",
            "Epoch 61/300\n",
            "\u001b[1m240/240\u001b[0m \u001b[32m━━━━━━━━━━━━━━━━━━━━\u001b[0m\u001b[37m\u001b[0m \u001b[1m1s\u001b[0m 3ms/step - loss: 0.0159 - mean_squared_error: 0.0015 - val_loss: 0.0190 - val_mean_squared_error: 0.0021\n",
            "Epoch 62/300\n",
            "\u001b[1m240/240\u001b[0m \u001b[32m━━━━━━━━━━━━━━━━━━━━\u001b[0m\u001b[37m\u001b[0m \u001b[1m1s\u001b[0m 3ms/step - loss: 0.0154 - mean_squared_error: 0.0014 - val_loss: 0.0188 - val_mean_squared_error: 0.0020\n",
            "Epoch 63/300\n",
            "\u001b[1m240/240\u001b[0m \u001b[32m━━━━━━━━━━━━━━━━━━━━\u001b[0m\u001b[37m\u001b[0m \u001b[1m1s\u001b[0m 3ms/step - loss: 0.0154 - mean_squared_error: 0.0013 - val_loss: 0.0185 - val_mean_squared_error: 0.0020\n",
            "Epoch 64/300\n",
            "\u001b[1m240/240\u001b[0m \u001b[32m━━━━━━━━━━━━━━━━━━━━\u001b[0m\u001b[37m\u001b[0m \u001b[1m1s\u001b[0m 3ms/step - loss: 0.0155 - mean_squared_error: 0.0014 - val_loss: 0.0189 - val_mean_squared_error: 0.0020\n",
            "Epoch 65/300\n",
            "\u001b[1m240/240\u001b[0m \u001b[32m━━━━━━━━━━━━━━━━━━━━\u001b[0m\u001b[37m\u001b[0m \u001b[1m1s\u001b[0m 3ms/step - loss: 0.0153 - mean_squared_error: 0.0013 - val_loss: 0.0186 - val_mean_squared_error: 0.0020\n",
            "Epoch 66/300\n",
            "\u001b[1m240/240\u001b[0m \u001b[32m━━━━━━━━━━━━━━━━━━━━\u001b[0m\u001b[37m\u001b[0m \u001b[1m1s\u001b[0m 3ms/step - loss: 0.0150 - mean_squared_error: 0.0013 - val_loss: 0.0188 - val_mean_squared_error: 0.0020\n",
            "Epoch 67/300\n",
            "\u001b[1m240/240\u001b[0m \u001b[32m━━━━━━━━━━━━━━━━━━━━\u001b[0m\u001b[37m\u001b[0m \u001b[1m1s\u001b[0m 3ms/step - loss: 0.0149 - mean_squared_error: 0.0012 - val_loss: 0.0184 - val_mean_squared_error: 0.0020\n",
            "Epoch 68/300\n",
            "\u001b[1m240/240\u001b[0m \u001b[32m━━━━━━━━━━━━━━━━━━━━\u001b[0m\u001b[37m\u001b[0m \u001b[1m1s\u001b[0m 3ms/step - loss: 0.0152 - mean_squared_error: 0.0013 - val_loss: 0.0184 - val_mean_squared_error: 0.0019\n",
            "Epoch 69/300\n",
            "\u001b[1m240/240\u001b[0m \u001b[32m━━━━━━━━━━━━━━━━━━━━\u001b[0m\u001b[37m\u001b[0m \u001b[1m1s\u001b[0m 3ms/step - loss: 0.0150 - mean_squared_error: 0.0013 - val_loss: 0.0188 - val_mean_squared_error: 0.0020\n",
            "Epoch 70/300\n",
            "\u001b[1m240/240\u001b[0m \u001b[32m━━━━━━━━━━━━━━━━━━━━\u001b[0m\u001b[37m\u001b[0m \u001b[1m1s\u001b[0m 3ms/step - loss: 0.0150 - mean_squared_error: 0.0013 - val_loss: 0.0188 - val_mean_squared_error: 0.0020\n",
            "Epoch 71/300\n",
            "\u001b[1m240/240\u001b[0m \u001b[32m━━━━━━━━━━━━━━━━━━━━\u001b[0m\u001b[37m\u001b[0m \u001b[1m1s\u001b[0m 4ms/step - loss: 0.0146 - mean_squared_error: 0.0012 - val_loss: 0.0181 - val_mean_squared_error: 0.0019\n",
            "Epoch 72/300\n",
            "\u001b[1m240/240\u001b[0m \u001b[32m━━━━━━━━━━━━━━━━━━━━\u001b[0m\u001b[37m\u001b[0m \u001b[1m1s\u001b[0m 4ms/step - loss: 0.0146 - mean_squared_error: 0.0012 - val_loss: 0.0182 - val_mean_squared_error: 0.0019\n",
            "Epoch 73/300\n",
            "\u001b[1m240/240\u001b[0m \u001b[32m━━━━━━━━━━━━━━━━━━━━\u001b[0m\u001b[37m\u001b[0m \u001b[1m1s\u001b[0m 3ms/step - loss: 0.0149 - mean_squared_error: 0.0013 - val_loss: 0.0181 - val_mean_squared_error: 0.0019\n",
            "Epoch 74/300\n",
            "\u001b[1m240/240\u001b[0m \u001b[32m━━━━━━━━━━━━━━━━━━━━\u001b[0m\u001b[37m\u001b[0m \u001b[1m1s\u001b[0m 3ms/step - loss: 0.0144 - mean_squared_error: 0.0012 - val_loss: 0.0184 - val_mean_squared_error: 0.0019\n",
            "Epoch 75/300\n",
            "\u001b[1m240/240\u001b[0m \u001b[32m━━━━━━━━━━━━━━━━━━━━\u001b[0m\u001b[37m\u001b[0m \u001b[1m1s\u001b[0m 3ms/step - loss: 0.0147 - mean_squared_error: 0.0012 - val_loss: 0.0175 - val_mean_squared_error: 0.0018\n",
            "Epoch 76/300\n",
            "\u001b[1m240/240\u001b[0m \u001b[32m━━━━━━━━━━━━━━━━━━━━\u001b[0m\u001b[37m\u001b[0m \u001b[1m1s\u001b[0m 3ms/step - loss: 0.0142 - mean_squared_error: 0.0012 - val_loss: 0.0184 - val_mean_squared_error: 0.0019\n",
            "Epoch 77/300\n",
            "\u001b[1m240/240\u001b[0m \u001b[32m━━━━━━━━━━━━━━━━━━━━\u001b[0m\u001b[37m\u001b[0m \u001b[1m1s\u001b[0m 3ms/step - loss: 0.0145 - mean_squared_error: 0.0012 - val_loss: 0.0180 - val_mean_squared_error: 0.0019\n",
            "Epoch 78/300\n",
            "\u001b[1m240/240\u001b[0m \u001b[32m━━━━━━━━━━━━━━━━━━━━\u001b[0m\u001b[37m\u001b[0m \u001b[1m1s\u001b[0m 2ms/step - loss: 0.0141 - mean_squared_error: 0.0012 - val_loss: 0.0182 - val_mean_squared_error: 0.0019\n",
            "Epoch 79/300\n",
            "\u001b[1m240/240\u001b[0m \u001b[32m━━━━━━━━━━━━━━━━━━━━\u001b[0m\u001b[37m\u001b[0m \u001b[1m1s\u001b[0m 3ms/step - loss: 0.0144 - mean_squared_error: 0.0012 - val_loss: 0.0178 - val_mean_squared_error: 0.0018\n",
            "Epoch 80/300\n",
            "\u001b[1m240/240\u001b[0m \u001b[32m━━━━━━━━━━━━━━━━━━━━\u001b[0m\u001b[37m\u001b[0m \u001b[1m1s\u001b[0m 3ms/step - loss: 0.0140 - mean_squared_error: 0.0011 - val_loss: 0.0179 - val_mean_squared_error: 0.0019\n",
            "Epoch 81/300\n",
            "\u001b[1m240/240\u001b[0m \u001b[32m━━━━━━━━━━━━━━━━━━━━\u001b[0m\u001b[37m\u001b[0m \u001b[1m1s\u001b[0m 2ms/step - loss: 0.0142 - mean_squared_error: 0.0012 - val_loss: 0.0178 - val_mean_squared_error: 0.0018\n",
            "Epoch 82/300\n",
            "\u001b[1m240/240\u001b[0m \u001b[32m━━━━━━━━━━━━━━━━━━━━\u001b[0m\u001b[37m\u001b[0m \u001b[1m1s\u001b[0m 3ms/step - loss: 0.0141 - mean_squared_error: 0.0011 - val_loss: 0.0181 - val_mean_squared_error: 0.0019\n",
            "Epoch 83/300\n",
            "\u001b[1m240/240\u001b[0m \u001b[32m━━━━━━━━━━━━━━━━━━━━\u001b[0m\u001b[37m\u001b[0m \u001b[1m1s\u001b[0m 3ms/step - loss: 0.0140 - mean_squared_error: 0.0011 - val_loss: 0.0181 - val_mean_squared_error: 0.0019\n",
            "Epoch 84/300\n",
            "\u001b[1m240/240\u001b[0m \u001b[32m━━━━━━━━━━━━━━━━━━━━\u001b[0m\u001b[37m\u001b[0m \u001b[1m1s\u001b[0m 2ms/step - loss: 0.0139 - mean_squared_error: 0.0011 - val_loss: 0.0179 - val_mean_squared_error: 0.0019\n",
            "Epoch 85/300\n",
            "\u001b[1m240/240\u001b[0m \u001b[32m━━━━━━━━━━━━━━━━━━━━\u001b[0m\u001b[37m\u001b[0m \u001b[1m1s\u001b[0m 3ms/step - loss: 0.0138 - mean_squared_error: 0.0011 - val_loss: 0.0175 - val_mean_squared_error: 0.0018\n",
            "Epoch 86/300\n",
            "\u001b[1m240/240\u001b[0m \u001b[32m━━━━━━━━━━━━━━━━━━━━\u001b[0m\u001b[37m\u001b[0m \u001b[1m1s\u001b[0m 2ms/step - loss: 0.0135 - mean_squared_error: 0.0010 - val_loss: 0.0179 - val_mean_squared_error: 0.0018\n",
            "Epoch 87/300\n",
            "\u001b[1m240/240\u001b[0m \u001b[32m━━━━━━━━━━━━━━━━━━━━\u001b[0m\u001b[37m\u001b[0m \u001b[1m1s\u001b[0m 3ms/step - loss: 0.0134 - mean_squared_error: 0.0010 - val_loss: 0.0178 - val_mean_squared_error: 0.0018\n",
            "Epoch 88/300\n",
            "\u001b[1m240/240\u001b[0m \u001b[32m━━━━━━━━━━━━━━━━━━━━\u001b[0m\u001b[37m\u001b[0m \u001b[1m1s\u001b[0m 3ms/step - loss: 0.0133 - mean_squared_error: 0.0010 - val_loss: 0.0174 - val_mean_squared_error: 0.0018\n",
            "Epoch 89/300\n",
            "\u001b[1m240/240\u001b[0m \u001b[32m━━━━━━━━━━━━━━━━━━━━\u001b[0m\u001b[37m\u001b[0m \u001b[1m1s\u001b[0m 4ms/step - loss: 0.0136 - mean_squared_error: 0.0010 - val_loss: 0.0174 - val_mean_squared_error: 0.0017\n",
            "Epoch 90/300\n",
            "\u001b[1m240/240\u001b[0m \u001b[32m━━━━━━━━━━━━━━━━━━━━\u001b[0m\u001b[37m\u001b[0m \u001b[1m1s\u001b[0m 3ms/step - loss: 0.0134 - mean_squared_error: 0.0010 - val_loss: 0.0179 - val_mean_squared_error: 0.0018\n",
            "Epoch 91/300\n",
            "\u001b[1m240/240\u001b[0m \u001b[32m━━━━━━━━━━━━━━━━━━━━\u001b[0m\u001b[37m\u001b[0m \u001b[1m1s\u001b[0m 3ms/step - loss: 0.0134 - mean_squared_error: 0.0010 - val_loss: 0.0181 - val_mean_squared_error: 0.0019\n",
            "Epoch 92/300\n",
            "\u001b[1m240/240\u001b[0m \u001b[32m━━━━━━━━━━━━━━━━━━━━\u001b[0m\u001b[37m\u001b[0m \u001b[1m1s\u001b[0m 2ms/step - loss: 0.0133 - mean_squared_error: 9.8586e-04 - val_loss: 0.0170 - val_mean_squared_error: 0.0017\n",
            "Epoch 93/300\n",
            "\u001b[1m240/240\u001b[0m \u001b[32m━━━━━━━━━━━━━━━━━━━━\u001b[0m\u001b[37m\u001b[0m \u001b[1m1s\u001b[0m 3ms/step - loss: 0.0133 - mean_squared_error: 0.0010 - val_loss: 0.0172 - val_mean_squared_error: 0.0017\n",
            "Epoch 94/300\n",
            "\u001b[1m240/240\u001b[0m \u001b[32m━━━━━━━━━━━━━━━━━━━━\u001b[0m\u001b[37m\u001b[0m \u001b[1m1s\u001b[0m 3ms/step - loss: 0.0133 - mean_squared_error: 0.0010 - val_loss: 0.0173 - val_mean_squared_error: 0.0017\n",
            "Epoch 95/300\n",
            "\u001b[1m240/240\u001b[0m \u001b[32m━━━━━━━━━━━━━━━━━━━━\u001b[0m\u001b[37m\u001b[0m \u001b[1m1s\u001b[0m 3ms/step - loss: 0.0132 - mean_squared_error: 9.8630e-04 - val_loss: 0.0172 - val_mean_squared_error: 0.0017\n",
            "Epoch 96/300\n",
            "\u001b[1m240/240\u001b[0m \u001b[32m━━━━━━━━━━━━━━━━━━━━\u001b[0m\u001b[37m\u001b[0m \u001b[1m1s\u001b[0m 3ms/step - loss: 0.0131 - mean_squared_error: 9.7128e-04 - val_loss: 0.0174 - val_mean_squared_error: 0.0017\n",
            "Epoch 97/300\n",
            "\u001b[1m240/240\u001b[0m \u001b[32m━━━━━━━━━━━━━━━━━━━━\u001b[0m\u001b[37m\u001b[0m \u001b[1m1s\u001b[0m 3ms/step - loss: 0.0130 - mean_squared_error: 9.5158e-04 - val_loss: 0.0175 - val_mean_squared_error: 0.0018\n",
            "Epoch 98/300\n",
            "\u001b[1m240/240\u001b[0m \u001b[32m━━━━━━━━━━━━━━━━━━━━\u001b[0m\u001b[37m\u001b[0m \u001b[1m1s\u001b[0m 3ms/step - loss: 0.0132 - mean_squared_error: 9.7444e-04 - val_loss: 0.0175 - val_mean_squared_error: 0.0018\n",
            "Epoch 99/300\n",
            "\u001b[1m240/240\u001b[0m \u001b[32m━━━━━━━━━━━━━━━━━━━━\u001b[0m\u001b[37m\u001b[0m \u001b[1m1s\u001b[0m 3ms/step - loss: 0.0131 - mean_squared_error: 9.9192e-04 - val_loss: 0.0173 - val_mean_squared_error: 0.0017\n",
            "Epoch 100/300\n",
            "\u001b[1m240/240\u001b[0m \u001b[32m━━━━━━━━━━━━━━━━━━━━\u001b[0m\u001b[37m\u001b[0m \u001b[1m1s\u001b[0m 3ms/step - loss: 0.0132 - mean_squared_error: 9.7576e-04 - val_loss: 0.0170 - val_mean_squared_error: 0.0017\n",
            "Epoch 101/300\n",
            "\u001b[1m240/240\u001b[0m \u001b[32m━━━━━━━━━━━━━━━━━━━━\u001b[0m\u001b[37m\u001b[0m \u001b[1m1s\u001b[0m 3ms/step - loss: 0.0127 - mean_squared_error: 9.2515e-04 - val_loss: 0.0174 - val_mean_squared_error: 0.0017\n",
            "Epoch 102/300\n",
            "\u001b[1m240/240\u001b[0m \u001b[32m━━━━━━━━━━━━━━━━━━━━\u001b[0m\u001b[37m\u001b[0m \u001b[1m1s\u001b[0m 3ms/step - loss: 0.0127 - mean_squared_error: 9.2393e-04 - val_loss: 0.0170 - val_mean_squared_error: 0.0017\n",
            "Epoch 103/300\n",
            "\u001b[1m240/240\u001b[0m \u001b[32m━━━━━━━━━━━━━━━━━━━━\u001b[0m\u001b[37m\u001b[0m \u001b[1m1s\u001b[0m 3ms/step - loss: 0.0127 - mean_squared_error: 8.9420e-04 - val_loss: 0.0174 - val_mean_squared_error: 0.0018\n",
            "Epoch 104/300\n",
            "\u001b[1m240/240\u001b[0m \u001b[32m━━━━━━━━━━━━━━━━━━━━\u001b[0m\u001b[37m\u001b[0m \u001b[1m1s\u001b[0m 3ms/step - loss: 0.0127 - mean_squared_error: 9.3504e-04 - val_loss: 0.0171 - val_mean_squared_error: 0.0017\n",
            "Epoch 105/300\n",
            "\u001b[1m240/240\u001b[0m \u001b[32m━━━━━━━━━━━━━━━━━━━━\u001b[0m\u001b[37m\u001b[0m \u001b[1m1s\u001b[0m 3ms/step - loss: 0.0127 - mean_squared_error: 9.3581e-04 - val_loss: 0.0172 - val_mean_squared_error: 0.0017\n",
            "Epoch 106/300\n",
            "\u001b[1m240/240\u001b[0m \u001b[32m━━━━━━━━━━━━━━━━━━━━\u001b[0m\u001b[37m\u001b[0m \u001b[1m1s\u001b[0m 3ms/step - loss: 0.0127 - mean_squared_error: 9.1132e-04 - val_loss: 0.0173 - val_mean_squared_error: 0.0017\n",
            "Epoch 107/300\n",
            "\u001b[1m240/240\u001b[0m \u001b[32m━━━━━━━━━━━━━━━━━━━━\u001b[0m\u001b[37m\u001b[0m \u001b[1m1s\u001b[0m 3ms/step - loss: 0.0129 - mean_squared_error: 9.2971e-04 - val_loss: 0.0174 - val_mean_squared_error: 0.0017\n",
            "Epoch 108/300\n",
            "\u001b[1m240/240\u001b[0m \u001b[32m━━━━━━━━━━━━━━━━━━━━\u001b[0m\u001b[37m\u001b[0m \u001b[1m1s\u001b[0m 3ms/step - loss: 0.0126 - mean_squared_error: 9.2134e-04 - val_loss: 0.0170 - val_mean_squared_error: 0.0017\n",
            "Epoch 109/300\n",
            "\u001b[1m240/240\u001b[0m \u001b[32m━━━━━━━━━━━━━━━━━━━━\u001b[0m\u001b[37m\u001b[0m \u001b[1m1s\u001b[0m 3ms/step - loss: 0.0127 - mean_squared_error: 9.1350e-04 - val_loss: 0.0174 - val_mean_squared_error: 0.0017\n",
            "Epoch 110/300\n",
            "\u001b[1m240/240\u001b[0m \u001b[32m━━━━━━━━━━━━━━━━━━━━\u001b[0m\u001b[37m\u001b[0m \u001b[1m1s\u001b[0m 3ms/step - loss: 0.0127 - mean_squared_error: 9.0235e-04 - val_loss: 0.0168 - val_mean_squared_error: 0.0016\n",
            "Epoch 111/300\n",
            "\u001b[1m240/240\u001b[0m \u001b[32m━━━━━━━━━━━━━━━━━━━━\u001b[0m\u001b[37m\u001b[0m \u001b[1m1s\u001b[0m 3ms/step - loss: 0.0126 - mean_squared_error: 9.2543e-04 - val_loss: 0.0171 - val_mean_squared_error: 0.0017\n",
            "Epoch 112/300\n",
            "\u001b[1m240/240\u001b[0m \u001b[32m━━━━━━━━━━━━━━━━━━━━\u001b[0m\u001b[37m\u001b[0m \u001b[1m1s\u001b[0m 3ms/step - loss: 0.0125 - mean_squared_error: 8.7915e-04 - val_loss: 0.0172 - val_mean_squared_error: 0.0017\n",
            "Epoch 113/300\n",
            "\u001b[1m240/240\u001b[0m \u001b[32m━━━━━━━━━━━━━━━━━━━━\u001b[0m\u001b[37m\u001b[0m \u001b[1m1s\u001b[0m 3ms/step - loss: 0.0123 - mean_squared_error: 8.6874e-04 - val_loss: 0.0171 - val_mean_squared_error: 0.0017\n",
            "Epoch 114/300\n",
            "\u001b[1m240/240\u001b[0m \u001b[32m━━━━━━━━━━━━━━━━━━━━\u001b[0m\u001b[37m\u001b[0m \u001b[1m1s\u001b[0m 3ms/step - loss: 0.0122 - mean_squared_error: 8.4788e-04 - val_loss: 0.0176 - val_mean_squared_error: 0.0017\n",
            "Epoch 115/300\n",
            "\u001b[1m240/240\u001b[0m \u001b[32m━━━━━━━━━━━━━━━━━━━━\u001b[0m\u001b[37m\u001b[0m \u001b[1m1s\u001b[0m 3ms/step - loss: 0.0124 - mean_squared_error: 8.6752e-04 - val_loss: 0.0173 - val_mean_squared_error: 0.0017\n",
            "Epoch 116/300\n",
            "\u001b[1m240/240\u001b[0m \u001b[32m━━━━━━━━━━━━━━━━━━━━\u001b[0m\u001b[37m\u001b[0m \u001b[1m1s\u001b[0m 3ms/step - loss: 0.0123 - mean_squared_error: 8.5228e-04 - val_loss: 0.0170 - val_mean_squared_error: 0.0016\n",
            "Epoch 117/300\n",
            "\u001b[1m240/240\u001b[0m \u001b[32m━━━━━━━━━━━━━━━━━━━━\u001b[0m\u001b[37m\u001b[0m \u001b[1m1s\u001b[0m 4ms/step - loss: 0.0123 - mean_squared_error: 8.5540e-04 - val_loss: 0.0167 - val_mean_squared_error: 0.0016\n",
            "Epoch 118/300\n",
            "\u001b[1m240/240\u001b[0m \u001b[32m━━━━━━━━━━━━━━━━━━━━\u001b[0m\u001b[37m\u001b[0m \u001b[1m1s\u001b[0m 3ms/step - loss: 0.0122 - mean_squared_error: 8.5184e-04 - val_loss: 0.0171 - val_mean_squared_error: 0.0017\n",
            "Epoch 119/300\n",
            "\u001b[1m240/240\u001b[0m \u001b[32m━━━━━━━━━━━━━━━━━━━━\u001b[0m\u001b[37m\u001b[0m \u001b[1m1s\u001b[0m 3ms/step - loss: 0.0123 - mean_squared_error: 8.5572e-04 - val_loss: 0.0172 - val_mean_squared_error: 0.0017\n",
            "Epoch 120/300\n",
            "\u001b[1m240/240\u001b[0m \u001b[32m━━━━━━━━━━━━━━━━━━━━\u001b[0m\u001b[37m\u001b[0m \u001b[1m1s\u001b[0m 3ms/step - loss: 0.0121 - mean_squared_error: 8.3332e-04 - val_loss: 0.0167 - val_mean_squared_error: 0.0016\n",
            "Epoch 121/300\n",
            "\u001b[1m240/240\u001b[0m \u001b[32m━━━━━━━━━━━━━━━━━━━━\u001b[0m\u001b[37m\u001b[0m \u001b[1m1s\u001b[0m 3ms/step - loss: 0.0121 - mean_squared_error: 8.2418e-04 - val_loss: 0.0171 - val_mean_squared_error: 0.0016\n",
            "Epoch 122/300\n",
            "\u001b[1m240/240\u001b[0m \u001b[32m━━━━━━━━━━━━━━━━━━━━\u001b[0m\u001b[37m\u001b[0m \u001b[1m1s\u001b[0m 3ms/step - loss: 0.0121 - mean_squared_error: 8.1543e-04 - val_loss: 0.0165 - val_mean_squared_error: 0.0016\n",
            "Epoch 123/300\n",
            "\u001b[1m240/240\u001b[0m \u001b[32m━━━━━━━━━━━━━━━━━━━━\u001b[0m\u001b[37m\u001b[0m \u001b[1m1s\u001b[0m 3ms/step - loss: 0.0119 - mean_squared_error: 7.8168e-04 - val_loss: 0.0169 - val_mean_squared_error: 0.0017\n",
            "Epoch 124/300\n",
            "\u001b[1m240/240\u001b[0m \u001b[32m━━━━━━━━━━━━━━━━━━━━\u001b[0m\u001b[37m\u001b[0m \u001b[1m1s\u001b[0m 4ms/step - loss: 0.0121 - mean_squared_error: 8.0884e-04 - val_loss: 0.0166 - val_mean_squared_error: 0.0016\n",
            "Epoch 125/300\n",
            "\u001b[1m240/240\u001b[0m \u001b[32m━━━━━━━━━━━━━━━━━━━━\u001b[0m\u001b[37m\u001b[0m \u001b[1m1s\u001b[0m 3ms/step - loss: 0.0118 - mean_squared_error: 7.7280e-04 - val_loss: 0.0167 - val_mean_squared_error: 0.0016\n",
            "Epoch 126/300\n",
            "\u001b[1m240/240\u001b[0m \u001b[32m━━━━━━━━━━━━━━━━━━━━\u001b[0m\u001b[37m\u001b[0m \u001b[1m1s\u001b[0m 2ms/step - loss: 0.0118 - mean_squared_error: 7.7257e-04 - val_loss: 0.0166 - val_mean_squared_error: 0.0016\n",
            "Epoch 127/300\n",
            "\u001b[1m240/240\u001b[0m \u001b[32m━━━━━━━━━━━━━━━━━━━━\u001b[0m\u001b[37m\u001b[0m \u001b[1m1s\u001b[0m 3ms/step - loss: 0.0117 - mean_squared_error: 7.7536e-04 - val_loss: 0.0169 - val_mean_squared_error: 0.0016\n",
            "Epoch 128/300\n",
            "\u001b[1m240/240\u001b[0m \u001b[32m━━━━━━━━━━━━━━━━━━━━\u001b[0m\u001b[37m\u001b[0m \u001b[1m1s\u001b[0m 3ms/step - loss: 0.0117 - mean_squared_error: 7.5618e-04 - val_loss: 0.0169 - val_mean_squared_error: 0.0016\n",
            "Epoch 129/300\n",
            "\u001b[1m240/240\u001b[0m \u001b[32m━━━━━━━━━━━━━━━━━━━━\u001b[0m\u001b[37m\u001b[0m \u001b[1m1s\u001b[0m 4ms/step - loss: 0.0120 - mean_squared_error: 8.3274e-04 - val_loss: 0.0169 - val_mean_squared_error: 0.0016\n",
            "Epoch 130/300\n",
            "\u001b[1m240/240\u001b[0m \u001b[32m━━━━━━━━━━━━━━━━━━━━\u001b[0m\u001b[37m\u001b[0m \u001b[1m1s\u001b[0m 4ms/step - loss: 0.0117 - mean_squared_error: 7.4880e-04 - val_loss: 0.0167 - val_mean_squared_error: 0.0016\n",
            "Epoch 131/300\n",
            "\u001b[1m240/240\u001b[0m \u001b[32m━━━━━━━━━━━━━━━━━━━━\u001b[0m\u001b[37m\u001b[0m \u001b[1m1s\u001b[0m 3ms/step - loss: 0.0117 - mean_squared_error: 7.8519e-04 - val_loss: 0.0167 - val_mean_squared_error: 0.0016\n",
            "Epoch 132/300\n",
            "\u001b[1m240/240\u001b[0m \u001b[32m━━━━━━━━━━━━━━━━━━━━\u001b[0m\u001b[37m\u001b[0m \u001b[1m1s\u001b[0m 3ms/step - loss: 0.0116 - mean_squared_error: 7.4562e-04 - val_loss: 0.0172 - val_mean_squared_error: 0.0016\n"
          ]
        }
      ]
    },
    {
      "cell_type": "code",
      "source": [
        "# Generate rho matrices\n",
        "no_test = 1\n",
        "\n",
        "test_rhos = np.zeros((no_test,dimension,dimension),dtype=complex)\n",
        "eta = 1e-7\n",
        "\n",
        "for i in range(no_test):\n",
        "    random_unitary = unitary_group.rvs(dimension)\n",
        "    coeffs = random_unitary[:,0]\n",
        "    rho = np.outer(coeffs,coeffs.conj())\n",
        "    test_rhos[i] = (1-eta)*rho + (eta/4)*np.eye(dimension)\n",
        "\n",
        "cholesky_decompositions_t = np.array([np.linalg.cholesky(rho) for rho in test_rhos])\n",
        "\n",
        "tau_size = dimension**2\n",
        "test_taus = np.zeros((no_test, tau_size))\n",
        "\n",
        "for no in range(no_test):\n",
        "    cholesky = cholesky_decompositions_t[no]\n",
        "    extracted_values = np.zeros(tau_size)\n",
        "\n",
        "    for i in range(cholesky.shape[0]):\n",
        "        extracted_values[i] = cholesky[i, i].real\n",
        "\n",
        "    index = cholesky.shape[0]\n",
        "    for i, j in ind:\n",
        "        extracted_values[index] = cholesky[i, j].real\n",
        "        extracted_values[index + 1] = cholesky[i, j].imag\n",
        "        index += 2\n",
        "\n",
        "    test_taus[no] = extracted_values\n",
        "\n",
        "nvals_t = np.zeros((no_test,6**2))\n",
        "\n",
        "for i1,rho in enumerate(test_rhos):\n",
        "  for index,proj in enumerate(pauli_2d):\n",
        "      nvals_t[i1,index] = np.trace(rho@proj)\n",
        "\n",
        "shift_t = np.abs(np.min(test_taus)) + 1  # Shift so all values are positive\n",
        "taus_t_shifted = test_taus + 2\n",
        "taus_t_shifted_log = np.log(taus_t_shifted)"
      ],
      "metadata": {
        "colab": {
          "base_uri": "https://localhost:8080/"
        },
        "id": "FLkLEuswMxjC",
        "outputId": "27f6fd9b-80b5-4524-9099-a7833deabf77"
      },
      "execution_count": 150,
      "outputs": [
        {
          "output_type": "stream",
          "name": "stderr",
          "text": [
            "<ipython-input-150-230aa0df8e96>:37: ComplexWarning: Casting complex values to real discards the imaginary part\n",
            "  nvals_t[i1,index] = np.trace(rho@proj)\n"
          ]
        }
      ]
    },
    {
      "cell_type": "code",
      "source": [
        "print(np.min(nvals))\n",
        "print(np.max(nvals))"
      ],
      "metadata": {
        "colab": {
          "base_uri": "https://localhost:8080/"
        },
        "id": "pB3-yvoE8LS5",
        "outputId": "a38c9180-65c3-408a-877f-9c9d7488d35a"
      },
      "execution_count": 149,
      "outputs": [
        {
          "output_type": "stream",
          "name": "stdout",
          "text": [
            "0.0\n",
            "1.0\n"
          ]
        }
      ]
    },
    {
      "cell_type": "code",
      "source": [
        "tau_nn = model.predict(nvals_t)"
      ],
      "metadata": {
        "colab": {
          "base_uri": "https://localhost:8080/"
        },
        "id": "-IRq9AXqLmi5",
        "outputId": "c13de403-19fd-4a76-f5e6-3cf29e8694da"
      },
      "execution_count": 151,
      "outputs": [
        {
          "output_type": "stream",
          "name": "stdout",
          "text": [
            "\u001b[1m1/1\u001b[0m \u001b[32m━━━━━━━━━━━━━━━━━━━━\u001b[0m\u001b[37m\u001b[0m \u001b[1m0s\u001b[0m 16ms/step\n"
          ]
        }
      ]
    },
    {
      "cell_type": "code",
      "source": [
        "for i in range(len(tau_nn[0])):\n",
        "    print(tau_nn[0,i],test_taus[0,i])"
      ],
      "metadata": {
        "colab": {
          "base_uri": "https://localhost:8080/"
        },
        "id": "WsJDtzLY5jeV",
        "outputId": "bc909d16-fa83-42ff-988f-566dc8cee8a7"
      },
      "execution_count": 152,
      "outputs": [
        {
          "output_type": "stream",
          "name": "stdout",
          "text": [
            "0.5371624 0.5257821498076084\n",
            "0.0007096551 0.00016558421698149864\n",
            "0.00016883017 0.000249638919107115\n",
            "-0.0007570129 0.00018187496672064188\n",
            "0.041995242 0.06895731200428411\n",
            "-0.16272397 -0.14827102759802435\n",
            "1.6191218e-05 -5.054292815108513e-05\n",
            "0.0004988355 -3.2483250377041935e-05\n",
            "-1.0312226e-05 8.596593542801998e-05\n",
            "-0.0002111858 -6.833238988607688e-05\n",
            "-0.57886195 -0.5684628810028554\n",
            "0.38354665 0.35977967842484815\n",
            "-0.0012810384 -4.391223745567451e-05\n",
            "0.00030996412 4.423353698029809e-06\n",
            "-0.15800397 -0.16243991687706466\n",
            "0.47313604 0.466728391386248\n"
          ]
        }
      ]
    },
    {
      "cell_type": "code",
      "source": [
        "mse = 0\n",
        "for i in range(len(test_taus[0])):\n",
        "    mse += (test_taus[0,i]-tau_nn[0,i])**2\n",
        "\n",
        "print(mse)"
      ],
      "metadata": {
        "colab": {
          "base_uri": "https://localhost:8080/"
        },
        "id": "Vc0Uc1ApOIa-",
        "outputId": "d3d6c69c-7336-4288-f1fc-3c97d7575872"
      },
      "execution_count": 153,
      "outputs": [
        {
          "output_type": "stream",
          "name": "stdout",
          "text": [
            "0.0018022209660357729\n"
          ]
        }
      ]
    },
    {
      "cell_type": "code",
      "source": [
        "test_cho = reconstruct_matrix(test_taus[0])"
      ],
      "metadata": {
        "id": "4eFAkHd2K19U"
      },
      "execution_count": 145,
      "outputs": []
    },
    {
      "cell_type": "code",
      "source": [
        "test_rho = test_cho@test_cho.conj().T"
      ],
      "metadata": {
        "id": "xZ67IMsPMbdd"
      },
      "execution_count": 146,
      "outputs": []
    },
    {
      "cell_type": "code",
      "source": [
        "test_rho"
      ],
      "metadata": {
        "colab": {
          "base_uri": "https://localhost:8080/"
        },
        "id": "_asBkUNKO8iX",
        "outputId": "b5eda64a-9160-4a45-d78e-cfa85374dea9"
      },
      "execution_count": 147,
      "outputs": [
        {
          "output_type": "execute_result",
          "data": {
            "text/plain": [
              "array([[ 0.2783737 +0.j        ,  0.03995763-0.03589901j,\n",
              "        -0.26144822-0.26876138j,  0.2199188 -0.09510134j],\n",
              "       [ 0.03995763+0.03589901j,  0.01036503+0.j        ,\n",
              "        -0.00286875-0.07229418j,  0.04383128+0.01470988j],\n",
              "       [-0.26144822+0.26876138j, -0.00286875+0.07229418j,\n",
              "         0.5050328 +0.j        , -0.11472999+0.30164399j],\n",
              "       [ 0.2199188 +0.09510134j,  0.04383128-0.01470988j,\n",
              "        -0.11472999-0.30164399j,  0.20622832+0.j        ]])"
            ]
          },
          "metadata": {},
          "execution_count": 147
        }
      ]
    },
    {
      "cell_type": "code",
      "source": [
        "test_rhos[0]"
      ],
      "metadata": {
        "colab": {
          "base_uri": "https://localhost:8080/"
        },
        "id": "aI0SyIvWO9n7",
        "outputId": "423212b7-659d-4050-fac5-1b7fbc2aaef5"
      },
      "execution_count": 148,
      "outputs": [
        {
          "output_type": "execute_result",
          "data": {
            "text/plain": [
              "array([[ 0.27837374-6.91284099e-18j,  0.03995763-3.58990095e-02j,\n",
              "        -0.26144823-2.68761391e-01j,  0.21991881-9.51013421e-02j],\n",
              "       [ 0.03995763+3.58990095e-02j,  0.01036505+2.05126953e-19j,\n",
              "        -0.00286875-7.22941833e-02j,  0.04383129+1.47098776e-02j],\n",
              "       [-0.26144823+2.68761391e-01j, -0.00286875+7.22941833e-02j,\n",
              "         0.50503285+8.94248169e-18j, -0.11472999+3.01644006e-01j],\n",
              "       [ 0.21991881+9.51013421e-02j,  0.04383129-1.47098776e-02j,\n",
              "        -0.11472999-3.01644006e-01j,  0.20622836+4.08533396e-20j]])"
            ]
          },
          "metadata": {},
          "execution_count": 148
        }
      ]
    },
    {
      "cell_type": "code",
      "source": [
        "rho_nn = reconstruct_matrix(tau_nn[0])"
      ],
      "metadata": {
        "id": "sxjgm_6rLsoS"
      },
      "execution_count": 155,
      "outputs": []
    },
    {
      "cell_type": "code",
      "source": [
        "rho_nn"
      ],
      "metadata": {
        "colab": {
          "base_uri": "https://localhost:8080/"
        },
        "id": "FKpBBnWe-chi",
        "outputId": "889b3c3a-d185-4f88-f592-4d16b0d66250"
      },
      "execution_count": 158,
      "outputs": [
        {
          "output_type": "execute_result",
          "data": {
            "text/plain": [
              "array([[ 0.27537991+0.j        ,  0.02152914+0.08342153j,\n",
              "        -0.29675745-0.19662776j, -0.08100179-0.24255635j],\n",
              "       [ 0.02152914-0.08342153j,  0.02695472+0.j        ,\n",
              "        -0.08276537+0.07452483j, -0.07981178+0.00557486j],\n",
              "       [-0.29675745+0.19662776j, -0.08276537-0.07452483j,\n",
              "         0.46019164+0.j        ,  0.26048099+0.20354805j],\n",
              "       [-0.08100179+0.24255635j, -0.07981178-0.00557486j,\n",
              "         0.26048099-0.20354805j,  0.23747373+0.j        ]])"
            ]
          },
          "metadata": {},
          "execution_count": 158
        }
      ]
    },
    {
      "cell_type": "code",
      "source": [
        "test_rhos[0]"
      ],
      "metadata": {
        "colab": {
          "base_uri": "https://localhost:8080/"
        },
        "id": "6O22NLNo-emh",
        "outputId": "fdb87bde-2973-42b6-9f63-7f5eb934266a"
      },
      "execution_count": 159,
      "outputs": [
        {
          "output_type": "execute_result",
          "data": {
            "text/plain": [
              "array([[ 0.27644687+6.04728294e-18j,  0.03625652+7.79582596e-02j,\n",
              "        -0.29888764-1.89165733e-01j, -0.08540801-2.45397457e-01j],\n",
              "       [ 0.03625652-7.79582596e-02j,  0.02673944-3.84512384e-19j,\n",
              "        -0.09254458+5.94771414e-02j, -0.08040373-8.09920264e-03j],\n",
              "       [-0.29888764+1.89165733e-01j, -0.09254458-5.94771414e-02j,\n",
              "         0.45259153+2.07558995e-19j,  0.26026048+2.06875204e-01j],\n",
              "       [-0.08540801+2.45397457e-01j, -0.08040373+8.09920264e-03j,\n",
              "         0.26026048-2.06875204e-01j,  0.24422217+8.01907437e-19j]])"
            ]
          },
          "metadata": {},
          "execution_count": 159
        }
      ]
    },
    {
      "cell_type": "code",
      "source": [
        "from scipy.linalg import sqrtm"
      ],
      "metadata": {
        "id": "9QxMyTvbM5d5"
      },
      "execution_count": 156,
      "outputs": []
    },
    {
      "cell_type": "code",
      "source": [
        "def fidelity(rho_t, rho_nn):\n",
        "    sqrt_nn = sqrtm(rho_nn)\n",
        "    matrix = sqrt_nn@rho_t@sqrt_nn\n",
        "    tr = np.trace(sqrtm(matrix))\n",
        "    return np.abs(tr)**2"
      ],
      "metadata": {
        "id": "PCzrrPj1NHcx"
      },
      "execution_count": 160,
      "outputs": []
    },
    {
      "cell_type": "code",
      "source": [
        "fidelity(test_rhos[0], rho_nn)"
      ],
      "metadata": {
        "colab": {
          "base_uri": "https://localhost:8080/"
        },
        "id": "d3oOMPcvN3Cw",
        "outputId": "b18b3b74-d794-41b0-a8b2-bf8eebac147c"
      },
      "execution_count": 161,
      "outputs": [
        {
          "output_type": "execute_result",
          "data": {
            "text/plain": [
              "0.99948127099706151087"
            ]
          },
          "metadata": {},
          "execution_count": 161
        }
      ]
    }
  ]
}