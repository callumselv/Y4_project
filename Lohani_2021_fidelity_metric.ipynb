{
  "nbformat": 4,
  "nbformat_minor": 0,
  "metadata": {
    "colab": {
      "provenance": [],
      "gpuType": "T4",
      "authorship_tag": "ABX9TyOgXjL0v+4PRJOM6r0IMTRp",
      "include_colab_link": true
    },
    "kernelspec": {
      "name": "python3",
      "display_name": "Python 3"
    },
    "language_info": {
      "name": "python"
    },
    "accelerator": "GPU"
  },
  "cells": [
    {
      "cell_type": "markdown",
      "metadata": {
        "id": "view-in-github",
        "colab_type": "text"
      },
      "source": [
        "<a href=\"https://colab.research.google.com/github/callumselv/Y4_project/blob/main/Lohani_2021_fidelity_metric.ipynb\" target=\"_parent\"><img src=\"https://colab.research.google.com/assets/colab-badge.svg\" alt=\"Open In Colab\"/></a>"
      ]
    },
    {
      "cell_type": "code",
      "execution_count": 1,
      "metadata": {
        "colab": {
          "base_uri": "https://localhost:8080/"
        },
        "id": "auA_a6z_3c8h",
        "outputId": "9b35733e-a34b-47c0-eeb5-dce05da7b11e"
      },
      "outputs": [
        {
          "output_type": "stream",
          "name": "stdout",
          "text": [
            "Collecting qutip\n",
            "  Downloading qutip-5.0.4-cp310-cp310-manylinux_2_17_x86_64.manylinux2014_x86_64.whl.metadata (9.2 kB)\n",
            "Requirement already satisfied: numpy>=1.22 in /usr/local/lib/python3.10/dist-packages (from qutip) (1.26.4)\n",
            "Requirement already satisfied: scipy>=1.9 in /usr/local/lib/python3.10/dist-packages (from qutip) (1.13.1)\n",
            "Requirement already satisfied: packaging in /usr/local/lib/python3.10/dist-packages (from qutip) (24.2)\n",
            "Downloading qutip-5.0.4-cp310-cp310-manylinux_2_17_x86_64.manylinux2014_x86_64.whl (28.0 MB)\n",
            "\u001b[2K   \u001b[90m━━━━━━━━━━━━━━━━━━━━━━━━━━━━━━━━━━━━━━━━\u001b[0m \u001b[32m28.0/28.0 MB\u001b[0m \u001b[31m22.6 MB/s\u001b[0m eta \u001b[36m0:00:00\u001b[0m\n",
            "\u001b[?25hInstalling collected packages: qutip\n",
            "Successfully installed qutip-5.0.4\n"
          ]
        }
      ],
      "source": [
        "!pip install qutip"
      ]
    },
    {
      "cell_type": "code",
      "source": [
        "import numpy as np\n",
        "from qutip import *\n",
        "import tensorflow as tf\n",
        "from tensorflow.keras.models import Sequential\n",
        "from tensorflow.keras.layers import Conv2D, MaxPooling2D, Flatten, Dense, Dropout\n",
        "import matplotlib.pyplot as plt\n",
        "from scipy.stats import unitary_group"
      ],
      "metadata": {
        "id": "hwyCpc1z3yiO"
      },
      "execution_count": 2,
      "outputs": []
    },
    {
      "cell_type": "code",
      "source": [
        "no_data = 30000\n",
        "d = 2\n",
        "dimension = 2**d"
      ],
      "metadata": {
        "id": "ye_v83js4iaH"
      },
      "execution_count": 3,
      "outputs": []
    },
    {
      "cell_type": "code",
      "source": [
        "def gen_rhos_chos(no_data, d):\n",
        "    dimension = 2**d\n",
        "    rhos = np.zeros((no_data,dimension,dimension),dtype=complex)\n",
        "\n",
        "    eta = 1e-7\n",
        "\n",
        "    # Generate random density matrices with eta adjustment to avoid issues in Cholesky decomposition\n",
        "    for i in range(no_data):\n",
        "        random_unitary = unitary_group.rvs(dimension)\n",
        "        coeffs = random_unitary[:,0]\n",
        "        rho = np.outer(coeffs,coeffs.conj())\n",
        "        rhos[i] = (1-eta)*rho + (eta/4)*np.eye(dimension)\n",
        "\n",
        "    # Calculate Cholesky decomposition of density matrices\n",
        "    cholesky_decompositions = np.array([np.linalg.cholesky(rho) for rho in rhos])\n",
        "\n",
        "    return rhos,cholesky_decompositions"
      ],
      "metadata": {
        "id": "5e7saUyXPYKs"
      },
      "execution_count": 4,
      "outputs": []
    },
    {
      "cell_type": "code",
      "source": [
        "def generate_index_pairs(d):\n",
        "    dimension = 2**d\n",
        "    index_num = int(dimension*(dimension-1)/2)\n",
        "    pairs = np.zeros((index_num,2), dtype=int)\n",
        "    index=0\n",
        "    for diff in range(1, dimension):\n",
        "        for i in range(diff, dimension):\n",
        "            j = i - diff\n",
        "            pairs[index] = (i, j)\n",
        "            index+=1\n",
        "\n",
        "    return pairs"
      ],
      "metadata": {
        "id": "wbt1qUSYFhhS"
      },
      "execution_count": 5,
      "outputs": []
    },
    {
      "cell_type": "code",
      "source": [
        "ind = generate_index_pairs(d)\n",
        "ind"
      ],
      "metadata": {
        "colab": {
          "base_uri": "https://localhost:8080/"
        },
        "id": "ueZJAQbORwuY",
        "outputId": "31345bfa-a2d1-41d1-d7b8-4f2d974d363c"
      },
      "execution_count": 6,
      "outputs": [
        {
          "output_type": "execute_result",
          "data": {
            "text/plain": [
              "array([[1, 0],\n",
              "       [2, 1],\n",
              "       [3, 2],\n",
              "       [2, 0],\n",
              "       [3, 1],\n",
              "       [3, 0]])"
            ]
          },
          "metadata": {},
          "execution_count": 6
        }
      ]
    },
    {
      "cell_type": "code",
      "source": [
        "def gen_taus(no_data, d):\n",
        "    rhos, cholesky_decompositions = gen_rhos_chos(no_data, d)\n",
        "\n",
        "    dimension = 2**d\n",
        "    tau_size = dimension**2\n",
        "\n",
        "    all_taus = np.zeros((no_data, tau_size))\n",
        "    indices = generate_index_pairs(d)\n",
        "\n",
        "    for no in range(no_data):\n",
        "        cholesky = cholesky_decompositions[no]\n",
        "        extracted_values = np.zeros(tau_size)\n",
        "\n",
        "        index=0\n",
        "        for i in range(cholesky.shape[0]):\n",
        "            extracted_values[i] = cholesky[i, i].real\n",
        "\n",
        "        index = cholesky.shape[0]\n",
        "        for i, j in indices:\n",
        "            extracted_values[index] = cholesky[i, j].real\n",
        "            extracted_values[index + 1] = cholesky[i, j].imag\n",
        "            index += 2\n",
        "\n",
        "        all_taus[no] = extracted_values\n",
        "\n",
        "    return all_taus"
      ],
      "metadata": {
        "id": "chiO1zG3RQeT"
      },
      "execution_count": 7,
      "outputs": []
    },
    {
      "cell_type": "code",
      "source": [
        "def gen_nvals_taus_rhos(no_data, d):\n",
        "    rhos, cholesky_decompositions = gen_rhos_chos(no_data, d)\n",
        "\n",
        "    dimension = 2**d\n",
        "    tau_size = dimension**2\n",
        "\n",
        "    all_taus = np.zeros((no_data, tau_size))\n",
        "    indices = generate_index_pairs(d)\n",
        "\n",
        "    for no in range(no_data):\n",
        "        cholesky = cholesky_decompositions[no]\n",
        "        extracted_values = np.zeros(tau_size)\n",
        "\n",
        "        index_tau=0\n",
        "        for i in range(cholesky.shape[0]):\n",
        "            extracted_values[i] = cholesky[i, i].real\n",
        "\n",
        "        index_tau = cholesky.shape[0]\n",
        "        for i, j in indices:\n",
        "            extracted_values[index_tau] = cholesky[i, j].real\n",
        "            extracted_values[index_tau + 1] = cholesky[i, j].imag\n",
        "            index_tau += 2\n",
        "\n",
        "        all_taus[no] = extracted_values\n",
        "\n",
        "    nvals = np.zeros((no_data,6**d))\n",
        "\n",
        "    for i1,rho in enumerate(rhos):\n",
        "      for index,proj in enumerate(pauli_2d):\n",
        "          nvals[i1,index] = np.trace(rho@proj)\n",
        "\n",
        "    return nvals, all_taus, rhos"
      ],
      "metadata": {
        "id": "yNpTKqW0Iztz"
      },
      "execution_count": 8,
      "outputs": []
    },
    {
      "cell_type": "code",
      "source": [
        "2**(2*d)"
      ],
      "metadata": {
        "colab": {
          "base_uri": "https://localhost:8080/"
        },
        "id": "u9NWh3rGGyhF",
        "outputId": "2d24804d-a225-4a49-a443-912de4447f7b"
      },
      "execution_count": null,
      "outputs": [
        {
          "output_type": "execute_result",
          "data": {
            "text/plain": [
              "16"
            ]
          },
          "metadata": {},
          "execution_count": 25
        }
      ]
    },
    {
      "cell_type": "code",
      "source": [
        "# Make 6^d projectors of Pauli {X,Y,Z} operators\n",
        "\n",
        "paulis = [sigmax(),sigmay(),sigmaz()]\n",
        "evectors = np.zeros((6,2,1),dtype=complex)\n",
        "\n",
        "i=0\n",
        "for pauli in paulis:\n",
        "    vals, vecs = pauli.eigenstates()\n",
        "    evectors[i] = vecs[0][:]\n",
        "    evectors[i+1] = vecs[1][:]\n",
        "    i += 2\n",
        "\n",
        "projectors = np.zeros((6,2,2), dtype=complex)\n",
        "\n",
        "for i, vectors in enumerate(evectors):\n",
        "    projectors[i] = np.outer(vectors,vectors.conj())"
      ],
      "metadata": {
        "id": "mEf_FpAyIKr3"
      },
      "execution_count": 9,
      "outputs": []
    },
    {
      "cell_type": "code",
      "source": [
        "pauli_2d = np.zeros((6**2,4,4), dtype=complex)\n",
        "\n",
        "index=0\n",
        "for i in projectors:\n",
        "    for j in projectors:\n",
        "        pauli_2d[index] = np.kron(i,j)\n",
        "        index += 1"
      ],
      "metadata": {
        "id": "07XLosP6E5KO"
      },
      "execution_count": 10,
      "outputs": []
    },
    {
      "cell_type": "code",
      "source": [
        "pauli_3d = np.zeros((6**3,2**3,2**3), dtype=complex)\n",
        "\n",
        "index=0\n",
        "for i in pauli_2d:\n",
        "    for j in projectors:\n",
        "        pauli_3d[index] = np.kron(i,j)\n",
        "        index += 1"
      ],
      "metadata": {
        "id": "GCG-UakJE8TT"
      },
      "execution_count": 11,
      "outputs": []
    },
    {
      "cell_type": "code",
      "source": [
        "def reconstruct_matrix_nn(taus):\n",
        "    matrix = np.zeros((dimension, dimension), dtype=np.complex_)\n",
        "\n",
        "    index = 0\n",
        "    for i in range(dimension):\n",
        "        matrix[i, i] = taus[index]\n",
        "        index += 1\n",
        "\n",
        "    indices = generate_index_pairs(d)\n",
        "\n",
        "    for i, j in indices:\n",
        "        real_part = taus[index]\n",
        "        imag_part = taus[index + 1]\n",
        "        matrix[i, j] = real_part + 1j * imag_part\n",
        "        index += 2\n",
        "\n",
        "    rho = matrix@(matrix.conj().T)\n",
        "    rho = rho/np.trace(rho)\n",
        "\n",
        "    return rho"
      ],
      "metadata": {
        "id": "JxAF5-Wg47FU"
      },
      "execution_count": 12,
      "outputs": []
    },
    {
      "cell_type": "code",
      "source": [
        "def reconstruct_matrix_t(taus):\n",
        "    matrix = np.zeros((dimension, dimension), dtype=np.complex_)\n",
        "\n",
        "    index = 0\n",
        "    for i in range(dimension):\n",
        "        matrix[i, i] = taus[index]\n",
        "        index += 1\n",
        "\n",
        "    indices = generate_index_pairs(d)\n",
        "\n",
        "    for i, j in indices:\n",
        "        real_part = taus[index]\n",
        "        imag_part = taus[index + 1]\n",
        "        matrix[i, j] = real_part + 1j * imag_part\n",
        "        index += 2\n",
        "\n",
        "    rho = matrix@(matrix.conj().T)\n",
        "\n",
        "    return rho"
      ],
      "metadata": {
        "id": "9JBaRHyISFR3"
      },
      "execution_count": 13,
      "outputs": []
    },
    {
      "cell_type": "code",
      "source": [
        "def generate_index_pairs_tf(d):\n",
        "    dimension = 2 ** d\n",
        "    pairs_list = []\n",
        "    for diff in range(1, dimension):\n",
        "        for i in range(diff, dimension):\n",
        "            j = i - diff\n",
        "            pairs_list.append([i, j])\n",
        "    pairs = tf.constant(pairs_list, dtype=tf.int32)\n",
        "    return pairs\n",
        "\n",
        "def reconstruct_matrix_nn_tf(taus, d):\n",
        "    dimension = 2 ** d\n",
        "\n",
        "    diag_indices = tf.stack([tf.range(dimension), tf.range(dimension)], axis=1)\n",
        "    diag_values = tf.cast(taus[:, :dimension], tf.complex64)\n",
        "\n",
        "    indices = generate_index_pairs_tf(d)\n",
        "    num_pairs = tf.shape(indices)[0]\n",
        "    index = dimension\n",
        "\n",
        "    real_parts = tf.cast(taus[:, index : index + num_pairs], tf.complex64)\n",
        "    imag_parts = tf.cast(taus[:, index + num_pairs : index + 2 * num_pairs], tf.complex64)\n",
        "    off_diag_values = real_parts + 1j * imag_parts\n",
        "\n",
        "    batch_size = tf.shape(taus)[0]\n",
        "    diag_indices = tf.tile(tf.expand_dims(diag_indices, 0), [batch_size, 1, 1])\n",
        "    diag_values = tf.expand_dims(diag_values, -1)\n",
        "\n",
        "    off_diag_indices = tf.tile(tf.expand_dims(indices, 0), [batch_size, 1, 1])\n",
        "    off_diag_values = tf.expand_dims(off_diag_values, -1)\n",
        "\n",
        "    all_indices = tf.concat([diag_indices, off_diag_indices], axis=1)\n",
        "    all_values = tf.concat([diag_values, off_diag_values], axis=1)\n",
        "\n",
        "    matrix_shape = [dimension, dimension]\n",
        "    matrices = tf.map_fn(\n",
        "        lambda x: tf.scatter_nd(x[0], tf.squeeze(x[1]), matrix_shape),\n",
        "        (all_indices, all_values),\n",
        "        fn_output_signature=tf.complex64\n",
        "    )\n",
        "\n",
        "    # Compute rho = matrix @ matrix.conj().T\n",
        "    matrices_dagger = tf.linalg.adjoint(matrices)\n",
        "    rhos = tf.matmul(matrices, matrices_dagger)\n",
        "\n",
        "    traces = tf.linalg.trace(rhos)\n",
        "    traces = tf.reshape(traces, [-1, 1, 1])\n",
        "    rhos_normalized = rhos / traces\n",
        "\n",
        "    return rhos_normalized\n",
        "\n",
        "def reconstruct_matrix_t_tf(taus, d):\n",
        "    dimension = 2 ** d\n",
        "\n",
        "    diag_indices = tf.stack([tf.range(dimension), tf.range(dimension)], axis=1)\n",
        "    diag_values = tf.cast(taus[:, :dimension], tf.complex64)\n",
        "\n",
        "    indices = generate_index_pairs_tf(d)\n",
        "    num_pairs = tf.shape(indices)[0]\n",
        "    index = dimension\n",
        "\n",
        "    real_parts = tf.cast(taus[:, index : index + num_pairs], tf.complex64)\n",
        "    imag_parts = tf.cast(taus[:, index + num_pairs : index + 2 * num_pairs], tf.complex64)\n",
        "    off_diag_values = real_parts + 1j * imag_parts\n",
        "\n",
        "    batch_size = tf.shape(taus)[0]\n",
        "    diag_indices = tf.tile(tf.expand_dims(diag_indices, 0), [batch_size, 1, 1])\n",
        "    diag_values = tf.expand_dims(diag_values, -1)\n",
        "\n",
        "    off_diag_indices = tf.tile(tf.expand_dims(indices, 0), [batch_size, 1, 1])\n",
        "    off_diag_values = tf.expand_dims(off_diag_values, -1)\n",
        "\n",
        "    all_indices = tf.concat([diag_indices, off_diag_indices], axis=1)\n",
        "    all_values = tf.concat([diag_values, off_diag_values], axis=1)\n",
        "\n",
        "    matrix_shape = [dimension, dimension]\n",
        "    matrices = tf.map_fn(\n",
        "        lambda x: tf.scatter_nd(x[0], tf.squeeze(x[1]), matrix_shape),\n",
        "        (all_indices, all_values),\n",
        "        fn_output_signature=tf.complex64\n",
        "    )\n",
        "\n",
        "    # Compute rho = matrix @ matrix.conj().T\n",
        "    matrices_dagger = tf.linalg.adjoint(matrices)\n",
        "    rhos = tf.matmul(matrices, matrices_dagger)\n",
        "\n",
        "    return rhos\n",
        "\n",
        "'''\n",
        "def fidelity_tf(rho_t, rho_nn):\n",
        "    sqrt_nn = tf.linalg.sqrtm(rho_nn)\n",
        "    intermediate = tf.matmul(sqrt_nn, tf.matmul(rho_t, sqrt_nn))\n",
        "    sqrt_intermediate = tf.linalg.sqrtm(intermediate)\n",
        "    trace = tf.math.real(tf.linalg.trace(sqrt_intermediate))\n",
        "    fidelity = tf.square(tf.abs(trace))\n",
        "    return fidelity\n",
        "'''\n",
        "\n",
        "def fidelity_tf(rho_t, rho_nn):\n",
        "    product = tf.matmul(rho_t, rho_nn)\n",
        "    trace = tf.linalg.trace(product)\n",
        "    return tf.abs(trace)\n",
        "\n",
        "\n",
        "def fid_taus_tf(tau_t, tau_nn, d):\n",
        "    rho_t = reconstruct_matrix_t_tf(tau_t, d)\n",
        "    rho_nn = reconstruct_matrix_nn_tf(tau_nn, d)\n",
        "    fidelities = fidelity_tf(rho_t, rho_nn)\n",
        "    return fidelities"
      ],
      "metadata": {
        "id": "CYyruqWe62mn"
      },
      "execution_count": 22,
      "outputs": []
    },
    {
      "cell_type": "code",
      "source": [
        "def fidelity_metric(y_true, y_pred):\n",
        "    return fid_taus_tf(y_true, y_pred, d)"
      ],
      "metadata": {
        "id": "fxwomAjw6_gm"
      },
      "execution_count": 23,
      "outputs": []
    },
    {
      "cell_type": "code",
      "source": [
        "dense1 = 750\n",
        "dense2 = 450"
      ],
      "metadata": {
        "id": "vwe_3qyCA3Ta"
      },
      "execution_count": 16,
      "outputs": []
    },
    {
      "cell_type": "code",
      "source": [
        "def build_cnn_model():\n",
        "    model = Sequential()\n",
        "\n",
        "    model.add(tf.keras.layers.Reshape((6, 6, 1), input_shape=(36,)))\n",
        "\n",
        "    model.add(Conv2D(filters=25, kernel_size=(2, 2), strides=1, activation='relu'))\n",
        "    model.add(MaxPooling2D(pool_size=(2, 2)))\n",
        "\n",
        "    model.add(Conv2D(filters=25, kernel_size=(2, 2), strides=1, activation='relu'))\n",
        "\n",
        "    model.add(Flatten())\n",
        "\n",
        "    model.add(Dense(dense1, activation='relu'))\n",
        "\n",
        "    model.add(Dense(dense2, activation='relu'))\n",
        "\n",
        "    model.add(Dense(2**(2*d), activation='linear'))\n",
        "\n",
        "    return model\n",
        "\n",
        "model = build_cnn_model()\n",
        "\n",
        "model.compile(\n",
        "    optimizer='adam',\n",
        "    loss='mean_squared_error',\n",
        "    metrics=['mean_absolute_error']\n",
        ")\n",
        "\n",
        "model.summary()\n"
      ],
      "metadata": {
        "colab": {
          "base_uri": "https://localhost:8080/",
          "height": 452
        },
        "id": "EW3oYNRT5ahp",
        "outputId": "206fdf2b-26d8-4bf0-864e-7e88b5e58db3"
      },
      "execution_count": 18,
      "outputs": [
        {
          "output_type": "stream",
          "name": "stderr",
          "text": [
            "/usr/local/lib/python3.10/dist-packages/keras/src/layers/reshaping/reshape.py:39: UserWarning: Do not pass an `input_shape`/`input_dim` argument to a layer. When using Sequential models, prefer using an `Input(shape)` object as the first layer in the model instead.\n",
            "  super().__init__(**kwargs)\n"
          ]
        },
        {
          "output_type": "display_data",
          "data": {
            "text/plain": [
              "\u001b[1mModel: \"sequential\"\u001b[0m\n"
            ],
            "text/html": [
              "<pre style=\"white-space:pre;overflow-x:auto;line-height:normal;font-family:Menlo,'DejaVu Sans Mono',consolas,'Courier New',monospace\"><span style=\"font-weight: bold\">Model: \"sequential\"</span>\n",
              "</pre>\n"
            ]
          },
          "metadata": {}
        },
        {
          "output_type": "display_data",
          "data": {
            "text/plain": [
              "┏━━━━━━━━━━━━━━━━━━━━━━━━━━━━━━━━━━━━━━┳━━━━━━━━━━━━━━━━━━━━━━━━━━━━━┳━━━━━━━━━━━━━━━━━┓\n",
              "┃\u001b[1m \u001b[0m\u001b[1mLayer (type)                        \u001b[0m\u001b[1m \u001b[0m┃\u001b[1m \u001b[0m\u001b[1mOutput Shape               \u001b[0m\u001b[1m \u001b[0m┃\u001b[1m \u001b[0m\u001b[1m        Param #\u001b[0m\u001b[1m \u001b[0m┃\n",
              "┡━━━━━━━━━━━━━━━━━━━━━━━━━━━━━━━━━━━━━━╇━━━━━━━━━━━━━━━━━━━━━━━━━━━━━╇━━━━━━━━━━━━━━━━━┩\n",
              "│ reshape (\u001b[38;5;33mReshape\u001b[0m)                    │ (\u001b[38;5;45mNone\u001b[0m, \u001b[38;5;34m6\u001b[0m, \u001b[38;5;34m6\u001b[0m, \u001b[38;5;34m1\u001b[0m)             │               \u001b[38;5;34m0\u001b[0m │\n",
              "├──────────────────────────────────────┼─────────────────────────────┼─────────────────┤\n",
              "│ conv2d (\u001b[38;5;33mConv2D\u001b[0m)                      │ (\u001b[38;5;45mNone\u001b[0m, \u001b[38;5;34m5\u001b[0m, \u001b[38;5;34m5\u001b[0m, \u001b[38;5;34m25\u001b[0m)            │             \u001b[38;5;34m125\u001b[0m │\n",
              "├──────────────────────────────────────┼─────────────────────────────┼─────────────────┤\n",
              "│ max_pooling2d (\u001b[38;5;33mMaxPooling2D\u001b[0m)         │ (\u001b[38;5;45mNone\u001b[0m, \u001b[38;5;34m2\u001b[0m, \u001b[38;5;34m2\u001b[0m, \u001b[38;5;34m25\u001b[0m)            │               \u001b[38;5;34m0\u001b[0m │\n",
              "├──────────────────────────────────────┼─────────────────────────────┼─────────────────┤\n",
              "│ conv2d_1 (\u001b[38;5;33mConv2D\u001b[0m)                    │ (\u001b[38;5;45mNone\u001b[0m, \u001b[38;5;34m1\u001b[0m, \u001b[38;5;34m1\u001b[0m, \u001b[38;5;34m25\u001b[0m)            │           \u001b[38;5;34m2,525\u001b[0m │\n",
              "├──────────────────────────────────────┼─────────────────────────────┼─────────────────┤\n",
              "│ flatten (\u001b[38;5;33mFlatten\u001b[0m)                    │ (\u001b[38;5;45mNone\u001b[0m, \u001b[38;5;34m25\u001b[0m)                  │               \u001b[38;5;34m0\u001b[0m │\n",
              "├──────────────────────────────────────┼─────────────────────────────┼─────────────────┤\n",
              "│ dense (\u001b[38;5;33mDense\u001b[0m)                        │ (\u001b[38;5;45mNone\u001b[0m, \u001b[38;5;34m750\u001b[0m)                 │          \u001b[38;5;34m19,500\u001b[0m │\n",
              "├──────────────────────────────────────┼─────────────────────────────┼─────────────────┤\n",
              "│ dense_1 (\u001b[38;5;33mDense\u001b[0m)                      │ (\u001b[38;5;45mNone\u001b[0m, \u001b[38;5;34m450\u001b[0m)                 │         \u001b[38;5;34m337,950\u001b[0m │\n",
              "├──────────────────────────────────────┼─────────────────────────────┼─────────────────┤\n",
              "│ dense_2 (\u001b[38;5;33mDense\u001b[0m)                      │ (\u001b[38;5;45mNone\u001b[0m, \u001b[38;5;34m16\u001b[0m)                  │           \u001b[38;5;34m7,216\u001b[0m │\n",
              "└──────────────────────────────────────┴─────────────────────────────┴─────────────────┘\n"
            ],
            "text/html": [
              "<pre style=\"white-space:pre;overflow-x:auto;line-height:normal;font-family:Menlo,'DejaVu Sans Mono',consolas,'Courier New',monospace\">┏━━━━━━━━━━━━━━━━━━━━━━━━━━━━━━━━━━━━━━┳━━━━━━━━━━━━━━━━━━━━━━━━━━━━━┳━━━━━━━━━━━━━━━━━┓\n",
              "┃<span style=\"font-weight: bold\"> Layer (type)                         </span>┃<span style=\"font-weight: bold\"> Output Shape                </span>┃<span style=\"font-weight: bold\">         Param # </span>┃\n",
              "┡━━━━━━━━━━━━━━━━━━━━━━━━━━━━━━━━━━━━━━╇━━━━━━━━━━━━━━━━━━━━━━━━━━━━━╇━━━━━━━━━━━━━━━━━┩\n",
              "│ reshape (<span style=\"color: #0087ff; text-decoration-color: #0087ff\">Reshape</span>)                    │ (<span style=\"color: #00d7ff; text-decoration-color: #00d7ff\">None</span>, <span style=\"color: #00af00; text-decoration-color: #00af00\">6</span>, <span style=\"color: #00af00; text-decoration-color: #00af00\">6</span>, <span style=\"color: #00af00; text-decoration-color: #00af00\">1</span>)             │               <span style=\"color: #00af00; text-decoration-color: #00af00\">0</span> │\n",
              "├──────────────────────────────────────┼─────────────────────────────┼─────────────────┤\n",
              "│ conv2d (<span style=\"color: #0087ff; text-decoration-color: #0087ff\">Conv2D</span>)                      │ (<span style=\"color: #00d7ff; text-decoration-color: #00d7ff\">None</span>, <span style=\"color: #00af00; text-decoration-color: #00af00\">5</span>, <span style=\"color: #00af00; text-decoration-color: #00af00\">5</span>, <span style=\"color: #00af00; text-decoration-color: #00af00\">25</span>)            │             <span style=\"color: #00af00; text-decoration-color: #00af00\">125</span> │\n",
              "├──────────────────────────────────────┼─────────────────────────────┼─────────────────┤\n",
              "│ max_pooling2d (<span style=\"color: #0087ff; text-decoration-color: #0087ff\">MaxPooling2D</span>)         │ (<span style=\"color: #00d7ff; text-decoration-color: #00d7ff\">None</span>, <span style=\"color: #00af00; text-decoration-color: #00af00\">2</span>, <span style=\"color: #00af00; text-decoration-color: #00af00\">2</span>, <span style=\"color: #00af00; text-decoration-color: #00af00\">25</span>)            │               <span style=\"color: #00af00; text-decoration-color: #00af00\">0</span> │\n",
              "├──────────────────────────────────────┼─────────────────────────────┼─────────────────┤\n",
              "│ conv2d_1 (<span style=\"color: #0087ff; text-decoration-color: #0087ff\">Conv2D</span>)                    │ (<span style=\"color: #00d7ff; text-decoration-color: #00d7ff\">None</span>, <span style=\"color: #00af00; text-decoration-color: #00af00\">1</span>, <span style=\"color: #00af00; text-decoration-color: #00af00\">1</span>, <span style=\"color: #00af00; text-decoration-color: #00af00\">25</span>)            │           <span style=\"color: #00af00; text-decoration-color: #00af00\">2,525</span> │\n",
              "├──────────────────────────────────────┼─────────────────────────────┼─────────────────┤\n",
              "│ flatten (<span style=\"color: #0087ff; text-decoration-color: #0087ff\">Flatten</span>)                    │ (<span style=\"color: #00d7ff; text-decoration-color: #00d7ff\">None</span>, <span style=\"color: #00af00; text-decoration-color: #00af00\">25</span>)                  │               <span style=\"color: #00af00; text-decoration-color: #00af00\">0</span> │\n",
              "├──────────────────────────────────────┼─────────────────────────────┼─────────────────┤\n",
              "│ dense (<span style=\"color: #0087ff; text-decoration-color: #0087ff\">Dense</span>)                        │ (<span style=\"color: #00d7ff; text-decoration-color: #00d7ff\">None</span>, <span style=\"color: #00af00; text-decoration-color: #00af00\">750</span>)                 │          <span style=\"color: #00af00; text-decoration-color: #00af00\">19,500</span> │\n",
              "├──────────────────────────────────────┼─────────────────────────────┼─────────────────┤\n",
              "│ dense_1 (<span style=\"color: #0087ff; text-decoration-color: #0087ff\">Dense</span>)                      │ (<span style=\"color: #00d7ff; text-decoration-color: #00d7ff\">None</span>, <span style=\"color: #00af00; text-decoration-color: #00af00\">450</span>)                 │         <span style=\"color: #00af00; text-decoration-color: #00af00\">337,950</span> │\n",
              "├──────────────────────────────────────┼─────────────────────────────┼─────────────────┤\n",
              "│ dense_2 (<span style=\"color: #0087ff; text-decoration-color: #0087ff\">Dense</span>)                      │ (<span style=\"color: #00d7ff; text-decoration-color: #00d7ff\">None</span>, <span style=\"color: #00af00; text-decoration-color: #00af00\">16</span>)                  │           <span style=\"color: #00af00; text-decoration-color: #00af00\">7,216</span> │\n",
              "└──────────────────────────────────────┴─────────────────────────────┴─────────────────┘\n",
              "</pre>\n"
            ]
          },
          "metadata": {}
        },
        {
          "output_type": "display_data",
          "data": {
            "text/plain": [
              "\u001b[1m Total params: \u001b[0m\u001b[38;5;34m367,316\u001b[0m (1.40 MB)\n"
            ],
            "text/html": [
              "<pre style=\"white-space:pre;overflow-x:auto;line-height:normal;font-family:Menlo,'DejaVu Sans Mono',consolas,'Courier New',monospace\"><span style=\"font-weight: bold\"> Total params: </span><span style=\"color: #00af00; text-decoration-color: #00af00\">367,316</span> (1.40 MB)\n",
              "</pre>\n"
            ]
          },
          "metadata": {}
        },
        {
          "output_type": "display_data",
          "data": {
            "text/plain": [
              "\u001b[1m Trainable params: \u001b[0m\u001b[38;5;34m367,316\u001b[0m (1.40 MB)\n"
            ],
            "text/html": [
              "<pre style=\"white-space:pre;overflow-x:auto;line-height:normal;font-family:Menlo,'DejaVu Sans Mono',consolas,'Courier New',monospace\"><span style=\"font-weight: bold\"> Trainable params: </span><span style=\"color: #00af00; text-decoration-color: #00af00\">367,316</span> (1.40 MB)\n",
              "</pre>\n"
            ]
          },
          "metadata": {}
        },
        {
          "output_type": "display_data",
          "data": {
            "text/plain": [
              "\u001b[1m Non-trainable params: \u001b[0m\u001b[38;5;34m0\u001b[0m (0.00 B)\n"
            ],
            "text/html": [
              "<pre style=\"white-space:pre;overflow-x:auto;line-height:normal;font-family:Menlo,'DejaVu Sans Mono',consolas,'Courier New',monospace\"><span style=\"font-weight: bold\"> Non-trainable params: </span><span style=\"color: #00af00; text-decoration-color: #00af00\">0</span> (0.00 B)\n",
              "</pre>\n"
            ]
          },
          "metadata": {}
        }
      ]
    },
    {
      "cell_type": "code",
      "source": [
        "from tensorflow.keras.callbacks import EarlyStopping"
      ],
      "metadata": {
        "id": "tbnWQFkRMdlJ"
      },
      "execution_count": 19,
      "outputs": []
    },
    {
      "cell_type": "code",
      "source": [
        "nvals,all_taus,rhos = gen_nvals_taus_rhos(30000,d)"
      ],
      "metadata": {
        "colab": {
          "base_uri": "https://localhost:8080/"
        },
        "id": "hK0S-vXQSsi_",
        "outputId": "83d0fdf2-faa2-410c-a506-20154d2e5d78"
      },
      "execution_count": 20,
      "outputs": [
        {
          "output_type": "stream",
          "name": "stderr",
          "text": [
            "<ipython-input-8-e382a3503c8c>:30: ComplexWarning: Casting complex values to real discards the imaginary part\n",
            "  nvals[i1,index] = np.trace(rho@proj)\n"
          ]
        }
      ]
    },
    {
      "cell_type": "code",
      "source": [
        "model1 = build_cnn_model()\n",
        "model1.compile(\n",
        "    optimizer='adam',\n",
        "    loss='mean_absolute_error',\n",
        "    metrics=[fidelity_metric, 'mean_squared_error']\n",
        ")\n",
        "\n",
        "early_stopping = EarlyStopping(monitor='val_loss', patience=10, restore_best_weights=True)\n",
        "\n",
        "history1 = model1.fit(\n",
        "    nvals, all_taus,\n",
        "    epochs=300,\n",
        "    batch_size=100,\n",
        "    validation_split=0.2\n",
        "    )\n"
      ],
      "metadata": {
        "colab": {
          "base_uri": "https://localhost:8080/"
        },
        "id": "MqdDllyI4Cnq",
        "outputId": "6f4989af-4b01-4521-c838-55d1cf407a7f"
      },
      "execution_count": 24,
      "outputs": [
        {
          "output_type": "stream",
          "name": "stdout",
          "text": [
            "Epoch 1/300\n"
          ]
        },
        {
          "output_type": "stream",
          "name": "stderr",
          "text": [
            "/usr/local/lib/python3.10/dist-packages/keras/src/layers/reshaping/reshape.py:39: UserWarning: Do not pass an `input_shape`/`input_dim` argument to a layer. When using Sequential models, prefer using an `Input(shape)` object as the first layer in the model instead.\n",
            "  super().__init__(**kwargs)\n"
          ]
        },
        {
          "output_type": "stream",
          "name": "stdout",
          "text": [
            "\u001b[1m240/240\u001b[0m \u001b[32m━━━━━━━━━━━━━━━━━━━━\u001b[0m\u001b[37m\u001b[0m \u001b[1m8s\u001b[0m 9ms/step - fidelity_metric: 0.2900 - loss: 0.1166 - mean_squared_error: 0.0464 - val_fidelity_metric: 0.4301 - val_loss: 0.0901 - val_mean_squared_error: 0.0312\n",
            "Epoch 2/300\n",
            "\u001b[1m240/240\u001b[0m \u001b[32m━━━━━━━━━━━━━━━━━━━━\u001b[0m\u001b[37m\u001b[0m \u001b[1m6s\u001b[0m 6ms/step - fidelity_metric: 0.4523 - loss: 0.0867 - mean_squared_error: 0.0298 - val_fidelity_metric: 0.4900 - val_loss: 0.0773 - val_mean_squared_error: 0.0257\n",
            "Epoch 3/300\n",
            "\u001b[1m240/240\u001b[0m \u001b[32m━━━━━━━━━━━━━━━━━━━━\u001b[0m\u001b[37m\u001b[0m \u001b[1m1s\u001b[0m 6ms/step - fidelity_metric: 0.5027 - loss: 0.0741 - mean_squared_error: 0.0234 - val_fidelity_metric: 0.5238 - val_loss: 0.0667 - val_mean_squared_error: 0.0199\n",
            "Epoch 4/300\n",
            "\u001b[1m240/240\u001b[0m \u001b[32m━━━━━━━━━━━━━━━━━━━━\u001b[0m\u001b[37m\u001b[0m \u001b[1m3s\u001b[0m 9ms/step - fidelity_metric: 0.5278 - loss: 0.0657 - mean_squared_error: 0.0193 - val_fidelity_metric: 0.5393 - val_loss: 0.0615 - val_mean_squared_error: 0.0176\n",
            "Epoch 5/300\n",
            "\u001b[1m240/240\u001b[0m \u001b[32m━━━━━━━━━━━━━━━━━━━━\u001b[0m\u001b[37m\u001b[0m \u001b[1m2s\u001b[0m 6ms/step - fidelity_metric: 0.5433 - loss: 0.0599 - mean_squared_error: 0.0166 - val_fidelity_metric: 0.5526 - val_loss: 0.0568 - val_mean_squared_error: 0.0154\n",
            "Epoch 6/300\n",
            "\u001b[1m240/240\u001b[0m \u001b[32m━━━━━━━━━━━━━━━━━━━━\u001b[0m\u001b[37m\u001b[0m \u001b[1m3s\u001b[0m 6ms/step - fidelity_metric: 0.5559 - loss: 0.0559 - mean_squared_error: 0.0149 - val_fidelity_metric: 0.5571 - val_loss: 0.0547 - val_mean_squared_error: 0.0145\n",
            "Epoch 7/300\n",
            "\u001b[1m240/240\u001b[0m \u001b[32m━━━━━━━━━━━━━━━━━━━━\u001b[0m\u001b[37m\u001b[0m \u001b[1m1s\u001b[0m 6ms/step - fidelity_metric: 0.5657 - loss: 0.0523 - mean_squared_error: 0.0131 - val_fidelity_metric: 0.5706 - val_loss: 0.0501 - val_mean_squared_error: 0.0123\n",
            "Epoch 8/300\n",
            "\u001b[1m240/240\u001b[0m \u001b[32m━━━━━━━━━━━━━━━━━━━━\u001b[0m\u001b[37m\u001b[0m \u001b[1m1s\u001b[0m 6ms/step - fidelity_metric: 0.5718 - loss: 0.0497 - mean_squared_error: 0.0119 - val_fidelity_metric: 0.5765 - val_loss: 0.0500 - val_mean_squared_error: 0.0115\n",
            "Epoch 9/300\n",
            "\u001b[1m240/240\u001b[0m \u001b[32m━━━━━━━━━━━━━━━━━━━━\u001b[0m\u001b[37m\u001b[0m \u001b[1m1s\u001b[0m 6ms/step - fidelity_metric: 0.5800 - loss: 0.0464 - mean_squared_error: 0.0107 - val_fidelity_metric: 0.5847 - val_loss: 0.0462 - val_mean_squared_error: 0.0106\n",
            "Epoch 10/300\n",
            "\u001b[1m240/240\u001b[0m \u001b[32m━━━━━━━━━━━━━━━━━━━━\u001b[0m\u001b[37m\u001b[0m \u001b[1m1s\u001b[0m 6ms/step - fidelity_metric: 0.5889 - loss: 0.0436 - mean_squared_error: 0.0095 - val_fidelity_metric: 0.5930 - val_loss: 0.0432 - val_mean_squared_error: 0.0092\n",
            "Epoch 11/300\n",
            "\u001b[1m240/240\u001b[0m \u001b[32m━━━━━━━━━━━━━━━━━━━━\u001b[0m\u001b[37m\u001b[0m \u001b[1m3s\u001b[0m 7ms/step - fidelity_metric: 0.5938 - loss: 0.0416 - mean_squared_error: 0.0087 - val_fidelity_metric: 0.5939 - val_loss: 0.0424 - val_mean_squared_error: 0.0091\n",
            "Epoch 12/300\n",
            "\u001b[1m240/240\u001b[0m \u001b[32m━━━━━━━━━━━━━━━━━━━━\u001b[0m\u001b[37m\u001b[0m \u001b[1m1s\u001b[0m 6ms/step - fidelity_metric: 0.5999 - loss: 0.0395 - mean_squared_error: 0.0078 - val_fidelity_metric: 0.5989 - val_loss: 0.0391 - val_mean_squared_error: 0.0078\n",
            "Epoch 13/300\n",
            "\u001b[1m240/240\u001b[0m \u001b[32m━━━━━━━━━━━━━━━━━━━━\u001b[0m\u001b[37m\u001b[0m \u001b[1m1s\u001b[0m 6ms/step - fidelity_metric: 0.6055 - loss: 0.0374 - mean_squared_error: 0.0072 - val_fidelity_metric: 0.6033 - val_loss: 0.0378 - val_mean_squared_error: 0.0074\n",
            "Epoch 14/300\n",
            "\u001b[1m240/240\u001b[0m \u001b[32m━━━━━━━━━━━━━━━━━━━━\u001b[0m\u001b[37m\u001b[0m \u001b[1m1s\u001b[0m 6ms/step - fidelity_metric: 0.6064 - loss: 0.0364 - mean_squared_error: 0.0069 - val_fidelity_metric: 0.6080 - val_loss: 0.0364 - val_mean_squared_error: 0.0069\n",
            "Epoch 15/300\n",
            "\u001b[1m240/240\u001b[0m \u001b[32m━━━━━━━━━━━━━━━━━━━━\u001b[0m\u001b[37m\u001b[0m \u001b[1m3s\u001b[0m 6ms/step - fidelity_metric: 0.6104 - loss: 0.0345 - mean_squared_error: 0.0062 - val_fidelity_metric: 0.6100 - val_loss: 0.0354 - val_mean_squared_error: 0.0065\n",
            "Epoch 16/300\n",
            "\u001b[1m240/240\u001b[0m \u001b[32m━━━━━━━━━━━━━━━━━━━━\u001b[0m\u001b[37m\u001b[0m \u001b[1m3s\u001b[0m 6ms/step - fidelity_metric: 0.6138 - loss: 0.0329 - mean_squared_error: 0.0057 - val_fidelity_metric: 0.6126 - val_loss: 0.0350 - val_mean_squared_error: 0.0062\n",
            "Epoch 17/300\n",
            "\u001b[1m240/240\u001b[0m \u001b[32m━━━━━━━━━━━━━━━━━━━━\u001b[0m\u001b[37m\u001b[0m \u001b[1m2s\u001b[0m 8ms/step - fidelity_metric: 0.6174 - loss: 0.0317 - mean_squared_error: 0.0054 - val_fidelity_metric: 0.6137 - val_loss: 0.0325 - val_mean_squared_error: 0.0057\n",
            "Epoch 18/300\n",
            "\u001b[1m240/240\u001b[0m \u001b[32m━━━━━━━━━━━━━━━━━━━━\u001b[0m\u001b[37m\u001b[0m \u001b[1m2s\u001b[0m 7ms/step - fidelity_metric: 0.6180 - loss: 0.0311 - mean_squared_error: 0.0052 - val_fidelity_metric: 0.6177 - val_loss: 0.0318 - val_mean_squared_error: 0.0054\n",
            "Epoch 19/300\n",
            "\u001b[1m240/240\u001b[0m \u001b[32m━━━━━━━━━━━━━━━━━━━━\u001b[0m\u001b[37m\u001b[0m \u001b[1m2s\u001b[0m 6ms/step - fidelity_metric: 0.6191 - loss: 0.0299 - mean_squared_error: 0.0049 - val_fidelity_metric: 0.6179 - val_loss: 0.0308 - val_mean_squared_error: 0.0051\n",
            "Epoch 20/300\n",
            "\u001b[1m240/240\u001b[0m \u001b[32m━━━━━━━━━━━━━━━━━━━━\u001b[0m\u001b[37m\u001b[0m \u001b[1m4s\u001b[0m 10ms/step - fidelity_metric: 0.6222 - loss: 0.0287 - mean_squared_error: 0.0046 - val_fidelity_metric: 0.6194 - val_loss: 0.0298 - val_mean_squared_error: 0.0048\n",
            "Epoch 21/300\n",
            "\u001b[1m240/240\u001b[0m \u001b[32m━━━━━━━━━━━━━━━━━━━━\u001b[0m\u001b[37m\u001b[0m \u001b[1m2s\u001b[0m 6ms/step - fidelity_metric: 0.6242 - loss: 0.0277 - mean_squared_error: 0.0042 - val_fidelity_metric: 0.6182 - val_loss: 0.0311 - val_mean_squared_error: 0.0051\n",
            "Epoch 22/300\n",
            "\u001b[1m240/240\u001b[0m \u001b[32m━━━━━━━━━━━━━━━━━━━━\u001b[0m\u001b[37m\u001b[0m \u001b[1m1s\u001b[0m 6ms/step - fidelity_metric: 0.6252 - loss: 0.0271 - mean_squared_error: 0.0040 - val_fidelity_metric: 0.6235 - val_loss: 0.0293 - val_mean_squared_error: 0.0046\n",
            "Epoch 23/300\n",
            "\u001b[1m240/240\u001b[0m \u001b[32m━━━━━━━━━━━━━━━━━━━━\u001b[0m\u001b[37m\u001b[0m \u001b[1m3s\u001b[0m 8ms/step - fidelity_metric: 0.6240 - loss: 0.0267 - mean_squared_error: 0.0040 - val_fidelity_metric: 0.6239 - val_loss: 0.0283 - val_mean_squared_error: 0.0044\n",
            "Epoch 24/300\n",
            "\u001b[1m240/240\u001b[0m \u001b[32m━━━━━━━━━━━━━━━━━━━━\u001b[0m\u001b[37m\u001b[0m \u001b[1m2s\u001b[0m 6ms/step - fidelity_metric: 0.6268 - loss: 0.0258 - mean_squared_error: 0.0037 - val_fidelity_metric: 0.6251 - val_loss: 0.0269 - val_mean_squared_error: 0.0040\n",
            "Epoch 25/300\n",
            "\u001b[1m240/240\u001b[0m \u001b[32m━━━━━━━━━━━━━━━━━━━━\u001b[0m\u001b[37m\u001b[0m \u001b[1m2s\u001b[0m 6ms/step - fidelity_metric: 0.6281 - loss: 0.0254 - mean_squared_error: 0.0036 - val_fidelity_metric: 0.6267 - val_loss: 0.0273 - val_mean_squared_error: 0.0040\n",
            "Epoch 26/300\n",
            "\u001b[1m240/240\u001b[0m \u001b[32m━━━━━━━━━━━━━━━━━━━━\u001b[0m\u001b[37m\u001b[0m \u001b[1m3s\u001b[0m 6ms/step - fidelity_metric: 0.6294 - loss: 0.0246 - mean_squared_error: 0.0034 - val_fidelity_metric: 0.6256 - val_loss: 0.0269 - val_mean_squared_error: 0.0039\n",
            "Epoch 27/300\n",
            "\u001b[1m240/240\u001b[0m \u001b[32m━━━━━━━━━━━━━━━━━━━━\u001b[0m\u001b[37m\u001b[0m \u001b[1m1s\u001b[0m 6ms/step - fidelity_metric: 0.6304 - loss: 0.0243 - mean_squared_error: 0.0033 - val_fidelity_metric: 0.6284 - val_loss: 0.0266 - val_mean_squared_error: 0.0039\n",
            "Epoch 28/300\n",
            "\u001b[1m240/240\u001b[0m \u001b[32m━━━━━━━━━━━━━━━━━━━━\u001b[0m\u001b[37m\u001b[0m \u001b[1m1s\u001b[0m 6ms/step - fidelity_metric: 0.6302 - loss: 0.0237 - mean_squared_error: 0.0031 - val_fidelity_metric: 0.6274 - val_loss: 0.0255 - val_mean_squared_error: 0.0036\n",
            "Epoch 29/300\n",
            "\u001b[1m240/240\u001b[0m \u001b[32m━━━━━━━━━━━━━━━━━━━━\u001b[0m\u001b[37m\u001b[0m \u001b[1m2s\u001b[0m 7ms/step - fidelity_metric: 0.6321 - loss: 0.0231 - mean_squared_error: 0.0030 - val_fidelity_metric: 0.6297 - val_loss: 0.0252 - val_mean_squared_error: 0.0035\n",
            "Epoch 30/300\n",
            "\u001b[1m240/240\u001b[0m \u001b[32m━━━━━━━━━━━━━━━━━━━━\u001b[0m\u001b[37m\u001b[0m \u001b[1m4s\u001b[0m 13ms/step - fidelity_metric: 0.6296 - loss: 0.0230 - mean_squared_error: 0.0030 - val_fidelity_metric: 0.6286 - val_loss: 0.0251 - val_mean_squared_error: 0.0034\n",
            "Epoch 31/300\n",
            "\u001b[1m240/240\u001b[0m \u001b[32m━━━━━━━━━━━━━━━━━━━━\u001b[0m\u001b[37m\u001b[0m \u001b[1m3s\u001b[0m 6ms/step - fidelity_metric: 0.6332 - loss: 0.0224 - mean_squared_error: 0.0028 - val_fidelity_metric: 0.6296 - val_loss: 0.0244 - val_mean_squared_error: 0.0033\n",
            "Epoch 32/300\n",
            "\u001b[1m240/240\u001b[0m \u001b[32m━━━━━━━━━━━━━━━━━━━━\u001b[0m\u001b[37m\u001b[0m \u001b[1m1s\u001b[0m 6ms/step - fidelity_metric: 0.6314 - loss: 0.0219 - mean_squared_error: 0.0027 - val_fidelity_metric: 0.6303 - val_loss: 0.0244 - val_mean_squared_error: 0.0033\n",
            "Epoch 33/300\n",
            "\u001b[1m240/240\u001b[0m \u001b[32m━━━━━━━━━━━━━━━━━━━━\u001b[0m\u001b[37m\u001b[0m \u001b[1m3s\u001b[0m 6ms/step - fidelity_metric: 0.6334 - loss: 0.0216 - mean_squared_error: 0.0027 - val_fidelity_metric: 0.6324 - val_loss: 0.0237 - val_mean_squared_error: 0.0031\n",
            "Epoch 34/300\n",
            "\u001b[1m240/240\u001b[0m \u001b[32m━━━━━━━━━━━━━━━━━━━━\u001b[0m\u001b[37m\u001b[0m \u001b[1m2s\u001b[0m 7ms/step - fidelity_metric: 0.6333 - loss: 0.0216 - mean_squared_error: 0.0027 - val_fidelity_metric: 0.6306 - val_loss: 0.0238 - val_mean_squared_error: 0.0031\n",
            "Epoch 35/300\n",
            "\u001b[1m240/240\u001b[0m \u001b[32m━━━━━━━━━━━━━━━━━━━━\u001b[0m\u001b[37m\u001b[0m \u001b[1m2s\u001b[0m 6ms/step - fidelity_metric: 0.6344 - loss: 0.0210 - mean_squared_error: 0.0025 - val_fidelity_metric: 0.6315 - val_loss: 0.0243 - val_mean_squared_error: 0.0032\n",
            "Epoch 36/300\n",
            "\u001b[1m240/240\u001b[0m \u001b[32m━━━━━━━━━━━━━━━━━━━━\u001b[0m\u001b[37m\u001b[0m \u001b[1m1s\u001b[0m 6ms/step - fidelity_metric: 0.6348 - loss: 0.0211 - mean_squared_error: 0.0025 - val_fidelity_metric: 0.6334 - val_loss: 0.0233 - val_mean_squared_error: 0.0030\n",
            "Epoch 37/300\n",
            "\u001b[1m240/240\u001b[0m \u001b[32m━━━━━━━━━━━━━━━━━━━━\u001b[0m\u001b[37m\u001b[0m \u001b[1m1s\u001b[0m 6ms/step - fidelity_metric: 0.6350 - loss: 0.0208 - mean_squared_error: 0.0025 - val_fidelity_metric: 0.6321 - val_loss: 0.0225 - val_mean_squared_error: 0.0028\n",
            "Epoch 38/300\n",
            "\u001b[1m240/240\u001b[0m \u001b[32m━━━━━━━━━━━━━━━━━━━━\u001b[0m\u001b[37m\u001b[0m \u001b[1m1s\u001b[0m 6ms/step - fidelity_metric: 0.6354 - loss: 0.0199 - mean_squared_error: 0.0022 - val_fidelity_metric: 0.6333 - val_loss: 0.0229 - val_mean_squared_error: 0.0029\n",
            "Epoch 39/300\n",
            "\u001b[1m240/240\u001b[0m \u001b[32m━━━━━━━━━━━━━━━━━━━━\u001b[0m\u001b[37m\u001b[0m \u001b[1m1s\u001b[0m 6ms/step - fidelity_metric: 0.6365 - loss: 0.0197 - mean_squared_error: 0.0021 - val_fidelity_metric: 0.6326 - val_loss: 0.0231 - val_mean_squared_error: 0.0029\n",
            "Epoch 40/300\n",
            "\u001b[1m240/240\u001b[0m \u001b[32m━━━━━━━━━━━━━━━━━━━━\u001b[0m\u001b[37m\u001b[0m \u001b[1m1s\u001b[0m 6ms/step - fidelity_metric: 0.6352 - loss: 0.0197 - mean_squared_error: 0.0022 - val_fidelity_metric: 0.6326 - val_loss: 0.0229 - val_mean_squared_error: 0.0028\n",
            "Epoch 41/300\n",
            "\u001b[1m240/240\u001b[0m \u001b[32m━━━━━━━━━━━━━━━━━━━━\u001b[0m\u001b[37m\u001b[0m \u001b[1m3s\u001b[0m 7ms/step - fidelity_metric: 0.6353 - loss: 0.0197 - mean_squared_error: 0.0022 - val_fidelity_metric: 0.6335 - val_loss: 0.0219 - val_mean_squared_error: 0.0026\n",
            "Epoch 42/300\n",
            "\u001b[1m240/240\u001b[0m \u001b[32m━━━━━━━━━━━━━━━━━━━━\u001b[0m\u001b[37m\u001b[0m \u001b[1m2s\u001b[0m 6ms/step - fidelity_metric: 0.6384 - loss: 0.0193 - mean_squared_error: 0.0021 - val_fidelity_metric: 0.6360 - val_loss: 0.0220 - val_mean_squared_error: 0.0027\n",
            "Epoch 43/300\n",
            "\u001b[1m240/240\u001b[0m \u001b[32m━━━━━━━━━━━━━━━━━━━━\u001b[0m\u001b[37m\u001b[0m \u001b[1m1s\u001b[0m 6ms/step - fidelity_metric: 0.6390 - loss: 0.0189 - mean_squared_error: 0.0020 - val_fidelity_metric: 0.6351 - val_loss: 0.0217 - val_mean_squared_error: 0.0026\n",
            "Epoch 44/300\n",
            "\u001b[1m240/240\u001b[0m \u001b[32m━━━━━━━━━━━━━━━━━━━━\u001b[0m\u001b[37m\u001b[0m \u001b[1m1s\u001b[0m 6ms/step - fidelity_metric: 0.6376 - loss: 0.0187 - mean_squared_error: 0.0020 - val_fidelity_metric: 0.6352 - val_loss: 0.0218 - val_mean_squared_error: 0.0026\n",
            "Epoch 45/300\n",
            "\u001b[1m240/240\u001b[0m \u001b[32m━━━━━━━━━━━━━━━━━━━━\u001b[0m\u001b[37m\u001b[0m \u001b[1m1s\u001b[0m 6ms/step - fidelity_metric: 0.6382 - loss: 0.0187 - mean_squared_error: 0.0020 - val_fidelity_metric: 0.6348 - val_loss: 0.0211 - val_mean_squared_error: 0.0025\n",
            "Epoch 46/300\n",
            "\u001b[1m240/240\u001b[0m \u001b[32m━━━━━━━━━━━━━━━━━━━━\u001b[0m\u001b[37m\u001b[0m \u001b[1m1s\u001b[0m 6ms/step - fidelity_metric: 0.6374 - loss: 0.0186 - mean_squared_error: 0.0020 - val_fidelity_metric: 0.6355 - val_loss: 0.0214 - val_mean_squared_error: 0.0025\n",
            "Epoch 47/300\n",
            "\u001b[1m240/240\u001b[0m \u001b[32m━━━━━━━━━━━━━━━━━━━━\u001b[0m\u001b[37m\u001b[0m \u001b[1m3s\u001b[0m 6ms/step - fidelity_metric: 0.6379 - loss: 0.0184 - mean_squared_error: 0.0019 - val_fidelity_metric: 0.6346 - val_loss: 0.0210 - val_mean_squared_error: 0.0025\n",
            "Epoch 48/300\n",
            "\u001b[1m240/240\u001b[0m \u001b[32m━━━━━━━━━━━━━━━━━━━━\u001b[0m\u001b[37m\u001b[0m \u001b[1m2s\u001b[0m 7ms/step - fidelity_metric: 0.6371 - loss: 0.0181 - mean_squared_error: 0.0019 - val_fidelity_metric: 0.6353 - val_loss: 0.0215 - val_mean_squared_error: 0.0026\n",
            "Epoch 49/300\n",
            "\u001b[1m240/240\u001b[0m \u001b[32m━━━━━━━━━━━━━━━━━━━━\u001b[0m\u001b[37m\u001b[0m \u001b[1m2s\u001b[0m 6ms/step - fidelity_metric: 0.6377 - loss: 0.0179 - mean_squared_error: 0.0018 - val_fidelity_metric: 0.6360 - val_loss: 0.0208 - val_mean_squared_error: 0.0024\n",
            "Epoch 50/300\n",
            "\u001b[1m240/240\u001b[0m \u001b[32m━━━━━━━━━━━━━━━━━━━━\u001b[0m\u001b[37m\u001b[0m \u001b[1m3s\u001b[0m 6ms/step - fidelity_metric: 0.6382 - loss: 0.0177 - mean_squared_error: 0.0018 - val_fidelity_metric: 0.6351 - val_loss: 0.0206 - val_mean_squared_error: 0.0024\n",
            "Epoch 51/300\n",
            "\u001b[1m240/240\u001b[0m \u001b[32m━━━━━━━━━━━━━━━━━━━━\u001b[0m\u001b[37m\u001b[0m \u001b[1m3s\u001b[0m 6ms/step - fidelity_metric: 0.6399 - loss: 0.0174 - mean_squared_error: 0.0017 - val_fidelity_metric: 0.6353 - val_loss: 0.0210 - val_mean_squared_error: 0.0024\n",
            "Epoch 52/300\n",
            "\u001b[1m240/240\u001b[0m \u001b[32m━━━━━━━━━━━━━━━━━━━━\u001b[0m\u001b[37m\u001b[0m \u001b[1m2s\u001b[0m 6ms/step - fidelity_metric: 0.6392 - loss: 0.0179 - mean_squared_error: 0.0018 - val_fidelity_metric: 0.6346 - val_loss: 0.0208 - val_mean_squared_error: 0.0024\n",
            "Epoch 53/300\n",
            "\u001b[1m240/240\u001b[0m \u001b[32m━━━━━━━━━━━━━━━━━━━━\u001b[0m\u001b[37m\u001b[0m \u001b[1m3s\u001b[0m 8ms/step - fidelity_metric: 0.6386 - loss: 0.0173 - mean_squared_error: 0.0017 - val_fidelity_metric: 0.6352 - val_loss: 0.0206 - val_mean_squared_error: 0.0024\n",
            "Epoch 54/300\n",
            "\u001b[1m240/240\u001b[0m \u001b[32m━━━━━━━━━━━━━━━━━━━━\u001b[0m\u001b[37m\u001b[0m \u001b[1m2s\u001b[0m 7ms/step - fidelity_metric: 0.6387 - loss: 0.0175 - mean_squared_error: 0.0017 - val_fidelity_metric: 0.6375 - val_loss: 0.0204 - val_mean_squared_error: 0.0023\n",
            "Epoch 55/300\n",
            "\u001b[1m240/240\u001b[0m \u001b[32m━━━━━━━━━━━━━━━━━━━━\u001b[0m\u001b[37m\u001b[0m \u001b[1m2s\u001b[0m 6ms/step - fidelity_metric: 0.6410 - loss: 0.0170 - mean_squared_error: 0.0016 - val_fidelity_metric: 0.6368 - val_loss: 0.0201 - val_mean_squared_error: 0.0023\n",
            "Epoch 56/300\n",
            "\u001b[1m240/240\u001b[0m \u001b[32m━━━━━━━━━━━━━━━━━━━━\u001b[0m\u001b[37m\u001b[0m \u001b[1m1s\u001b[0m 6ms/step - fidelity_metric: 0.6402 - loss: 0.0166 - mean_squared_error: 0.0015 - val_fidelity_metric: 0.6371 - val_loss: 0.0200 - val_mean_squared_error: 0.0023\n",
            "Epoch 57/300\n",
            "\u001b[1m240/240\u001b[0m \u001b[32m━━━━━━━━━━━━━━━━━━━━\u001b[0m\u001b[37m\u001b[0m \u001b[1m1s\u001b[0m 6ms/step - fidelity_metric: 0.6392 - loss: 0.0167 - mean_squared_error: 0.0016 - val_fidelity_metric: 0.6347 - val_loss: 0.0211 - val_mean_squared_error: 0.0024\n",
            "Epoch 58/300\n",
            "\u001b[1m240/240\u001b[0m \u001b[32m━━━━━━━━━━━━━━━━━━━━\u001b[0m\u001b[37m\u001b[0m \u001b[1m3s\u001b[0m 6ms/step - fidelity_metric: 0.6383 - loss: 0.0170 - mean_squared_error: 0.0016 - val_fidelity_metric: 0.6370 - val_loss: 0.0203 - val_mean_squared_error: 0.0023\n",
            "Epoch 59/300\n",
            "\u001b[1m240/240\u001b[0m \u001b[32m━━━━━━━━━━━━━━━━━━━━\u001b[0m\u001b[37m\u001b[0m \u001b[1m1s\u001b[0m 6ms/step - fidelity_metric: 0.6413 - loss: 0.0167 - mean_squared_error: 0.0016 - val_fidelity_metric: 0.6364 - val_loss: 0.0200 - val_mean_squared_error: 0.0022\n",
            "Epoch 60/300\n",
            "\u001b[1m240/240\u001b[0m \u001b[32m━━━━━━━━━━━━━━━━━━━━\u001b[0m\u001b[37m\u001b[0m \u001b[1m2s\u001b[0m 8ms/step - fidelity_metric: 0.6398 - loss: 0.0166 - mean_squared_error: 0.0016 - val_fidelity_metric: 0.6363 - val_loss: 0.0211 - val_mean_squared_error: 0.0024\n",
            "Epoch 61/300\n",
            "\u001b[1m240/240\u001b[0m \u001b[32m━━━━━━━━━━━━━━━━━━━━\u001b[0m\u001b[37m\u001b[0m \u001b[1m2s\u001b[0m 7ms/step - fidelity_metric: 0.6402 - loss: 0.0167 - mean_squared_error: 0.0015 - val_fidelity_metric: 0.6369 - val_loss: 0.0196 - val_mean_squared_error: 0.0021\n",
            "Epoch 62/300\n",
            "\u001b[1m240/240\u001b[0m \u001b[32m━━━━━━━━━━━━━━━━━━━━\u001b[0m\u001b[37m\u001b[0m \u001b[1m2s\u001b[0m 6ms/step - fidelity_metric: 0.6412 - loss: 0.0163 - mean_squared_error: 0.0015 - val_fidelity_metric: 0.6372 - val_loss: 0.0199 - val_mean_squared_error: 0.0022\n",
            "Epoch 63/300\n",
            "\u001b[1m240/240\u001b[0m \u001b[32m━━━━━━━━━━━━━━━━━━━━\u001b[0m\u001b[37m\u001b[0m \u001b[1m1s\u001b[0m 6ms/step - fidelity_metric: 0.6414 - loss: 0.0160 - mean_squared_error: 0.0015 - val_fidelity_metric: 0.6377 - val_loss: 0.0192 - val_mean_squared_error: 0.0021\n",
            "Epoch 64/300\n",
            "\u001b[1m240/240\u001b[0m \u001b[32m━━━━━━━━━━━━━━━━━━━━\u001b[0m\u001b[37m\u001b[0m \u001b[1m1s\u001b[0m 6ms/step - fidelity_metric: 0.6381 - loss: 0.0158 - mean_squared_error: 0.0014 - val_fidelity_metric: 0.6369 - val_loss: 0.0196 - val_mean_squared_error: 0.0022\n",
            "Epoch 65/300\n",
            "\u001b[1m240/240\u001b[0m \u001b[32m━━━━━━━━━━━━━━━━━━━━\u001b[0m\u001b[37m\u001b[0m \u001b[1m1s\u001b[0m 6ms/step - fidelity_metric: 0.6397 - loss: 0.0160 - mean_squared_error: 0.0015 - val_fidelity_metric: 0.6374 - val_loss: 0.0196 - val_mean_squared_error: 0.0022\n",
            "Epoch 66/300\n",
            "\u001b[1m240/240\u001b[0m \u001b[32m━━━━━━━━━━━━━━━━━━━━\u001b[0m\u001b[37m\u001b[0m \u001b[1m3s\u001b[0m 6ms/step - fidelity_metric: 0.6400 - loss: 0.0158 - mean_squared_error: 0.0014 - val_fidelity_metric: 0.6379 - val_loss: 0.0192 - val_mean_squared_error: 0.0021\n",
            "Epoch 67/300\n",
            "\u001b[1m240/240\u001b[0m \u001b[32m━━━━━━━━━━━━━━━━━━━━\u001b[0m\u001b[37m\u001b[0m \u001b[1m3s\u001b[0m 9ms/step - fidelity_metric: 0.6400 - loss: 0.0157 - mean_squared_error: 0.0014 - val_fidelity_metric: 0.6369 - val_loss: 0.0199 - val_mean_squared_error: 0.0022\n",
            "Epoch 68/300\n",
            "\u001b[1m240/240\u001b[0m \u001b[32m━━━━━━━━━━━━━━━━━━━━\u001b[0m\u001b[37m\u001b[0m \u001b[1m1s\u001b[0m 6ms/step - fidelity_metric: 0.6408 - loss: 0.0159 - mean_squared_error: 0.0014 - val_fidelity_metric: 0.6365 - val_loss: 0.0194 - val_mean_squared_error: 0.0021\n",
            "Epoch 69/300\n",
            "\u001b[1m240/240\u001b[0m \u001b[32m━━━━━━━━━━━━━━━━━━━━\u001b[0m\u001b[37m\u001b[0m \u001b[1m3s\u001b[0m 6ms/step - fidelity_metric: 0.6404 - loss: 0.0154 - mean_squared_error: 0.0013 - val_fidelity_metric: 0.6379 - val_loss: 0.0194 - val_mean_squared_error: 0.0021\n",
            "Epoch 70/300\n",
            "\u001b[1m240/240\u001b[0m \u001b[32m━━━━━━━━━━━━━━━━━━━━\u001b[0m\u001b[37m\u001b[0m \u001b[1m2s\u001b[0m 6ms/step - fidelity_metric: 0.6415 - loss: 0.0158 - mean_squared_error: 0.0014 - val_fidelity_metric: 0.6365 - val_loss: 0.0195 - val_mean_squared_error: 0.0021\n",
            "Epoch 71/300\n",
            "\u001b[1m240/240\u001b[0m \u001b[32m━━━━━━━━━━━━━━━━━━━━\u001b[0m\u001b[37m\u001b[0m \u001b[1m3s\u001b[0m 6ms/step - fidelity_metric: 0.6413 - loss: 0.0154 - mean_squared_error: 0.0013 - val_fidelity_metric: 0.6366 - val_loss: 0.0191 - val_mean_squared_error: 0.0021\n",
            "Epoch 72/300\n",
            "\u001b[1m240/240\u001b[0m \u001b[32m━━━━━━━━━━━━━━━━━━━━\u001b[0m\u001b[37m\u001b[0m \u001b[1m3s\u001b[0m 9ms/step - fidelity_metric: 0.6403 - loss: 0.0153 - mean_squared_error: 0.0013 - val_fidelity_metric: 0.6368 - val_loss: 0.0200 - val_mean_squared_error: 0.0022\n",
            "Epoch 73/300\n",
            "\u001b[1m240/240\u001b[0m \u001b[32m━━━━━━━━━━━━━━━━━━━━\u001b[0m\u001b[37m\u001b[0m \u001b[1m1s\u001b[0m 6ms/step - fidelity_metric: 0.6404 - loss: 0.0154 - mean_squared_error: 0.0013 - val_fidelity_metric: 0.6386 - val_loss: 0.0190 - val_mean_squared_error: 0.0021\n",
            "Epoch 74/300\n",
            "\u001b[1m240/240\u001b[0m \u001b[32m━━━━━━━━━━━━━━━━━━━━\u001b[0m\u001b[37m\u001b[0m \u001b[1m1s\u001b[0m 6ms/step - fidelity_metric: 0.6417 - loss: 0.0151 - mean_squared_error: 0.0013 - val_fidelity_metric: 0.6377 - val_loss: 0.0191 - val_mean_squared_error: 0.0020\n",
            "Epoch 75/300\n",
            "\u001b[1m240/240\u001b[0m \u001b[32m━━━━━━━━━━━━━━━━━━━━\u001b[0m\u001b[37m\u001b[0m \u001b[1m1s\u001b[0m 6ms/step - fidelity_metric: 0.6403 - loss: 0.0152 - mean_squared_error: 0.0013 - val_fidelity_metric: 0.6385 - val_loss: 0.0193 - val_mean_squared_error: 0.0021\n",
            "Epoch 76/300\n",
            "\u001b[1m240/240\u001b[0m \u001b[32m━━━━━━━━━━━━━━━━━━━━\u001b[0m\u001b[37m\u001b[0m \u001b[1m3s\u001b[0m 6ms/step - fidelity_metric: 0.6413 - loss: 0.0150 - mean_squared_error: 0.0013 - val_fidelity_metric: 0.6381 - val_loss: 0.0198 - val_mean_squared_error: 0.0021\n",
            "Epoch 77/300\n",
            "\u001b[1m240/240\u001b[0m \u001b[32m━━━━━━━━━━━━━━━━━━━━\u001b[0m\u001b[37m\u001b[0m \u001b[1m1s\u001b[0m 6ms/step - fidelity_metric: 0.6417 - loss: 0.0152 - mean_squared_error: 0.0013 - val_fidelity_metric: 0.6386 - val_loss: 0.0188 - val_mean_squared_error: 0.0020\n",
            "Epoch 78/300\n",
            "\u001b[1m240/240\u001b[0m \u001b[32m━━━━━━━━━━━━━━━━━━━━\u001b[0m\u001b[37m\u001b[0m \u001b[1m1s\u001b[0m 6ms/step - fidelity_metric: 0.6421 - loss: 0.0149 - mean_squared_error: 0.0012 - val_fidelity_metric: 0.6388 - val_loss: 0.0195 - val_mean_squared_error: 0.0021\n",
            "Epoch 79/300\n",
            "\u001b[1m240/240\u001b[0m \u001b[32m━━━━━━━━━━━━━━━━━━━━\u001b[0m\u001b[37m\u001b[0m \u001b[1m3s\u001b[0m 8ms/step - fidelity_metric: 0.6416 - loss: 0.0147 - mean_squared_error: 0.0012 - val_fidelity_metric: 0.6388 - val_loss: 0.0184 - val_mean_squared_error: 0.0019\n",
            "Epoch 80/300\n",
            "\u001b[1m240/240\u001b[0m \u001b[32m━━━━━━━━━━━━━━━━━━━━\u001b[0m\u001b[37m\u001b[0m \u001b[1m1s\u001b[0m 6ms/step - fidelity_metric: 0.6408 - loss: 0.0145 - mean_squared_error: 0.0012 - val_fidelity_metric: 0.6389 - val_loss: 0.0188 - val_mean_squared_error: 0.0020\n",
            "Epoch 81/300\n",
            "\u001b[1m240/240\u001b[0m \u001b[32m━━━━━━━━━━━━━━━━━━━━\u001b[0m\u001b[37m\u001b[0m \u001b[1m2s\u001b[0m 6ms/step - fidelity_metric: 0.6414 - loss: 0.0146 - mean_squared_error: 0.0012 - val_fidelity_metric: 0.6386 - val_loss: 0.0188 - val_mean_squared_error: 0.0020\n",
            "Epoch 82/300\n",
            "\u001b[1m240/240\u001b[0m \u001b[32m━━━━━━━━━━━━━━━━━━━━\u001b[0m\u001b[37m\u001b[0m \u001b[1m1s\u001b[0m 6ms/step - fidelity_metric: 0.6427 - loss: 0.0146 - mean_squared_error: 0.0012 - val_fidelity_metric: 0.6385 - val_loss: 0.0188 - val_mean_squared_error: 0.0020\n",
            "Epoch 83/300\n",
            "\u001b[1m240/240\u001b[0m \u001b[32m━━━━━━━━━━━━━━━━━━━━\u001b[0m\u001b[37m\u001b[0m \u001b[1m1s\u001b[0m 6ms/step - fidelity_metric: 0.6429 - loss: 0.0147 - mean_squared_error: 0.0012 - val_fidelity_metric: 0.6381 - val_loss: 0.0186 - val_mean_squared_error: 0.0019\n",
            "Epoch 84/300\n",
            "\u001b[1m240/240\u001b[0m \u001b[32m━━━━━━━━━━━━━━━━━━━━\u001b[0m\u001b[37m\u001b[0m \u001b[1m2s\u001b[0m 6ms/step - fidelity_metric: 0.6423 - loss: 0.0144 - mean_squared_error: 0.0012 - val_fidelity_metric: 0.6388 - val_loss: 0.0188 - val_mean_squared_error: 0.0019\n",
            "Epoch 85/300\n",
            "\u001b[1m240/240\u001b[0m \u001b[32m━━━━━━━━━━━━━━━━━━━━\u001b[0m\u001b[37m\u001b[0m \u001b[1m2s\u001b[0m 8ms/step - fidelity_metric: 0.6415 - loss: 0.0145 - mean_squared_error: 0.0012 - val_fidelity_metric: 0.6387 - val_loss: 0.0185 - val_mean_squared_error: 0.0020\n",
            "Epoch 86/300\n",
            "\u001b[1m240/240\u001b[0m \u001b[32m━━━━━━━━━━━━━━━━━━━━\u001b[0m\u001b[37m\u001b[0m \u001b[1m2s\u001b[0m 8ms/step - fidelity_metric: 0.6422 - loss: 0.0142 - mean_squared_error: 0.0011 - val_fidelity_metric: 0.6383 - val_loss: 0.0187 - val_mean_squared_error: 0.0020\n",
            "Epoch 87/300\n",
            "\u001b[1m240/240\u001b[0m \u001b[32m━━━━━━━━━━━━━━━━━━━━\u001b[0m\u001b[37m\u001b[0m \u001b[1m2s\u001b[0m 6ms/step - fidelity_metric: 0.6432 - loss: 0.0144 - mean_squared_error: 0.0012 - val_fidelity_metric: 0.6384 - val_loss: 0.0188 - val_mean_squared_error: 0.0019\n",
            "Epoch 88/300\n",
            "\u001b[1m240/240\u001b[0m \u001b[32m━━━━━━━━━━━━━━━━━━━━\u001b[0m\u001b[37m\u001b[0m \u001b[1m1s\u001b[0m 6ms/step - fidelity_metric: 0.6424 - loss: 0.0141 - mean_squared_error: 0.0011 - val_fidelity_metric: 0.6383 - val_loss: 0.0189 - val_mean_squared_error: 0.0020\n",
            "Epoch 89/300\n",
            "\u001b[1m240/240\u001b[0m \u001b[32m━━━━━━━━━━━━━━━━━━━━\u001b[0m\u001b[37m\u001b[0m \u001b[1m1s\u001b[0m 6ms/step - fidelity_metric: 0.6426 - loss: 0.0145 - mean_squared_error: 0.0012 - val_fidelity_metric: 0.6375 - val_loss: 0.0191 - val_mean_squared_error: 0.0020\n",
            "Epoch 90/300\n",
            "\u001b[1m240/240\u001b[0m \u001b[32m━━━━━━━━━━━━━━━━━━━━\u001b[0m\u001b[37m\u001b[0m \u001b[1m2s\u001b[0m 6ms/step - fidelity_metric: 0.6416 - loss: 0.0141 - mean_squared_error: 0.0011 - val_fidelity_metric: 0.6391 - val_loss: 0.0184 - val_mean_squared_error: 0.0019\n",
            "Epoch 91/300\n",
            "\u001b[1m240/240\u001b[0m \u001b[32m━━━━━━━━━━━━━━━━━━━━\u001b[0m\u001b[37m\u001b[0m \u001b[1m1s\u001b[0m 6ms/step - fidelity_metric: 0.6417 - loss: 0.0140 - mean_squared_error: 0.0011 - val_fidelity_metric: 0.6387 - val_loss: 0.0187 - val_mean_squared_error: 0.0019\n",
            "Epoch 92/300\n",
            "\u001b[1m240/240\u001b[0m \u001b[32m━━━━━━━━━━━━━━━━━━━━\u001b[0m\u001b[37m\u001b[0m \u001b[1m3s\u001b[0m 8ms/step - fidelity_metric: 0.6435 - loss: 0.0139 - mean_squared_error: 0.0011 - val_fidelity_metric: 0.6389 - val_loss: 0.0182 - val_mean_squared_error: 0.0019\n",
            "Epoch 93/300\n",
            "\u001b[1m240/240\u001b[0m \u001b[32m━━━━━━━━━━━━━━━━━━━━\u001b[0m\u001b[37m\u001b[0m \u001b[1m2s\u001b[0m 6ms/step - fidelity_metric: 0.6434 - loss: 0.0140 - mean_squared_error: 0.0011 - val_fidelity_metric: 0.6386 - val_loss: 0.0187 - val_mean_squared_error: 0.0019\n",
            "Epoch 94/300\n",
            "\u001b[1m240/240\u001b[0m \u001b[32m━━━━━━━━━━━━━━━━━━━━\u001b[0m\u001b[37m\u001b[0m \u001b[1m1s\u001b[0m 6ms/step - fidelity_metric: 0.6446 - loss: 0.0140 - mean_squared_error: 0.0011 - val_fidelity_metric: 0.6378 - val_loss: 0.0187 - val_mean_squared_error: 0.0020\n",
            "Epoch 95/300\n",
            "\u001b[1m240/240\u001b[0m \u001b[32m━━━━━━━━━━━━━━━━━━━━\u001b[0m\u001b[37m\u001b[0m \u001b[1m3s\u001b[0m 6ms/step - fidelity_metric: 0.6436 - loss: 0.0140 - mean_squared_error: 0.0011 - val_fidelity_metric: 0.6385 - val_loss: 0.0189 - val_mean_squared_error: 0.0020\n",
            "Epoch 96/300\n",
            "\u001b[1m240/240\u001b[0m \u001b[32m━━━━━━━━━━━━━━━━━━━━\u001b[0m\u001b[37m\u001b[0m \u001b[1m1s\u001b[0m 6ms/step - fidelity_metric: 0.6420 - loss: 0.0137 - mean_squared_error: 0.0010 - val_fidelity_metric: 0.6384 - val_loss: 0.0190 - val_mean_squared_error: 0.0020\n",
            "Epoch 97/300\n",
            "\u001b[1m240/240\u001b[0m \u001b[32m━━━━━━━━━━━━━━━━━━━━\u001b[0m\u001b[37m\u001b[0m \u001b[1m1s\u001b[0m 6ms/step - fidelity_metric: 0.6421 - loss: 0.0139 - mean_squared_error: 0.0011 - val_fidelity_metric: 0.6390 - val_loss: 0.0180 - val_mean_squared_error: 0.0018\n",
            "Epoch 98/300\n",
            "\u001b[1m240/240\u001b[0m \u001b[32m━━━━━━━━━━━━━━━━━━━━\u001b[0m\u001b[37m\u001b[0m \u001b[1m1s\u001b[0m 6ms/step - fidelity_metric: 0.6426 - loss: 0.0135 - mean_squared_error: 0.0010 - val_fidelity_metric: 0.6393 - val_loss: 0.0181 - val_mean_squared_error: 0.0018\n",
            "Epoch 99/300\n",
            "\u001b[1m240/240\u001b[0m \u001b[32m━━━━━━━━━━━━━━━━━━━━\u001b[0m\u001b[37m\u001b[0m \u001b[1m3s\u001b[0m 8ms/step - fidelity_metric: 0.6438 - loss: 0.0137 - mean_squared_error: 0.0010 - val_fidelity_metric: 0.6392 - val_loss: 0.0181 - val_mean_squared_error: 0.0018\n",
            "Epoch 100/300\n",
            "\u001b[1m240/240\u001b[0m \u001b[32m━━━━━━━━━━━━━━━━━━━━\u001b[0m\u001b[37m\u001b[0m \u001b[1m1s\u001b[0m 6ms/step - fidelity_metric: 0.6431 - loss: 0.0135 - mean_squared_error: 0.0010 - val_fidelity_metric: 0.6401 - val_loss: 0.0183 - val_mean_squared_error: 0.0018\n",
            "Epoch 101/300\n",
            "\u001b[1m240/240\u001b[0m \u001b[32m━━━━━━━━━━━━━━━━━━━━\u001b[0m\u001b[37m\u001b[0m \u001b[1m3s\u001b[0m 6ms/step - fidelity_metric: 0.6431 - loss: 0.0136 - mean_squared_error: 0.0010 - val_fidelity_metric: 0.6376 - val_loss: 0.0184 - val_mean_squared_error: 0.0019\n",
            "Epoch 102/300\n",
            "\u001b[1m240/240\u001b[0m \u001b[32m━━━━━━━━━━━━━━━━━━━━\u001b[0m\u001b[37m\u001b[0m \u001b[1m1s\u001b[0m 6ms/step - fidelity_metric: 0.6435 - loss: 0.0135 - mean_squared_error: 0.0010 - val_fidelity_metric: 0.6376 - val_loss: 0.0185 - val_mean_squared_error: 0.0019\n",
            "Epoch 103/300\n",
            "\u001b[1m240/240\u001b[0m \u001b[32m━━━━━━━━━━━━━━━━━━━━\u001b[0m\u001b[37m\u001b[0m \u001b[1m1s\u001b[0m 6ms/step - fidelity_metric: 0.6433 - loss: 0.0135 - mean_squared_error: 0.0010 - val_fidelity_metric: 0.6393 - val_loss: 0.0180 - val_mean_squared_error: 0.0018\n",
            "Epoch 104/300\n",
            "\u001b[1m240/240\u001b[0m \u001b[32m━━━━━━━━━━━━━━━━━━━━\u001b[0m\u001b[37m\u001b[0m \u001b[1m1s\u001b[0m 6ms/step - fidelity_metric: 0.6423 - loss: 0.0134 - mean_squared_error: 9.9097e-04 - val_fidelity_metric: 0.6391 - val_loss: 0.0181 - val_mean_squared_error: 0.0018\n",
            "Epoch 105/300\n",
            "\u001b[1m240/240\u001b[0m \u001b[32m━━━━━━━━━━━━━━━━━━━━\u001b[0m\u001b[37m\u001b[0m \u001b[1m3s\u001b[0m 7ms/step - fidelity_metric: 0.6424 - loss: 0.0132 - mean_squared_error: 9.4150e-04 - val_fidelity_metric: 0.6393 - val_loss: 0.0187 - val_mean_squared_error: 0.0019\n",
            "Epoch 106/300\n",
            "\u001b[1m240/240\u001b[0m \u001b[32m━━━━━━━━━━━━━━━━━━━━\u001b[0m\u001b[37m\u001b[0m \u001b[1m2s\u001b[0m 6ms/step - fidelity_metric: 0.6441 - loss: 0.0134 - mean_squared_error: 9.6712e-04 - val_fidelity_metric: 0.6399 - val_loss: 0.0178 - val_mean_squared_error: 0.0018\n",
            "Epoch 107/300\n",
            "\u001b[1m240/240\u001b[0m \u001b[32m━━━━━━━━━━━━━━━━━━━━\u001b[0m\u001b[37m\u001b[0m \u001b[1m3s\u001b[0m 6ms/step - fidelity_metric: 0.6434 - loss: 0.0131 - mean_squared_error: 9.7254e-04 - val_fidelity_metric: 0.6393 - val_loss: 0.0182 - val_mean_squared_error: 0.0018\n",
            "Epoch 108/300\n",
            "\u001b[1m240/240\u001b[0m \u001b[32m━━━━━━━━━━━━━━━━━━━━\u001b[0m\u001b[37m\u001b[0m \u001b[1m2s\u001b[0m 6ms/step - fidelity_metric: 0.6438 - loss: 0.0132 - mean_squared_error: 9.7050e-04 - val_fidelity_metric: 0.6384 - val_loss: 0.0182 - val_mean_squared_error: 0.0018\n",
            "Epoch 109/300\n",
            "\u001b[1m240/240\u001b[0m \u001b[32m━━━━━━━━━━━━━━━━━━━━\u001b[0m\u001b[37m\u001b[0m \u001b[1m1s\u001b[0m 6ms/step - fidelity_metric: 0.6445 - loss: 0.0132 - mean_squared_error: 9.6108e-04 - val_fidelity_metric: 0.6395 - val_loss: 0.0182 - val_mean_squared_error: 0.0019\n",
            "Epoch 110/300\n",
            "\u001b[1m240/240\u001b[0m \u001b[32m━━━━━━━━━━━━━━━━━━━━\u001b[0m\u001b[37m\u001b[0m \u001b[1m1s\u001b[0m 6ms/step - fidelity_metric: 0.6443 - loss: 0.0130 - mean_squared_error: 9.2543e-04 - val_fidelity_metric: 0.6398 - val_loss: 0.0182 - val_mean_squared_error: 0.0018\n",
            "Epoch 111/300\n",
            "\u001b[1m240/240\u001b[0m \u001b[32m━━━━━━━━━━━━━━━━━━━━\u001b[0m\u001b[37m\u001b[0m \u001b[1m4s\u001b[0m 10ms/step - fidelity_metric: 0.6437 - loss: 0.0130 - mean_squared_error: 9.6163e-04 - val_fidelity_metric: 0.6400 - val_loss: 0.0179 - val_mean_squared_error: 0.0018\n",
            "Epoch 112/300\n",
            "\u001b[1m240/240\u001b[0m \u001b[32m━━━━━━━━━━━━━━━━━━━━\u001b[0m\u001b[37m\u001b[0m \u001b[1m2s\u001b[0m 6ms/step - fidelity_metric: 0.6441 - loss: 0.0130 - mean_squared_error: 9.5441e-04 - val_fidelity_metric: 0.6393 - val_loss: 0.0182 - val_mean_squared_error: 0.0018\n",
            "Epoch 113/300\n",
            "\u001b[1m240/240\u001b[0m \u001b[32m━━━━━━━━━━━━━━━━━━━━\u001b[0m\u001b[37m\u001b[0m \u001b[1m1s\u001b[0m 6ms/step - fidelity_metric: 0.6437 - loss: 0.0130 - mean_squared_error: 9.4282e-04 - val_fidelity_metric: 0.6387 - val_loss: 0.0179 - val_mean_squared_error: 0.0018\n",
            "Epoch 114/300\n",
            "\u001b[1m240/240\u001b[0m \u001b[32m━━━━━━━━━━━━━━━━━━━━\u001b[0m\u001b[37m\u001b[0m \u001b[1m1s\u001b[0m 6ms/step - fidelity_metric: 0.6431 - loss: 0.0128 - mean_squared_error: 9.1187e-04 - val_fidelity_metric: 0.6392 - val_loss: 0.0182 - val_mean_squared_error: 0.0019\n",
            "Epoch 115/300\n",
            "\u001b[1m240/240\u001b[0m \u001b[32m━━━━━━━━━━━━━━━━━━━━\u001b[0m\u001b[37m\u001b[0m \u001b[1m3s\u001b[0m 6ms/step - fidelity_metric: 0.6440 - loss: 0.0127 - mean_squared_error: 8.7104e-04 - val_fidelity_metric: 0.6387 - val_loss: 0.0189 - val_mean_squared_error: 0.0020\n",
            "Epoch 116/300\n",
            "\u001b[1m240/240\u001b[0m \u001b[32m━━━━━━━━━━━━━━━━━━━━\u001b[0m\u001b[37m\u001b[0m \u001b[1m3s\u001b[0m 6ms/step - fidelity_metric: 0.6436 - loss: 0.0130 - mean_squared_error: 9.3397e-04 - val_fidelity_metric: 0.6400 - val_loss: 0.0178 - val_mean_squared_error: 0.0017\n",
            "Epoch 117/300\n",
            "\u001b[1m240/240\u001b[0m \u001b[32m━━━━━━━━━━━━━━━━━━━━\u001b[0m\u001b[37m\u001b[0m \u001b[1m2s\u001b[0m 9ms/step - fidelity_metric: 0.6443 - loss: 0.0127 - mean_squared_error: 8.5260e-04 - val_fidelity_metric: 0.6386 - val_loss: 0.0188 - val_mean_squared_error: 0.0019\n",
            "Epoch 118/300\n",
            "\u001b[1m240/240\u001b[0m \u001b[32m━━━━━━━━━━━━━━━━━━━━\u001b[0m\u001b[37m\u001b[0m \u001b[1m2s\u001b[0m 6ms/step - fidelity_metric: 0.6426 - loss: 0.0133 - mean_squared_error: 9.6032e-04 - val_fidelity_metric: 0.6383 - val_loss: 0.0184 - val_mean_squared_error: 0.0019\n",
            "Epoch 119/300\n",
            "\u001b[1m240/240\u001b[0m \u001b[32m━━━━━━━━━━━━━━━━━━━━\u001b[0m\u001b[37m\u001b[0m \u001b[1m3s\u001b[0m 6ms/step - fidelity_metric: 0.6423 - loss: 0.0127 - mean_squared_error: 9.1221e-04 - val_fidelity_metric: 0.6395 - val_loss: 0.0176 - val_mean_squared_error: 0.0018\n",
            "Epoch 120/300\n",
            "\u001b[1m240/240\u001b[0m \u001b[32m━━━━━━━━━━━━━━━━━━━━\u001b[0m\u001b[37m\u001b[0m \u001b[1m3s\u001b[0m 6ms/step - fidelity_metric: 0.6441 - loss: 0.0129 - mean_squared_error: 9.1201e-04 - val_fidelity_metric: 0.6401 - val_loss: 0.0179 - val_mean_squared_error: 0.0018\n",
            "Epoch 121/300\n",
            "\u001b[1m240/240\u001b[0m \u001b[32m━━━━━━━━━━━━━━━━━━━━\u001b[0m\u001b[37m\u001b[0m \u001b[1m1s\u001b[0m 6ms/step - fidelity_metric: 0.6421 - loss: 0.0127 - mean_squared_error: 9.0233e-04 - val_fidelity_metric: 0.6398 - val_loss: 0.0179 - val_mean_squared_error: 0.0018\n",
            "Epoch 122/300\n",
            "\u001b[1m240/240\u001b[0m \u001b[32m━━━━━━━━━━━━━━━━━━━━\u001b[0m\u001b[37m\u001b[0m \u001b[1m1s\u001b[0m 6ms/step - fidelity_metric: 0.6441 - loss: 0.0125 - mean_squared_error: 8.6229e-04 - val_fidelity_metric: 0.6401 - val_loss: 0.0177 - val_mean_squared_error: 0.0018\n",
            "Epoch 123/300\n",
            "\u001b[1m240/240\u001b[0m \u001b[32m━━━━━━━━━━━━━━━━━━━━\u001b[0m\u001b[37m\u001b[0m \u001b[1m2s\u001b[0m 7ms/step - fidelity_metric: 0.6430 - loss: 0.0125 - mean_squared_error: 8.7790e-04 - val_fidelity_metric: 0.6398 - val_loss: 0.0178 - val_mean_squared_error: 0.0018\n",
            "Epoch 124/300\n",
            "\u001b[1m240/240\u001b[0m \u001b[32m━━━━━━━━━━━━━━━━━━━━\u001b[0m\u001b[37m\u001b[0m \u001b[1m2s\u001b[0m 8ms/step - fidelity_metric: 0.6431 - loss: 0.0126 - mean_squared_error: 8.7727e-04 - val_fidelity_metric: 0.6404 - val_loss: 0.0175 - val_mean_squared_error: 0.0017\n",
            "Epoch 125/300\n",
            "\u001b[1m240/240\u001b[0m \u001b[32m━━━━━━━━━━━━━━━━━━━━\u001b[0m\u001b[37m\u001b[0m \u001b[1m1s\u001b[0m 6ms/step - fidelity_metric: 0.6443 - loss: 0.0125 - mean_squared_error: 8.7639e-04 - val_fidelity_metric: 0.6396 - val_loss: 0.0179 - val_mean_squared_error: 0.0018\n",
            "Epoch 126/300\n",
            "\u001b[1m240/240\u001b[0m \u001b[32m━━━━━━━━━━━━━━━━━━━━\u001b[0m\u001b[37m\u001b[0m \u001b[1m1s\u001b[0m 6ms/step - fidelity_metric: 0.6442 - loss: 0.0125 - mean_squared_error: 8.4419e-04 - val_fidelity_metric: 0.6405 - val_loss: 0.0177 - val_mean_squared_error: 0.0017\n",
            "Epoch 127/300\n",
            "\u001b[1m240/240\u001b[0m \u001b[32m━━━━━━━━━━━━━━━━━━━━\u001b[0m\u001b[37m\u001b[0m \u001b[1m1s\u001b[0m 6ms/step - fidelity_metric: 0.6444 - loss: 0.0126 - mean_squared_error: 8.8110e-04 - val_fidelity_metric: 0.6406 - val_loss: 0.0174 - val_mean_squared_error: 0.0017\n",
            "Epoch 128/300\n",
            "\u001b[1m240/240\u001b[0m \u001b[32m━━━━━━━━━━━━━━━━━━━━\u001b[0m\u001b[37m\u001b[0m \u001b[1m3s\u001b[0m 6ms/step - fidelity_metric: 0.6435 - loss: 0.0123 - mean_squared_error: 8.2701e-04 - val_fidelity_metric: 0.6413 - val_loss: 0.0181 - val_mean_squared_error: 0.0018\n",
            "Epoch 129/300\n",
            "\u001b[1m240/240\u001b[0m \u001b[32m━━━━━━━━━━━━━━━━━━━━\u001b[0m\u001b[37m\u001b[0m \u001b[1m3s\u001b[0m 6ms/step - fidelity_metric: 0.6444 - loss: 0.0128 - mean_squared_error: 8.8646e-04 - val_fidelity_metric: 0.6408 - val_loss: 0.0175 - val_mean_squared_error: 0.0017\n",
            "Epoch 130/300\n",
            "\u001b[1m240/240\u001b[0m \u001b[32m━━━━━━━━━━━━━━━━━━━━\u001b[0m\u001b[37m\u001b[0m \u001b[1m2s\u001b[0m 7ms/step - fidelity_metric: 0.6436 - loss: 0.0123 - mean_squared_error: 8.4133e-04 - val_fidelity_metric: 0.6399 - val_loss: 0.0176 - val_mean_squared_error: 0.0017\n",
            "Epoch 131/300\n",
            "\u001b[1m240/240\u001b[0m \u001b[32m━━━━━━━━━━━━━━━━━━━━\u001b[0m\u001b[37m\u001b[0m \u001b[1m2s\u001b[0m 8ms/step - fidelity_metric: 0.6455 - loss: 0.0124 - mean_squared_error: 8.4078e-04 - val_fidelity_metric: 0.6390 - val_loss: 0.0176 - val_mean_squared_error: 0.0018\n",
            "Epoch 132/300\n",
            "\u001b[1m240/240\u001b[0m \u001b[32m━━━━━━━━━━━━━━━━━━━━\u001b[0m\u001b[37m\u001b[0m \u001b[1m1s\u001b[0m 6ms/step - fidelity_metric: 0.6450 - loss: 0.0123 - mean_squared_error: 8.3097e-04 - val_fidelity_metric: 0.6406 - val_loss: 0.0178 - val_mean_squared_error: 0.0018\n",
            "Epoch 133/300\n",
            "\u001b[1m240/240\u001b[0m \u001b[32m━━━━━━━━━━━━━━━━━━━━\u001b[0m\u001b[37m\u001b[0m \u001b[1m1s\u001b[0m 6ms/step - fidelity_metric: 0.6453 - loss: 0.0121 - mean_squared_error: 7.9619e-04 - val_fidelity_metric: 0.6397 - val_loss: 0.0175 - val_mean_squared_error: 0.0017\n",
            "Epoch 134/300\n",
            "\u001b[1m240/240\u001b[0m \u001b[32m━━━━━━━━━━━━━━━━━━━━\u001b[0m\u001b[37m\u001b[0m \u001b[1m3s\u001b[0m 6ms/step - fidelity_metric: 0.6438 - loss: 0.0123 - mean_squared_error: 8.4093e-04 - val_fidelity_metric: 0.6397 - val_loss: 0.0175 - val_mean_squared_error: 0.0017\n",
            "Epoch 135/300\n",
            "\u001b[1m240/240\u001b[0m \u001b[32m━━━━━━━━━━━━━━━━━━━━\u001b[0m\u001b[37m\u001b[0m \u001b[1m3s\u001b[0m 6ms/step - fidelity_metric: 0.6442 - loss: 0.0121 - mean_squared_error: 7.9531e-04 - val_fidelity_metric: 0.6402 - val_loss: 0.0174 - val_mean_squared_error: 0.0017\n",
            "Epoch 136/300\n",
            "\u001b[1m240/240\u001b[0m \u001b[32m━━━━━━━━━━━━━━━━━━━━\u001b[0m\u001b[37m\u001b[0m \u001b[1m3s\u001b[0m 7ms/step - fidelity_metric: 0.6444 - loss: 0.0122 - mean_squared_error: 8.0324e-04 - val_fidelity_metric: 0.6405 - val_loss: 0.0172 - val_mean_squared_error: 0.0017\n",
            "Epoch 137/300\n",
            "\u001b[1m240/240\u001b[0m \u001b[32m━━━━━━━━━━━━━━━━━━━━\u001b[0m\u001b[37m\u001b[0m \u001b[1m2s\u001b[0m 8ms/step - fidelity_metric: 0.6448 - loss: 0.0121 - mean_squared_error: 8.2658e-04 - val_fidelity_metric: 0.6395 - val_loss: 0.0176 - val_mean_squared_error: 0.0017\n",
            "Epoch 138/300\n",
            "\u001b[1m240/240\u001b[0m \u001b[32m━━━━━━━━━━━━━━━━━━━━\u001b[0m\u001b[37m\u001b[0m \u001b[1m2s\u001b[0m 6ms/step - fidelity_metric: 0.6436 - loss: 0.0120 - mean_squared_error: 7.8517e-04 - val_fidelity_metric: 0.6405 - val_loss: 0.0174 - val_mean_squared_error: 0.0017\n",
            "Epoch 139/300\n",
            "\u001b[1m240/240\u001b[0m \u001b[32m━━━━━━━━━━━━━━━━━━━━\u001b[0m\u001b[37m\u001b[0m \u001b[1m1s\u001b[0m 6ms/step - fidelity_metric: 0.6452 - loss: 0.0122 - mean_squared_error: 7.8773e-04 - val_fidelity_metric: 0.6408 - val_loss: 0.0175 - val_mean_squared_error: 0.0017\n",
            "Epoch 140/300\n",
            "\u001b[1m240/240\u001b[0m \u001b[32m━━━━━━━━━━━━━━━━━━━━\u001b[0m\u001b[37m\u001b[0m \u001b[1m2s\u001b[0m 6ms/step - fidelity_metric: 0.6436 - loss: 0.0119 - mean_squared_error: 7.7209e-04 - val_fidelity_metric: 0.6395 - val_loss: 0.0171 - val_mean_squared_error: 0.0017\n",
            "Epoch 141/300\n",
            "\u001b[1m240/240\u001b[0m \u001b[32m━━━━━━━━━━━━━━━━━━━━\u001b[0m\u001b[37m\u001b[0m \u001b[1m1s\u001b[0m 6ms/step - fidelity_metric: 0.6439 - loss: 0.0120 - mean_squared_error: 7.8532e-04 - val_fidelity_metric: 0.6411 - val_loss: 0.0174 - val_mean_squared_error: 0.0017\n",
            "Epoch 142/300\n",
            "\u001b[1m240/240\u001b[0m \u001b[32m━━━━━━━━━━━━━━━━━━━━\u001b[0m\u001b[37m\u001b[0m \u001b[1m3s\u001b[0m 6ms/step - fidelity_metric: 0.6452 - loss: 0.0120 - mean_squared_error: 7.9213e-04 - val_fidelity_metric: 0.6394 - val_loss: 0.0172 - val_mean_squared_error: 0.0017\n",
            "Epoch 143/300\n",
            "\u001b[1m240/240\u001b[0m \u001b[32m━━━━━━━━━━━━━━━━━━━━\u001b[0m\u001b[37m\u001b[0m \u001b[1m2s\u001b[0m 9ms/step - fidelity_metric: 0.6451 - loss: 0.0120 - mean_squared_error: 7.9204e-04 - val_fidelity_metric: 0.6409 - val_loss: 0.0174 - val_mean_squared_error: 0.0017\n",
            "Epoch 144/300\n",
            "\u001b[1m240/240\u001b[0m \u001b[32m━━━━━━━━━━━━━━━━━━━━\u001b[0m\u001b[37m\u001b[0m \u001b[1m2s\u001b[0m 6ms/step - fidelity_metric: 0.6445 - loss: 0.0120 - mean_squared_error: 7.9215e-04 - val_fidelity_metric: 0.6398 - val_loss: 0.0174 - val_mean_squared_error: 0.0017\n",
            "Epoch 145/300\n",
            "\u001b[1m240/240\u001b[0m \u001b[32m━━━━━━━━━━━━━━━━━━━━\u001b[0m\u001b[37m\u001b[0m \u001b[1m1s\u001b[0m 6ms/step - fidelity_metric: 0.6444 - loss: 0.0120 - mean_squared_error: 7.9636e-04 - val_fidelity_metric: 0.6404 - val_loss: 0.0175 - val_mean_squared_error: 0.0017\n",
            "Epoch 146/300\n",
            "\u001b[1m240/240\u001b[0m \u001b[32m━━━━━━━━━━━━━━━━━━━━\u001b[0m\u001b[37m\u001b[0m \u001b[1m3s\u001b[0m 6ms/step - fidelity_metric: 0.6450 - loss: 0.0121 - mean_squared_error: 8.0971e-04 - val_fidelity_metric: 0.6404 - val_loss: 0.0173 - val_mean_squared_error: 0.0017\n",
            "Epoch 147/300\n",
            "\u001b[1m240/240\u001b[0m \u001b[32m━━━━━━━━━━━━━━━━━━━━\u001b[0m\u001b[37m\u001b[0m \u001b[1m1s\u001b[0m 6ms/step - fidelity_metric: 0.6442 - loss: 0.0117 - mean_squared_error: 7.6139e-04 - val_fidelity_metric: 0.6393 - val_loss: 0.0175 - val_mean_squared_error: 0.0017\n",
            "Epoch 148/300\n",
            "\u001b[1m240/240\u001b[0m \u001b[32m━━━━━━━━━━━━━━━━━━━━\u001b[0m\u001b[37m\u001b[0m \u001b[1m3s\u001b[0m 6ms/step - fidelity_metric: 0.6435 - loss: 0.0118 - mean_squared_error: 7.6557e-04 - val_fidelity_metric: 0.6397 - val_loss: 0.0173 - val_mean_squared_error: 0.0017\n",
            "Epoch 149/300\n",
            "\u001b[1m240/240\u001b[0m \u001b[32m━━━━━━━━━━━━━━━━━━━━\u001b[0m\u001b[37m\u001b[0m \u001b[1m3s\u001b[0m 8ms/step - fidelity_metric: 0.6468 - loss: 0.0118 - mean_squared_error: 7.7954e-04 - val_fidelity_metric: 0.6399 - val_loss: 0.0171 - val_mean_squared_error: 0.0017\n",
            "Epoch 150/300\n",
            "\u001b[1m240/240\u001b[0m \u001b[32m━━━━━━━━━━━━━━━━━━━━\u001b[0m\u001b[37m\u001b[0m \u001b[1m2s\u001b[0m 6ms/step - fidelity_metric: 0.6448 - loss: 0.0118 - mean_squared_error: 7.5153e-04 - val_fidelity_metric: 0.6405 - val_loss: 0.0173 - val_mean_squared_error: 0.0017\n",
            "Epoch 151/300\n",
            "\u001b[1m240/240\u001b[0m \u001b[32m━━━━━━━━━━━━━━━━━━━━\u001b[0m\u001b[37m\u001b[0m \u001b[1m1s\u001b[0m 6ms/step - fidelity_metric: 0.6443 - loss: 0.0116 - mean_squared_error: 7.1884e-04 - val_fidelity_metric: 0.6404 - val_loss: 0.0173 - val_mean_squared_error: 0.0017\n",
            "Epoch 152/300\n",
            "\u001b[1m240/240\u001b[0m \u001b[32m━━━━━━━━━━━━━━━━━━━━\u001b[0m\u001b[37m\u001b[0m \u001b[1m3s\u001b[0m 6ms/step - fidelity_metric: 0.6449 - loss: 0.0116 - mean_squared_error: 7.3008e-04 - val_fidelity_metric: 0.6406 - val_loss: 0.0179 - val_mean_squared_error: 0.0017\n",
            "Epoch 153/300\n",
            "\u001b[1m240/240\u001b[0m \u001b[32m━━━━━━━━━━━━━━━━━━━━\u001b[0m\u001b[37m\u001b[0m \u001b[1m1s\u001b[0m 6ms/step - fidelity_metric: 0.6446 - loss: 0.0118 - mean_squared_error: 7.5892e-04 - val_fidelity_metric: 0.6403 - val_loss: 0.0174 - val_mean_squared_error: 0.0017\n",
            "Epoch 154/300\n",
            "\u001b[1m240/240\u001b[0m \u001b[32m━━━━━━━━━━━━━━━━━━━━\u001b[0m\u001b[37m\u001b[0m \u001b[1m1s\u001b[0m 6ms/step - fidelity_metric: 0.6440 - loss: 0.0118 - mean_squared_error: 7.6643e-04 - val_fidelity_metric: 0.6397 - val_loss: 0.0176 - val_mean_squared_error: 0.0017\n",
            "Epoch 155/300\n",
            "\u001b[1m240/240\u001b[0m \u001b[32m━━━━━━━━━━━━━━━━━━━━\u001b[0m\u001b[37m\u001b[0m \u001b[1m3s\u001b[0m 9ms/step - fidelity_metric: 0.6450 - loss: 0.0115 - mean_squared_error: 7.3987e-04 - val_fidelity_metric: 0.6408 - val_loss: 0.0174 - val_mean_squared_error: 0.0017\n",
            "Epoch 156/300\n",
            "\u001b[1m240/240\u001b[0m \u001b[32m━━━━━━━━━━━━━━━━━━━━\u001b[0m\u001b[37m\u001b[0m \u001b[1m2s\u001b[0m 6ms/step - fidelity_metric: 0.6438 - loss: 0.0117 - mean_squared_error: 7.4570e-04 - val_fidelity_metric: 0.6395 - val_loss: 0.0172 - val_mean_squared_error: 0.0016\n",
            "Epoch 157/300\n",
            "\u001b[1m240/240\u001b[0m \u001b[32m━━━━━━━━━━━━━━━━━━━━\u001b[0m\u001b[37m\u001b[0m \u001b[1m3s\u001b[0m 6ms/step - fidelity_metric: 0.6448 - loss: 0.0115 - mean_squared_error: 7.1843e-04 - val_fidelity_metric: 0.6410 - val_loss: 0.0170 - val_mean_squared_error: 0.0016\n",
            "Epoch 158/300\n",
            "\u001b[1m240/240\u001b[0m \u001b[32m━━━━━━━━━━━━━━━━━━━━\u001b[0m\u001b[37m\u001b[0m \u001b[1m1s\u001b[0m 6ms/step - fidelity_metric: 0.6440 - loss: 0.0115 - mean_squared_error: 7.3524e-04 - val_fidelity_metric: 0.6403 - val_loss: 0.0176 - val_mean_squared_error: 0.0017\n",
            "Epoch 159/300\n",
            "\u001b[1m240/240\u001b[0m \u001b[32m━━━━━━━━━━━━━━━━━━━━\u001b[0m\u001b[37m\u001b[0m \u001b[1m3s\u001b[0m 6ms/step - fidelity_metric: 0.6454 - loss: 0.0115 - mean_squared_error: 7.2857e-04 - val_fidelity_metric: 0.6405 - val_loss: 0.0174 - val_mean_squared_error: 0.0017\n",
            "Epoch 160/300\n",
            "\u001b[1m240/240\u001b[0m \u001b[32m━━━━━━━━━━━━━━━━━━━━\u001b[0m\u001b[37m\u001b[0m \u001b[1m1s\u001b[0m 6ms/step - fidelity_metric: 0.6453 - loss: 0.0116 - mean_squared_error: 7.3111e-04 - val_fidelity_metric: 0.6403 - val_loss: 0.0171 - val_mean_squared_error: 0.0017\n",
            "Epoch 161/300\n",
            "\u001b[1m240/240\u001b[0m \u001b[32m━━━━━━━━━━━━━━━━━━━━\u001b[0m\u001b[37m\u001b[0m \u001b[1m2s\u001b[0m 7ms/step - fidelity_metric: 0.6446 - loss: 0.0115 - mean_squared_error: 7.5049e-04 - val_fidelity_metric: 0.6408 - val_loss: 0.0173 - val_mean_squared_error: 0.0017\n",
            "Epoch 162/300\n",
            "\u001b[1m240/240\u001b[0m \u001b[32m━━━━━━━━━━━━━━━━━━━━\u001b[0m\u001b[37m\u001b[0m \u001b[1m2s\u001b[0m 9ms/step - fidelity_metric: 0.6436 - loss: 0.0115 - mean_squared_error: 7.2139e-04 - val_fidelity_metric: 0.6404 - val_loss: 0.0172 - val_mean_squared_error: 0.0017\n",
            "Epoch 163/300\n",
            "\u001b[1m240/240\u001b[0m \u001b[32m━━━━━━━━━━━━━━━━━━━━\u001b[0m\u001b[37m\u001b[0m \u001b[1m2s\u001b[0m 6ms/step - fidelity_metric: 0.6451 - loss: 0.0114 - mean_squared_error: 7.0800e-04 - val_fidelity_metric: 0.6414 - val_loss: 0.0170 - val_mean_squared_error: 0.0016\n",
            "Epoch 164/300\n",
            "\u001b[1m240/240\u001b[0m \u001b[32m━━━━━━━━━━━━━━━━━━━━\u001b[0m\u001b[37m\u001b[0m \u001b[1m1s\u001b[0m 6ms/step - fidelity_metric: 0.6446 - loss: 0.0116 - mean_squared_error: 7.2058e-04 - val_fidelity_metric: 0.6406 - val_loss: 0.0170 - val_mean_squared_error: 0.0016\n",
            "Epoch 165/300\n",
            "\u001b[1m240/240\u001b[0m \u001b[32m━━━━━━━━━━━━━━━━━━━━\u001b[0m\u001b[37m\u001b[0m \u001b[1m1s\u001b[0m 6ms/step - fidelity_metric: 0.6455 - loss: 0.0114 - mean_squared_error: 7.1874e-04 - val_fidelity_metric: 0.6407 - val_loss: 0.0171 - val_mean_squared_error: 0.0017\n",
            "Epoch 166/300\n",
            "\u001b[1m240/240\u001b[0m \u001b[32m━━━━━━━━━━━━━━━━━━━━\u001b[0m\u001b[37m\u001b[0m \u001b[1m2s\u001b[0m 6ms/step - fidelity_metric: 0.6451 - loss: 0.0115 - mean_squared_error: 7.1010e-04 - val_fidelity_metric: 0.6415 - val_loss: 0.0170 - val_mean_squared_error: 0.0016\n",
            "Epoch 167/300\n",
            "\u001b[1m240/240\u001b[0m \u001b[32m━━━━━━━━━━━━━━━━━━━━\u001b[0m\u001b[37m\u001b[0m \u001b[1m1s\u001b[0m 6ms/step - fidelity_metric: 0.6451 - loss: 0.0115 - mean_squared_error: 7.1428e-04 - val_fidelity_metric: 0.6404 - val_loss: 0.0174 - val_mean_squared_error: 0.0017\n",
            "Epoch 168/300\n",
            "\u001b[1m240/240\u001b[0m \u001b[32m━━━━━━━━━━━━━━━━━━━━\u001b[0m\u001b[37m\u001b[0m \u001b[1m3s\u001b[0m 8ms/step - fidelity_metric: 0.6445 - loss: 0.0115 - mean_squared_error: 7.0949e-04 - val_fidelity_metric: 0.6408 - val_loss: 0.0172 - val_mean_squared_error: 0.0016\n",
            "Epoch 169/300\n",
            "\u001b[1m240/240\u001b[0m \u001b[32m━━━━━━━━━━━━━━━━━━━━\u001b[0m\u001b[37m\u001b[0m \u001b[1m2s\u001b[0m 6ms/step - fidelity_metric: 0.6440 - loss: 0.0112 - mean_squared_error: 6.7635e-04 - val_fidelity_metric: 0.6398 - val_loss: 0.0171 - val_mean_squared_error: 0.0017\n",
            "Epoch 170/300\n",
            "\u001b[1m240/240\u001b[0m \u001b[32m━━━━━━━━━━━━━━━━━━━━\u001b[0m\u001b[37m\u001b[0m \u001b[1m1s\u001b[0m 6ms/step - fidelity_metric: 0.6443 - loss: 0.0112 - mean_squared_error: 6.8708e-04 - val_fidelity_metric: 0.6400 - val_loss: 0.0176 - val_mean_squared_error: 0.0017\n",
            "Epoch 171/300\n",
            "\u001b[1m240/240\u001b[0m \u001b[32m━━━━━━━━━━━━━━━━━━━━\u001b[0m\u001b[37m\u001b[0m \u001b[1m1s\u001b[0m 6ms/step - fidelity_metric: 0.6436 - loss: 0.0113 - mean_squared_error: 6.9890e-04 - val_fidelity_metric: 0.6399 - val_loss: 0.0173 - val_mean_squared_error: 0.0016\n",
            "Epoch 172/300\n",
            "\u001b[1m240/240\u001b[0m \u001b[32m━━━━━━━━━━━━━━━━━━━━\u001b[0m\u001b[37m\u001b[0m \u001b[1m1s\u001b[0m 6ms/step - fidelity_metric: 0.6463 - loss: 0.0112 - mean_squared_error: 6.9899e-04 - val_fidelity_metric: 0.6401 - val_loss: 0.0175 - val_mean_squared_error: 0.0017\n",
            "Epoch 173/300\n",
            "\u001b[1m240/240\u001b[0m \u001b[32m━━━━━━━━━━━━━━━━━━━━\u001b[0m\u001b[37m\u001b[0m \u001b[1m2s\u001b[0m 6ms/step - fidelity_metric: 0.6475 - loss: 0.0115 - mean_squared_error: 7.1172e-04 - val_fidelity_metric: 0.6412 - val_loss: 0.0173 - val_mean_squared_error: 0.0017\n",
            "Epoch 174/300\n",
            "\u001b[1m240/240\u001b[0m \u001b[32m━━━━━━━━━━━━━━━━━━━━\u001b[0m\u001b[37m\u001b[0m \u001b[1m1s\u001b[0m 6ms/step - fidelity_metric: 0.6436 - loss: 0.0113 - mean_squared_error: 7.2017e-04 - val_fidelity_metric: 0.6405 - val_loss: 0.0173 - val_mean_squared_error: 0.0017\n",
            "Epoch 175/300\n",
            "\u001b[1m240/240\u001b[0m \u001b[32m━━━━━━━━━━━━━━━━━━━━\u001b[0m\u001b[37m\u001b[0m \u001b[1m2s\u001b[0m 6ms/step - fidelity_metric: 0.6440 - loss: 0.0112 - mean_squared_error: 6.9106e-04 - val_fidelity_metric: 0.6405 - val_loss: 0.0171 - val_mean_squared_error: 0.0016\n",
            "Epoch 176/300\n",
            "\u001b[1m240/240\u001b[0m \u001b[32m━━━━━━━━━━━━━━━━━━━━\u001b[0m\u001b[37m\u001b[0m \u001b[1m2s\u001b[0m 8ms/step - fidelity_metric: 0.6452 - loss: 0.0110 - mean_squared_error: 6.4686e-04 - val_fidelity_metric: 0.6404 - val_loss: 0.0173 - val_mean_squared_error: 0.0017\n",
            "Epoch 177/300\n",
            "\u001b[1m240/240\u001b[0m \u001b[32m━━━━━━━━━━━━━━━━━━━━\u001b[0m\u001b[37m\u001b[0m \u001b[1m2s\u001b[0m 6ms/step - fidelity_metric: 0.6445 - loss: 0.0111 - mean_squared_error: 6.8155e-04 - val_fidelity_metric: 0.6416 - val_loss: 0.0169 - val_mean_squared_error: 0.0016\n",
            "Epoch 178/300\n",
            "\u001b[1m240/240\u001b[0m \u001b[32m━━━━━━━━━━━━━━━━━━━━\u001b[0m\u001b[37m\u001b[0m \u001b[1m2s\u001b[0m 6ms/step - fidelity_metric: 0.6442 - loss: 0.0109 - mean_squared_error: 6.3604e-04 - val_fidelity_metric: 0.6408 - val_loss: 0.0169 - val_mean_squared_error: 0.0016\n",
            "Epoch 179/300\n",
            "\u001b[1m240/240\u001b[0m \u001b[32m━━━━━━━━━━━━━━━━━━━━\u001b[0m\u001b[37m\u001b[0m \u001b[1m3s\u001b[0m 6ms/step - fidelity_metric: 0.6458 - loss: 0.0112 - mean_squared_error: 6.8210e-04 - val_fidelity_metric: 0.6403 - val_loss: 0.0171 - val_mean_squared_error: 0.0016\n",
            "Epoch 180/300\n",
            "\u001b[1m240/240\u001b[0m \u001b[32m━━━━━━━━━━━━━━━━━━━━\u001b[0m\u001b[37m\u001b[0m \u001b[1m1s\u001b[0m 6ms/step - fidelity_metric: 0.6454 - loss: 0.0109 - mean_squared_error: 6.4740e-04 - val_fidelity_metric: 0.6411 - val_loss: 0.0171 - val_mean_squared_error: 0.0016\n",
            "Epoch 181/300\n",
            "\u001b[1m240/240\u001b[0m \u001b[32m━━━━━━━━━━━━━━━━━━━━\u001b[0m\u001b[37m\u001b[0m \u001b[1m3s\u001b[0m 8ms/step - fidelity_metric: 0.6443 - loss: 0.0111 - mean_squared_error: 6.9051e-04 - val_fidelity_metric: 0.6417 - val_loss: 0.0171 - val_mean_squared_error: 0.0016\n",
            "Epoch 182/300\n",
            "\u001b[1m240/240\u001b[0m \u001b[32m━━━━━━━━━━━━━━━━━━━━\u001b[0m\u001b[37m\u001b[0m \u001b[1m3s\u001b[0m 8ms/step - fidelity_metric: 0.6448 - loss: 0.0111 - mean_squared_error: 6.6882e-04 - val_fidelity_metric: 0.6403 - val_loss: 0.0168 - val_mean_squared_error: 0.0016\n",
            "Epoch 183/300\n",
            "\u001b[1m240/240\u001b[0m \u001b[32m━━━━━━━━━━━━━━━━━━━━\u001b[0m\u001b[37m\u001b[0m \u001b[1m2s\u001b[0m 6ms/step - fidelity_metric: 0.6457 - loss: 0.0109 - mean_squared_error: 6.4309e-04 - val_fidelity_metric: 0.6401 - val_loss: 0.0172 - val_mean_squared_error: 0.0017\n",
            "Epoch 184/300\n",
            "\u001b[1m240/240\u001b[0m \u001b[32m━━━━━━━━━━━━━━━━━━━━\u001b[0m\u001b[37m\u001b[0m \u001b[1m3s\u001b[0m 6ms/step - fidelity_metric: 0.6454 - loss: 0.0111 - mean_squared_error: 6.7045e-04 - val_fidelity_metric: 0.6409 - val_loss: 0.0171 - val_mean_squared_error: 0.0017\n",
            "Epoch 185/300\n",
            "\u001b[1m240/240\u001b[0m \u001b[32m━━━━━━━━━━━━━━━━━━━━\u001b[0m\u001b[37m\u001b[0m \u001b[1m1s\u001b[0m 6ms/step - fidelity_metric: 0.6453 - loss: 0.0110 - mean_squared_error: 6.4584e-04 - val_fidelity_metric: 0.6400 - val_loss: 0.0171 - val_mean_squared_error: 0.0016\n",
            "Epoch 186/300\n",
            "\u001b[1m240/240\u001b[0m \u001b[32m━━━━━━━━━━━━━━━━━━━━\u001b[0m\u001b[37m\u001b[0m \u001b[1m1s\u001b[0m 6ms/step - fidelity_metric: 0.6461 - loss: 0.0108 - mean_squared_error: 6.2846e-04 - val_fidelity_metric: 0.6413 - val_loss: 0.0170 - val_mean_squared_error: 0.0016\n",
            "Epoch 187/300\n",
            "\u001b[1m240/240\u001b[0m \u001b[32m━━━━━━━━━━━━━━━━━━━━\u001b[0m\u001b[37m\u001b[0m \u001b[1m1s\u001b[0m 6ms/step - fidelity_metric: 0.6442 - loss: 0.0111 - mean_squared_error: 6.5646e-04 - val_fidelity_metric: 0.6408 - val_loss: 0.0170 - val_mean_squared_error: 0.0016\n",
            "Epoch 188/300\n",
            "\u001b[1m240/240\u001b[0m \u001b[32m━━━━━━━━━━━━━━━━━━━━\u001b[0m\u001b[37m\u001b[0m \u001b[1m2s\u001b[0m 9ms/step - fidelity_metric: 0.6442 - loss: 0.0110 - mean_squared_error: 6.5807e-04 - val_fidelity_metric: 0.6403 - val_loss: 0.0171 - val_mean_squared_error: 0.0016\n",
            "Epoch 189/300\n",
            "\u001b[1m240/240\u001b[0m \u001b[32m━━━━━━━━━━━━━━━━━━━━\u001b[0m\u001b[37m\u001b[0m \u001b[1m2s\u001b[0m 6ms/step - fidelity_metric: 0.6455 - loss: 0.0111 - mean_squared_error: 6.6750e-04 - val_fidelity_metric: 0.6411 - val_loss: 0.0168 - val_mean_squared_error: 0.0016\n",
            "Epoch 190/300\n",
            "\u001b[1m240/240\u001b[0m \u001b[32m━━━━━━━━━━━━━━━━━━━━\u001b[0m\u001b[37m\u001b[0m \u001b[1m1s\u001b[0m 6ms/step - fidelity_metric: 0.6453 - loss: 0.0108 - mean_squared_error: 6.1830e-04 - val_fidelity_metric: 0.6403 - val_loss: 0.0173 - val_mean_squared_error: 0.0017\n",
            "Epoch 191/300\n",
            "\u001b[1m240/240\u001b[0m \u001b[32m━━━━━━━━━━━━━━━━━━━━\u001b[0m\u001b[37m\u001b[0m \u001b[1m1s\u001b[0m 6ms/step - fidelity_metric: 0.6449 - loss: 0.0108 - mean_squared_error: 6.4606e-04 - val_fidelity_metric: 0.6405 - val_loss: 0.0174 - val_mean_squared_error: 0.0017\n",
            "Epoch 192/300\n",
            "\u001b[1m240/240\u001b[0m \u001b[32m━━━━━━━━━━━━━━━━━━━━\u001b[0m\u001b[37m\u001b[0m \u001b[1m1s\u001b[0m 6ms/step - fidelity_metric: 0.6452 - loss: 0.0111 - mean_squared_error: 6.6523e-04 - val_fidelity_metric: 0.6403 - val_loss: 0.0170 - val_mean_squared_error: 0.0016\n",
            "Epoch 193/300\n",
            "\u001b[1m240/240\u001b[0m \u001b[32m━━━━━━━━━━━━━━━━━━━━\u001b[0m\u001b[37m\u001b[0m \u001b[1m1s\u001b[0m 6ms/step - fidelity_metric: 0.6455 - loss: 0.0109 - mean_squared_error: 6.3560e-04 - val_fidelity_metric: 0.6401 - val_loss: 0.0171 - val_mean_squared_error: 0.0016\n",
            "Epoch 194/300\n",
            "\u001b[1m240/240\u001b[0m \u001b[32m━━━━━━━━━━━━━━━━━━━━\u001b[0m\u001b[37m\u001b[0m \u001b[1m1s\u001b[0m 6ms/step - fidelity_metric: 0.6452 - loss: 0.0107 - mean_squared_error: 6.3053e-04 - val_fidelity_metric: 0.6406 - val_loss: 0.0169 - val_mean_squared_error: 0.0016\n",
            "Epoch 195/300\n",
            "\u001b[1m240/240\u001b[0m \u001b[32m━━━━━━━━━━━━━━━━━━━━\u001b[0m\u001b[37m\u001b[0m \u001b[1m3s\u001b[0m 9ms/step - fidelity_metric: 0.6446 - loss: 0.0109 - mean_squared_error: 6.3007e-04 - val_fidelity_metric: 0.6403 - val_loss: 0.0171 - val_mean_squared_error: 0.0016\n",
            "Epoch 196/300\n",
            "\u001b[1m240/240\u001b[0m \u001b[32m━━━━━━━━━━━━━━━━━━━━\u001b[0m\u001b[37m\u001b[0m \u001b[1m2s\u001b[0m 7ms/step - fidelity_metric: 0.6452 - loss: 0.0108 - mean_squared_error: 6.2698e-04 - val_fidelity_metric: 0.6397 - val_loss: 0.0176 - val_mean_squared_error: 0.0017\n",
            "Epoch 197/300\n",
            "\u001b[1m240/240\u001b[0m \u001b[32m━━━━━━━━━━━━━━━━━━━━\u001b[0m\u001b[37m\u001b[0m \u001b[1m1s\u001b[0m 6ms/step - fidelity_metric: 0.6448 - loss: 0.0109 - mean_squared_error: 6.3601e-04 - val_fidelity_metric: 0.6407 - val_loss: 0.0178 - val_mean_squared_error: 0.0017\n",
            "Epoch 198/300\n",
            "\u001b[1m240/240\u001b[0m \u001b[32m━━━━━━━━━━━━━━━━━━━━\u001b[0m\u001b[37m\u001b[0m \u001b[1m1s\u001b[0m 6ms/step - fidelity_metric: 0.6445 - loss: 0.0109 - mean_squared_error: 6.2922e-04 - val_fidelity_metric: 0.6407 - val_loss: 0.0170 - val_mean_squared_error: 0.0016\n",
            "Epoch 199/300\n",
            "\u001b[1m240/240\u001b[0m \u001b[32m━━━━━━━━━━━━━━━━━━━━\u001b[0m\u001b[37m\u001b[0m \u001b[1m3s\u001b[0m 6ms/step - fidelity_metric: 0.6446 - loss: 0.0108 - mean_squared_error: 6.3606e-04 - val_fidelity_metric: 0.6408 - val_loss: 0.0171 - val_mean_squared_error: 0.0016\n",
            "Epoch 200/300\n",
            "\u001b[1m240/240\u001b[0m \u001b[32m━━━━━━━━━━━━━━━━━━━━\u001b[0m\u001b[37m\u001b[0m \u001b[1m3s\u001b[0m 6ms/step - fidelity_metric: 0.6446 - loss: 0.0108 - mean_squared_error: 6.2615e-04 - val_fidelity_metric: 0.6409 - val_loss: 0.0173 - val_mean_squared_error: 0.0017\n",
            "Epoch 201/300\n",
            "\u001b[1m240/240\u001b[0m \u001b[32m━━━━━━━━━━━━━━━━━━━━\u001b[0m\u001b[37m\u001b[0m \u001b[1m3s\u001b[0m 9ms/step - fidelity_metric: 0.6452 - loss: 0.0109 - mean_squared_error: 6.3937e-04 - val_fidelity_metric: 0.6411 - val_loss: 0.0167 - val_mean_squared_error: 0.0016\n",
            "Epoch 202/300\n",
            "\u001b[1m240/240\u001b[0m \u001b[32m━━━━━━━━━━━━━━━━━━━━\u001b[0m\u001b[37m\u001b[0m \u001b[1m1s\u001b[0m 6ms/step - fidelity_metric: 0.6447 - loss: 0.0105 - mean_squared_error: 6.1064e-04 - val_fidelity_metric: 0.6402 - val_loss: 0.0169 - val_mean_squared_error: 0.0016\n",
            "Epoch 203/300\n",
            "\u001b[1m240/240\u001b[0m \u001b[32m━━━━━━━━━━━━━━━━━━━━\u001b[0m\u001b[37m\u001b[0m \u001b[1m1s\u001b[0m 6ms/step - fidelity_metric: 0.6446 - loss: 0.0106 - mean_squared_error: 6.1089e-04 - val_fidelity_metric: 0.6408 - val_loss: 0.0169 - val_mean_squared_error: 0.0016\n",
            "Epoch 204/300\n",
            "\u001b[1m240/240\u001b[0m \u001b[32m━━━━━━━━━━━━━━━━━━━━\u001b[0m\u001b[37m\u001b[0m \u001b[1m1s\u001b[0m 6ms/step - fidelity_metric: 0.6455 - loss: 0.0107 - mean_squared_error: 6.1368e-04 - val_fidelity_metric: 0.6407 - val_loss: 0.0169 - val_mean_squared_error: 0.0016\n",
            "Epoch 205/300\n",
            "\u001b[1m240/240\u001b[0m \u001b[32m━━━━━━━━━━━━━━━━━━━━\u001b[0m\u001b[37m\u001b[0m \u001b[1m1s\u001b[0m 6ms/step - fidelity_metric: 0.6451 - loss: 0.0106 - mean_squared_error: 5.9826e-04 - val_fidelity_metric: 0.6402 - val_loss: 0.0169 - val_mean_squared_error: 0.0016\n",
            "Epoch 206/300\n",
            "\u001b[1m240/240\u001b[0m \u001b[32m━━━━━━━━━━━━━━━━━━━━\u001b[0m\u001b[37m\u001b[0m \u001b[1m3s\u001b[0m 6ms/step - fidelity_metric: 0.6451 - loss: 0.0106 - mean_squared_error: 6.2038e-04 - val_fidelity_metric: 0.6405 - val_loss: 0.0166 - val_mean_squared_error: 0.0016\n",
            "Epoch 207/300\n",
            "\u001b[1m240/240\u001b[0m \u001b[32m━━━━━━━━━━━━━━━━━━━━\u001b[0m\u001b[37m\u001b[0m \u001b[1m1s\u001b[0m 6ms/step - fidelity_metric: 0.6470 - loss: 0.0105 - mean_squared_error: 5.9813e-04 - val_fidelity_metric: 0.6407 - val_loss: 0.0171 - val_mean_squared_error: 0.0016\n",
            "Epoch 208/300\n",
            "\u001b[1m240/240\u001b[0m \u001b[32m━━━━━━━━━━━━━━━━━━━━\u001b[0m\u001b[37m\u001b[0m \u001b[1m2s\u001b[0m 9ms/step - fidelity_metric: 0.6452 - loss: 0.0105 - mean_squared_error: 6.0461e-04 - val_fidelity_metric: 0.6415 - val_loss: 0.0168 - val_mean_squared_error: 0.0016\n",
            "Epoch 209/300\n",
            "\u001b[1m240/240\u001b[0m \u001b[32m━━━━━━━━━━━━━━━━━━━━\u001b[0m\u001b[37m\u001b[0m \u001b[1m2s\u001b[0m 7ms/step - fidelity_metric: 0.6454 - loss: 0.0106 - mean_squared_error: 6.0306e-04 - val_fidelity_metric: 0.6418 - val_loss: 0.0167 - val_mean_squared_error: 0.0015\n",
            "Epoch 210/300\n",
            "\u001b[1m240/240\u001b[0m \u001b[32m━━━━━━━━━━━━━━━━━━━━\u001b[0m\u001b[37m\u001b[0m \u001b[1m1s\u001b[0m 6ms/step - fidelity_metric: 0.6446 - loss: 0.0105 - mean_squared_error: 5.9435e-04 - val_fidelity_metric: 0.6398 - val_loss: 0.0171 - val_mean_squared_error: 0.0016\n",
            "Epoch 211/300\n",
            "\u001b[1m240/240\u001b[0m \u001b[32m━━━━━━━━━━━━━━━━━━━━\u001b[0m\u001b[37m\u001b[0m \u001b[1m3s\u001b[0m 6ms/step - fidelity_metric: 0.6452 - loss: 0.0104 - mean_squared_error: 5.8298e-04 - val_fidelity_metric: 0.6392 - val_loss: 0.0175 - val_mean_squared_error: 0.0017\n",
            "Epoch 212/300\n",
            "\u001b[1m240/240\u001b[0m \u001b[32m━━━━━━━━━━━━━━━━━━━━\u001b[0m\u001b[37m\u001b[0m \u001b[1m1s\u001b[0m 6ms/step - fidelity_metric: 0.6451 - loss: 0.0108 - mean_squared_error: 6.3696e-04 - val_fidelity_metric: 0.6411 - val_loss: 0.0167 - val_mean_squared_error: 0.0016\n",
            "Epoch 213/300\n",
            "\u001b[1m240/240\u001b[0m \u001b[32m━━━━━━━━━━━━━━━━━━━━\u001b[0m\u001b[37m\u001b[0m \u001b[1m3s\u001b[0m 6ms/step - fidelity_metric: 0.6445 - loss: 0.0106 - mean_squared_error: 5.9769e-04 - val_fidelity_metric: 0.6412 - val_loss: 0.0167 - val_mean_squared_error: 0.0016\n",
            "Epoch 214/300\n",
            "\u001b[1m240/240\u001b[0m \u001b[32m━━━━━━━━━━━━━━━━━━━━\u001b[0m\u001b[37m\u001b[0m \u001b[1m2s\u001b[0m 9ms/step - fidelity_metric: 0.6456 - loss: 0.0104 - mean_squared_error: 5.9052e-04 - val_fidelity_metric: 0.6398 - val_loss: 0.0169 - val_mean_squared_error: 0.0016\n",
            "Epoch 215/300\n",
            "\u001b[1m240/240\u001b[0m \u001b[32m━━━━━━━━━━━━━━━━━━━━\u001b[0m\u001b[37m\u001b[0m \u001b[1m2s\u001b[0m 8ms/step - fidelity_metric: 0.6456 - loss: 0.0105 - mean_squared_error: 6.0552e-04 - val_fidelity_metric: 0.6402 - val_loss: 0.0173 - val_mean_squared_error: 0.0016\n",
            "Epoch 216/300\n",
            "\u001b[1m240/240\u001b[0m \u001b[32m━━━━━━━━━━━━━━━━━━━━\u001b[0m\u001b[37m\u001b[0m \u001b[1m1s\u001b[0m 6ms/step - fidelity_metric: 0.6450 - loss: 0.0106 - mean_squared_error: 5.9747e-04 - val_fidelity_metric: 0.6409 - val_loss: 0.0170 - val_mean_squared_error: 0.0016\n",
            "Epoch 217/300\n",
            "\u001b[1m240/240\u001b[0m \u001b[32m━━━━━━━━━━━━━━━━━━━━\u001b[0m\u001b[37m\u001b[0m \u001b[1m1s\u001b[0m 6ms/step - fidelity_metric: 0.6472 - loss: 0.0103 - mean_squared_error: 5.6671e-04 - val_fidelity_metric: 0.6420 - val_loss: 0.0169 - val_mean_squared_error: 0.0016\n",
            "Epoch 218/300\n",
            "\u001b[1m240/240\u001b[0m \u001b[32m━━━━━━━━━━━━━━━━━━━━\u001b[0m\u001b[37m\u001b[0m \u001b[1m1s\u001b[0m 6ms/step - fidelity_metric: 0.6462 - loss: 0.0105 - mean_squared_error: 5.8043e-04 - val_fidelity_metric: 0.6400 - val_loss: 0.0173 - val_mean_squared_error: 0.0017\n",
            "Epoch 219/300\n",
            "\u001b[1m240/240\u001b[0m \u001b[32m━━━━━━━━━━━━━━━━━━━━\u001b[0m\u001b[37m\u001b[0m \u001b[1m3s\u001b[0m 6ms/step - fidelity_metric: 0.6455 - loss: 0.0108 - mean_squared_error: 6.2939e-04 - val_fidelity_metric: 0.6412 - val_loss: 0.0169 - val_mean_squared_error: 0.0016\n",
            "Epoch 220/300\n",
            "\u001b[1m240/240\u001b[0m \u001b[32m━━━━━━━━━━━━━━━━━━━━\u001b[0m\u001b[37m\u001b[0m \u001b[1m1s\u001b[0m 6ms/step - fidelity_metric: 0.6471 - loss: 0.0105 - mean_squared_error: 5.7800e-04 - val_fidelity_metric: 0.6399 - val_loss: 0.0168 - val_mean_squared_error: 0.0016\n",
            "Epoch 221/300\n",
            "\u001b[1m240/240\u001b[0m \u001b[32m━━━━━━━━━━━━━━━━━━━━\u001b[0m\u001b[37m\u001b[0m \u001b[1m3s\u001b[0m 8ms/step - fidelity_metric: 0.6449 - loss: 0.0103 - mean_squared_error: 5.6637e-04 - val_fidelity_metric: 0.6414 - val_loss: 0.0167 - val_mean_squared_error: 0.0016\n",
            "Epoch 222/300\n",
            "\u001b[1m240/240\u001b[0m \u001b[32m━━━━━━━━━━━━━━━━━━━━\u001b[0m\u001b[37m\u001b[0m \u001b[1m2s\u001b[0m 8ms/step - fidelity_metric: 0.6446 - loss: 0.0103 - mean_squared_error: 5.6069e-04 - val_fidelity_metric: 0.6410 - val_loss: 0.0170 - val_mean_squared_error: 0.0016\n",
            "Epoch 223/300\n",
            "\u001b[1m240/240\u001b[0m \u001b[32m━━━━━━━━━━━━━━━━━━━━\u001b[0m\u001b[37m\u001b[0m \u001b[1m2s\u001b[0m 6ms/step - fidelity_metric: 0.6449 - loss: 0.0105 - mean_squared_error: 5.9377e-04 - val_fidelity_metric: 0.6410 - val_loss: 0.0170 - val_mean_squared_error: 0.0016\n",
            "Epoch 224/300\n",
            "\u001b[1m240/240\u001b[0m \u001b[32m━━━━━━━━━━━━━━━━━━━━\u001b[0m\u001b[37m\u001b[0m \u001b[1m1s\u001b[0m 6ms/step - fidelity_metric: 0.6454 - loss: 0.0104 - mean_squared_error: 5.8991e-04 - val_fidelity_metric: 0.6413 - val_loss: 0.0169 - val_mean_squared_error: 0.0016\n",
            "Epoch 225/300\n",
            "\u001b[1m240/240\u001b[0m \u001b[32m━━━━━━━━━━━━━━━━━━━━\u001b[0m\u001b[37m\u001b[0m \u001b[1m1s\u001b[0m 6ms/step - fidelity_metric: 0.6441 - loss: 0.0104 - mean_squared_error: 5.7824e-04 - val_fidelity_metric: 0.6404 - val_loss: 0.0170 - val_mean_squared_error: 0.0016\n",
            "Epoch 226/300\n",
            "\u001b[1m240/240\u001b[0m \u001b[32m━━━━━━━━━━━━━━━━━━━━\u001b[0m\u001b[37m\u001b[0m \u001b[1m3s\u001b[0m 6ms/step - fidelity_metric: 0.6469 - loss: 0.0103 - mean_squared_error: 5.8664e-04 - val_fidelity_metric: 0.6406 - val_loss: 0.0168 - val_mean_squared_error: 0.0016\n",
            "Epoch 227/300\n",
            "\u001b[1m240/240\u001b[0m \u001b[32m━━━━━━━━━━━━━━━━━━━━\u001b[0m\u001b[37m\u001b[0m \u001b[1m1s\u001b[0m 6ms/step - fidelity_metric: 0.6454 - loss: 0.0105 - mean_squared_error: 6.0499e-04 - val_fidelity_metric: 0.6412 - val_loss: 0.0169 - val_mean_squared_error: 0.0016\n",
            "Epoch 228/300\n",
            "\u001b[1m240/240\u001b[0m \u001b[32m━━━━━━━━━━━━━━━━━━━━\u001b[0m\u001b[37m\u001b[0m \u001b[1m2s\u001b[0m 8ms/step - fidelity_metric: 0.6453 - loss: 0.0102 - mean_squared_error: 5.5883e-04 - val_fidelity_metric: 0.6408 - val_loss: 0.0171 - val_mean_squared_error: 0.0016\n",
            "Epoch 229/300\n",
            "\u001b[1m240/240\u001b[0m \u001b[32m━━━━━━━━━━━━━━━━━━━━\u001b[0m\u001b[37m\u001b[0m \u001b[1m2s\u001b[0m 7ms/step - fidelity_metric: 0.6452 - loss: 0.0103 - mean_squared_error: 5.5646e-04 - val_fidelity_metric: 0.6404 - val_loss: 0.0170 - val_mean_squared_error: 0.0016\n",
            "Epoch 230/300\n",
            "\u001b[1m240/240\u001b[0m \u001b[32m━━━━━━━━━━━━━━━━━━━━\u001b[0m\u001b[37m\u001b[0m \u001b[1m2s\u001b[0m 6ms/step - fidelity_metric: 0.6468 - loss: 0.0102 - mean_squared_error: 5.5031e-04 - val_fidelity_metric: 0.6413 - val_loss: 0.0167 - val_mean_squared_error: 0.0016\n",
            "Epoch 231/300\n",
            "\u001b[1m240/240\u001b[0m \u001b[32m━━━━━━━━━━━━━━━━━━━━\u001b[0m\u001b[37m\u001b[0m \u001b[1m1s\u001b[0m 6ms/step - fidelity_metric: 0.6473 - loss: 0.0102 - mean_squared_error: 5.6441e-04 - val_fidelity_metric: 0.6406 - val_loss: 0.0167 - val_mean_squared_error: 0.0016\n",
            "Epoch 232/300\n",
            "\u001b[1m240/240\u001b[0m \u001b[32m━━━━━━━━━━━━━━━━━━━━\u001b[0m\u001b[37m\u001b[0m \u001b[1m1s\u001b[0m 6ms/step - fidelity_metric: 0.6437 - loss: 0.0101 - mean_squared_error: 5.4092e-04 - val_fidelity_metric: 0.6413 - val_loss: 0.0168 - val_mean_squared_error: 0.0016\n",
            "Epoch 233/300\n",
            "\u001b[1m240/240\u001b[0m \u001b[32m━━━━━━━━━━━━━━━━━━━━\u001b[0m\u001b[37m\u001b[0m \u001b[1m3s\u001b[0m 12ms/step - fidelity_metric: 0.6461 - loss: 0.0104 - mean_squared_error: 5.5712e-04 - val_fidelity_metric: 0.6413 - val_loss: 0.0168 - val_mean_squared_error: 0.0016\n",
            "Epoch 234/300\n",
            "\u001b[1m240/240\u001b[0m \u001b[32m━━━━━━━━━━━━━━━━━━━━\u001b[0m\u001b[37m\u001b[0m \u001b[1m7s\u001b[0m 19ms/step - fidelity_metric: 0.6462 - loss: 0.0103 - mean_squared_error: 5.6820e-04 - val_fidelity_metric: 0.6414 - val_loss: 0.0171 - val_mean_squared_error: 0.0016\n",
            "Epoch 235/300\n",
            "\u001b[1m240/240\u001b[0m \u001b[32m━━━━━━━━━━━━━━━━━━━━\u001b[0m\u001b[37m\u001b[0m \u001b[1m3s\u001b[0m 12ms/step - fidelity_metric: 0.6449 - loss: 0.0102 - mean_squared_error: 5.5265e-04 - val_fidelity_metric: 0.6421 - val_loss: 0.0168 - val_mean_squared_error: 0.0016\n",
            "Epoch 236/300\n",
            "\u001b[1m240/240\u001b[0m \u001b[32m━━━━━━━━━━━━━━━━━━━━\u001b[0m\u001b[37m\u001b[0m \u001b[1m4s\u001b[0m 6ms/step - fidelity_metric: 0.6446 - loss: 0.0102 - mean_squared_error: 5.6788e-04 - val_fidelity_metric: 0.6406 - val_loss: 0.0167 - val_mean_squared_error: 0.0016\n",
            "Epoch 237/300\n",
            "\u001b[1m240/240\u001b[0m \u001b[32m━━━━━━━━━━━━━━━━━━━━\u001b[0m\u001b[37m\u001b[0m \u001b[1m2s\u001b[0m 8ms/step - fidelity_metric: 0.6448 - loss: 0.0100 - mean_squared_error: 5.4588e-04 - val_fidelity_metric: 0.6404 - val_loss: 0.0167 - val_mean_squared_error: 0.0015\n",
            "Epoch 238/300\n",
            "\u001b[1m240/240\u001b[0m \u001b[32m━━━━━━━━━━━━━━━━━━━━\u001b[0m\u001b[37m\u001b[0m \u001b[1m2s\u001b[0m 8ms/step - fidelity_metric: 0.6459 - loss: 0.0101 - mean_squared_error: 5.4639e-04 - val_fidelity_metric: 0.6411 - val_loss: 0.0168 - val_mean_squared_error: 0.0016\n",
            "Epoch 239/300\n",
            "\u001b[1m240/240\u001b[0m \u001b[32m━━━━━━━━━━━━━━━━━━━━\u001b[0m\u001b[37m\u001b[0m \u001b[1m2s\u001b[0m 8ms/step - fidelity_metric: 0.6452 - loss: 0.0101 - mean_squared_error: 5.3157e-04 - val_fidelity_metric: 0.6406 - val_loss: 0.0166 - val_mean_squared_error: 0.0015\n",
            "Epoch 240/300\n",
            "\u001b[1m240/240\u001b[0m \u001b[32m━━━━━━━━━━━━━━━━━━━━\u001b[0m\u001b[37m\u001b[0m \u001b[1m2s\u001b[0m 7ms/step - fidelity_metric: 0.6456 - loss: 0.0100 - mean_squared_error: 5.4585e-04 - val_fidelity_metric: 0.6411 - val_loss: 0.0169 - val_mean_squared_error: 0.0016\n",
            "Epoch 241/300\n",
            "\u001b[1m240/240\u001b[0m \u001b[32m━━━━━━━━━━━━━━━━━━━━\u001b[0m\u001b[37m\u001b[0m \u001b[1m3s\u001b[0m 8ms/step - fidelity_metric: 0.6463 - loss: 0.0101 - mean_squared_error: 5.4596e-04 - val_fidelity_metric: 0.6405 - val_loss: 0.0167 - val_mean_squared_error: 0.0016\n",
            "Epoch 242/300\n",
            "\u001b[1m240/240\u001b[0m \u001b[32m━━━━━━━━━━━━━━━━━━━━\u001b[0m\u001b[37m\u001b[0m \u001b[1m3s\u001b[0m 12ms/step - fidelity_metric: 0.6456 - loss: 0.0102 - mean_squared_error: 5.5179e-04 - val_fidelity_metric: 0.6417 - val_loss: 0.0168 - val_mean_squared_error: 0.0016\n",
            "Epoch 243/300\n",
            "\u001b[1m240/240\u001b[0m \u001b[32m━━━━━━━━━━━━━━━━━━━━\u001b[0m\u001b[37m\u001b[0m \u001b[1m4s\u001b[0m 6ms/step - fidelity_metric: 0.6469 - loss: 0.0101 - mean_squared_error: 5.5371e-04 - val_fidelity_metric: 0.6415 - val_loss: 0.0168 - val_mean_squared_error: 0.0016\n",
            "Epoch 244/300\n",
            "\u001b[1m240/240\u001b[0m \u001b[32m━━━━━━━━━━━━━━━━━━━━\u001b[0m\u001b[37m\u001b[0m \u001b[1m2s\u001b[0m 8ms/step - fidelity_metric: 0.6445 - loss: 0.0101 - mean_squared_error: 5.2534e-04 - val_fidelity_metric: 0.6403 - val_loss: 0.0168 - val_mean_squared_error: 0.0016\n",
            "Epoch 245/300\n",
            "\u001b[1m240/240\u001b[0m \u001b[32m━━━━━━━━━━━━━━━━━━━━\u001b[0m\u001b[37m\u001b[0m \u001b[1m2s\u001b[0m 7ms/step - fidelity_metric: 0.6463 - loss: 0.0101 - mean_squared_error: 5.2171e-04 - val_fidelity_metric: 0.6407 - val_loss: 0.0168 - val_mean_squared_error: 0.0016\n",
            "Epoch 246/300\n",
            "\u001b[1m240/240\u001b[0m \u001b[32m━━━━━━━━━━━━━━━━━━━━\u001b[0m\u001b[37m\u001b[0m \u001b[1m2s\u001b[0m 6ms/step - fidelity_metric: 0.6450 - loss: 0.0101 - mean_squared_error: 5.5553e-04 - val_fidelity_metric: 0.6413 - val_loss: 0.0167 - val_mean_squared_error: 0.0016\n",
            "Epoch 247/300\n",
            "\u001b[1m240/240\u001b[0m \u001b[32m━━━━━━━━━━━━━━━━━━━━\u001b[0m\u001b[37m\u001b[0m \u001b[1m2s\u001b[0m 6ms/step - fidelity_metric: 0.6447 - loss: 0.0102 - mean_squared_error: 5.6222e-04 - val_fidelity_metric: 0.6402 - val_loss: 0.0170 - val_mean_squared_error: 0.0016\n",
            "Epoch 248/300\n",
            "\u001b[1m240/240\u001b[0m \u001b[32m━━━━━━━━━━━━━━━━━━━━\u001b[0m\u001b[37m\u001b[0m \u001b[1m3s\u001b[0m 8ms/step - fidelity_metric: 0.6464 - loss: 0.0100 - mean_squared_error: 5.2068e-04 - val_fidelity_metric: 0.6402 - val_loss: 0.0169 - val_mean_squared_error: 0.0016\n",
            "Epoch 249/300\n",
            "\u001b[1m240/240\u001b[0m \u001b[32m━━━━━━━━━━━━━━━━━━━━\u001b[0m\u001b[37m\u001b[0m \u001b[1m3s\u001b[0m 11ms/step - fidelity_metric: 0.6450 - loss: 0.0103 - mean_squared_error: 5.5638e-04 - val_fidelity_metric: 0.6408 - val_loss: 0.0170 - val_mean_squared_error: 0.0016\n",
            "Epoch 250/300\n",
            "\u001b[1m240/240\u001b[0m \u001b[32m━━━━━━━━━━━━━━━━━━━━\u001b[0m\u001b[37m\u001b[0m \u001b[1m2s\u001b[0m 7ms/step - fidelity_metric: 0.6452 - loss: 0.0101 - mean_squared_error: 5.4041e-04 - val_fidelity_metric: 0.6405 - val_loss: 0.0166 - val_mean_squared_error: 0.0015\n",
            "Epoch 251/300\n",
            "\u001b[1m240/240\u001b[0m \u001b[32m━━━━━━━━━━━━━━━━━━━━\u001b[0m\u001b[37m\u001b[0m \u001b[1m2s\u001b[0m 9ms/step - fidelity_metric: 0.6447 - loss: 0.0101 - mean_squared_error: 5.4755e-04 - val_fidelity_metric: 0.6407 - val_loss: 0.0171 - val_mean_squared_error: 0.0016\n",
            "Epoch 252/300\n",
            "\u001b[1m240/240\u001b[0m \u001b[32m━━━━━━━━━━━━━━━━━━━━\u001b[0m\u001b[37m\u001b[0m \u001b[1m2s\u001b[0m 8ms/step - fidelity_metric: 0.6449 - loss: 0.0099 - mean_squared_error: 5.3341e-04 - val_fidelity_metric: 0.6412 - val_loss: 0.0168 - val_mean_squared_error: 0.0016\n",
            "Epoch 253/300\n",
            "\u001b[1m240/240\u001b[0m \u001b[32m━━━━━━━━━━━━━━━━━━━━\u001b[0m\u001b[37m\u001b[0m \u001b[1m3s\u001b[0m 11ms/step - fidelity_metric: 0.6460 - loss: 0.0101 - mean_squared_error: 5.5753e-04 - val_fidelity_metric: 0.6406 - val_loss: 0.0168 - val_mean_squared_error: 0.0016\n",
            "Epoch 254/300\n",
            "\u001b[1m240/240\u001b[0m \u001b[32m━━━━━━━━━━━━━━━━━━━━\u001b[0m\u001b[37m\u001b[0m \u001b[1m2s\u001b[0m 9ms/step - fidelity_metric: 0.6449 - loss: 0.0101 - mean_squared_error: 5.5591e-04 - val_fidelity_metric: 0.6412 - val_loss: 0.0169 - val_mean_squared_error: 0.0016\n",
            "Epoch 255/300\n",
            "\u001b[1m240/240\u001b[0m \u001b[32m━━━━━━━━━━━━━━━━━━━━\u001b[0m\u001b[37m\u001b[0m \u001b[1m3s\u001b[0m 13ms/step - fidelity_metric: 0.6468 - loss: 0.0100 - mean_squared_error: 5.2229e-04 - val_fidelity_metric: 0.6414 - val_loss: 0.0168 - val_mean_squared_error: 0.0016\n",
            "Epoch 256/300\n",
            "\u001b[1m240/240\u001b[0m \u001b[32m━━━━━━━━━━━━━━━━━━━━\u001b[0m\u001b[37m\u001b[0m \u001b[1m4s\u001b[0m 8ms/step - fidelity_metric: 0.6459 - loss: 0.0100 - mean_squared_error: 5.2428e-04 - val_fidelity_metric: 0.6410 - val_loss: 0.0169 - val_mean_squared_error: 0.0016\n",
            "Epoch 257/300\n",
            "\u001b[1m240/240\u001b[0m \u001b[32m━━━━━━━━━━━━━━━━━━━━\u001b[0m\u001b[37m\u001b[0m \u001b[1m2s\u001b[0m 8ms/step - fidelity_metric: 0.6452 - loss: 0.0100 - mean_squared_error: 5.3380e-04 - val_fidelity_metric: 0.6405 - val_loss: 0.0171 - val_mean_squared_error: 0.0016\n",
            "Epoch 258/300\n",
            "\u001b[1m240/240\u001b[0m \u001b[32m━━━━━━━━━━━━━━━━━━━━\u001b[0m\u001b[37m\u001b[0m \u001b[1m3s\u001b[0m 12ms/step - fidelity_metric: 0.6453 - loss: 0.0100 - mean_squared_error: 5.3609e-04 - val_fidelity_metric: 0.6410 - val_loss: 0.0169 - val_mean_squared_error: 0.0016\n",
            "Epoch 259/300\n",
            "\u001b[1m240/240\u001b[0m \u001b[32m━━━━━━━━━━━━━━━━━━━━\u001b[0m\u001b[37m\u001b[0m \u001b[1m2s\u001b[0m 9ms/step - fidelity_metric: 0.6459 - loss: 0.0099 - mean_squared_error: 5.4764e-04 - val_fidelity_metric: 0.6416 - val_loss: 0.0165 - val_mean_squared_error: 0.0015\n",
            "Epoch 260/300\n",
            "\u001b[1m240/240\u001b[0m \u001b[32m━━━━━━━━━━━━━━━━━━━━\u001b[0m\u001b[37m\u001b[0m \u001b[1m2s\u001b[0m 6ms/step - fidelity_metric: 0.6459 - loss: 0.0098 - mean_squared_error: 5.2880e-04 - val_fidelity_metric: 0.6411 - val_loss: 0.0170 - val_mean_squared_error: 0.0016\n",
            "Epoch 261/300\n",
            "\u001b[1m240/240\u001b[0m \u001b[32m━━━━━━━━━━━━━━━━━━━━\u001b[0m\u001b[37m\u001b[0m \u001b[1m1s\u001b[0m 6ms/step - fidelity_metric: 0.6457 - loss: 0.0099 - mean_squared_error: 5.0238e-04 - val_fidelity_metric: 0.6413 - val_loss: 0.0168 - val_mean_squared_error: 0.0015\n",
            "Epoch 262/300\n",
            "\u001b[1m240/240\u001b[0m \u001b[32m━━━━━━━━━━━━━━━━━━━━\u001b[0m\u001b[37m\u001b[0m \u001b[1m1s\u001b[0m 6ms/step - fidelity_metric: 0.6451 - loss: 0.0099 - mean_squared_error: 5.2611e-04 - val_fidelity_metric: 0.6413 - val_loss: 0.0168 - val_mean_squared_error: 0.0016\n",
            "Epoch 263/300\n",
            "\u001b[1m240/240\u001b[0m \u001b[32m━━━━━━━━━━━━━━━━━━━━\u001b[0m\u001b[37m\u001b[0m \u001b[1m1s\u001b[0m 6ms/step - fidelity_metric: 0.6460 - loss: 0.0098 - mean_squared_error: 5.0425e-04 - val_fidelity_metric: 0.6408 - val_loss: 0.0166 - val_mean_squared_error: 0.0015\n",
            "Epoch 264/300\n",
            "\u001b[1m240/240\u001b[0m \u001b[32m━━━━━━━━━━━━━━━━━━━━\u001b[0m\u001b[37m\u001b[0m \u001b[1m3s\u001b[0m 10ms/step - fidelity_metric: 0.6465 - loss: 0.0099 - mean_squared_error: 5.2083e-04 - val_fidelity_metric: 0.6414 - val_loss: 0.0168 - val_mean_squared_error: 0.0015\n",
            "Epoch 265/300\n",
            "\u001b[1m240/240\u001b[0m \u001b[32m━━━━━━━━━━━━━━━━━━━━\u001b[0m\u001b[37m\u001b[0m \u001b[1m2s\u001b[0m 6ms/step - fidelity_metric: 0.6458 - loss: 0.0100 - mean_squared_error: 5.1403e-04 - val_fidelity_metric: 0.6413 - val_loss: 0.0169 - val_mean_squared_error: 0.0016\n",
            "Epoch 266/300\n",
            "\u001b[1m240/240\u001b[0m \u001b[32m━━━━━━━━━━━━━━━━━━━━\u001b[0m\u001b[37m\u001b[0m \u001b[1m3s\u001b[0m 10ms/step - fidelity_metric: 0.6444 - loss: 0.0098 - mean_squared_error: 5.0961e-04 - val_fidelity_metric: 0.6416 - val_loss: 0.0164 - val_mean_squared_error: 0.0015\n",
            "Epoch 267/300\n",
            "\u001b[1m240/240\u001b[0m \u001b[32m━━━━━━━━━━━━━━━━━━━━\u001b[0m\u001b[37m\u001b[0m \u001b[1m2s\u001b[0m 6ms/step - fidelity_metric: 0.6470 - loss: 0.0097 - mean_squared_error: 4.9778e-04 - val_fidelity_metric: 0.6417 - val_loss: 0.0169 - val_mean_squared_error: 0.0015\n",
            "Epoch 268/300\n",
            "\u001b[1m240/240\u001b[0m \u001b[32m━━━━━━━━━━━━━━━━━━━━\u001b[0m\u001b[37m\u001b[0m \u001b[1m2s\u001b[0m 6ms/step - fidelity_metric: 0.6454 - loss: 0.0100 - mean_squared_error: 5.1974e-04 - val_fidelity_metric: 0.6407 - val_loss: 0.0169 - val_mean_squared_error: 0.0016\n",
            "Epoch 269/300\n",
            "\u001b[1m240/240\u001b[0m \u001b[32m━━━━━━━━━━━━━━━━━━━━\u001b[0m\u001b[37m\u001b[0m \u001b[1m1s\u001b[0m 6ms/step - fidelity_metric: 0.6451 - loss: 0.0098 - mean_squared_error: 4.9102e-04 - val_fidelity_metric: 0.6408 - val_loss: 0.0168 - val_mean_squared_error: 0.0016\n",
            "Epoch 270/300\n",
            "\u001b[1m240/240\u001b[0m \u001b[32m━━━━━━━━━━━━━━━━━━━━\u001b[0m\u001b[37m\u001b[0m \u001b[1m2s\u001b[0m 8ms/step - fidelity_metric: 0.6449 - loss: 0.0099 - mean_squared_error: 5.1550e-04 - val_fidelity_metric: 0.6412 - val_loss: 0.0167 - val_mean_squared_error: 0.0015\n",
            "Epoch 271/300\n",
            "\u001b[1m240/240\u001b[0m \u001b[32m━━━━━━━━━━━━━━━━━━━━\u001b[0m\u001b[37m\u001b[0m \u001b[1m2s\u001b[0m 6ms/step - fidelity_metric: 0.6463 - loss: 0.0097 - mean_squared_error: 4.9708e-04 - val_fidelity_metric: 0.6413 - val_loss: 0.0166 - val_mean_squared_error: 0.0015\n",
            "Epoch 272/300\n",
            "\u001b[1m240/240\u001b[0m \u001b[32m━━━━━━━━━━━━━━━━━━━━\u001b[0m\u001b[37m\u001b[0m \u001b[1m1s\u001b[0m 6ms/step - fidelity_metric: 0.6468 - loss: 0.0098 - mean_squared_error: 5.1200e-04 - val_fidelity_metric: 0.6405 - val_loss: 0.0169 - val_mean_squared_error: 0.0016\n",
            "Epoch 273/300\n",
            "\u001b[1m240/240\u001b[0m \u001b[32m━━━━━━━━━━━━━━━━━━━━\u001b[0m\u001b[37m\u001b[0m \u001b[1m3s\u001b[0m 6ms/step - fidelity_metric: 0.6450 - loss: 0.0098 - mean_squared_error: 5.0681e-04 - val_fidelity_metric: 0.6408 - val_loss: 0.0168 - val_mean_squared_error: 0.0016\n",
            "Epoch 274/300\n",
            "\u001b[1m240/240\u001b[0m \u001b[32m━━━━━━━━━━━━━━━━━━━━\u001b[0m\u001b[37m\u001b[0m \u001b[1m3s\u001b[0m 6ms/step - fidelity_metric: 0.6459 - loss: 0.0099 - mean_squared_error: 5.0479e-04 - val_fidelity_metric: 0.6403 - val_loss: 0.0169 - val_mean_squared_error: 0.0016\n",
            "Epoch 275/300\n",
            "\u001b[1m240/240\u001b[0m \u001b[32m━━━━━━━━━━━━━━━━━━━━\u001b[0m\u001b[37m\u001b[0m \u001b[1m1s\u001b[0m 6ms/step - fidelity_metric: 0.6478 - loss: 0.0095 - mean_squared_error: 4.7456e-04 - val_fidelity_metric: 0.6412 - val_loss: 0.0168 - val_mean_squared_error: 0.0015\n",
            "Epoch 276/300\n",
            "\u001b[1m240/240\u001b[0m \u001b[32m━━━━━━━━━━━━━━━━━━━━\u001b[0m\u001b[37m\u001b[0m \u001b[1m3s\u001b[0m 9ms/step - fidelity_metric: 0.6463 - loss: 0.0097 - mean_squared_error: 4.9847e-04 - val_fidelity_metric: 0.6419 - val_loss: 0.0167 - val_mean_squared_error: 0.0016\n",
            "Epoch 277/300\n",
            "\u001b[1m240/240\u001b[0m \u001b[32m━━━━━━━━━━━━━━━━━━━━\u001b[0m\u001b[37m\u001b[0m \u001b[1m2s\u001b[0m 6ms/step - fidelity_metric: 0.6469 - loss: 0.0098 - mean_squared_error: 4.9644e-04 - val_fidelity_metric: 0.6406 - val_loss: 0.0173 - val_mean_squared_error: 0.0016\n",
            "Epoch 278/300\n",
            "\u001b[1m240/240\u001b[0m \u001b[32m━━━━━━━━━━━━━━━━━━━━\u001b[0m\u001b[37m\u001b[0m \u001b[1m3s\u001b[0m 9ms/step - fidelity_metric: 0.6467 - loss: 0.0099 - mean_squared_error: 5.0275e-04 - val_fidelity_metric: 0.6418 - val_loss: 0.0166 - val_mean_squared_error: 0.0015\n",
            "Epoch 279/300\n",
            "\u001b[1m240/240\u001b[0m \u001b[32m━━━━━━━━━━━━━━━━━━━━\u001b[0m\u001b[37m\u001b[0m \u001b[1m2s\u001b[0m 6ms/step - fidelity_metric: 0.6469 - loss: 0.0096 - mean_squared_error: 4.9870e-04 - val_fidelity_metric: 0.6413 - val_loss: 0.0169 - val_mean_squared_error: 0.0016\n",
            "Epoch 280/300\n",
            "\u001b[1m240/240\u001b[0m \u001b[32m━━━━━━━━━━━━━━━━━━━━\u001b[0m\u001b[37m\u001b[0m \u001b[1m1s\u001b[0m 6ms/step - fidelity_metric: 0.6466 - loss: 0.0098 - mean_squared_error: 5.0253e-04 - val_fidelity_metric: 0.6415 - val_loss: 0.0167 - val_mean_squared_error: 0.0015\n",
            "Epoch 281/300\n",
            "\u001b[1m240/240\u001b[0m \u001b[32m━━━━━━━━━━━━━━━━━━━━\u001b[0m\u001b[37m\u001b[0m \u001b[1m3s\u001b[0m 8ms/step - fidelity_metric: 0.6460 - loss: 0.0097 - mean_squared_error: 4.9529e-04 - val_fidelity_metric: 0.6412 - val_loss: 0.0167 - val_mean_squared_error: 0.0015\n",
            "Epoch 282/300\n",
            "\u001b[1m240/240\u001b[0m \u001b[32m━━━━━━━━━━━━━━━━━━━━\u001b[0m\u001b[37m\u001b[0m \u001b[1m2s\u001b[0m 10ms/step - fidelity_metric: 0.6460 - loss: 0.0097 - mean_squared_error: 4.9695e-04 - val_fidelity_metric: 0.6412 - val_loss: 0.0165 - val_mean_squared_error: 0.0015\n",
            "Epoch 283/300\n",
            "\u001b[1m240/240\u001b[0m \u001b[32m━━━━━━━━━━━━━━━━━━━━\u001b[0m\u001b[37m\u001b[0m \u001b[1m2s\u001b[0m 6ms/step - fidelity_metric: 0.6445 - loss: 0.0096 - mean_squared_error: 4.7947e-04 - val_fidelity_metric: 0.6412 - val_loss: 0.0167 - val_mean_squared_error: 0.0016\n",
            "Epoch 284/300\n",
            "\u001b[1m240/240\u001b[0m \u001b[32m━━━━━━━━━━━━━━━━━━━━\u001b[0m\u001b[37m\u001b[0m \u001b[1m3s\u001b[0m 6ms/step - fidelity_metric: 0.6453 - loss: 0.0097 - mean_squared_error: 4.9091e-04 - val_fidelity_metric: 0.6416 - val_loss: 0.0166 - val_mean_squared_error: 0.0015\n",
            "Epoch 285/300\n",
            "\u001b[1m240/240\u001b[0m \u001b[32m━━━━━━━━━━━━━━━━━━━━\u001b[0m\u001b[37m\u001b[0m \u001b[1m2s\u001b[0m 6ms/step - fidelity_metric: 0.6455 - loss: 0.0097 - mean_squared_error: 4.8624e-04 - val_fidelity_metric: 0.6404 - val_loss: 0.0170 - val_mean_squared_error: 0.0016\n",
            "Epoch 286/300\n",
            "\u001b[1m240/240\u001b[0m \u001b[32m━━━━━━━━━━━━━━━━━━━━\u001b[0m\u001b[37m\u001b[0m \u001b[1m2s\u001b[0m 6ms/step - fidelity_metric: 0.6463 - loss: 0.0097 - mean_squared_error: 4.7695e-04 - val_fidelity_metric: 0.6408 - val_loss: 0.0168 - val_mean_squared_error: 0.0016\n",
            "Epoch 287/300\n",
            "\u001b[1m240/240\u001b[0m \u001b[32m━━━━━━━━━━━━━━━━━━━━\u001b[0m\u001b[37m\u001b[0m \u001b[1m3s\u001b[0m 7ms/step - fidelity_metric: 0.6458 - loss: 0.0096 - mean_squared_error: 4.9237e-04 - val_fidelity_metric: 0.6421 - val_loss: 0.0166 - val_mean_squared_error: 0.0015\n",
            "Epoch 288/300\n",
            "\u001b[1m240/240\u001b[0m \u001b[32m━━━━━━━━━━━━━━━━━━━━\u001b[0m\u001b[37m\u001b[0m \u001b[1m2s\u001b[0m 9ms/step - fidelity_metric: 0.6471 - loss: 0.0097 - mean_squared_error: 4.9301e-04 - val_fidelity_metric: 0.6406 - val_loss: 0.0169 - val_mean_squared_error: 0.0016\n",
            "Epoch 289/300\n",
            "\u001b[1m240/240\u001b[0m \u001b[32m━━━━━━━━━━━━━━━━━━━━\u001b[0m\u001b[37m\u001b[0m \u001b[1m2s\u001b[0m 6ms/step - fidelity_metric: 0.6458 - loss: 0.0097 - mean_squared_error: 4.9263e-04 - val_fidelity_metric: 0.6409 - val_loss: 0.0168 - val_mean_squared_error: 0.0016\n",
            "Epoch 290/300\n",
            "\u001b[1m240/240\u001b[0m \u001b[32m━━━━━━━━━━━━━━━━━━━━\u001b[0m\u001b[37m\u001b[0m \u001b[1m1s\u001b[0m 6ms/step - fidelity_metric: 0.6461 - loss: 0.0096 - mean_squared_error: 4.8018e-04 - val_fidelity_metric: 0.6418 - val_loss: 0.0168 - val_mean_squared_error: 0.0015\n",
            "Epoch 291/300\n",
            "\u001b[1m240/240\u001b[0m \u001b[32m━━━━━━━━━━━━━━━━━━━━\u001b[0m\u001b[37m\u001b[0m \u001b[1m3s\u001b[0m 6ms/step - fidelity_metric: 0.6470 - loss: 0.0096 - mean_squared_error: 4.8062e-04 - val_fidelity_metric: 0.6412 - val_loss: 0.0167 - val_mean_squared_error: 0.0015\n",
            "Epoch 292/300\n",
            "\u001b[1m240/240\u001b[0m \u001b[32m━━━━━━━━━━━━━━━━━━━━\u001b[0m\u001b[37m\u001b[0m \u001b[1m3s\u001b[0m 6ms/step - fidelity_metric: 0.6445 - loss: 0.0096 - mean_squared_error: 4.9140e-04 - val_fidelity_metric: 0.6409 - val_loss: 0.0168 - val_mean_squared_error: 0.0016\n",
            "Epoch 293/300\n",
            "\u001b[1m240/240\u001b[0m \u001b[32m━━━━━━━━━━━━━━━━━━━━\u001b[0m\u001b[37m\u001b[0m \u001b[1m1s\u001b[0m 6ms/step - fidelity_metric: 0.6472 - loss: 0.0096 - mean_squared_error: 4.8773e-04 - val_fidelity_metric: 0.6422 - val_loss: 0.0166 - val_mean_squared_error: 0.0015\n",
            "Epoch 294/300\n",
            "\u001b[1m240/240\u001b[0m \u001b[32m━━━━━━━━━━━━━━━━━━━━\u001b[0m\u001b[37m\u001b[0m \u001b[1m2s\u001b[0m 10ms/step - fidelity_metric: 0.6468 - loss: 0.0097 - mean_squared_error: 5.1432e-04 - val_fidelity_metric: 0.6418 - val_loss: 0.0167 - val_mean_squared_error: 0.0016\n",
            "Epoch 295/300\n",
            "\u001b[1m240/240\u001b[0m \u001b[32m━━━━━━━━━━━━━━━━━━━━\u001b[0m\u001b[37m\u001b[0m \u001b[1m2s\u001b[0m 6ms/step - fidelity_metric: 0.6464 - loss: 0.0095 - mean_squared_error: 4.7251e-04 - val_fidelity_metric: 0.6419 - val_loss: 0.0168 - val_mean_squared_error: 0.0015\n",
            "Epoch 296/300\n",
            "\u001b[1m240/240\u001b[0m \u001b[32m━━━━━━━━━━━━━━━━━━━━\u001b[0m\u001b[37m\u001b[0m \u001b[1m2s\u001b[0m 6ms/step - fidelity_metric: 0.6444 - loss: 0.0097 - mean_squared_error: 4.9898e-04 - val_fidelity_metric: 0.6406 - val_loss: 0.0169 - val_mean_squared_error: 0.0016\n",
            "Epoch 297/300\n",
            "\u001b[1m240/240\u001b[0m \u001b[32m━━━━━━━━━━━━━━━━━━━━\u001b[0m\u001b[37m\u001b[0m \u001b[1m3s\u001b[0m 6ms/step - fidelity_metric: 0.6454 - loss: 0.0095 - mean_squared_error: 4.7665e-04 - val_fidelity_metric: 0.6414 - val_loss: 0.0165 - val_mean_squared_error: 0.0015\n",
            "Epoch 298/300\n",
            "\u001b[1m240/240\u001b[0m \u001b[32m━━━━━━━━━━━━━━━━━━━━\u001b[0m\u001b[37m\u001b[0m \u001b[1m3s\u001b[0m 6ms/step - fidelity_metric: 0.6466 - loss: 0.0093 - mean_squared_error: 4.5587e-04 - val_fidelity_metric: 0.6413 - val_loss: 0.0165 - val_mean_squared_error: 0.0015\n",
            "Epoch 299/300\n",
            "\u001b[1m240/240\u001b[0m \u001b[32m━━━━━━━━━━━━━━━━━━━━\u001b[0m\u001b[37m\u001b[0m \u001b[1m3s\u001b[0m 8ms/step - fidelity_metric: 0.6458 - loss: 0.0094 - mean_squared_error: 4.6636e-04 - val_fidelity_metric: 0.6415 - val_loss: 0.0166 - val_mean_squared_error: 0.0015\n",
            "Epoch 300/300\n",
            "\u001b[1m240/240\u001b[0m \u001b[32m━━━━━━━━━━━━━━━━━━━━\u001b[0m\u001b[37m\u001b[0m \u001b[1m3s\u001b[0m 9ms/step - fidelity_metric: 0.6460 - loss: 0.0096 - mean_squared_error: 4.8358e-04 - val_fidelity_metric: 0.6424 - val_loss: 0.0167 - val_mean_squared_error: 0.0015\n"
          ]
        }
      ]
    },
    {
      "cell_type": "code",
      "source": [
        "plt.semilogy(1-(history1.history['fidelity_metric']/np.max(history1.history['fidelity_metric'])))\n",
        "plt.xlabel('Epoch')\n",
        "plt.ylabel('1 - Fidelity')"
      ],
      "metadata": {
        "colab": {
          "base_uri": "https://localhost:8080/",
          "height": 467
        },
        "id": "eKMVoK_y1nTu",
        "outputId": "9c1c067d-08d4-44a8-a6d7-9c6def5bb123"
      },
      "execution_count": 29,
      "outputs": [
        {
          "output_type": "execute_result",
          "data": {
            "text/plain": [
              "Text(0, 0.5, '1 - Fidelity')"
            ]
          },
          "metadata": {},
          "execution_count": 29
        },
        {
          "output_type": "display_data",
          "data": {
            "text/plain": [
              "<Figure size 640x480 with 1 Axes>"
            ],
            "image/png": "[encoded data removed]"
          },
          "metadata": {}
        }
      ]
    },
    {
      "cell_type": "code",
      "source": [
        "n_tests, tau_tests, rho_tests = gen_nvals_taus_rhos(500,d)"
      ],
      "metadata": {
        "colab": {
          "base_uri": "https://localhost:8080/"
        },
        "id": "RZa2SN-1BYbP",
        "outputId": "4e6b8c4e-e9e2-45b4-ddee-3b2df8d75ef2"
      },
      "execution_count": 26,
      "outputs": [
        {
          "output_type": "stream",
          "name": "stderr",
          "text": [
            "<ipython-input-9-e382a3503c8c>:30: ComplexWarning: Casting complex values to real discards the imaginary part\n",
            "  nvals[i1,index] = np.trace(rho@proj)\n"
          ]
        }
      ]
    },
    {
      "cell_type": "code",
      "source": [
        "tau_nns = model1.predict(n_tests)"
      ],
      "metadata": {
        "colab": {
          "base_uri": "https://localhost:8080/"
        },
        "id": "3DepWeqkE5QH",
        "outputId": "81748e40-fa8a-423d-97ce-f1f288138936"
      },
      "execution_count": 27,
      "outputs": [
        {
          "output_type": "stream",
          "name": "stdout",
          "text": [
            "\u001b[1m16/16\u001b[0m \u001b[32m━━━━━━━━━━━━━━━━━━━━\u001b[0m\u001b[37m\u001b[0m \u001b[1m1s\u001b[0m 25ms/step\n"
          ]
        }
      ]
    },
    {
      "cell_type": "code",
      "source": [
        "fidelities = np.zeros(len(tau_nns))\n",
        "index = 0\n",
        "for nns, tests in zip(tau_nns,tau_tests):\n",
        "  fidelities[index] = fid_taus(tests,nns)\n",
        "  index += 1"
      ],
      "metadata": {
        "id": "y6e_4pIwXGip"
      },
      "execution_count": 29,
      "outputs": []
    },
    {
      "cell_type": "code",
      "source": [
        "print(f'Average fidelity over {len(tau_nns)} test matrices is {np.mean(fidelities)*100:.2f} ± {np.std(fidelities)*100/np.sqrt(len(fidelities)):.2f} %')"
      ],
      "metadata": {
        "colab": {
          "base_uri": "https://localhost:8080/"
        },
        "id": "79XByAeoYkcV",
        "outputId": "67bbf493-49b8-4422-bd69-87f37497bc3a"
      },
      "execution_count": 30,
      "outputs": [
        {
          "output_type": "stream",
          "name": "stdout",
          "text": [
            "Average fidelity over 500 test matrices is 99.03 ± 0.12 %\n"
          ]
        }
      ]
    },
    {
      "cell_type": "code",
      "source": [
        "from google.colab import drive\n",
        "drive.mount('/content/drive')"
      ],
      "metadata": {
        "colab": {
          "base_uri": "https://localhost:8080/"
        },
        "id": "D9tirSJcL3Xz",
        "outputId": "36964b1b-05b6-40e0-8cce-8c848413f3d6"
      },
      "execution_count": 36,
      "outputs": [
        {
          "output_type": "stream",
          "name": "stdout",
          "text": [
            "Mounted at /content/drive\n"
          ]
        }
      ]
    },
    {
      "cell_type": "code",
      "source": [
        "save_dir = '/content/drive/MyDrive'"
      ],
      "metadata": {
        "id": "KUu8giZOMSTW"
      },
      "execution_count": 38,
      "outputs": []
    },
    {
      "cell_type": "code",
      "source": [
        "import os\n",
        "\n",
        "model_save_path = os.path.join(save_dir, '2d_trained_model.keras')"
      ],
      "metadata": {
        "id": "5OPUH5tmMZGl"
      },
      "execution_count": 41,
      "outputs": []
    },
    {
      "cell_type": "code",
      "source": [
        "model1.save(model_save_path)"
      ],
      "metadata": {
        "id": "7R1Z5EvmKtKQ"
      },
      "execution_count": 42,
      "outputs": []
    },
    {
      "cell_type": "code",
      "source": [
        "tau_nn = model.predict(nvals_t)"
      ],
      "metadata": {
        "colab": {
          "base_uri": "https://localhost:8080/"
        },
        "id": "-IRq9AXqLmi5",
        "outputId": "c13de403-19fd-4a76-f5e6-3cf29e8694da"
      },
      "execution_count": null,
      "outputs": [
        {
          "output_type": "stream",
          "name": "stdout",
          "text": [
            "\u001b[1m1/1\u001b[0m \u001b[32m━━━━━━━━━━━━━━━━━━━━\u001b[0m\u001b[37m\u001b[0m \u001b[1m0s\u001b[0m 16ms/step\n"
          ]
        }
      ]
    },
    {
      "cell_type": "code",
      "source": [
        "print(no_data,d)"
      ],
      "metadata": {
        "colab": {
          "base_uri": "https://localhost:8080/"
        },
        "id": "nA5WJZ75NPRy",
        "outputId": "5387a5a1-b31f-4cdb-ea55-5c52ad6ed5d1"
      },
      "execution_count": null,
      "outputs": [
        {
          "output_type": "stream",
          "name": "stdout",
          "text": [
            "30000 2\n"
          ]
        }
      ]
    },
    {
      "cell_type": "code",
      "source": [
        "from scipy.linalg import sqrtm"
      ],
      "metadata": {
        "id": "9QxMyTvbM5d5"
      },
      "execution_count": 23,
      "outputs": []
    },
    {
      "cell_type": "code",
      "source": [
        "def fidelity(rho_t, rho_nn):\n",
        "    sqrt_nn = sqrtm(rho_nn)\n",
        "    matrix = sqrt_nn@rho_t@sqrt_nn\n",
        "    tr = np.trace(sqrtm(matrix))\n",
        "    return np.abs(tr)**2"
      ],
      "metadata": {
        "id": "PCzrrPj1NHcx"
      },
      "execution_count": 24,
      "outputs": []
    },
    {
      "cell_type": "code",
      "source": [
        "def fid_taus(tau_t, tau_nn):\n",
        "    rho_t = reconstruct_matrix_t(tau_t)\n",
        "    rho_nn = reconstruct_matrix_nn(tau_nn)\n",
        "    return fidelity(rho_t, rho_nn)"
      ],
      "metadata": {
        "id": "bLf7oi80WhB_"
      },
      "execution_count": 25,
      "outputs": []
    },
    {
      "cell_type": "code",
      "source": [
        "fidelity(test_rhos[0], rho_nn)"
      ],
      "metadata": {
        "colab": {
          "base_uri": "https://localhost:8080/"
        },
        "id": "d3oOMPcvN3Cw",
        "outputId": "b18b3b74-d794-41b0-a8b2-bf8eebac147c"
      },
      "execution_count": null,
      "outputs": [
        {
          "output_type": "execute_result",
          "data": {
            "text/plain": [
              "0.99948127099706151087"
            ]
          },
          "metadata": {},
          "execution_count": 161
        }
      ]
    }
  ]
}